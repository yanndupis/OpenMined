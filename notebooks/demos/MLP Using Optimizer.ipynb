{
 "cells": [
  {
   "cell_type": "code",
   "execution_count": null,
   "metadata": {},
   "outputs": [],
   "source": [
    "import syft\n",
    "import syft.nn as nn\n",
    "import syft.optim as optim\n",
    "from syft.controller import models, tensors\n",
    "import imp\n",
    "imp.reload(syft)\n",
    "imp.reload(syft.nn)\n",
    "\n",
    "import numpy as np\n",
    "from syft import FloatTensor\n",
    "\n",
    "model = nn.Sequential([\n",
    "    nn.Linear(3,4),\n",
    "    nn.ReLU(),\n",
    "#     nn.Dropout(0.05),\n",
    "    nn.Linear(4,2),\n",
    "    nn.Softmax(1),\n",
    "    nn.Log()\n",
    "])\n",
    "\n",
    "model.summary()\n",
    "\n",
    "optimizer = optim.SGD(model.parameters(), \n",
    "                      lr=0.1, \n",
    "                      momentum=0.9,\n",
    "                      decay=0.001)\n",
    "criterion = syft.nn.NLLLoss()"
   ]
  },
  {
   "cell_type": "code",
   "execution_count": null,
   "metadata": {},
   "outputs": [],
   "source": [
    "input = FloatTensor([[0,0,1],[0,1.0,1],[1,0,1],[1,1,1]]*2000,autograd=True)\n",
    "target = FloatTensor([[0,0],[0,0],[0,1],[0,1]]*2000,autograd=True)"
   ]
  },
  {
   "cell_type": "code",
   "execution_count": null,
   "metadata": {},
   "outputs": [],
   "source": [
    "final_loss = model.fit(input=input,\n",
    "                       target=target,                       \n",
    "                       batch_size=100,\n",
    "                       criterion=criterion,\n",
    "                       optim=optimizer,\n",
    "                       iters=10,log_interval=4)\n",
    "final_loss"
   ]
  },
  {
   "cell_type": "code",
   "execution_count": null,
   "metadata": {},
   "outputs": [],
   "source": []
  }
 ],
 "metadata": {
  "kernelspec": {
   "display_name": "Python 3",
   "language": "python",
   "name": "python3"
  },
  "language_info": {
   "codemirror_mode": {
    "name": "ipython",
    "version": 3
   },
   "file_extension": ".py",
   "mimetype": "text/x-python",
   "name": "python",
   "nbconvert_exporter": "python",
   "pygments_lexer": "ipython3",
   "version": "3.5.2"
  }
 },
 "nbformat": 4,
 "nbformat_minor": 2
}

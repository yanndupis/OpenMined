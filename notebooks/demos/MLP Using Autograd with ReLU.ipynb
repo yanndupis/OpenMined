{
 "cells": [
  {
   "cell_type": "code",
   "execution_count": 1,
   "metadata": {
    "collapsed": true
   },
   "outputs": [],
   "source": [
    "import syft\n",
    "import syft.nn as nn\n",
    "from syft.controller import tensors, models\n",
    "import imp\n",
    "imp.reload(syft.controller)\n",
    "imp.reload(syft.nn)\n",
    "imp.reload(syft)\n",
    "\n",
    "import numpy as np\n",
    "from syft import FloatTensor\n",
    "import torch\n",
    "from torch.autograd import Variable"
   ]
  },
  {
   "cell_type": "code",
   "execution_count": 2,
   "metadata": {
    "collapsed": true
   },
   "outputs": [],
   "source": [
    "input = FloatTensor([[0,0,1],[0,1.0,1],[1,0,1],[1,1,1]], autograd=True)\n",
    "target = FloatTensor([[0],[0],[1],[1]]).autograd(True)\n",
    "grad = FloatTensor([[1],[1],[1],[1]]).autograd(False)\n",
    "\n",
    "np.random.seed(1)\n",
    "\n",
    "weights1 = FloatTensor(np.random.rand(3,4)).autograd(True)\n",
    "weights2_data = np.array([0.2044522,0.8781174,-0.02738759,-0.6704675])\n",
    "weights2_data.shape = (4,1)\n",
    "weights2 = FloatTensor(weights2_data).autograd(True)\n",
    "\n",
    "input_t = Variable(torch.FloatTensor(input.to_numpy()), requires_grad=True)\n",
    "target_t = Variable(torch.FloatTensor(target.to_numpy()), requires_grad=True)\n",
    "weights1_t = Variable(torch.FloatTensor(weights1.to_numpy()), requires_grad=True)\n",
    "weights2_t = Variable(torch.FloatTensor(weights2.to_numpy()), requires_grad=True)\n",
    "\n",
    "grad_t = Variable(torch.FloatTensor(grad.to_numpy()))"
   ]
  },
  {
   "cell_type": "code",
   "execution_count": 3,
   "metadata": {},
   "outputs": [
    {
     "data": {
      "text/plain": [
       "[[ 0.2044522 ]\n",
       " [ 0.8781174 ]\n",
       " [-0.02738759]\n",
       " [-0.6704675 ]]\n",
       "[syft.FloatTensor:5 grad:None size:4x1 c:[] p:[] init:]"
      ]
     },
     "execution_count": 3,
     "metadata": {},
     "output_type": "execute_result"
    }
   ],
   "source": [
    "weights2"
   ]
  },
  {
   "cell_type": "code",
   "execution_count": 4,
   "metadata": {},
   "outputs": [
    {
     "name": "stdout",
     "output_type": "stream",
     "text": [
      "Layer2 before relu:\n",
      "Variable containing:\n",
      " 0.0834\n",
      "-0.0423\n",
      " 0.5984\n",
      " 0.4727\n",
      "[torch.FloatTensor of size 4x1]\n",
      "\n",
      "Layer2 after relu:\n",
      "Variable containing:\n",
      " 0.0834\n",
      " 0.0000\n",
      " 0.5984\n",
      " 0.4727\n",
      "[torch.FloatTensor of size 4x1]\n",
      "\n"
     ]
    },
    {
     "data": {
      "text/plain": [
       "\n",
       "-0.3798 -1.6312  0.0509  1.2455\n",
       "-0.2156 -0.9260  0.0289  0.7070\n",
       "-0.3457 -1.4848  0.0463  1.1337\n",
       "[torch.FloatTensor of size 3x4]"
      ]
     },
     "execution_count": 4,
     "metadata": {},
     "output_type": "execute_result"
    }
   ],
   "source": [
    "weights1_t.grad = None\n",
    "weights2_t.grad = None\n",
    "target_t.grad = None\n",
    "input_t.grad = None\n",
    "\n",
    "layer_1_t = input_t.mm(weights1_t).clamp(min=0)\n",
    "layer_2_t = layer_1_t.mm(weights2_t).clamp(min=0)\n",
    "\n",
    "print(\"Layer2 before relu:\")\n",
    "print(layer_1_t.mm(weights2_t))\n",
    "print(\"Layer2 after relu:\")\n",
    "print(layer_2_t)\n",
    "\n",
    "diff_t = layer_2_t - target_t\n",
    "loss_t = diff_t ** 2\n",
    "loss_t.backward(grad_t)\n",
    "\n",
    "#print(loss_t.sum().data[0])\n",
    "\n",
    "weights1_t.data -= weights1_t.grad.data\n",
    "weights2_t.data -= weights2_t.grad.data\n",
    "weights1_t.grad.data"
   ]
  },
  {
   "cell_type": "code",
   "execution_count": 5,
   "metadata": {},
   "outputs": [
    {
     "data": {
      "text/plain": [
       "\n",
       "-1.6003\n",
       "-2.3465\n",
       "-0.9054\n",
       "-2.0846\n",
       "[torch.FloatTensor of size 4x1]"
      ]
     },
     "execution_count": 5,
     "metadata": {},
     "output_type": "execute_result"
    }
   ],
   "source": [
    "weights2_t.grad.data"
   ]
  },
  {
   "cell_type": "code",
   "execution_count": 6,
   "metadata": {},
   "outputs": [
    {
     "name": "stdout",
     "output_type": "stream",
     "text": [
      "Layer2 before relu:\n",
      "   0.0833662  \n",
      "  -0.04233359 \n",
      "   0.5984493  \n",
      "   0.4727495   \n",
      "\n",
      "Layer2 after relu:\n",
      "   0.0833662 \n",
      "   0.        \n",
      "   0.5984493 \n",
      "   0.4727495  \n",
      "\n"
     ]
    }
   ],
   "source": [
    "layer_1 = input.mm(weights1).relu()\n",
    "layer_2 = layer_1.mm(weights2).relu()\n",
    "\n",
    "print(\"Layer2 before relu:\")\n",
    "print(layer_1.mm(weights2))\n",
    "print(\"Layer2 after relu:\")\n",
    "print(layer_2)\n",
    "\n",
    "diff = (layer_2 - target)\n",
    "loss = diff ** 2 # Mean Squared Error Loss\n",
    "\n",
    "loss.backward(grad)\n",
    "weights1 -= weights1.grad()\n",
    "weights2 -= weights2.grad()"
   ]
  },
  {
   "cell_type": "code",
   "execution_count": 7,
   "metadata": {},
   "outputs": [
    {
     "data": {
      "text/plain": [
       "[[-0.3797909  -1.631193    0.05087525  1.245462  ]\n",
       " [-0.2155951  -0.9259757   0.02888024  0.7070087 ]\n",
       " [-0.3457021  -1.484782    0.04630886  1.133673  ]]\n",
       "[syft.FloatTensor:29 grad:None size:3x4 c:[] p:[27, 25] init:mm]\n",
       "\n",
       "\t-----------creators-----------\n",
       "\t[syft.FloatTensor:27 grad:None size:3x4 c:[29] p:[1] init:transpose]\n",
       "\t[syft.FloatTensor:25 grad:None size:4x4 c:[28, 29] p:[24, 22] init:mul_elem]\n",
       "\t------------------------------\n",
       "\n"
      ]
     },
     "execution_count": 7,
     "metadata": {},
     "output_type": "execute_result"
    }
   ],
   "source": [
    "weights1.grad()"
   ]
  },
  {
   "cell_type": "code",
   "execution_count": 8,
   "metadata": {},
   "outputs": [
    {
     "data": {
      "text/plain": [
       "[[-1.600298 ]\n",
       " [-2.346517 ]\n",
       " [-0.9054275]\n",
       " [-2.084625 ]]\n",
       "[syft.FloatTensor:30 grad:None size:4x1 c:[] p:[21, 19] init:mm]\n",
       "\n",
       "\t-----------creators-----------\n",
       "\t[syft.FloatTensor:21 grad:None size:4x4 c:[30] p:[7] init:transpose]\n",
       "\t[syft.FloatTensor:19 grad:None size:4x1 c:[22, 30] p:[18, 15] init:mul_elem]\n",
       "\t------------------------------\n",
       "\n"
      ]
     },
     "execution_count": 8,
     "metadata": {},
     "output_type": "execute_result"
    }
   ],
   "source": [
    "weights2.grad()"
   ]
  },
  {
   "cell_type": "code",
   "execution_count": null,
   "metadata": {
    "collapsed": true
   },
   "outputs": [],
   "source": []
  }
 ],
 "metadata": {
  "kernelspec": {
   "display_name": "Python 3",
   "language": "python",
   "name": "python3"
  },
  "language_info": {
   "codemirror_mode": {
    "name": "ipython",
    "version": 3
   },
   "file_extension": ".py",
   "mimetype": "text/x-python",
   "name": "python",
   "nbconvert_exporter": "python",
   "pygments_lexer": "ipython3",
   "version": "3.5.3"
  }
 },
 "nbformat": 4,
 "nbformat_minor": 2
}

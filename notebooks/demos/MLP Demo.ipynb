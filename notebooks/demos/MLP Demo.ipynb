{
 "cells": [
  {
   "cell_type": "markdown",
   "metadata": {},
   "source": [
    "Demo of a single and 2 layer perceptron using numpy and pysyft\n",
    "\n",
    "Based on http://iamtrask.github.io/2015/07/12/basic-python-network/"
   ]
  },
  {
   "cell_type": "code",
   "execution_count": 2,
   "metadata": {},
   "outputs": [],
   "source": [
    "import syft\n",
    "import syft.nn as nn\n",
    "import syft.controller\n",
    "import imp\n",
    "imp.reload(syft.controller)\n",
    "imp.reload(syft.nn)\n",
    "imp.reload(syft)\n",
    "\n",
    "import numpy as np\n",
    "from syft import FloatTensor"
   ]
  },
  {
   "cell_type": "code",
   "execution_count": 3,
   "metadata": {
    "collapsed": true
   },
   "outputs": [],
   "source": [
    "steps = 100\n",
    "print_steps = 20"
   ]
  },
  {
   "cell_type": "markdown",
   "metadata": {},
   "source": [
    "Using numpy"
   ]
  },
  {
   "cell_type": "code",
   "execution_count": 4,
   "metadata": {},
   "outputs": [
    {
     "name": "stdout",
     "output_type": "stream",
     "text": [
      "Pre training predicttion:\n",
      " [[ 0.55120158]\n",
      " [ 0.67557997]\n",
      " [ 0.5752133 ]\n",
      " [ 0.6538273 ]]\n",
      "Error:  0.48855890289\n",
      "Error:  0.228320154665\n",
      "Error:  0.156294411201\n",
      "Error:  0.123828071028\n",
      "Error:  0.104899857153\n",
      "Post training predicttion:\n",
      " [[ 0.11356128]\n",
      " [ 0.90848621]\n",
      " [ 0.92698831]\n",
      " [ 0.09104839]]\n"
     ]
    }
   ],
   "source": [
    "#4 inupts samples\n",
    "x = np.array([ [0,0,1],[1,1,1],[1,0,1],[0,1,1] ]).astype('float')#works\n",
    "#x = np.array([ [0,0,1],[0,1,1],[1,0,1],[1,1,1] ])#xor gate need hidden layer\n",
    "y = np.array([[0,1,1,0]]).T.astype('float')\n",
    "#perceprton weights\n",
    "np.random.seed(0)\n",
    "w_initial = 2*np.random.random((len(x[0]),len(y[0]))).astype('float') - 1\n",
    "#activation function\n",
    "def sigmoid(x,deriv=False):\n",
    "    if(deriv==True):\n",
    "        return x*(1-x)#the derivative is sigmoid(sigmoid(x),1)\n",
    "    return 1/(1+np.exp(-x))\n",
    "#predicted y pre training\n",
    "print(\"Pre training predicttion:\\n\",sigmoid(np.dot(x,w_initial)))\n",
    "#training\n",
    "w = w_initial.copy()\n",
    "for j in range(steps):\n",
    "#for j in range(1):\n",
    "    l1 = sigmoid(np.dot(x,w))\n",
    "    l1_delta = (y - l1)*sigmoid(l1,1)\n",
    "    w += x.T.dot(l1_delta)\n",
    "    if j%print_steps == 0:\n",
    "        print(\"Error: \", np.average(np.abs((y - l1))))\n",
    "print(\"Post training predicttion:\\n\",sigmoid(np.dot(x,w)))"
   ]
  },
  {
   "cell_type": "markdown",
   "metadata": {},
   "source": [
    "Using pysyft"
   ]
  },
  {
   "cell_type": "code",
   "execution_count": 5,
   "metadata": {
    "collapsed": true
   },
   "outputs": [],
   "source": [
    "X = FloatTensor( x )\n",
    "Y = FloatTensor( y )\n",
    "W_initial = FloatTensor( w_initial )\n",
    "W = FloatTensor( w_initial )\n",
    "zeros = FloatTensor(np.array([[0,0,0,0]]).T)#needed as we don't have mm yet\n",
    "ones = FloatTensor(np.array([[1,1,1,1]]).T)#needed as we don't deriv of sigmoid yet\n",
    "mean = FloatTensor(np.array([[1/4,1/4,1/4,1/4]]))#hack to calculate mean\n",
    "zero = FloatTensor(np.array([[0]]))#also for mean"
   ]
  },
  {
   "cell_type": "code",
   "execution_count": 5,
   "metadata": {},
   "outputs": [
    {
     "name": "stdout",
     "output_type": "stream",
     "text": [
      "0.5512016,\t\n",
      "0.67558,\t\n",
      "0.5752133,\t\n",
      "0.6538273,\t\n",
      "\n",
      "\n",
      "Error:  0.4885589,\t\n",
      "\n",
      "\n",
      "Error:  0.2283202,\t\n",
      "\n",
      "\n",
      "Error:  0.1562944,\t\n",
      "\n",
      "\n",
      "Error:  0.1238281,\t\n",
      "\n",
      "\n",
      "Error:  0.1048998,\t\n",
      "\n",
      "\n",
      "0.1135612,\t\n",
      "0.9084862,\t\n",
      "0.9269884,\t\n",
      "0.09104829,\t\n",
      "\n",
      "\n"
     ]
    }
   ],
   "source": [
    "#predicted pre training\n",
    "predition=zeros.addmm(X,W)\n",
    "predition.sigmoid_()\n",
    "print(predition)\n",
    "#training\n",
    "for j in range(steps):\n",
    "    L1 = zeros.addmm(X,W)\n",
    "    L1.sigmoid_()\n",
    "    L1_delta = (L1-Y)*(L1*(L1-ones))\n",
    "    W.addmm_(X.T(),L1_delta)\n",
    "    if j%print_steps == 0:\n",
    "        err = (Y - L1)\n",
    "        err.abs_()\n",
    "        print(\"Error: \",zero.addmm(mean,err))\n",
    "#predicted y post training\n",
    "print( zeros.addmm(X,W).sigmoid_() )"
   ]
  },
  {
   "cell_type": "code",
   "execution_count": 6,
   "metadata": {},
   "outputs": [
    {
     "ename": "NameError",
     "evalue": "name 'L1' is not defined",
     "output_type": "error",
     "traceback": [
      "\u001b[0;31m---------------------------------------------------------------------------\u001b[0m",
      "\u001b[0;31mNameError\u001b[0m                                 Traceback (most recent call last)",
      "\u001b[0;32m<ipython-input-6-6cf66eac3533>\u001b[0m in \u001b[0;36m<module>\u001b[0;34m()\u001b[0m\n\u001b[1;32m      1\u001b[0m \u001b[0;31m#compare predict\u001b[0m\u001b[0;34m\u001b[0m\u001b[0;34m\u001b[0m\u001b[0m\n\u001b[0;32m----> 2\u001b[0;31m \u001b[0mL1\u001b[0m \u001b[0;34m-\u001b[0m \u001b[0mFloatTensor\u001b[0m\u001b[0;34m(\u001b[0m\u001b[0ml1\u001b[0m\u001b[0;34m)\u001b[0m\u001b[0;34m\u001b[0m\u001b[0m\n\u001b[0m",
      "\u001b[0;31mNameError\u001b[0m: name 'L1' is not defined"
     ]
    }
   ],
   "source": [
    "#compare predict\n",
    "L1 - FloatTensor(l1)"
   ]
  },
  {
   "cell_type": "code",
   "execution_count": 7,
   "metadata": {},
   "outputs": [
    {
     "data": {
      "text/plain": [
       "[[-4.498564 ]\n",
       " [ 0.6764101]\n",
       " [ 2.260396 ]]\n",
       "[syft.FloatTensor of size 3x1]"
      ]
     },
     "execution_count": 7,
     "metadata": {},
     "output_type": "execute_result"
    }
   ],
   "source": [
    "#compare weights\n",
    "W - FloatTensor(w)\n"
   ]
  },
  {
   "cell_type": "code",
   "execution_count": null,
   "metadata": {
    "collapsed": true
   },
   "outputs": [],
   "source": []
  }
 ],
 "metadata": {
  "kernelspec": {
   "display_name": "Python 3",
   "language": "python",
   "name": "python3"
  }
 },
 "nbformat": 4,
 "nbformat_minor": 2
}

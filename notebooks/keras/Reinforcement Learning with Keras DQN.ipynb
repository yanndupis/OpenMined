{
 "cells": [
  {
   "cell_type": "markdown",
   "metadata": {},
   "source": [
    "# Reinforcement Learning with Keras interface: DQN"
   ]
  },
  {
   "cell_type": "markdown",
   "metadata": {},
   "source": [
    "The goal of this notebook is to demonstrate how easy it is to do reinforcement learning with OpenMined and PySyft using the Keras interface. We will apply DQN to the game MountainCar-V0 from gym. The original code was written by Yash Patel. The original code can be found [here](https://towardsdatascience.com/reinforcement-learning-w-keras-openai-dqns-1eed3a5338c)."
   ]
  },
  {
   "cell_type": "code",
   "execution_count": 1,
   "metadata": {},
   "outputs": [
    {
     "name": "stderr",
     "output_type": "stream",
     "text": [
      "/Users/yanndupis/anaconda2/envs/tflearn/lib/python3.5/site-packages/IPython/html.py:14: ShimWarning: The `IPython.html` package has been deprecated since IPython 4.0. You should import from `notebook` instead. `IPython.html.widgets` has moved to `ipywidgets`.\n",
      "  \"`IPython.html.widgets` has moved to `ipywidgets`.\", ShimWarning)\n"
     ]
    }
   ],
   "source": [
    "import syft\n",
    "from syft import FloatTensor"
   ]
  },
  {
   "cell_type": "code",
   "execution_count": 2,
   "metadata": {},
   "outputs": [
    {
     "name": "stderr",
     "output_type": "stream",
     "text": [
      "Using TensorFlow backend.\n",
      "lol... Just Kidding... Using OpenMined Backend"
     ]
    }
   ],
   "source": [
    "import gym\n",
    "import numpy as np\n",
    "import random\n",
    "\n",
    "from syft.interfaces.keras.models import Sequential\n",
    "from syft.interfaces.keras.layers import Dense, Dropout\n",
    "from syft.interfaces.keras.optimizers import SGD\n",
    "\n",
    "from collections import deque\n",
    "from syft import FloatTensor"
   ]
  },
  {
   "cell_type": "code",
   "execution_count": 3,
   "metadata": {},
   "outputs": [
    {
     "name": "stderr",
     "output_type": "stream",
     "text": [
      "[2018-01-20 12:15:00,559] Making new env: MountainCar-v0\n",
      "Exception ignored in: <object repr() failed>\n",
      "Traceback (most recent call last):\n",
      "  File \"/Users/yanndupis/anaconda2/envs/tflearn/lib/python3.5/site-packages/syft-0.1.0-py3.5.egg/syft/tensor.py\", line 544, in __del__\n",
      "  File \"/Users/yanndupis/anaconda2/envs/tflearn/lib/python3.5/site-packages/syft-0.1.0-py3.5.egg/syft/tensor.py\", line 1516, in delete_tensor\n",
      "  File \"/Users/yanndupis/anaconda2/envs/tflearn/lib/python3.5/site-packages/syft-0.1.0-py3.5.egg/syft/tensor.py\", line 1504, in no_params_func\n",
      "  File \"/Users/yanndupis/anaconda2/envs/tflearn/lib/python3.5/site-packages/syft-0.1.0-py3.5.egg/syft/tensor.py\", line 1486, in params_func\n",
      "  File \"/Users/yanndupis/anaconda2/envs/tflearn/lib/python3.5/site-packages/syft-0.1.0-py3.5.egg/syft/controller.py\", line 143, in send_json\n",
      "Exception: Unity Error: System.Collections.Generic.KeyNotFoundException: The given key was not present in the dictionary.\n",
      "  at System.ThrowHelper.ThrowKeyNotFoundException () [0x00000] in /Users/builduser/buildslave/mono/build/mcs/class/referencesource/mscorlib/system/throwhelper.cs:68 \n",
      "  at System.Collections.Generic.Dictionary`2[TKey,TValue].get_Item (TKey key) [0x0001e] in /Users/builduser/buildslave/mono/build/mcs/class/referencesource/mscorlib/system/collections/generic/dictionary.cs:183 \n",
      "  at OpenMined.Syft.Tensor.Factories.FloatTensorFactory.Get (System.Int32 id) [0x00008] in /Users/yanndupis/Documents/Data_Science/Encrypted_DL/OpenMined/UnityProject/Assets/OpenMined/Syft/Tensor/Factories/FloatTensorFactory.cs:24 \n",
      "  at OpenMined.Syft.Tensor.FloatTensor.Delete () [0x00048] in /Users/yanndupis/Documents/Data_Science/Encrypted_DL/OpenMined/UnityProject/Assets/OpenMined/Syft/Tensor/FloatTensor.Ops.cs:558 \n",
      "  at OpenMined.Syft.Tensor.FloatTensor.ProcessMessage (OpenMined.Network.Utils.Command msgObj, OpenMined.Network.Controllers.SyftController ctrl) [0x00e4c] in /Users/yanndupis/Documents/Data_Science/Encrypted_DL/OpenMined/UnityProject/Assets/OpenMined/Syft/Tensor/FloatTensor.cs:365 \n",
      "  at OpenMined.Network.Controllers.SyftController.processMessage (System.String json_message, UnityEngine.MonoBehaviour owner) [0x002dd] in /Users/yanndupis/Documents/Data_Science/Encrypted_DL/OpenMined/UnityProject/Assets/OpenMined/Network/Controllers/SyftController.cs:231 \n",
      "Exception ignored in: <object repr() failed>\n",
      "Traceback (most recent call last):\n",
      "  File \"/Users/yanndupis/anaconda2/envs/tflearn/lib/python3.5/site-packages/syft-0.1.0-py3.5.egg/syft/tensor.py\", line 544, in __del__\n",
      "  File \"/Users/yanndupis/anaconda2/envs/tflearn/lib/python3.5/site-packages/syft-0.1.0-py3.5.egg/syft/tensor.py\", line 1516, in delete_tensor\n",
      "  File \"/Users/yanndupis/anaconda2/envs/tflearn/lib/python3.5/site-packages/syft-0.1.0-py3.5.egg/syft/tensor.py\", line 1504, in no_params_func\n",
      "  File \"/Users/yanndupis/anaconda2/envs/tflearn/lib/python3.5/site-packages/syft-0.1.0-py3.5.egg/syft/tensor.py\", line 1486, in params_func\n",
      "  File \"/Users/yanndupis/anaconda2/envs/tflearn/lib/python3.5/site-packages/syft-0.1.0-py3.5.egg/syft/controller.py\", line 143, in send_json\n",
      "Exception: Unity Error: System.Collections.Generic.KeyNotFoundException: The given key was not present in the dictionary.\n",
      "  at System.ThrowHelper.ThrowKeyNotFoundException () [0x00000] in /Users/builduser/buildslave/mono/build/mcs/class/referencesource/mscorlib/system/throwhelper.cs:68 \n",
      "  at System.Collections.Generic.Dictionary`2[TKey,TValue].get_Item (TKey key) [0x0001e] in /Users/builduser/buildslave/mono/build/mcs/class/referencesource/mscorlib/system/collections/generic/dictionary.cs:183 \n",
      "  at OpenMined.Syft.Tensor.Factories.FloatTensorFactory.Get (System.Int32 id) [0x00008] in /Users/yanndupis/Documents/Data_Science/Encrypted_DL/OpenMined/UnityProject/Assets/OpenMined/Syft/Tensor/Factories/FloatTensorFactory.cs:24 \n",
      "  at OpenMined.Syft.Tensor.FloatTensor.Delete () [0x00048] in /Users/yanndupis/Documents/Data_Science/Encrypted_DL/OpenMined/UnityProject/Assets/OpenMined/Syft/Tensor/FloatTensor.Ops.cs:558 \n",
      "  at OpenMined.Syft.Tensor.FloatTensor.ProcessMessage (OpenMined.Network.Utils.Command msgObj, OpenMined.Network.Controllers.SyftController ctrl) [0x00e4c] in /Users/yanndupis/Documents/Data_Science/Encrypted_DL/OpenMined/UnityProject/Assets/OpenMined/Syft/Tensor/FloatTensor.cs:365 \n",
      "  at OpenMined.Network.Controllers.SyftController.processMessage (System.String json_message, UnityEngine.MonoBehaviour owner) [0x002dd] in /Users/yanndupis/Documents/Data_Science/Encrypted_DL/OpenMined/UnityProject/Assets/OpenMined/Network/Controllers/SyftController.cs:231 \n",
      "Exception ignored in: <object repr() failed>\n",
      "Traceback (most recent call last):\n",
      "  File \"/Users/yanndupis/anaconda2/envs/tflearn/lib/python3.5/site-packages/syft-0.1.0-py3.5.egg/syft/tensor.py\", line 544, in __del__\n",
      "  File \"/Users/yanndupis/anaconda2/envs/tflearn/lib/python3.5/site-packages/syft-0.1.0-py3.5.egg/syft/tensor.py\", line 1516, in delete_tensor\n",
      "  File \"/Users/yanndupis/anaconda2/envs/tflearn/lib/python3.5/site-packages/syft-0.1.0-py3.5.egg/syft/tensor.py\", line 1504, in no_params_func\n",
      "  File \"/Users/yanndupis/anaconda2/envs/tflearn/lib/python3.5/site-packages/syft-0.1.0-py3.5.egg/syft/tensor.py\", line 1486, in params_func\n",
      "  File \"/Users/yanndupis/anaconda2/envs/tflearn/lib/python3.5/site-packages/syft-0.1.0-py3.5.egg/syft/controller.py\", line 143, in send_json\n",
      "Exception: Unity Error: System.Collections.Generic.KeyNotFoundException: The given key was not present in the dictionary.\n",
      "  at System.ThrowHelper.ThrowKeyNotFoundException () [0x00000] in /Users/builduser/buildslave/mono/build/mcs/class/referencesource/mscorlib/system/throwhelper.cs:68 \n",
      "  at System.Collections.Generic.Dictionary`2[TKey,TValue].get_Item (TKey key) [0x0001e] in /Users/builduser/buildslave/mono/build/mcs/class/referencesource/mscorlib/system/collections/generic/dictionary.cs:183 \n",
      "  at OpenMined.Syft.Tensor.Factories.FloatTensorFactory.Get (System.Int32 id) [0x00008] in /Users/yanndupis/Documents/Data_Science/Encrypted_DL/OpenMined/UnityProject/Assets/OpenMined/Syft/Tensor/Factories/FloatTensorFactory.cs:24 \n",
      "  at OpenMined.Syft.Tensor.FloatTensor.Delete () [0x00048] in /Users/yanndupis/Documents/Data_Science/Encrypted_DL/OpenMined/UnityProject/Assets/OpenMined/Syft/Tensor/FloatTensor.Ops.cs:558 \n",
      "  at OpenMined.Syft.Tensor.FloatTensor.ProcessMessage (OpenMined.Network.Utils.Command msgObj, OpenMined.Network.Controllers.SyftController ctrl) [0x00e4c] in /Users/yanndupis/Documents/Data_Science/Encrypted_DL/OpenMined/UnityProject/Assets/OpenMined/Syft/Tensor/FloatTensor.cs:365 \n",
      "  at OpenMined.Network.Controllers.SyftController.processMessage (System.String json_message, UnityEngine.MonoBehaviour owner) [0x002dd] in /Users/yanndupis/Documents/Data_Science/Encrypted_DL/OpenMined/UnityProject/Assets/OpenMined/Network/Controllers/SyftController.cs:231 \n",
      "Exception ignored in: <object repr() failed>\n",
      "Traceback (most recent call last):\n",
      "  File \"/Users/yanndupis/anaconda2/envs/tflearn/lib/python3.5/site-packages/syft-0.1.0-py3.5.egg/syft/tensor.py\", line 544, in __del__\n",
      "  File \"/Users/yanndupis/anaconda2/envs/tflearn/lib/python3.5/site-packages/syft-0.1.0-py3.5.egg/syft/tensor.py\", line 1516, in delete_tensor\n",
      "  File \"/Users/yanndupis/anaconda2/envs/tflearn/lib/python3.5/site-packages/syft-0.1.0-py3.5.egg/syft/tensor.py\", line 1504, in no_params_func\n",
      "  File \"/Users/yanndupis/anaconda2/envs/tflearn/lib/python3.5/site-packages/syft-0.1.0-py3.5.egg/syft/tensor.py\", line 1486, in params_func\n",
      "  File \"/Users/yanndupis/anaconda2/envs/tflearn/lib/python3.5/site-packages/syft-0.1.0-py3.5.egg/syft/controller.py\", line 143, in send_json\n",
      "Exception: Unity Error: System.Collections.Generic.KeyNotFoundException: The given key was not present in the dictionary.\n",
      "  at System.ThrowHelper.ThrowKeyNotFoundException () [0x00000] in /Users/builduser/buildslave/mono/build/mcs/class/referencesource/mscorlib/system/throwhelper.cs:68 \n",
      "  at System.Collections.Generic.Dictionary`2[TKey,TValue].get_Item (TKey key) [0x0001e] in /Users/builduser/buildslave/mono/build/mcs/class/referencesource/mscorlib/system/collections/generic/dictionary.cs:183 \n",
      "  at OpenMined.Syft.Tensor.Factories.FloatTensorFactory.Get (System.Int32 id) [0x00008] in /Users/yanndupis/Documents/Data_Science/Encrypted_DL/OpenMined/UnityProject/Assets/OpenMined/Syft/Tensor/Factories/FloatTensorFactory.cs:24 \n",
      "  at OpenMined.Syft.Tensor.FloatTensor.Delete () [0x00048] in /Users/yanndupis/Documents/Data_Science/Encrypted_DL/OpenMined/UnityProject/Assets/OpenMined/Syft/Tensor/FloatTensor.Ops.cs:558 \n",
      "  at OpenMined.Syft.Tensor.FloatTensor.ProcessMessage (OpenMined.Network.Utils.Command msgObj, OpenMined.Network.Controllers.SyftController ctrl) [0x00e4c] in /Users/yanndupis/Documents/Data_Science/Encrypted_DL/OpenMined/UnityProject/Assets/OpenMined/Syft/Tensor/FloatTensor.cs:365 \n",
      "  at OpenMined.Network.Controllers.SyftController.processMessage (System.String json_message, UnityEngine.MonoBehaviour owner) [0x002dd] in /Users/yanndupis/Documents/Data_Science/Encrypted_DL/OpenMined/UnityProject/Assets/OpenMined/Network/Controllers/SyftController.cs:231 \n"
     ]
    },
    {
     "name": "stderr",
     "output_type": "stream",
     "text": [
      "Exception ignored in: <object repr() failed>\n",
      "Traceback (most recent call last):\n",
      "  File \"/Users/yanndupis/anaconda2/envs/tflearn/lib/python3.5/site-packages/syft-0.1.0-py3.5.egg/syft/tensor.py\", line 544, in __del__\n",
      "  File \"/Users/yanndupis/anaconda2/envs/tflearn/lib/python3.5/site-packages/syft-0.1.0-py3.5.egg/syft/tensor.py\", line 1516, in delete_tensor\n",
      "  File \"/Users/yanndupis/anaconda2/envs/tflearn/lib/python3.5/site-packages/syft-0.1.0-py3.5.egg/syft/tensor.py\", line 1504, in no_params_func\n",
      "  File \"/Users/yanndupis/anaconda2/envs/tflearn/lib/python3.5/site-packages/syft-0.1.0-py3.5.egg/syft/tensor.py\", line 1486, in params_func\n",
      "  File \"/Users/yanndupis/anaconda2/envs/tflearn/lib/python3.5/site-packages/syft-0.1.0-py3.5.egg/syft/controller.py\", line 143, in send_json\n",
      "Exception: Unity Error: System.Collections.Generic.KeyNotFoundException: The given key was not present in the dictionary.\n",
      "  at System.ThrowHelper.ThrowKeyNotFoundException () [0x00000] in /Users/builduser/buildslave/mono/build/mcs/class/referencesource/mscorlib/system/throwhelper.cs:68 \n",
      "  at System.Collections.Generic.Dictionary`2[TKey,TValue].get_Item (TKey key) [0x0001e] in /Users/builduser/buildslave/mono/build/mcs/class/referencesource/mscorlib/system/collections/generic/dictionary.cs:183 \n",
      "  at OpenMined.Syft.Tensor.Factories.FloatTensorFactory.Get (System.Int32 id) [0x00008] in /Users/yanndupis/Documents/Data_Science/Encrypted_DL/OpenMined/UnityProject/Assets/OpenMined/Syft/Tensor/Factories/FloatTensorFactory.cs:24 \n",
      "  at OpenMined.Syft.Tensor.FloatTensor.Delete () [0x00048] in /Users/yanndupis/Documents/Data_Science/Encrypted_DL/OpenMined/UnityProject/Assets/OpenMined/Syft/Tensor/FloatTensor.Ops.cs:558 \n",
      "  at OpenMined.Syft.Tensor.FloatTensor.ProcessMessage (OpenMined.Network.Utils.Command msgObj, OpenMined.Network.Controllers.SyftController ctrl) [0x00e4c] in /Users/yanndupis/Documents/Data_Science/Encrypted_DL/OpenMined/UnityProject/Assets/OpenMined/Syft/Tensor/FloatTensor.cs:365 \n",
      "  at OpenMined.Network.Controllers.SyftController.processMessage (System.String json_message, UnityEngine.MonoBehaviour owner) [0x002dd] in /Users/yanndupis/Documents/Data_Science/Encrypted_DL/OpenMined/UnityProject/Assets/OpenMined/Network/Controllers/SyftController.cs:231 \n",
      "Exception ignored in: <object repr() failed>\n",
      "Traceback (most recent call last):\n",
      "  File \"/Users/yanndupis/anaconda2/envs/tflearn/lib/python3.5/site-packages/syft-0.1.0-py3.5.egg/syft/tensor.py\", line 544, in __del__\n",
      "  File \"/Users/yanndupis/anaconda2/envs/tflearn/lib/python3.5/site-packages/syft-0.1.0-py3.5.egg/syft/tensor.py\", line 1516, in delete_tensor\n",
      "  File \"/Users/yanndupis/anaconda2/envs/tflearn/lib/python3.5/site-packages/syft-0.1.0-py3.5.egg/syft/tensor.py\", line 1504, in no_params_func\n",
      "  File \"/Users/yanndupis/anaconda2/envs/tflearn/lib/python3.5/site-packages/syft-0.1.0-py3.5.egg/syft/tensor.py\", line 1486, in params_func\n",
      "  File \"/Users/yanndupis/anaconda2/envs/tflearn/lib/python3.5/site-packages/syft-0.1.0-py3.5.egg/syft/controller.py\", line 143, in send_json\n",
      "Exception: Unity Error: System.Collections.Generic.KeyNotFoundException: The given key was not present in the dictionary.\n",
      "  at System.ThrowHelper.ThrowKeyNotFoundException () [0x00000] in /Users/builduser/buildslave/mono/build/mcs/class/referencesource/mscorlib/system/throwhelper.cs:68 \n",
      "  at System.Collections.Generic.Dictionary`2[TKey,TValue].get_Item (TKey key) [0x0001e] in /Users/builduser/buildslave/mono/build/mcs/class/referencesource/mscorlib/system/collections/generic/dictionary.cs:183 \n",
      "  at OpenMined.Syft.Tensor.Factories.FloatTensorFactory.Get (System.Int32 id) [0x00008] in /Users/yanndupis/Documents/Data_Science/Encrypted_DL/OpenMined/UnityProject/Assets/OpenMined/Syft/Tensor/Factories/FloatTensorFactory.cs:24 \n",
      "  at OpenMined.Syft.Tensor.FloatTensor.Delete () [0x00048] in /Users/yanndupis/Documents/Data_Science/Encrypted_DL/OpenMined/UnityProject/Assets/OpenMined/Syft/Tensor/FloatTensor.Ops.cs:558 \n",
      "  at OpenMined.Syft.Tensor.FloatTensor.ProcessMessage (OpenMined.Network.Utils.Command msgObj, OpenMined.Network.Controllers.SyftController ctrl) [0x00e4c] in /Users/yanndupis/Documents/Data_Science/Encrypted_DL/OpenMined/UnityProject/Assets/OpenMined/Syft/Tensor/FloatTensor.cs:365 \n",
      "  at OpenMined.Network.Controllers.SyftController.processMessage (System.String json_message, UnityEngine.MonoBehaviour owner) [0x002dd] in /Users/yanndupis/Documents/Data_Science/Encrypted_DL/OpenMined/UnityProject/Assets/OpenMined/Network/Controllers/SyftController.cs:231 \n",
      "Exception ignored in: <object repr() failed>\n",
      "Traceback (most recent call last):\n",
      "  File \"/Users/yanndupis/anaconda2/envs/tflearn/lib/python3.5/site-packages/syft-0.1.0-py3.5.egg/syft/tensor.py\", line 544, in __del__\n",
      "  File \"/Users/yanndupis/anaconda2/envs/tflearn/lib/python3.5/site-packages/syft-0.1.0-py3.5.egg/syft/tensor.py\", line 1516, in delete_tensor\n",
      "  File \"/Users/yanndupis/anaconda2/envs/tflearn/lib/python3.5/site-packages/syft-0.1.0-py3.5.egg/syft/tensor.py\", line 1504, in no_params_func\n",
      "  File \"/Users/yanndupis/anaconda2/envs/tflearn/lib/python3.5/site-packages/syft-0.1.0-py3.5.egg/syft/tensor.py\", line 1486, in params_func\n",
      "  File \"/Users/yanndupis/anaconda2/envs/tflearn/lib/python3.5/site-packages/syft-0.1.0-py3.5.egg/syft/controller.py\", line 143, in send_json\n",
      "Exception: Unity Error: System.Collections.Generic.KeyNotFoundException: The given key was not present in the dictionary.\n",
      "  at System.ThrowHelper.ThrowKeyNotFoundException () [0x00000] in /Users/builduser/buildslave/mono/build/mcs/class/referencesource/mscorlib/system/throwhelper.cs:68 \n",
      "  at System.Collections.Generic.Dictionary`2[TKey,TValue].get_Item (TKey key) [0x0001e] in /Users/builduser/buildslave/mono/build/mcs/class/referencesource/mscorlib/system/collections/generic/dictionary.cs:183 \n",
      "  at OpenMined.Syft.Tensor.Factories.FloatTensorFactory.Get (System.Int32 id) [0x00008] in /Users/yanndupis/Documents/Data_Science/Encrypted_DL/OpenMined/UnityProject/Assets/OpenMined/Syft/Tensor/Factories/FloatTensorFactory.cs:24 \n",
      "  at OpenMined.Syft.Tensor.FloatTensor.Delete () [0x00048] in /Users/yanndupis/Documents/Data_Science/Encrypted_DL/OpenMined/UnityProject/Assets/OpenMined/Syft/Tensor/FloatTensor.Ops.cs:558 \n",
      "  at OpenMined.Syft.Tensor.FloatTensor.ProcessMessage (OpenMined.Network.Utils.Command msgObj, OpenMined.Network.Controllers.SyftController ctrl) [0x00e4c] in /Users/yanndupis/Documents/Data_Science/Encrypted_DL/OpenMined/UnityProject/Assets/OpenMined/Syft/Tensor/FloatTensor.cs:365 \n",
      "  at OpenMined.Network.Controllers.SyftController.processMessage (System.String json_message, UnityEngine.MonoBehaviour owner) [0x002dd] in /Users/yanndupis/Documents/Data_Science/Encrypted_DL/OpenMined/UnityProject/Assets/OpenMined/Network/Controllers/SyftController.cs:231 \n",
      "Exception ignored in: <object repr() failed>\n",
      "Traceback (most recent call last):\n",
      "  File \"/Users/yanndupis/anaconda2/envs/tflearn/lib/python3.5/site-packages/syft-0.1.0-py3.5.egg/syft/tensor.py\", line 544, in __del__\n",
      "  File \"/Users/yanndupis/anaconda2/envs/tflearn/lib/python3.5/site-packages/syft-0.1.0-py3.5.egg/syft/tensor.py\", line 1516, in delete_tensor\n",
      "  File \"/Users/yanndupis/anaconda2/envs/tflearn/lib/python3.5/site-packages/syft-0.1.0-py3.5.egg/syft/tensor.py\", line 1504, in no_params_func\n",
      "  File \"/Users/yanndupis/anaconda2/envs/tflearn/lib/python3.5/site-packages/syft-0.1.0-py3.5.egg/syft/tensor.py\", line 1486, in params_func\n",
      "  File \"/Users/yanndupis/anaconda2/envs/tflearn/lib/python3.5/site-packages/syft-0.1.0-py3.5.egg/syft/controller.py\", line 143, in send_json\n",
      "Exception: Unity Error: System.Collections.Generic.KeyNotFoundException: The given key was not present in the dictionary.\n",
      "  at System.ThrowHelper.ThrowKeyNotFoundException () [0x00000] in /Users/builduser/buildslave/mono/build/mcs/class/referencesource/mscorlib/system/throwhelper.cs:68 \n",
      "  at System.Collections.Generic.Dictionary`2[TKey,TValue].get_Item (TKey key) [0x0001e] in /Users/builduser/buildslave/mono/build/mcs/class/referencesource/mscorlib/system/collections/generic/dictionary.cs:183 \n",
      "  at OpenMined.Syft.Tensor.Factories.FloatTensorFactory.Get (System.Int32 id) [0x00008] in /Users/yanndupis/Documents/Data_Science/Encrypted_DL/OpenMined/UnityProject/Assets/OpenMined/Syft/Tensor/Factories/FloatTensorFactory.cs:24 \n",
      "  at OpenMined.Syft.Tensor.FloatTensor.Delete () [0x00048] in /Users/yanndupis/Documents/Data_Science/Encrypted_DL/OpenMined/UnityProject/Assets/OpenMined/Syft/Tensor/FloatTensor.Ops.cs:558 \n",
      "  at OpenMined.Syft.Tensor.FloatTensor.ProcessMessage (OpenMined.Network.Utils.Command msgObj, OpenMined.Network.Controllers.SyftController ctrl) [0x00e4c] in /Users/yanndupis/Documents/Data_Science/Encrypted_DL/OpenMined/UnityProject/Assets/OpenMined/Syft/Tensor/FloatTensor.cs:365 \n",
      "  at OpenMined.Network.Controllers.SyftController.processMessage (System.String json_message, UnityEngine.MonoBehaviour owner) [0x002dd] in /Users/yanndupis/Documents/Data_Science/Encrypted_DL/OpenMined/UnityProject/Assets/OpenMined/Network/Controllers/SyftController.cs:231 \n"
     ]
    },
    {
     "name": "stderr",
     "output_type": "stream",
     "text": [
      "Exception ignored in: <object repr() failed>\n",
      "Traceback (most recent call last):\n",
      "  File \"/Users/yanndupis/anaconda2/envs/tflearn/lib/python3.5/site-packages/syft-0.1.0-py3.5.egg/syft/tensor.py\", line 544, in __del__\n",
      "  File \"/Users/yanndupis/anaconda2/envs/tflearn/lib/python3.5/site-packages/syft-0.1.0-py3.5.egg/syft/tensor.py\", line 1516, in delete_tensor\n",
      "  File \"/Users/yanndupis/anaconda2/envs/tflearn/lib/python3.5/site-packages/syft-0.1.0-py3.5.egg/syft/tensor.py\", line 1504, in no_params_func\n",
      "  File \"/Users/yanndupis/anaconda2/envs/tflearn/lib/python3.5/site-packages/syft-0.1.0-py3.5.egg/syft/tensor.py\", line 1486, in params_func\n",
      "  File \"/Users/yanndupis/anaconda2/envs/tflearn/lib/python3.5/site-packages/syft-0.1.0-py3.5.egg/syft/controller.py\", line 143, in send_json\n",
      "Exception: Unity Error: System.Collections.Generic.KeyNotFoundException: The given key was not present in the dictionary.\n",
      "  at System.ThrowHelper.ThrowKeyNotFoundException () [0x00000] in /Users/builduser/buildslave/mono/build/mcs/class/referencesource/mscorlib/system/throwhelper.cs:68 \n",
      "  at System.Collections.Generic.Dictionary`2[TKey,TValue].get_Item (TKey key) [0x0001e] in /Users/builduser/buildslave/mono/build/mcs/class/referencesource/mscorlib/system/collections/generic/dictionary.cs:183 \n",
      "  at OpenMined.Syft.Tensor.Factories.FloatTensorFactory.Get (System.Int32 id) [0x00008] in /Users/yanndupis/Documents/Data_Science/Encrypted_DL/OpenMined/UnityProject/Assets/OpenMined/Syft/Tensor/Factories/FloatTensorFactory.cs:24 \n",
      "  at OpenMined.Syft.Tensor.FloatTensor.Delete () [0x00048] in /Users/yanndupis/Documents/Data_Science/Encrypted_DL/OpenMined/UnityProject/Assets/OpenMined/Syft/Tensor/FloatTensor.Ops.cs:558 \n",
      "  at OpenMined.Syft.Tensor.FloatTensor.ProcessMessage (OpenMined.Network.Utils.Command msgObj, OpenMined.Network.Controllers.SyftController ctrl) [0x00e4c] in /Users/yanndupis/Documents/Data_Science/Encrypted_DL/OpenMined/UnityProject/Assets/OpenMined/Syft/Tensor/FloatTensor.cs:365 \n",
      "  at OpenMined.Network.Controllers.SyftController.processMessage (System.String json_message, UnityEngine.MonoBehaviour owner) [0x002dd] in /Users/yanndupis/Documents/Data_Science/Encrypted_DL/OpenMined/UnityProject/Assets/OpenMined/Network/Controllers/SyftController.cs:231 \n",
      "Exception ignored in: <object repr() failed>\n",
      "Traceback (most recent call last):\n",
      "  File \"/Users/yanndupis/anaconda2/envs/tflearn/lib/python3.5/site-packages/syft-0.1.0-py3.5.egg/syft/tensor.py\", line 544, in __del__\n",
      "  File \"/Users/yanndupis/anaconda2/envs/tflearn/lib/python3.5/site-packages/syft-0.1.0-py3.5.egg/syft/tensor.py\", line 1516, in delete_tensor\n",
      "  File \"/Users/yanndupis/anaconda2/envs/tflearn/lib/python3.5/site-packages/syft-0.1.0-py3.5.egg/syft/tensor.py\", line 1504, in no_params_func\n",
      "  File \"/Users/yanndupis/anaconda2/envs/tflearn/lib/python3.5/site-packages/syft-0.1.0-py3.5.egg/syft/tensor.py\", line 1486, in params_func\n",
      "  File \"/Users/yanndupis/anaconda2/envs/tflearn/lib/python3.5/site-packages/syft-0.1.0-py3.5.egg/syft/controller.py\", line 143, in send_json\n",
      "Exception: Unity Error: System.Collections.Generic.KeyNotFoundException: The given key was not present in the dictionary.\n",
      "  at System.ThrowHelper.ThrowKeyNotFoundException () [0x00000] in /Users/builduser/buildslave/mono/build/mcs/class/referencesource/mscorlib/system/throwhelper.cs:68 \n",
      "  at System.Collections.Generic.Dictionary`2[TKey,TValue].get_Item (TKey key) [0x0001e] in /Users/builduser/buildslave/mono/build/mcs/class/referencesource/mscorlib/system/collections/generic/dictionary.cs:183 \n",
      "  at OpenMined.Syft.Tensor.Factories.FloatTensorFactory.Get (System.Int32 id) [0x00008] in /Users/yanndupis/Documents/Data_Science/Encrypted_DL/OpenMined/UnityProject/Assets/OpenMined/Syft/Tensor/Factories/FloatTensorFactory.cs:24 \n",
      "  at OpenMined.Syft.Tensor.FloatTensor.Delete () [0x00048] in /Users/yanndupis/Documents/Data_Science/Encrypted_DL/OpenMined/UnityProject/Assets/OpenMined/Syft/Tensor/FloatTensor.Ops.cs:558 \n",
      "  at OpenMined.Syft.Tensor.FloatTensor.ProcessMessage (OpenMined.Network.Utils.Command msgObj, OpenMined.Network.Controllers.SyftController ctrl) [0x00e4c] in /Users/yanndupis/Documents/Data_Science/Encrypted_DL/OpenMined/UnityProject/Assets/OpenMined/Syft/Tensor/FloatTensor.cs:365 \n",
      "  at OpenMined.Network.Controllers.SyftController.processMessage (System.String json_message, UnityEngine.MonoBehaviour owner) [0x002dd] in /Users/yanndupis/Documents/Data_Science/Encrypted_DL/OpenMined/UnityProject/Assets/OpenMined/Network/Controllers/SyftController.cs:231 \n",
      "Exception ignored in: <object repr() failed>\n",
      "Traceback (most recent call last):\n",
      "  File \"/Users/yanndupis/anaconda2/envs/tflearn/lib/python3.5/site-packages/syft-0.1.0-py3.5.egg/syft/tensor.py\", line 544, in __del__\n",
      "  File \"/Users/yanndupis/anaconda2/envs/tflearn/lib/python3.5/site-packages/syft-0.1.0-py3.5.egg/syft/tensor.py\", line 1516, in delete_tensor\n",
      "  File \"/Users/yanndupis/anaconda2/envs/tflearn/lib/python3.5/site-packages/syft-0.1.0-py3.5.egg/syft/tensor.py\", line 1504, in no_params_func\n",
      "  File \"/Users/yanndupis/anaconda2/envs/tflearn/lib/python3.5/site-packages/syft-0.1.0-py3.5.egg/syft/tensor.py\", line 1486, in params_func\n",
      "  File \"/Users/yanndupis/anaconda2/envs/tflearn/lib/python3.5/site-packages/syft-0.1.0-py3.5.egg/syft/controller.py\", line 143, in send_json\n",
      "Exception: Unity Error: System.Collections.Generic.KeyNotFoundException: The given key was not present in the dictionary.\n",
      "  at System.ThrowHelper.ThrowKeyNotFoundException () [0x00000] in /Users/builduser/buildslave/mono/build/mcs/class/referencesource/mscorlib/system/throwhelper.cs:68 \n",
      "  at System.Collections.Generic.Dictionary`2[TKey,TValue].get_Item (TKey key) [0x0001e] in /Users/builduser/buildslave/mono/build/mcs/class/referencesource/mscorlib/system/collections/generic/dictionary.cs:183 \n",
      "  at OpenMined.Syft.Tensor.Factories.FloatTensorFactory.Get (System.Int32 id) [0x00008] in /Users/yanndupis/Documents/Data_Science/Encrypted_DL/OpenMined/UnityProject/Assets/OpenMined/Syft/Tensor/Factories/FloatTensorFactory.cs:24 \n",
      "  at OpenMined.Syft.Tensor.FloatTensor.Delete () [0x00048] in /Users/yanndupis/Documents/Data_Science/Encrypted_DL/OpenMined/UnityProject/Assets/OpenMined/Syft/Tensor/FloatTensor.Ops.cs:558 \n",
      "  at OpenMined.Syft.Tensor.FloatTensor.ProcessMessage (OpenMined.Network.Utils.Command msgObj, OpenMined.Network.Controllers.SyftController ctrl) [0x00e4c] in /Users/yanndupis/Documents/Data_Science/Encrypted_DL/OpenMined/UnityProject/Assets/OpenMined/Syft/Tensor/FloatTensor.cs:365 \n",
      "  at OpenMined.Network.Controllers.SyftController.processMessage (System.String json_message, UnityEngine.MonoBehaviour owner) [0x002dd] in /Users/yanndupis/Documents/Data_Science/Encrypted_DL/OpenMined/UnityProject/Assets/OpenMined/Network/Controllers/SyftController.cs:231 \n",
      "Exception ignored in: <object repr() failed>\n",
      "Traceback (most recent call last):\n",
      "  File \"/Users/yanndupis/anaconda2/envs/tflearn/lib/python3.5/site-packages/syft-0.1.0-py3.5.egg/syft/tensor.py\", line 544, in __del__\n",
      "  File \"/Users/yanndupis/anaconda2/envs/tflearn/lib/python3.5/site-packages/syft-0.1.0-py3.5.egg/syft/tensor.py\", line 1516, in delete_tensor\n",
      "  File \"/Users/yanndupis/anaconda2/envs/tflearn/lib/python3.5/site-packages/syft-0.1.0-py3.5.egg/syft/tensor.py\", line 1504, in no_params_func\n",
      "  File \"/Users/yanndupis/anaconda2/envs/tflearn/lib/python3.5/site-packages/syft-0.1.0-py3.5.egg/syft/tensor.py\", line 1486, in params_func\n",
      "  File \"/Users/yanndupis/anaconda2/envs/tflearn/lib/python3.5/site-packages/syft-0.1.0-py3.5.egg/syft/controller.py\", line 143, in send_json\n",
      "Exception: Unity Error: System.Collections.Generic.KeyNotFoundException: The given key was not present in the dictionary.\n",
      "  at System.ThrowHelper.ThrowKeyNotFoundException () [0x00000] in /Users/builduser/buildslave/mono/build/mcs/class/referencesource/mscorlib/system/throwhelper.cs:68 \n",
      "  at System.Collections.Generic.Dictionary`2[TKey,TValue].get_Item (TKey key) [0x0001e] in /Users/builduser/buildslave/mono/build/mcs/class/referencesource/mscorlib/system/collections/generic/dictionary.cs:183 \n",
      "  at OpenMined.Syft.Tensor.Factories.FloatTensorFactory.Get (System.Int32 id) [0x00008] in /Users/yanndupis/Documents/Data_Science/Encrypted_DL/OpenMined/UnityProject/Assets/OpenMined/Syft/Tensor/Factories/FloatTensorFactory.cs:24 \n",
      "  at OpenMined.Syft.Tensor.FloatTensor.Delete () [0x00048] in /Users/yanndupis/Documents/Data_Science/Encrypted_DL/OpenMined/UnityProject/Assets/OpenMined/Syft/Tensor/FloatTensor.Ops.cs:558 \n",
      "  at OpenMined.Syft.Tensor.FloatTensor.ProcessMessage (OpenMined.Network.Utils.Command msgObj, OpenMined.Network.Controllers.SyftController ctrl) [0x00e4c] in /Users/yanndupis/Documents/Data_Science/Encrypted_DL/OpenMined/UnityProject/Assets/OpenMined/Syft/Tensor/FloatTensor.cs:365 \n",
      "  at OpenMined.Network.Controllers.SyftController.processMessage (System.String json_message, UnityEngine.MonoBehaviour owner) [0x002dd] in /Users/yanndupis/Documents/Data_Science/Encrypted_DL/OpenMined/UnityProject/Assets/OpenMined/Network/Controllers/SyftController.cs:231 \n"
     ]
    },
    {
     "name": "stderr",
     "output_type": "stream",
     "text": [
      "Exception ignored in: <object repr() failed>\n",
      "Traceback (most recent call last):\n",
      "  File \"/Users/yanndupis/anaconda2/envs/tflearn/lib/python3.5/site-packages/syft-0.1.0-py3.5.egg/syft/tensor.py\", line 544, in __del__\n",
      "  File \"/Users/yanndupis/anaconda2/envs/tflearn/lib/python3.5/site-packages/syft-0.1.0-py3.5.egg/syft/tensor.py\", line 1516, in delete_tensor\n",
      "  File \"/Users/yanndupis/anaconda2/envs/tflearn/lib/python3.5/site-packages/syft-0.1.0-py3.5.egg/syft/tensor.py\", line 1504, in no_params_func\n",
      "  File \"/Users/yanndupis/anaconda2/envs/tflearn/lib/python3.5/site-packages/syft-0.1.0-py3.5.egg/syft/tensor.py\", line 1486, in params_func\n",
      "  File \"/Users/yanndupis/anaconda2/envs/tflearn/lib/python3.5/site-packages/syft-0.1.0-py3.5.egg/syft/controller.py\", line 143, in send_json\n",
      "Exception: Unity Error: System.Collections.Generic.KeyNotFoundException: The given key was not present in the dictionary.\n",
      "  at System.ThrowHelper.ThrowKeyNotFoundException () [0x00000] in /Users/builduser/buildslave/mono/build/mcs/class/referencesource/mscorlib/system/throwhelper.cs:68 \n",
      "  at System.Collections.Generic.Dictionary`2[TKey,TValue].get_Item (TKey key) [0x0001e] in /Users/builduser/buildslave/mono/build/mcs/class/referencesource/mscorlib/system/collections/generic/dictionary.cs:183 \n",
      "  at OpenMined.Syft.Tensor.Factories.FloatTensorFactory.Get (System.Int32 id) [0x00008] in /Users/yanndupis/Documents/Data_Science/Encrypted_DL/OpenMined/UnityProject/Assets/OpenMined/Syft/Tensor/Factories/FloatTensorFactory.cs:24 \n",
      "  at OpenMined.Syft.Tensor.FloatTensor.Delete () [0x00048] in /Users/yanndupis/Documents/Data_Science/Encrypted_DL/OpenMined/UnityProject/Assets/OpenMined/Syft/Tensor/FloatTensor.Ops.cs:558 \n",
      "  at OpenMined.Syft.Tensor.FloatTensor.ProcessMessage (OpenMined.Network.Utils.Command msgObj, OpenMined.Network.Controllers.SyftController ctrl) [0x00e4c] in /Users/yanndupis/Documents/Data_Science/Encrypted_DL/OpenMined/UnityProject/Assets/OpenMined/Syft/Tensor/FloatTensor.cs:365 \n",
      "  at OpenMined.Network.Controllers.SyftController.processMessage (System.String json_message, UnityEngine.MonoBehaviour owner) [0x002dd] in /Users/yanndupis/Documents/Data_Science/Encrypted_DL/OpenMined/UnityProject/Assets/OpenMined/Network/Controllers/SyftController.cs:231 \n",
      "Exception ignored in: <object repr() failed>\n",
      "Traceback (most recent call last):\n",
      "  File \"/Users/yanndupis/anaconda2/envs/tflearn/lib/python3.5/site-packages/syft-0.1.0-py3.5.egg/syft/tensor.py\", line 544, in __del__\n",
      "  File \"/Users/yanndupis/anaconda2/envs/tflearn/lib/python3.5/site-packages/syft-0.1.0-py3.5.egg/syft/tensor.py\", line 1516, in delete_tensor\n",
      "  File \"/Users/yanndupis/anaconda2/envs/tflearn/lib/python3.5/site-packages/syft-0.1.0-py3.5.egg/syft/tensor.py\", line 1504, in no_params_func\n",
      "  File \"/Users/yanndupis/anaconda2/envs/tflearn/lib/python3.5/site-packages/syft-0.1.0-py3.5.egg/syft/tensor.py\", line 1486, in params_func\n",
      "  File \"/Users/yanndupis/anaconda2/envs/tflearn/lib/python3.5/site-packages/syft-0.1.0-py3.5.egg/syft/controller.py\", line 143, in send_json\n",
      "Exception: Unity Error: System.Collections.Generic.KeyNotFoundException: The given key was not present in the dictionary.\n",
      "  at System.ThrowHelper.ThrowKeyNotFoundException () [0x00000] in /Users/builduser/buildslave/mono/build/mcs/class/referencesource/mscorlib/system/throwhelper.cs:68 \n",
      "  at System.Collections.Generic.Dictionary`2[TKey,TValue].get_Item (TKey key) [0x0001e] in /Users/builduser/buildslave/mono/build/mcs/class/referencesource/mscorlib/system/collections/generic/dictionary.cs:183 \n",
      "  at OpenMined.Syft.Tensor.Factories.FloatTensorFactory.Get (System.Int32 id) [0x00008] in /Users/yanndupis/Documents/Data_Science/Encrypted_DL/OpenMined/UnityProject/Assets/OpenMined/Syft/Tensor/Factories/FloatTensorFactory.cs:24 \n",
      "  at OpenMined.Syft.Tensor.FloatTensor.Delete () [0x00048] in /Users/yanndupis/Documents/Data_Science/Encrypted_DL/OpenMined/UnityProject/Assets/OpenMined/Syft/Tensor/FloatTensor.Ops.cs:558 \n",
      "  at OpenMined.Syft.Tensor.FloatTensor.ProcessMessage (OpenMined.Network.Utils.Command msgObj, OpenMined.Network.Controllers.SyftController ctrl) [0x00e4c] in /Users/yanndupis/Documents/Data_Science/Encrypted_DL/OpenMined/UnityProject/Assets/OpenMined/Syft/Tensor/FloatTensor.cs:365 \n",
      "  at OpenMined.Network.Controllers.SyftController.processMessage (System.String json_message, UnityEngine.MonoBehaviour owner) [0x002dd] in /Users/yanndupis/Documents/Data_Science/Encrypted_DL/OpenMined/UnityProject/Assets/OpenMined/Network/Controllers/SyftController.cs:231 \n",
      "Exception ignored in: <object repr() failed>\n",
      "Traceback (most recent call last):\n",
      "  File \"/Users/yanndupis/anaconda2/envs/tflearn/lib/python3.5/site-packages/syft-0.1.0-py3.5.egg/syft/tensor.py\", line 544, in __del__\n",
      "  File \"/Users/yanndupis/anaconda2/envs/tflearn/lib/python3.5/site-packages/syft-0.1.0-py3.5.egg/syft/tensor.py\", line 1516, in delete_tensor\n",
      "  File \"/Users/yanndupis/anaconda2/envs/tflearn/lib/python3.5/site-packages/syft-0.1.0-py3.5.egg/syft/tensor.py\", line 1504, in no_params_func\n",
      "  File \"/Users/yanndupis/anaconda2/envs/tflearn/lib/python3.5/site-packages/syft-0.1.0-py3.5.egg/syft/tensor.py\", line 1486, in params_func\n",
      "  File \"/Users/yanndupis/anaconda2/envs/tflearn/lib/python3.5/site-packages/syft-0.1.0-py3.5.egg/syft/controller.py\", line 143, in send_json\n",
      "Exception: Unity Error: System.Collections.Generic.KeyNotFoundException: The given key was not present in the dictionary.\n",
      "  at System.ThrowHelper.ThrowKeyNotFoundException () [0x00000] in /Users/builduser/buildslave/mono/build/mcs/class/referencesource/mscorlib/system/throwhelper.cs:68 \n",
      "  at System.Collections.Generic.Dictionary`2[TKey,TValue].get_Item (TKey key) [0x0001e] in /Users/builduser/buildslave/mono/build/mcs/class/referencesource/mscorlib/system/collections/generic/dictionary.cs:183 \n",
      "  at OpenMined.Syft.Tensor.Factories.FloatTensorFactory.Get (System.Int32 id) [0x00008] in /Users/yanndupis/Documents/Data_Science/Encrypted_DL/OpenMined/UnityProject/Assets/OpenMined/Syft/Tensor/Factories/FloatTensorFactory.cs:24 \n",
      "  at OpenMined.Syft.Tensor.FloatTensor.Delete () [0x00048] in /Users/yanndupis/Documents/Data_Science/Encrypted_DL/OpenMined/UnityProject/Assets/OpenMined/Syft/Tensor/FloatTensor.Ops.cs:558 \n",
      "  at OpenMined.Syft.Tensor.FloatTensor.ProcessMessage (OpenMined.Network.Utils.Command msgObj, OpenMined.Network.Controllers.SyftController ctrl) [0x00e4c] in /Users/yanndupis/Documents/Data_Science/Encrypted_DL/OpenMined/UnityProject/Assets/OpenMined/Syft/Tensor/FloatTensor.cs:365 \n",
      "  at OpenMined.Network.Controllers.SyftController.processMessage (System.String json_message, UnityEngine.MonoBehaviour owner) [0x002dd] in /Users/yanndupis/Documents/Data_Science/Encrypted_DL/OpenMined/UnityProject/Assets/OpenMined/Network/Controllers/SyftController.cs:231 \n",
      "Exception ignored in: <object repr() failed>\n",
      "Traceback (most recent call last):\n",
      "  File \"/Users/yanndupis/anaconda2/envs/tflearn/lib/python3.5/site-packages/syft-0.1.0-py3.5.egg/syft/tensor.py\", line 544, in __del__\n",
      "  File \"/Users/yanndupis/anaconda2/envs/tflearn/lib/python3.5/site-packages/syft-0.1.0-py3.5.egg/syft/tensor.py\", line 1516, in delete_tensor\n",
      "  File \"/Users/yanndupis/anaconda2/envs/tflearn/lib/python3.5/site-packages/syft-0.1.0-py3.5.egg/syft/tensor.py\", line 1504, in no_params_func\n",
      "  File \"/Users/yanndupis/anaconda2/envs/tflearn/lib/python3.5/site-packages/syft-0.1.0-py3.5.egg/syft/tensor.py\", line 1486, in params_func\n",
      "  File \"/Users/yanndupis/anaconda2/envs/tflearn/lib/python3.5/site-packages/syft-0.1.0-py3.5.egg/syft/controller.py\", line 143, in send_json\n",
      "Exception: Unity Error: System.Collections.Generic.KeyNotFoundException: The given key was not present in the dictionary.\n",
      "  at System.ThrowHelper.ThrowKeyNotFoundException () [0x00000] in /Users/builduser/buildslave/mono/build/mcs/class/referencesource/mscorlib/system/throwhelper.cs:68 \n",
      "  at System.Collections.Generic.Dictionary`2[TKey,TValue].get_Item (TKey key) [0x0001e] in /Users/builduser/buildslave/mono/build/mcs/class/referencesource/mscorlib/system/collections/generic/dictionary.cs:183 \n",
      "  at OpenMined.Syft.Tensor.Factories.FloatTensorFactory.Get (System.Int32 id) [0x00008] in /Users/yanndupis/Documents/Data_Science/Encrypted_DL/OpenMined/UnityProject/Assets/OpenMined/Syft/Tensor/Factories/FloatTensorFactory.cs:24 \n",
      "  at OpenMined.Syft.Tensor.FloatTensor.Delete () [0x00048] in /Users/yanndupis/Documents/Data_Science/Encrypted_DL/OpenMined/UnityProject/Assets/OpenMined/Syft/Tensor/FloatTensor.Ops.cs:558 \n",
      "  at OpenMined.Syft.Tensor.FloatTensor.ProcessMessage (OpenMined.Network.Utils.Command msgObj, OpenMined.Network.Controllers.SyftController ctrl) [0x00e4c] in /Users/yanndupis/Documents/Data_Science/Encrypted_DL/OpenMined/UnityProject/Assets/OpenMined/Syft/Tensor/FloatTensor.cs:365 \n",
      "  at OpenMined.Network.Controllers.SyftController.processMessage (System.String json_message, UnityEngine.MonoBehaviour owner) [0x002dd] in /Users/yanndupis/Documents/Data_Science/Encrypted_DL/OpenMined/UnityProject/Assets/OpenMined/Network/Controllers/SyftController.cs:231 \n"
     ]
    },
    {
     "name": "stderr",
     "output_type": "stream",
     "text": [
      "Exception ignored in: <object repr() failed>\n",
      "Traceback (most recent call last):\n",
      "  File \"/Users/yanndupis/anaconda2/envs/tflearn/lib/python3.5/site-packages/syft-0.1.0-py3.5.egg/syft/tensor.py\", line 544, in __del__\n",
      "  File \"/Users/yanndupis/anaconda2/envs/tflearn/lib/python3.5/site-packages/syft-0.1.0-py3.5.egg/syft/tensor.py\", line 1516, in delete_tensor\n",
      "  File \"/Users/yanndupis/anaconda2/envs/tflearn/lib/python3.5/site-packages/syft-0.1.0-py3.5.egg/syft/tensor.py\", line 1504, in no_params_func\n",
      "  File \"/Users/yanndupis/anaconda2/envs/tflearn/lib/python3.5/site-packages/syft-0.1.0-py3.5.egg/syft/tensor.py\", line 1486, in params_func\n",
      "  File \"/Users/yanndupis/anaconda2/envs/tflearn/lib/python3.5/site-packages/syft-0.1.0-py3.5.egg/syft/controller.py\", line 143, in send_json\n",
      "Exception: Unity Error: System.Collections.Generic.KeyNotFoundException: The given key was not present in the dictionary.\n",
      "  at System.ThrowHelper.ThrowKeyNotFoundException () [0x00000] in /Users/builduser/buildslave/mono/build/mcs/class/referencesource/mscorlib/system/throwhelper.cs:68 \n",
      "  at System.Collections.Generic.Dictionary`2[TKey,TValue].get_Item (TKey key) [0x0001e] in /Users/builduser/buildslave/mono/build/mcs/class/referencesource/mscorlib/system/collections/generic/dictionary.cs:183 \n",
      "  at OpenMined.Syft.Tensor.Factories.FloatTensorFactory.Get (System.Int32 id) [0x00008] in /Users/yanndupis/Documents/Data_Science/Encrypted_DL/OpenMined/UnityProject/Assets/OpenMined/Syft/Tensor/Factories/FloatTensorFactory.cs:24 \n",
      "  at OpenMined.Syft.Tensor.FloatTensor.Delete () [0x00048] in /Users/yanndupis/Documents/Data_Science/Encrypted_DL/OpenMined/UnityProject/Assets/OpenMined/Syft/Tensor/FloatTensor.Ops.cs:558 \n",
      "  at OpenMined.Syft.Tensor.FloatTensor.ProcessMessage (OpenMined.Network.Utils.Command msgObj, OpenMined.Network.Controllers.SyftController ctrl) [0x00e4c] in /Users/yanndupis/Documents/Data_Science/Encrypted_DL/OpenMined/UnityProject/Assets/OpenMined/Syft/Tensor/FloatTensor.cs:365 \n",
      "  at OpenMined.Network.Controllers.SyftController.processMessage (System.String json_message, UnityEngine.MonoBehaviour owner) [0x002dd] in /Users/yanndupis/Documents/Data_Science/Encrypted_DL/OpenMined/UnityProject/Assets/OpenMined/Network/Controllers/SyftController.cs:231 \n",
      "Exception ignored in: <object repr() failed>\n",
      "Traceback (most recent call last):\n",
      "  File \"/Users/yanndupis/anaconda2/envs/tflearn/lib/python3.5/site-packages/syft-0.1.0-py3.5.egg/syft/tensor.py\", line 544, in __del__\n",
      "  File \"/Users/yanndupis/anaconda2/envs/tflearn/lib/python3.5/site-packages/syft-0.1.0-py3.5.egg/syft/tensor.py\", line 1516, in delete_tensor\n",
      "  File \"/Users/yanndupis/anaconda2/envs/tflearn/lib/python3.5/site-packages/syft-0.1.0-py3.5.egg/syft/tensor.py\", line 1504, in no_params_func\n",
      "  File \"/Users/yanndupis/anaconda2/envs/tflearn/lib/python3.5/site-packages/syft-0.1.0-py3.5.egg/syft/tensor.py\", line 1486, in params_func\n",
      "  File \"/Users/yanndupis/anaconda2/envs/tflearn/lib/python3.5/site-packages/syft-0.1.0-py3.5.egg/syft/controller.py\", line 143, in send_json\n",
      "Exception: Unity Error: System.Collections.Generic.KeyNotFoundException: The given key was not present in the dictionary.\n",
      "  at System.ThrowHelper.ThrowKeyNotFoundException () [0x00000] in /Users/builduser/buildslave/mono/build/mcs/class/referencesource/mscorlib/system/throwhelper.cs:68 \n",
      "  at System.Collections.Generic.Dictionary`2[TKey,TValue].get_Item (TKey key) [0x0001e] in /Users/builduser/buildslave/mono/build/mcs/class/referencesource/mscorlib/system/collections/generic/dictionary.cs:183 \n",
      "  at OpenMined.Syft.Tensor.Factories.FloatTensorFactory.Get (System.Int32 id) [0x00008] in /Users/yanndupis/Documents/Data_Science/Encrypted_DL/OpenMined/UnityProject/Assets/OpenMined/Syft/Tensor/Factories/FloatTensorFactory.cs:24 \n",
      "  at OpenMined.Syft.Tensor.FloatTensor.Delete () [0x00048] in /Users/yanndupis/Documents/Data_Science/Encrypted_DL/OpenMined/UnityProject/Assets/OpenMined/Syft/Tensor/FloatTensor.Ops.cs:558 \n",
      "  at OpenMined.Syft.Tensor.FloatTensor.ProcessMessage (OpenMined.Network.Utils.Command msgObj, OpenMined.Network.Controllers.SyftController ctrl) [0x00e4c] in /Users/yanndupis/Documents/Data_Science/Encrypted_DL/OpenMined/UnityProject/Assets/OpenMined/Syft/Tensor/FloatTensor.cs:365 \n",
      "  at OpenMined.Network.Controllers.SyftController.processMessage (System.String json_message, UnityEngine.MonoBehaviour owner) [0x002dd] in /Users/yanndupis/Documents/Data_Science/Encrypted_DL/OpenMined/UnityProject/Assets/OpenMined/Network/Controllers/SyftController.cs:231 \n",
      "Exception ignored in: <object repr() failed>\n",
      "Traceback (most recent call last):\n",
      "  File \"/Users/yanndupis/anaconda2/envs/tflearn/lib/python3.5/site-packages/syft-0.1.0-py3.5.egg/syft/tensor.py\", line 544, in __del__\n",
      "  File \"/Users/yanndupis/anaconda2/envs/tflearn/lib/python3.5/site-packages/syft-0.1.0-py3.5.egg/syft/tensor.py\", line 1516, in delete_tensor\n",
      "  File \"/Users/yanndupis/anaconda2/envs/tflearn/lib/python3.5/site-packages/syft-0.1.0-py3.5.egg/syft/tensor.py\", line 1504, in no_params_func\n",
      "  File \"/Users/yanndupis/anaconda2/envs/tflearn/lib/python3.5/site-packages/syft-0.1.0-py3.5.egg/syft/tensor.py\", line 1486, in params_func\n",
      "  File \"/Users/yanndupis/anaconda2/envs/tflearn/lib/python3.5/site-packages/syft-0.1.0-py3.5.egg/syft/controller.py\", line 143, in send_json\n",
      "Exception: Unity Error: System.Collections.Generic.KeyNotFoundException: The given key was not present in the dictionary.\n",
      "  at System.ThrowHelper.ThrowKeyNotFoundException () [0x00000] in /Users/builduser/buildslave/mono/build/mcs/class/referencesource/mscorlib/system/throwhelper.cs:68 \n",
      "  at System.Collections.Generic.Dictionary`2[TKey,TValue].get_Item (TKey key) [0x0001e] in /Users/builduser/buildslave/mono/build/mcs/class/referencesource/mscorlib/system/collections/generic/dictionary.cs:183 \n",
      "  at OpenMined.Syft.Tensor.Factories.FloatTensorFactory.Get (System.Int32 id) [0x00008] in /Users/yanndupis/Documents/Data_Science/Encrypted_DL/OpenMined/UnityProject/Assets/OpenMined/Syft/Tensor/Factories/FloatTensorFactory.cs:24 \n",
      "  at OpenMined.Syft.Tensor.FloatTensor.Delete () [0x00048] in /Users/yanndupis/Documents/Data_Science/Encrypted_DL/OpenMined/UnityProject/Assets/OpenMined/Syft/Tensor/FloatTensor.Ops.cs:558 \n",
      "  at OpenMined.Syft.Tensor.FloatTensor.ProcessMessage (OpenMined.Network.Utils.Command msgObj, OpenMined.Network.Controllers.SyftController ctrl) [0x00e4c] in /Users/yanndupis/Documents/Data_Science/Encrypted_DL/OpenMined/UnityProject/Assets/OpenMined/Syft/Tensor/FloatTensor.cs:365 \n",
      "  at OpenMined.Network.Controllers.SyftController.processMessage (System.String json_message, UnityEngine.MonoBehaviour owner) [0x002dd] in /Users/yanndupis/Documents/Data_Science/Encrypted_DL/OpenMined/UnityProject/Assets/OpenMined/Network/Controllers/SyftController.cs:231 \n",
      "Exception ignored in: <object repr() failed>\n",
      "Traceback (most recent call last):\n",
      "  File \"/Users/yanndupis/anaconda2/envs/tflearn/lib/python3.5/site-packages/syft-0.1.0-py3.5.egg/syft/tensor.py\", line 544, in __del__\n",
      "  File \"/Users/yanndupis/anaconda2/envs/tflearn/lib/python3.5/site-packages/syft-0.1.0-py3.5.egg/syft/tensor.py\", line 1516, in delete_tensor\n",
      "  File \"/Users/yanndupis/anaconda2/envs/tflearn/lib/python3.5/site-packages/syft-0.1.0-py3.5.egg/syft/tensor.py\", line 1504, in no_params_func\n",
      "  File \"/Users/yanndupis/anaconda2/envs/tflearn/lib/python3.5/site-packages/syft-0.1.0-py3.5.egg/syft/tensor.py\", line 1486, in params_func\n",
      "  File \"/Users/yanndupis/anaconda2/envs/tflearn/lib/python3.5/site-packages/syft-0.1.0-py3.5.egg/syft/controller.py\", line 143, in send_json\n",
      "Exception: Unity Error: System.Collections.Generic.KeyNotFoundException: The given key was not present in the dictionary.\n",
      "  at System.ThrowHelper.ThrowKeyNotFoundException () [0x00000] in /Users/builduser/buildslave/mono/build/mcs/class/referencesource/mscorlib/system/throwhelper.cs:68 \n",
      "  at System.Collections.Generic.Dictionary`2[TKey,TValue].get_Item (TKey key) [0x0001e] in /Users/builduser/buildslave/mono/build/mcs/class/referencesource/mscorlib/system/collections/generic/dictionary.cs:183 \n",
      "  at OpenMined.Syft.Tensor.Factories.FloatTensorFactory.Get (System.Int32 id) [0x00008] in /Users/yanndupis/Documents/Data_Science/Encrypted_DL/OpenMined/UnityProject/Assets/OpenMined/Syft/Tensor/Factories/FloatTensorFactory.cs:24 \n",
      "  at OpenMined.Syft.Tensor.FloatTensor.Delete () [0x00048] in /Users/yanndupis/Documents/Data_Science/Encrypted_DL/OpenMined/UnityProject/Assets/OpenMined/Syft/Tensor/FloatTensor.Ops.cs:558 \n",
      "  at OpenMined.Syft.Tensor.FloatTensor.ProcessMessage (OpenMined.Network.Utils.Command msgObj, OpenMined.Network.Controllers.SyftController ctrl) [0x00e4c] in /Users/yanndupis/Documents/Data_Science/Encrypted_DL/OpenMined/UnityProject/Assets/OpenMined/Syft/Tensor/FloatTensor.cs:365 \n",
      "  at OpenMined.Network.Controllers.SyftController.processMessage (System.String json_message, UnityEngine.MonoBehaviour owner) [0x002dd] in /Users/yanndupis/Documents/Data_Science/Encrypted_DL/OpenMined/UnityProject/Assets/OpenMined/Network/Controllers/SyftController.cs:231 \n"
     ]
    },
    {
     "name": "stderr",
     "output_type": "stream",
     "text": [
      "Exception ignored in: <object repr() failed>\n",
      "Traceback (most recent call last):\n",
      "  File \"/Users/yanndupis/anaconda2/envs/tflearn/lib/python3.5/site-packages/syft-0.1.0-py3.5.egg/syft/tensor.py\", line 544, in __del__\n",
      "  File \"/Users/yanndupis/anaconda2/envs/tflearn/lib/python3.5/site-packages/syft-0.1.0-py3.5.egg/syft/tensor.py\", line 1516, in delete_tensor\n",
      "  File \"/Users/yanndupis/anaconda2/envs/tflearn/lib/python3.5/site-packages/syft-0.1.0-py3.5.egg/syft/tensor.py\", line 1504, in no_params_func\n",
      "  File \"/Users/yanndupis/anaconda2/envs/tflearn/lib/python3.5/site-packages/syft-0.1.0-py3.5.egg/syft/tensor.py\", line 1486, in params_func\n",
      "  File \"/Users/yanndupis/anaconda2/envs/tflearn/lib/python3.5/site-packages/syft-0.1.0-py3.5.egg/syft/controller.py\", line 143, in send_json\n",
      "Exception: Unity Error: System.Collections.Generic.KeyNotFoundException: The given key was not present in the dictionary.\n",
      "  at System.ThrowHelper.ThrowKeyNotFoundException () [0x00000] in /Users/builduser/buildslave/mono/build/mcs/class/referencesource/mscorlib/system/throwhelper.cs:68 \n",
      "  at System.Collections.Generic.Dictionary`2[TKey,TValue].get_Item (TKey key) [0x0001e] in /Users/builduser/buildslave/mono/build/mcs/class/referencesource/mscorlib/system/collections/generic/dictionary.cs:183 \n",
      "  at OpenMined.Syft.Tensor.Factories.FloatTensorFactory.Get (System.Int32 id) [0x00008] in /Users/yanndupis/Documents/Data_Science/Encrypted_DL/OpenMined/UnityProject/Assets/OpenMined/Syft/Tensor/Factories/FloatTensorFactory.cs:24 \n",
      "  at OpenMined.Syft.Tensor.FloatTensor.Delete () [0x00048] in /Users/yanndupis/Documents/Data_Science/Encrypted_DL/OpenMined/UnityProject/Assets/OpenMined/Syft/Tensor/FloatTensor.Ops.cs:558 \n",
      "  at OpenMined.Syft.Tensor.FloatTensor.ProcessMessage (OpenMined.Network.Utils.Command msgObj, OpenMined.Network.Controllers.SyftController ctrl) [0x00e4c] in /Users/yanndupis/Documents/Data_Science/Encrypted_DL/OpenMined/UnityProject/Assets/OpenMined/Syft/Tensor/FloatTensor.cs:365 \n",
      "  at OpenMined.Network.Controllers.SyftController.processMessage (System.String json_message, UnityEngine.MonoBehaviour owner) [0x002dd] in /Users/yanndupis/Documents/Data_Science/Encrypted_DL/OpenMined/UnityProject/Assets/OpenMined/Network/Controllers/SyftController.cs:231 \n",
      "Exception ignored in: <object repr() failed>\n",
      "Traceback (most recent call last):\n",
      "  File \"/Users/yanndupis/anaconda2/envs/tflearn/lib/python3.5/site-packages/syft-0.1.0-py3.5.egg/syft/tensor.py\", line 544, in __del__\n",
      "  File \"/Users/yanndupis/anaconda2/envs/tflearn/lib/python3.5/site-packages/syft-0.1.0-py3.5.egg/syft/tensor.py\", line 1516, in delete_tensor\n",
      "  File \"/Users/yanndupis/anaconda2/envs/tflearn/lib/python3.5/site-packages/syft-0.1.0-py3.5.egg/syft/tensor.py\", line 1504, in no_params_func\n",
      "  File \"/Users/yanndupis/anaconda2/envs/tflearn/lib/python3.5/site-packages/syft-0.1.0-py3.5.egg/syft/tensor.py\", line 1486, in params_func\n",
      "  File \"/Users/yanndupis/anaconda2/envs/tflearn/lib/python3.5/site-packages/syft-0.1.0-py3.5.egg/syft/controller.py\", line 143, in send_json\n",
      "Exception: Unity Error: System.Collections.Generic.KeyNotFoundException: The given key was not present in the dictionary.\n",
      "  at System.ThrowHelper.ThrowKeyNotFoundException () [0x00000] in /Users/builduser/buildslave/mono/build/mcs/class/referencesource/mscorlib/system/throwhelper.cs:68 \n",
      "  at System.Collections.Generic.Dictionary`2[TKey,TValue].get_Item (TKey key) [0x0001e] in /Users/builduser/buildslave/mono/build/mcs/class/referencesource/mscorlib/system/collections/generic/dictionary.cs:183 \n",
      "  at OpenMined.Syft.Tensor.Factories.FloatTensorFactory.Get (System.Int32 id) [0x00008] in /Users/yanndupis/Documents/Data_Science/Encrypted_DL/OpenMined/UnityProject/Assets/OpenMined/Syft/Tensor/Factories/FloatTensorFactory.cs:24 \n",
      "  at OpenMined.Syft.Tensor.FloatTensor.Delete () [0x00048] in /Users/yanndupis/Documents/Data_Science/Encrypted_DL/OpenMined/UnityProject/Assets/OpenMined/Syft/Tensor/FloatTensor.Ops.cs:558 \n",
      "  at OpenMined.Syft.Tensor.FloatTensor.ProcessMessage (OpenMined.Network.Utils.Command msgObj, OpenMined.Network.Controllers.SyftController ctrl) [0x00e4c] in /Users/yanndupis/Documents/Data_Science/Encrypted_DL/OpenMined/UnityProject/Assets/OpenMined/Syft/Tensor/FloatTensor.cs:365 \n",
      "  at OpenMined.Network.Controllers.SyftController.processMessage (System.String json_message, UnityEngine.MonoBehaviour owner) [0x002dd] in /Users/yanndupis/Documents/Data_Science/Encrypted_DL/OpenMined/UnityProject/Assets/OpenMined/Network/Controllers/SyftController.cs:231 \n",
      "Exception ignored in: <object repr() failed>\n",
      "Traceback (most recent call last):\n",
      "  File \"/Users/yanndupis/anaconda2/envs/tflearn/lib/python3.5/site-packages/syft-0.1.0-py3.5.egg/syft/tensor.py\", line 544, in __del__\n",
      "  File \"/Users/yanndupis/anaconda2/envs/tflearn/lib/python3.5/site-packages/syft-0.1.0-py3.5.egg/syft/tensor.py\", line 1516, in delete_tensor\n",
      "  File \"/Users/yanndupis/anaconda2/envs/tflearn/lib/python3.5/site-packages/syft-0.1.0-py3.5.egg/syft/tensor.py\", line 1504, in no_params_func\n",
      "  File \"/Users/yanndupis/anaconda2/envs/tflearn/lib/python3.5/site-packages/syft-0.1.0-py3.5.egg/syft/tensor.py\", line 1486, in params_func\n",
      "  File \"/Users/yanndupis/anaconda2/envs/tflearn/lib/python3.5/site-packages/syft-0.1.0-py3.5.egg/syft/controller.py\", line 143, in send_json\n",
      "Exception: Unity Error: System.Collections.Generic.KeyNotFoundException: The given key was not present in the dictionary.\n",
      "  at System.ThrowHelper.ThrowKeyNotFoundException () [0x00000] in /Users/builduser/buildslave/mono/build/mcs/class/referencesource/mscorlib/system/throwhelper.cs:68 \n",
      "  at System.Collections.Generic.Dictionary`2[TKey,TValue].get_Item (TKey key) [0x0001e] in /Users/builduser/buildslave/mono/build/mcs/class/referencesource/mscorlib/system/collections/generic/dictionary.cs:183 \n",
      "  at OpenMined.Syft.Tensor.Factories.FloatTensorFactory.Get (System.Int32 id) [0x00008] in /Users/yanndupis/Documents/Data_Science/Encrypted_DL/OpenMined/UnityProject/Assets/OpenMined/Syft/Tensor/Factories/FloatTensorFactory.cs:24 \n",
      "  at OpenMined.Syft.Tensor.FloatTensor.Delete () [0x00048] in /Users/yanndupis/Documents/Data_Science/Encrypted_DL/OpenMined/UnityProject/Assets/OpenMined/Syft/Tensor/FloatTensor.Ops.cs:558 \n",
      "  at OpenMined.Syft.Tensor.FloatTensor.ProcessMessage (OpenMined.Network.Utils.Command msgObj, OpenMined.Network.Controllers.SyftController ctrl) [0x00e4c] in /Users/yanndupis/Documents/Data_Science/Encrypted_DL/OpenMined/UnityProject/Assets/OpenMined/Syft/Tensor/FloatTensor.cs:365 \n",
      "  at OpenMined.Network.Controllers.SyftController.processMessage (System.String json_message, UnityEngine.MonoBehaviour owner) [0x002dd] in /Users/yanndupis/Documents/Data_Science/Encrypted_DL/OpenMined/UnityProject/Assets/OpenMined/Network/Controllers/SyftController.cs:231 \n",
      "Exception ignored in: <object repr() failed>\n",
      "Traceback (most recent call last):\n",
      "  File \"/Users/yanndupis/anaconda2/envs/tflearn/lib/python3.5/site-packages/syft-0.1.0-py3.5.egg/syft/tensor.py\", line 544, in __del__\n",
      "  File \"/Users/yanndupis/anaconda2/envs/tflearn/lib/python3.5/site-packages/syft-0.1.0-py3.5.egg/syft/tensor.py\", line 1516, in delete_tensor\n",
      "  File \"/Users/yanndupis/anaconda2/envs/tflearn/lib/python3.5/site-packages/syft-0.1.0-py3.5.egg/syft/tensor.py\", line 1504, in no_params_func\n",
      "  File \"/Users/yanndupis/anaconda2/envs/tflearn/lib/python3.5/site-packages/syft-0.1.0-py3.5.egg/syft/tensor.py\", line 1486, in params_func\n",
      "  File \"/Users/yanndupis/anaconda2/envs/tflearn/lib/python3.5/site-packages/syft-0.1.0-py3.5.egg/syft/controller.py\", line 143, in send_json\n",
      "Exception: Unity Error: System.Collections.Generic.KeyNotFoundException: The given key was not present in the dictionary.\n",
      "  at System.ThrowHelper.ThrowKeyNotFoundException () [0x00000] in /Users/builduser/buildslave/mono/build/mcs/class/referencesource/mscorlib/system/throwhelper.cs:68 \n",
      "  at System.Collections.Generic.Dictionary`2[TKey,TValue].get_Item (TKey key) [0x0001e] in /Users/builduser/buildslave/mono/build/mcs/class/referencesource/mscorlib/system/collections/generic/dictionary.cs:183 \n",
      "  at OpenMined.Syft.Tensor.Factories.FloatTensorFactory.Get (System.Int32 id) [0x00008] in /Users/yanndupis/Documents/Data_Science/Encrypted_DL/OpenMined/UnityProject/Assets/OpenMined/Syft/Tensor/Factories/FloatTensorFactory.cs:24 \n",
      "  at OpenMined.Syft.Tensor.FloatTensor.Delete () [0x00048] in /Users/yanndupis/Documents/Data_Science/Encrypted_DL/OpenMined/UnityProject/Assets/OpenMined/Syft/Tensor/FloatTensor.Ops.cs:558 \n",
      "  at OpenMined.Syft.Tensor.FloatTensor.ProcessMessage (OpenMined.Network.Utils.Command msgObj, OpenMined.Network.Controllers.SyftController ctrl) [0x00e4c] in /Users/yanndupis/Documents/Data_Science/Encrypted_DL/OpenMined/UnityProject/Assets/OpenMined/Syft/Tensor/FloatTensor.cs:365 \n",
      "  at OpenMined.Network.Controllers.SyftController.processMessage (System.String json_message, UnityEngine.MonoBehaviour owner) [0x002dd] in /Users/yanndupis/Documents/Data_Science/Encrypted_DL/OpenMined/UnityProject/Assets/OpenMined/Network/Controllers/SyftController.cs:231 \n"
     ]
    },
    {
     "name": "stderr",
     "output_type": "stream",
     "text": [
      "Exception ignored in: <object repr() failed>\n",
      "Traceback (most recent call last):\n",
      "  File \"/Users/yanndupis/anaconda2/envs/tflearn/lib/python3.5/site-packages/syft-0.1.0-py3.5.egg/syft/tensor.py\", line 544, in __del__\n",
      "  File \"/Users/yanndupis/anaconda2/envs/tflearn/lib/python3.5/site-packages/syft-0.1.0-py3.5.egg/syft/tensor.py\", line 1516, in delete_tensor\n",
      "  File \"/Users/yanndupis/anaconda2/envs/tflearn/lib/python3.5/site-packages/syft-0.1.0-py3.5.egg/syft/tensor.py\", line 1504, in no_params_func\n",
      "  File \"/Users/yanndupis/anaconda2/envs/tflearn/lib/python3.5/site-packages/syft-0.1.0-py3.5.egg/syft/tensor.py\", line 1486, in params_func\n",
      "  File \"/Users/yanndupis/anaconda2/envs/tflearn/lib/python3.5/site-packages/syft-0.1.0-py3.5.egg/syft/controller.py\", line 143, in send_json\n",
      "Exception: Unity Error: System.Collections.Generic.KeyNotFoundException: The given key was not present in the dictionary.\n",
      "  at System.ThrowHelper.ThrowKeyNotFoundException () [0x00000] in /Users/builduser/buildslave/mono/build/mcs/class/referencesource/mscorlib/system/throwhelper.cs:68 \n",
      "  at System.Collections.Generic.Dictionary`2[TKey,TValue].get_Item (TKey key) [0x0001e] in /Users/builduser/buildslave/mono/build/mcs/class/referencesource/mscorlib/system/collections/generic/dictionary.cs:183 \n",
      "  at OpenMined.Syft.Tensor.Factories.FloatTensorFactory.Get (System.Int32 id) [0x00008] in /Users/yanndupis/Documents/Data_Science/Encrypted_DL/OpenMined/UnityProject/Assets/OpenMined/Syft/Tensor/Factories/FloatTensorFactory.cs:24 \n",
      "  at OpenMined.Syft.Tensor.FloatTensor.Delete () [0x00048] in /Users/yanndupis/Documents/Data_Science/Encrypted_DL/OpenMined/UnityProject/Assets/OpenMined/Syft/Tensor/FloatTensor.Ops.cs:558 \n",
      "  at OpenMined.Syft.Tensor.FloatTensor.ProcessMessage (OpenMined.Network.Utils.Command msgObj, OpenMined.Network.Controllers.SyftController ctrl) [0x00e4c] in /Users/yanndupis/Documents/Data_Science/Encrypted_DL/OpenMined/UnityProject/Assets/OpenMined/Syft/Tensor/FloatTensor.cs:365 \n",
      "  at OpenMined.Network.Controllers.SyftController.processMessage (System.String json_message, UnityEngine.MonoBehaviour owner) [0x002dd] in /Users/yanndupis/Documents/Data_Science/Encrypted_DL/OpenMined/UnityProject/Assets/OpenMined/Network/Controllers/SyftController.cs:231 \n",
      "Exception ignored in: <object repr() failed>\n",
      "Traceback (most recent call last):\n",
      "  File \"/Users/yanndupis/anaconda2/envs/tflearn/lib/python3.5/site-packages/syft-0.1.0-py3.5.egg/syft/tensor.py\", line 544, in __del__\n",
      "  File \"/Users/yanndupis/anaconda2/envs/tflearn/lib/python3.5/site-packages/syft-0.1.0-py3.5.egg/syft/tensor.py\", line 1516, in delete_tensor\n",
      "  File \"/Users/yanndupis/anaconda2/envs/tflearn/lib/python3.5/site-packages/syft-0.1.0-py3.5.egg/syft/tensor.py\", line 1504, in no_params_func\n",
      "  File \"/Users/yanndupis/anaconda2/envs/tflearn/lib/python3.5/site-packages/syft-0.1.0-py3.5.egg/syft/tensor.py\", line 1486, in params_func\n",
      "  File \"/Users/yanndupis/anaconda2/envs/tflearn/lib/python3.5/site-packages/syft-0.1.0-py3.5.egg/syft/controller.py\", line 143, in send_json\n",
      "Exception: Unity Error: System.Collections.Generic.KeyNotFoundException: The given key was not present in the dictionary.\n",
      "  at System.ThrowHelper.ThrowKeyNotFoundException () [0x00000] in /Users/builduser/buildslave/mono/build/mcs/class/referencesource/mscorlib/system/throwhelper.cs:68 \n",
      "  at System.Collections.Generic.Dictionary`2[TKey,TValue].get_Item (TKey key) [0x0001e] in /Users/builduser/buildslave/mono/build/mcs/class/referencesource/mscorlib/system/collections/generic/dictionary.cs:183 \n",
      "  at OpenMined.Syft.Tensor.Factories.FloatTensorFactory.Get (System.Int32 id) [0x00008] in /Users/yanndupis/Documents/Data_Science/Encrypted_DL/OpenMined/UnityProject/Assets/OpenMined/Syft/Tensor/Factories/FloatTensorFactory.cs:24 \n",
      "  at OpenMined.Syft.Tensor.FloatTensor.Delete () [0x00048] in /Users/yanndupis/Documents/Data_Science/Encrypted_DL/OpenMined/UnityProject/Assets/OpenMined/Syft/Tensor/FloatTensor.Ops.cs:558 \n",
      "  at OpenMined.Syft.Tensor.FloatTensor.ProcessMessage (OpenMined.Network.Utils.Command msgObj, OpenMined.Network.Controllers.SyftController ctrl) [0x00e4c] in /Users/yanndupis/Documents/Data_Science/Encrypted_DL/OpenMined/UnityProject/Assets/OpenMined/Syft/Tensor/FloatTensor.cs:365 \n",
      "  at OpenMined.Network.Controllers.SyftController.processMessage (System.String json_message, UnityEngine.MonoBehaviour owner) [0x002dd] in /Users/yanndupis/Documents/Data_Science/Encrypted_DL/OpenMined/UnityProject/Assets/OpenMined/Network/Controllers/SyftController.cs:231 \n",
      "Exception ignored in: <object repr() failed>\n",
      "Traceback (most recent call last):\n",
      "  File \"/Users/yanndupis/anaconda2/envs/tflearn/lib/python3.5/site-packages/syft-0.1.0-py3.5.egg/syft/tensor.py\", line 544, in __del__\n",
      "  File \"/Users/yanndupis/anaconda2/envs/tflearn/lib/python3.5/site-packages/syft-0.1.0-py3.5.egg/syft/tensor.py\", line 1516, in delete_tensor\n",
      "  File \"/Users/yanndupis/anaconda2/envs/tflearn/lib/python3.5/site-packages/syft-0.1.0-py3.5.egg/syft/tensor.py\", line 1504, in no_params_func\n",
      "  File \"/Users/yanndupis/anaconda2/envs/tflearn/lib/python3.5/site-packages/syft-0.1.0-py3.5.egg/syft/tensor.py\", line 1486, in params_func\n",
      "  File \"/Users/yanndupis/anaconda2/envs/tflearn/lib/python3.5/site-packages/syft-0.1.0-py3.5.egg/syft/controller.py\", line 143, in send_json\n",
      "Exception: Unity Error: System.Collections.Generic.KeyNotFoundException: The given key was not present in the dictionary.\n",
      "  at System.ThrowHelper.ThrowKeyNotFoundException () [0x00000] in /Users/builduser/buildslave/mono/build/mcs/class/referencesource/mscorlib/system/throwhelper.cs:68 \n",
      "  at System.Collections.Generic.Dictionary`2[TKey,TValue].get_Item (TKey key) [0x0001e] in /Users/builduser/buildslave/mono/build/mcs/class/referencesource/mscorlib/system/collections/generic/dictionary.cs:183 \n",
      "  at OpenMined.Syft.Tensor.Factories.FloatTensorFactory.Get (System.Int32 id) [0x00008] in /Users/yanndupis/Documents/Data_Science/Encrypted_DL/OpenMined/UnityProject/Assets/OpenMined/Syft/Tensor/Factories/FloatTensorFactory.cs:24 \n",
      "  at OpenMined.Syft.Tensor.FloatTensor.Delete () [0x00048] in /Users/yanndupis/Documents/Data_Science/Encrypted_DL/OpenMined/UnityProject/Assets/OpenMined/Syft/Tensor/FloatTensor.Ops.cs:558 \n",
      "  at OpenMined.Syft.Tensor.FloatTensor.ProcessMessage (OpenMined.Network.Utils.Command msgObj, OpenMined.Network.Controllers.SyftController ctrl) [0x00e4c] in /Users/yanndupis/Documents/Data_Science/Encrypted_DL/OpenMined/UnityProject/Assets/OpenMined/Syft/Tensor/FloatTensor.cs:365 \n",
      "  at OpenMined.Network.Controllers.SyftController.processMessage (System.String json_message, UnityEngine.MonoBehaviour owner) [0x002dd] in /Users/yanndupis/Documents/Data_Science/Encrypted_DL/OpenMined/UnityProject/Assets/OpenMined/Network/Controllers/SyftController.cs:231 \n",
      "Exception ignored in: <object repr() failed>\n",
      "Traceback (most recent call last):\n",
      "  File \"/Users/yanndupis/anaconda2/envs/tflearn/lib/python3.5/site-packages/syft-0.1.0-py3.5.egg/syft/tensor.py\", line 544, in __del__\n",
      "  File \"/Users/yanndupis/anaconda2/envs/tflearn/lib/python3.5/site-packages/syft-0.1.0-py3.5.egg/syft/tensor.py\", line 1516, in delete_tensor\n",
      "  File \"/Users/yanndupis/anaconda2/envs/tflearn/lib/python3.5/site-packages/syft-0.1.0-py3.5.egg/syft/tensor.py\", line 1504, in no_params_func\n",
      "  File \"/Users/yanndupis/anaconda2/envs/tflearn/lib/python3.5/site-packages/syft-0.1.0-py3.5.egg/syft/tensor.py\", line 1486, in params_func\n",
      "  File \"/Users/yanndupis/anaconda2/envs/tflearn/lib/python3.5/site-packages/syft-0.1.0-py3.5.egg/syft/controller.py\", line 143, in send_json\n",
      "Exception: Unity Error: System.Collections.Generic.KeyNotFoundException: The given key was not present in the dictionary.\n",
      "  at System.ThrowHelper.ThrowKeyNotFoundException () [0x00000] in /Users/builduser/buildslave/mono/build/mcs/class/referencesource/mscorlib/system/throwhelper.cs:68 \n",
      "  at System.Collections.Generic.Dictionary`2[TKey,TValue].get_Item (TKey key) [0x0001e] in /Users/builduser/buildslave/mono/build/mcs/class/referencesource/mscorlib/system/collections/generic/dictionary.cs:183 \n",
      "  at OpenMined.Syft.Tensor.Factories.FloatTensorFactory.Get (System.Int32 id) [0x00008] in /Users/yanndupis/Documents/Data_Science/Encrypted_DL/OpenMined/UnityProject/Assets/OpenMined/Syft/Tensor/Factories/FloatTensorFactory.cs:24 \n",
      "  at OpenMined.Syft.Tensor.FloatTensor.Delete () [0x00048] in /Users/yanndupis/Documents/Data_Science/Encrypted_DL/OpenMined/UnityProject/Assets/OpenMined/Syft/Tensor/FloatTensor.Ops.cs:558 \n",
      "  at OpenMined.Syft.Tensor.FloatTensor.ProcessMessage (OpenMined.Network.Utils.Command msgObj, OpenMined.Network.Controllers.SyftController ctrl) [0x00e4c] in /Users/yanndupis/Documents/Data_Science/Encrypted_DL/OpenMined/UnityProject/Assets/OpenMined/Syft/Tensor/FloatTensor.cs:365 \n",
      "  at OpenMined.Network.Controllers.SyftController.processMessage (System.String json_message, UnityEngine.MonoBehaviour owner) [0x002dd] in /Users/yanndupis/Documents/Data_Science/Encrypted_DL/OpenMined/UnityProject/Assets/OpenMined/Network/Controllers/SyftController.cs:231 \n"
     ]
    },
    {
     "name": "stderr",
     "output_type": "stream",
     "text": [
      "Exception ignored in: <object repr() failed>\n",
      "Traceback (most recent call last):\n",
      "  File \"/Users/yanndupis/anaconda2/envs/tflearn/lib/python3.5/site-packages/syft-0.1.0-py3.5.egg/syft/tensor.py\", line 544, in __del__\n",
      "  File \"/Users/yanndupis/anaconda2/envs/tflearn/lib/python3.5/site-packages/syft-0.1.0-py3.5.egg/syft/tensor.py\", line 1516, in delete_tensor\n",
      "  File \"/Users/yanndupis/anaconda2/envs/tflearn/lib/python3.5/site-packages/syft-0.1.0-py3.5.egg/syft/tensor.py\", line 1504, in no_params_func\n",
      "  File \"/Users/yanndupis/anaconda2/envs/tflearn/lib/python3.5/site-packages/syft-0.1.0-py3.5.egg/syft/tensor.py\", line 1486, in params_func\n",
      "  File \"/Users/yanndupis/anaconda2/envs/tflearn/lib/python3.5/site-packages/syft-0.1.0-py3.5.egg/syft/controller.py\", line 143, in send_json\n",
      "Exception: Unity Error: System.Collections.Generic.KeyNotFoundException: The given key was not present in the dictionary.\n",
      "  at System.ThrowHelper.ThrowKeyNotFoundException () [0x00000] in /Users/builduser/buildslave/mono/build/mcs/class/referencesource/mscorlib/system/throwhelper.cs:68 \n",
      "  at System.Collections.Generic.Dictionary`2[TKey,TValue].get_Item (TKey key) [0x0001e] in /Users/builduser/buildslave/mono/build/mcs/class/referencesource/mscorlib/system/collections/generic/dictionary.cs:183 \n",
      "  at OpenMined.Syft.Tensor.Factories.FloatTensorFactory.Get (System.Int32 id) [0x00008] in /Users/yanndupis/Documents/Data_Science/Encrypted_DL/OpenMined/UnityProject/Assets/OpenMined/Syft/Tensor/Factories/FloatTensorFactory.cs:24 \n",
      "  at OpenMined.Syft.Tensor.FloatTensor.Delete () [0x00048] in /Users/yanndupis/Documents/Data_Science/Encrypted_DL/OpenMined/UnityProject/Assets/OpenMined/Syft/Tensor/FloatTensor.Ops.cs:558 \n",
      "  at OpenMined.Syft.Tensor.FloatTensor.ProcessMessage (OpenMined.Network.Utils.Command msgObj, OpenMined.Network.Controllers.SyftController ctrl) [0x00e4c] in /Users/yanndupis/Documents/Data_Science/Encrypted_DL/OpenMined/UnityProject/Assets/OpenMined/Syft/Tensor/FloatTensor.cs:365 \n",
      "  at OpenMined.Network.Controllers.SyftController.processMessage (System.String json_message, UnityEngine.MonoBehaviour owner) [0x002dd] in /Users/yanndupis/Documents/Data_Science/Encrypted_DL/OpenMined/UnityProject/Assets/OpenMined/Network/Controllers/SyftController.cs:231 \n",
      "Exception ignored in: <object repr() failed>\n",
      "Traceback (most recent call last):\n",
      "  File \"/Users/yanndupis/anaconda2/envs/tflearn/lib/python3.5/site-packages/syft-0.1.0-py3.5.egg/syft/tensor.py\", line 544, in __del__\n",
      "  File \"/Users/yanndupis/anaconda2/envs/tflearn/lib/python3.5/site-packages/syft-0.1.0-py3.5.egg/syft/tensor.py\", line 1516, in delete_tensor\n",
      "  File \"/Users/yanndupis/anaconda2/envs/tflearn/lib/python3.5/site-packages/syft-0.1.0-py3.5.egg/syft/tensor.py\", line 1504, in no_params_func\n",
      "  File \"/Users/yanndupis/anaconda2/envs/tflearn/lib/python3.5/site-packages/syft-0.1.0-py3.5.egg/syft/tensor.py\", line 1486, in params_func\n",
      "  File \"/Users/yanndupis/anaconda2/envs/tflearn/lib/python3.5/site-packages/syft-0.1.0-py3.5.egg/syft/controller.py\", line 143, in send_json\n",
      "Exception: Unity Error: System.Collections.Generic.KeyNotFoundException: The given key was not present in the dictionary.\n",
      "  at System.ThrowHelper.ThrowKeyNotFoundException () [0x00000] in /Users/builduser/buildslave/mono/build/mcs/class/referencesource/mscorlib/system/throwhelper.cs:68 \n",
      "  at System.Collections.Generic.Dictionary`2[TKey,TValue].get_Item (TKey key) [0x0001e] in /Users/builduser/buildslave/mono/build/mcs/class/referencesource/mscorlib/system/collections/generic/dictionary.cs:183 \n",
      "  at OpenMined.Syft.Tensor.Factories.FloatTensorFactory.Get (System.Int32 id) [0x00008] in /Users/yanndupis/Documents/Data_Science/Encrypted_DL/OpenMined/UnityProject/Assets/OpenMined/Syft/Tensor/Factories/FloatTensorFactory.cs:24 \n",
      "  at OpenMined.Syft.Tensor.FloatTensor.Delete () [0x00048] in /Users/yanndupis/Documents/Data_Science/Encrypted_DL/OpenMined/UnityProject/Assets/OpenMined/Syft/Tensor/FloatTensor.Ops.cs:558 \n",
      "  at OpenMined.Syft.Tensor.FloatTensor.ProcessMessage (OpenMined.Network.Utils.Command msgObj, OpenMined.Network.Controllers.SyftController ctrl) [0x00e4c] in /Users/yanndupis/Documents/Data_Science/Encrypted_DL/OpenMined/UnityProject/Assets/OpenMined/Syft/Tensor/FloatTensor.cs:365 \n",
      "  at OpenMined.Network.Controllers.SyftController.processMessage (System.String json_message, UnityEngine.MonoBehaviour owner) [0x002dd] in /Users/yanndupis/Documents/Data_Science/Encrypted_DL/OpenMined/UnityProject/Assets/OpenMined/Network/Controllers/SyftController.cs:231 \n",
      "Exception ignored in: <object repr() failed>\n",
      "Traceback (most recent call last):\n",
      "  File \"/Users/yanndupis/anaconda2/envs/tflearn/lib/python3.5/site-packages/syft-0.1.0-py3.5.egg/syft/tensor.py\", line 544, in __del__\n",
      "  File \"/Users/yanndupis/anaconda2/envs/tflearn/lib/python3.5/site-packages/syft-0.1.0-py3.5.egg/syft/tensor.py\", line 1516, in delete_tensor\n",
      "  File \"/Users/yanndupis/anaconda2/envs/tflearn/lib/python3.5/site-packages/syft-0.1.0-py3.5.egg/syft/tensor.py\", line 1504, in no_params_func\n",
      "  File \"/Users/yanndupis/anaconda2/envs/tflearn/lib/python3.5/site-packages/syft-0.1.0-py3.5.egg/syft/tensor.py\", line 1486, in params_func\n",
      "  File \"/Users/yanndupis/anaconda2/envs/tflearn/lib/python3.5/site-packages/syft-0.1.0-py3.5.egg/syft/controller.py\", line 143, in send_json\n",
      "Exception: Unity Error: System.Collections.Generic.KeyNotFoundException: The given key was not present in the dictionary.\n",
      "  at System.ThrowHelper.ThrowKeyNotFoundException () [0x00000] in /Users/builduser/buildslave/mono/build/mcs/class/referencesource/mscorlib/system/throwhelper.cs:68 \n",
      "  at System.Collections.Generic.Dictionary`2[TKey,TValue].get_Item (TKey key) [0x0001e] in /Users/builduser/buildslave/mono/build/mcs/class/referencesource/mscorlib/system/collections/generic/dictionary.cs:183 \n",
      "  at OpenMined.Syft.Tensor.Factories.FloatTensorFactory.Get (System.Int32 id) [0x00008] in /Users/yanndupis/Documents/Data_Science/Encrypted_DL/OpenMined/UnityProject/Assets/OpenMined/Syft/Tensor/Factories/FloatTensorFactory.cs:24 \n",
      "  at OpenMined.Syft.Tensor.FloatTensor.Delete () [0x00048] in /Users/yanndupis/Documents/Data_Science/Encrypted_DL/OpenMined/UnityProject/Assets/OpenMined/Syft/Tensor/FloatTensor.Ops.cs:558 \n",
      "  at OpenMined.Syft.Tensor.FloatTensor.ProcessMessage (OpenMined.Network.Utils.Command msgObj, OpenMined.Network.Controllers.SyftController ctrl) [0x00e4c] in /Users/yanndupis/Documents/Data_Science/Encrypted_DL/OpenMined/UnityProject/Assets/OpenMined/Syft/Tensor/FloatTensor.cs:365 \n",
      "  at OpenMined.Network.Controllers.SyftController.processMessage (System.String json_message, UnityEngine.MonoBehaviour owner) [0x002dd] in /Users/yanndupis/Documents/Data_Science/Encrypted_DL/OpenMined/UnityProject/Assets/OpenMined/Network/Controllers/SyftController.cs:231 \n",
      "Exception ignored in: <object repr() failed>\n",
      "Traceback (most recent call last):\n",
      "  File \"/Users/yanndupis/anaconda2/envs/tflearn/lib/python3.5/site-packages/syft-0.1.0-py3.5.egg/syft/tensor.py\", line 544, in __del__\n",
      "  File \"/Users/yanndupis/anaconda2/envs/tflearn/lib/python3.5/site-packages/syft-0.1.0-py3.5.egg/syft/tensor.py\", line 1516, in delete_tensor\n",
      "  File \"/Users/yanndupis/anaconda2/envs/tflearn/lib/python3.5/site-packages/syft-0.1.0-py3.5.egg/syft/tensor.py\", line 1504, in no_params_func\n",
      "  File \"/Users/yanndupis/anaconda2/envs/tflearn/lib/python3.5/site-packages/syft-0.1.0-py3.5.egg/syft/tensor.py\", line 1486, in params_func\n",
      "  File \"/Users/yanndupis/anaconda2/envs/tflearn/lib/python3.5/site-packages/syft-0.1.0-py3.5.egg/syft/controller.py\", line 143, in send_json\n",
      "Exception: Unity Error: System.Collections.Generic.KeyNotFoundException: The given key was not present in the dictionary.\n",
      "  at System.ThrowHelper.ThrowKeyNotFoundException () [0x00000] in /Users/builduser/buildslave/mono/build/mcs/class/referencesource/mscorlib/system/throwhelper.cs:68 \n",
      "  at System.Collections.Generic.Dictionary`2[TKey,TValue].get_Item (TKey key) [0x0001e] in /Users/builduser/buildslave/mono/build/mcs/class/referencesource/mscorlib/system/collections/generic/dictionary.cs:183 \n",
      "  at OpenMined.Syft.Tensor.Factories.FloatTensorFactory.Get (System.Int32 id) [0x00008] in /Users/yanndupis/Documents/Data_Science/Encrypted_DL/OpenMined/UnityProject/Assets/OpenMined/Syft/Tensor/Factories/FloatTensorFactory.cs:24 \n",
      "  at OpenMined.Syft.Tensor.FloatTensor.Delete () [0x00048] in /Users/yanndupis/Documents/Data_Science/Encrypted_DL/OpenMined/UnityProject/Assets/OpenMined/Syft/Tensor/FloatTensor.Ops.cs:558 \n",
      "  at OpenMined.Syft.Tensor.FloatTensor.ProcessMessage (OpenMined.Network.Utils.Command msgObj, OpenMined.Network.Controllers.SyftController ctrl) [0x00e4c] in /Users/yanndupis/Documents/Data_Science/Encrypted_DL/OpenMined/UnityProject/Assets/OpenMined/Syft/Tensor/FloatTensor.cs:365 \n",
      "  at OpenMined.Network.Controllers.SyftController.processMessage (System.String json_message, UnityEngine.MonoBehaviour owner) [0x002dd] in /Users/yanndupis/Documents/Data_Science/Encrypted_DL/OpenMined/UnityProject/Assets/OpenMined/Network/Controllers/SyftController.cs:231 \n"
     ]
    },
    {
     "name": "stdout",
     "output_type": "stream",
     "text": [
      "Failed to complete in trial 0\n"
     ]
    },
    {
     "name": "stderr",
     "output_type": "stream",
     "text": [
      "Exception ignored in: <object repr() failed>\n",
      "Traceback (most recent call last):\n",
      "  File \"/Users/yanndupis/anaconda2/envs/tflearn/lib/python3.5/site-packages/syft-0.1.0-py3.5.egg/syft/tensor.py\", line 544, in __del__\n",
      "  File \"/Users/yanndupis/anaconda2/envs/tflearn/lib/python3.5/site-packages/syft-0.1.0-py3.5.egg/syft/tensor.py\", line 1516, in delete_tensor\n",
      "  File \"/Users/yanndupis/anaconda2/envs/tflearn/lib/python3.5/site-packages/syft-0.1.0-py3.5.egg/syft/tensor.py\", line 1504, in no_params_func\n",
      "  File \"/Users/yanndupis/anaconda2/envs/tflearn/lib/python3.5/site-packages/syft-0.1.0-py3.5.egg/syft/tensor.py\", line 1486, in params_func\n",
      "  File \"/Users/yanndupis/anaconda2/envs/tflearn/lib/python3.5/site-packages/syft-0.1.0-py3.5.egg/syft/controller.py\", line 143, in send_json\n",
      "Exception: Unity Error: System.Collections.Generic.KeyNotFoundException: The given key was not present in the dictionary.\n",
      "  at System.ThrowHelper.ThrowKeyNotFoundException () [0x00000] in /Users/builduser/buildslave/mono/build/mcs/class/referencesource/mscorlib/system/throwhelper.cs:68 \n",
      "  at System.Collections.Generic.Dictionary`2[TKey,TValue].get_Item (TKey key) [0x0001e] in /Users/builduser/buildslave/mono/build/mcs/class/referencesource/mscorlib/system/collections/generic/dictionary.cs:183 \n",
      "  at OpenMined.Syft.Tensor.Factories.FloatTensorFactory.Get (System.Int32 id) [0x00008] in /Users/yanndupis/Documents/Data_Science/Encrypted_DL/OpenMined/UnityProject/Assets/OpenMined/Syft/Tensor/Factories/FloatTensorFactory.cs:24 \n",
      "  at OpenMined.Syft.Tensor.FloatTensor.Delete () [0x00048] in /Users/yanndupis/Documents/Data_Science/Encrypted_DL/OpenMined/UnityProject/Assets/OpenMined/Syft/Tensor/FloatTensor.Ops.cs:558 \n",
      "  at OpenMined.Syft.Tensor.FloatTensor.ProcessMessage (OpenMined.Network.Utils.Command msgObj, OpenMined.Network.Controllers.SyftController ctrl) [0x00e4c] in /Users/yanndupis/Documents/Data_Science/Encrypted_DL/OpenMined/UnityProject/Assets/OpenMined/Syft/Tensor/FloatTensor.cs:365 \n",
      "  at OpenMined.Network.Controllers.SyftController.processMessage (System.String json_message, UnityEngine.MonoBehaviour owner) [0x002dd] in /Users/yanndupis/Documents/Data_Science/Encrypted_DL/OpenMined/UnityProject/Assets/OpenMined/Network/Controllers/SyftController.cs:231 \n"
     ]
    },
    {
     "name": "stdout",
     "output_type": "stream",
     "text": [
      "Number of Batches:1\n"
     ]
    },
    {
     "data": {
      "application/vnd.jupyter.widget-view+json": {
       "model_id": "08782487ab7e489194ec6df98c918ebb"
      }
     },
     "metadata": {},
     "output_type": "display_data"
    },
    {
     "data": {
      "application/vnd.jupyter.widget-view+json": {
       "model_id": "655bd7f891c143839885e5b7f9cc0053"
      }
     },
     "metadata": {},
     "output_type": "display_data"
    },
    {
     "name": "stderr",
     "output_type": "stream",
     "text": [
      "Exception ignored in: <object repr() failed>\n",
      "Traceback (most recent call last):\n",
      "  File \"/Users/yanndupis/anaconda2/envs/tflearn/lib/python3.5/site-packages/syft-0.1.0-py3.5.egg/syft/tensor.py\", line 544, in __del__\n",
      "  File \"/Users/yanndupis/anaconda2/envs/tflearn/lib/python3.5/site-packages/syft-0.1.0-py3.5.egg/syft/tensor.py\", line 1516, in delete_tensor\n",
      "  File \"/Users/yanndupis/anaconda2/envs/tflearn/lib/python3.5/site-packages/syft-0.1.0-py3.5.egg/syft/tensor.py\", line 1504, in no_params_func\n",
      "  File \"/Users/yanndupis/anaconda2/envs/tflearn/lib/python3.5/site-packages/syft-0.1.0-py3.5.egg/syft/tensor.py\", line 1486, in params_func\n",
      "  File \"/Users/yanndupis/anaconda2/envs/tflearn/lib/python3.5/site-packages/syft-0.1.0-py3.5.egg/syft/controller.py\", line 143, in send_json\n"
     ]
    },
    {
     "name": "stdout",
     "output_type": "stream",
     "text": [
      "Number of Batches:1\n"
     ]
    },
    {
     "name": "stderr",
     "output_type": "stream",
     "text": [
      "Exception: Unity Error: System.Collections.Generic.KeyNotFoundException: The given key was not present in the dictionary.\n",
      "  at System.ThrowHelper.ThrowKeyNotFoundException () [0x00000] in /Users/builduser/buildslave/mono/build/mcs/class/referencesource/mscorlib/system/throwhelper.cs:68 \n",
      "  at System.Collections.Generic.Dictionary`2[TKey,TValue].get_Item (TKey key) [0x0001e] in /Users/builduser/buildslave/mono/build/mcs/class/referencesource/mscorlib/system/collections/generic/dictionary.cs:183 \n",
      "  at OpenMined.Syft.Tensor.Factories.FloatTensorFactory.Get (System.Int32 id) [0x00008] in /Users/yanndupis/Documents/Data_Science/Encrypted_DL/OpenMined/UnityProject/Assets/OpenMined/Syft/Tensor/Factories/FloatTensorFactory.cs:24 \n",
      "  at OpenMined.Syft.Tensor.FloatTensor.Delete () [0x00048] in /Users/yanndupis/Documents/Data_Science/Encrypted_DL/OpenMined/UnityProject/Assets/OpenMined/Syft/Tensor/FloatTensor.Ops.cs:558 \n",
      "  at OpenMined.Syft.Tensor.FloatTensor.ProcessMessage (OpenMined.Network.Utils.Command msgObj, OpenMined.Network.Controllers.SyftController ctrl) [0x00e4c] in /Users/yanndupis/Documents/Data_Science/Encrypted_DL/OpenMined/UnityProject/Assets/OpenMined/Syft/Tensor/FloatTensor.cs:365 \n",
      "  at OpenMined.Network.Controllers.SyftController.processMessage (System.String json_message, UnityEngine.MonoBehaviour owner) [0x002dd] in /Users/yanndupis/Documents/Data_Science/Encrypted_DL/OpenMined/UnityProject/Assets/OpenMined/Network/Controllers/SyftController.cs:231 \n"
     ]
    },
    {
     "data": {
      "application/vnd.jupyter.widget-view+json": {
       "model_id": "312778d7293242b880fe6dbf471cf249"
      }
     },
     "metadata": {},
     "output_type": "display_data"
    },
    {
     "data": {
      "application/vnd.jupyter.widget-view+json": {
       "model_id": "9b93749dd62741d2afb04123cca81569"
      }
     },
     "metadata": {},
     "output_type": "display_data"
    },
    {
     "name": "stderr",
     "output_type": "stream",
     "text": [
      "Exception ignored in: <object repr() failed>\n",
      "Traceback (most recent call last):\n",
      "  File \"/Users/yanndupis/anaconda2/envs/tflearn/lib/python3.5/site-packages/syft-0.1.0-py3.5.egg/syft/tensor.py\", line 544, in __del__\n",
      "  File \"/Users/yanndupis/anaconda2/envs/tflearn/lib/python3.5/site-packages/syft-0.1.0-py3.5.egg/syft/tensor.py\", line 1516, in delete_tensor\n",
      "  File \"/Users/yanndupis/anaconda2/envs/tflearn/lib/python3.5/site-packages/syft-0.1.0-py3.5.egg/syft/tensor.py\", line 1504, in no_params_func\n",
      "  File \"/Users/yanndupis/anaconda2/envs/tflearn/lib/python3.5/site-packages/syft-0.1.0-py3.5.egg/syft/tensor.py\", line 1486, in params_func\n",
      "  File \"/Users/yanndupis/anaconda2/envs/tflearn/lib/python3.5/site-packages/syft-0.1.0-py3.5.egg/syft/controller.py\", line 143, in send_json\n",
      "Exception: Unity Error: System.Collections.Generic.KeyNotFoundException: The given key was not present in the dictionary.\n",
      "  at System.ThrowHelper.ThrowKeyNotFoundException () [0x00000] in /Users/builduser/buildslave/mono/build/mcs/class/referencesource/mscorlib/system/throwhelper.cs:68 \n",
      "  at System.Collections.Generic.Dictionary`2[TKey,TValue].get_Item (TKey key) [0x0001e] in /Users/builduser/buildslave/mono/build/mcs/class/referencesource/mscorlib/system/collections/generic/dictionary.cs:183 \n",
      "  at OpenMined.Syft.Tensor.Factories.FloatTensorFactory.Get (System.Int32 id) [0x00008] in /Users/yanndupis/Documents/Data_Science/Encrypted_DL/OpenMined/UnityProject/Assets/OpenMined/Syft/Tensor/Factories/FloatTensorFactory.cs:24 \n",
      "  at OpenMined.Syft.Tensor.FloatTensor.Delete () [0x00048] in /Users/yanndupis/Documents/Data_Science/Encrypted_DL/OpenMined/UnityProject/Assets/OpenMined/Syft/Tensor/FloatTensor.Ops.cs:558 \n",
      "  at OpenMined.Syft.Tensor.FloatTensor.ProcessMessage (OpenMined.Network.Utils.Command msgObj, OpenMined.Network.Controllers.SyftController ctrl) [0x00e4c] in /Users/yanndupis/Documents/Data_Science/Encrypted_DL/OpenMined/UnityProject/Assets/OpenMined/Syft/Tensor/FloatTensor.cs:365 \n",
      "  at OpenMined.Network.Controllers.SyftController.processMessage (System.String json_message, UnityEngine.MonoBehaviour owner) [0x002dd] in /Users/yanndupis/Documents/Data_Science/Encrypted_DL/OpenMined/UnityProject/Assets/OpenMined/Network/Controllers/SyftController.cs:231 \n"
     ]
    },
    {
     "name": "stdout",
     "output_type": "stream",
     "text": [
      "Number of Batches:1\n"
     ]
    },
    {
     "data": {
      "application/vnd.jupyter.widget-view+json": {
       "model_id": "677168939279454ca6082efe80ca41d6"
      }
     },
     "metadata": {},
     "output_type": "display_data"
    },
    {
     "data": {
      "application/vnd.jupyter.widget-view+json": {
       "model_id": "8ec73f8380154a42bad2d7ff2c7ad38b"
      }
     },
     "metadata": {},
     "output_type": "display_data"
    },
    {
     "name": "stderr",
     "output_type": "stream",
     "text": [
      "Exception ignored in: <object repr() failed>\n",
      "Traceback (most recent call last):\n",
      "  File \"/Users/yanndupis/anaconda2/envs/tflearn/lib/python3.5/site-packages/syft-0.1.0-py3.5.egg/syft/tensor.py\", line 544, in __del__\n",
      "  File \"/Users/yanndupis/anaconda2/envs/tflearn/lib/python3.5/site-packages/syft-0.1.0-py3.5.egg/syft/tensor.py\", line 1516, in delete_tensor\n",
      "  File \"/Users/yanndupis/anaconda2/envs/tflearn/lib/python3.5/site-packages/syft-0.1.0-py3.5.egg/syft/tensor.py\", line 1504, in no_params_func\n",
      "  File \"/Users/yanndupis/anaconda2/envs/tflearn/lib/python3.5/site-packages/syft-0.1.0-py3.5.egg/syft/tensor.py\", line 1486, in params_func\n",
      "  File \"/Users/yanndupis/anaconda2/envs/tflearn/lib/python3.5/site-packages/syft-0.1.0-py3.5.egg/syft/controller.py\", line 143, in send_json\n",
      "Exception: Unity Error: System.Collections.Generic.KeyNotFoundException: The given key was not present in the dictionary.\n",
      "  at System.ThrowHelper.ThrowKeyNotFoundException () [0x00000] in /Users/builduser/buildslave/mono/build/mcs/class/referencesource/mscorlib/system/throwhelper.cs:68 \n",
      "  at System.Collections.Generic.Dictionary`2[TKey,TValue].get_Item (TKey key) [0x0001e] in /Users/builduser/buildslave/mono/build/mcs/class/referencesource/mscorlib/system/collections/generic/dictionary.cs:183 \n",
      "  at OpenMined.Syft.Tensor.Factories.FloatTensorFactory.Get (System.Int32 id) [0x00008] in /Users/yanndupis/Documents/Data_Science/Encrypted_DL/OpenMined/UnityProject/Assets/OpenMined/Syft/Tensor/Factories/FloatTensorFactory.cs:24 \n",
      "  at OpenMined.Syft.Tensor.FloatTensor.Delete () [0x00048] in /Users/yanndupis/Documents/Data_Science/Encrypted_DL/OpenMined/UnityProject/Assets/OpenMined/Syft/Tensor/FloatTensor.Ops.cs:558 \n",
      "  at OpenMined.Syft.Tensor.FloatTensor.ProcessMessage (OpenMined.Network.Utils.Command msgObj, OpenMined.Network.Controllers.SyftController ctrl) [0x00e4c] in /Users/yanndupis/Documents/Data_Science/Encrypted_DL/OpenMined/UnityProject/Assets/OpenMined/Syft/Tensor/FloatTensor.cs:365 \n",
      "  at OpenMined.Network.Controllers.SyftController.processMessage (System.String json_message, UnityEngine.MonoBehaviour owner) [0x002dd] in /Users/yanndupis/Documents/Data_Science/Encrypted_DL/OpenMined/UnityProject/Assets/OpenMined/Network/Controllers/SyftController.cs:231 \n"
     ]
    },
    {
     "name": "stdout",
     "output_type": "stream",
     "text": [
      "Number of Batches:1\n"
     ]
    },
    {
     "data": {
      "application/vnd.jupyter.widget-view+json": {
       "model_id": "297292ae8d8844fa9a42eec0c87e509a"
      }
     },
     "metadata": {},
     "output_type": "display_data"
    },
    {
     "data": {
      "application/vnd.jupyter.widget-view+json": {
       "model_id": "1d18819d91a44f11b32a7c5c13c294e1"
      }
     },
     "metadata": {},
     "output_type": "display_data"
    },
    {
     "name": "stderr",
     "output_type": "stream",
     "text": [
      "Exception ignored in: <object repr() failed>\n",
      "Traceback (most recent call last):\n",
      "  File \"/Users/yanndupis/anaconda2/envs/tflearn/lib/python3.5/site-packages/syft-0.1.0-py3.5.egg/syft/tensor.py\", line 544, in __del__\n",
      "  File \"/Users/yanndupis/anaconda2/envs/tflearn/lib/python3.5/site-packages/syft-0.1.0-py3.5.egg/syft/tensor.py\", line 1516, in delete_tensor\n",
      "  File \"/Users/yanndupis/anaconda2/envs/tflearn/lib/python3.5/site-packages/syft-0.1.0-py3.5.egg/syft/tensor.py\", line 1504, in no_params_func\n",
      "  File \"/Users/yanndupis/anaconda2/envs/tflearn/lib/python3.5/site-packages/syft-0.1.0-py3.5.egg/syft/tensor.py\", line 1486, in params_func\n",
      "  File \"/Users/yanndupis/anaconda2/envs/tflearn/lib/python3.5/site-packages/syft-0.1.0-py3.5.egg/syft/controller.py\", line 143, in send_json\n",
      "Exception: Unity Error: System.Collections.Generic.KeyNotFoundException: The given key was not present in the dictionary.\n",
      "  at System.ThrowHelper.ThrowKeyNotFoundException () [0x00000] in /Users/builduser/buildslave/mono/build/mcs/class/referencesource/mscorlib/system/throwhelper.cs:68 \n",
      "  at System.Collections.Generic.Dictionary`2[TKey,TValue].get_Item (TKey key) [0x0001e] in /Users/builduser/buildslave/mono/build/mcs/class/referencesource/mscorlib/system/collections/generic/dictionary.cs:183 \n",
      "  at OpenMined.Syft.Tensor.Factories.FloatTensorFactory.Get (System.Int32 id) [0x00008] in /Users/yanndupis/Documents/Data_Science/Encrypted_DL/OpenMined/UnityProject/Assets/OpenMined/Syft/Tensor/Factories/FloatTensorFactory.cs:24 \n",
      "  at OpenMined.Syft.Tensor.FloatTensor.Delete () [0x00048] in /Users/yanndupis/Documents/Data_Science/Encrypted_DL/OpenMined/UnityProject/Assets/OpenMined/Syft/Tensor/FloatTensor.Ops.cs:558 \n",
      "  at OpenMined.Syft.Tensor.FloatTensor.ProcessMessage (OpenMined.Network.Utils.Command msgObj, OpenMined.Network.Controllers.SyftController ctrl) [0x00e4c] in /Users/yanndupis/Documents/Data_Science/Encrypted_DL/OpenMined/UnityProject/Assets/OpenMined/Syft/Tensor/FloatTensor.cs:365 \n",
      "  at OpenMined.Network.Controllers.SyftController.processMessage (System.String json_message, UnityEngine.MonoBehaviour owner) [0x002dd] in /Users/yanndupis/Documents/Data_Science/Encrypted_DL/OpenMined/UnityProject/Assets/OpenMined/Network/Controllers/SyftController.cs:231 \n"
     ]
    },
    {
     "name": "stdout",
     "output_type": "stream",
     "text": [
      "Number of Batches:1\n"
     ]
    },
    {
     "data": {
      "application/vnd.jupyter.widget-view+json": {
       "model_id": "014aa58ddc1a48bf9096aecb601ffc0b"
      }
     },
     "metadata": {},
     "output_type": "display_data"
    },
    {
     "data": {
      "application/vnd.jupyter.widget-view+json": {
       "model_id": "6ffced29adbd45d5b96d882c192f4eee"
      }
     },
     "metadata": {},
     "output_type": "display_data"
    },
    {
     "name": "stderr",
     "output_type": "stream",
     "text": [
      "Exception ignored in: <object repr() failed>\n",
      "Traceback (most recent call last):\n",
      "  File \"/Users/yanndupis/anaconda2/envs/tflearn/lib/python3.5/site-packages/syft-0.1.0-py3.5.egg/syft/tensor.py\", line 544, in __del__\n",
      "  File \"/Users/yanndupis/anaconda2/envs/tflearn/lib/python3.5/site-packages/syft-0.1.0-py3.5.egg/syft/tensor.py\", line 1516, in delete_tensor\n",
      "  File \"/Users/yanndupis/anaconda2/envs/tflearn/lib/python3.5/site-packages/syft-0.1.0-py3.5.egg/syft/tensor.py\", line 1504, in no_params_func\n",
      "  File \"/Users/yanndupis/anaconda2/envs/tflearn/lib/python3.5/site-packages/syft-0.1.0-py3.5.egg/syft/tensor.py\", line 1486, in params_func\n",
      "  File \"/Users/yanndupis/anaconda2/envs/tflearn/lib/python3.5/site-packages/syft-0.1.0-py3.5.egg/syft/controller.py\", line 143, in send_json\n",
      "Exception: Unity Error: System.Collections.Generic.KeyNotFoundException: The given key was not present in the dictionary.\n",
      "  at System.ThrowHelper.ThrowKeyNotFoundException () [0x00000] in /Users/builduser/buildslave/mono/build/mcs/class/referencesource/mscorlib/system/throwhelper.cs:68 \n",
      "  at System.Collections.Generic.Dictionary`2[TKey,TValue].get_Item (TKey key) [0x0001e] in /Users/builduser/buildslave/mono/build/mcs/class/referencesource/mscorlib/system/collections/generic/dictionary.cs:183 \n",
      "  at OpenMined.Syft.Tensor.Factories.FloatTensorFactory.Get (System.Int32 id) [0x00008] in /Users/yanndupis/Documents/Data_Science/Encrypted_DL/OpenMined/UnityProject/Assets/OpenMined/Syft/Tensor/Factories/FloatTensorFactory.cs:24 \n",
      "  at OpenMined.Syft.Tensor.FloatTensor.Delete () [0x00048] in /Users/yanndupis/Documents/Data_Science/Encrypted_DL/OpenMined/UnityProject/Assets/OpenMined/Syft/Tensor/FloatTensor.Ops.cs:558 \n",
      "  at OpenMined.Syft.Tensor.FloatTensor.ProcessMessage (OpenMined.Network.Utils.Command msgObj, OpenMined.Network.Controllers.SyftController ctrl) [0x00e4c] in /Users/yanndupis/Documents/Data_Science/Encrypted_DL/OpenMined/UnityProject/Assets/OpenMined/Syft/Tensor/FloatTensor.cs:365 \n",
      "  at OpenMined.Network.Controllers.SyftController.processMessage (System.String json_message, UnityEngine.MonoBehaviour owner) [0x002dd] in /Users/yanndupis/Documents/Data_Science/Encrypted_DL/OpenMined/UnityProject/Assets/OpenMined/Network/Controllers/SyftController.cs:231 \n",
      "Exception ignored in: <object repr() failed>\n",
      "Traceback (most recent call last):\n",
      "  File \"/Users/yanndupis/anaconda2/envs/tflearn/lib/python3.5/site-packages/syft-0.1.0-py3.5.egg/syft/tensor.py\", line 544, in __del__\n",
      "  File \"/Users/yanndupis/anaconda2/envs/tflearn/lib/python3.5/site-packages/syft-0.1.0-py3.5.egg/syft/tensor.py\", line 1516, in delete_tensor\n",
      "  File \"/Users/yanndupis/anaconda2/envs/tflearn/lib/python3.5/site-packages/syft-0.1.0-py3.5.egg/syft/tensor.py\", line 1504, in no_params_func\n",
      "  File \"/Users/yanndupis/anaconda2/envs/tflearn/lib/python3.5/site-packages/syft-0.1.0-py3.5.egg/syft/tensor.py\", line 1486, in params_func\n",
      "  File \"/Users/yanndupis/anaconda2/envs/tflearn/lib/python3.5/site-packages/syft-0.1.0-py3.5.egg/syft/controller.py\", line 143, in send_json\n",
      "Exception: Unity Error: System.Collections.Generic.KeyNotFoundException: The given key was not present in the dictionary.\n",
      "  at System.ThrowHelper.ThrowKeyNotFoundException () [0x00000] in /Users/builduser/buildslave/mono/build/mcs/class/referencesource/mscorlib/system/throwhelper.cs:68 \n",
      "  at System.Collections.Generic.Dictionary`2[TKey,TValue].get_Item (TKey key) [0x0001e] in /Users/builduser/buildslave/mono/build/mcs/class/referencesource/mscorlib/system/collections/generic/dictionary.cs:183 \n",
      "  at OpenMined.Syft.Tensor.Factories.FloatTensorFactory.Get (System.Int32 id) [0x00008] in /Users/yanndupis/Documents/Data_Science/Encrypted_DL/OpenMined/UnityProject/Assets/OpenMined/Syft/Tensor/Factories/FloatTensorFactory.cs:24 \n",
      "  at OpenMined.Syft.Tensor.FloatTensor.Delete () [0x00048] in /Users/yanndupis/Documents/Data_Science/Encrypted_DL/OpenMined/UnityProject/Assets/OpenMined/Syft/Tensor/FloatTensor.Ops.cs:558 \n",
      "  at OpenMined.Syft.Tensor.FloatTensor.ProcessMessage (OpenMined.Network.Utils.Command msgObj, OpenMined.Network.Controllers.SyftController ctrl) [0x00e4c] in /Users/yanndupis/Documents/Data_Science/Encrypted_DL/OpenMined/UnityProject/Assets/OpenMined/Syft/Tensor/FloatTensor.cs:365 \n",
      "  at OpenMined.Network.Controllers.SyftController.processMessage (System.String json_message, UnityEngine.MonoBehaviour owner) [0x002dd] in /Users/yanndupis/Documents/Data_Science/Encrypted_DL/OpenMined/UnityProject/Assets/OpenMined/Network/Controllers/SyftController.cs:231 \n",
      "Exception ignored in: <object repr() failed>\n",
      "Traceback (most recent call last):\n",
      "  File \"/Users/yanndupis/anaconda2/envs/tflearn/lib/python3.5/site-packages/syft-0.1.0-py3.5.egg/syft/tensor.py\", line 544, in __del__\n",
      "  File \"/Users/yanndupis/anaconda2/envs/tflearn/lib/python3.5/site-packages/syft-0.1.0-py3.5.egg/syft/tensor.py\", line 1516, in delete_tensor\n",
      "  File \"/Users/yanndupis/anaconda2/envs/tflearn/lib/python3.5/site-packages/syft-0.1.0-py3.5.egg/syft/tensor.py\", line 1504, in no_params_func\n",
      "  File \"/Users/yanndupis/anaconda2/envs/tflearn/lib/python3.5/site-packages/syft-0.1.0-py3.5.egg/syft/tensor.py\", line 1486, in params_func\n",
      "  File \"/Users/yanndupis/anaconda2/envs/tflearn/lib/python3.5/site-packages/syft-0.1.0-py3.5.egg/syft/controller.py\", line 143, in send_json\n",
      "Exception: Unity Error: System.Collections.Generic.KeyNotFoundException: The given key was not present in the dictionary.\n",
      "  at System.ThrowHelper.ThrowKeyNotFoundException () [0x00000] in /Users/builduser/buildslave/mono/build/mcs/class/referencesource/mscorlib/system/throwhelper.cs:68 \n",
      "  at System.Collections.Generic.Dictionary`2[TKey,TValue].get_Item (TKey key) [0x0001e] in /Users/builduser/buildslave/mono/build/mcs/class/referencesource/mscorlib/system/collections/generic/dictionary.cs:183 \n",
      "  at OpenMined.Syft.Tensor.Factories.FloatTensorFactory.Get (System.Int32 id) [0x00008] in /Users/yanndupis/Documents/Data_Science/Encrypted_DL/OpenMined/UnityProject/Assets/OpenMined/Syft/Tensor/Factories/FloatTensorFactory.cs:24 \n",
      "  at OpenMined.Syft.Tensor.FloatTensor.Delete () [0x00048] in /Users/yanndupis/Documents/Data_Science/Encrypted_DL/OpenMined/UnityProject/Assets/OpenMined/Syft/Tensor/FloatTensor.Ops.cs:558 \n",
      "  at OpenMined.Syft.Tensor.FloatTensor.ProcessMessage (OpenMined.Network.Utils.Command msgObj, OpenMined.Network.Controllers.SyftController ctrl) [0x00e4c] in /Users/yanndupis/Documents/Data_Science/Encrypted_DL/OpenMined/UnityProject/Assets/OpenMined/Syft/Tensor/FloatTensor.cs:365 \n",
      "  at OpenMined.Network.Controllers.SyftController.processMessage (System.String json_message, UnityEngine.MonoBehaviour owner) [0x002dd] in /Users/yanndupis/Documents/Data_Science/Encrypted_DL/OpenMined/UnityProject/Assets/OpenMined/Network/Controllers/SyftController.cs:231 \n",
      "Exception ignored in: <object repr() failed>\n",
      "Traceback (most recent call last):\n",
      "  File \"/Users/yanndupis/anaconda2/envs/tflearn/lib/python3.5/site-packages/syft-0.1.0-py3.5.egg/syft/tensor.py\", line 544, in __del__\n",
      "  File \"/Users/yanndupis/anaconda2/envs/tflearn/lib/python3.5/site-packages/syft-0.1.0-py3.5.egg/syft/tensor.py\", line 1516, in delete_tensor\n",
      "  File \"/Users/yanndupis/anaconda2/envs/tflearn/lib/python3.5/site-packages/syft-0.1.0-py3.5.egg/syft/tensor.py\", line 1504, in no_params_func\n",
      "  File \"/Users/yanndupis/anaconda2/envs/tflearn/lib/python3.5/site-packages/syft-0.1.0-py3.5.egg/syft/tensor.py\", line 1486, in params_func\n",
      "  File \"/Users/yanndupis/anaconda2/envs/tflearn/lib/python3.5/site-packages/syft-0.1.0-py3.5.egg/syft/controller.py\", line 143, in send_json\n",
      "Exception: Unity Error: System.Collections.Generic.KeyNotFoundException: The given key was not present in the dictionary.\n",
      "  at System.ThrowHelper.ThrowKeyNotFoundException () [0x00000] in /Users/builduser/buildslave/mono/build/mcs/class/referencesource/mscorlib/system/throwhelper.cs:68 \n",
      "  at System.Collections.Generic.Dictionary`2[TKey,TValue].get_Item (TKey key) [0x0001e] in /Users/builduser/buildslave/mono/build/mcs/class/referencesource/mscorlib/system/collections/generic/dictionary.cs:183 \n",
      "  at OpenMined.Syft.Tensor.Factories.FloatTensorFactory.Get (System.Int32 id) [0x00008] in /Users/yanndupis/Documents/Data_Science/Encrypted_DL/OpenMined/UnityProject/Assets/OpenMined/Syft/Tensor/Factories/FloatTensorFactory.cs:24 \n",
      "  at OpenMined.Syft.Tensor.FloatTensor.Delete () [0x00048] in /Users/yanndupis/Documents/Data_Science/Encrypted_DL/OpenMined/UnityProject/Assets/OpenMined/Syft/Tensor/FloatTensor.Ops.cs:558 \n",
      "  at OpenMined.Syft.Tensor.FloatTensor.ProcessMessage (OpenMined.Network.Utils.Command msgObj, OpenMined.Network.Controllers.SyftController ctrl) [0x00e4c] in /Users/yanndupis/Documents/Data_Science/Encrypted_DL/OpenMined/UnityProject/Assets/OpenMined/Syft/Tensor/FloatTensor.cs:365 \n",
      "  at OpenMined.Network.Controllers.SyftController.processMessage (System.String json_message, UnityEngine.MonoBehaviour owner) [0x002dd] in /Users/yanndupis/Documents/Data_Science/Encrypted_DL/OpenMined/UnityProject/Assets/OpenMined/Network/Controllers/SyftController.cs:231 \n"
     ]
    },
    {
     "name": "stderr",
     "output_type": "stream",
     "text": [
      "Exception ignored in: <object repr() failed>\n",
      "Traceback (most recent call last):\n",
      "  File \"/Users/yanndupis/anaconda2/envs/tflearn/lib/python3.5/site-packages/syft-0.1.0-py3.5.egg/syft/tensor.py\", line 544, in __del__\n",
      "  File \"/Users/yanndupis/anaconda2/envs/tflearn/lib/python3.5/site-packages/syft-0.1.0-py3.5.egg/syft/tensor.py\", line 1516, in delete_tensor\n",
      "  File \"/Users/yanndupis/anaconda2/envs/tflearn/lib/python3.5/site-packages/syft-0.1.0-py3.5.egg/syft/tensor.py\", line 1504, in no_params_func\n",
      "  File \"/Users/yanndupis/anaconda2/envs/tflearn/lib/python3.5/site-packages/syft-0.1.0-py3.5.egg/syft/tensor.py\", line 1486, in params_func\n",
      "  File \"/Users/yanndupis/anaconda2/envs/tflearn/lib/python3.5/site-packages/syft-0.1.0-py3.5.egg/syft/controller.py\", line 143, in send_json\n",
      "Exception: Unity Error: System.Collections.Generic.KeyNotFoundException: The given key was not present in the dictionary.\n",
      "  at System.ThrowHelper.ThrowKeyNotFoundException () [0x00000] in /Users/builduser/buildslave/mono/build/mcs/class/referencesource/mscorlib/system/throwhelper.cs:68 \n",
      "  at System.Collections.Generic.Dictionary`2[TKey,TValue].get_Item (TKey key) [0x0001e] in /Users/builduser/buildslave/mono/build/mcs/class/referencesource/mscorlib/system/collections/generic/dictionary.cs:183 \n",
      "  at OpenMined.Syft.Tensor.Factories.FloatTensorFactory.Get (System.Int32 id) [0x00008] in /Users/yanndupis/Documents/Data_Science/Encrypted_DL/OpenMined/UnityProject/Assets/OpenMined/Syft/Tensor/Factories/FloatTensorFactory.cs:24 \n",
      "  at OpenMined.Syft.Tensor.FloatTensor.Delete () [0x00048] in /Users/yanndupis/Documents/Data_Science/Encrypted_DL/OpenMined/UnityProject/Assets/OpenMined/Syft/Tensor/FloatTensor.Ops.cs:558 \n",
      "  at OpenMined.Syft.Tensor.FloatTensor.ProcessMessage (OpenMined.Network.Utils.Command msgObj, OpenMined.Network.Controllers.SyftController ctrl) [0x00e4c] in /Users/yanndupis/Documents/Data_Science/Encrypted_DL/OpenMined/UnityProject/Assets/OpenMined/Syft/Tensor/FloatTensor.cs:365 \n",
      "  at OpenMined.Network.Controllers.SyftController.processMessage (System.String json_message, UnityEngine.MonoBehaviour owner) [0x002dd] in /Users/yanndupis/Documents/Data_Science/Encrypted_DL/OpenMined/UnityProject/Assets/OpenMined/Network/Controllers/SyftController.cs:231 \n",
      "Exception ignored in: <object repr() failed>\n",
      "Traceback (most recent call last):\n",
      "  File \"/Users/yanndupis/anaconda2/envs/tflearn/lib/python3.5/site-packages/syft-0.1.0-py3.5.egg/syft/tensor.py\", line 544, in __del__\n",
      "  File \"/Users/yanndupis/anaconda2/envs/tflearn/lib/python3.5/site-packages/syft-0.1.0-py3.5.egg/syft/tensor.py\", line 1516, in delete_tensor\n",
      "  File \"/Users/yanndupis/anaconda2/envs/tflearn/lib/python3.5/site-packages/syft-0.1.0-py3.5.egg/syft/tensor.py\", line 1504, in no_params_func\n",
      "  File \"/Users/yanndupis/anaconda2/envs/tflearn/lib/python3.5/site-packages/syft-0.1.0-py3.5.egg/syft/tensor.py\", line 1486, in params_func\n",
      "  File \"/Users/yanndupis/anaconda2/envs/tflearn/lib/python3.5/site-packages/syft-0.1.0-py3.5.egg/syft/controller.py\", line 143, in send_json\n",
      "Exception: Unity Error: System.Collections.Generic.KeyNotFoundException: The given key was not present in the dictionary.\n",
      "  at System.ThrowHelper.ThrowKeyNotFoundException () [0x00000] in /Users/builduser/buildslave/mono/build/mcs/class/referencesource/mscorlib/system/throwhelper.cs:68 \n",
      "  at System.Collections.Generic.Dictionary`2[TKey,TValue].get_Item (TKey key) [0x0001e] in /Users/builduser/buildslave/mono/build/mcs/class/referencesource/mscorlib/system/collections/generic/dictionary.cs:183 \n",
      "  at OpenMined.Syft.Tensor.Factories.FloatTensorFactory.Get (System.Int32 id) [0x00008] in /Users/yanndupis/Documents/Data_Science/Encrypted_DL/OpenMined/UnityProject/Assets/OpenMined/Syft/Tensor/Factories/FloatTensorFactory.cs:24 \n",
      "  at OpenMined.Syft.Tensor.FloatTensor.Delete () [0x00048] in /Users/yanndupis/Documents/Data_Science/Encrypted_DL/OpenMined/UnityProject/Assets/OpenMined/Syft/Tensor/FloatTensor.Ops.cs:558 \n",
      "  at OpenMined.Syft.Tensor.FloatTensor.ProcessMessage (OpenMined.Network.Utils.Command msgObj, OpenMined.Network.Controllers.SyftController ctrl) [0x00e4c] in /Users/yanndupis/Documents/Data_Science/Encrypted_DL/OpenMined/UnityProject/Assets/OpenMined/Syft/Tensor/FloatTensor.cs:365 \n",
      "  at OpenMined.Network.Controllers.SyftController.processMessage (System.String json_message, UnityEngine.MonoBehaviour owner) [0x002dd] in /Users/yanndupis/Documents/Data_Science/Encrypted_DL/OpenMined/UnityProject/Assets/OpenMined/Network/Controllers/SyftController.cs:231 \n",
      "Exception ignored in: <object repr() failed>\n",
      "Traceback (most recent call last):\n",
      "  File \"/Users/yanndupis/anaconda2/envs/tflearn/lib/python3.5/site-packages/syft-0.1.0-py3.5.egg/syft/tensor.py\", line 544, in __del__\n",
      "  File \"/Users/yanndupis/anaconda2/envs/tflearn/lib/python3.5/site-packages/syft-0.1.0-py3.5.egg/syft/tensor.py\", line 1516, in delete_tensor\n",
      "  File \"/Users/yanndupis/anaconda2/envs/tflearn/lib/python3.5/site-packages/syft-0.1.0-py3.5.egg/syft/tensor.py\", line 1504, in no_params_func\n",
      "  File \"/Users/yanndupis/anaconda2/envs/tflearn/lib/python3.5/site-packages/syft-0.1.0-py3.5.egg/syft/tensor.py\", line 1486, in params_func\n",
      "  File \"/Users/yanndupis/anaconda2/envs/tflearn/lib/python3.5/site-packages/syft-0.1.0-py3.5.egg/syft/controller.py\", line 143, in send_json\n",
      "Exception: Unity Error: System.Collections.Generic.KeyNotFoundException: The given key was not present in the dictionary.\n",
      "  at System.ThrowHelper.ThrowKeyNotFoundException () [0x00000] in /Users/builduser/buildslave/mono/build/mcs/class/referencesource/mscorlib/system/throwhelper.cs:68 \n",
      "  at System.Collections.Generic.Dictionary`2[TKey,TValue].get_Item (TKey key) [0x0001e] in /Users/builduser/buildslave/mono/build/mcs/class/referencesource/mscorlib/system/collections/generic/dictionary.cs:183 \n",
      "  at OpenMined.Syft.Tensor.Factories.FloatTensorFactory.Get (System.Int32 id) [0x00008] in /Users/yanndupis/Documents/Data_Science/Encrypted_DL/OpenMined/UnityProject/Assets/OpenMined/Syft/Tensor/Factories/FloatTensorFactory.cs:24 \n",
      "  at OpenMined.Syft.Tensor.FloatTensor.Delete () [0x00048] in /Users/yanndupis/Documents/Data_Science/Encrypted_DL/OpenMined/UnityProject/Assets/OpenMined/Syft/Tensor/FloatTensor.Ops.cs:558 \n",
      "  at OpenMined.Syft.Tensor.FloatTensor.ProcessMessage (OpenMined.Network.Utils.Command msgObj, OpenMined.Network.Controllers.SyftController ctrl) [0x00e4c] in /Users/yanndupis/Documents/Data_Science/Encrypted_DL/OpenMined/UnityProject/Assets/OpenMined/Syft/Tensor/FloatTensor.cs:365 \n",
      "  at OpenMined.Network.Controllers.SyftController.processMessage (System.String json_message, UnityEngine.MonoBehaviour owner) [0x002dd] in /Users/yanndupis/Documents/Data_Science/Encrypted_DL/OpenMined/UnityProject/Assets/OpenMined/Network/Controllers/SyftController.cs:231 \n",
      "Exception ignored in: <object repr() failed>\n",
      "Traceback (most recent call last):\n",
      "  File \"/Users/yanndupis/anaconda2/envs/tflearn/lib/python3.5/site-packages/syft-0.1.0-py3.5.egg/syft/tensor.py\", line 544, in __del__\n",
      "  File \"/Users/yanndupis/anaconda2/envs/tflearn/lib/python3.5/site-packages/syft-0.1.0-py3.5.egg/syft/tensor.py\", line 1516, in delete_tensor\n",
      "  File \"/Users/yanndupis/anaconda2/envs/tflearn/lib/python3.5/site-packages/syft-0.1.0-py3.5.egg/syft/tensor.py\", line 1504, in no_params_func\n",
      "  File \"/Users/yanndupis/anaconda2/envs/tflearn/lib/python3.5/site-packages/syft-0.1.0-py3.5.egg/syft/tensor.py\", line 1486, in params_func\n",
      "  File \"/Users/yanndupis/anaconda2/envs/tflearn/lib/python3.5/site-packages/syft-0.1.0-py3.5.egg/syft/controller.py\", line 143, in send_json\n",
      "Exception: Unity Error: System.Collections.Generic.KeyNotFoundException: The given key was not present in the dictionary.\n",
      "  at System.ThrowHelper.ThrowKeyNotFoundException () [0x00000] in /Users/builduser/buildslave/mono/build/mcs/class/referencesource/mscorlib/system/throwhelper.cs:68 \n",
      "  at System.Collections.Generic.Dictionary`2[TKey,TValue].get_Item (TKey key) [0x0001e] in /Users/builduser/buildslave/mono/build/mcs/class/referencesource/mscorlib/system/collections/generic/dictionary.cs:183 \n",
      "  at OpenMined.Syft.Tensor.Factories.FloatTensorFactory.Get (System.Int32 id) [0x00008] in /Users/yanndupis/Documents/Data_Science/Encrypted_DL/OpenMined/UnityProject/Assets/OpenMined/Syft/Tensor/Factories/FloatTensorFactory.cs:24 \n",
      "  at OpenMined.Syft.Tensor.FloatTensor.Delete () [0x00048] in /Users/yanndupis/Documents/Data_Science/Encrypted_DL/OpenMined/UnityProject/Assets/OpenMined/Syft/Tensor/FloatTensor.Ops.cs:558 \n",
      "  at OpenMined.Syft.Tensor.FloatTensor.ProcessMessage (OpenMined.Network.Utils.Command msgObj, OpenMined.Network.Controllers.SyftController ctrl) [0x00e4c] in /Users/yanndupis/Documents/Data_Science/Encrypted_DL/OpenMined/UnityProject/Assets/OpenMined/Syft/Tensor/FloatTensor.cs:365 \n",
      "  at OpenMined.Network.Controllers.SyftController.processMessage (System.String json_message, UnityEngine.MonoBehaviour owner) [0x002dd] in /Users/yanndupis/Documents/Data_Science/Encrypted_DL/OpenMined/UnityProject/Assets/OpenMined/Network/Controllers/SyftController.cs:231 \n"
     ]
    },
    {
     "name": "stdout",
     "output_type": "stream",
     "text": [
      "Number of Batches:1\n"
     ]
    },
    {
     "name": "stderr",
     "output_type": "stream",
     "text": [
      "Exception ignored in: <object repr() failed>\n",
      "Traceback (most recent call last):\n",
      "  File \"/Users/yanndupis/anaconda2/envs/tflearn/lib/python3.5/site-packages/syft-0.1.0-py3.5.egg/syft/tensor.py\", line 544, in __del__\n",
      "  File \"/Users/yanndupis/anaconda2/envs/tflearn/lib/python3.5/site-packages/syft-0.1.0-py3.5.egg/syft/tensor.py\", line 1516, in delete_tensor\n",
      "  File \"/Users/yanndupis/anaconda2/envs/tflearn/lib/python3.5/site-packages/syft-0.1.0-py3.5.egg/syft/tensor.py\", line 1504, in no_params_func\n",
      "  File \"/Users/yanndupis/anaconda2/envs/tflearn/lib/python3.5/site-packages/syft-0.1.0-py3.5.egg/syft/tensor.py\", line 1486, in params_func\n",
      "  File \"/Users/yanndupis/anaconda2/envs/tflearn/lib/python3.5/site-packages/syft-0.1.0-py3.5.egg/syft/controller.py\", line 143, in send_json\n",
      "Exception: Unity Error: System.Collections.Generic.KeyNotFoundException: The given key was not present in the dictionary.\n",
      "  at System.ThrowHelper.ThrowKeyNotFoundException () [0x00000] in /Users/builduser/buildslave/mono/build/mcs/class/referencesource/mscorlib/system/throwhelper.cs:68 \n",
      "  at System.Collections.Generic.Dictionary`2[TKey,TValue].get_Item (TKey key) [0x0001e] in /Users/builduser/buildslave/mono/build/mcs/class/referencesource/mscorlib/system/collections/generic/dictionary.cs:183 \n",
      "  at OpenMined.Syft.Tensor.Factories.FloatTensorFactory.Get (System.Int32 id) [0x00008] in /Users/yanndupis/Documents/Data_Science/Encrypted_DL/OpenMined/UnityProject/Assets/OpenMined/Syft/Tensor/Factories/FloatTensorFactory.cs:24 \n",
      "  at OpenMined.Syft.Tensor.FloatTensor.Delete () [0x00048] in /Users/yanndupis/Documents/Data_Science/Encrypted_DL/OpenMined/UnityProject/Assets/OpenMined/Syft/Tensor/FloatTensor.Ops.cs:558 \n",
      "  at OpenMined.Syft.Tensor.FloatTensor.ProcessMessage (OpenMined.Network.Utils.Command msgObj, OpenMined.Network.Controllers.SyftController ctrl) [0x00e4c] in /Users/yanndupis/Documents/Data_Science/Encrypted_DL/OpenMined/UnityProject/Assets/OpenMined/Syft/Tensor/FloatTensor.cs:365 \n",
      "  at OpenMined.Network.Controllers.SyftController.processMessage (System.String json_message, UnityEngine.MonoBehaviour owner) [0x002dd] in /Users/yanndupis/Documents/Data_Science/Encrypted_DL/OpenMined/UnityProject/Assets/OpenMined/Network/Controllers/SyftController.cs:231 \n"
     ]
    },
    {
     "data": {
      "application/vnd.jupyter.widget-view+json": {
       "model_id": "dddcc7580a954507be26fca2cf347888"
      }
     },
     "metadata": {},
     "output_type": "display_data"
    },
    {
     "data": {
      "application/vnd.jupyter.widget-view+json": {
       "model_id": "2456ddc280614ac5948797bfcf041d4a"
      }
     },
     "metadata": {},
     "output_type": "display_data"
    },
    {
     "name": "stdout",
     "output_type": "stream",
     "text": [
      "Number of Batches:1\n"
     ]
    },
    {
     "name": "stderr",
     "output_type": "stream",
     "text": [
      "Exception ignored in: <object repr() failed>\n",
      "Traceback (most recent call last):\n",
      "  File \"/Users/yanndupis/anaconda2/envs/tflearn/lib/python3.5/site-packages/syft-0.1.0-py3.5.egg/syft/tensor.py\", line 544, in __del__\n",
      "  File \"/Users/yanndupis/anaconda2/envs/tflearn/lib/python3.5/site-packages/syft-0.1.0-py3.5.egg/syft/tensor.py\", line 1516, in delete_tensor\n",
      "  File \"/Users/yanndupis/anaconda2/envs/tflearn/lib/python3.5/site-packages/syft-0.1.0-py3.5.egg/syft/tensor.py\", line 1504, in no_params_func\n",
      "  File \"/Users/yanndupis/anaconda2/envs/tflearn/lib/python3.5/site-packages/syft-0.1.0-py3.5.egg/syft/tensor.py\", line 1486, in params_func\n",
      "  File \"/Users/yanndupis/anaconda2/envs/tflearn/lib/python3.5/site-packages/syft-0.1.0-py3.5.egg/syft/controller.py\", line 143, in send_json\n",
      "Exception: Unity Error: System.Collections.Generic.KeyNotFoundException: The given key was not present in the dictionary.\n",
      "  at System.ThrowHelper.ThrowKeyNotFoundException () [0x00000] in /Users/builduser/buildslave/mono/build/mcs/class/referencesource/mscorlib/system/throwhelper.cs:68 \n",
      "  at System.Collections.Generic.Dictionary`2[TKey,TValue].get_Item (TKey key) [0x0001e] in /Users/builduser/buildslave/mono/build/mcs/class/referencesource/mscorlib/system/collections/generic/dictionary.cs:183 \n",
      "  at OpenMined.Syft.Tensor.Factories.FloatTensorFactory.Get (System.Int32 id) [0x00008] in /Users/yanndupis/Documents/Data_Science/Encrypted_DL/OpenMined/UnityProject/Assets/OpenMined/Syft/Tensor/Factories/FloatTensorFactory.cs:24 \n",
      "  at OpenMined.Syft.Tensor.FloatTensor.Delete () [0x00048] in /Users/yanndupis/Documents/Data_Science/Encrypted_DL/OpenMined/UnityProject/Assets/OpenMined/Syft/Tensor/FloatTensor.Ops.cs:558 \n",
      "  at OpenMined.Syft.Tensor.FloatTensor.ProcessMessage (OpenMined.Network.Utils.Command msgObj, OpenMined.Network.Controllers.SyftController ctrl) [0x00e4c] in /Users/yanndupis/Documents/Data_Science/Encrypted_DL/OpenMined/UnityProject/Assets/OpenMined/Syft/Tensor/FloatTensor.cs:365 \n",
      "  at OpenMined.Network.Controllers.SyftController.processMessage (System.String json_message, UnityEngine.MonoBehaviour owner) [0x002dd] in /Users/yanndupis/Documents/Data_Science/Encrypted_DL/OpenMined/UnityProject/Assets/OpenMined/Network/Controllers/SyftController.cs:231 \n"
     ]
    },
    {
     "data": {
      "application/vnd.jupyter.widget-view+json": {
       "model_id": "0f119434c1b74dda8a2e98256b1a5e06"
      }
     },
     "metadata": {},
     "output_type": "display_data"
    },
    {
     "data": {
      "application/vnd.jupyter.widget-view+json": {
       "model_id": "cef20c2397ae466e97ed8912cc9b3541"
      }
     },
     "metadata": {},
     "output_type": "display_data"
    },
    {
     "name": "stderr",
     "output_type": "stream",
     "text": [
      "Exception ignored in: <object repr() failed>\n",
      "Traceback (most recent call last):\n",
      "  File \"/Users/yanndupis/anaconda2/envs/tflearn/lib/python3.5/site-packages/syft-0.1.0-py3.5.egg/syft/tensor.py\", line 544, in __del__\n",
      "  File \"/Users/yanndupis/anaconda2/envs/tflearn/lib/python3.5/site-packages/syft-0.1.0-py3.5.egg/syft/tensor.py\", line 1516, in delete_tensor\n",
      "  File \"/Users/yanndupis/anaconda2/envs/tflearn/lib/python3.5/site-packages/syft-0.1.0-py3.5.egg/syft/tensor.py\", line 1504, in no_params_func\n",
      "  File \"/Users/yanndupis/anaconda2/envs/tflearn/lib/python3.5/site-packages/syft-0.1.0-py3.5.egg/syft/tensor.py\", line 1486, in params_func\n",
      "  File \"/Users/yanndupis/anaconda2/envs/tflearn/lib/python3.5/site-packages/syft-0.1.0-py3.5.egg/syft/controller.py\", line 143, in send_json\n",
      "Exception: Unity Error: System.Collections.Generic.KeyNotFoundException: The given key was not present in the dictionary.\n",
      "  at System.ThrowHelper.ThrowKeyNotFoundException () [0x00000] in /Users/builduser/buildslave/mono/build/mcs/class/referencesource/mscorlib/system/throwhelper.cs:68 \n",
      "  at System.Collections.Generic.Dictionary`2[TKey,TValue].get_Item (TKey key) [0x0001e] in /Users/builduser/buildslave/mono/build/mcs/class/referencesource/mscorlib/system/collections/generic/dictionary.cs:183 \n",
      "  at OpenMined.Syft.Tensor.Factories.FloatTensorFactory.Get (System.Int32 id) [0x00008] in /Users/yanndupis/Documents/Data_Science/Encrypted_DL/OpenMined/UnityProject/Assets/OpenMined/Syft/Tensor/Factories/FloatTensorFactory.cs:24 \n",
      "  at OpenMined.Syft.Tensor.FloatTensor.Delete () [0x00048] in /Users/yanndupis/Documents/Data_Science/Encrypted_DL/OpenMined/UnityProject/Assets/OpenMined/Syft/Tensor/FloatTensor.Ops.cs:558 \n",
      "  at OpenMined.Syft.Tensor.FloatTensor.ProcessMessage (OpenMined.Network.Utils.Command msgObj, OpenMined.Network.Controllers.SyftController ctrl) [0x00e4c] in /Users/yanndupis/Documents/Data_Science/Encrypted_DL/OpenMined/UnityProject/Assets/OpenMined/Syft/Tensor/FloatTensor.cs:365 \n",
      "  at OpenMined.Network.Controllers.SyftController.processMessage (System.String json_message, UnityEngine.MonoBehaviour owner) [0x002dd] in /Users/yanndupis/Documents/Data_Science/Encrypted_DL/OpenMined/UnityProject/Assets/OpenMined/Network/Controllers/SyftController.cs:231 \n"
     ]
    },
    {
     "name": "stdout",
     "output_type": "stream",
     "text": [
      "Number of Batches:1\n"
     ]
    },
    {
     "data": {
      "application/vnd.jupyter.widget-view+json": {
       "model_id": "a62e90fb28f843cea2e2457f3a5593bf"
      }
     },
     "metadata": {},
     "output_type": "display_data"
    },
    {
     "data": {
      "application/vnd.jupyter.widget-view+json": {
       "model_id": "6d9768bbdb0049d199c8b6cf3465ea61"
      }
     },
     "metadata": {},
     "output_type": "display_data"
    },
    {
     "name": "stderr",
     "output_type": "stream",
     "text": [
      "Exception ignored in: <object repr() failed>\n",
      "Traceback (most recent call last):\n",
      "  File \"/Users/yanndupis/anaconda2/envs/tflearn/lib/python3.5/site-packages/syft-0.1.0-py3.5.egg/syft/tensor.py\", line 544, in __del__\n",
      "  File \"/Users/yanndupis/anaconda2/envs/tflearn/lib/python3.5/site-packages/syft-0.1.0-py3.5.egg/syft/tensor.py\", line 1516, in delete_tensor\n",
      "  File \"/Users/yanndupis/anaconda2/envs/tflearn/lib/python3.5/site-packages/syft-0.1.0-py3.5.egg/syft/tensor.py\", line 1504, in no_params_func\n",
      "  File \"/Users/yanndupis/anaconda2/envs/tflearn/lib/python3.5/site-packages/syft-0.1.0-py3.5.egg/syft/tensor.py\", line 1486, in params_func\n",
      "  File \"/Users/yanndupis/anaconda2/envs/tflearn/lib/python3.5/site-packages/syft-0.1.0-py3.5.egg/syft/controller.py\", line 143, in send_json\n",
      "Exception: Unity Error: System.Collections.Generic.KeyNotFoundException: The given key was not present in the dictionary.\n",
      "  at System.ThrowHelper.ThrowKeyNotFoundException () [0x00000] in /Users/builduser/buildslave/mono/build/mcs/class/referencesource/mscorlib/system/throwhelper.cs:68 \n",
      "  at System.Collections.Generic.Dictionary`2[TKey,TValue].get_Item (TKey key) [0x0001e] in /Users/builduser/buildslave/mono/build/mcs/class/referencesource/mscorlib/system/collections/generic/dictionary.cs:183 \n",
      "  at OpenMined.Syft.Tensor.Factories.FloatTensorFactory.Get (System.Int32 id) [0x00008] in /Users/yanndupis/Documents/Data_Science/Encrypted_DL/OpenMined/UnityProject/Assets/OpenMined/Syft/Tensor/Factories/FloatTensorFactory.cs:24 \n",
      "  at OpenMined.Syft.Tensor.FloatTensor.Delete () [0x00048] in /Users/yanndupis/Documents/Data_Science/Encrypted_DL/OpenMined/UnityProject/Assets/OpenMined/Syft/Tensor/FloatTensor.Ops.cs:558 \n",
      "  at OpenMined.Syft.Tensor.FloatTensor.ProcessMessage (OpenMined.Network.Utils.Command msgObj, OpenMined.Network.Controllers.SyftController ctrl) [0x00e4c] in /Users/yanndupis/Documents/Data_Science/Encrypted_DL/OpenMined/UnityProject/Assets/OpenMined/Syft/Tensor/FloatTensor.cs:365 \n",
      "  at OpenMined.Network.Controllers.SyftController.processMessage (System.String json_message, UnityEngine.MonoBehaviour owner) [0x002dd] in /Users/yanndupis/Documents/Data_Science/Encrypted_DL/OpenMined/UnityProject/Assets/OpenMined/Network/Controllers/SyftController.cs:231 \n"
     ]
    },
    {
     "name": "stdout",
     "output_type": "stream",
     "text": [
      "Number of Batches:1\n"
     ]
    },
    {
     "data": {
      "application/vnd.jupyter.widget-view+json": {
       "model_id": "e47e4e30d7154b3aa52ee8f75e46180e"
      }
     },
     "metadata": {},
     "output_type": "display_data"
    },
    {
     "data": {
      "application/vnd.jupyter.widget-view+json": {
       "model_id": "49d5f0137467405d8cb2f391008044f7"
      }
     },
     "metadata": {},
     "output_type": "display_data"
    },
    {
     "name": "stdout",
     "output_type": "stream",
     "text": [
      "Number of Batches:1\n"
     ]
    },
    {
     "name": "stderr",
     "output_type": "stream",
     "text": [
      "Exception ignored in: <object repr() failed>\n",
      "Traceback (most recent call last):\n",
      "  File \"/Users/yanndupis/anaconda2/envs/tflearn/lib/python3.5/site-packages/syft-0.1.0-py3.5.egg/syft/tensor.py\", line 544, in __del__\n",
      "  File \"/Users/yanndupis/anaconda2/envs/tflearn/lib/python3.5/site-packages/syft-0.1.0-py3.5.egg/syft/tensor.py\", line 1516, in delete_tensor\n",
      "  File \"/Users/yanndupis/anaconda2/envs/tflearn/lib/python3.5/site-packages/syft-0.1.0-py3.5.egg/syft/tensor.py\", line 1504, in no_params_func\n",
      "  File \"/Users/yanndupis/anaconda2/envs/tflearn/lib/python3.5/site-packages/syft-0.1.0-py3.5.egg/syft/tensor.py\", line 1486, in params_func\n",
      "  File \"/Users/yanndupis/anaconda2/envs/tflearn/lib/python3.5/site-packages/syft-0.1.0-py3.5.egg/syft/controller.py\", line 143, in send_json\n",
      "Exception: Unity Error: System.Collections.Generic.KeyNotFoundException: The given key was not present in the dictionary.\n",
      "  at System.ThrowHelper.ThrowKeyNotFoundException () [0x00000] in /Users/builduser/buildslave/mono/build/mcs/class/referencesource/mscorlib/system/throwhelper.cs:68 \n",
      "  at System.Collections.Generic.Dictionary`2[TKey,TValue].get_Item (TKey key) [0x0001e] in /Users/builduser/buildslave/mono/build/mcs/class/referencesource/mscorlib/system/collections/generic/dictionary.cs:183 \n",
      "  at OpenMined.Syft.Tensor.Factories.FloatTensorFactory.Get (System.Int32 id) [0x00008] in /Users/yanndupis/Documents/Data_Science/Encrypted_DL/OpenMined/UnityProject/Assets/OpenMined/Syft/Tensor/Factories/FloatTensorFactory.cs:24 \n",
      "  at OpenMined.Syft.Tensor.FloatTensor.Delete () [0x00048] in /Users/yanndupis/Documents/Data_Science/Encrypted_DL/OpenMined/UnityProject/Assets/OpenMined/Syft/Tensor/FloatTensor.Ops.cs:558 \n",
      "  at OpenMined.Syft.Tensor.FloatTensor.ProcessMessage (OpenMined.Network.Utils.Command msgObj, OpenMined.Network.Controllers.SyftController ctrl) [0x00e4c] in /Users/yanndupis/Documents/Data_Science/Encrypted_DL/OpenMined/UnityProject/Assets/OpenMined/Syft/Tensor/FloatTensor.cs:365 \n",
      "  at OpenMined.Network.Controllers.SyftController.processMessage (System.String json_message, UnityEngine.MonoBehaviour owner) [0x002dd] in /Users/yanndupis/Documents/Data_Science/Encrypted_DL/OpenMined/UnityProject/Assets/OpenMined/Network/Controllers/SyftController.cs:231 \n"
     ]
    },
    {
     "data": {
      "application/vnd.jupyter.widget-view+json": {
       "model_id": "2606c876bf5d449b810f8a5e29485450"
      }
     },
     "metadata": {},
     "output_type": "display_data"
    },
    {
     "data": {
      "application/vnd.jupyter.widget-view+json": {
       "model_id": "35649b9c49c54928840e5fdc6c470a99"
      }
     },
     "metadata": {},
     "output_type": "display_data"
    },
    {
     "name": "stderr",
     "output_type": "stream",
     "text": [
      "Exception ignored in: <object repr() failed>\n",
      "Traceback (most recent call last):\n",
      "  File \"/Users/yanndupis/anaconda2/envs/tflearn/lib/python3.5/site-packages/syft-0.1.0-py3.5.egg/syft/tensor.py\", line 544, in __del__\n",
      "  File \"/Users/yanndupis/anaconda2/envs/tflearn/lib/python3.5/site-packages/syft-0.1.0-py3.5.egg/syft/tensor.py\", line 1516, in delete_tensor\n",
      "  File \"/Users/yanndupis/anaconda2/envs/tflearn/lib/python3.5/site-packages/syft-0.1.0-py3.5.egg/syft/tensor.py\", line 1504, in no_params_func\n",
      "  File \"/Users/yanndupis/anaconda2/envs/tflearn/lib/python3.5/site-packages/syft-0.1.0-py3.5.egg/syft/tensor.py\", line 1486, in params_func\n",
      "  File \"/Users/yanndupis/anaconda2/envs/tflearn/lib/python3.5/site-packages/syft-0.1.0-py3.5.egg/syft/controller.py\", line 143, in send_json\n",
      "Exception: Unity Error: System.Collections.Generic.KeyNotFoundException: The given key was not present in the dictionary.\n",
      "  at System.ThrowHelper.ThrowKeyNotFoundException () [0x00000] in /Users/builduser/buildslave/mono/build/mcs/class/referencesource/mscorlib/system/throwhelper.cs:68 \n",
      "  at System.Collections.Generic.Dictionary`2[TKey,TValue].get_Item (TKey key) [0x0001e] in /Users/builduser/buildslave/mono/build/mcs/class/referencesource/mscorlib/system/collections/generic/dictionary.cs:183 \n",
      "  at OpenMined.Syft.Tensor.Factories.FloatTensorFactory.Get (System.Int32 id) [0x00008] in /Users/yanndupis/Documents/Data_Science/Encrypted_DL/OpenMined/UnityProject/Assets/OpenMined/Syft/Tensor/Factories/FloatTensorFactory.cs:24 \n",
      "  at OpenMined.Syft.Tensor.FloatTensor.Delete () [0x00048] in /Users/yanndupis/Documents/Data_Science/Encrypted_DL/OpenMined/UnityProject/Assets/OpenMined/Syft/Tensor/FloatTensor.Ops.cs:558 \n",
      "  at OpenMined.Syft.Tensor.FloatTensor.ProcessMessage (OpenMined.Network.Utils.Command msgObj, OpenMined.Network.Controllers.SyftController ctrl) [0x00e4c] in /Users/yanndupis/Documents/Data_Science/Encrypted_DL/OpenMined/UnityProject/Assets/OpenMined/Syft/Tensor/FloatTensor.cs:365 \n",
      "  at OpenMined.Network.Controllers.SyftController.processMessage (System.String json_message, UnityEngine.MonoBehaviour owner) [0x002dd] in /Users/yanndupis/Documents/Data_Science/Encrypted_DL/OpenMined/UnityProject/Assets/OpenMined/Network/Controllers/SyftController.cs:231 \n",
      "Exception ignored in: <object repr() failed>\n",
      "Traceback (most recent call last):\n",
      "  File \"/Users/yanndupis/anaconda2/envs/tflearn/lib/python3.5/site-packages/syft-0.1.0-py3.5.egg/syft/tensor.py\", line 544, in __del__\n",
      "  File \"/Users/yanndupis/anaconda2/envs/tflearn/lib/python3.5/site-packages/syft-0.1.0-py3.5.egg/syft/tensor.py\", line 1516, in delete_tensor\n",
      "  File \"/Users/yanndupis/anaconda2/envs/tflearn/lib/python3.5/site-packages/syft-0.1.0-py3.5.egg/syft/tensor.py\", line 1504, in no_params_func\n",
      "  File \"/Users/yanndupis/anaconda2/envs/tflearn/lib/python3.5/site-packages/syft-0.1.0-py3.5.egg/syft/tensor.py\", line 1486, in params_func\n",
      "  File \"/Users/yanndupis/anaconda2/envs/tflearn/lib/python3.5/site-packages/syft-0.1.0-py3.5.egg/syft/controller.py\", line 143, in send_json\n",
      "Exception: Unity Error: System.Collections.Generic.KeyNotFoundException: The given key was not present in the dictionary.\n",
      "  at System.ThrowHelper.ThrowKeyNotFoundException () [0x00000] in /Users/builduser/buildslave/mono/build/mcs/class/referencesource/mscorlib/system/throwhelper.cs:68 \n",
      "  at System.Collections.Generic.Dictionary`2[TKey,TValue].get_Item (TKey key) [0x0001e] in /Users/builduser/buildslave/mono/build/mcs/class/referencesource/mscorlib/system/collections/generic/dictionary.cs:183 \n",
      "  at OpenMined.Syft.Tensor.Factories.FloatTensorFactory.Get (System.Int32 id) [0x00008] in /Users/yanndupis/Documents/Data_Science/Encrypted_DL/OpenMined/UnityProject/Assets/OpenMined/Syft/Tensor/Factories/FloatTensorFactory.cs:24 \n",
      "  at OpenMined.Syft.Tensor.FloatTensor.Delete () [0x00048] in /Users/yanndupis/Documents/Data_Science/Encrypted_DL/OpenMined/UnityProject/Assets/OpenMined/Syft/Tensor/FloatTensor.Ops.cs:558 \n",
      "  at OpenMined.Syft.Tensor.FloatTensor.ProcessMessage (OpenMined.Network.Utils.Command msgObj, OpenMined.Network.Controllers.SyftController ctrl) [0x00e4c] in /Users/yanndupis/Documents/Data_Science/Encrypted_DL/OpenMined/UnityProject/Assets/OpenMined/Syft/Tensor/FloatTensor.cs:365 \n",
      "  at OpenMined.Network.Controllers.SyftController.processMessage (System.String json_message, UnityEngine.MonoBehaviour owner) [0x002dd] in /Users/yanndupis/Documents/Data_Science/Encrypted_DL/OpenMined/UnityProject/Assets/OpenMined/Network/Controllers/SyftController.cs:231 \n",
      "Exception ignored in: <object repr() failed>\n",
      "Traceback (most recent call last):\n",
      "  File \"/Users/yanndupis/anaconda2/envs/tflearn/lib/python3.5/site-packages/syft-0.1.0-py3.5.egg/syft/tensor.py\", line 544, in __del__\n",
      "  File \"/Users/yanndupis/anaconda2/envs/tflearn/lib/python3.5/site-packages/syft-0.1.0-py3.5.egg/syft/tensor.py\", line 1516, in delete_tensor\n",
      "  File \"/Users/yanndupis/anaconda2/envs/tflearn/lib/python3.5/site-packages/syft-0.1.0-py3.5.egg/syft/tensor.py\", line 1504, in no_params_func\n",
      "  File \"/Users/yanndupis/anaconda2/envs/tflearn/lib/python3.5/site-packages/syft-0.1.0-py3.5.egg/syft/tensor.py\", line 1486, in params_func\n",
      "  File \"/Users/yanndupis/anaconda2/envs/tflearn/lib/python3.5/site-packages/syft-0.1.0-py3.5.egg/syft/controller.py\", line 143, in send_json\n",
      "Exception: Unity Error: System.Collections.Generic.KeyNotFoundException: The given key was not present in the dictionary.\n",
      "  at System.ThrowHelper.ThrowKeyNotFoundException () [0x00000] in /Users/builduser/buildslave/mono/build/mcs/class/referencesource/mscorlib/system/throwhelper.cs:68 \n",
      "  at System.Collections.Generic.Dictionary`2[TKey,TValue].get_Item (TKey key) [0x0001e] in /Users/builduser/buildslave/mono/build/mcs/class/referencesource/mscorlib/system/collections/generic/dictionary.cs:183 \n",
      "  at OpenMined.Syft.Tensor.Factories.FloatTensorFactory.Get (System.Int32 id) [0x00008] in /Users/yanndupis/Documents/Data_Science/Encrypted_DL/OpenMined/UnityProject/Assets/OpenMined/Syft/Tensor/Factories/FloatTensorFactory.cs:24 \n",
      "  at OpenMined.Syft.Tensor.FloatTensor.Delete () [0x00048] in /Users/yanndupis/Documents/Data_Science/Encrypted_DL/OpenMined/UnityProject/Assets/OpenMined/Syft/Tensor/FloatTensor.Ops.cs:558 \n",
      "  at OpenMined.Syft.Tensor.FloatTensor.ProcessMessage (OpenMined.Network.Utils.Command msgObj, OpenMined.Network.Controllers.SyftController ctrl) [0x00e4c] in /Users/yanndupis/Documents/Data_Science/Encrypted_DL/OpenMined/UnityProject/Assets/OpenMined/Syft/Tensor/FloatTensor.cs:365 \n",
      "  at OpenMined.Network.Controllers.SyftController.processMessage (System.String json_message, UnityEngine.MonoBehaviour owner) [0x002dd] in /Users/yanndupis/Documents/Data_Science/Encrypted_DL/OpenMined/UnityProject/Assets/OpenMined/Network/Controllers/SyftController.cs:231 \n",
      "Exception ignored in: <object repr() failed>\n",
      "Traceback (most recent call last):\n",
      "  File \"/Users/yanndupis/anaconda2/envs/tflearn/lib/python3.5/site-packages/syft-0.1.0-py3.5.egg/syft/tensor.py\", line 544, in __del__\n",
      "  File \"/Users/yanndupis/anaconda2/envs/tflearn/lib/python3.5/site-packages/syft-0.1.0-py3.5.egg/syft/tensor.py\", line 1516, in delete_tensor\n",
      "  File \"/Users/yanndupis/anaconda2/envs/tflearn/lib/python3.5/site-packages/syft-0.1.0-py3.5.egg/syft/tensor.py\", line 1504, in no_params_func\n",
      "  File \"/Users/yanndupis/anaconda2/envs/tflearn/lib/python3.5/site-packages/syft-0.1.0-py3.5.egg/syft/tensor.py\", line 1486, in params_func\n",
      "  File \"/Users/yanndupis/anaconda2/envs/tflearn/lib/python3.5/site-packages/syft-0.1.0-py3.5.egg/syft/controller.py\", line 143, in send_json\n",
      "Exception: Unity Error: System.Collections.Generic.KeyNotFoundException: The given key was not present in the dictionary.\n",
      "  at System.ThrowHelper.ThrowKeyNotFoundException () [0x00000] in /Users/builduser/buildslave/mono/build/mcs/class/referencesource/mscorlib/system/throwhelper.cs:68 \n",
      "  at System.Collections.Generic.Dictionary`2[TKey,TValue].get_Item (TKey key) [0x0001e] in /Users/builduser/buildslave/mono/build/mcs/class/referencesource/mscorlib/system/collections/generic/dictionary.cs:183 \n",
      "  at OpenMined.Syft.Tensor.Factories.FloatTensorFactory.Get (System.Int32 id) [0x00008] in /Users/yanndupis/Documents/Data_Science/Encrypted_DL/OpenMined/UnityProject/Assets/OpenMined/Syft/Tensor/Factories/FloatTensorFactory.cs:24 \n",
      "  at OpenMined.Syft.Tensor.FloatTensor.Delete () [0x00048] in /Users/yanndupis/Documents/Data_Science/Encrypted_DL/OpenMined/UnityProject/Assets/OpenMined/Syft/Tensor/FloatTensor.Ops.cs:558 \n",
      "  at OpenMined.Syft.Tensor.FloatTensor.ProcessMessage (OpenMined.Network.Utils.Command msgObj, OpenMined.Network.Controllers.SyftController ctrl) [0x00e4c] in /Users/yanndupis/Documents/Data_Science/Encrypted_DL/OpenMined/UnityProject/Assets/OpenMined/Syft/Tensor/FloatTensor.cs:365 \n",
      "  at OpenMined.Network.Controllers.SyftController.processMessage (System.String json_message, UnityEngine.MonoBehaviour owner) [0x002dd] in /Users/yanndupis/Documents/Data_Science/Encrypted_DL/OpenMined/UnityProject/Assets/OpenMined/Network/Controllers/SyftController.cs:231 \n"
     ]
    },
    {
     "name": "stderr",
     "output_type": "stream",
     "text": [
      "Exception ignored in: <object repr() failed>\n",
      "Traceback (most recent call last):\n",
      "  File \"/Users/yanndupis/anaconda2/envs/tflearn/lib/python3.5/site-packages/syft-0.1.0-py3.5.egg/syft/tensor.py\", line 544, in __del__\n",
      "  File \"/Users/yanndupis/anaconda2/envs/tflearn/lib/python3.5/site-packages/syft-0.1.0-py3.5.egg/syft/tensor.py\", line 1516, in delete_tensor\n",
      "  File \"/Users/yanndupis/anaconda2/envs/tflearn/lib/python3.5/site-packages/syft-0.1.0-py3.5.egg/syft/tensor.py\", line 1504, in no_params_func\n",
      "  File \"/Users/yanndupis/anaconda2/envs/tflearn/lib/python3.5/site-packages/syft-0.1.0-py3.5.egg/syft/tensor.py\", line 1486, in params_func\n",
      "  File \"/Users/yanndupis/anaconda2/envs/tflearn/lib/python3.5/site-packages/syft-0.1.0-py3.5.egg/syft/controller.py\", line 143, in send_json\n",
      "Exception: Unity Error: System.Collections.Generic.KeyNotFoundException: The given key was not present in the dictionary.\n",
      "  at System.ThrowHelper.ThrowKeyNotFoundException () [0x00000] in /Users/builduser/buildslave/mono/build/mcs/class/referencesource/mscorlib/system/throwhelper.cs:68 \n",
      "  at System.Collections.Generic.Dictionary`2[TKey,TValue].get_Item (TKey key) [0x0001e] in /Users/builduser/buildslave/mono/build/mcs/class/referencesource/mscorlib/system/collections/generic/dictionary.cs:183 \n",
      "  at OpenMined.Syft.Tensor.Factories.FloatTensorFactory.Get (System.Int32 id) [0x00008] in /Users/yanndupis/Documents/Data_Science/Encrypted_DL/OpenMined/UnityProject/Assets/OpenMined/Syft/Tensor/Factories/FloatTensorFactory.cs:24 \n",
      "  at OpenMined.Syft.Tensor.FloatTensor.Delete () [0x00048] in /Users/yanndupis/Documents/Data_Science/Encrypted_DL/OpenMined/UnityProject/Assets/OpenMined/Syft/Tensor/FloatTensor.Ops.cs:558 \n",
      "  at OpenMined.Syft.Tensor.FloatTensor.ProcessMessage (OpenMined.Network.Utils.Command msgObj, OpenMined.Network.Controllers.SyftController ctrl) [0x00e4c] in /Users/yanndupis/Documents/Data_Science/Encrypted_DL/OpenMined/UnityProject/Assets/OpenMined/Syft/Tensor/FloatTensor.cs:365 \n",
      "  at OpenMined.Network.Controllers.SyftController.processMessage (System.String json_message, UnityEngine.MonoBehaviour owner) [0x002dd] in /Users/yanndupis/Documents/Data_Science/Encrypted_DL/OpenMined/UnityProject/Assets/OpenMined/Network/Controllers/SyftController.cs:231 \n",
      "Exception ignored in: <object repr() failed>\n",
      "Traceback (most recent call last):\n",
      "  File \"/Users/yanndupis/anaconda2/envs/tflearn/lib/python3.5/site-packages/syft-0.1.0-py3.5.egg/syft/tensor.py\", line 544, in __del__\n",
      "  File \"/Users/yanndupis/anaconda2/envs/tflearn/lib/python3.5/site-packages/syft-0.1.0-py3.5.egg/syft/tensor.py\", line 1516, in delete_tensor\n",
      "  File \"/Users/yanndupis/anaconda2/envs/tflearn/lib/python3.5/site-packages/syft-0.1.0-py3.5.egg/syft/tensor.py\", line 1504, in no_params_func\n",
      "  File \"/Users/yanndupis/anaconda2/envs/tflearn/lib/python3.5/site-packages/syft-0.1.0-py3.5.egg/syft/tensor.py\", line 1486, in params_func\n",
      "  File \"/Users/yanndupis/anaconda2/envs/tflearn/lib/python3.5/site-packages/syft-0.1.0-py3.5.egg/syft/controller.py\", line 143, in send_json\n",
      "Exception: Unity Error: System.Collections.Generic.KeyNotFoundException: The given key was not present in the dictionary.\n",
      "  at System.ThrowHelper.ThrowKeyNotFoundException () [0x00000] in /Users/builduser/buildslave/mono/build/mcs/class/referencesource/mscorlib/system/throwhelper.cs:68 \n",
      "  at System.Collections.Generic.Dictionary`2[TKey,TValue].get_Item (TKey key) [0x0001e] in /Users/builduser/buildslave/mono/build/mcs/class/referencesource/mscorlib/system/collections/generic/dictionary.cs:183 \n",
      "  at OpenMined.Syft.Tensor.Factories.FloatTensorFactory.Get (System.Int32 id) [0x00008] in /Users/yanndupis/Documents/Data_Science/Encrypted_DL/OpenMined/UnityProject/Assets/OpenMined/Syft/Tensor/Factories/FloatTensorFactory.cs:24 \n",
      "  at OpenMined.Syft.Tensor.FloatTensor.Delete () [0x00048] in /Users/yanndupis/Documents/Data_Science/Encrypted_DL/OpenMined/UnityProject/Assets/OpenMined/Syft/Tensor/FloatTensor.Ops.cs:558 \n",
      "  at OpenMined.Syft.Tensor.FloatTensor.ProcessMessage (OpenMined.Network.Utils.Command msgObj, OpenMined.Network.Controllers.SyftController ctrl) [0x00e4c] in /Users/yanndupis/Documents/Data_Science/Encrypted_DL/OpenMined/UnityProject/Assets/OpenMined/Syft/Tensor/FloatTensor.cs:365 \n",
      "  at OpenMined.Network.Controllers.SyftController.processMessage (System.String json_message, UnityEngine.MonoBehaviour owner) [0x002dd] in /Users/yanndupis/Documents/Data_Science/Encrypted_DL/OpenMined/UnityProject/Assets/OpenMined/Network/Controllers/SyftController.cs:231 \n",
      "Exception ignored in: <object repr() failed>\n",
      "Traceback (most recent call last):\n",
      "  File \"/Users/yanndupis/anaconda2/envs/tflearn/lib/python3.5/site-packages/syft-0.1.0-py3.5.egg/syft/tensor.py\", line 544, in __del__\n",
      "  File \"/Users/yanndupis/anaconda2/envs/tflearn/lib/python3.5/site-packages/syft-0.1.0-py3.5.egg/syft/tensor.py\", line 1516, in delete_tensor\n",
      "  File \"/Users/yanndupis/anaconda2/envs/tflearn/lib/python3.5/site-packages/syft-0.1.0-py3.5.egg/syft/tensor.py\", line 1504, in no_params_func\n",
      "  File \"/Users/yanndupis/anaconda2/envs/tflearn/lib/python3.5/site-packages/syft-0.1.0-py3.5.egg/syft/tensor.py\", line 1486, in params_func\n",
      "  File \"/Users/yanndupis/anaconda2/envs/tflearn/lib/python3.5/site-packages/syft-0.1.0-py3.5.egg/syft/controller.py\", line 143, in send_json\n",
      "Exception: Unity Error: System.Collections.Generic.KeyNotFoundException: The given key was not present in the dictionary.\n",
      "  at System.ThrowHelper.ThrowKeyNotFoundException () [0x00000] in /Users/builduser/buildslave/mono/build/mcs/class/referencesource/mscorlib/system/throwhelper.cs:68 \n",
      "  at System.Collections.Generic.Dictionary`2[TKey,TValue].get_Item (TKey key) [0x0001e] in /Users/builduser/buildslave/mono/build/mcs/class/referencesource/mscorlib/system/collections/generic/dictionary.cs:183 \n",
      "  at OpenMined.Syft.Tensor.Factories.FloatTensorFactory.Get (System.Int32 id) [0x00008] in /Users/yanndupis/Documents/Data_Science/Encrypted_DL/OpenMined/UnityProject/Assets/OpenMined/Syft/Tensor/Factories/FloatTensorFactory.cs:24 \n",
      "  at OpenMined.Syft.Tensor.FloatTensor.Delete () [0x00048] in /Users/yanndupis/Documents/Data_Science/Encrypted_DL/OpenMined/UnityProject/Assets/OpenMined/Syft/Tensor/FloatTensor.Ops.cs:558 \n",
      "  at OpenMined.Syft.Tensor.FloatTensor.ProcessMessage (OpenMined.Network.Utils.Command msgObj, OpenMined.Network.Controllers.SyftController ctrl) [0x00e4c] in /Users/yanndupis/Documents/Data_Science/Encrypted_DL/OpenMined/UnityProject/Assets/OpenMined/Syft/Tensor/FloatTensor.cs:365 \n",
      "  at OpenMined.Network.Controllers.SyftController.processMessage (System.String json_message, UnityEngine.MonoBehaviour owner) [0x002dd] in /Users/yanndupis/Documents/Data_Science/Encrypted_DL/OpenMined/UnityProject/Assets/OpenMined/Network/Controllers/SyftController.cs:231 \n",
      "Exception ignored in: <object repr() failed>\n",
      "Traceback (most recent call last):\n",
      "  File \"/Users/yanndupis/anaconda2/envs/tflearn/lib/python3.5/site-packages/syft-0.1.0-py3.5.egg/syft/tensor.py\", line 544, in __del__\n",
      "  File \"/Users/yanndupis/anaconda2/envs/tflearn/lib/python3.5/site-packages/syft-0.1.0-py3.5.egg/syft/tensor.py\", line 1516, in delete_tensor\n",
      "  File \"/Users/yanndupis/anaconda2/envs/tflearn/lib/python3.5/site-packages/syft-0.1.0-py3.5.egg/syft/tensor.py\", line 1504, in no_params_func\n",
      "  File \"/Users/yanndupis/anaconda2/envs/tflearn/lib/python3.5/site-packages/syft-0.1.0-py3.5.egg/syft/tensor.py\", line 1486, in params_func\n",
      "  File \"/Users/yanndupis/anaconda2/envs/tflearn/lib/python3.5/site-packages/syft-0.1.0-py3.5.egg/syft/controller.py\", line 143, in send_json\n",
      "Exception: Unity Error: System.Collections.Generic.KeyNotFoundException: The given key was not present in the dictionary.\n",
      "  at System.ThrowHelper.ThrowKeyNotFoundException () [0x00000] in /Users/builduser/buildslave/mono/build/mcs/class/referencesource/mscorlib/system/throwhelper.cs:68 \n",
      "  at System.Collections.Generic.Dictionary`2[TKey,TValue].get_Item (TKey key) [0x0001e] in /Users/builduser/buildslave/mono/build/mcs/class/referencesource/mscorlib/system/collections/generic/dictionary.cs:183 \n",
      "  at OpenMined.Syft.Tensor.Factories.FloatTensorFactory.Get (System.Int32 id) [0x00008] in /Users/yanndupis/Documents/Data_Science/Encrypted_DL/OpenMined/UnityProject/Assets/OpenMined/Syft/Tensor/Factories/FloatTensorFactory.cs:24 \n",
      "  at OpenMined.Syft.Tensor.FloatTensor.Delete () [0x00048] in /Users/yanndupis/Documents/Data_Science/Encrypted_DL/OpenMined/UnityProject/Assets/OpenMined/Syft/Tensor/FloatTensor.Ops.cs:558 \n",
      "  at OpenMined.Syft.Tensor.FloatTensor.ProcessMessage (OpenMined.Network.Utils.Command msgObj, OpenMined.Network.Controllers.SyftController ctrl) [0x00e4c] in /Users/yanndupis/Documents/Data_Science/Encrypted_DL/OpenMined/UnityProject/Assets/OpenMined/Syft/Tensor/FloatTensor.cs:365 \n",
      "  at OpenMined.Network.Controllers.SyftController.processMessage (System.String json_message, UnityEngine.MonoBehaviour owner) [0x002dd] in /Users/yanndupis/Documents/Data_Science/Encrypted_DL/OpenMined/UnityProject/Assets/OpenMined/Network/Controllers/SyftController.cs:231 \n"
     ]
    },
    {
     "name": "stdout",
     "output_type": "stream",
     "text": [
      "Number of Batches:1\n"
     ]
    },
    {
     "name": "stderr",
     "output_type": "stream",
     "text": [
      "Exception ignored in: <object repr() failed>\n",
      "Traceback (most recent call last):\n",
      "  File \"/Users/yanndupis/anaconda2/envs/tflearn/lib/python3.5/site-packages/syft-0.1.0-py3.5.egg/syft/tensor.py\", line 544, in __del__\n",
      "  File \"/Users/yanndupis/anaconda2/envs/tflearn/lib/python3.5/site-packages/syft-0.1.0-py3.5.egg/syft/tensor.py\", line 1516, in delete_tensor\n",
      "  File \"/Users/yanndupis/anaconda2/envs/tflearn/lib/python3.5/site-packages/syft-0.1.0-py3.5.egg/syft/tensor.py\", line 1504, in no_params_func\n",
      "  File \"/Users/yanndupis/anaconda2/envs/tflearn/lib/python3.5/site-packages/syft-0.1.0-py3.5.egg/syft/tensor.py\", line 1486, in params_func\n",
      "  File \"/Users/yanndupis/anaconda2/envs/tflearn/lib/python3.5/site-packages/syft-0.1.0-py3.5.egg/syft/controller.py\", line 143, in send_json\n",
      "Exception: Unity Error: System.Collections.Generic.KeyNotFoundException: The given key was not present in the dictionary.\n",
      "  at System.ThrowHelper.ThrowKeyNotFoundException () [0x00000] in /Users/builduser/buildslave/mono/build/mcs/class/referencesource/mscorlib/system/throwhelper.cs:68 \n",
      "  at System.Collections.Generic.Dictionary`2[TKey,TValue].get_Item (TKey key) [0x0001e] in /Users/builduser/buildslave/mono/build/mcs/class/referencesource/mscorlib/system/collections/generic/dictionary.cs:183 \n",
      "  at OpenMined.Syft.Tensor.Factories.FloatTensorFactory.Get (System.Int32 id) [0x00008] in /Users/yanndupis/Documents/Data_Science/Encrypted_DL/OpenMined/UnityProject/Assets/OpenMined/Syft/Tensor/Factories/FloatTensorFactory.cs:24 \n",
      "  at OpenMined.Syft.Tensor.FloatTensor.Delete () [0x00048] in /Users/yanndupis/Documents/Data_Science/Encrypted_DL/OpenMined/UnityProject/Assets/OpenMined/Syft/Tensor/FloatTensor.Ops.cs:558 \n",
      "  at OpenMined.Syft.Tensor.FloatTensor.ProcessMessage (OpenMined.Network.Utils.Command msgObj, OpenMined.Network.Controllers.SyftController ctrl) [0x00e4c] in /Users/yanndupis/Documents/Data_Science/Encrypted_DL/OpenMined/UnityProject/Assets/OpenMined/Syft/Tensor/FloatTensor.cs:365 \n",
      "  at OpenMined.Network.Controllers.SyftController.processMessage (System.String json_message, UnityEngine.MonoBehaviour owner) [0x002dd] in /Users/yanndupis/Documents/Data_Science/Encrypted_DL/OpenMined/UnityProject/Assets/OpenMined/Network/Controllers/SyftController.cs:231 \n"
     ]
    },
    {
     "data": {
      "application/vnd.jupyter.widget-view+json": {
       "model_id": "067409fce0b74999b3eae16c2eebe38c"
      }
     },
     "metadata": {},
     "output_type": "display_data"
    },
    {
     "data": {
      "application/vnd.jupyter.widget-view+json": {
       "model_id": "52df3292180a4addbc82557fa58e3ab5"
      }
     },
     "metadata": {},
     "output_type": "display_data"
    },
    {
     "name": "stderr",
     "output_type": "stream",
     "text": [
      "Exception ignored in: <object repr() failed>\n",
      "Traceback (most recent call last):\n",
      "  File \"/Users/yanndupis/anaconda2/envs/tflearn/lib/python3.5/site-packages/syft-0.1.0-py3.5.egg/syft/tensor.py\", line 544, in __del__\n",
      "  File \"/Users/yanndupis/anaconda2/envs/tflearn/lib/python3.5/site-packages/syft-0.1.0-py3.5.egg/syft/tensor.py\", line 1516, in delete_tensor\n",
      "  File \"/Users/yanndupis/anaconda2/envs/tflearn/lib/python3.5/site-packages/syft-0.1.0-py3.5.egg/syft/tensor.py\", line 1504, in no_params_func\n",
      "  File \"/Users/yanndupis/anaconda2/envs/tflearn/lib/python3.5/site-packages/syft-0.1.0-py3.5.egg/syft/tensor.py\", line 1486, in params_func\n",
      "  File \"/Users/yanndupis/anaconda2/envs/tflearn/lib/python3.5/site-packages/syft-0.1.0-py3.5.egg/syft/controller.py\", line 143, in send_json\n",
      "Exception: Unity Error: System.Collections.Generic.KeyNotFoundException: The given key was not present in the dictionary.\n",
      "  at System.ThrowHelper.ThrowKeyNotFoundException () [0x00000] in /Users/builduser/buildslave/mono/build/mcs/class/referencesource/mscorlib/system/throwhelper.cs:68 \n",
      "  at System.Collections.Generic.Dictionary`2[TKey,TValue].get_Item (TKey key) [0x0001e] in /Users/builduser/buildslave/mono/build/mcs/class/referencesource/mscorlib/system/collections/generic/dictionary.cs:183 \n",
      "  at OpenMined.Syft.Tensor.Factories.FloatTensorFactory.Get (System.Int32 id) [0x00008] in /Users/yanndupis/Documents/Data_Science/Encrypted_DL/OpenMined/UnityProject/Assets/OpenMined/Syft/Tensor/Factories/FloatTensorFactory.cs:24 \n",
      "  at OpenMined.Syft.Tensor.FloatTensor.Delete () [0x00048] in /Users/yanndupis/Documents/Data_Science/Encrypted_DL/OpenMined/UnityProject/Assets/OpenMined/Syft/Tensor/FloatTensor.Ops.cs:558 \n",
      "  at OpenMined.Syft.Tensor.FloatTensor.ProcessMessage (OpenMined.Network.Utils.Command msgObj, OpenMined.Network.Controllers.SyftController ctrl) [0x00e4c] in /Users/yanndupis/Documents/Data_Science/Encrypted_DL/OpenMined/UnityProject/Assets/OpenMined/Syft/Tensor/FloatTensor.cs:365 \n",
      "  at OpenMined.Network.Controllers.SyftController.processMessage (System.String json_message, UnityEngine.MonoBehaviour owner) [0x002dd] in /Users/yanndupis/Documents/Data_Science/Encrypted_DL/OpenMined/UnityProject/Assets/OpenMined/Network/Controllers/SyftController.cs:231 \n"
     ]
    },
    {
     "name": "stdout",
     "output_type": "stream",
     "text": [
      "Number of Batches:1\n"
     ]
    },
    {
     "data": {
      "application/vnd.jupyter.widget-view+json": {
       "model_id": "f65d62a3ead84d9ba8f722b3765547fb"
      }
     },
     "metadata": {},
     "output_type": "display_data"
    },
    {
     "data": {
      "application/vnd.jupyter.widget-view+json": {
       "model_id": "8ed3e54ef8114978b9d7acae4d003614"
      }
     },
     "metadata": {},
     "output_type": "display_data"
    },
    {
     "name": "stderr",
     "output_type": "stream",
     "text": [
      "Exception ignored in: <object repr() failed>\n",
      "Traceback (most recent call last):\n",
      "  File \"/Users/yanndupis/anaconda2/envs/tflearn/lib/python3.5/site-packages/syft-0.1.0-py3.5.egg/syft/tensor.py\", line 544, in __del__\n",
      "  File \"/Users/yanndupis/anaconda2/envs/tflearn/lib/python3.5/site-packages/syft-0.1.0-py3.5.egg/syft/tensor.py\", line 1516, in delete_tensor\n",
      "  File \"/Users/yanndupis/anaconda2/envs/tflearn/lib/python3.5/site-packages/syft-0.1.0-py3.5.egg/syft/tensor.py\", line 1504, in no_params_func\n",
      "  File \"/Users/yanndupis/anaconda2/envs/tflearn/lib/python3.5/site-packages/syft-0.1.0-py3.5.egg/syft/tensor.py\", line 1486, in params_func\n",
      "  File \"/Users/yanndupis/anaconda2/envs/tflearn/lib/python3.5/site-packages/syft-0.1.0-py3.5.egg/syft/controller.py\", line 143, in send_json\n",
      "Exception: Unity Error: System.Collections.Generic.KeyNotFoundException: The given key was not present in the dictionary.\n",
      "  at System.ThrowHelper.ThrowKeyNotFoundException () [0x00000] in /Users/builduser/buildslave/mono/build/mcs/class/referencesource/mscorlib/system/throwhelper.cs:68 \n",
      "  at System.Collections.Generic.Dictionary`2[TKey,TValue].get_Item (TKey key) [0x0001e] in /Users/builduser/buildslave/mono/build/mcs/class/referencesource/mscorlib/system/collections/generic/dictionary.cs:183 \n",
      "  at OpenMined.Syft.Tensor.Factories.FloatTensorFactory.Get (System.Int32 id) [0x00008] in /Users/yanndupis/Documents/Data_Science/Encrypted_DL/OpenMined/UnityProject/Assets/OpenMined/Syft/Tensor/Factories/FloatTensorFactory.cs:24 \n",
      "  at OpenMined.Syft.Tensor.FloatTensor.Delete () [0x00048] in /Users/yanndupis/Documents/Data_Science/Encrypted_DL/OpenMined/UnityProject/Assets/OpenMined/Syft/Tensor/FloatTensor.Ops.cs:558 \n",
      "  at OpenMined.Syft.Tensor.FloatTensor.ProcessMessage (OpenMined.Network.Utils.Command msgObj, OpenMined.Network.Controllers.SyftController ctrl) [0x00e4c] in /Users/yanndupis/Documents/Data_Science/Encrypted_DL/OpenMined/UnityProject/Assets/OpenMined/Syft/Tensor/FloatTensor.cs:365 \n",
      "  at OpenMined.Network.Controllers.SyftController.processMessage (System.String json_message, UnityEngine.MonoBehaviour owner) [0x002dd] in /Users/yanndupis/Documents/Data_Science/Encrypted_DL/OpenMined/UnityProject/Assets/OpenMined/Network/Controllers/SyftController.cs:231 \n"
     ]
    },
    {
     "name": "stdout",
     "output_type": "stream",
     "text": [
      "Number of Batches:1\n"
     ]
    },
    {
     "data": {
      "application/vnd.jupyter.widget-view+json": {
       "model_id": "7ba6a2f8cc1a468ab230e6fbadc26a92"
      }
     },
     "metadata": {},
     "output_type": "display_data"
    },
    {
     "data": {
      "application/vnd.jupyter.widget-view+json": {
       "model_id": "a85f5a3215704cb5a0edd90434dfff71"
      }
     },
     "metadata": {},
     "output_type": "display_data"
    },
    {
     "name": "stderr",
     "output_type": "stream",
     "text": [
      "Exception ignored in: <object repr() failed>\n",
      "Traceback (most recent call last):\n",
      "  File \"/Users/yanndupis/anaconda2/envs/tflearn/lib/python3.5/site-packages/syft-0.1.0-py3.5.egg/syft/tensor.py\", line 544, in __del__\n",
      "  File \"/Users/yanndupis/anaconda2/envs/tflearn/lib/python3.5/site-packages/syft-0.1.0-py3.5.egg/syft/tensor.py\", line 1516, in delete_tensor\n",
      "  File \"/Users/yanndupis/anaconda2/envs/tflearn/lib/python3.5/site-packages/syft-0.1.0-py3.5.egg/syft/tensor.py\", line 1504, in no_params_func\n",
      "  File \"/Users/yanndupis/anaconda2/envs/tflearn/lib/python3.5/site-packages/syft-0.1.0-py3.5.egg/syft/tensor.py\", line 1486, in params_func\n",
      "  File \"/Users/yanndupis/anaconda2/envs/tflearn/lib/python3.5/site-packages/syft-0.1.0-py3.5.egg/syft/controller.py\", line 143, in send_json\n",
      "Exception: Unity Error: System.Collections.Generic.KeyNotFoundException: The given key was not present in the dictionary.\n",
      "  at System.ThrowHelper.ThrowKeyNotFoundException () [0x00000] in /Users/builduser/buildslave/mono/build/mcs/class/referencesource/mscorlib/system/throwhelper.cs:68 \n",
      "  at System.Collections.Generic.Dictionary`2[TKey,TValue].get_Item (TKey key) [0x0001e] in /Users/builduser/buildslave/mono/build/mcs/class/referencesource/mscorlib/system/collections/generic/dictionary.cs:183 \n",
      "  at OpenMined.Syft.Tensor.Factories.FloatTensorFactory.Get (System.Int32 id) [0x00008] in /Users/yanndupis/Documents/Data_Science/Encrypted_DL/OpenMined/UnityProject/Assets/OpenMined/Syft/Tensor/Factories/FloatTensorFactory.cs:24 \n",
      "  at OpenMined.Syft.Tensor.FloatTensor.Delete () [0x00048] in /Users/yanndupis/Documents/Data_Science/Encrypted_DL/OpenMined/UnityProject/Assets/OpenMined/Syft/Tensor/FloatTensor.Ops.cs:558 \n",
      "  at OpenMined.Syft.Tensor.FloatTensor.ProcessMessage (OpenMined.Network.Utils.Command msgObj, OpenMined.Network.Controllers.SyftController ctrl) [0x00e4c] in /Users/yanndupis/Documents/Data_Science/Encrypted_DL/OpenMined/UnityProject/Assets/OpenMined/Syft/Tensor/FloatTensor.cs:365 \n",
      "  at OpenMined.Network.Controllers.SyftController.processMessage (System.String json_message, UnityEngine.MonoBehaviour owner) [0x002dd] in /Users/yanndupis/Documents/Data_Science/Encrypted_DL/OpenMined/UnityProject/Assets/OpenMined/Network/Controllers/SyftController.cs:231 \n"
     ]
    },
    {
     "name": "stdout",
     "output_type": "stream",
     "text": [
      "Number of Batches:1\n"
     ]
    },
    {
     "data": {
      "application/vnd.jupyter.widget-view+json": {
       "model_id": "bd47a3fccea74055aec034399b32485c"
      }
     },
     "metadata": {},
     "output_type": "display_data"
    },
    {
     "data": {
      "application/vnd.jupyter.widget-view+json": {
       "model_id": "88c564cc5ca2469c97e7c8f07c1185bc"
      }
     },
     "metadata": {},
     "output_type": "display_data"
    },
    {
     "name": "stderr",
     "output_type": "stream",
     "text": [
      "Exception ignored in: <object repr() failed>\n",
      "Traceback (most recent call last):\n",
      "  File \"/Users/yanndupis/anaconda2/envs/tflearn/lib/python3.5/site-packages/syft-0.1.0-py3.5.egg/syft/tensor.py\", line 544, in __del__\n",
      "  File \"/Users/yanndupis/anaconda2/envs/tflearn/lib/python3.5/site-packages/syft-0.1.0-py3.5.egg/syft/tensor.py\", line 1516, in delete_tensor\n",
      "  File \"/Users/yanndupis/anaconda2/envs/tflearn/lib/python3.5/site-packages/syft-0.1.0-py3.5.egg/syft/tensor.py\", line 1504, in no_params_func\n",
      "  File \"/Users/yanndupis/anaconda2/envs/tflearn/lib/python3.5/site-packages/syft-0.1.0-py3.5.egg/syft/tensor.py\", line 1486, in params_func\n",
      "  File \"/Users/yanndupis/anaconda2/envs/tflearn/lib/python3.5/site-packages/syft-0.1.0-py3.5.egg/syft/controller.py\", line 143, in send_json\n",
      "Exception: Unity Error: System.Collections.Generic.KeyNotFoundException: The given key was not present in the dictionary.\n",
      "  at System.ThrowHelper.ThrowKeyNotFoundException () [0x00000] in /Users/builduser/buildslave/mono/build/mcs/class/referencesource/mscorlib/system/throwhelper.cs:68 \n",
      "  at System.Collections.Generic.Dictionary`2[TKey,TValue].get_Item (TKey key) [0x0001e] in /Users/builduser/buildslave/mono/build/mcs/class/referencesource/mscorlib/system/collections/generic/dictionary.cs:183 \n",
      "  at OpenMined.Syft.Tensor.Factories.FloatTensorFactory.Get (System.Int32 id) [0x00008] in /Users/yanndupis/Documents/Data_Science/Encrypted_DL/OpenMined/UnityProject/Assets/OpenMined/Syft/Tensor/Factories/FloatTensorFactory.cs:24 \n",
      "  at OpenMined.Syft.Tensor.FloatTensor.Delete () [0x00048] in /Users/yanndupis/Documents/Data_Science/Encrypted_DL/OpenMined/UnityProject/Assets/OpenMined/Syft/Tensor/FloatTensor.Ops.cs:558 \n",
      "  at OpenMined.Syft.Tensor.FloatTensor.ProcessMessage (OpenMined.Network.Utils.Command msgObj, OpenMined.Network.Controllers.SyftController ctrl) [0x00e4c] in /Users/yanndupis/Documents/Data_Science/Encrypted_DL/OpenMined/UnityProject/Assets/OpenMined/Syft/Tensor/FloatTensor.cs:365 \n",
      "  at OpenMined.Network.Controllers.SyftController.processMessage (System.String json_message, UnityEngine.MonoBehaviour owner) [0x002dd] in /Users/yanndupis/Documents/Data_Science/Encrypted_DL/OpenMined/UnityProject/Assets/OpenMined/Network/Controllers/SyftController.cs:231 \n"
     ]
    },
    {
     "name": "stdout",
     "output_type": "stream",
     "text": [
      "Number of Batches:1\n"
     ]
    },
    {
     "data": {
      "application/vnd.jupyter.widget-view+json": {
       "model_id": "1523058cbcce4cabb8de979b42ca4fb8"
      }
     },
     "metadata": {},
     "output_type": "display_data"
    },
    {
     "data": {
      "application/vnd.jupyter.widget-view+json": {
       "model_id": "5efd6ad564f845aeab7659827d76675b"
      }
     },
     "metadata": {},
     "output_type": "display_data"
    },
    {
     "name": "stderr",
     "output_type": "stream",
     "text": [
      "Exception ignored in: <object repr() failed>\n",
      "Traceback (most recent call last):\n",
      "  File \"/Users/yanndupis/anaconda2/envs/tflearn/lib/python3.5/site-packages/syft-0.1.0-py3.5.egg/syft/tensor.py\", line 544, in __del__\n",
      "  File \"/Users/yanndupis/anaconda2/envs/tflearn/lib/python3.5/site-packages/syft-0.1.0-py3.5.egg/syft/tensor.py\", line 1516, in delete_tensor\n",
      "  File \"/Users/yanndupis/anaconda2/envs/tflearn/lib/python3.5/site-packages/syft-0.1.0-py3.5.egg/syft/tensor.py\", line 1504, in no_params_func\n",
      "  File \"/Users/yanndupis/anaconda2/envs/tflearn/lib/python3.5/site-packages/syft-0.1.0-py3.5.egg/syft/tensor.py\", line 1486, in params_func\n",
      "  File \"/Users/yanndupis/anaconda2/envs/tflearn/lib/python3.5/site-packages/syft-0.1.0-py3.5.egg/syft/controller.py\", line 143, in send_json\n",
      "Exception: Unity Error: System.Collections.Generic.KeyNotFoundException: The given key was not present in the dictionary.\n",
      "  at System.ThrowHelper.ThrowKeyNotFoundException () [0x00000] in /Users/builduser/buildslave/mono/build/mcs/class/referencesource/mscorlib/system/throwhelper.cs:68 \n",
      "  at System.Collections.Generic.Dictionary`2[TKey,TValue].get_Item (TKey key) [0x0001e] in /Users/builduser/buildslave/mono/build/mcs/class/referencesource/mscorlib/system/collections/generic/dictionary.cs:183 \n",
      "  at OpenMined.Syft.Tensor.Factories.FloatTensorFactory.Get (System.Int32 id) [0x00008] in /Users/yanndupis/Documents/Data_Science/Encrypted_DL/OpenMined/UnityProject/Assets/OpenMined/Syft/Tensor/Factories/FloatTensorFactory.cs:24 \n",
      "  at OpenMined.Syft.Tensor.FloatTensor.Delete () [0x00048] in /Users/yanndupis/Documents/Data_Science/Encrypted_DL/OpenMined/UnityProject/Assets/OpenMined/Syft/Tensor/FloatTensor.Ops.cs:558 \n",
      "  at OpenMined.Syft.Tensor.FloatTensor.ProcessMessage (OpenMined.Network.Utils.Command msgObj, OpenMined.Network.Controllers.SyftController ctrl) [0x00e4c] in /Users/yanndupis/Documents/Data_Science/Encrypted_DL/OpenMined/UnityProject/Assets/OpenMined/Syft/Tensor/FloatTensor.cs:365 \n",
      "  at OpenMined.Network.Controllers.SyftController.processMessage (System.String json_message, UnityEngine.MonoBehaviour owner) [0x002dd] in /Users/yanndupis/Documents/Data_Science/Encrypted_DL/OpenMined/UnityProject/Assets/OpenMined/Network/Controllers/SyftController.cs:231 \n",
      "Exception ignored in: <object repr() failed>\n",
      "Traceback (most recent call last):\n",
      "  File \"/Users/yanndupis/anaconda2/envs/tflearn/lib/python3.5/site-packages/syft-0.1.0-py3.5.egg/syft/tensor.py\", line 544, in __del__\n",
      "  File \"/Users/yanndupis/anaconda2/envs/tflearn/lib/python3.5/site-packages/syft-0.1.0-py3.5.egg/syft/tensor.py\", line 1516, in delete_tensor\n",
      "  File \"/Users/yanndupis/anaconda2/envs/tflearn/lib/python3.5/site-packages/syft-0.1.0-py3.5.egg/syft/tensor.py\", line 1504, in no_params_func\n",
      "  File \"/Users/yanndupis/anaconda2/envs/tflearn/lib/python3.5/site-packages/syft-0.1.0-py3.5.egg/syft/tensor.py\", line 1486, in params_func\n",
      "  File \"/Users/yanndupis/anaconda2/envs/tflearn/lib/python3.5/site-packages/syft-0.1.0-py3.5.egg/syft/controller.py\", line 143, in send_json\n",
      "Exception: Unity Error: System.Collections.Generic.KeyNotFoundException: The given key was not present in the dictionary.\n",
      "  at System.ThrowHelper.ThrowKeyNotFoundException () [0x00000] in /Users/builduser/buildslave/mono/build/mcs/class/referencesource/mscorlib/system/throwhelper.cs:68 \n",
      "  at System.Collections.Generic.Dictionary`2[TKey,TValue].get_Item (TKey key) [0x0001e] in /Users/builduser/buildslave/mono/build/mcs/class/referencesource/mscorlib/system/collections/generic/dictionary.cs:183 \n",
      "  at OpenMined.Syft.Tensor.Factories.FloatTensorFactory.Get (System.Int32 id) [0x00008] in /Users/yanndupis/Documents/Data_Science/Encrypted_DL/OpenMined/UnityProject/Assets/OpenMined/Syft/Tensor/Factories/FloatTensorFactory.cs:24 \n",
      "  at OpenMined.Syft.Tensor.FloatTensor.Delete () [0x00048] in /Users/yanndupis/Documents/Data_Science/Encrypted_DL/OpenMined/UnityProject/Assets/OpenMined/Syft/Tensor/FloatTensor.Ops.cs:558 \n",
      "  at OpenMined.Syft.Tensor.FloatTensor.ProcessMessage (OpenMined.Network.Utils.Command msgObj, OpenMined.Network.Controllers.SyftController ctrl) [0x00e4c] in /Users/yanndupis/Documents/Data_Science/Encrypted_DL/OpenMined/UnityProject/Assets/OpenMined/Syft/Tensor/FloatTensor.cs:365 \n",
      "  at OpenMined.Network.Controllers.SyftController.processMessage (System.String json_message, UnityEngine.MonoBehaviour owner) [0x002dd] in /Users/yanndupis/Documents/Data_Science/Encrypted_DL/OpenMined/UnityProject/Assets/OpenMined/Network/Controllers/SyftController.cs:231 \n",
      "Exception ignored in: <object repr() failed>\n",
      "Traceback (most recent call last):\n",
      "  File \"/Users/yanndupis/anaconda2/envs/tflearn/lib/python3.5/site-packages/syft-0.1.0-py3.5.egg/syft/tensor.py\", line 544, in __del__\n",
      "  File \"/Users/yanndupis/anaconda2/envs/tflearn/lib/python3.5/site-packages/syft-0.1.0-py3.5.egg/syft/tensor.py\", line 1516, in delete_tensor\n",
      "  File \"/Users/yanndupis/anaconda2/envs/tflearn/lib/python3.5/site-packages/syft-0.1.0-py3.5.egg/syft/tensor.py\", line 1504, in no_params_func\n",
      "  File \"/Users/yanndupis/anaconda2/envs/tflearn/lib/python3.5/site-packages/syft-0.1.0-py3.5.egg/syft/tensor.py\", line 1486, in params_func\n",
      "  File \"/Users/yanndupis/anaconda2/envs/tflearn/lib/python3.5/site-packages/syft-0.1.0-py3.5.egg/syft/controller.py\", line 143, in send_json\n",
      "Exception: Unity Error: System.Collections.Generic.KeyNotFoundException: The given key was not present in the dictionary.\n",
      "  at System.ThrowHelper.ThrowKeyNotFoundException () [0x00000] in /Users/builduser/buildslave/mono/build/mcs/class/referencesource/mscorlib/system/throwhelper.cs:68 \n",
      "  at System.Collections.Generic.Dictionary`2[TKey,TValue].get_Item (TKey key) [0x0001e] in /Users/builduser/buildslave/mono/build/mcs/class/referencesource/mscorlib/system/collections/generic/dictionary.cs:183 \n",
      "  at OpenMined.Syft.Tensor.Factories.FloatTensorFactory.Get (System.Int32 id) [0x00008] in /Users/yanndupis/Documents/Data_Science/Encrypted_DL/OpenMined/UnityProject/Assets/OpenMined/Syft/Tensor/Factories/FloatTensorFactory.cs:24 \n",
      "  at OpenMined.Syft.Tensor.FloatTensor.Delete () [0x00048] in /Users/yanndupis/Documents/Data_Science/Encrypted_DL/OpenMined/UnityProject/Assets/OpenMined/Syft/Tensor/FloatTensor.Ops.cs:558 \n",
      "  at OpenMined.Syft.Tensor.FloatTensor.ProcessMessage (OpenMined.Network.Utils.Command msgObj, OpenMined.Network.Controllers.SyftController ctrl) [0x00e4c] in /Users/yanndupis/Documents/Data_Science/Encrypted_DL/OpenMined/UnityProject/Assets/OpenMined/Syft/Tensor/FloatTensor.cs:365 \n",
      "  at OpenMined.Network.Controllers.SyftController.processMessage (System.String json_message, UnityEngine.MonoBehaviour owner) [0x002dd] in /Users/yanndupis/Documents/Data_Science/Encrypted_DL/OpenMined/UnityProject/Assets/OpenMined/Network/Controllers/SyftController.cs:231 \n",
      "Exception ignored in: <object repr() failed>\n",
      "Traceback (most recent call last):\n",
      "  File \"/Users/yanndupis/anaconda2/envs/tflearn/lib/python3.5/site-packages/syft-0.1.0-py3.5.egg/syft/tensor.py\", line 544, in __del__\n",
      "  File \"/Users/yanndupis/anaconda2/envs/tflearn/lib/python3.5/site-packages/syft-0.1.0-py3.5.egg/syft/tensor.py\", line 1516, in delete_tensor\n",
      "  File \"/Users/yanndupis/anaconda2/envs/tflearn/lib/python3.5/site-packages/syft-0.1.0-py3.5.egg/syft/tensor.py\", line 1504, in no_params_func\n",
      "  File \"/Users/yanndupis/anaconda2/envs/tflearn/lib/python3.5/site-packages/syft-0.1.0-py3.5.egg/syft/tensor.py\", line 1486, in params_func\n",
      "  File \"/Users/yanndupis/anaconda2/envs/tflearn/lib/python3.5/site-packages/syft-0.1.0-py3.5.egg/syft/controller.py\", line 143, in send_json\n",
      "Exception: Unity Error: System.Collections.Generic.KeyNotFoundException: The given key was not present in the dictionary.\n",
      "  at System.ThrowHelper.ThrowKeyNotFoundException () [0x00000] in /Users/builduser/buildslave/mono/build/mcs/class/referencesource/mscorlib/system/throwhelper.cs:68 \n",
      "  at System.Collections.Generic.Dictionary`2[TKey,TValue].get_Item (TKey key) [0x0001e] in /Users/builduser/buildslave/mono/build/mcs/class/referencesource/mscorlib/system/collections/generic/dictionary.cs:183 \n",
      "  at OpenMined.Syft.Tensor.Factories.FloatTensorFactory.Get (System.Int32 id) [0x00008] in /Users/yanndupis/Documents/Data_Science/Encrypted_DL/OpenMined/UnityProject/Assets/OpenMined/Syft/Tensor/Factories/FloatTensorFactory.cs:24 \n",
      "  at OpenMined.Syft.Tensor.FloatTensor.Delete () [0x00048] in /Users/yanndupis/Documents/Data_Science/Encrypted_DL/OpenMined/UnityProject/Assets/OpenMined/Syft/Tensor/FloatTensor.Ops.cs:558 \n",
      "  at OpenMined.Syft.Tensor.FloatTensor.ProcessMessage (OpenMined.Network.Utils.Command msgObj, OpenMined.Network.Controllers.SyftController ctrl) [0x00e4c] in /Users/yanndupis/Documents/Data_Science/Encrypted_DL/OpenMined/UnityProject/Assets/OpenMined/Syft/Tensor/FloatTensor.cs:365 \n",
      "  at OpenMined.Network.Controllers.SyftController.processMessage (System.String json_message, UnityEngine.MonoBehaviour owner) [0x002dd] in /Users/yanndupis/Documents/Data_Science/Encrypted_DL/OpenMined/UnityProject/Assets/OpenMined/Network/Controllers/SyftController.cs:231 \n"
     ]
    },
    {
     "name": "stderr",
     "output_type": "stream",
     "text": [
      "Exception ignored in: <object repr() failed>\n",
      "Traceback (most recent call last):\n",
      "  File \"/Users/yanndupis/anaconda2/envs/tflearn/lib/python3.5/site-packages/syft-0.1.0-py3.5.egg/syft/tensor.py\", line 544, in __del__\n",
      "  File \"/Users/yanndupis/anaconda2/envs/tflearn/lib/python3.5/site-packages/syft-0.1.0-py3.5.egg/syft/tensor.py\", line 1516, in delete_tensor\n",
      "  File \"/Users/yanndupis/anaconda2/envs/tflearn/lib/python3.5/site-packages/syft-0.1.0-py3.5.egg/syft/tensor.py\", line 1504, in no_params_func\n",
      "  File \"/Users/yanndupis/anaconda2/envs/tflearn/lib/python3.5/site-packages/syft-0.1.0-py3.5.egg/syft/tensor.py\", line 1486, in params_func\n",
      "  File \"/Users/yanndupis/anaconda2/envs/tflearn/lib/python3.5/site-packages/syft-0.1.0-py3.5.egg/syft/controller.py\", line 143, in send_json\n",
      "Exception: Unity Error: System.Collections.Generic.KeyNotFoundException: The given key was not present in the dictionary.\n",
      "  at System.ThrowHelper.ThrowKeyNotFoundException () [0x00000] in /Users/builduser/buildslave/mono/build/mcs/class/referencesource/mscorlib/system/throwhelper.cs:68 \n",
      "  at System.Collections.Generic.Dictionary`2[TKey,TValue].get_Item (TKey key) [0x0001e] in /Users/builduser/buildslave/mono/build/mcs/class/referencesource/mscorlib/system/collections/generic/dictionary.cs:183 \n",
      "  at OpenMined.Syft.Tensor.Factories.FloatTensorFactory.Get (System.Int32 id) [0x00008] in /Users/yanndupis/Documents/Data_Science/Encrypted_DL/OpenMined/UnityProject/Assets/OpenMined/Syft/Tensor/Factories/FloatTensorFactory.cs:24 \n",
      "  at OpenMined.Syft.Tensor.FloatTensor.Delete () [0x00048] in /Users/yanndupis/Documents/Data_Science/Encrypted_DL/OpenMined/UnityProject/Assets/OpenMined/Syft/Tensor/FloatTensor.Ops.cs:558 \n",
      "  at OpenMined.Syft.Tensor.FloatTensor.ProcessMessage (OpenMined.Network.Utils.Command msgObj, OpenMined.Network.Controllers.SyftController ctrl) [0x00e4c] in /Users/yanndupis/Documents/Data_Science/Encrypted_DL/OpenMined/UnityProject/Assets/OpenMined/Syft/Tensor/FloatTensor.cs:365 \n",
      "  at OpenMined.Network.Controllers.SyftController.processMessage (System.String json_message, UnityEngine.MonoBehaviour owner) [0x002dd] in /Users/yanndupis/Documents/Data_Science/Encrypted_DL/OpenMined/UnityProject/Assets/OpenMined/Network/Controllers/SyftController.cs:231 \n",
      "Exception ignored in: <object repr() failed>\n",
      "Traceback (most recent call last):\n",
      "  File \"/Users/yanndupis/anaconda2/envs/tflearn/lib/python3.5/site-packages/syft-0.1.0-py3.5.egg/syft/tensor.py\", line 544, in __del__\n",
      "  File \"/Users/yanndupis/anaconda2/envs/tflearn/lib/python3.5/site-packages/syft-0.1.0-py3.5.egg/syft/tensor.py\", line 1516, in delete_tensor\n",
      "  File \"/Users/yanndupis/anaconda2/envs/tflearn/lib/python3.5/site-packages/syft-0.1.0-py3.5.egg/syft/tensor.py\", line 1504, in no_params_func\n",
      "  File \"/Users/yanndupis/anaconda2/envs/tflearn/lib/python3.5/site-packages/syft-0.1.0-py3.5.egg/syft/tensor.py\", line 1486, in params_func\n",
      "  File \"/Users/yanndupis/anaconda2/envs/tflearn/lib/python3.5/site-packages/syft-0.1.0-py3.5.egg/syft/controller.py\", line 143, in send_json\n",
      "Exception: Unity Error: System.Collections.Generic.KeyNotFoundException: The given key was not present in the dictionary.\n",
      "  at System.ThrowHelper.ThrowKeyNotFoundException () [0x00000] in /Users/builduser/buildslave/mono/build/mcs/class/referencesource/mscorlib/system/throwhelper.cs:68 \n",
      "  at System.Collections.Generic.Dictionary`2[TKey,TValue].get_Item (TKey key) [0x0001e] in /Users/builduser/buildslave/mono/build/mcs/class/referencesource/mscorlib/system/collections/generic/dictionary.cs:183 \n",
      "  at OpenMined.Syft.Tensor.Factories.FloatTensorFactory.Get (System.Int32 id) [0x00008] in /Users/yanndupis/Documents/Data_Science/Encrypted_DL/OpenMined/UnityProject/Assets/OpenMined/Syft/Tensor/Factories/FloatTensorFactory.cs:24 \n",
      "  at OpenMined.Syft.Tensor.FloatTensor.Delete () [0x00048] in /Users/yanndupis/Documents/Data_Science/Encrypted_DL/OpenMined/UnityProject/Assets/OpenMined/Syft/Tensor/FloatTensor.Ops.cs:558 \n",
      "  at OpenMined.Syft.Tensor.FloatTensor.ProcessMessage (OpenMined.Network.Utils.Command msgObj, OpenMined.Network.Controllers.SyftController ctrl) [0x00e4c] in /Users/yanndupis/Documents/Data_Science/Encrypted_DL/OpenMined/UnityProject/Assets/OpenMined/Syft/Tensor/FloatTensor.cs:365 \n",
      "  at OpenMined.Network.Controllers.SyftController.processMessage (System.String json_message, UnityEngine.MonoBehaviour owner) [0x002dd] in /Users/yanndupis/Documents/Data_Science/Encrypted_DL/OpenMined/UnityProject/Assets/OpenMined/Network/Controllers/SyftController.cs:231 \n",
      "Exception ignored in: <object repr() failed>\n",
      "Traceback (most recent call last):\n",
      "  File \"/Users/yanndupis/anaconda2/envs/tflearn/lib/python3.5/site-packages/syft-0.1.0-py3.5.egg/syft/tensor.py\", line 544, in __del__\n",
      "  File \"/Users/yanndupis/anaconda2/envs/tflearn/lib/python3.5/site-packages/syft-0.1.0-py3.5.egg/syft/tensor.py\", line 1516, in delete_tensor\n",
      "  File \"/Users/yanndupis/anaconda2/envs/tflearn/lib/python3.5/site-packages/syft-0.1.0-py3.5.egg/syft/tensor.py\", line 1504, in no_params_func\n",
      "  File \"/Users/yanndupis/anaconda2/envs/tflearn/lib/python3.5/site-packages/syft-0.1.0-py3.5.egg/syft/tensor.py\", line 1486, in params_func\n",
      "  File \"/Users/yanndupis/anaconda2/envs/tflearn/lib/python3.5/site-packages/syft-0.1.0-py3.5.egg/syft/controller.py\", line 143, in send_json\n",
      "Exception: Unity Error: System.Collections.Generic.KeyNotFoundException: The given key was not present in the dictionary.\n",
      "  at System.ThrowHelper.ThrowKeyNotFoundException () [0x00000] in /Users/builduser/buildslave/mono/build/mcs/class/referencesource/mscorlib/system/throwhelper.cs:68 \n",
      "  at System.Collections.Generic.Dictionary`2[TKey,TValue].get_Item (TKey key) [0x0001e] in /Users/builduser/buildslave/mono/build/mcs/class/referencesource/mscorlib/system/collections/generic/dictionary.cs:183 \n",
      "  at OpenMined.Syft.Tensor.Factories.FloatTensorFactory.Get (System.Int32 id) [0x00008] in /Users/yanndupis/Documents/Data_Science/Encrypted_DL/OpenMined/UnityProject/Assets/OpenMined/Syft/Tensor/Factories/FloatTensorFactory.cs:24 \n",
      "  at OpenMined.Syft.Tensor.FloatTensor.Delete () [0x00048] in /Users/yanndupis/Documents/Data_Science/Encrypted_DL/OpenMined/UnityProject/Assets/OpenMined/Syft/Tensor/FloatTensor.Ops.cs:558 \n",
      "  at OpenMined.Syft.Tensor.FloatTensor.ProcessMessage (OpenMined.Network.Utils.Command msgObj, OpenMined.Network.Controllers.SyftController ctrl) [0x00e4c] in /Users/yanndupis/Documents/Data_Science/Encrypted_DL/OpenMined/UnityProject/Assets/OpenMined/Syft/Tensor/FloatTensor.cs:365 \n",
      "  at OpenMined.Network.Controllers.SyftController.processMessage (System.String json_message, UnityEngine.MonoBehaviour owner) [0x002dd] in /Users/yanndupis/Documents/Data_Science/Encrypted_DL/OpenMined/UnityProject/Assets/OpenMined/Network/Controllers/SyftController.cs:231 \n",
      "Exception ignored in: <object repr() failed>\n",
      "Traceback (most recent call last):\n",
      "  File \"/Users/yanndupis/anaconda2/envs/tflearn/lib/python3.5/site-packages/syft-0.1.0-py3.5.egg/syft/tensor.py\", line 544, in __del__\n",
      "  File \"/Users/yanndupis/anaconda2/envs/tflearn/lib/python3.5/site-packages/syft-0.1.0-py3.5.egg/syft/tensor.py\", line 1516, in delete_tensor\n",
      "  File \"/Users/yanndupis/anaconda2/envs/tflearn/lib/python3.5/site-packages/syft-0.1.0-py3.5.egg/syft/tensor.py\", line 1504, in no_params_func\n",
      "  File \"/Users/yanndupis/anaconda2/envs/tflearn/lib/python3.5/site-packages/syft-0.1.0-py3.5.egg/syft/tensor.py\", line 1486, in params_func\n",
      "  File \"/Users/yanndupis/anaconda2/envs/tflearn/lib/python3.5/site-packages/syft-0.1.0-py3.5.egg/syft/controller.py\", line 143, in send_json\n",
      "Exception: Unity Error: System.Collections.Generic.KeyNotFoundException: The given key was not present in the dictionary.\n",
      "  at System.ThrowHelper.ThrowKeyNotFoundException () [0x00000] in /Users/builduser/buildslave/mono/build/mcs/class/referencesource/mscorlib/system/throwhelper.cs:68 \n",
      "  at System.Collections.Generic.Dictionary`2[TKey,TValue].get_Item (TKey key) [0x0001e] in /Users/builduser/buildslave/mono/build/mcs/class/referencesource/mscorlib/system/collections/generic/dictionary.cs:183 \n",
      "  at OpenMined.Syft.Tensor.Factories.FloatTensorFactory.Get (System.Int32 id) [0x00008] in /Users/yanndupis/Documents/Data_Science/Encrypted_DL/OpenMined/UnityProject/Assets/OpenMined/Syft/Tensor/Factories/FloatTensorFactory.cs:24 \n",
      "  at OpenMined.Syft.Tensor.FloatTensor.Delete () [0x00048] in /Users/yanndupis/Documents/Data_Science/Encrypted_DL/OpenMined/UnityProject/Assets/OpenMined/Syft/Tensor/FloatTensor.Ops.cs:558 \n",
      "  at OpenMined.Syft.Tensor.FloatTensor.ProcessMessage (OpenMined.Network.Utils.Command msgObj, OpenMined.Network.Controllers.SyftController ctrl) [0x00e4c] in /Users/yanndupis/Documents/Data_Science/Encrypted_DL/OpenMined/UnityProject/Assets/OpenMined/Syft/Tensor/FloatTensor.cs:365 \n",
      "  at OpenMined.Network.Controllers.SyftController.processMessage (System.String json_message, UnityEngine.MonoBehaviour owner) [0x002dd] in /Users/yanndupis/Documents/Data_Science/Encrypted_DL/OpenMined/UnityProject/Assets/OpenMined/Network/Controllers/SyftController.cs:231 \n"
     ]
    },
    {
     "name": "stderr",
     "output_type": "stream",
     "text": [
      "Exception ignored in: <object repr() failed>\n",
      "Traceback (most recent call last):\n",
      "  File \"/Users/yanndupis/anaconda2/envs/tflearn/lib/python3.5/site-packages/syft-0.1.0-py3.5.egg/syft/tensor.py\", line 544, in __del__\n",
      "  File \"/Users/yanndupis/anaconda2/envs/tflearn/lib/python3.5/site-packages/syft-0.1.0-py3.5.egg/syft/tensor.py\", line 1516, in delete_tensor\n",
      "  File \"/Users/yanndupis/anaconda2/envs/tflearn/lib/python3.5/site-packages/syft-0.1.0-py3.5.egg/syft/tensor.py\", line 1504, in no_params_func\n",
      "  File \"/Users/yanndupis/anaconda2/envs/tflearn/lib/python3.5/site-packages/syft-0.1.0-py3.5.egg/syft/tensor.py\", line 1486, in params_func\n",
      "  File \"/Users/yanndupis/anaconda2/envs/tflearn/lib/python3.5/site-packages/syft-0.1.0-py3.5.egg/syft/controller.py\", line 143, in send_json\n",
      "Exception: Unity Error: System.Collections.Generic.KeyNotFoundException: The given key was not present in the dictionary.\n",
      "  at System.ThrowHelper.ThrowKeyNotFoundException () [0x00000] in /Users/builduser/buildslave/mono/build/mcs/class/referencesource/mscorlib/system/throwhelper.cs:68 \n",
      "  at System.Collections.Generic.Dictionary`2[TKey,TValue].get_Item (TKey key) [0x0001e] in /Users/builduser/buildslave/mono/build/mcs/class/referencesource/mscorlib/system/collections/generic/dictionary.cs:183 \n",
      "  at OpenMined.Syft.Tensor.Factories.FloatTensorFactory.Get (System.Int32 id) [0x00008] in /Users/yanndupis/Documents/Data_Science/Encrypted_DL/OpenMined/UnityProject/Assets/OpenMined/Syft/Tensor/Factories/FloatTensorFactory.cs:24 \n",
      "  at OpenMined.Syft.Tensor.FloatTensor.Delete () [0x00048] in /Users/yanndupis/Documents/Data_Science/Encrypted_DL/OpenMined/UnityProject/Assets/OpenMined/Syft/Tensor/FloatTensor.Ops.cs:558 \n",
      "  at OpenMined.Syft.Tensor.FloatTensor.ProcessMessage (OpenMined.Network.Utils.Command msgObj, OpenMined.Network.Controllers.SyftController ctrl) [0x00e4c] in /Users/yanndupis/Documents/Data_Science/Encrypted_DL/OpenMined/UnityProject/Assets/OpenMined/Syft/Tensor/FloatTensor.cs:365 \n",
      "  at OpenMined.Network.Controllers.SyftController.processMessage (System.String json_message, UnityEngine.MonoBehaviour owner) [0x002dd] in /Users/yanndupis/Documents/Data_Science/Encrypted_DL/OpenMined/UnityProject/Assets/OpenMined/Network/Controllers/SyftController.cs:231 \n"
     ]
    },
    {
     "name": "stdout",
     "output_type": "stream",
     "text": [
      "Number of Batches:1\n"
     ]
    },
    {
     "data": {
      "application/vnd.jupyter.widget-view+json": {
       "model_id": "5c9fa20713744f39a6aa1b41560eccc2"
      }
     },
     "metadata": {},
     "output_type": "display_data"
    },
    {
     "data": {
      "application/vnd.jupyter.widget-view+json": {
       "model_id": "6ba9847e4457431e8ab44eb548c3d8c6"
      }
     },
     "metadata": {},
     "output_type": "display_data"
    },
    {
     "name": "stderr",
     "output_type": "stream",
     "text": [
      "Exception ignored in: <object repr() failed>\n",
      "Traceback (most recent call last):\n",
      "  File \"/Users/yanndupis/anaconda2/envs/tflearn/lib/python3.5/site-packages/syft-0.1.0-py3.5.egg/syft/tensor.py\", line 544, in __del__\n",
      "  File \"/Users/yanndupis/anaconda2/envs/tflearn/lib/python3.5/site-packages/syft-0.1.0-py3.5.egg/syft/tensor.py\", line 1516, in delete_tensor\n",
      "  File \"/Users/yanndupis/anaconda2/envs/tflearn/lib/python3.5/site-packages/syft-0.1.0-py3.5.egg/syft/tensor.py\", line 1504, in no_params_func\n",
      "  File \"/Users/yanndupis/anaconda2/envs/tflearn/lib/python3.5/site-packages/syft-0.1.0-py3.5.egg/syft/tensor.py\", line 1486, in params_func\n",
      "  File \"/Users/yanndupis/anaconda2/envs/tflearn/lib/python3.5/site-packages/syft-0.1.0-py3.5.egg/syft/controller.py\", line 143, in send_json\n",
      "Exception: Unity Error: System.Collections.Generic.KeyNotFoundException: The given key was not present in the dictionary.\n",
      "  at System.ThrowHelper.ThrowKeyNotFoundException () [0x00000] in /Users/builduser/buildslave/mono/build/mcs/class/referencesource/mscorlib/system/throwhelper.cs:68 \n",
      "  at System.Collections.Generic.Dictionary`2[TKey,TValue].get_Item (TKey key) [0x0001e] in /Users/builduser/buildslave/mono/build/mcs/class/referencesource/mscorlib/system/collections/generic/dictionary.cs:183 \n",
      "  at OpenMined.Syft.Tensor.Factories.FloatTensorFactory.Get (System.Int32 id) [0x00008] in /Users/yanndupis/Documents/Data_Science/Encrypted_DL/OpenMined/UnityProject/Assets/OpenMined/Syft/Tensor/Factories/FloatTensorFactory.cs:24 \n",
      "  at OpenMined.Syft.Tensor.FloatTensor.Delete () [0x00048] in /Users/yanndupis/Documents/Data_Science/Encrypted_DL/OpenMined/UnityProject/Assets/OpenMined/Syft/Tensor/FloatTensor.Ops.cs:558 \n",
      "  at OpenMined.Syft.Tensor.FloatTensor.ProcessMessage (OpenMined.Network.Utils.Command msgObj, OpenMined.Network.Controllers.SyftController ctrl) [0x00e4c] in /Users/yanndupis/Documents/Data_Science/Encrypted_DL/OpenMined/UnityProject/Assets/OpenMined/Syft/Tensor/FloatTensor.cs:365 \n",
      "  at OpenMined.Network.Controllers.SyftController.processMessage (System.String json_message, UnityEngine.MonoBehaviour owner) [0x002dd] in /Users/yanndupis/Documents/Data_Science/Encrypted_DL/OpenMined/UnityProject/Assets/OpenMined/Network/Controllers/SyftController.cs:231 \n"
     ]
    },
    {
     "name": "stdout",
     "output_type": "stream",
     "text": [
      "Number of Batches:1\n"
     ]
    },
    {
     "data": {
      "application/vnd.jupyter.widget-view+json": {
       "model_id": "787d07e49baa49c0b230c7573f8fc981"
      }
     },
     "metadata": {},
     "output_type": "display_data"
    },
    {
     "data": {
      "application/vnd.jupyter.widget-view+json": {
       "model_id": "fb9ccaaef14b437ea77114319b87f686"
      }
     },
     "metadata": {},
     "output_type": "display_data"
    },
    {
     "name": "stderr",
     "output_type": "stream",
     "text": [
      "Exception ignored in: <object repr() failed>\n",
      "Traceback (most recent call last):\n",
      "  File \"/Users/yanndupis/anaconda2/envs/tflearn/lib/python3.5/site-packages/syft-0.1.0-py3.5.egg/syft/tensor.py\", line 544, in __del__\n",
      "  File \"/Users/yanndupis/anaconda2/envs/tflearn/lib/python3.5/site-packages/syft-0.1.0-py3.5.egg/syft/tensor.py\", line 1516, in delete_tensor\n",
      "  File \"/Users/yanndupis/anaconda2/envs/tflearn/lib/python3.5/site-packages/syft-0.1.0-py3.5.egg/syft/tensor.py\", line 1504, in no_params_func\n",
      "  File \"/Users/yanndupis/anaconda2/envs/tflearn/lib/python3.5/site-packages/syft-0.1.0-py3.5.egg/syft/tensor.py\", line 1486, in params_func\n",
      "  File \"/Users/yanndupis/anaconda2/envs/tflearn/lib/python3.5/site-packages/syft-0.1.0-py3.5.egg/syft/controller.py\", line 143, in send_json\n",
      "Exception: Unity Error: System.Collections.Generic.KeyNotFoundException: The given key was not present in the dictionary.\n",
      "  at System.ThrowHelper.ThrowKeyNotFoundException () [0x00000] in /Users/builduser/buildslave/mono/build/mcs/class/referencesource/mscorlib/system/throwhelper.cs:68 \n",
      "  at System.Collections.Generic.Dictionary`2[TKey,TValue].get_Item (TKey key) [0x0001e] in /Users/builduser/buildslave/mono/build/mcs/class/referencesource/mscorlib/system/collections/generic/dictionary.cs:183 \n",
      "  at OpenMined.Syft.Tensor.Factories.FloatTensorFactory.Get (System.Int32 id) [0x00008] in /Users/yanndupis/Documents/Data_Science/Encrypted_DL/OpenMined/UnityProject/Assets/OpenMined/Syft/Tensor/Factories/FloatTensorFactory.cs:24 \n",
      "  at OpenMined.Syft.Tensor.FloatTensor.Delete () [0x00048] in /Users/yanndupis/Documents/Data_Science/Encrypted_DL/OpenMined/UnityProject/Assets/OpenMined/Syft/Tensor/FloatTensor.Ops.cs:558 \n",
      "  at OpenMined.Syft.Tensor.FloatTensor.ProcessMessage (OpenMined.Network.Utils.Command msgObj, OpenMined.Network.Controllers.SyftController ctrl) [0x00e4c] in /Users/yanndupis/Documents/Data_Science/Encrypted_DL/OpenMined/UnityProject/Assets/OpenMined/Syft/Tensor/FloatTensor.cs:365 \n",
      "  at OpenMined.Network.Controllers.SyftController.processMessage (System.String json_message, UnityEngine.MonoBehaviour owner) [0x002dd] in /Users/yanndupis/Documents/Data_Science/Encrypted_DL/OpenMined/UnityProject/Assets/OpenMined/Network/Controllers/SyftController.cs:231 \n"
     ]
    },
    {
     "name": "stdout",
     "output_type": "stream",
     "text": [
      "Number of Batches:1\n"
     ]
    },
    {
     "data": {
      "application/vnd.jupyter.widget-view+json": {
       "model_id": "61a0b9522aee45aabc6f6672a54e5159"
      }
     },
     "metadata": {},
     "output_type": "display_data"
    },
    {
     "data": {
      "application/vnd.jupyter.widget-view+json": {
       "model_id": "7ae8e35773e64e13a04cc4eac981cf7d"
      }
     },
     "metadata": {},
     "output_type": "display_data"
    },
    {
     "name": "stderr",
     "output_type": "stream",
     "text": [
      "Exception ignored in: <object repr() failed>\n",
      "Traceback (most recent call last):\n",
      "  File \"/Users/yanndupis/anaconda2/envs/tflearn/lib/python3.5/site-packages/syft-0.1.0-py3.5.egg/syft/tensor.py\", line 544, in __del__\n",
      "  File \"/Users/yanndupis/anaconda2/envs/tflearn/lib/python3.5/site-packages/syft-0.1.0-py3.5.egg/syft/tensor.py\", line 1516, in delete_tensor\n",
      "  File \"/Users/yanndupis/anaconda2/envs/tflearn/lib/python3.5/site-packages/syft-0.1.0-py3.5.egg/syft/tensor.py\", line 1504, in no_params_func\n",
      "  File \"/Users/yanndupis/anaconda2/envs/tflearn/lib/python3.5/site-packages/syft-0.1.0-py3.5.egg/syft/tensor.py\", line 1486, in params_func\n",
      "  File \"/Users/yanndupis/anaconda2/envs/tflearn/lib/python3.5/site-packages/syft-0.1.0-py3.5.egg/syft/controller.py\", line 143, in send_json\n",
      "Exception: Unity Error: System.Collections.Generic.KeyNotFoundException: The given key was not present in the dictionary.\n",
      "  at System.ThrowHelper.ThrowKeyNotFoundException () [0x00000] in /Users/builduser/buildslave/mono/build/mcs/class/referencesource/mscorlib/system/throwhelper.cs:68 \n",
      "  at System.Collections.Generic.Dictionary`2[TKey,TValue].get_Item (TKey key) [0x0001e] in /Users/builduser/buildslave/mono/build/mcs/class/referencesource/mscorlib/system/collections/generic/dictionary.cs:183 \n",
      "  at OpenMined.Syft.Tensor.Factories.FloatTensorFactory.Get (System.Int32 id) [0x00008] in /Users/yanndupis/Documents/Data_Science/Encrypted_DL/OpenMined/UnityProject/Assets/OpenMined/Syft/Tensor/Factories/FloatTensorFactory.cs:24 \n",
      "  at OpenMined.Syft.Tensor.FloatTensor.Delete () [0x00048] in /Users/yanndupis/Documents/Data_Science/Encrypted_DL/OpenMined/UnityProject/Assets/OpenMined/Syft/Tensor/FloatTensor.Ops.cs:558 \n",
      "  at OpenMined.Syft.Tensor.FloatTensor.ProcessMessage (OpenMined.Network.Utils.Command msgObj, OpenMined.Network.Controllers.SyftController ctrl) [0x00e4c] in /Users/yanndupis/Documents/Data_Science/Encrypted_DL/OpenMined/UnityProject/Assets/OpenMined/Syft/Tensor/FloatTensor.cs:365 \n",
      "  at OpenMined.Network.Controllers.SyftController.processMessage (System.String json_message, UnityEngine.MonoBehaviour owner) [0x002dd] in /Users/yanndupis/Documents/Data_Science/Encrypted_DL/OpenMined/UnityProject/Assets/OpenMined/Network/Controllers/SyftController.cs:231 \n"
     ]
    },
    {
     "name": "stdout",
     "output_type": "stream",
     "text": [
      "Number of Batches:1\n"
     ]
    },
    {
     "data": {
      "application/vnd.jupyter.widget-view+json": {
       "model_id": "66e18123a9244faab45183f725e85c76"
      }
     },
     "metadata": {},
     "output_type": "display_data"
    },
    {
     "data": {
      "application/vnd.jupyter.widget-view+json": {
       "model_id": "9eb2de93580e4812a2b3aa249010d892"
      }
     },
     "metadata": {},
     "output_type": "display_data"
    },
    {
     "name": "stderr",
     "output_type": "stream",
     "text": [
      "Exception ignored in: "
     ]
    },
    {
     "name": "stdout",
     "output_type": "stream",
     "text": [
      "Number of Batches:1\n"
     ]
    },
    {
     "name": "stderr",
     "output_type": "stream",
     "text": [
      "<object repr() failed>\n",
      "Traceback (most recent call last):\n",
      "  File \"/Users/yanndupis/anaconda2/envs/tflearn/lib/python3.5/site-packages/syft-0.1.0-py3.5.egg/syft/tensor.py\", line 544, in __del__\n",
      "  File \"/Users/yanndupis/anaconda2/envs/tflearn/lib/python3.5/site-packages/syft-0.1.0-py3.5.egg/syft/tensor.py\", line 1516, in delete_tensor\n",
      "  File \"/Users/yanndupis/anaconda2/envs/tflearn/lib/python3.5/site-packages/syft-0.1.0-py3.5.egg/syft/tensor.py\", line 1504, in no_params_func\n",
      "  File \"/Users/yanndupis/anaconda2/envs/tflearn/lib/python3.5/site-packages/syft-0.1.0-py3.5.egg/syft/tensor.py\", line 1486, in params_func\n",
      "  File \"/Users/yanndupis/anaconda2/envs/tflearn/lib/python3.5/site-packages/syft-0.1.0-py3.5.egg/syft/controller.py\", line 143, in send_json\n",
      "Exception: Unity Error: System.Collections.Generic.KeyNotFoundException: The given key was not present in the dictionary.\n",
      "  at System.ThrowHelper.ThrowKeyNotFoundException () [0x00000] in /Users/builduser/buildslave/mono/build/mcs/class/referencesource/mscorlib/system/throwhelper.cs:68 \n",
      "  at System.Collections.Generic.Dictionary`2[TKey,TValue].get_Item (TKey key) [0x0001e] in /Users/builduser/buildslave/mono/build/mcs/class/referencesource/mscorlib/system/collections/generic/dictionary.cs:183 \n",
      "  at OpenMined.Syft.Tensor.Factories.FloatTensorFactory.Get (System.Int32 id) [0x00008] in /Users/yanndupis/Documents/Data_Science/Encrypted_DL/OpenMined/UnityProject/Assets/OpenMined/Syft/Tensor/Factories/FloatTensorFactory.cs:24 \n",
      "  at OpenMined.Syft.Tensor.FloatTensor.Delete () [0x00048] in /Users/yanndupis/Documents/Data_Science/Encrypted_DL/OpenMined/UnityProject/Assets/OpenMined/Syft/Tensor/FloatTensor.Ops.cs:558 \n",
      "  at OpenMined.Syft.Tensor.FloatTensor.ProcessMessage (OpenMined.Network.Utils.Command msgObj, OpenMined.Network.Controllers.SyftController ctrl) [0x00e4c] in /Users/yanndupis/Documents/Data_Science/Encrypted_DL/OpenMined/UnityProject/Assets/OpenMined/Syft/Tensor/FloatTensor.cs:365 \n",
      "  at OpenMined.Network.Controllers.SyftController.processMessage (System.String json_message, UnityEngine.MonoBehaviour owner) [0x002dd] in /Users/yanndupis/Documents/Data_Science/Encrypted_DL/OpenMined/UnityProject/Assets/OpenMined/Network/Controllers/SyftController.cs:231 \n"
     ]
    },
    {
     "data": {
      "application/vnd.jupyter.widget-view+json": {
       "model_id": "560e61a43de2454c8565d90432be5cfe"
      }
     },
     "metadata": {},
     "output_type": "display_data"
    },
    {
     "data": {
      "application/vnd.jupyter.widget-view+json": {
       "model_id": "2664b2a4b806479dbe4b2eaf1a2f1666"
      }
     },
     "metadata": {},
     "output_type": "display_data"
    },
    {
     "name": "stderr",
     "output_type": "stream",
     "text": [
      "Exception ignored in: <object repr() failed>\n",
      "Traceback (most recent call last):\n",
      "  File \"/Users/yanndupis/anaconda2/envs/tflearn/lib/python3.5/site-packages/syft-0.1.0-py3.5.egg/syft/tensor.py\", line 544, in __del__\n",
      "  File \"/Users/yanndupis/anaconda2/envs/tflearn/lib/python3.5/site-packages/syft-0.1.0-py3.5.egg/syft/tensor.py\", line 1516, in delete_tensor\n",
      "  File \"/Users/yanndupis/anaconda2/envs/tflearn/lib/python3.5/site-packages/syft-0.1.0-py3.5.egg/syft/tensor.py\", line 1504, in no_params_func\n",
      "  File \"/Users/yanndupis/anaconda2/envs/tflearn/lib/python3.5/site-packages/syft-0.1.0-py3.5.egg/syft/tensor.py\", line 1486, in params_func\n",
      "  File \"/Users/yanndupis/anaconda2/envs/tflearn/lib/python3.5/site-packages/syft-0.1.0-py3.5.egg/syft/controller.py\", line 143, in send_json\n",
      "Exception: Unity Error: System.Collections.Generic.KeyNotFoundException: The given key was not present in the dictionary.\n",
      "  at System.ThrowHelper.ThrowKeyNotFoundException () [0x00000] in /Users/builduser/buildslave/mono/build/mcs/class/referencesource/mscorlib/system/throwhelper.cs:68 \n",
      "  at System.Collections.Generic.Dictionary`2[TKey,TValue].get_Item (TKey key) [0x0001e] in /Users/builduser/buildslave/mono/build/mcs/class/referencesource/mscorlib/system/collections/generic/dictionary.cs:183 \n",
      "  at OpenMined.Syft.Tensor.Factories.FloatTensorFactory.Get (System.Int32 id) [0x00008] in /Users/yanndupis/Documents/Data_Science/Encrypted_DL/OpenMined/UnityProject/Assets/OpenMined/Syft/Tensor/Factories/FloatTensorFactory.cs:24 \n",
      "  at OpenMined.Syft.Tensor.FloatTensor.Delete () [0x00048] in /Users/yanndupis/Documents/Data_Science/Encrypted_DL/OpenMined/UnityProject/Assets/OpenMined/Syft/Tensor/FloatTensor.Ops.cs:558 \n",
      "  at OpenMined.Syft.Tensor.FloatTensor.ProcessMessage (OpenMined.Network.Utils.Command msgObj, OpenMined.Network.Controllers.SyftController ctrl) [0x00e4c] in /Users/yanndupis/Documents/Data_Science/Encrypted_DL/OpenMined/UnityProject/Assets/OpenMined/Syft/Tensor/FloatTensor.cs:365 \n",
      "  at OpenMined.Network.Controllers.SyftController.processMessage (System.String json_message, UnityEngine.MonoBehaviour owner) [0x002dd] in /Users/yanndupis/Documents/Data_Science/Encrypted_DL/OpenMined/UnityProject/Assets/OpenMined/Network/Controllers/SyftController.cs:231 \n",
      "Exception ignored in: <object repr() failed>\n",
      "Traceback (most recent call last):\n",
      "  File \"/Users/yanndupis/anaconda2/envs/tflearn/lib/python3.5/site-packages/syft-0.1.0-py3.5.egg/syft/tensor.py\", line 544, in __del__\n",
      "  File \"/Users/yanndupis/anaconda2/envs/tflearn/lib/python3.5/site-packages/syft-0.1.0-py3.5.egg/syft/tensor.py\", line 1516, in delete_tensor\n",
      "  File \"/Users/yanndupis/anaconda2/envs/tflearn/lib/python3.5/site-packages/syft-0.1.0-py3.5.egg/syft/tensor.py\", line 1504, in no_params_func\n",
      "  File \"/Users/yanndupis/anaconda2/envs/tflearn/lib/python3.5/site-packages/syft-0.1.0-py3.5.egg/syft/tensor.py\", line 1486, in params_func\n",
      "  File \"/Users/yanndupis/anaconda2/envs/tflearn/lib/python3.5/site-packages/syft-0.1.0-py3.5.egg/syft/controller.py\", line 143, in send_json\n",
      "Exception: Unity Error: System.Collections.Generic.KeyNotFoundException: The given key was not present in the dictionary.\n",
      "  at System.ThrowHelper.ThrowKeyNotFoundException () [0x00000] in /Users/builduser/buildslave/mono/build/mcs/class/referencesource/mscorlib/system/throwhelper.cs:68 \n",
      "  at System.Collections.Generic.Dictionary`2[TKey,TValue].get_Item (TKey key) [0x0001e] in /Users/builduser/buildslave/mono/build/mcs/class/referencesource/mscorlib/system/collections/generic/dictionary.cs:183 \n",
      "  at OpenMined.Syft.Tensor.Factories.FloatTensorFactory.Get (System.Int32 id) [0x00008] in /Users/yanndupis/Documents/Data_Science/Encrypted_DL/OpenMined/UnityProject/Assets/OpenMined/Syft/Tensor/Factories/FloatTensorFactory.cs:24 \n",
      "  at OpenMined.Syft.Tensor.FloatTensor.Delete () [0x00048] in /Users/yanndupis/Documents/Data_Science/Encrypted_DL/OpenMined/UnityProject/Assets/OpenMined/Syft/Tensor/FloatTensor.Ops.cs:558 \n",
      "  at OpenMined.Syft.Tensor.FloatTensor.ProcessMessage (OpenMined.Network.Utils.Command msgObj, OpenMined.Network.Controllers.SyftController ctrl) [0x00e4c] in /Users/yanndupis/Documents/Data_Science/Encrypted_DL/OpenMined/UnityProject/Assets/OpenMined/Syft/Tensor/FloatTensor.cs:365 \n",
      "  at OpenMined.Network.Controllers.SyftController.processMessage (System.String json_message, UnityEngine.MonoBehaviour owner) [0x002dd] in /Users/yanndupis/Documents/Data_Science/Encrypted_DL/OpenMined/UnityProject/Assets/OpenMined/Network/Controllers/SyftController.cs:231 \n",
      "Exception ignored in: <object repr() failed>\n",
      "Traceback (most recent call last):\n",
      "  File \"/Users/yanndupis/anaconda2/envs/tflearn/lib/python3.5/site-packages/syft-0.1.0-py3.5.egg/syft/tensor.py\", line 544, in __del__\n",
      "  File \"/Users/yanndupis/anaconda2/envs/tflearn/lib/python3.5/site-packages/syft-0.1.0-py3.5.egg/syft/tensor.py\", line 1516, in delete_tensor\n",
      "  File \"/Users/yanndupis/anaconda2/envs/tflearn/lib/python3.5/site-packages/syft-0.1.0-py3.5.egg/syft/tensor.py\", line 1504, in no_params_func\n",
      "  File \"/Users/yanndupis/anaconda2/envs/tflearn/lib/python3.5/site-packages/syft-0.1.0-py3.5.egg/syft/tensor.py\", line 1486, in params_func\n",
      "  File \"/Users/yanndupis/anaconda2/envs/tflearn/lib/python3.5/site-packages/syft-0.1.0-py3.5.egg/syft/controller.py\", line 143, in send_json\n",
      "Exception: Unity Error: System.Collections.Generic.KeyNotFoundException: The given key was not present in the dictionary.\n",
      "  at System.ThrowHelper.ThrowKeyNotFoundException () [0x00000] in /Users/builduser/buildslave/mono/build/mcs/class/referencesource/mscorlib/system/throwhelper.cs:68 \n",
      "  at System.Collections.Generic.Dictionary`2[TKey,TValue].get_Item (TKey key) [0x0001e] in /Users/builduser/buildslave/mono/build/mcs/class/referencesource/mscorlib/system/collections/generic/dictionary.cs:183 \n",
      "  at OpenMined.Syft.Tensor.Factories.FloatTensorFactory.Get (System.Int32 id) [0x00008] in /Users/yanndupis/Documents/Data_Science/Encrypted_DL/OpenMined/UnityProject/Assets/OpenMined/Syft/Tensor/Factories/FloatTensorFactory.cs:24 \n",
      "  at OpenMined.Syft.Tensor.FloatTensor.Delete () [0x00048] in /Users/yanndupis/Documents/Data_Science/Encrypted_DL/OpenMined/UnityProject/Assets/OpenMined/Syft/Tensor/FloatTensor.Ops.cs:558 \n",
      "  at OpenMined.Syft.Tensor.FloatTensor.ProcessMessage (OpenMined.Network.Utils.Command msgObj, OpenMined.Network.Controllers.SyftController ctrl) [0x00e4c] in /Users/yanndupis/Documents/Data_Science/Encrypted_DL/OpenMined/UnityProject/Assets/OpenMined/Syft/Tensor/FloatTensor.cs:365 \n",
      "  at OpenMined.Network.Controllers.SyftController.processMessage (System.String json_message, UnityEngine.MonoBehaviour owner) [0x002dd] in /Users/yanndupis/Documents/Data_Science/Encrypted_DL/OpenMined/UnityProject/Assets/OpenMined/Network/Controllers/SyftController.cs:231 \n",
      "Exception ignored in: <object repr() failed>\n",
      "Traceback (most recent call last):\n",
      "  File \"/Users/yanndupis/anaconda2/envs/tflearn/lib/python3.5/site-packages/syft-0.1.0-py3.5.egg/syft/tensor.py\", line 544, in __del__\n",
      "  File \"/Users/yanndupis/anaconda2/envs/tflearn/lib/python3.5/site-packages/syft-0.1.0-py3.5.egg/syft/tensor.py\", line 1516, in delete_tensor\n",
      "  File \"/Users/yanndupis/anaconda2/envs/tflearn/lib/python3.5/site-packages/syft-0.1.0-py3.5.egg/syft/tensor.py\", line 1504, in no_params_func\n",
      "  File \"/Users/yanndupis/anaconda2/envs/tflearn/lib/python3.5/site-packages/syft-0.1.0-py3.5.egg/syft/tensor.py\", line 1486, in params_func\n",
      "  File \"/Users/yanndupis/anaconda2/envs/tflearn/lib/python3.5/site-packages/syft-0.1.0-py3.5.egg/syft/controller.py\", line 143, in send_json\n",
      "Exception: Unity Error: System.Collections.Generic.KeyNotFoundException: The given key was not present in the dictionary.\n",
      "  at System.ThrowHelper.ThrowKeyNotFoundException () [0x00000] in /Users/builduser/buildslave/mono/build/mcs/class/referencesource/mscorlib/system/throwhelper.cs:68 \n",
      "  at System.Collections.Generic.Dictionary`2[TKey,TValue].get_Item (TKey key) [0x0001e] in /Users/builduser/buildslave/mono/build/mcs/class/referencesource/mscorlib/system/collections/generic/dictionary.cs:183 \n",
      "  at OpenMined.Syft.Tensor.Factories.FloatTensorFactory.Get (System.Int32 id) [0x00008] in /Users/yanndupis/Documents/Data_Science/Encrypted_DL/OpenMined/UnityProject/Assets/OpenMined/Syft/Tensor/Factories/FloatTensorFactory.cs:24 \n",
      "  at OpenMined.Syft.Tensor.FloatTensor.Delete () [0x00048] in /Users/yanndupis/Documents/Data_Science/Encrypted_DL/OpenMined/UnityProject/Assets/OpenMined/Syft/Tensor/FloatTensor.Ops.cs:558 \n",
      "  at OpenMined.Syft.Tensor.FloatTensor.ProcessMessage (OpenMined.Network.Utils.Command msgObj, OpenMined.Network.Controllers.SyftController ctrl) [0x00e4c] in /Users/yanndupis/Documents/Data_Science/Encrypted_DL/OpenMined/UnityProject/Assets/OpenMined/Syft/Tensor/FloatTensor.cs:365 \n",
      "  at OpenMined.Network.Controllers.SyftController.processMessage (System.String json_message, UnityEngine.MonoBehaviour owner) [0x002dd] in /Users/yanndupis/Documents/Data_Science/Encrypted_DL/OpenMined/UnityProject/Assets/OpenMined/Network/Controllers/SyftController.cs:231 \n"
     ]
    },
    {
     "name": "stderr",
     "output_type": "stream",
     "text": [
      "Exception ignored in: <object repr() failed>\n",
      "Traceback (most recent call last):\n",
      "  File \"/Users/yanndupis/anaconda2/envs/tflearn/lib/python3.5/site-packages/syft-0.1.0-py3.5.egg/syft/tensor.py\", line 544, in __del__\n",
      "  File \"/Users/yanndupis/anaconda2/envs/tflearn/lib/python3.5/site-packages/syft-0.1.0-py3.5.egg/syft/tensor.py\", line 1516, in delete_tensor\n",
      "  File \"/Users/yanndupis/anaconda2/envs/tflearn/lib/python3.5/site-packages/syft-0.1.0-py3.5.egg/syft/tensor.py\", line 1504, in no_params_func\n",
      "  File \"/Users/yanndupis/anaconda2/envs/tflearn/lib/python3.5/site-packages/syft-0.1.0-py3.5.egg/syft/tensor.py\", line 1486, in params_func\n",
      "  File \"/Users/yanndupis/anaconda2/envs/tflearn/lib/python3.5/site-packages/syft-0.1.0-py3.5.egg/syft/controller.py\", line 143, in send_json\n",
      "Exception: Unity Error: System.Collections.Generic.KeyNotFoundException: The given key was not present in the dictionary.\n",
      "  at System.ThrowHelper.ThrowKeyNotFoundException () [0x00000] in /Users/builduser/buildslave/mono/build/mcs/class/referencesource/mscorlib/system/throwhelper.cs:68 \n",
      "  at System.Collections.Generic.Dictionary`2[TKey,TValue].get_Item (TKey key) [0x0001e] in /Users/builduser/buildslave/mono/build/mcs/class/referencesource/mscorlib/system/collections/generic/dictionary.cs:183 \n",
      "  at OpenMined.Syft.Tensor.Factories.FloatTensorFactory.Get (System.Int32 id) [0x00008] in /Users/yanndupis/Documents/Data_Science/Encrypted_DL/OpenMined/UnityProject/Assets/OpenMined/Syft/Tensor/Factories/FloatTensorFactory.cs:24 \n",
      "  at OpenMined.Syft.Tensor.FloatTensor.Delete () [0x00048] in /Users/yanndupis/Documents/Data_Science/Encrypted_DL/OpenMined/UnityProject/Assets/OpenMined/Syft/Tensor/FloatTensor.Ops.cs:558 \n",
      "  at OpenMined.Syft.Tensor.FloatTensor.ProcessMessage (OpenMined.Network.Utils.Command msgObj, OpenMined.Network.Controllers.SyftController ctrl) [0x00e4c] in /Users/yanndupis/Documents/Data_Science/Encrypted_DL/OpenMined/UnityProject/Assets/OpenMined/Syft/Tensor/FloatTensor.cs:365 \n",
      "  at OpenMined.Network.Controllers.SyftController.processMessage (System.String json_message, UnityEngine.MonoBehaviour owner) [0x002dd] in /Users/yanndupis/Documents/Data_Science/Encrypted_DL/OpenMined/UnityProject/Assets/OpenMined/Network/Controllers/SyftController.cs:231 \n",
      "Exception ignored in: <object repr() failed>\n",
      "Traceback (most recent call last):\n",
      "  File \"/Users/yanndupis/anaconda2/envs/tflearn/lib/python3.5/site-packages/syft-0.1.0-py3.5.egg/syft/tensor.py\", line 544, in __del__\n",
      "  File \"/Users/yanndupis/anaconda2/envs/tflearn/lib/python3.5/site-packages/syft-0.1.0-py3.5.egg/syft/tensor.py\", line 1516, in delete_tensor\n",
      "  File \"/Users/yanndupis/anaconda2/envs/tflearn/lib/python3.5/site-packages/syft-0.1.0-py3.5.egg/syft/tensor.py\", line 1504, in no_params_func\n",
      "  File \"/Users/yanndupis/anaconda2/envs/tflearn/lib/python3.5/site-packages/syft-0.1.0-py3.5.egg/syft/tensor.py\", line 1486, in params_func\n",
      "  File \"/Users/yanndupis/anaconda2/envs/tflearn/lib/python3.5/site-packages/syft-0.1.0-py3.5.egg/syft/controller.py\", line 143, in send_json\n",
      "Exception: Unity Error: System.Collections.Generic.KeyNotFoundException: The given key was not present in the dictionary.\n",
      "  at System.ThrowHelper.ThrowKeyNotFoundException () [0x00000] in /Users/builduser/buildslave/mono/build/mcs/class/referencesource/mscorlib/system/throwhelper.cs:68 \n",
      "  at System.Collections.Generic.Dictionary`2[TKey,TValue].get_Item (TKey key) [0x0001e] in /Users/builduser/buildslave/mono/build/mcs/class/referencesource/mscorlib/system/collections/generic/dictionary.cs:183 \n",
      "  at OpenMined.Syft.Tensor.Factories.FloatTensorFactory.Get (System.Int32 id) [0x00008] in /Users/yanndupis/Documents/Data_Science/Encrypted_DL/OpenMined/UnityProject/Assets/OpenMined/Syft/Tensor/Factories/FloatTensorFactory.cs:24 \n",
      "  at OpenMined.Syft.Tensor.FloatTensor.Delete () [0x00048] in /Users/yanndupis/Documents/Data_Science/Encrypted_DL/OpenMined/UnityProject/Assets/OpenMined/Syft/Tensor/FloatTensor.Ops.cs:558 \n",
      "  at OpenMined.Syft.Tensor.FloatTensor.ProcessMessage (OpenMined.Network.Utils.Command msgObj, OpenMined.Network.Controllers.SyftController ctrl) [0x00e4c] in /Users/yanndupis/Documents/Data_Science/Encrypted_DL/OpenMined/UnityProject/Assets/OpenMined/Syft/Tensor/FloatTensor.cs:365 \n",
      "  at OpenMined.Network.Controllers.SyftController.processMessage (System.String json_message, UnityEngine.MonoBehaviour owner) [0x002dd] in /Users/yanndupis/Documents/Data_Science/Encrypted_DL/OpenMined/UnityProject/Assets/OpenMined/Network/Controllers/SyftController.cs:231 \n",
      "Exception ignored in: <object repr() failed>\n",
      "Traceback (most recent call last):\n",
      "  File \"/Users/yanndupis/anaconda2/envs/tflearn/lib/python3.5/site-packages/syft-0.1.0-py3.5.egg/syft/tensor.py\", line 544, in __del__\n",
      "  File \"/Users/yanndupis/anaconda2/envs/tflearn/lib/python3.5/site-packages/syft-0.1.0-py3.5.egg/syft/tensor.py\", line 1516, in delete_tensor\n",
      "  File \"/Users/yanndupis/anaconda2/envs/tflearn/lib/python3.5/site-packages/syft-0.1.0-py3.5.egg/syft/tensor.py\", line 1504, in no_params_func\n",
      "  File \"/Users/yanndupis/anaconda2/envs/tflearn/lib/python3.5/site-packages/syft-0.1.0-py3.5.egg/syft/tensor.py\", line 1486, in params_func\n",
      "  File \"/Users/yanndupis/anaconda2/envs/tflearn/lib/python3.5/site-packages/syft-0.1.0-py3.5.egg/syft/controller.py\", line 143, in send_json\n",
      "Exception: Unity Error: System.Collections.Generic.KeyNotFoundException: The given key was not present in the dictionary.\n",
      "  at System.ThrowHelper.ThrowKeyNotFoundException () [0x00000] in /Users/builduser/buildslave/mono/build/mcs/class/referencesource/mscorlib/system/throwhelper.cs:68 \n",
      "  at System.Collections.Generic.Dictionary`2[TKey,TValue].get_Item (TKey key) [0x0001e] in /Users/builduser/buildslave/mono/build/mcs/class/referencesource/mscorlib/system/collections/generic/dictionary.cs:183 \n",
      "  at OpenMined.Syft.Tensor.Factories.FloatTensorFactory.Get (System.Int32 id) [0x00008] in /Users/yanndupis/Documents/Data_Science/Encrypted_DL/OpenMined/UnityProject/Assets/OpenMined/Syft/Tensor/Factories/FloatTensorFactory.cs:24 \n",
      "  at OpenMined.Syft.Tensor.FloatTensor.Delete () [0x00048] in /Users/yanndupis/Documents/Data_Science/Encrypted_DL/OpenMined/UnityProject/Assets/OpenMined/Syft/Tensor/FloatTensor.Ops.cs:558 \n",
      "  at OpenMined.Syft.Tensor.FloatTensor.ProcessMessage (OpenMined.Network.Utils.Command msgObj, OpenMined.Network.Controllers.SyftController ctrl) [0x00e4c] in /Users/yanndupis/Documents/Data_Science/Encrypted_DL/OpenMined/UnityProject/Assets/OpenMined/Syft/Tensor/FloatTensor.cs:365 \n",
      "  at OpenMined.Network.Controllers.SyftController.processMessage (System.String json_message, UnityEngine.MonoBehaviour owner) [0x002dd] in /Users/yanndupis/Documents/Data_Science/Encrypted_DL/OpenMined/UnityProject/Assets/OpenMined/Network/Controllers/SyftController.cs:231 \n",
      "Exception ignored in: <object repr() failed>\n",
      "Traceback (most recent call last):\n",
      "  File \"/Users/yanndupis/anaconda2/envs/tflearn/lib/python3.5/site-packages/syft-0.1.0-py3.5.egg/syft/tensor.py\", line 544, in __del__\n",
      "  File \"/Users/yanndupis/anaconda2/envs/tflearn/lib/python3.5/site-packages/syft-0.1.0-py3.5.egg/syft/tensor.py\", line 1516, in delete_tensor\n",
      "  File \"/Users/yanndupis/anaconda2/envs/tflearn/lib/python3.5/site-packages/syft-0.1.0-py3.5.egg/syft/tensor.py\", line 1504, in no_params_func\n",
      "  File \"/Users/yanndupis/anaconda2/envs/tflearn/lib/python3.5/site-packages/syft-0.1.0-py3.5.egg/syft/tensor.py\", line 1486, in params_func\n",
      "  File \"/Users/yanndupis/anaconda2/envs/tflearn/lib/python3.5/site-packages/syft-0.1.0-py3.5.egg/syft/controller.py\", line 143, in send_json\n",
      "Exception: Unity Error: System.Collections.Generic.KeyNotFoundException: The given key was not present in the dictionary.\n",
      "  at System.ThrowHelper.ThrowKeyNotFoundException () [0x00000] in /Users/builduser/buildslave/mono/build/mcs/class/referencesource/mscorlib/system/throwhelper.cs:68 \n",
      "  at System.Collections.Generic.Dictionary`2[TKey,TValue].get_Item (TKey key) [0x0001e] in /Users/builduser/buildslave/mono/build/mcs/class/referencesource/mscorlib/system/collections/generic/dictionary.cs:183 \n",
      "  at OpenMined.Syft.Tensor.Factories.FloatTensorFactory.Get (System.Int32 id) [0x00008] in /Users/yanndupis/Documents/Data_Science/Encrypted_DL/OpenMined/UnityProject/Assets/OpenMined/Syft/Tensor/Factories/FloatTensorFactory.cs:24 \n",
      "  at OpenMined.Syft.Tensor.FloatTensor.Delete () [0x00048] in /Users/yanndupis/Documents/Data_Science/Encrypted_DL/OpenMined/UnityProject/Assets/OpenMined/Syft/Tensor/FloatTensor.Ops.cs:558 \n",
      "  at OpenMined.Syft.Tensor.FloatTensor.ProcessMessage (OpenMined.Network.Utils.Command msgObj, OpenMined.Network.Controllers.SyftController ctrl) [0x00e4c] in /Users/yanndupis/Documents/Data_Science/Encrypted_DL/OpenMined/UnityProject/Assets/OpenMined/Syft/Tensor/FloatTensor.cs:365 \n",
      "  at OpenMined.Network.Controllers.SyftController.processMessage (System.String json_message, UnityEngine.MonoBehaviour owner) [0x002dd] in /Users/yanndupis/Documents/Data_Science/Encrypted_DL/OpenMined/UnityProject/Assets/OpenMined/Network/Controllers/SyftController.cs:231 \n"
     ]
    },
    {
     "name": "stdout",
     "output_type": "stream",
     "text": [
      "Failed to complete in trial 1\n"
     ]
    },
    {
     "name": "stderr",
     "output_type": "stream",
     "text": [
      "Exception ignored in: <object repr() failed>\n",
      "Traceback (most recent call last):\n",
      "  File \"/Users/yanndupis/anaconda2/envs/tflearn/lib/python3.5/site-packages/syft-0.1.0-py3.5.egg/syft/tensor.py\", line 544, in __del__\n",
      "  File \"/Users/yanndupis/anaconda2/envs/tflearn/lib/python3.5/site-packages/syft-0.1.0-py3.5.egg/syft/tensor.py\", line 1516, in delete_tensor\n",
      "  File \"/Users/yanndupis/anaconda2/envs/tflearn/lib/python3.5/site-packages/syft-0.1.0-py3.5.egg/syft/tensor.py\", line 1504, in no_params_func\n",
      "  File \"/Users/yanndupis/anaconda2/envs/tflearn/lib/python3.5/site-packages/syft-0.1.0-py3.5.egg/syft/tensor.py\", line 1486, in params_func\n",
      "  File \"/Users/yanndupis/anaconda2/envs/tflearn/lib/python3.5/site-packages/syft-0.1.0-py3.5.egg/syft/controller.py\", line 143, in send_json\n",
      "Exception: Unity Error: System.Collections.Generic.KeyNotFoundException: The given key was not present in the dictionary.\n",
      "  at System.ThrowHelper.ThrowKeyNotFoundException () [0x00000] in /Users/builduser/buildslave/mono/build/mcs/class/referencesource/mscorlib/system/throwhelper.cs:68 \n",
      "  at System.Collections.Generic.Dictionary`2[TKey,TValue].get_Item (TKey key) [0x0001e] in /Users/builduser/buildslave/mono/build/mcs/class/referencesource/mscorlib/system/collections/generic/dictionary.cs:183 \n",
      "  at OpenMined.Syft.Tensor.Factories.FloatTensorFactory.Get (System.Int32 id) [0x00008] in /Users/yanndupis/Documents/Data_Science/Encrypted_DL/OpenMined/UnityProject/Assets/OpenMined/Syft/Tensor/Factories/FloatTensorFactory.cs:24 \n",
      "  at OpenMined.Syft.Tensor.FloatTensor.Delete () [0x00048] in /Users/yanndupis/Documents/Data_Science/Encrypted_DL/OpenMined/UnityProject/Assets/OpenMined/Syft/Tensor/FloatTensor.Ops.cs:558 \n",
      "  at OpenMined.Syft.Tensor.FloatTensor.ProcessMessage (OpenMined.Network.Utils.Command msgObj, OpenMined.Network.Controllers.SyftController ctrl) [0x00e4c] in /Users/yanndupis/Documents/Data_Science/Encrypted_DL/OpenMined/UnityProject/Assets/OpenMined/Syft/Tensor/FloatTensor.cs:365 \n",
      "  at OpenMined.Network.Controllers.SyftController.processMessage (System.String json_message, UnityEngine.MonoBehaviour owner) [0x002dd] in /Users/yanndupis/Documents/Data_Science/Encrypted_DL/OpenMined/UnityProject/Assets/OpenMined/Network/Controllers/SyftController.cs:231 \n"
     ]
    },
    {
     "name": "stdout",
     "output_type": "stream",
     "text": [
      "Number of Batches:1\n"
     ]
    },
    {
     "data": {
      "application/vnd.jupyter.widget-view+json": {
       "model_id": "9c6221790e3b4c66a2d2ac01dc23f53d"
      }
     },
     "metadata": {},
     "output_type": "display_data"
    },
    {
     "data": {
      "application/vnd.jupyter.widget-view+json": {
       "model_id": "88f9328d60d343279495f82ebbd93d9f"
      }
     },
     "metadata": {},
     "output_type": "display_data"
    },
    {
     "name": "stderr",
     "output_type": "stream",
     "text": [
      "Exception ignored in: <object repr() failed>\n",
      "Traceback (most recent call last):\n",
      "  File \"/Users/yanndupis/anaconda2/envs/tflearn/lib/python3.5/site-packages/syft-0.1.0-py3.5.egg/syft/tensor.py\", line 544, in __del__\n",
      "  File \"/Users/yanndupis/anaconda2/envs/tflearn/lib/python3.5/site-packages/syft-0.1.0-py3.5.egg/syft/tensor.py\", line 1516, in delete_tensor\n",
      "  File \"/Users/yanndupis/anaconda2/envs/tflearn/lib/python3.5/site-packages/syft-0.1.0-py3.5.egg/syft/tensor.py\", line 1504, in no_params_func\n",
      "  File \"/Users/yanndupis/anaconda2/envs/tflearn/lib/python3.5/site-packages/syft-0.1.0-py3.5.egg/syft/tensor.py\", line 1486, in params_func\n",
      "  File \"/Users/yanndupis/anaconda2/envs/tflearn/lib/python3.5/site-packages/syft-0.1.0-py3.5.egg/syft/controller.py\", line 143, in send_json\n",
      "Exception: Unity Error: System.Collections.Generic.KeyNotFoundException: The given key was not present in the dictionary.\n",
      "  at System.ThrowHelper.ThrowKeyNotFoundException () [0x00000] in /Users/builduser/buildslave/mono/build/mcs/class/referencesource/mscorlib/system/throwhelper.cs:68 \n",
      "  at System.Collections.Generic.Dictionary`2[TKey,TValue].get_Item (TKey key) [0x0001e] in /Users/builduser/buildslave/mono/build/mcs/class/referencesource/mscorlib/system/collections/generic/dictionary.cs:183 \n",
      "  at OpenMined.Syft.Tensor.Factories.FloatTensorFactory.Get (System.Int32 id) [0x00008] in /Users/yanndupis/Documents/Data_Science/Encrypted_DL/OpenMined/UnityProject/Assets/OpenMined/Syft/Tensor/Factories/FloatTensorFactory.cs:24 \n",
      "  at OpenMined.Syft.Tensor.FloatTensor.Delete () [0x00048] in /Users/yanndupis/Documents/Data_Science/Encrypted_DL/OpenMined/UnityProject/Assets/OpenMined/Syft/Tensor/FloatTensor.Ops.cs:558 \n",
      "  at OpenMined.Syft.Tensor.FloatTensor.ProcessMessage (OpenMined.Network.Utils.Command msgObj, OpenMined.Network.Controllers.SyftController ctrl) [0x00e4c] in /Users/yanndupis/Documents/Data_Science/Encrypted_DL/OpenMined/UnityProject/Assets/OpenMined/Syft/Tensor/FloatTensor.cs:365 \n",
      "  at OpenMined.Network.Controllers.SyftController.processMessage (System.String json_message, UnityEngine.MonoBehaviour owner) [0x002dd] in /Users/yanndupis/Documents/Data_Science/Encrypted_DL/OpenMined/UnityProject/Assets/OpenMined/Network/Controllers/SyftController.cs:231 \n"
     ]
    },
    {
     "name": "stdout",
     "output_type": "stream",
     "text": [
      "Number of Batches:1\n"
     ]
    },
    {
     "data": {
      "application/vnd.jupyter.widget-view+json": {
       "model_id": "8cceef6b8feb421fb5a46ef04f1c7e87"
      }
     },
     "metadata": {},
     "output_type": "display_data"
    },
    {
     "data": {
      "application/vnd.jupyter.widget-view+json": {
       "model_id": "de47f2dcbded4edf85cdff7bc5d9858d"
      }
     },
     "metadata": {},
     "output_type": "display_data"
    },
    {
     "name": "stderr",
     "output_type": "stream",
     "text": [
      "Exception ignored in: <object repr() failed>\n",
      "Traceback (most recent call last):\n",
      "  File \"/Users/yanndupis/anaconda2/envs/tflearn/lib/python3.5/site-packages/syft-0.1.0-py3.5.egg/syft/tensor.py\", line 544, in __del__\n",
      "  File \"/Users/yanndupis/anaconda2/envs/tflearn/lib/python3.5/site-packages/syft-0.1.0-py3.5.egg/syft/tensor.py\", line 1516, in delete_tensor\n",
      "  File \"/Users/yanndupis/anaconda2/envs/tflearn/lib/python3.5/site-packages/syft-0.1.0-py3.5.egg/syft/tensor.py\", line 1504, in no_params_func\n",
      "  File \"/Users/yanndupis/anaconda2/envs/tflearn/lib/python3.5/site-packages/syft-0.1.0-py3.5.egg/syft/tensor.py\", line 1486, in params_func\n",
      "  File \"/Users/yanndupis/anaconda2/envs/tflearn/lib/python3.5/site-packages/syft-0.1.0-py3.5.egg/syft/controller.py\", line 143, in send_json\n",
      "Exception: Unity Error: System.Collections.Generic.KeyNotFoundException: The given key was not present in the dictionary.\n",
      "  at System.ThrowHelper.ThrowKeyNotFoundException () [0x00000] in /Users/builduser/buildslave/mono/build/mcs/class/referencesource/mscorlib/system/throwhelper.cs:68 \n",
      "  at System.Collections.Generic.Dictionary`2[TKey,TValue].get_Item (TKey key) [0x0001e] in /Users/builduser/buildslave/mono/build/mcs/class/referencesource/mscorlib/system/collections/generic/dictionary.cs:183 \n",
      "  at OpenMined.Syft.Tensor.Factories.FloatTensorFactory.Get (System.Int32 id) [0x00008] in /Users/yanndupis/Documents/Data_Science/Encrypted_DL/OpenMined/UnityProject/Assets/OpenMined/Syft/Tensor/Factories/FloatTensorFactory.cs:24 \n",
      "  at OpenMined.Syft.Tensor.FloatTensor.Delete () [0x00048] in /Users/yanndupis/Documents/Data_Science/Encrypted_DL/OpenMined/UnityProject/Assets/OpenMined/Syft/Tensor/FloatTensor.Ops.cs:558 \n",
      "  at OpenMined.Syft.Tensor.FloatTensor.ProcessMessage (OpenMined.Network.Utils.Command msgObj, OpenMined.Network.Controllers.SyftController ctrl) [0x00e4c] in /Users/yanndupis/Documents/Data_Science/Encrypted_DL/OpenMined/UnityProject/Assets/OpenMined/Syft/Tensor/FloatTensor.cs:365 \n",
      "  at OpenMined.Network.Controllers.SyftController.processMessage (System.String json_message, UnityEngine.MonoBehaviour owner) [0x002dd] in /Users/yanndupis/Documents/Data_Science/Encrypted_DL/OpenMined/UnityProject/Assets/OpenMined/Network/Controllers/SyftController.cs:231 \n"
     ]
    },
    {
     "name": "stdout",
     "output_type": "stream",
     "text": [
      "Number of Batches:1\n"
     ]
    },
    {
     "data": {
      "application/vnd.jupyter.widget-view+json": {
       "model_id": "1b460fbbae1547f980599fba9d74ad01"
      }
     },
     "metadata": {},
     "output_type": "display_data"
    },
    {
     "data": {
      "application/vnd.jupyter.widget-view+json": {
       "model_id": "72b893f13fc14cf8905da7cd36434656"
      }
     },
     "metadata": {},
     "output_type": "display_data"
    },
    {
     "name": "stderr",
     "output_type": "stream",
     "text": [
      "Exception ignored in: <object repr() failed>\n",
      "Traceback (most recent call last):\n",
      "  File \"/Users/yanndupis/anaconda2/envs/tflearn/lib/python3.5/site-packages/syft-0.1.0-py3.5.egg/syft/tensor.py\", line 544, in __del__\n",
      "  File \"/Users/yanndupis/anaconda2/envs/tflearn/lib/python3.5/site-packages/syft-0.1.0-py3.5.egg/syft/tensor.py\", line 1516, in delete_tensor\n",
      "  File \"/Users/yanndupis/anaconda2/envs/tflearn/lib/python3.5/site-packages/syft-0.1.0-py3.5.egg/syft/tensor.py\", line 1504, in no_params_func\n",
      "  File \"/Users/yanndupis/anaconda2/envs/tflearn/lib/python3.5/site-packages/syft-0.1.0-py3.5.egg/syft/tensor.py\", line 1486, in params_func\n",
      "  File \"/Users/yanndupis/anaconda2/envs/tflearn/lib/python3.5/site-packages/syft-0.1.0-py3.5.egg/syft/controller.py\", line 143, in send_json\n",
      "Exception: Unity Error: System.Collections.Generic.KeyNotFoundException: The given key was not present in the dictionary.\n",
      "  at System.ThrowHelper.ThrowKeyNotFoundException () [0x00000] in /Users/builduser/buildslave/mono/build/mcs/class/referencesource/mscorlib/system/throwhelper.cs:68 \n",
      "  at System.Collections.Generic.Dictionary`2[TKey,TValue].get_Item (TKey key) [0x0001e] in /Users/builduser/buildslave/mono/build/mcs/class/referencesource/mscorlib/system/collections/generic/dictionary.cs:183 \n",
      "  at OpenMined.Syft.Tensor.Factories.FloatTensorFactory.Get (System.Int32 id) [0x00008] in /Users/yanndupis/Documents/Data_Science/Encrypted_DL/OpenMined/UnityProject/Assets/OpenMined/Syft/Tensor/Factories/FloatTensorFactory.cs:24 \n",
      "  at OpenMined.Syft.Tensor.FloatTensor.Delete () [0x00048] in /Users/yanndupis/Documents/Data_Science/Encrypted_DL/OpenMined/UnityProject/Assets/OpenMined/Syft/Tensor/FloatTensor.Ops.cs:558 \n",
      "  at OpenMined.Syft.Tensor.FloatTensor.ProcessMessage (OpenMined.Network.Utils.Command msgObj, OpenMined.Network.Controllers.SyftController ctrl) [0x00e4c] in /Users/yanndupis/Documents/Data_Science/Encrypted_DL/OpenMined/UnityProject/Assets/OpenMined/Syft/Tensor/FloatTensor.cs:365 \n",
      "  at OpenMined.Network.Controllers.SyftController.processMessage (System.String json_message, UnityEngine.MonoBehaviour owner) [0x002dd] in /Users/yanndupis/Documents/Data_Science/Encrypted_DL/OpenMined/UnityProject/Assets/OpenMined/Network/Controllers/SyftController.cs:231 \n"
     ]
    },
    {
     "name": "stdout",
     "output_type": "stream",
     "text": [
      "Number of Batches:1\n"
     ]
    },
    {
     "data": {
      "application/vnd.jupyter.widget-view+json": {
       "model_id": "24e9b8871eb24ba4952d33257d4ae38c"
      }
     },
     "metadata": {},
     "output_type": "display_data"
    },
    {
     "data": {
      "application/vnd.jupyter.widget-view+json": {
       "model_id": "6cf8132e7b4c4ae691b46f29bde941bc"
      }
     },
     "metadata": {},
     "output_type": "display_data"
    },
    {
     "name": "stderr",
     "output_type": "stream",
     "text": [
      "Exception ignored in: <object repr() failed>\n",
      "Traceback (most recent call last):\n",
      "  File \"/Users/yanndupis/anaconda2/envs/tflearn/lib/python3.5/site-packages/syft-0.1.0-py3.5.egg/syft/tensor.py\", line 544, in __del__\n",
      "  File \"/Users/yanndupis/anaconda2/envs/tflearn/lib/python3.5/site-packages/syft-0.1.0-py3.5.egg/syft/tensor.py\", line 1516, in delete_tensor\n",
      "  File \"/Users/yanndupis/anaconda2/envs/tflearn/lib/python3.5/site-packages/syft-0.1.0-py3.5.egg/syft/tensor.py\", line 1504, in no_params_func\n",
      "  File \"/Users/yanndupis/anaconda2/envs/tflearn/lib/python3.5/site-packages/syft-0.1.0-py3.5.egg/syft/tensor.py\", line 1486, in params_func\n",
      "  File \"/Users/yanndupis/anaconda2/envs/tflearn/lib/python3.5/site-packages/syft-0.1.0-py3.5.egg/syft/controller.py\", line 143, in send_json\n",
      "Exception: Unity Error: System.Collections.Generic.KeyNotFoundException: The given key was not present in the dictionary.\n",
      "  at System.ThrowHelper.ThrowKeyNotFoundException () [0x00000] in /Users/builduser/buildslave/mono/build/mcs/class/referencesource/mscorlib/system/throwhelper.cs:68 \n",
      "  at System.Collections.Generic.Dictionary`2[TKey,TValue].get_Item (TKey key) [0x0001e] in /Users/builduser/buildslave/mono/build/mcs/class/referencesource/mscorlib/system/collections/generic/dictionary.cs:183 \n",
      "  at OpenMined.Syft.Tensor.Factories.FloatTensorFactory.Get (System.Int32 id) [0x00008] in /Users/yanndupis/Documents/Data_Science/Encrypted_DL/OpenMined/UnityProject/Assets/OpenMined/Syft/Tensor/Factories/FloatTensorFactory.cs:24 \n",
      "  at OpenMined.Syft.Tensor.FloatTensor.Delete () [0x00048] in /Users/yanndupis/Documents/Data_Science/Encrypted_DL/OpenMined/UnityProject/Assets/OpenMined/Syft/Tensor/FloatTensor.Ops.cs:558 \n",
      "  at OpenMined.Syft.Tensor.FloatTensor.ProcessMessage (OpenMined.Network.Utils.Command msgObj, OpenMined.Network.Controllers.SyftController ctrl) [0x00e4c] in /Users/yanndupis/Documents/Data_Science/Encrypted_DL/OpenMined/UnityProject/Assets/OpenMined/Syft/Tensor/FloatTensor.cs:365 \n",
      "  at OpenMined.Network.Controllers.SyftController.processMessage (System.String json_message, UnityEngine.MonoBehaviour owner) [0x002dd] in /Users/yanndupis/Documents/Data_Science/Encrypted_DL/OpenMined/UnityProject/Assets/OpenMined/Network/Controllers/SyftController.cs:231 \n"
     ]
    },
    {
     "name": "stdout",
     "output_type": "stream",
     "text": [
      "Number of Batches:1\n"
     ]
    },
    {
     "data": {
      "application/vnd.jupyter.widget-view+json": {
       "model_id": "f65166ce5e834f38b378807ccbeb26ba"
      }
     },
     "metadata": {},
     "output_type": "display_data"
    },
    {
     "data": {
      "application/vnd.jupyter.widget-view+json": {
       "model_id": "98e981916bbb4419a056e3b370a2de9d"
      }
     },
     "metadata": {},
     "output_type": "display_data"
    },
    {
     "name": "stderr",
     "output_type": "stream",
     "text": [
      "Exception ignored in: <object repr() failed>\n",
      "Traceback (most recent call last):\n",
      "  File \"/Users/yanndupis/anaconda2/envs/tflearn/lib/python3.5/site-packages/syft-0.1.0-py3.5.egg/syft/tensor.py\", line 544, in __del__\n",
      "  File \"/Users/yanndupis/anaconda2/envs/tflearn/lib/python3.5/site-packages/syft-0.1.0-py3.5.egg/syft/tensor.py\", line 1516, in delete_tensor\n",
      "  File \"/Users/yanndupis/anaconda2/envs/tflearn/lib/python3.5/site-packages/syft-0.1.0-py3.5.egg/syft/tensor.py\", line 1504, in no_params_func\n",
      "  File \"/Users/yanndupis/anaconda2/envs/tflearn/lib/python3.5/site-packages/syft-0.1.0-py3.5.egg/syft/tensor.py\", line 1486, in params_func\n",
      "  File \"/Users/yanndupis/anaconda2/envs/tflearn/lib/python3.5/site-packages/syft-0.1.0-py3.5.egg/syft/controller.py\", line 143, in send_json\n",
      "Exception: Unity Error: System.Collections.Generic.KeyNotFoundException: The given key was not present in the dictionary.\n",
      "  at System.ThrowHelper.ThrowKeyNotFoundException () [0x00000] in /Users/builduser/buildslave/mono/build/mcs/class/referencesource/mscorlib/system/throwhelper.cs:68 \n",
      "  at System.Collections.Generic.Dictionary`2[TKey,TValue].get_Item (TKey key) [0x0001e] in /Users/builduser/buildslave/mono/build/mcs/class/referencesource/mscorlib/system/collections/generic/dictionary.cs:183 \n",
      "  at OpenMined.Syft.Tensor.Factories.FloatTensorFactory.Get (System.Int32 id) [0x00008] in /Users/yanndupis/Documents/Data_Science/Encrypted_DL/OpenMined/UnityProject/Assets/OpenMined/Syft/Tensor/Factories/FloatTensorFactory.cs:24 \n",
      "  at OpenMined.Syft.Tensor.FloatTensor.Delete () [0x00048] in /Users/yanndupis/Documents/Data_Science/Encrypted_DL/OpenMined/UnityProject/Assets/OpenMined/Syft/Tensor/FloatTensor.Ops.cs:558 \n",
      "  at OpenMined.Syft.Tensor.FloatTensor.ProcessMessage (OpenMined.Network.Utils.Command msgObj, OpenMined.Network.Controllers.SyftController ctrl) [0x00e4c] in /Users/yanndupis/Documents/Data_Science/Encrypted_DL/OpenMined/UnityProject/Assets/OpenMined/Syft/Tensor/FloatTensor.cs:365 \n",
      "  at OpenMined.Network.Controllers.SyftController.processMessage (System.String json_message, UnityEngine.MonoBehaviour owner) [0x002dd] in /Users/yanndupis/Documents/Data_Science/Encrypted_DL/OpenMined/UnityProject/Assets/OpenMined/Network/Controllers/SyftController.cs:231 \n",
      "Exception ignored in: <object repr() failed>\n",
      "Traceback (most recent call last):\n",
      "  File \"/Users/yanndupis/anaconda2/envs/tflearn/lib/python3.5/site-packages/syft-0.1.0-py3.5.egg/syft/tensor.py\", line 544, in __del__\n",
      "  File \"/Users/yanndupis/anaconda2/envs/tflearn/lib/python3.5/site-packages/syft-0.1.0-py3.5.egg/syft/tensor.py\", line 1516, in delete_tensor\n",
      "  File \"/Users/yanndupis/anaconda2/envs/tflearn/lib/python3.5/site-packages/syft-0.1.0-py3.5.egg/syft/tensor.py\", line 1504, in no_params_func\n",
      "  File \"/Users/yanndupis/anaconda2/envs/tflearn/lib/python3.5/site-packages/syft-0.1.0-py3.5.egg/syft/tensor.py\", line 1486, in params_func\n",
      "  File \"/Users/yanndupis/anaconda2/envs/tflearn/lib/python3.5/site-packages/syft-0.1.0-py3.5.egg/syft/controller.py\", line 143, in send_json\n",
      "Exception: Unity Error: System.Collections.Generic.KeyNotFoundException: The given key was not present in the dictionary.\n",
      "  at System.ThrowHelper.ThrowKeyNotFoundException () [0x00000] in /Users/builduser/buildslave/mono/build/mcs/class/referencesource/mscorlib/system/throwhelper.cs:68 \n",
      "  at System.Collections.Generic.Dictionary`2[TKey,TValue].get_Item (TKey key) [0x0001e] in /Users/builduser/buildslave/mono/build/mcs/class/referencesource/mscorlib/system/collections/generic/dictionary.cs:183 \n",
      "  at OpenMined.Syft.Tensor.Factories.FloatTensorFactory.Get (System.Int32 id) [0x00008] in /Users/yanndupis/Documents/Data_Science/Encrypted_DL/OpenMined/UnityProject/Assets/OpenMined/Syft/Tensor/Factories/FloatTensorFactory.cs:24 \n",
      "  at OpenMined.Syft.Tensor.FloatTensor.Delete () [0x00048] in /Users/yanndupis/Documents/Data_Science/Encrypted_DL/OpenMined/UnityProject/Assets/OpenMined/Syft/Tensor/FloatTensor.Ops.cs:558 \n",
      "  at OpenMined.Syft.Tensor.FloatTensor.ProcessMessage (OpenMined.Network.Utils.Command msgObj, OpenMined.Network.Controllers.SyftController ctrl) [0x00e4c] in /Users/yanndupis/Documents/Data_Science/Encrypted_DL/OpenMined/UnityProject/Assets/OpenMined/Syft/Tensor/FloatTensor.cs:365 \n",
      "  at OpenMined.Network.Controllers.SyftController.processMessage (System.String json_message, UnityEngine.MonoBehaviour owner) [0x002dd] in /Users/yanndupis/Documents/Data_Science/Encrypted_DL/OpenMined/UnityProject/Assets/OpenMined/Network/Controllers/SyftController.cs:231 \n",
      "Exception ignored in: <object repr() failed>\n",
      "Traceback (most recent call last):\n",
      "  File \"/Users/yanndupis/anaconda2/envs/tflearn/lib/python3.5/site-packages/syft-0.1.0-py3.5.egg/syft/tensor.py\", line 544, in __del__\n",
      "  File \"/Users/yanndupis/anaconda2/envs/tflearn/lib/python3.5/site-packages/syft-0.1.0-py3.5.egg/syft/tensor.py\", line 1516, in delete_tensor\n",
      "  File \"/Users/yanndupis/anaconda2/envs/tflearn/lib/python3.5/site-packages/syft-0.1.0-py3.5.egg/syft/tensor.py\", line 1504, in no_params_func\n",
      "  File \"/Users/yanndupis/anaconda2/envs/tflearn/lib/python3.5/site-packages/syft-0.1.0-py3.5.egg/syft/tensor.py\", line 1486, in params_func\n",
      "  File \"/Users/yanndupis/anaconda2/envs/tflearn/lib/python3.5/site-packages/syft-0.1.0-py3.5.egg/syft/controller.py\", line 143, in send_json\n",
      "Exception: Unity Error: System.Collections.Generic.KeyNotFoundException: The given key was not present in the dictionary.\n",
      "  at System.ThrowHelper.ThrowKeyNotFoundException () [0x00000] in /Users/builduser/buildslave/mono/build/mcs/class/referencesource/mscorlib/system/throwhelper.cs:68 \n",
      "  at System.Collections.Generic.Dictionary`2[TKey,TValue].get_Item (TKey key) [0x0001e] in /Users/builduser/buildslave/mono/build/mcs/class/referencesource/mscorlib/system/collections/generic/dictionary.cs:183 \n",
      "  at OpenMined.Syft.Tensor.Factories.FloatTensorFactory.Get (System.Int32 id) [0x00008] in /Users/yanndupis/Documents/Data_Science/Encrypted_DL/OpenMined/UnityProject/Assets/OpenMined/Syft/Tensor/Factories/FloatTensorFactory.cs:24 \n",
      "  at OpenMined.Syft.Tensor.FloatTensor.Delete () [0x00048] in /Users/yanndupis/Documents/Data_Science/Encrypted_DL/OpenMined/UnityProject/Assets/OpenMined/Syft/Tensor/FloatTensor.Ops.cs:558 \n",
      "  at OpenMined.Syft.Tensor.FloatTensor.ProcessMessage (OpenMined.Network.Utils.Command msgObj, OpenMined.Network.Controllers.SyftController ctrl) [0x00e4c] in /Users/yanndupis/Documents/Data_Science/Encrypted_DL/OpenMined/UnityProject/Assets/OpenMined/Syft/Tensor/FloatTensor.cs:365 \n",
      "  at OpenMined.Network.Controllers.SyftController.processMessage (System.String json_message, UnityEngine.MonoBehaviour owner) [0x002dd] in /Users/yanndupis/Documents/Data_Science/Encrypted_DL/OpenMined/UnityProject/Assets/OpenMined/Network/Controllers/SyftController.cs:231 \n",
      "Exception ignored in: <object repr() failed>\n",
      "Traceback (most recent call last):\n",
      "  File \"/Users/yanndupis/anaconda2/envs/tflearn/lib/python3.5/site-packages/syft-0.1.0-py3.5.egg/syft/tensor.py\", line 544, in __del__\n",
      "  File \"/Users/yanndupis/anaconda2/envs/tflearn/lib/python3.5/site-packages/syft-0.1.0-py3.5.egg/syft/tensor.py\", line 1516, in delete_tensor\n",
      "  File \"/Users/yanndupis/anaconda2/envs/tflearn/lib/python3.5/site-packages/syft-0.1.0-py3.5.egg/syft/tensor.py\", line 1504, in no_params_func\n",
      "  File \"/Users/yanndupis/anaconda2/envs/tflearn/lib/python3.5/site-packages/syft-0.1.0-py3.5.egg/syft/tensor.py\", line 1486, in params_func\n",
      "  File \"/Users/yanndupis/anaconda2/envs/tflearn/lib/python3.5/site-packages/syft-0.1.0-py3.5.egg/syft/controller.py\", line 143, in send_json\n",
      "Exception: Unity Error: System.Collections.Generic.KeyNotFoundException: The given key was not present in the dictionary.\n",
      "  at System.ThrowHelper.ThrowKeyNotFoundException () [0x00000] in /Users/builduser/buildslave/mono/build/mcs/class/referencesource/mscorlib/system/throwhelper.cs:68 \n",
      "  at System.Collections.Generic.Dictionary`2[TKey,TValue].get_Item (TKey key) [0x0001e] in /Users/builduser/buildslave/mono/build/mcs/class/referencesource/mscorlib/system/collections/generic/dictionary.cs:183 \n",
      "  at OpenMined.Syft.Tensor.Factories.FloatTensorFactory.Get (System.Int32 id) [0x00008] in /Users/yanndupis/Documents/Data_Science/Encrypted_DL/OpenMined/UnityProject/Assets/OpenMined/Syft/Tensor/Factories/FloatTensorFactory.cs:24 \n",
      "  at OpenMined.Syft.Tensor.FloatTensor.Delete () [0x00048] in /Users/yanndupis/Documents/Data_Science/Encrypted_DL/OpenMined/UnityProject/Assets/OpenMined/Syft/Tensor/FloatTensor.Ops.cs:558 \n",
      "  at OpenMined.Syft.Tensor.FloatTensor.ProcessMessage (OpenMined.Network.Utils.Command msgObj, OpenMined.Network.Controllers.SyftController ctrl) [0x00e4c] in /Users/yanndupis/Documents/Data_Science/Encrypted_DL/OpenMined/UnityProject/Assets/OpenMined/Syft/Tensor/FloatTensor.cs:365 \n",
      "  at OpenMined.Network.Controllers.SyftController.processMessage (System.String json_message, UnityEngine.MonoBehaviour owner) [0x002dd] in /Users/yanndupis/Documents/Data_Science/Encrypted_DL/OpenMined/UnityProject/Assets/OpenMined/Network/Controllers/SyftController.cs:231 \n"
     ]
    },
    {
     "name": "stderr",
     "output_type": "stream",
     "text": [
      "Exception ignored in: <object repr() failed>\n",
      "Traceback (most recent call last):\n",
      "  File \"/Users/yanndupis/anaconda2/envs/tflearn/lib/python3.5/site-packages/syft-0.1.0-py3.5.egg/syft/tensor.py\", line 544, in __del__\n",
      "  File \"/Users/yanndupis/anaconda2/envs/tflearn/lib/python3.5/site-packages/syft-0.1.0-py3.5.egg/syft/tensor.py\", line 1516, in delete_tensor\n",
      "  File \"/Users/yanndupis/anaconda2/envs/tflearn/lib/python3.5/site-packages/syft-0.1.0-py3.5.egg/syft/tensor.py\", line 1504, in no_params_func\n",
      "  File \"/Users/yanndupis/anaconda2/envs/tflearn/lib/python3.5/site-packages/syft-0.1.0-py3.5.egg/syft/tensor.py\", line 1486, in params_func\n",
      "  File \"/Users/yanndupis/anaconda2/envs/tflearn/lib/python3.5/site-packages/syft-0.1.0-py3.5.egg/syft/controller.py\", line 143, in send_json\n",
      "Exception: Unity Error: System.Collections.Generic.KeyNotFoundException: The given key was not present in the dictionary.\n",
      "  at System.ThrowHelper.ThrowKeyNotFoundException () [0x00000] in /Users/builduser/buildslave/mono/build/mcs/class/referencesource/mscorlib/system/throwhelper.cs:68 \n",
      "  at System.Collections.Generic.Dictionary`2[TKey,TValue].get_Item (TKey key) [0x0001e] in /Users/builduser/buildslave/mono/build/mcs/class/referencesource/mscorlib/system/collections/generic/dictionary.cs:183 \n",
      "  at OpenMined.Syft.Tensor.Factories.FloatTensorFactory.Get (System.Int32 id) [0x00008] in /Users/yanndupis/Documents/Data_Science/Encrypted_DL/OpenMined/UnityProject/Assets/OpenMined/Syft/Tensor/Factories/FloatTensorFactory.cs:24 \n",
      "  at OpenMined.Syft.Tensor.FloatTensor.Delete () [0x00048] in /Users/yanndupis/Documents/Data_Science/Encrypted_DL/OpenMined/UnityProject/Assets/OpenMined/Syft/Tensor/FloatTensor.Ops.cs:558 \n",
      "  at OpenMined.Syft.Tensor.FloatTensor.ProcessMessage (OpenMined.Network.Utils.Command msgObj, OpenMined.Network.Controllers.SyftController ctrl) [0x00e4c] in /Users/yanndupis/Documents/Data_Science/Encrypted_DL/OpenMined/UnityProject/Assets/OpenMined/Syft/Tensor/FloatTensor.cs:365 \n",
      "  at OpenMined.Network.Controllers.SyftController.processMessage (System.String json_message, UnityEngine.MonoBehaviour owner) [0x002dd] in /Users/yanndupis/Documents/Data_Science/Encrypted_DL/OpenMined/UnityProject/Assets/OpenMined/Network/Controllers/SyftController.cs:231 \n",
      "Exception ignored in: <object repr() failed>\n",
      "Traceback (most recent call last):\n",
      "  File \"/Users/yanndupis/anaconda2/envs/tflearn/lib/python3.5/site-packages/syft-0.1.0-py3.5.egg/syft/tensor.py\", line 544, in __del__\n",
      "  File \"/Users/yanndupis/anaconda2/envs/tflearn/lib/python3.5/site-packages/syft-0.1.0-py3.5.egg/syft/tensor.py\", line 1516, in delete_tensor\n",
      "  File \"/Users/yanndupis/anaconda2/envs/tflearn/lib/python3.5/site-packages/syft-0.1.0-py3.5.egg/syft/tensor.py\", line 1504, in no_params_func\n",
      "  File \"/Users/yanndupis/anaconda2/envs/tflearn/lib/python3.5/site-packages/syft-0.1.0-py3.5.egg/syft/tensor.py\", line 1486, in params_func\n",
      "  File \"/Users/yanndupis/anaconda2/envs/tflearn/lib/python3.5/site-packages/syft-0.1.0-py3.5.egg/syft/controller.py\", line 143, in send_json\n",
      "Exception: Unity Error: System.Collections.Generic.KeyNotFoundException: The given key was not present in the dictionary.\n",
      "  at System.ThrowHelper.ThrowKeyNotFoundException () [0x00000] in /Users/builduser/buildslave/mono/build/mcs/class/referencesource/mscorlib/system/throwhelper.cs:68 \n",
      "  at System.Collections.Generic.Dictionary`2[TKey,TValue].get_Item (TKey key) [0x0001e] in /Users/builduser/buildslave/mono/build/mcs/class/referencesource/mscorlib/system/collections/generic/dictionary.cs:183 \n",
      "  at OpenMined.Syft.Tensor.Factories.FloatTensorFactory.Get (System.Int32 id) [0x00008] in /Users/yanndupis/Documents/Data_Science/Encrypted_DL/OpenMined/UnityProject/Assets/OpenMined/Syft/Tensor/Factories/FloatTensorFactory.cs:24 \n",
      "  at OpenMined.Syft.Tensor.FloatTensor.Delete () [0x00048] in /Users/yanndupis/Documents/Data_Science/Encrypted_DL/OpenMined/UnityProject/Assets/OpenMined/Syft/Tensor/FloatTensor.Ops.cs:558 \n",
      "  at OpenMined.Syft.Tensor.FloatTensor.ProcessMessage (OpenMined.Network.Utils.Command msgObj, OpenMined.Network.Controllers.SyftController ctrl) [0x00e4c] in /Users/yanndupis/Documents/Data_Science/Encrypted_DL/OpenMined/UnityProject/Assets/OpenMined/Syft/Tensor/FloatTensor.cs:365 \n",
      "  at OpenMined.Network.Controllers.SyftController.processMessage (System.String json_message, UnityEngine.MonoBehaviour owner) [0x002dd] in /Users/yanndupis/Documents/Data_Science/Encrypted_DL/OpenMined/UnityProject/Assets/OpenMined/Network/Controllers/SyftController.cs:231 \n",
      "Exception ignored in: <object repr() failed>\n",
      "Traceback (most recent call last):\n",
      "  File \"/Users/yanndupis/anaconda2/envs/tflearn/lib/python3.5/site-packages/syft-0.1.0-py3.5.egg/syft/tensor.py\", line 544, in __del__\n",
      "  File \"/Users/yanndupis/anaconda2/envs/tflearn/lib/python3.5/site-packages/syft-0.1.0-py3.5.egg/syft/tensor.py\", line 1516, in delete_tensor\n",
      "  File \"/Users/yanndupis/anaconda2/envs/tflearn/lib/python3.5/site-packages/syft-0.1.0-py3.5.egg/syft/tensor.py\", line 1504, in no_params_func\n",
      "  File \"/Users/yanndupis/anaconda2/envs/tflearn/lib/python3.5/site-packages/syft-0.1.0-py3.5.egg/syft/tensor.py\", line 1486, in params_func\n",
      "  File \"/Users/yanndupis/anaconda2/envs/tflearn/lib/python3.5/site-packages/syft-0.1.0-py3.5.egg/syft/controller.py\", line 143, in send_json\n",
      "Exception: Unity Error: System.Collections.Generic.KeyNotFoundException: The given key was not present in the dictionary.\n",
      "  at System.ThrowHelper.ThrowKeyNotFoundException () [0x00000] in /Users/builduser/buildslave/mono/build/mcs/class/referencesource/mscorlib/system/throwhelper.cs:68 \n",
      "  at System.Collections.Generic.Dictionary`2[TKey,TValue].get_Item (TKey key) [0x0001e] in /Users/builduser/buildslave/mono/build/mcs/class/referencesource/mscorlib/system/collections/generic/dictionary.cs:183 \n",
      "  at OpenMined.Syft.Tensor.Factories.FloatTensorFactory.Get (System.Int32 id) [0x00008] in /Users/yanndupis/Documents/Data_Science/Encrypted_DL/OpenMined/UnityProject/Assets/OpenMined/Syft/Tensor/Factories/FloatTensorFactory.cs:24 \n",
      "  at OpenMined.Syft.Tensor.FloatTensor.Delete () [0x00048] in /Users/yanndupis/Documents/Data_Science/Encrypted_DL/OpenMined/UnityProject/Assets/OpenMined/Syft/Tensor/FloatTensor.Ops.cs:558 \n",
      "  at OpenMined.Syft.Tensor.FloatTensor.ProcessMessage (OpenMined.Network.Utils.Command msgObj, OpenMined.Network.Controllers.SyftController ctrl) [0x00e4c] in /Users/yanndupis/Documents/Data_Science/Encrypted_DL/OpenMined/UnityProject/Assets/OpenMined/Syft/Tensor/FloatTensor.cs:365 \n",
      "  at OpenMined.Network.Controllers.SyftController.processMessage (System.String json_message, UnityEngine.MonoBehaviour owner) [0x002dd] in /Users/yanndupis/Documents/Data_Science/Encrypted_DL/OpenMined/UnityProject/Assets/OpenMined/Network/Controllers/SyftController.cs:231 \n",
      "Exception ignored in: <object repr() failed>\n",
      "Traceback (most recent call last):\n",
      "  File \"/Users/yanndupis/anaconda2/envs/tflearn/lib/python3.5/site-packages/syft-0.1.0-py3.5.egg/syft/tensor.py\", line 544, in __del__\n",
      "  File \"/Users/yanndupis/anaconda2/envs/tflearn/lib/python3.5/site-packages/syft-0.1.0-py3.5.egg/syft/tensor.py\", line 1516, in delete_tensor\n",
      "  File \"/Users/yanndupis/anaconda2/envs/tflearn/lib/python3.5/site-packages/syft-0.1.0-py3.5.egg/syft/tensor.py\", line 1504, in no_params_func\n",
      "  File \"/Users/yanndupis/anaconda2/envs/tflearn/lib/python3.5/site-packages/syft-0.1.0-py3.5.egg/syft/tensor.py\", line 1486, in params_func\n",
      "  File \"/Users/yanndupis/anaconda2/envs/tflearn/lib/python3.5/site-packages/syft-0.1.0-py3.5.egg/syft/controller.py\", line 143, in send_json\n",
      "Exception: Unity Error: System.Collections.Generic.KeyNotFoundException: The given key was not present in the dictionary.\n",
      "  at System.ThrowHelper.ThrowKeyNotFoundException () [0x00000] in /Users/builduser/buildslave/mono/build/mcs/class/referencesource/mscorlib/system/throwhelper.cs:68 \n",
      "  at System.Collections.Generic.Dictionary`2[TKey,TValue].get_Item (TKey key) [0x0001e] in /Users/builduser/buildslave/mono/build/mcs/class/referencesource/mscorlib/system/collections/generic/dictionary.cs:183 \n",
      "  at OpenMined.Syft.Tensor.Factories.FloatTensorFactory.Get (System.Int32 id) [0x00008] in /Users/yanndupis/Documents/Data_Science/Encrypted_DL/OpenMined/UnityProject/Assets/OpenMined/Syft/Tensor/Factories/FloatTensorFactory.cs:24 \n",
      "  at OpenMined.Syft.Tensor.FloatTensor.Delete () [0x00048] in /Users/yanndupis/Documents/Data_Science/Encrypted_DL/OpenMined/UnityProject/Assets/OpenMined/Syft/Tensor/FloatTensor.Ops.cs:558 \n",
      "  at OpenMined.Syft.Tensor.FloatTensor.ProcessMessage (OpenMined.Network.Utils.Command msgObj, OpenMined.Network.Controllers.SyftController ctrl) [0x00e4c] in /Users/yanndupis/Documents/Data_Science/Encrypted_DL/OpenMined/UnityProject/Assets/OpenMined/Syft/Tensor/FloatTensor.cs:365 \n",
      "  at OpenMined.Network.Controllers.SyftController.processMessage (System.String json_message, UnityEngine.MonoBehaviour owner) [0x002dd] in /Users/yanndupis/Documents/Data_Science/Encrypted_DL/OpenMined/UnityProject/Assets/OpenMined/Network/Controllers/SyftController.cs:231 \n"
     ]
    },
    {
     "name": "stderr",
     "output_type": "stream",
     "text": [
      "Exception ignored in: <object repr() failed>\n",
      "Traceback (most recent call last):\n",
      "  File \"/Users/yanndupis/anaconda2/envs/tflearn/lib/python3.5/site-packages/syft-0.1.0-py3.5.egg/syft/tensor.py\", line 544, in __del__\n",
      "  File \"/Users/yanndupis/anaconda2/envs/tflearn/lib/python3.5/site-packages/syft-0.1.0-py3.5.egg/syft/tensor.py\", line 1516, in delete_tensor\n",
      "  File \"/Users/yanndupis/anaconda2/envs/tflearn/lib/python3.5/site-packages/syft-0.1.0-py3.5.egg/syft/tensor.py\", line 1504, in no_params_func\n",
      "  File \"/Users/yanndupis/anaconda2/envs/tflearn/lib/python3.5/site-packages/syft-0.1.0-py3.5.egg/syft/tensor.py\", line 1486, in params_func\n",
      "  File \"/Users/yanndupis/anaconda2/envs/tflearn/lib/python3.5/site-packages/syft-0.1.0-py3.5.egg/syft/controller.py\", line 143, in send_json\n",
      "Exception: Unity Error: System.Collections.Generic.KeyNotFoundException: The given key was not present in the dictionary.\n",
      "  at System.ThrowHelper.ThrowKeyNotFoundException () [0x00000] in /Users/builduser/buildslave/mono/build/mcs/class/referencesource/mscorlib/system/throwhelper.cs:68 \n",
      "  at System.Collections.Generic.Dictionary`2[TKey,TValue].get_Item (TKey key) [0x0001e] in /Users/builduser/buildslave/mono/build/mcs/class/referencesource/mscorlib/system/collections/generic/dictionary.cs:183 \n",
      "  at OpenMined.Syft.Tensor.Factories.FloatTensorFactory.Get (System.Int32 id) [0x00008] in /Users/yanndupis/Documents/Data_Science/Encrypted_DL/OpenMined/UnityProject/Assets/OpenMined/Syft/Tensor/Factories/FloatTensorFactory.cs:24 \n",
      "  at OpenMined.Syft.Tensor.FloatTensor.Delete () [0x00048] in /Users/yanndupis/Documents/Data_Science/Encrypted_DL/OpenMined/UnityProject/Assets/OpenMined/Syft/Tensor/FloatTensor.Ops.cs:558 \n",
      "  at OpenMined.Syft.Tensor.FloatTensor.ProcessMessage (OpenMined.Network.Utils.Command msgObj, OpenMined.Network.Controllers.SyftController ctrl) [0x00e4c] in /Users/yanndupis/Documents/Data_Science/Encrypted_DL/OpenMined/UnityProject/Assets/OpenMined/Syft/Tensor/FloatTensor.cs:365 \n",
      "  at OpenMined.Network.Controllers.SyftController.processMessage (System.String json_message, UnityEngine.MonoBehaviour owner) [0x002dd] in /Users/yanndupis/Documents/Data_Science/Encrypted_DL/OpenMined/UnityProject/Assets/OpenMined/Network/Controllers/SyftController.cs:231 \n"
     ]
    },
    {
     "name": "stdout",
     "output_type": "stream",
     "text": [
      "Number of Batches:1\n"
     ]
    },
    {
     "data": {
      "application/vnd.jupyter.widget-view+json": {
       "model_id": "c131b78b44604c24ae11c381da20f2b6"
      }
     },
     "metadata": {},
     "output_type": "display_data"
    },
    {
     "data": {
      "application/vnd.jupyter.widget-view+json": {
       "model_id": "370a28efd07043ae9b958847b7f40800"
      }
     },
     "metadata": {},
     "output_type": "display_data"
    },
    {
     "name": "stderr",
     "output_type": "stream",
     "text": [
      "Exception ignored in: <object repr() failed>\n",
      "Traceback (most recent call last):\n",
      "  File \"/Users/yanndupis/anaconda2/envs/tflearn/lib/python3.5/site-packages/syft-0.1.0-py3.5.egg/syft/tensor.py\", line 544, in __del__\n",
      "  File \"/Users/yanndupis/anaconda2/envs/tflearn/lib/python3.5/site-packages/syft-0.1.0-py3.5.egg/syft/tensor.py\", line 1516, in delete_tensor\n",
      "  File \"/Users/yanndupis/anaconda2/envs/tflearn/lib/python3.5/site-packages/syft-0.1.0-py3.5.egg/syft/tensor.py\", line 1504, in no_params_func\n",
      "  File \"/Users/yanndupis/anaconda2/envs/tflearn/lib/python3.5/site-packages/syft-0.1.0-py3.5.egg/syft/tensor.py\", line 1486, in params_func\n",
      "  File \"/Users/yanndupis/anaconda2/envs/tflearn/lib/python3.5/site-packages/syft-0.1.0-py3.5.egg/syft/controller.py\", line 143, in send_json\n",
      "Exception: Unity Error: System.Collections.Generic.KeyNotFoundException: The given key was not present in the dictionary.\n",
      "  at System.ThrowHelper.ThrowKeyNotFoundException () [0x00000] in /Users/builduser/buildslave/mono/build/mcs/class/referencesource/mscorlib/system/throwhelper.cs:68 \n",
      "  at System.Collections.Generic.Dictionary`2[TKey,TValue].get_Item (TKey key) [0x0001e] in /Users/builduser/buildslave/mono/build/mcs/class/referencesource/mscorlib/system/collections/generic/dictionary.cs:183 \n",
      "  at OpenMined.Syft.Tensor.Factories.FloatTensorFactory.Get (System.Int32 id) [0x00008] in /Users/yanndupis/Documents/Data_Science/Encrypted_DL/OpenMined/UnityProject/Assets/OpenMined/Syft/Tensor/Factories/FloatTensorFactory.cs:24 \n",
      "  at OpenMined.Syft.Tensor.FloatTensor.Delete () [0x00048] in /Users/yanndupis/Documents/Data_Science/Encrypted_DL/OpenMined/UnityProject/Assets/OpenMined/Syft/Tensor/FloatTensor.Ops.cs:558 \n",
      "  at OpenMined.Syft.Tensor.FloatTensor.ProcessMessage (OpenMined.Network.Utils.Command msgObj, OpenMined.Network.Controllers.SyftController ctrl) [0x00e4c] in /Users/yanndupis/Documents/Data_Science/Encrypted_DL/OpenMined/UnityProject/Assets/OpenMined/Syft/Tensor/FloatTensor.cs:365 \n",
      "  at OpenMined.Network.Controllers.SyftController.processMessage (System.String json_message, UnityEngine.MonoBehaviour owner) [0x002dd] in /Users/yanndupis/Documents/Data_Science/Encrypted_DL/OpenMined/UnityProject/Assets/OpenMined/Network/Controllers/SyftController.cs:231 \n"
     ]
    },
    {
     "name": "stdout",
     "output_type": "stream",
     "text": [
      "Number of Batches:1\n"
     ]
    },
    {
     "data": {
      "application/vnd.jupyter.widget-view+json": {
       "model_id": "85a8d543013e49409ab45e7d627c86d3"
      }
     },
     "metadata": {},
     "output_type": "display_data"
    },
    {
     "data": {
      "application/vnd.jupyter.widget-view+json": {
       "model_id": "bd49cd6f7115455d96bad35044b2fa6c"
      }
     },
     "metadata": {},
     "output_type": "display_data"
    },
    {
     "name": "stderr",
     "output_type": "stream",
     "text": [
      "Exception ignored in: <object repr() failed>\n",
      "Traceback (most recent call last):\n",
      "  File \"/Users/yanndupis/anaconda2/envs/tflearn/lib/python3.5/site-packages/syft-0.1.0-py3.5.egg/syft/tensor.py\", line 544, in __del__\n",
      "  File \"/Users/yanndupis/anaconda2/envs/tflearn/lib/python3.5/site-packages/syft-0.1.0-py3.5.egg/syft/tensor.py\", line 1516, in delete_tensor\n",
      "  File \"/Users/yanndupis/anaconda2/envs/tflearn/lib/python3.5/site-packages/syft-0.1.0-py3.5.egg/syft/tensor.py\", line 1504, in no_params_func\n",
      "  File \"/Users/yanndupis/anaconda2/envs/tflearn/lib/python3.5/site-packages/syft-0.1.0-py3.5.egg/syft/tensor.py\", line 1486, in params_func\n",
      "  File \"/Users/yanndupis/anaconda2/envs/tflearn/lib/python3.5/site-packages/syft-0.1.0-py3.5.egg/syft/controller.py\", line 143, in send_json\n",
      "Exception: Unity Error: System.Collections.Generic.KeyNotFoundException: The given key was not present in the dictionary.\n",
      "  at System.ThrowHelper.ThrowKeyNotFoundException () [0x00000] in /Users/builduser/buildslave/mono/build/mcs/class/referencesource/mscorlib/system/throwhelper.cs:68 \n",
      "  at System.Collections.Generic.Dictionary`2[TKey,TValue].get_Item (TKey key) [0x0001e] in /Users/builduser/buildslave/mono/build/mcs/class/referencesource/mscorlib/system/collections/generic/dictionary.cs:183 \n",
      "  at OpenMined.Syft.Tensor.Factories.FloatTensorFactory.Get (System.Int32 id) [0x00008] in /Users/yanndupis/Documents/Data_Science/Encrypted_DL/OpenMined/UnityProject/Assets/OpenMined/Syft/Tensor/Factories/FloatTensorFactory.cs:24 \n",
      "  at OpenMined.Syft.Tensor.FloatTensor.Delete () [0x00048] in /Users/yanndupis/Documents/Data_Science/Encrypted_DL/OpenMined/UnityProject/Assets/OpenMined/Syft/Tensor/FloatTensor.Ops.cs:558 \n",
      "  at OpenMined.Syft.Tensor.FloatTensor.ProcessMessage (OpenMined.Network.Utils.Command msgObj, OpenMined.Network.Controllers.SyftController ctrl) [0x00e4c] in /Users/yanndupis/Documents/Data_Science/Encrypted_DL/OpenMined/UnityProject/Assets/OpenMined/Syft/Tensor/FloatTensor.cs:365 \n",
      "  at OpenMined.Network.Controllers.SyftController.processMessage (System.String json_message, UnityEngine.MonoBehaviour owner) [0x002dd] in /Users/yanndupis/Documents/Data_Science/Encrypted_DL/OpenMined/UnityProject/Assets/OpenMined/Network/Controllers/SyftController.cs:231 \n"
     ]
    },
    {
     "name": "stdout",
     "output_type": "stream",
     "text": [
      "Number of Batches:1\n"
     ]
    },
    {
     "data": {
      "application/vnd.jupyter.widget-view+json": {
       "model_id": "39a7256a029849179c34df4177fe6565"
      }
     },
     "metadata": {},
     "output_type": "display_data"
    },
    {
     "data": {
      "application/vnd.jupyter.widget-view+json": {
       "model_id": "3d4d5a406e064973a1c2805715e3ce30"
      }
     },
     "metadata": {},
     "output_type": "display_data"
    },
    {
     "name": "stderr",
     "output_type": "stream",
     "text": [
      "Exception ignored in: <object repr() failed>\n",
      "Traceback (most recent call last):\n",
      "  File \"/Users/yanndupis/anaconda2/envs/tflearn/lib/python3.5/site-packages/syft-0.1.0-py3.5.egg/syft/tensor.py\", line 544, in __del__\n",
      "  File \"/Users/yanndupis/anaconda2/envs/tflearn/lib/python3.5/site-packages/syft-0.1.0-py3.5.egg/syft/tensor.py\", line 1516, in delete_tensor\n",
      "  File \"/Users/yanndupis/anaconda2/envs/tflearn/lib/python3.5/site-packages/syft-0.1.0-py3.5.egg/syft/tensor.py\", line 1504, in no_params_func\n",
      "  File \"/Users/yanndupis/anaconda2/envs/tflearn/lib/python3.5/site-packages/syft-0.1.0-py3.5.egg/syft/tensor.py\", line 1486, in params_func\n",
      "  File \"/Users/yanndupis/anaconda2/envs/tflearn/lib/python3.5/site-packages/syft-0.1.0-py3.5.egg/syft/controller.py\", line 143, in send_json\n",
      "Exception: Unity Error: System.Collections.Generic.KeyNotFoundException: The given key was not present in the dictionary.\n",
      "  at System.ThrowHelper.ThrowKeyNotFoundException () [0x00000] in /Users/builduser/buildslave/mono/build/mcs/class/referencesource/mscorlib/system/throwhelper.cs:68 \n",
      "  at System.Collections.Generic.Dictionary`2[TKey,TValue].get_Item (TKey key) [0x0001e] in /Users/builduser/buildslave/mono/build/mcs/class/referencesource/mscorlib/system/collections/generic/dictionary.cs:183 \n",
      "  at OpenMined.Syft.Tensor.Factories.FloatTensorFactory.Get (System.Int32 id) [0x00008] in /Users/yanndupis/Documents/Data_Science/Encrypted_DL/OpenMined/UnityProject/Assets/OpenMined/Syft/Tensor/Factories/FloatTensorFactory.cs:24 \n",
      "  at OpenMined.Syft.Tensor.FloatTensor.Delete () [0x00048] in /Users/yanndupis/Documents/Data_Science/Encrypted_DL/OpenMined/UnityProject/Assets/OpenMined/Syft/Tensor/FloatTensor.Ops.cs:558 \n",
      "  at OpenMined.Syft.Tensor.FloatTensor.ProcessMessage (OpenMined.Network.Utils.Command msgObj, OpenMined.Network.Controllers.SyftController ctrl) [0x00e4c] in /Users/yanndupis/Documents/Data_Science/Encrypted_DL/OpenMined/UnityProject/Assets/OpenMined/Syft/Tensor/FloatTensor.cs:365 \n",
      "  at OpenMined.Network.Controllers.SyftController.processMessage (System.String json_message, UnityEngine.MonoBehaviour owner) [0x002dd] in /Users/yanndupis/Documents/Data_Science/Encrypted_DL/OpenMined/UnityProject/Assets/OpenMined/Network/Controllers/SyftController.cs:231 \n"
     ]
    },
    {
     "name": "stdout",
     "output_type": "stream",
     "text": [
      "Number of Batches:1\n"
     ]
    },
    {
     "data": {
      "application/vnd.jupyter.widget-view+json": {
       "model_id": "2f47f98f37cc4309b2dd33860f4659c8"
      }
     },
     "metadata": {},
     "output_type": "display_data"
    },
    {
     "data": {
      "application/vnd.jupyter.widget-view+json": {
       "model_id": "d0c0aa8a716c4049a48e8d0288479037"
      }
     },
     "metadata": {},
     "output_type": "display_data"
    },
    {
     "name": "stderr",
     "output_type": "stream",
     "text": [
      "Exception ignored in: <object repr() failed>\n",
      "Traceback (most recent call last):\n",
      "  File \"/Users/yanndupis/anaconda2/envs/tflearn/lib/python3.5/site-packages/syft-0.1.0-py3.5.egg/syft/tensor.py\", line 544, in __del__\n",
      "  File \"/Users/yanndupis/anaconda2/envs/tflearn/lib/python3.5/site-packages/syft-0.1.0-py3.5.egg/syft/tensor.py\", line 1516, in delete_tensor\n",
      "  File \"/Users/yanndupis/anaconda2/envs/tflearn/lib/python3.5/site-packages/syft-0.1.0-py3.5.egg/syft/tensor.py\", line 1504, in no_params_func\n",
      "  File \"/Users/yanndupis/anaconda2/envs/tflearn/lib/python3.5/site-packages/syft-0.1.0-py3.5.egg/syft/tensor.py\", line 1486, in params_func\n",
      "  File \"/Users/yanndupis/anaconda2/envs/tflearn/lib/python3.5/site-packages/syft-0.1.0-py3.5.egg/syft/controller.py\", line 143, in send_json\n",
      "Exception: Unity Error: System.Collections.Generic.KeyNotFoundException: The given key was not present in the dictionary.\n",
      "  at System.ThrowHelper.ThrowKeyNotFoundException () [0x00000] in /Users/builduser/buildslave/mono/build/mcs/class/referencesource/mscorlib/system/throwhelper.cs:68 \n",
      "  at System.Collections.Generic.Dictionary`2[TKey,TValue].get_Item (TKey key) [0x0001e] in /Users/builduser/buildslave/mono/build/mcs/class/referencesource/mscorlib/system/collections/generic/dictionary.cs:183 \n",
      "  at OpenMined.Syft.Tensor.Factories.FloatTensorFactory.Get (System.Int32 id) [0x00008] in /Users/yanndupis/Documents/Data_Science/Encrypted_DL/OpenMined/UnityProject/Assets/OpenMined/Syft/Tensor/Factories/FloatTensorFactory.cs:24 \n",
      "  at OpenMined.Syft.Tensor.FloatTensor.Delete () [0x00048] in /Users/yanndupis/Documents/Data_Science/Encrypted_DL/OpenMined/UnityProject/Assets/OpenMined/Syft/Tensor/FloatTensor.Ops.cs:558 \n",
      "  at OpenMined.Syft.Tensor.FloatTensor.ProcessMessage (OpenMined.Network.Utils.Command msgObj, OpenMined.Network.Controllers.SyftController ctrl) [0x00e4c] in /Users/yanndupis/Documents/Data_Science/Encrypted_DL/OpenMined/UnityProject/Assets/OpenMined/Syft/Tensor/FloatTensor.cs:365 \n",
      "  at OpenMined.Network.Controllers.SyftController.processMessage (System.String json_message, UnityEngine.MonoBehaviour owner) [0x002dd] in /Users/yanndupis/Documents/Data_Science/Encrypted_DL/OpenMined/UnityProject/Assets/OpenMined/Network/Controllers/SyftController.cs:231 \n"
     ]
    },
    {
     "name": "stdout",
     "output_type": "stream",
     "text": [
      "Number of Batches:1\n"
     ]
    },
    {
     "data": {
      "application/vnd.jupyter.widget-view+json": {
       "model_id": "89b16e2dbafe4cd088df7b5f0e2eaa5f"
      }
     },
     "metadata": {},
     "output_type": "display_data"
    },
    {
     "data": {
      "application/vnd.jupyter.widget-view+json": {
       "model_id": "b7700c7169b7448eb7379deebf825b25"
      }
     },
     "metadata": {},
     "output_type": "display_data"
    },
    {
     "name": "stderr",
     "output_type": "stream",
     "text": [
      "Exception ignored in: <object repr() failed>\n",
      "Traceback (most recent call last):\n",
      "  File \"/Users/yanndupis/anaconda2/envs/tflearn/lib/python3.5/site-packages/syft-0.1.0-py3.5.egg/syft/tensor.py\", line 544, in __del__\n",
      "  File \"/Users/yanndupis/anaconda2/envs/tflearn/lib/python3.5/site-packages/syft-0.1.0-py3.5.egg/syft/tensor.py\", line 1516, in delete_tensor\n",
      "  File \"/Users/yanndupis/anaconda2/envs/tflearn/lib/python3.5/site-packages/syft-0.1.0-py3.5.egg/syft/tensor.py\", line 1504, in no_params_func\n",
      "  File \"/Users/yanndupis/anaconda2/envs/tflearn/lib/python3.5/site-packages/syft-0.1.0-py3.5.egg/syft/tensor.py\", line 1486, in params_func\n",
      "  File \"/Users/yanndupis/anaconda2/envs/tflearn/lib/python3.5/site-packages/syft-0.1.0-py3.5.egg/syft/controller.py\", line 143, in send_json\n",
      "Exception: Unity Error: System.Collections.Generic.KeyNotFoundException: The given key was not present in the dictionary.\n",
      "  at System.ThrowHelper.ThrowKeyNotFoundException () [0x00000] in /Users/builduser/buildslave/mono/build/mcs/class/referencesource/mscorlib/system/throwhelper.cs:68 \n",
      "  at System.Collections.Generic.Dictionary`2[TKey,TValue].get_Item (TKey key) [0x0001e] in /Users/builduser/buildslave/mono/build/mcs/class/referencesource/mscorlib/system/collections/generic/dictionary.cs:183 \n",
      "  at OpenMined.Syft.Tensor.Factories.FloatTensorFactory.Get (System.Int32 id) [0x00008] in /Users/yanndupis/Documents/Data_Science/Encrypted_DL/OpenMined/UnityProject/Assets/OpenMined/Syft/Tensor/Factories/FloatTensorFactory.cs:24 \n",
      "  at OpenMined.Syft.Tensor.FloatTensor.Delete () [0x00048] in /Users/yanndupis/Documents/Data_Science/Encrypted_DL/OpenMined/UnityProject/Assets/OpenMined/Syft/Tensor/FloatTensor.Ops.cs:558 \n",
      "  at OpenMined.Syft.Tensor.FloatTensor.ProcessMessage (OpenMined.Network.Utils.Command msgObj, OpenMined.Network.Controllers.SyftController ctrl) [0x00e4c] in /Users/yanndupis/Documents/Data_Science/Encrypted_DL/OpenMined/UnityProject/Assets/OpenMined/Syft/Tensor/FloatTensor.cs:365 \n",
      "  at OpenMined.Network.Controllers.SyftController.processMessage (System.String json_message, UnityEngine.MonoBehaviour owner) [0x002dd] in /Users/yanndupis/Documents/Data_Science/Encrypted_DL/OpenMined/UnityProject/Assets/OpenMined/Network/Controllers/SyftController.cs:231 \n",
      "Exception ignored in: <object repr() failed>\n",
      "Traceback (most recent call last):\n",
      "  File \"/Users/yanndupis/anaconda2/envs/tflearn/lib/python3.5/site-packages/syft-0.1.0-py3.5.egg/syft/tensor.py\", line 544, in __del__\n",
      "  File \"/Users/yanndupis/anaconda2/envs/tflearn/lib/python3.5/site-packages/syft-0.1.0-py3.5.egg/syft/tensor.py\", line 1516, in delete_tensor\n",
      "  File \"/Users/yanndupis/anaconda2/envs/tflearn/lib/python3.5/site-packages/syft-0.1.0-py3.5.egg/syft/tensor.py\", line 1504, in no_params_func\n",
      "  File \"/Users/yanndupis/anaconda2/envs/tflearn/lib/python3.5/site-packages/syft-0.1.0-py3.5.egg/syft/tensor.py\", line 1486, in params_func\n",
      "  File \"/Users/yanndupis/anaconda2/envs/tflearn/lib/python3.5/site-packages/syft-0.1.0-py3.5.egg/syft/controller.py\", line 143, in send_json\n",
      "Exception: Unity Error: System.Collections.Generic.KeyNotFoundException: The given key was not present in the dictionary.\n",
      "  at System.ThrowHelper.ThrowKeyNotFoundException () [0x00000] in /Users/builduser/buildslave/mono/build/mcs/class/referencesource/mscorlib/system/throwhelper.cs:68 \n",
      "  at System.Collections.Generic.Dictionary`2[TKey,TValue].get_Item (TKey key) [0x0001e] in /Users/builduser/buildslave/mono/build/mcs/class/referencesource/mscorlib/system/collections/generic/dictionary.cs:183 \n",
      "  at OpenMined.Syft.Tensor.Factories.FloatTensorFactory.Get (System.Int32 id) [0x00008] in /Users/yanndupis/Documents/Data_Science/Encrypted_DL/OpenMined/UnityProject/Assets/OpenMined/Syft/Tensor/Factories/FloatTensorFactory.cs:24 \n",
      "  at OpenMined.Syft.Tensor.FloatTensor.Delete () [0x00048] in /Users/yanndupis/Documents/Data_Science/Encrypted_DL/OpenMined/UnityProject/Assets/OpenMined/Syft/Tensor/FloatTensor.Ops.cs:558 \n",
      "  at OpenMined.Syft.Tensor.FloatTensor.ProcessMessage (OpenMined.Network.Utils.Command msgObj, OpenMined.Network.Controllers.SyftController ctrl) [0x00e4c] in /Users/yanndupis/Documents/Data_Science/Encrypted_DL/OpenMined/UnityProject/Assets/OpenMined/Syft/Tensor/FloatTensor.cs:365 \n",
      "  at OpenMined.Network.Controllers.SyftController.processMessage (System.String json_message, UnityEngine.MonoBehaviour owner) [0x002dd] in /Users/yanndupis/Documents/Data_Science/Encrypted_DL/OpenMined/UnityProject/Assets/OpenMined/Network/Controllers/SyftController.cs:231 \n",
      "Exception ignored in: <object repr() failed>\n",
      "Traceback (most recent call last):\n",
      "  File \"/Users/yanndupis/anaconda2/envs/tflearn/lib/python3.5/site-packages/syft-0.1.0-py3.5.egg/syft/tensor.py\", line 544, in __del__\n",
      "  File \"/Users/yanndupis/anaconda2/envs/tflearn/lib/python3.5/site-packages/syft-0.1.0-py3.5.egg/syft/tensor.py\", line 1516, in delete_tensor\n",
      "  File \"/Users/yanndupis/anaconda2/envs/tflearn/lib/python3.5/site-packages/syft-0.1.0-py3.5.egg/syft/tensor.py\", line 1504, in no_params_func\n",
      "  File \"/Users/yanndupis/anaconda2/envs/tflearn/lib/python3.5/site-packages/syft-0.1.0-py3.5.egg/syft/tensor.py\", line 1486, in params_func\n",
      "  File \"/Users/yanndupis/anaconda2/envs/tflearn/lib/python3.5/site-packages/syft-0.1.0-py3.5.egg/syft/controller.py\", line 143, in send_json\n",
      "Exception: Unity Error: System.Collections.Generic.KeyNotFoundException: The given key was not present in the dictionary.\n",
      "  at System.ThrowHelper.ThrowKeyNotFoundException () [0x00000] in /Users/builduser/buildslave/mono/build/mcs/class/referencesource/mscorlib/system/throwhelper.cs:68 \n",
      "  at System.Collections.Generic.Dictionary`2[TKey,TValue].get_Item (TKey key) [0x0001e] in /Users/builduser/buildslave/mono/build/mcs/class/referencesource/mscorlib/system/collections/generic/dictionary.cs:183 \n",
      "  at OpenMined.Syft.Tensor.Factories.FloatTensorFactory.Get (System.Int32 id) [0x00008] in /Users/yanndupis/Documents/Data_Science/Encrypted_DL/OpenMined/UnityProject/Assets/OpenMined/Syft/Tensor/Factories/FloatTensorFactory.cs:24 \n",
      "  at OpenMined.Syft.Tensor.FloatTensor.Delete () [0x00048] in /Users/yanndupis/Documents/Data_Science/Encrypted_DL/OpenMined/UnityProject/Assets/OpenMined/Syft/Tensor/FloatTensor.Ops.cs:558 \n",
      "  at OpenMined.Syft.Tensor.FloatTensor.ProcessMessage (OpenMined.Network.Utils.Command msgObj, OpenMined.Network.Controllers.SyftController ctrl) [0x00e4c] in /Users/yanndupis/Documents/Data_Science/Encrypted_DL/OpenMined/UnityProject/Assets/OpenMined/Syft/Tensor/FloatTensor.cs:365 \n",
      "  at OpenMined.Network.Controllers.SyftController.processMessage (System.String json_message, UnityEngine.MonoBehaviour owner) [0x002dd] in /Users/yanndupis/Documents/Data_Science/Encrypted_DL/OpenMined/UnityProject/Assets/OpenMined/Network/Controllers/SyftController.cs:231 \n",
      "Exception ignored in: <object repr() failed>\n",
      "Traceback (most recent call last):\n",
      "  File \"/Users/yanndupis/anaconda2/envs/tflearn/lib/python3.5/site-packages/syft-0.1.0-py3.5.egg/syft/tensor.py\", line 544, in __del__\n",
      "  File \"/Users/yanndupis/anaconda2/envs/tflearn/lib/python3.5/site-packages/syft-0.1.0-py3.5.egg/syft/tensor.py\", line 1516, in delete_tensor\n",
      "  File \"/Users/yanndupis/anaconda2/envs/tflearn/lib/python3.5/site-packages/syft-0.1.0-py3.5.egg/syft/tensor.py\", line 1504, in no_params_func\n",
      "  File \"/Users/yanndupis/anaconda2/envs/tflearn/lib/python3.5/site-packages/syft-0.1.0-py3.5.egg/syft/tensor.py\", line 1486, in params_func\n",
      "  File \"/Users/yanndupis/anaconda2/envs/tflearn/lib/python3.5/site-packages/syft-0.1.0-py3.5.egg/syft/controller.py\", line 143, in send_json\n",
      "Exception: Unity Error: System.Collections.Generic.KeyNotFoundException: The given key was not present in the dictionary.\n",
      "  at System.ThrowHelper.ThrowKeyNotFoundException () [0x00000] in /Users/builduser/buildslave/mono/build/mcs/class/referencesource/mscorlib/system/throwhelper.cs:68 \n",
      "  at System.Collections.Generic.Dictionary`2[TKey,TValue].get_Item (TKey key) [0x0001e] in /Users/builduser/buildslave/mono/build/mcs/class/referencesource/mscorlib/system/collections/generic/dictionary.cs:183 \n",
      "  at OpenMined.Syft.Tensor.Factories.FloatTensorFactory.Get (System.Int32 id) [0x00008] in /Users/yanndupis/Documents/Data_Science/Encrypted_DL/OpenMined/UnityProject/Assets/OpenMined/Syft/Tensor/Factories/FloatTensorFactory.cs:24 \n",
      "  at OpenMined.Syft.Tensor.FloatTensor.Delete () [0x00048] in /Users/yanndupis/Documents/Data_Science/Encrypted_DL/OpenMined/UnityProject/Assets/OpenMined/Syft/Tensor/FloatTensor.Ops.cs:558 \n",
      "  at OpenMined.Syft.Tensor.FloatTensor.ProcessMessage (OpenMined.Network.Utils.Command msgObj, OpenMined.Network.Controllers.SyftController ctrl) [0x00e4c] in /Users/yanndupis/Documents/Data_Science/Encrypted_DL/OpenMined/UnityProject/Assets/OpenMined/Syft/Tensor/FloatTensor.cs:365 \n",
      "  at OpenMined.Network.Controllers.SyftController.processMessage (System.String json_message, UnityEngine.MonoBehaviour owner) [0x002dd] in /Users/yanndupis/Documents/Data_Science/Encrypted_DL/OpenMined/UnityProject/Assets/OpenMined/Network/Controllers/SyftController.cs:231 \n"
     ]
    },
    {
     "name": "stderr",
     "output_type": "stream",
     "text": [
      "Exception ignored in: <object repr() failed>\n",
      "Traceback (most recent call last):\n",
      "  File \"/Users/yanndupis/anaconda2/envs/tflearn/lib/python3.5/site-packages/syft-0.1.0-py3.5.egg/syft/tensor.py\", line 544, in __del__\n",
      "  File \"/Users/yanndupis/anaconda2/envs/tflearn/lib/python3.5/site-packages/syft-0.1.0-py3.5.egg/syft/tensor.py\", line 1516, in delete_tensor\n",
      "  File \"/Users/yanndupis/anaconda2/envs/tflearn/lib/python3.5/site-packages/syft-0.1.0-py3.5.egg/syft/tensor.py\", line 1504, in no_params_func\n",
      "  File \"/Users/yanndupis/anaconda2/envs/tflearn/lib/python3.5/site-packages/syft-0.1.0-py3.5.egg/syft/tensor.py\", line 1486, in params_func\n",
      "  File \"/Users/yanndupis/anaconda2/envs/tflearn/lib/python3.5/site-packages/syft-0.1.0-py3.5.egg/syft/controller.py\", line 143, in send_json\n",
      "Exception: Unity Error: System.Collections.Generic.KeyNotFoundException: The given key was not present in the dictionary.\n",
      "  at System.ThrowHelper.ThrowKeyNotFoundException () [0x00000] in /Users/builduser/buildslave/mono/build/mcs/class/referencesource/mscorlib/system/throwhelper.cs:68 \n",
      "  at System.Collections.Generic.Dictionary`2[TKey,TValue].get_Item (TKey key) [0x0001e] in /Users/builduser/buildslave/mono/build/mcs/class/referencesource/mscorlib/system/collections/generic/dictionary.cs:183 \n",
      "  at OpenMined.Syft.Tensor.Factories.FloatTensorFactory.Get (System.Int32 id) [0x00008] in /Users/yanndupis/Documents/Data_Science/Encrypted_DL/OpenMined/UnityProject/Assets/OpenMined/Syft/Tensor/Factories/FloatTensorFactory.cs:24 \n",
      "  at OpenMined.Syft.Tensor.FloatTensor.Delete () [0x00048] in /Users/yanndupis/Documents/Data_Science/Encrypted_DL/OpenMined/UnityProject/Assets/OpenMined/Syft/Tensor/FloatTensor.Ops.cs:558 \n",
      "  at OpenMined.Syft.Tensor.FloatTensor.ProcessMessage (OpenMined.Network.Utils.Command msgObj, OpenMined.Network.Controllers.SyftController ctrl) [0x00e4c] in /Users/yanndupis/Documents/Data_Science/Encrypted_DL/OpenMined/UnityProject/Assets/OpenMined/Syft/Tensor/FloatTensor.cs:365 \n",
      "  at OpenMined.Network.Controllers.SyftController.processMessage (System.String json_message, UnityEngine.MonoBehaviour owner) [0x002dd] in /Users/yanndupis/Documents/Data_Science/Encrypted_DL/OpenMined/UnityProject/Assets/OpenMined/Network/Controllers/SyftController.cs:231 \n",
      "Exception ignored in: <object repr() failed>\n",
      "Traceback (most recent call last):\n",
      "  File \"/Users/yanndupis/anaconda2/envs/tflearn/lib/python3.5/site-packages/syft-0.1.0-py3.5.egg/syft/tensor.py\", line 544, in __del__\n",
      "  File \"/Users/yanndupis/anaconda2/envs/tflearn/lib/python3.5/site-packages/syft-0.1.0-py3.5.egg/syft/tensor.py\", line 1516, in delete_tensor\n",
      "  File \"/Users/yanndupis/anaconda2/envs/tflearn/lib/python3.5/site-packages/syft-0.1.0-py3.5.egg/syft/tensor.py\", line 1504, in no_params_func\n",
      "  File \"/Users/yanndupis/anaconda2/envs/tflearn/lib/python3.5/site-packages/syft-0.1.0-py3.5.egg/syft/tensor.py\", line 1486, in params_func\n",
      "  File \"/Users/yanndupis/anaconda2/envs/tflearn/lib/python3.5/site-packages/syft-0.1.0-py3.5.egg/syft/controller.py\", line 143, in send_json\n",
      "Exception: Unity Error: System.Collections.Generic.KeyNotFoundException: The given key was not present in the dictionary.\n",
      "  at System.ThrowHelper.ThrowKeyNotFoundException () [0x00000] in /Users/builduser/buildslave/mono/build/mcs/class/referencesource/mscorlib/system/throwhelper.cs:68 \n",
      "  at System.Collections.Generic.Dictionary`2[TKey,TValue].get_Item (TKey key) [0x0001e] in /Users/builduser/buildslave/mono/build/mcs/class/referencesource/mscorlib/system/collections/generic/dictionary.cs:183 \n",
      "  at OpenMined.Syft.Tensor.Factories.FloatTensorFactory.Get (System.Int32 id) [0x00008] in /Users/yanndupis/Documents/Data_Science/Encrypted_DL/OpenMined/UnityProject/Assets/OpenMined/Syft/Tensor/Factories/FloatTensorFactory.cs:24 \n",
      "  at OpenMined.Syft.Tensor.FloatTensor.Delete () [0x00048] in /Users/yanndupis/Documents/Data_Science/Encrypted_DL/OpenMined/UnityProject/Assets/OpenMined/Syft/Tensor/FloatTensor.Ops.cs:558 \n",
      "  at OpenMined.Syft.Tensor.FloatTensor.ProcessMessage (OpenMined.Network.Utils.Command msgObj, OpenMined.Network.Controllers.SyftController ctrl) [0x00e4c] in /Users/yanndupis/Documents/Data_Science/Encrypted_DL/OpenMined/UnityProject/Assets/OpenMined/Syft/Tensor/FloatTensor.cs:365 \n",
      "  at OpenMined.Network.Controllers.SyftController.processMessage (System.String json_message, UnityEngine.MonoBehaviour owner) [0x002dd] in /Users/yanndupis/Documents/Data_Science/Encrypted_DL/OpenMined/UnityProject/Assets/OpenMined/Network/Controllers/SyftController.cs:231 \n",
      "Exception ignored in: <object repr() failed>\n",
      "Traceback (most recent call last):\n",
      "  File \"/Users/yanndupis/anaconda2/envs/tflearn/lib/python3.5/site-packages/syft-0.1.0-py3.5.egg/syft/tensor.py\", line 544, in __del__\n",
      "  File \"/Users/yanndupis/anaconda2/envs/tflearn/lib/python3.5/site-packages/syft-0.1.0-py3.5.egg/syft/tensor.py\", line 1516, in delete_tensor\n",
      "  File \"/Users/yanndupis/anaconda2/envs/tflearn/lib/python3.5/site-packages/syft-0.1.0-py3.5.egg/syft/tensor.py\", line 1504, in no_params_func\n",
      "  File \"/Users/yanndupis/anaconda2/envs/tflearn/lib/python3.5/site-packages/syft-0.1.0-py3.5.egg/syft/tensor.py\", line 1486, in params_func\n",
      "  File \"/Users/yanndupis/anaconda2/envs/tflearn/lib/python3.5/site-packages/syft-0.1.0-py3.5.egg/syft/controller.py\", line 143, in send_json\n",
      "Exception: Unity Error: System.Collections.Generic.KeyNotFoundException: The given key was not present in the dictionary.\n",
      "  at System.ThrowHelper.ThrowKeyNotFoundException () [0x00000] in /Users/builduser/buildslave/mono/build/mcs/class/referencesource/mscorlib/system/throwhelper.cs:68 \n",
      "  at System.Collections.Generic.Dictionary`2[TKey,TValue].get_Item (TKey key) [0x0001e] in /Users/builduser/buildslave/mono/build/mcs/class/referencesource/mscorlib/system/collections/generic/dictionary.cs:183 \n",
      "  at OpenMined.Syft.Tensor.Factories.FloatTensorFactory.Get (System.Int32 id) [0x00008] in /Users/yanndupis/Documents/Data_Science/Encrypted_DL/OpenMined/UnityProject/Assets/OpenMined/Syft/Tensor/Factories/FloatTensorFactory.cs:24 \n",
      "  at OpenMined.Syft.Tensor.FloatTensor.Delete () [0x00048] in /Users/yanndupis/Documents/Data_Science/Encrypted_DL/OpenMined/UnityProject/Assets/OpenMined/Syft/Tensor/FloatTensor.Ops.cs:558 \n",
      "  at OpenMined.Syft.Tensor.FloatTensor.ProcessMessage (OpenMined.Network.Utils.Command msgObj, OpenMined.Network.Controllers.SyftController ctrl) [0x00e4c] in /Users/yanndupis/Documents/Data_Science/Encrypted_DL/OpenMined/UnityProject/Assets/OpenMined/Syft/Tensor/FloatTensor.cs:365 \n",
      "  at OpenMined.Network.Controllers.SyftController.processMessage (System.String json_message, UnityEngine.MonoBehaviour owner) [0x002dd] in /Users/yanndupis/Documents/Data_Science/Encrypted_DL/OpenMined/UnityProject/Assets/OpenMined/Network/Controllers/SyftController.cs:231 \n",
      "Exception ignored in: <object repr() failed>\n",
      "Traceback (most recent call last):\n",
      "  File \"/Users/yanndupis/anaconda2/envs/tflearn/lib/python3.5/site-packages/syft-0.1.0-py3.5.egg/syft/tensor.py\", line 544, in __del__\n",
      "  File \"/Users/yanndupis/anaconda2/envs/tflearn/lib/python3.5/site-packages/syft-0.1.0-py3.5.egg/syft/tensor.py\", line 1516, in delete_tensor\n",
      "  File \"/Users/yanndupis/anaconda2/envs/tflearn/lib/python3.5/site-packages/syft-0.1.0-py3.5.egg/syft/tensor.py\", line 1504, in no_params_func\n",
      "  File \"/Users/yanndupis/anaconda2/envs/tflearn/lib/python3.5/site-packages/syft-0.1.0-py3.5.egg/syft/tensor.py\", line 1486, in params_func\n",
      "  File \"/Users/yanndupis/anaconda2/envs/tflearn/lib/python3.5/site-packages/syft-0.1.0-py3.5.egg/syft/controller.py\", line 143, in send_json\n",
      "Exception: Unity Error: System.Collections.Generic.KeyNotFoundException: The given key was not present in the dictionary.\n",
      "  at System.ThrowHelper.ThrowKeyNotFoundException () [0x00000] in /Users/builduser/buildslave/mono/build/mcs/class/referencesource/mscorlib/system/throwhelper.cs:68 \n",
      "  at System.Collections.Generic.Dictionary`2[TKey,TValue].get_Item (TKey key) [0x0001e] in /Users/builduser/buildslave/mono/build/mcs/class/referencesource/mscorlib/system/collections/generic/dictionary.cs:183 \n",
      "  at OpenMined.Syft.Tensor.Factories.FloatTensorFactory.Get (System.Int32 id) [0x00008] in /Users/yanndupis/Documents/Data_Science/Encrypted_DL/OpenMined/UnityProject/Assets/OpenMined/Syft/Tensor/Factories/FloatTensorFactory.cs:24 \n",
      "  at OpenMined.Syft.Tensor.FloatTensor.Delete () [0x00048] in /Users/yanndupis/Documents/Data_Science/Encrypted_DL/OpenMined/UnityProject/Assets/OpenMined/Syft/Tensor/FloatTensor.Ops.cs:558 \n",
      "  at OpenMined.Syft.Tensor.FloatTensor.ProcessMessage (OpenMined.Network.Utils.Command msgObj, OpenMined.Network.Controllers.SyftController ctrl) [0x00e4c] in /Users/yanndupis/Documents/Data_Science/Encrypted_DL/OpenMined/UnityProject/Assets/OpenMined/Syft/Tensor/FloatTensor.cs:365 \n",
      "  at OpenMined.Network.Controllers.SyftController.processMessage (System.String json_message, UnityEngine.MonoBehaviour owner) [0x002dd] in /Users/yanndupis/Documents/Data_Science/Encrypted_DL/OpenMined/UnityProject/Assets/OpenMined/Network/Controllers/SyftController.cs:231 \n"
     ]
    },
    {
     "name": "stderr",
     "output_type": "stream",
     "text": [
      "Exception ignored in: <object repr() failed>\n",
      "Traceback (most recent call last):\n",
      "  File \"/Users/yanndupis/anaconda2/envs/tflearn/lib/python3.5/site-packages/syft-0.1.0-py3.5.egg/syft/tensor.py\", line 544, in __del__\n",
      "  File \"/Users/yanndupis/anaconda2/envs/tflearn/lib/python3.5/site-packages/syft-0.1.0-py3.5.egg/syft/tensor.py\", line 1516, in delete_tensor\n",
      "  File \"/Users/yanndupis/anaconda2/envs/tflearn/lib/python3.5/site-packages/syft-0.1.0-py3.5.egg/syft/tensor.py\", line 1504, in no_params_func\n",
      "  File \"/Users/yanndupis/anaconda2/envs/tflearn/lib/python3.5/site-packages/syft-0.1.0-py3.5.egg/syft/tensor.py\", line 1486, in params_func\n",
      "  File \"/Users/yanndupis/anaconda2/envs/tflearn/lib/python3.5/site-packages/syft-0.1.0-py3.5.egg/syft/controller.py\", line 143, in send_json\n",
      "Exception: Unity Error: System.Collections.Generic.KeyNotFoundException: The given key was not present in the dictionary.\n",
      "  at System.ThrowHelper.ThrowKeyNotFoundException () [0x00000] in /Users/builduser/buildslave/mono/build/mcs/class/referencesource/mscorlib/system/throwhelper.cs:68 \n",
      "  at System.Collections.Generic.Dictionary`2[TKey,TValue].get_Item (TKey key) [0x0001e] in /Users/builduser/buildslave/mono/build/mcs/class/referencesource/mscorlib/system/collections/generic/dictionary.cs:183 \n",
      "  at OpenMined.Syft.Tensor.Factories.FloatTensorFactory.Get (System.Int32 id) [0x00008] in /Users/yanndupis/Documents/Data_Science/Encrypted_DL/OpenMined/UnityProject/Assets/OpenMined/Syft/Tensor/Factories/FloatTensorFactory.cs:24 \n",
      "  at OpenMined.Syft.Tensor.FloatTensor.Delete () [0x00048] in /Users/yanndupis/Documents/Data_Science/Encrypted_DL/OpenMined/UnityProject/Assets/OpenMined/Syft/Tensor/FloatTensor.Ops.cs:558 \n",
      "  at OpenMined.Syft.Tensor.FloatTensor.ProcessMessage (OpenMined.Network.Utils.Command msgObj, OpenMined.Network.Controllers.SyftController ctrl) [0x00e4c] in /Users/yanndupis/Documents/Data_Science/Encrypted_DL/OpenMined/UnityProject/Assets/OpenMined/Syft/Tensor/FloatTensor.cs:365 \n",
      "  at OpenMined.Network.Controllers.SyftController.processMessage (System.String json_message, UnityEngine.MonoBehaviour owner) [0x002dd] in /Users/yanndupis/Documents/Data_Science/Encrypted_DL/OpenMined/UnityProject/Assets/OpenMined/Network/Controllers/SyftController.cs:231 \n"
     ]
    },
    {
     "name": "stdout",
     "output_type": "stream",
     "text": [
      "Number of Batches:1\n"
     ]
    },
    {
     "data": {
      "application/vnd.jupyter.widget-view+json": {
       "model_id": "e22ad6eec4944e6f8f60929dcd3d3a8b"
      }
     },
     "metadata": {},
     "output_type": "display_data"
    },
    {
     "data": {
      "application/vnd.jupyter.widget-view+json": {
       "model_id": "dd78c84129d7479b9ec29a746306b925"
      }
     },
     "metadata": {},
     "output_type": "display_data"
    },
    {
     "name": "stderr",
     "output_type": "stream",
     "text": [
      "Exception ignored in: <object repr() failed>\n",
      "Traceback (most recent call last):\n",
      "  File \"/Users/yanndupis/anaconda2/envs/tflearn/lib/python3.5/site-packages/syft-0.1.0-py3.5.egg/syft/tensor.py\", line 544, in __del__\n",
      "  File \"/Users/yanndupis/anaconda2/envs/tflearn/lib/python3.5/site-packages/syft-0.1.0-py3.5.egg/syft/tensor.py\", line 1516, in delete_tensor\n",
      "  File \"/Users/yanndupis/anaconda2/envs/tflearn/lib/python3.5/site-packages/syft-0.1.0-py3.5.egg/syft/tensor.py\", line 1504, in no_params_func\n",
      "  File \"/Users/yanndupis/anaconda2/envs/tflearn/lib/python3.5/site-packages/syft-0.1.0-py3.5.egg/syft/tensor.py\", line 1486, in params_func\n",
      "  File \"/Users/yanndupis/anaconda2/envs/tflearn/lib/python3.5/site-packages/syft-0.1.0-py3.5.egg/syft/controller.py\", line 143, in send_json\n",
      "Exception: Unity Error: System.Collections.Generic.KeyNotFoundException: The given key was not present in the dictionary.\n",
      "  at System.ThrowHelper.ThrowKeyNotFoundException () [0x00000] in /Users/builduser/buildslave/mono/build/mcs/class/referencesource/mscorlib/system/throwhelper.cs:68 \n",
      "  at System.Collections.Generic.Dictionary`2[TKey,TValue].get_Item (TKey key) [0x0001e] in /Users/builduser/buildslave/mono/build/mcs/class/referencesource/mscorlib/system/collections/generic/dictionary.cs:183 \n",
      "  at OpenMined.Syft.Tensor.Factories.FloatTensorFactory.Get (System.Int32 id) [0x00008] in /Users/yanndupis/Documents/Data_Science/Encrypted_DL/OpenMined/UnityProject/Assets/OpenMined/Syft/Tensor/Factories/FloatTensorFactory.cs:24 \n",
      "  at OpenMined.Syft.Tensor.FloatTensor.Delete () [0x00048] in /Users/yanndupis/Documents/Data_Science/Encrypted_DL/OpenMined/UnityProject/Assets/OpenMined/Syft/Tensor/FloatTensor.Ops.cs:558 \n",
      "  at OpenMined.Syft.Tensor.FloatTensor.ProcessMessage (OpenMined.Network.Utils.Command msgObj, OpenMined.Network.Controllers.SyftController ctrl) [0x00e4c] in /Users/yanndupis/Documents/Data_Science/Encrypted_DL/OpenMined/UnityProject/Assets/OpenMined/Syft/Tensor/FloatTensor.cs:365 \n",
      "  at OpenMined.Network.Controllers.SyftController.processMessage (System.String json_message, UnityEngine.MonoBehaviour owner) [0x002dd] in /Users/yanndupis/Documents/Data_Science/Encrypted_DL/OpenMined/UnityProject/Assets/OpenMined/Network/Controllers/SyftController.cs:231 \n"
     ]
    },
    {
     "name": "stdout",
     "output_type": "stream",
     "text": [
      "Number of Batches:1\n"
     ]
    },
    {
     "data": {
      "application/vnd.jupyter.widget-view+json": {
       "model_id": "d6f37cd977ae4b0c8ffb4ec42e4a6174"
      }
     },
     "metadata": {},
     "output_type": "display_data"
    },
    {
     "data": {
      "application/vnd.jupyter.widget-view+json": {
       "model_id": "b276ab22702344018c8ebbd5be2241c2"
      }
     },
     "metadata": {},
     "output_type": "display_data"
    },
    {
     "name": "stderr",
     "output_type": "stream",
     "text": [
      "Exception ignored in: <object repr() failed>\n",
      "Traceback (most recent call last):\n",
      "  File \"/Users/yanndupis/anaconda2/envs/tflearn/lib/python3.5/site-packages/syft-0.1.0-py3.5.egg/syft/tensor.py\", line 544, in __del__\n",
      "  File \"/Users/yanndupis/anaconda2/envs/tflearn/lib/python3.5/site-packages/syft-0.1.0-py3.5.egg/syft/tensor.py\", line 1516, in delete_tensor\n",
      "  File \"/Users/yanndupis/anaconda2/envs/tflearn/lib/python3.5/site-packages/syft-0.1.0-py3.5.egg/syft/tensor.py\", line 1504, in no_params_func\n",
      "  File \"/Users/yanndupis/anaconda2/envs/tflearn/lib/python3.5/site-packages/syft-0.1.0-py3.5.egg/syft/tensor.py\", line 1486, in params_func\n",
      "  File \"/Users/yanndupis/anaconda2/envs/tflearn/lib/python3.5/site-packages/syft-0.1.0-py3.5.egg/syft/controller.py\", line 143, in send_json\n",
      "Exception: Unity Error: System.Collections.Generic.KeyNotFoundException: The given key was not present in the dictionary.\n",
      "  at System.ThrowHelper.ThrowKeyNotFoundException () [0x00000] in /Users/builduser/buildslave/mono/build/mcs/class/referencesource/mscorlib/system/throwhelper.cs:68 \n",
      "  at System.Collections.Generic.Dictionary`2[TKey,TValue].get_Item (TKey key) [0x0001e] in /Users/builduser/buildslave/mono/build/mcs/class/referencesource/mscorlib/system/collections/generic/dictionary.cs:183 \n",
      "  at OpenMined.Syft.Tensor.Factories.FloatTensorFactory.Get (System.Int32 id) [0x00008] in /Users/yanndupis/Documents/Data_Science/Encrypted_DL/OpenMined/UnityProject/Assets/OpenMined/Syft/Tensor/Factories/FloatTensorFactory.cs:24 \n",
      "  at OpenMined.Syft.Tensor.FloatTensor.Delete () [0x00048] in /Users/yanndupis/Documents/Data_Science/Encrypted_DL/OpenMined/UnityProject/Assets/OpenMined/Syft/Tensor/FloatTensor.Ops.cs:558 \n",
      "  at OpenMined.Syft.Tensor.FloatTensor.ProcessMessage (OpenMined.Network.Utils.Command msgObj, OpenMined.Network.Controllers.SyftController ctrl) [0x00e4c] in /Users/yanndupis/Documents/Data_Science/Encrypted_DL/OpenMined/UnityProject/Assets/OpenMined/Syft/Tensor/FloatTensor.cs:365 \n",
      "  at OpenMined.Network.Controllers.SyftController.processMessage (System.String json_message, UnityEngine.MonoBehaviour owner) [0x002dd] in /Users/yanndupis/Documents/Data_Science/Encrypted_DL/OpenMined/UnityProject/Assets/OpenMined/Network/Controllers/SyftController.cs:231 \n"
     ]
    },
    {
     "name": "stdout",
     "output_type": "stream",
     "text": [
      "Number of Batches:1\n"
     ]
    },
    {
     "data": {
      "application/vnd.jupyter.widget-view+json": {
       "model_id": "c2a214f1c0b8401fae96eb311bb012d3"
      }
     },
     "metadata": {},
     "output_type": "display_data"
    },
    {
     "data": {
      "application/vnd.jupyter.widget-view+json": {
       "model_id": "880448e66a554752907d51c47d378650"
      }
     },
     "metadata": {},
     "output_type": "display_data"
    },
    {
     "name": "stderr",
     "output_type": "stream",
     "text": [
      "Exception ignored in: <object repr() failed>\n",
      "Traceback (most recent call last):\n",
      "  File \"/Users/yanndupis/anaconda2/envs/tflearn/lib/python3.5/site-packages/syft-0.1.0-py3.5.egg/syft/tensor.py\", line 544, in __del__\n",
      "  File \"/Users/yanndupis/anaconda2/envs/tflearn/lib/python3.5/site-packages/syft-0.1.0-py3.5.egg/syft/tensor.py\", line 1516, in delete_tensor\n",
      "  File \"/Users/yanndupis/anaconda2/envs/tflearn/lib/python3.5/site-packages/syft-0.1.0-py3.5.egg/syft/tensor.py\", line 1504, in no_params_func\n",
      "  File \"/Users/yanndupis/anaconda2/envs/tflearn/lib/python3.5/site-packages/syft-0.1.0-py3.5.egg/syft/tensor.py\", line 1486, in params_func\n",
      "  File \"/Users/yanndupis/anaconda2/envs/tflearn/lib/python3.5/site-packages/syft-0.1.0-py3.5.egg/syft/controller.py\", line 143, in send_json\n",
      "Exception: Unity Error: System.Collections.Generic.KeyNotFoundException: The given key was not present in the dictionary.\n",
      "  at System.ThrowHelper.ThrowKeyNotFoundException () [0x00000] in /Users/builduser/buildslave/mono/build/mcs/class/referencesource/mscorlib/system/throwhelper.cs:68 \n",
      "  at System.Collections.Generic.Dictionary`2[TKey,TValue].get_Item (TKey key) [0x0001e] in /Users/builduser/buildslave/mono/build/mcs/class/referencesource/mscorlib/system/collections/generic/dictionary.cs:183 \n",
      "  at OpenMined.Syft.Tensor.Factories.FloatTensorFactory.Get (System.Int32 id) [0x00008] in /Users/yanndupis/Documents/Data_Science/Encrypted_DL/OpenMined/UnityProject/Assets/OpenMined/Syft/Tensor/Factories/FloatTensorFactory.cs:24 \n",
      "  at OpenMined.Syft.Tensor.FloatTensor.Delete () [0x00048] in /Users/yanndupis/Documents/Data_Science/Encrypted_DL/OpenMined/UnityProject/Assets/OpenMined/Syft/Tensor/FloatTensor.Ops.cs:558 \n",
      "  at OpenMined.Syft.Tensor.FloatTensor.ProcessMessage (OpenMined.Network.Utils.Command msgObj, OpenMined.Network.Controllers.SyftController ctrl) [0x00e4c] in /Users/yanndupis/Documents/Data_Science/Encrypted_DL/OpenMined/UnityProject/Assets/OpenMined/Syft/Tensor/FloatTensor.cs:365 \n",
      "  at OpenMined.Network.Controllers.SyftController.processMessage (System.String json_message, UnityEngine.MonoBehaviour owner) [0x002dd] in /Users/yanndupis/Documents/Data_Science/Encrypted_DL/OpenMined/UnityProject/Assets/OpenMined/Network/Controllers/SyftController.cs:231 \n"
     ]
    },
    {
     "name": "stdout",
     "output_type": "stream",
     "text": [
      "Number of Batches:1\n"
     ]
    },
    {
     "data": {
      "application/vnd.jupyter.widget-view+json": {
       "model_id": "f2ca5734ad5647a6be354d8b65a5610e"
      }
     },
     "metadata": {},
     "output_type": "display_data"
    },
    {
     "data": {
      "application/vnd.jupyter.widget-view+json": {
       "model_id": "2014267126164e8c9048f258c3eea5b7"
      }
     },
     "metadata": {},
     "output_type": "display_data"
    },
    {
     "name": "stderr",
     "output_type": "stream",
     "text": [
      "Exception ignored in: <object repr() failed>\n",
      "Traceback (most recent call last):\n",
      "  File \"/Users/yanndupis/anaconda2/envs/tflearn/lib/python3.5/site-packages/syft-0.1.0-py3.5.egg/syft/tensor.py\", line 544, in __del__\n",
      "  File \"/Users/yanndupis/anaconda2/envs/tflearn/lib/python3.5/site-packages/syft-0.1.0-py3.5.egg/syft/tensor.py\", line 1516, in delete_tensor\n",
      "  File \"/Users/yanndupis/anaconda2/envs/tflearn/lib/python3.5/site-packages/syft-0.1.0-py3.5.egg/syft/tensor.py\", line 1504, in no_params_func\n",
      "  File \"/Users/yanndupis/anaconda2/envs/tflearn/lib/python3.5/site-packages/syft-0.1.0-py3.5.egg/syft/tensor.py\", line 1486, in params_func\n",
      "  File \"/Users/yanndupis/anaconda2/envs/tflearn/lib/python3.5/site-packages/syft-0.1.0-py3.5.egg/syft/controller.py\", line 143, in send_json\n",
      "Exception: Unity Error: System.Collections.Generic.KeyNotFoundException: The given key was not present in the dictionary.\n",
      "  at System.ThrowHelper.ThrowKeyNotFoundException () [0x00000] in /Users/builduser/buildslave/mono/build/mcs/class/referencesource/mscorlib/system/throwhelper.cs:68 \n",
      "  at System.Collections.Generic.Dictionary`2[TKey,TValue].get_Item (TKey key) [0x0001e] in /Users/builduser/buildslave/mono/build/mcs/class/referencesource/mscorlib/system/collections/generic/dictionary.cs:183 \n",
      "  at OpenMined.Syft.Tensor.Factories.FloatTensorFactory.Get (System.Int32 id) [0x00008] in /Users/yanndupis/Documents/Data_Science/Encrypted_DL/OpenMined/UnityProject/Assets/OpenMined/Syft/Tensor/Factories/FloatTensorFactory.cs:24 \n",
      "  at OpenMined.Syft.Tensor.FloatTensor.Delete () [0x00048] in /Users/yanndupis/Documents/Data_Science/Encrypted_DL/OpenMined/UnityProject/Assets/OpenMined/Syft/Tensor/FloatTensor.Ops.cs:558 \n",
      "  at OpenMined.Syft.Tensor.FloatTensor.ProcessMessage (OpenMined.Network.Utils.Command msgObj, OpenMined.Network.Controllers.SyftController ctrl) [0x00e4c] in /Users/yanndupis/Documents/Data_Science/Encrypted_DL/OpenMined/UnityProject/Assets/OpenMined/Syft/Tensor/FloatTensor.cs:365 \n",
      "  at OpenMined.Network.Controllers.SyftController.processMessage (System.String json_message, UnityEngine.MonoBehaviour owner) [0x002dd] in /Users/yanndupis/Documents/Data_Science/Encrypted_DL/OpenMined/UnityProject/Assets/OpenMined/Network/Controllers/SyftController.cs:231 \n"
     ]
    },
    {
     "name": "stdout",
     "output_type": "stream",
     "text": [
      "Number of Batches:1\n"
     ]
    },
    {
     "data": {
      "application/vnd.jupyter.widget-view+json": {
       "model_id": "ab9c5a0ab5374119a8a21da50c97e2c0"
      }
     },
     "metadata": {},
     "output_type": "display_data"
    },
    {
     "data": {
      "application/vnd.jupyter.widget-view+json": {
       "model_id": "b9fdefc81345488e97e2a6a3f1a56643"
      }
     },
     "metadata": {},
     "output_type": "display_data"
    },
    {
     "name": "stderr",
     "output_type": "stream",
     "text": [
      "Exception ignored in: <object repr() failed>\n",
      "Traceback (most recent call last):\n",
      "  File \"/Users/yanndupis/anaconda2/envs/tflearn/lib/python3.5/site-packages/syft-0.1.0-py3.5.egg/syft/tensor.py\", line 544, in __del__\n",
      "  File \"/Users/yanndupis/anaconda2/envs/tflearn/lib/python3.5/site-packages/syft-0.1.0-py3.5.egg/syft/tensor.py\", line 1516, in delete_tensor\n",
      "  File \"/Users/yanndupis/anaconda2/envs/tflearn/lib/python3.5/site-packages/syft-0.1.0-py3.5.egg/syft/tensor.py\", line 1504, in no_params_func\n",
      "  File \"/Users/yanndupis/anaconda2/envs/tflearn/lib/python3.5/site-packages/syft-0.1.0-py3.5.egg/syft/tensor.py\", line 1486, in params_func\n",
      "  File \"/Users/yanndupis/anaconda2/envs/tflearn/lib/python3.5/site-packages/syft-0.1.0-py3.5.egg/syft/controller.py\", line 143, in send_json\n",
      "Exception: Unity Error: System.Collections.Generic.KeyNotFoundException: The given key was not present in the dictionary.\n",
      "  at System.ThrowHelper.ThrowKeyNotFoundException () [0x00000] in /Users/builduser/buildslave/mono/build/mcs/class/referencesource/mscorlib/system/throwhelper.cs:68 \n",
      "  at System.Collections.Generic.Dictionary`2[TKey,TValue].get_Item (TKey key) [0x0001e] in /Users/builduser/buildslave/mono/build/mcs/class/referencesource/mscorlib/system/collections/generic/dictionary.cs:183 \n",
      "  at OpenMined.Syft.Tensor.Factories.FloatTensorFactory.Get (System.Int32 id) [0x00008] in /Users/yanndupis/Documents/Data_Science/Encrypted_DL/OpenMined/UnityProject/Assets/OpenMined/Syft/Tensor/Factories/FloatTensorFactory.cs:24 \n",
      "  at OpenMined.Syft.Tensor.FloatTensor.Delete () [0x00048] in /Users/yanndupis/Documents/Data_Science/Encrypted_DL/OpenMined/UnityProject/Assets/OpenMined/Syft/Tensor/FloatTensor.Ops.cs:558 \n",
      "  at OpenMined.Syft.Tensor.FloatTensor.ProcessMessage (OpenMined.Network.Utils.Command msgObj, OpenMined.Network.Controllers.SyftController ctrl) [0x00e4c] in /Users/yanndupis/Documents/Data_Science/Encrypted_DL/OpenMined/UnityProject/Assets/OpenMined/Syft/Tensor/FloatTensor.cs:365 \n",
      "  at OpenMined.Network.Controllers.SyftController.processMessage (System.String json_message, UnityEngine.MonoBehaviour owner) [0x002dd] in /Users/yanndupis/Documents/Data_Science/Encrypted_DL/OpenMined/UnityProject/Assets/OpenMined/Network/Controllers/SyftController.cs:231 \n",
      "Exception ignored in: <object repr() failed>\n",
      "Traceback (most recent call last):\n",
      "  File \"/Users/yanndupis/anaconda2/envs/tflearn/lib/python3.5/site-packages/syft-0.1.0-py3.5.egg/syft/tensor.py\", line 544, in __del__\n",
      "  File \"/Users/yanndupis/anaconda2/envs/tflearn/lib/python3.5/site-packages/syft-0.1.0-py3.5.egg/syft/tensor.py\", line 1516, in delete_tensor\n",
      "  File \"/Users/yanndupis/anaconda2/envs/tflearn/lib/python3.5/site-packages/syft-0.1.0-py3.5.egg/syft/tensor.py\", line 1504, in no_params_func\n",
      "  File \"/Users/yanndupis/anaconda2/envs/tflearn/lib/python3.5/site-packages/syft-0.1.0-py3.5.egg/syft/tensor.py\", line 1486, in params_func\n",
      "  File \"/Users/yanndupis/anaconda2/envs/tflearn/lib/python3.5/site-packages/syft-0.1.0-py3.5.egg/syft/controller.py\", line 143, in send_json\n",
      "Exception: Unity Error: System.Collections.Generic.KeyNotFoundException: The given key was not present in the dictionary.\n",
      "  at System.ThrowHelper.ThrowKeyNotFoundException () [0x00000] in /Users/builduser/buildslave/mono/build/mcs/class/referencesource/mscorlib/system/throwhelper.cs:68 \n",
      "  at System.Collections.Generic.Dictionary`2[TKey,TValue].get_Item (TKey key) [0x0001e] in /Users/builduser/buildslave/mono/build/mcs/class/referencesource/mscorlib/system/collections/generic/dictionary.cs:183 \n",
      "  at OpenMined.Syft.Tensor.Factories.FloatTensorFactory.Get (System.Int32 id) [0x00008] in /Users/yanndupis/Documents/Data_Science/Encrypted_DL/OpenMined/UnityProject/Assets/OpenMined/Syft/Tensor/Factories/FloatTensorFactory.cs:24 \n",
      "  at OpenMined.Syft.Tensor.FloatTensor.Delete () [0x00048] in /Users/yanndupis/Documents/Data_Science/Encrypted_DL/OpenMined/UnityProject/Assets/OpenMined/Syft/Tensor/FloatTensor.Ops.cs:558 \n",
      "  at OpenMined.Syft.Tensor.FloatTensor.ProcessMessage (OpenMined.Network.Utils.Command msgObj, OpenMined.Network.Controllers.SyftController ctrl) [0x00e4c] in /Users/yanndupis/Documents/Data_Science/Encrypted_DL/OpenMined/UnityProject/Assets/OpenMined/Syft/Tensor/FloatTensor.cs:365 \n",
      "  at OpenMined.Network.Controllers.SyftController.processMessage (System.String json_message, UnityEngine.MonoBehaviour owner) [0x002dd] in /Users/yanndupis/Documents/Data_Science/Encrypted_DL/OpenMined/UnityProject/Assets/OpenMined/Network/Controllers/SyftController.cs:231 \n",
      "Exception ignored in: <object repr() failed>\n",
      "Traceback (most recent call last):\n",
      "  File \"/Users/yanndupis/anaconda2/envs/tflearn/lib/python3.5/site-packages/syft-0.1.0-py3.5.egg/syft/tensor.py\", line 544, in __del__\n",
      "  File \"/Users/yanndupis/anaconda2/envs/tflearn/lib/python3.5/site-packages/syft-0.1.0-py3.5.egg/syft/tensor.py\", line 1516, in delete_tensor\n",
      "  File \"/Users/yanndupis/anaconda2/envs/tflearn/lib/python3.5/site-packages/syft-0.1.0-py3.5.egg/syft/tensor.py\", line 1504, in no_params_func\n",
      "  File \"/Users/yanndupis/anaconda2/envs/tflearn/lib/python3.5/site-packages/syft-0.1.0-py3.5.egg/syft/tensor.py\", line 1486, in params_func\n",
      "  File \"/Users/yanndupis/anaconda2/envs/tflearn/lib/python3.5/site-packages/syft-0.1.0-py3.5.egg/syft/controller.py\", line 143, in send_json\n",
      "Exception: Unity Error: System.Collections.Generic.KeyNotFoundException: The given key was not present in the dictionary.\n",
      "  at System.ThrowHelper.ThrowKeyNotFoundException () [0x00000] in /Users/builduser/buildslave/mono/build/mcs/class/referencesource/mscorlib/system/throwhelper.cs:68 \n",
      "  at System.Collections.Generic.Dictionary`2[TKey,TValue].get_Item (TKey key) [0x0001e] in /Users/builduser/buildslave/mono/build/mcs/class/referencesource/mscorlib/system/collections/generic/dictionary.cs:183 \n",
      "  at OpenMined.Syft.Tensor.Factories.FloatTensorFactory.Get (System.Int32 id) [0x00008] in /Users/yanndupis/Documents/Data_Science/Encrypted_DL/OpenMined/UnityProject/Assets/OpenMined/Syft/Tensor/Factories/FloatTensorFactory.cs:24 \n",
      "  at OpenMined.Syft.Tensor.FloatTensor.Delete () [0x00048] in /Users/yanndupis/Documents/Data_Science/Encrypted_DL/OpenMined/UnityProject/Assets/OpenMined/Syft/Tensor/FloatTensor.Ops.cs:558 \n",
      "  at OpenMined.Syft.Tensor.FloatTensor.ProcessMessage (OpenMined.Network.Utils.Command msgObj, OpenMined.Network.Controllers.SyftController ctrl) [0x00e4c] in /Users/yanndupis/Documents/Data_Science/Encrypted_DL/OpenMined/UnityProject/Assets/OpenMined/Syft/Tensor/FloatTensor.cs:365 \n",
      "  at OpenMined.Network.Controllers.SyftController.processMessage (System.String json_message, UnityEngine.MonoBehaviour owner) [0x002dd] in /Users/yanndupis/Documents/Data_Science/Encrypted_DL/OpenMined/UnityProject/Assets/OpenMined/Network/Controllers/SyftController.cs:231 \n",
      "Exception ignored in: <object repr() failed>\n",
      "Traceback (most recent call last):\n",
      "  File \"/Users/yanndupis/anaconda2/envs/tflearn/lib/python3.5/site-packages/syft-0.1.0-py3.5.egg/syft/tensor.py\", line 544, in __del__\n",
      "  File \"/Users/yanndupis/anaconda2/envs/tflearn/lib/python3.5/site-packages/syft-0.1.0-py3.5.egg/syft/tensor.py\", line 1516, in delete_tensor\n",
      "  File \"/Users/yanndupis/anaconda2/envs/tflearn/lib/python3.5/site-packages/syft-0.1.0-py3.5.egg/syft/tensor.py\", line 1504, in no_params_func\n",
      "  File \"/Users/yanndupis/anaconda2/envs/tflearn/lib/python3.5/site-packages/syft-0.1.0-py3.5.egg/syft/tensor.py\", line 1486, in params_func\n",
      "  File \"/Users/yanndupis/anaconda2/envs/tflearn/lib/python3.5/site-packages/syft-0.1.0-py3.5.egg/syft/controller.py\", line 143, in send_json\n",
      "Exception: Unity Error: System.Collections.Generic.KeyNotFoundException: The given key was not present in the dictionary.\n",
      "  at System.ThrowHelper.ThrowKeyNotFoundException () [0x00000] in /Users/builduser/buildslave/mono/build/mcs/class/referencesource/mscorlib/system/throwhelper.cs:68 \n",
      "  at System.Collections.Generic.Dictionary`2[TKey,TValue].get_Item (TKey key) [0x0001e] in /Users/builduser/buildslave/mono/build/mcs/class/referencesource/mscorlib/system/collections/generic/dictionary.cs:183 \n",
      "  at OpenMined.Syft.Tensor.Factories.FloatTensorFactory.Get (System.Int32 id) [0x00008] in /Users/yanndupis/Documents/Data_Science/Encrypted_DL/OpenMined/UnityProject/Assets/OpenMined/Syft/Tensor/Factories/FloatTensorFactory.cs:24 \n",
      "  at OpenMined.Syft.Tensor.FloatTensor.Delete () [0x00048] in /Users/yanndupis/Documents/Data_Science/Encrypted_DL/OpenMined/UnityProject/Assets/OpenMined/Syft/Tensor/FloatTensor.Ops.cs:558 \n",
      "  at OpenMined.Syft.Tensor.FloatTensor.ProcessMessage (OpenMined.Network.Utils.Command msgObj, OpenMined.Network.Controllers.SyftController ctrl) [0x00e4c] in /Users/yanndupis/Documents/Data_Science/Encrypted_DL/OpenMined/UnityProject/Assets/OpenMined/Syft/Tensor/FloatTensor.cs:365 \n",
      "  at OpenMined.Network.Controllers.SyftController.processMessage (System.String json_message, UnityEngine.MonoBehaviour owner) [0x002dd] in /Users/yanndupis/Documents/Data_Science/Encrypted_DL/OpenMined/UnityProject/Assets/OpenMined/Network/Controllers/SyftController.cs:231 \n"
     ]
    },
    {
     "name": "stderr",
     "output_type": "stream",
     "text": [
      "Exception ignored in: <object repr() failed>\n",
      "Traceback (most recent call last):\n",
      "  File \"/Users/yanndupis/anaconda2/envs/tflearn/lib/python3.5/site-packages/syft-0.1.0-py3.5.egg/syft/tensor.py\", line 544, in __del__\n",
      "  File \"/Users/yanndupis/anaconda2/envs/tflearn/lib/python3.5/site-packages/syft-0.1.0-py3.5.egg/syft/tensor.py\", line 1516, in delete_tensor\n",
      "  File \"/Users/yanndupis/anaconda2/envs/tflearn/lib/python3.5/site-packages/syft-0.1.0-py3.5.egg/syft/tensor.py\", line 1504, in no_params_func\n",
      "  File \"/Users/yanndupis/anaconda2/envs/tflearn/lib/python3.5/site-packages/syft-0.1.0-py3.5.egg/syft/tensor.py\", line 1486, in params_func\n",
      "  File \"/Users/yanndupis/anaconda2/envs/tflearn/lib/python3.5/site-packages/syft-0.1.0-py3.5.egg/syft/controller.py\", line 143, in send_json\n",
      "Exception: Unity Error: System.Collections.Generic.KeyNotFoundException: The given key was not present in the dictionary.\n",
      "  at System.ThrowHelper.ThrowKeyNotFoundException () [0x00000] in /Users/builduser/buildslave/mono/build/mcs/class/referencesource/mscorlib/system/throwhelper.cs:68 \n",
      "  at System.Collections.Generic.Dictionary`2[TKey,TValue].get_Item (TKey key) [0x0001e] in /Users/builduser/buildslave/mono/build/mcs/class/referencesource/mscorlib/system/collections/generic/dictionary.cs:183 \n",
      "  at OpenMined.Syft.Tensor.Factories.FloatTensorFactory.Get (System.Int32 id) [0x00008] in /Users/yanndupis/Documents/Data_Science/Encrypted_DL/OpenMined/UnityProject/Assets/OpenMined/Syft/Tensor/Factories/FloatTensorFactory.cs:24 \n",
      "  at OpenMined.Syft.Tensor.FloatTensor.Delete () [0x00048] in /Users/yanndupis/Documents/Data_Science/Encrypted_DL/OpenMined/UnityProject/Assets/OpenMined/Syft/Tensor/FloatTensor.Ops.cs:558 \n",
      "  at OpenMined.Syft.Tensor.FloatTensor.ProcessMessage (OpenMined.Network.Utils.Command msgObj, OpenMined.Network.Controllers.SyftController ctrl) [0x00e4c] in /Users/yanndupis/Documents/Data_Science/Encrypted_DL/OpenMined/UnityProject/Assets/OpenMined/Syft/Tensor/FloatTensor.cs:365 \n",
      "  at OpenMined.Network.Controllers.SyftController.processMessage (System.String json_message, UnityEngine.MonoBehaviour owner) [0x002dd] in /Users/yanndupis/Documents/Data_Science/Encrypted_DL/OpenMined/UnityProject/Assets/OpenMined/Network/Controllers/SyftController.cs:231 \n",
      "Exception ignored in: <object repr() failed>\n",
      "Traceback (most recent call last):\n",
      "  File \"/Users/yanndupis/anaconda2/envs/tflearn/lib/python3.5/site-packages/syft-0.1.0-py3.5.egg/syft/tensor.py\", line 544, in __del__\n",
      "  File \"/Users/yanndupis/anaconda2/envs/tflearn/lib/python3.5/site-packages/syft-0.1.0-py3.5.egg/syft/tensor.py\", line 1516, in delete_tensor\n",
      "  File \"/Users/yanndupis/anaconda2/envs/tflearn/lib/python3.5/site-packages/syft-0.1.0-py3.5.egg/syft/tensor.py\", line 1504, in no_params_func\n",
      "  File \"/Users/yanndupis/anaconda2/envs/tflearn/lib/python3.5/site-packages/syft-0.1.0-py3.5.egg/syft/tensor.py\", line 1486, in params_func\n",
      "  File \"/Users/yanndupis/anaconda2/envs/tflearn/lib/python3.5/site-packages/syft-0.1.0-py3.5.egg/syft/controller.py\", line 143, in send_json\n",
      "Exception: Unity Error: System.Collections.Generic.KeyNotFoundException: The given key was not present in the dictionary.\n",
      "  at System.ThrowHelper.ThrowKeyNotFoundException () [0x00000] in /Users/builduser/buildslave/mono/build/mcs/class/referencesource/mscorlib/system/throwhelper.cs:68 \n",
      "  at System.Collections.Generic.Dictionary`2[TKey,TValue].get_Item (TKey key) [0x0001e] in /Users/builduser/buildslave/mono/build/mcs/class/referencesource/mscorlib/system/collections/generic/dictionary.cs:183 \n",
      "  at OpenMined.Syft.Tensor.Factories.FloatTensorFactory.Get (System.Int32 id) [0x00008] in /Users/yanndupis/Documents/Data_Science/Encrypted_DL/OpenMined/UnityProject/Assets/OpenMined/Syft/Tensor/Factories/FloatTensorFactory.cs:24 \n",
      "  at OpenMined.Syft.Tensor.FloatTensor.Delete () [0x00048] in /Users/yanndupis/Documents/Data_Science/Encrypted_DL/OpenMined/UnityProject/Assets/OpenMined/Syft/Tensor/FloatTensor.Ops.cs:558 \n",
      "  at OpenMined.Syft.Tensor.FloatTensor.ProcessMessage (OpenMined.Network.Utils.Command msgObj, OpenMined.Network.Controllers.SyftController ctrl) [0x00e4c] in /Users/yanndupis/Documents/Data_Science/Encrypted_DL/OpenMined/UnityProject/Assets/OpenMined/Syft/Tensor/FloatTensor.cs:365 \n",
      "  at OpenMined.Network.Controllers.SyftController.processMessage (System.String json_message, UnityEngine.MonoBehaviour owner) [0x002dd] in /Users/yanndupis/Documents/Data_Science/Encrypted_DL/OpenMined/UnityProject/Assets/OpenMined/Network/Controllers/SyftController.cs:231 \n",
      "Exception ignored in: <object repr() failed>\n",
      "Traceback (most recent call last):\n",
      "  File \"/Users/yanndupis/anaconda2/envs/tflearn/lib/python3.5/site-packages/syft-0.1.0-py3.5.egg/syft/tensor.py\", line 544, in __del__\n",
      "  File \"/Users/yanndupis/anaconda2/envs/tflearn/lib/python3.5/site-packages/syft-0.1.0-py3.5.egg/syft/tensor.py\", line 1516, in delete_tensor\n",
      "  File \"/Users/yanndupis/anaconda2/envs/tflearn/lib/python3.5/site-packages/syft-0.1.0-py3.5.egg/syft/tensor.py\", line 1504, in no_params_func\n",
      "  File \"/Users/yanndupis/anaconda2/envs/tflearn/lib/python3.5/site-packages/syft-0.1.0-py3.5.egg/syft/tensor.py\", line 1486, in params_func\n",
      "  File \"/Users/yanndupis/anaconda2/envs/tflearn/lib/python3.5/site-packages/syft-0.1.0-py3.5.egg/syft/controller.py\", line 143, in send_json\n",
      "Exception: Unity Error: System.Collections.Generic.KeyNotFoundException: The given key was not present in the dictionary.\n",
      "  at System.ThrowHelper.ThrowKeyNotFoundException () [0x00000] in /Users/builduser/buildslave/mono/build/mcs/class/referencesource/mscorlib/system/throwhelper.cs:68 \n",
      "  at System.Collections.Generic.Dictionary`2[TKey,TValue].get_Item (TKey key) [0x0001e] in /Users/builduser/buildslave/mono/build/mcs/class/referencesource/mscorlib/system/collections/generic/dictionary.cs:183 \n",
      "  at OpenMined.Syft.Tensor.Factories.FloatTensorFactory.Get (System.Int32 id) [0x00008] in /Users/yanndupis/Documents/Data_Science/Encrypted_DL/OpenMined/UnityProject/Assets/OpenMined/Syft/Tensor/Factories/FloatTensorFactory.cs:24 \n",
      "  at OpenMined.Syft.Tensor.FloatTensor.Delete () [0x00048] in /Users/yanndupis/Documents/Data_Science/Encrypted_DL/OpenMined/UnityProject/Assets/OpenMined/Syft/Tensor/FloatTensor.Ops.cs:558 \n",
      "  at OpenMined.Syft.Tensor.FloatTensor.ProcessMessage (OpenMined.Network.Utils.Command msgObj, OpenMined.Network.Controllers.SyftController ctrl) [0x00e4c] in /Users/yanndupis/Documents/Data_Science/Encrypted_DL/OpenMined/UnityProject/Assets/OpenMined/Syft/Tensor/FloatTensor.cs:365 \n",
      "  at OpenMined.Network.Controllers.SyftController.processMessage (System.String json_message, UnityEngine.MonoBehaviour owner) [0x002dd] in /Users/yanndupis/Documents/Data_Science/Encrypted_DL/OpenMined/UnityProject/Assets/OpenMined/Network/Controllers/SyftController.cs:231 \n",
      "Exception ignored in: <object repr() failed>\n",
      "Traceback (most recent call last):\n",
      "  File \"/Users/yanndupis/anaconda2/envs/tflearn/lib/python3.5/site-packages/syft-0.1.0-py3.5.egg/syft/tensor.py\", line 544, in __del__\n",
      "  File \"/Users/yanndupis/anaconda2/envs/tflearn/lib/python3.5/site-packages/syft-0.1.0-py3.5.egg/syft/tensor.py\", line 1516, in delete_tensor\n",
      "  File \"/Users/yanndupis/anaconda2/envs/tflearn/lib/python3.5/site-packages/syft-0.1.0-py3.5.egg/syft/tensor.py\", line 1504, in no_params_func\n",
      "  File \"/Users/yanndupis/anaconda2/envs/tflearn/lib/python3.5/site-packages/syft-0.1.0-py3.5.egg/syft/tensor.py\", line 1486, in params_func\n",
      "  File \"/Users/yanndupis/anaconda2/envs/tflearn/lib/python3.5/site-packages/syft-0.1.0-py3.5.egg/syft/controller.py\", line 143, in send_json\n",
      "Exception: Unity Error: System.Collections.Generic.KeyNotFoundException: The given key was not present in the dictionary.\n",
      "  at System.ThrowHelper.ThrowKeyNotFoundException () [0x00000] in /Users/builduser/buildslave/mono/build/mcs/class/referencesource/mscorlib/system/throwhelper.cs:68 \n",
      "  at System.Collections.Generic.Dictionary`2[TKey,TValue].get_Item (TKey key) [0x0001e] in /Users/builduser/buildslave/mono/build/mcs/class/referencesource/mscorlib/system/collections/generic/dictionary.cs:183 \n",
      "  at OpenMined.Syft.Tensor.Factories.FloatTensorFactory.Get (System.Int32 id) [0x00008] in /Users/yanndupis/Documents/Data_Science/Encrypted_DL/OpenMined/UnityProject/Assets/OpenMined/Syft/Tensor/Factories/FloatTensorFactory.cs:24 \n",
      "  at OpenMined.Syft.Tensor.FloatTensor.Delete () [0x00048] in /Users/yanndupis/Documents/Data_Science/Encrypted_DL/OpenMined/UnityProject/Assets/OpenMined/Syft/Tensor/FloatTensor.Ops.cs:558 \n",
      "  at OpenMined.Syft.Tensor.FloatTensor.ProcessMessage (OpenMined.Network.Utils.Command msgObj, OpenMined.Network.Controllers.SyftController ctrl) [0x00e4c] in /Users/yanndupis/Documents/Data_Science/Encrypted_DL/OpenMined/UnityProject/Assets/OpenMined/Syft/Tensor/FloatTensor.cs:365 \n",
      "  at OpenMined.Network.Controllers.SyftController.processMessage (System.String json_message, UnityEngine.MonoBehaviour owner) [0x002dd] in /Users/yanndupis/Documents/Data_Science/Encrypted_DL/OpenMined/UnityProject/Assets/OpenMined/Network/Controllers/SyftController.cs:231 \n"
     ]
    },
    {
     "name": "stderr",
     "output_type": "stream",
     "text": [
      "Exception ignored in: <object repr() failed>\n",
      "Traceback (most recent call last):\n",
      "  File \"/Users/yanndupis/anaconda2/envs/tflearn/lib/python3.5/site-packages/syft-0.1.0-py3.5.egg/syft/tensor.py\", line 544, in __del__\n",
      "  File \"/Users/yanndupis/anaconda2/envs/tflearn/lib/python3.5/site-packages/syft-0.1.0-py3.5.egg/syft/tensor.py\", line 1516, in delete_tensor\n",
      "  File \"/Users/yanndupis/anaconda2/envs/tflearn/lib/python3.5/site-packages/syft-0.1.0-py3.5.egg/syft/tensor.py\", line 1504, in no_params_func\n",
      "  File \"/Users/yanndupis/anaconda2/envs/tflearn/lib/python3.5/site-packages/syft-0.1.0-py3.5.egg/syft/tensor.py\", line 1486, in params_func\n",
      "  File \"/Users/yanndupis/anaconda2/envs/tflearn/lib/python3.5/site-packages/syft-0.1.0-py3.5.egg/syft/controller.py\", line 143, in send_json\n",
      "Exception: Unity Error: System.Collections.Generic.KeyNotFoundException: The given key was not present in the dictionary.\n",
      "  at System.ThrowHelper.ThrowKeyNotFoundException () [0x00000] in /Users/builduser/buildslave/mono/build/mcs/class/referencesource/mscorlib/system/throwhelper.cs:68 \n",
      "  at System.Collections.Generic.Dictionary`2[TKey,TValue].get_Item (TKey key) [0x0001e] in /Users/builduser/buildslave/mono/build/mcs/class/referencesource/mscorlib/system/collections/generic/dictionary.cs:183 \n",
      "  at OpenMined.Syft.Tensor.Factories.FloatTensorFactory.Get (System.Int32 id) [0x00008] in /Users/yanndupis/Documents/Data_Science/Encrypted_DL/OpenMined/UnityProject/Assets/OpenMined/Syft/Tensor/Factories/FloatTensorFactory.cs:24 \n",
      "  at OpenMined.Syft.Tensor.FloatTensor.Delete () [0x00048] in /Users/yanndupis/Documents/Data_Science/Encrypted_DL/OpenMined/UnityProject/Assets/OpenMined/Syft/Tensor/FloatTensor.Ops.cs:558 \n",
      "  at OpenMined.Syft.Tensor.FloatTensor.ProcessMessage (OpenMined.Network.Utils.Command msgObj, OpenMined.Network.Controllers.SyftController ctrl) [0x00e4c] in /Users/yanndupis/Documents/Data_Science/Encrypted_DL/OpenMined/UnityProject/Assets/OpenMined/Syft/Tensor/FloatTensor.cs:365 \n",
      "  at OpenMined.Network.Controllers.SyftController.processMessage (System.String json_message, UnityEngine.MonoBehaviour owner) [0x002dd] in /Users/yanndupis/Documents/Data_Science/Encrypted_DL/OpenMined/UnityProject/Assets/OpenMined/Network/Controllers/SyftController.cs:231 \n"
     ]
    },
    {
     "name": "stdout",
     "output_type": "stream",
     "text": [
      "Number of Batches:1\n"
     ]
    },
    {
     "data": {
      "application/vnd.jupyter.widget-view+json": {
       "model_id": "ab576288ffb34054975d5376aa52c2b0"
      }
     },
     "metadata": {},
     "output_type": "display_data"
    },
    {
     "data": {
      "application/vnd.jupyter.widget-view+json": {
       "model_id": "d18a6d7b0a034871b41a76dcefe5fc35"
      }
     },
     "metadata": {},
     "output_type": "display_data"
    },
    {
     "name": "stderr",
     "output_type": "stream",
     "text": [
      "Exception ignored in: <object repr() failed>\n",
      "Traceback (most recent call last):\n",
      "  File \"/Users/yanndupis/anaconda2/envs/tflearn/lib/python3.5/site-packages/syft-0.1.0-py3.5.egg/syft/tensor.py\", line 544, in __del__\n",
      "  File \"/Users/yanndupis/anaconda2/envs/tflearn/lib/python3.5/site-packages/syft-0.1.0-py3.5.egg/syft/tensor.py\", line 1516, in delete_tensor\n",
      "  File \"/Users/yanndupis/anaconda2/envs/tflearn/lib/python3.5/site-packages/syft-0.1.0-py3.5.egg/syft/tensor.py\", line 1504, in no_params_func\n",
      "  File \"/Users/yanndupis/anaconda2/envs/tflearn/lib/python3.5/site-packages/syft-0.1.0-py3.5.egg/syft/tensor.py\", line 1486, in params_func\n",
      "  File \"/Users/yanndupis/anaconda2/envs/tflearn/lib/python3.5/site-packages/syft-0.1.0-py3.5.egg/syft/controller.py\", line 143, in send_json\n",
      "Exception: Unity Error: System.Collections.Generic.KeyNotFoundException: The given key was not present in the dictionary.\n",
      "  at System.ThrowHelper.ThrowKeyNotFoundException () [0x00000] in /Users/builduser/buildslave/mono/build/mcs/class/referencesource/mscorlib/system/throwhelper.cs:68 \n",
      "  at System.Collections.Generic.Dictionary`2[TKey,TValue].get_Item (TKey key) [0x0001e] in /Users/builduser/buildslave/mono/build/mcs/class/referencesource/mscorlib/system/collections/generic/dictionary.cs:183 \n",
      "  at OpenMined.Syft.Tensor.Factories.FloatTensorFactory.Get (System.Int32 id) [0x00008] in /Users/yanndupis/Documents/Data_Science/Encrypted_DL/OpenMined/UnityProject/Assets/OpenMined/Syft/Tensor/Factories/FloatTensorFactory.cs:24 \n",
      "  at OpenMined.Syft.Tensor.FloatTensor.Delete () [0x00048] in /Users/yanndupis/Documents/Data_Science/Encrypted_DL/OpenMined/UnityProject/Assets/OpenMined/Syft/Tensor/FloatTensor.Ops.cs:558 \n",
      "  at OpenMined.Syft.Tensor.FloatTensor.ProcessMessage (OpenMined.Network.Utils.Command msgObj, OpenMined.Network.Controllers.SyftController ctrl) [0x00e4c] in /Users/yanndupis/Documents/Data_Science/Encrypted_DL/OpenMined/UnityProject/Assets/OpenMined/Syft/Tensor/FloatTensor.cs:365 \n",
      "  at OpenMined.Network.Controllers.SyftController.processMessage (System.String json_message, UnityEngine.MonoBehaviour owner) [0x002dd] in /Users/yanndupis/Documents/Data_Science/Encrypted_DL/OpenMined/UnityProject/Assets/OpenMined/Network/Controllers/SyftController.cs:231 \n"
     ]
    },
    {
     "name": "stdout",
     "output_type": "stream",
     "text": [
      "Number of Batches:1\n"
     ]
    },
    {
     "data": {
      "application/vnd.jupyter.widget-view+json": {
       "model_id": "47ec100a33b84834a9060f021314da9a"
      }
     },
     "metadata": {},
     "output_type": "display_data"
    },
    {
     "data": {
      "application/vnd.jupyter.widget-view+json": {
       "model_id": "a0089dd2e4fa4d038f16786e3703e7a2"
      }
     },
     "metadata": {},
     "output_type": "display_data"
    },
    {
     "name": "stderr",
     "output_type": "stream",
     "text": [
      "Exception ignored in: <object repr() failed>\n",
      "Traceback (most recent call last):\n",
      "  File \"/Users/yanndupis/anaconda2/envs/tflearn/lib/python3.5/site-packages/syft-0.1.0-py3.5.egg/syft/tensor.py\", line 544, in __del__\n",
      "  File \"/Users/yanndupis/anaconda2/envs/tflearn/lib/python3.5/site-packages/syft-0.1.0-py3.5.egg/syft/tensor.py\", line 1516, in delete_tensor\n",
      "  File \"/Users/yanndupis/anaconda2/envs/tflearn/lib/python3.5/site-packages/syft-0.1.0-py3.5.egg/syft/tensor.py\", line 1504, in no_params_func\n",
      "  File \"/Users/yanndupis/anaconda2/envs/tflearn/lib/python3.5/site-packages/syft-0.1.0-py3.5.egg/syft/tensor.py\", line 1486, in params_func\n",
      "  File \"/Users/yanndupis/anaconda2/envs/tflearn/lib/python3.5/site-packages/syft-0.1.0-py3.5.egg/syft/controller.py\", line 143, in send_json\n",
      "Exception: Unity Error: System.Collections.Generic.KeyNotFoundException: The given key was not present in the dictionary.\n",
      "  at System.ThrowHelper.ThrowKeyNotFoundException () [0x00000] in /Users/builduser/buildslave/mono/build/mcs/class/referencesource/mscorlib/system/throwhelper.cs:68 \n",
      "  at System.Collections.Generic.Dictionary`2[TKey,TValue].get_Item (TKey key) [0x0001e] in /Users/builduser/buildslave/mono/build/mcs/class/referencesource/mscorlib/system/collections/generic/dictionary.cs:183 \n",
      "  at OpenMined.Syft.Tensor.Factories.FloatTensorFactory.Get (System.Int32 id) [0x00008] in /Users/yanndupis/Documents/Data_Science/Encrypted_DL/OpenMined/UnityProject/Assets/OpenMined/Syft/Tensor/Factories/FloatTensorFactory.cs:24 \n",
      "  at OpenMined.Syft.Tensor.FloatTensor.Delete () [0x00048] in /Users/yanndupis/Documents/Data_Science/Encrypted_DL/OpenMined/UnityProject/Assets/OpenMined/Syft/Tensor/FloatTensor.Ops.cs:558 \n",
      "  at OpenMined.Syft.Tensor.FloatTensor.ProcessMessage (OpenMined.Network.Utils.Command msgObj, OpenMined.Network.Controllers.SyftController ctrl) [0x00e4c] in /Users/yanndupis/Documents/Data_Science/Encrypted_DL/OpenMined/UnityProject/Assets/OpenMined/Syft/Tensor/FloatTensor.cs:365 \n",
      "  at OpenMined.Network.Controllers.SyftController.processMessage (System.String json_message, UnityEngine.MonoBehaviour owner) [0x002dd] in /Users/yanndupis/Documents/Data_Science/Encrypted_DL/OpenMined/UnityProject/Assets/OpenMined/Network/Controllers/SyftController.cs:231 \n"
     ]
    },
    {
     "name": "stdout",
     "output_type": "stream",
     "text": [
      "Number of Batches:1\n"
     ]
    },
    {
     "data": {
      "application/vnd.jupyter.widget-view+json": {
       "model_id": "57ca039e93ef409daab899048310e165"
      }
     },
     "metadata": {},
     "output_type": "display_data"
    },
    {
     "data": {
      "application/vnd.jupyter.widget-view+json": {
       "model_id": "957520fc32fd421c82d048861cdc8266"
      }
     },
     "metadata": {},
     "output_type": "display_data"
    },
    {
     "name": "stderr",
     "output_type": "stream",
     "text": [
      "Exception ignored in: <object repr() failed>\n",
      "Traceback (most recent call last):\n",
      "  File \"/Users/yanndupis/anaconda2/envs/tflearn/lib/python3.5/site-packages/syft-0.1.0-py3.5.egg/syft/tensor.py\", line 544, in __del__\n",
      "  File \"/Users/yanndupis/anaconda2/envs/tflearn/lib/python3.5/site-packages/syft-0.1.0-py3.5.egg/syft/tensor.py\", line 1516, in delete_tensor\n",
      "  File \"/Users/yanndupis/anaconda2/envs/tflearn/lib/python3.5/site-packages/syft-0.1.0-py3.5.egg/syft/tensor.py\", line 1504, in no_params_func\n",
      "  File \"/Users/yanndupis/anaconda2/envs/tflearn/lib/python3.5/site-packages/syft-0.1.0-py3.5.egg/syft/tensor.py\", line 1486, in params_func\n",
      "  File \"/Users/yanndupis/anaconda2/envs/tflearn/lib/python3.5/site-packages/syft-0.1.0-py3.5.egg/syft/controller.py\", line 143, in send_json\n",
      "Exception: Unity Error: System.Collections.Generic.KeyNotFoundException: The given key was not present in the dictionary.\n",
      "  at System.ThrowHelper.ThrowKeyNotFoundException () [0x00000] in /Users/builduser/buildslave/mono/build/mcs/class/referencesource/mscorlib/system/throwhelper.cs:68 \n",
      "  at System.Collections.Generic.Dictionary`2[TKey,TValue].get_Item (TKey key) [0x0001e] in /Users/builduser/buildslave/mono/build/mcs/class/referencesource/mscorlib/system/collections/generic/dictionary.cs:183 \n",
      "  at OpenMined.Syft.Tensor.Factories.FloatTensorFactory.Get (System.Int32 id) [0x00008] in /Users/yanndupis/Documents/Data_Science/Encrypted_DL/OpenMined/UnityProject/Assets/OpenMined/Syft/Tensor/Factories/FloatTensorFactory.cs:24 \n",
      "  at OpenMined.Syft.Tensor.FloatTensor.Delete () [0x00048] in /Users/yanndupis/Documents/Data_Science/Encrypted_DL/OpenMined/UnityProject/Assets/OpenMined/Syft/Tensor/FloatTensor.Ops.cs:558 \n",
      "  at OpenMined.Syft.Tensor.FloatTensor.ProcessMessage (OpenMined.Network.Utils.Command msgObj, OpenMined.Network.Controllers.SyftController ctrl) [0x00e4c] in /Users/yanndupis/Documents/Data_Science/Encrypted_DL/OpenMined/UnityProject/Assets/OpenMined/Syft/Tensor/FloatTensor.cs:365 \n",
      "  at OpenMined.Network.Controllers.SyftController.processMessage (System.String json_message, UnityEngine.MonoBehaviour owner) [0x002dd] in /Users/yanndupis/Documents/Data_Science/Encrypted_DL/OpenMined/UnityProject/Assets/OpenMined/Network/Controllers/SyftController.cs:231 \n"
     ]
    },
    {
     "name": "stdout",
     "output_type": "stream",
     "text": [
      "Number of Batches:1\n"
     ]
    },
    {
     "data": {
      "application/vnd.jupyter.widget-view+json": {
       "model_id": "7aa4f0d8f1894a57983b608954f1022d"
      }
     },
     "metadata": {},
     "output_type": "display_data"
    },
    {
     "data": {
      "application/vnd.jupyter.widget-view+json": {
       "model_id": "9aa35c7f065847718fc950b40685f4fc"
      }
     },
     "metadata": {},
     "output_type": "display_data"
    },
    {
     "name": "stdout",
     "output_type": "stream",
     "text": [
      "Number of Batches:1\n"
     ]
    },
    {
     "name": "stderr",
     "output_type": "stream",
     "text": [
      "Exception ignored in: <object repr() failed>\n",
      "Traceback (most recent call last):\n",
      "  File \"/Users/yanndupis/anaconda2/envs/tflearn/lib/python3.5/site-packages/syft-0.1.0-py3.5.egg/syft/tensor.py\", line 544, in __del__\n",
      "  File \"/Users/yanndupis/anaconda2/envs/tflearn/lib/python3.5/site-packages/syft-0.1.0-py3.5.egg/syft/tensor.py\", line 1516, in delete_tensor\n",
      "  File \"/Users/yanndupis/anaconda2/envs/tflearn/lib/python3.5/site-packages/syft-0.1.0-py3.5.egg/syft/tensor.py\", line 1504, in no_params_func\n",
      "  File \"/Users/yanndupis/anaconda2/envs/tflearn/lib/python3.5/site-packages/syft-0.1.0-py3.5.egg/syft/tensor.py\", line 1486, in params_func\n",
      "  File \"/Users/yanndupis/anaconda2/envs/tflearn/lib/python3.5/site-packages/syft-0.1.0-py3.5.egg/syft/controller.py\", line 143, in send_json\n",
      "Exception: Unity Error: System.Collections.Generic.KeyNotFoundException: The given key was not present in the dictionary.\n",
      "  at System.ThrowHelper.ThrowKeyNotFoundException () [0x00000] in /Users/builduser/buildslave/mono/build/mcs/class/referencesource/mscorlib/system/throwhelper.cs:68 \n",
      "  at System.Collections.Generic.Dictionary`2[TKey,TValue].get_Item (TKey key) [0x0001e] in /Users/builduser/buildslave/mono/build/mcs/class/referencesource/mscorlib/system/collections/generic/dictionary.cs:183 \n",
      "  at OpenMined.Syft.Tensor.Factories.FloatTensorFactory.Get (System.Int32 id) [0x00008] in /Users/yanndupis/Documents/Data_Science/Encrypted_DL/OpenMined/UnityProject/Assets/OpenMined/Syft/Tensor/Factories/FloatTensorFactory.cs:24 \n",
      "  at OpenMined.Syft.Tensor.FloatTensor.Delete () [0x00048] in /Users/yanndupis/Documents/Data_Science/Encrypted_DL/OpenMined/UnityProject/Assets/OpenMined/Syft/Tensor/FloatTensor.Ops.cs:558 \n",
      "  at OpenMined.Syft.Tensor.FloatTensor.ProcessMessage (OpenMined.Network.Utils.Command msgObj, OpenMined.Network.Controllers.SyftController ctrl) [0x00e4c] in /Users/yanndupis/Documents/Data_Science/Encrypted_DL/OpenMined/UnityProject/Assets/OpenMined/Syft/Tensor/FloatTensor.cs:365 \n",
      "  at OpenMined.Network.Controllers.SyftController.processMessage (System.String json_message, UnityEngine.MonoBehaviour owner) [0x002dd] in /Users/yanndupis/Documents/Data_Science/Encrypted_DL/OpenMined/UnityProject/Assets/OpenMined/Network/Controllers/SyftController.cs:231 \n"
     ]
    },
    {
     "data": {
      "application/vnd.jupyter.widget-view+json": {
       "model_id": "3a3ef747c3b141e1b7a83c60793a1bc7"
      }
     },
     "metadata": {},
     "output_type": "display_data"
    },
    {
     "data": {
      "application/vnd.jupyter.widget-view+json": {
       "model_id": "22f81a40e48141d6b9d4c085753d9116"
      }
     },
     "metadata": {},
     "output_type": "display_data"
    },
    {
     "name": "stderr",
     "output_type": "stream",
     "text": [
      "Exception ignored in: <object repr() failed>\n",
      "Traceback (most recent call last):\n",
      "  File \"/Users/yanndupis/anaconda2/envs/tflearn/lib/python3.5/site-packages/syft-0.1.0-py3.5.egg/syft/tensor.py\", line 544, in __del__\n",
      "  File \"/Users/yanndupis/anaconda2/envs/tflearn/lib/python3.5/site-packages/syft-0.1.0-py3.5.egg/syft/tensor.py\", line 1516, in delete_tensor\n",
      "  File \"/Users/yanndupis/anaconda2/envs/tflearn/lib/python3.5/site-packages/syft-0.1.0-py3.5.egg/syft/tensor.py\", line 1504, in no_params_func\n",
      "  File \"/Users/yanndupis/anaconda2/envs/tflearn/lib/python3.5/site-packages/syft-0.1.0-py3.5.egg/syft/tensor.py\", line 1486, in params_func\n",
      "  File \"/Users/yanndupis/anaconda2/envs/tflearn/lib/python3.5/site-packages/syft-0.1.0-py3.5.egg/syft/controller.py\", line 143, in send_json\n",
      "Exception: Unity Error: System.Collections.Generic.KeyNotFoundException: The given key was not present in the dictionary.\n",
      "  at System.ThrowHelper.ThrowKeyNotFoundException () [0x00000] in /Users/builduser/buildslave/mono/build/mcs/class/referencesource/mscorlib/system/throwhelper.cs:68 \n",
      "  at System.Collections.Generic.Dictionary`2[TKey,TValue].get_Item (TKey key) [0x0001e] in /Users/builduser/buildslave/mono/build/mcs/class/referencesource/mscorlib/system/collections/generic/dictionary.cs:183 \n",
      "  at OpenMined.Syft.Tensor.Factories.FloatTensorFactory.Get (System.Int32 id) [0x00008] in /Users/yanndupis/Documents/Data_Science/Encrypted_DL/OpenMined/UnityProject/Assets/OpenMined/Syft/Tensor/Factories/FloatTensorFactory.cs:24 \n",
      "  at OpenMined.Syft.Tensor.FloatTensor.Delete () [0x00048] in /Users/yanndupis/Documents/Data_Science/Encrypted_DL/OpenMined/UnityProject/Assets/OpenMined/Syft/Tensor/FloatTensor.Ops.cs:558 \n",
      "  at OpenMined.Syft.Tensor.FloatTensor.ProcessMessage (OpenMined.Network.Utils.Command msgObj, OpenMined.Network.Controllers.SyftController ctrl) [0x00e4c] in /Users/yanndupis/Documents/Data_Science/Encrypted_DL/OpenMined/UnityProject/Assets/OpenMined/Syft/Tensor/FloatTensor.cs:365 \n",
      "  at OpenMined.Network.Controllers.SyftController.processMessage (System.String json_message, UnityEngine.MonoBehaviour owner) [0x002dd] in /Users/yanndupis/Documents/Data_Science/Encrypted_DL/OpenMined/UnityProject/Assets/OpenMined/Network/Controllers/SyftController.cs:231 \n",
      "Exception ignored in: <object repr() failed>\n",
      "Traceback (most recent call last):\n",
      "  File \"/Users/yanndupis/anaconda2/envs/tflearn/lib/python3.5/site-packages/syft-0.1.0-py3.5.egg/syft/tensor.py\", line 544, in __del__\n",
      "  File \"/Users/yanndupis/anaconda2/envs/tflearn/lib/python3.5/site-packages/syft-0.1.0-py3.5.egg/syft/tensor.py\", line 1516, in delete_tensor\n",
      "  File \"/Users/yanndupis/anaconda2/envs/tflearn/lib/python3.5/site-packages/syft-0.1.0-py3.5.egg/syft/tensor.py\", line 1504, in no_params_func\n",
      "  File \"/Users/yanndupis/anaconda2/envs/tflearn/lib/python3.5/site-packages/syft-0.1.0-py3.5.egg/syft/tensor.py\", line 1486, in params_func\n",
      "  File \"/Users/yanndupis/anaconda2/envs/tflearn/lib/python3.5/site-packages/syft-0.1.0-py3.5.egg/syft/controller.py\", line 143, in send_json\n",
      "Exception: Unity Error: System.Collections.Generic.KeyNotFoundException: The given key was not present in the dictionary.\n",
      "  at System.ThrowHelper.ThrowKeyNotFoundException () [0x00000] in /Users/builduser/buildslave/mono/build/mcs/class/referencesource/mscorlib/system/throwhelper.cs:68 \n",
      "  at System.Collections.Generic.Dictionary`2[TKey,TValue].get_Item (TKey key) [0x0001e] in /Users/builduser/buildslave/mono/build/mcs/class/referencesource/mscorlib/system/collections/generic/dictionary.cs:183 \n",
      "  at OpenMined.Syft.Tensor.Factories.FloatTensorFactory.Get (System.Int32 id) [0x00008] in /Users/yanndupis/Documents/Data_Science/Encrypted_DL/OpenMined/UnityProject/Assets/OpenMined/Syft/Tensor/Factories/FloatTensorFactory.cs:24 \n",
      "  at OpenMined.Syft.Tensor.FloatTensor.Delete () [0x00048] in /Users/yanndupis/Documents/Data_Science/Encrypted_DL/OpenMined/UnityProject/Assets/OpenMined/Syft/Tensor/FloatTensor.Ops.cs:558 \n",
      "  at OpenMined.Syft.Tensor.FloatTensor.ProcessMessage (OpenMined.Network.Utils.Command msgObj, OpenMined.Network.Controllers.SyftController ctrl) [0x00e4c] in /Users/yanndupis/Documents/Data_Science/Encrypted_DL/OpenMined/UnityProject/Assets/OpenMined/Syft/Tensor/FloatTensor.cs:365 \n",
      "  at OpenMined.Network.Controllers.SyftController.processMessage (System.String json_message, UnityEngine.MonoBehaviour owner) [0x002dd] in /Users/yanndupis/Documents/Data_Science/Encrypted_DL/OpenMined/UnityProject/Assets/OpenMined/Network/Controllers/SyftController.cs:231 \n",
      "Exception ignored in: <object repr() failed>\n",
      "Traceback (most recent call last):\n",
      "  File \"/Users/yanndupis/anaconda2/envs/tflearn/lib/python3.5/site-packages/syft-0.1.0-py3.5.egg/syft/tensor.py\", line 544, in __del__\n",
      "  File \"/Users/yanndupis/anaconda2/envs/tflearn/lib/python3.5/site-packages/syft-0.1.0-py3.5.egg/syft/tensor.py\", line 1516, in delete_tensor\n",
      "  File \"/Users/yanndupis/anaconda2/envs/tflearn/lib/python3.5/site-packages/syft-0.1.0-py3.5.egg/syft/tensor.py\", line 1504, in no_params_func\n",
      "  File \"/Users/yanndupis/anaconda2/envs/tflearn/lib/python3.5/site-packages/syft-0.1.0-py3.5.egg/syft/tensor.py\", line 1486, in params_func\n",
      "  File \"/Users/yanndupis/anaconda2/envs/tflearn/lib/python3.5/site-packages/syft-0.1.0-py3.5.egg/syft/controller.py\", line 143, in send_json\n",
      "Exception: Unity Error: System.Collections.Generic.KeyNotFoundException: The given key was not present in the dictionary.\n",
      "  at System.ThrowHelper.ThrowKeyNotFoundException () [0x00000] in /Users/builduser/buildslave/mono/build/mcs/class/referencesource/mscorlib/system/throwhelper.cs:68 \n",
      "  at System.Collections.Generic.Dictionary`2[TKey,TValue].get_Item (TKey key) [0x0001e] in /Users/builduser/buildslave/mono/build/mcs/class/referencesource/mscorlib/system/collections/generic/dictionary.cs:183 \n",
      "  at OpenMined.Syft.Tensor.Factories.FloatTensorFactory.Get (System.Int32 id) [0x00008] in /Users/yanndupis/Documents/Data_Science/Encrypted_DL/OpenMined/UnityProject/Assets/OpenMined/Syft/Tensor/Factories/FloatTensorFactory.cs:24 \n",
      "  at OpenMined.Syft.Tensor.FloatTensor.Delete () [0x00048] in /Users/yanndupis/Documents/Data_Science/Encrypted_DL/OpenMined/UnityProject/Assets/OpenMined/Syft/Tensor/FloatTensor.Ops.cs:558 \n",
      "  at OpenMined.Syft.Tensor.FloatTensor.ProcessMessage (OpenMined.Network.Utils.Command msgObj, OpenMined.Network.Controllers.SyftController ctrl) [0x00e4c] in /Users/yanndupis/Documents/Data_Science/Encrypted_DL/OpenMined/UnityProject/Assets/OpenMined/Syft/Tensor/FloatTensor.cs:365 \n",
      "  at OpenMined.Network.Controllers.SyftController.processMessage (System.String json_message, UnityEngine.MonoBehaviour owner) [0x002dd] in /Users/yanndupis/Documents/Data_Science/Encrypted_DL/OpenMined/UnityProject/Assets/OpenMined/Network/Controllers/SyftController.cs:231 \n",
      "Exception ignored in: <object repr() failed>\n",
      "Traceback (most recent call last):\n",
      "  File \"/Users/yanndupis/anaconda2/envs/tflearn/lib/python3.5/site-packages/syft-0.1.0-py3.5.egg/syft/tensor.py\", line 544, in __del__\n",
      "  File \"/Users/yanndupis/anaconda2/envs/tflearn/lib/python3.5/site-packages/syft-0.1.0-py3.5.egg/syft/tensor.py\", line 1516, in delete_tensor\n",
      "  File \"/Users/yanndupis/anaconda2/envs/tflearn/lib/python3.5/site-packages/syft-0.1.0-py3.5.egg/syft/tensor.py\", line 1504, in no_params_func\n",
      "  File \"/Users/yanndupis/anaconda2/envs/tflearn/lib/python3.5/site-packages/syft-0.1.0-py3.5.egg/syft/tensor.py\", line 1486, in params_func\n",
      "  File \"/Users/yanndupis/anaconda2/envs/tflearn/lib/python3.5/site-packages/syft-0.1.0-py3.5.egg/syft/controller.py\", line 143, in send_json\n",
      "Exception: Unity Error: System.Collections.Generic.KeyNotFoundException: The given key was not present in the dictionary.\n",
      "  at System.ThrowHelper.ThrowKeyNotFoundException () [0x00000] in /Users/builduser/buildslave/mono/build/mcs/class/referencesource/mscorlib/system/throwhelper.cs:68 \n",
      "  at System.Collections.Generic.Dictionary`2[TKey,TValue].get_Item (TKey key) [0x0001e] in /Users/builduser/buildslave/mono/build/mcs/class/referencesource/mscorlib/system/collections/generic/dictionary.cs:183 \n",
      "  at OpenMined.Syft.Tensor.Factories.FloatTensorFactory.Get (System.Int32 id) [0x00008] in /Users/yanndupis/Documents/Data_Science/Encrypted_DL/OpenMined/UnityProject/Assets/OpenMined/Syft/Tensor/Factories/FloatTensorFactory.cs:24 \n",
      "  at OpenMined.Syft.Tensor.FloatTensor.Delete () [0x00048] in /Users/yanndupis/Documents/Data_Science/Encrypted_DL/OpenMined/UnityProject/Assets/OpenMined/Syft/Tensor/FloatTensor.Ops.cs:558 \n",
      "  at OpenMined.Syft.Tensor.FloatTensor.ProcessMessage (OpenMined.Network.Utils.Command msgObj, OpenMined.Network.Controllers.SyftController ctrl) [0x00e4c] in /Users/yanndupis/Documents/Data_Science/Encrypted_DL/OpenMined/UnityProject/Assets/OpenMined/Syft/Tensor/FloatTensor.cs:365 \n",
      "  at OpenMined.Network.Controllers.SyftController.processMessage (System.String json_message, UnityEngine.MonoBehaviour owner) [0x002dd] in /Users/yanndupis/Documents/Data_Science/Encrypted_DL/OpenMined/UnityProject/Assets/OpenMined/Network/Controllers/SyftController.cs:231 \n"
     ]
    },
    {
     "name": "stderr",
     "output_type": "stream",
     "text": [
      "Exception ignored in: <object repr() failed>\n",
      "Traceback (most recent call last):\n",
      "  File \"/Users/yanndupis/anaconda2/envs/tflearn/lib/python3.5/site-packages/syft-0.1.0-py3.5.egg/syft/tensor.py\", line 544, in __del__\n",
      "  File \"/Users/yanndupis/anaconda2/envs/tflearn/lib/python3.5/site-packages/syft-0.1.0-py3.5.egg/syft/tensor.py\", line 1516, in delete_tensor\n",
      "  File \"/Users/yanndupis/anaconda2/envs/tflearn/lib/python3.5/site-packages/syft-0.1.0-py3.5.egg/syft/tensor.py\", line 1504, in no_params_func\n",
      "  File \"/Users/yanndupis/anaconda2/envs/tflearn/lib/python3.5/site-packages/syft-0.1.0-py3.5.egg/syft/tensor.py\", line 1486, in params_func\n",
      "  File \"/Users/yanndupis/anaconda2/envs/tflearn/lib/python3.5/site-packages/syft-0.1.0-py3.5.egg/syft/controller.py\", line 143, in send_json\n",
      "Exception: Unity Error: System.Collections.Generic.KeyNotFoundException: The given key was not present in the dictionary.\n",
      "  at System.ThrowHelper.ThrowKeyNotFoundException () [0x00000] in /Users/builduser/buildslave/mono/build/mcs/class/referencesource/mscorlib/system/throwhelper.cs:68 \n",
      "  at System.Collections.Generic.Dictionary`2[TKey,TValue].get_Item (TKey key) [0x0001e] in /Users/builduser/buildslave/mono/build/mcs/class/referencesource/mscorlib/system/collections/generic/dictionary.cs:183 \n",
      "  at OpenMined.Syft.Tensor.Factories.FloatTensorFactory.Get (System.Int32 id) [0x00008] in /Users/yanndupis/Documents/Data_Science/Encrypted_DL/OpenMined/UnityProject/Assets/OpenMined/Syft/Tensor/Factories/FloatTensorFactory.cs:24 \n",
      "  at OpenMined.Syft.Tensor.FloatTensor.Delete () [0x00048] in /Users/yanndupis/Documents/Data_Science/Encrypted_DL/OpenMined/UnityProject/Assets/OpenMined/Syft/Tensor/FloatTensor.Ops.cs:558 \n",
      "  at OpenMined.Syft.Tensor.FloatTensor.ProcessMessage (OpenMined.Network.Utils.Command msgObj, OpenMined.Network.Controllers.SyftController ctrl) [0x00e4c] in /Users/yanndupis/Documents/Data_Science/Encrypted_DL/OpenMined/UnityProject/Assets/OpenMined/Syft/Tensor/FloatTensor.cs:365 \n",
      "  at OpenMined.Network.Controllers.SyftController.processMessage (System.String json_message, UnityEngine.MonoBehaviour owner) [0x002dd] in /Users/yanndupis/Documents/Data_Science/Encrypted_DL/OpenMined/UnityProject/Assets/OpenMined/Network/Controllers/SyftController.cs:231 \n",
      "Exception ignored in: <object repr() failed>\n",
      "Traceback (most recent call last):\n",
      "  File \"/Users/yanndupis/anaconda2/envs/tflearn/lib/python3.5/site-packages/syft-0.1.0-py3.5.egg/syft/tensor.py\", line 544, in __del__\n",
      "  File \"/Users/yanndupis/anaconda2/envs/tflearn/lib/python3.5/site-packages/syft-0.1.0-py3.5.egg/syft/tensor.py\", line 1516, in delete_tensor\n",
      "  File \"/Users/yanndupis/anaconda2/envs/tflearn/lib/python3.5/site-packages/syft-0.1.0-py3.5.egg/syft/tensor.py\", line 1504, in no_params_func\n",
      "  File \"/Users/yanndupis/anaconda2/envs/tflearn/lib/python3.5/site-packages/syft-0.1.0-py3.5.egg/syft/tensor.py\", line 1486, in params_func\n",
      "  File \"/Users/yanndupis/anaconda2/envs/tflearn/lib/python3.5/site-packages/syft-0.1.0-py3.5.egg/syft/controller.py\", line 143, in send_json\n",
      "Exception: Unity Error: System.Collections.Generic.KeyNotFoundException: The given key was not present in the dictionary.\n",
      "  at System.ThrowHelper.ThrowKeyNotFoundException () [0x00000] in /Users/builduser/buildslave/mono/build/mcs/class/referencesource/mscorlib/system/throwhelper.cs:68 \n",
      "  at System.Collections.Generic.Dictionary`2[TKey,TValue].get_Item (TKey key) [0x0001e] in /Users/builduser/buildslave/mono/build/mcs/class/referencesource/mscorlib/system/collections/generic/dictionary.cs:183 \n",
      "  at OpenMined.Syft.Tensor.Factories.FloatTensorFactory.Get (System.Int32 id) [0x00008] in /Users/yanndupis/Documents/Data_Science/Encrypted_DL/OpenMined/UnityProject/Assets/OpenMined/Syft/Tensor/Factories/FloatTensorFactory.cs:24 \n",
      "  at OpenMined.Syft.Tensor.FloatTensor.Delete () [0x00048] in /Users/yanndupis/Documents/Data_Science/Encrypted_DL/OpenMined/UnityProject/Assets/OpenMined/Syft/Tensor/FloatTensor.Ops.cs:558 \n",
      "  at OpenMined.Syft.Tensor.FloatTensor.ProcessMessage (OpenMined.Network.Utils.Command msgObj, OpenMined.Network.Controllers.SyftController ctrl) [0x00e4c] in /Users/yanndupis/Documents/Data_Science/Encrypted_DL/OpenMined/UnityProject/Assets/OpenMined/Syft/Tensor/FloatTensor.cs:365 \n",
      "  at OpenMined.Network.Controllers.SyftController.processMessage (System.String json_message, UnityEngine.MonoBehaviour owner) [0x002dd] in /Users/yanndupis/Documents/Data_Science/Encrypted_DL/OpenMined/UnityProject/Assets/OpenMined/Network/Controllers/SyftController.cs:231 \n",
      "Exception ignored in: <object repr() failed>\n",
      "Traceback (most recent call last):\n",
      "  File \"/Users/yanndupis/anaconda2/envs/tflearn/lib/python3.5/site-packages/syft-0.1.0-py3.5.egg/syft/tensor.py\", line 544, in __del__\n",
      "  File \"/Users/yanndupis/anaconda2/envs/tflearn/lib/python3.5/site-packages/syft-0.1.0-py3.5.egg/syft/tensor.py\", line 1516, in delete_tensor\n",
      "  File \"/Users/yanndupis/anaconda2/envs/tflearn/lib/python3.5/site-packages/syft-0.1.0-py3.5.egg/syft/tensor.py\", line 1504, in no_params_func\n",
      "  File \"/Users/yanndupis/anaconda2/envs/tflearn/lib/python3.5/site-packages/syft-0.1.0-py3.5.egg/syft/tensor.py\", line 1486, in params_func\n",
      "  File \"/Users/yanndupis/anaconda2/envs/tflearn/lib/python3.5/site-packages/syft-0.1.0-py3.5.egg/syft/controller.py\", line 143, in send_json\n",
      "Exception: Unity Error: System.Collections.Generic.KeyNotFoundException: The given key was not present in the dictionary.\n",
      "  at System.ThrowHelper.ThrowKeyNotFoundException () [0x00000] in /Users/builduser/buildslave/mono/build/mcs/class/referencesource/mscorlib/system/throwhelper.cs:68 \n",
      "  at System.Collections.Generic.Dictionary`2[TKey,TValue].get_Item (TKey key) [0x0001e] in /Users/builduser/buildslave/mono/build/mcs/class/referencesource/mscorlib/system/collections/generic/dictionary.cs:183 \n",
      "  at OpenMined.Syft.Tensor.Factories.FloatTensorFactory.Get (System.Int32 id) [0x00008] in /Users/yanndupis/Documents/Data_Science/Encrypted_DL/OpenMined/UnityProject/Assets/OpenMined/Syft/Tensor/Factories/FloatTensorFactory.cs:24 \n",
      "  at OpenMined.Syft.Tensor.FloatTensor.Delete () [0x00048] in /Users/yanndupis/Documents/Data_Science/Encrypted_DL/OpenMined/UnityProject/Assets/OpenMined/Syft/Tensor/FloatTensor.Ops.cs:558 \n",
      "  at OpenMined.Syft.Tensor.FloatTensor.ProcessMessage (OpenMined.Network.Utils.Command msgObj, OpenMined.Network.Controllers.SyftController ctrl) [0x00e4c] in /Users/yanndupis/Documents/Data_Science/Encrypted_DL/OpenMined/UnityProject/Assets/OpenMined/Syft/Tensor/FloatTensor.cs:365 \n",
      "  at OpenMined.Network.Controllers.SyftController.processMessage (System.String json_message, UnityEngine.MonoBehaviour owner) [0x002dd] in /Users/yanndupis/Documents/Data_Science/Encrypted_DL/OpenMined/UnityProject/Assets/OpenMined/Network/Controllers/SyftController.cs:231 \n",
      "Exception ignored in: <object repr() failed>\n",
      "Traceback (most recent call last):\n",
      "  File \"/Users/yanndupis/anaconda2/envs/tflearn/lib/python3.5/site-packages/syft-0.1.0-py3.5.egg/syft/tensor.py\", line 544, in __del__\n",
      "  File \"/Users/yanndupis/anaconda2/envs/tflearn/lib/python3.5/site-packages/syft-0.1.0-py3.5.egg/syft/tensor.py\", line 1516, in delete_tensor\n",
      "  File \"/Users/yanndupis/anaconda2/envs/tflearn/lib/python3.5/site-packages/syft-0.1.0-py3.5.egg/syft/tensor.py\", line 1504, in no_params_func\n",
      "  File \"/Users/yanndupis/anaconda2/envs/tflearn/lib/python3.5/site-packages/syft-0.1.0-py3.5.egg/syft/tensor.py\", line 1486, in params_func\n",
      "  File \"/Users/yanndupis/anaconda2/envs/tflearn/lib/python3.5/site-packages/syft-0.1.0-py3.5.egg/syft/controller.py\", line 143, in send_json\n",
      "Exception: Unity Error: System.Collections.Generic.KeyNotFoundException: The given key was not present in the dictionary.\n",
      "  at System.ThrowHelper.ThrowKeyNotFoundException () [0x00000] in /Users/builduser/buildslave/mono/build/mcs/class/referencesource/mscorlib/system/throwhelper.cs:68 \n",
      "  at System.Collections.Generic.Dictionary`2[TKey,TValue].get_Item (TKey key) [0x0001e] in /Users/builduser/buildslave/mono/build/mcs/class/referencesource/mscorlib/system/collections/generic/dictionary.cs:183 \n",
      "  at OpenMined.Syft.Tensor.Factories.FloatTensorFactory.Get (System.Int32 id) [0x00008] in /Users/yanndupis/Documents/Data_Science/Encrypted_DL/OpenMined/UnityProject/Assets/OpenMined/Syft/Tensor/Factories/FloatTensorFactory.cs:24 \n",
      "  at OpenMined.Syft.Tensor.FloatTensor.Delete () [0x00048] in /Users/yanndupis/Documents/Data_Science/Encrypted_DL/OpenMined/UnityProject/Assets/OpenMined/Syft/Tensor/FloatTensor.Ops.cs:558 \n",
      "  at OpenMined.Syft.Tensor.FloatTensor.ProcessMessage (OpenMined.Network.Utils.Command msgObj, OpenMined.Network.Controllers.SyftController ctrl) [0x00e4c] in /Users/yanndupis/Documents/Data_Science/Encrypted_DL/OpenMined/UnityProject/Assets/OpenMined/Syft/Tensor/FloatTensor.cs:365 \n",
      "  at OpenMined.Network.Controllers.SyftController.processMessage (System.String json_message, UnityEngine.MonoBehaviour owner) [0x002dd] in /Users/yanndupis/Documents/Data_Science/Encrypted_DL/OpenMined/UnityProject/Assets/OpenMined/Network/Controllers/SyftController.cs:231 \n"
     ]
    },
    {
     "name": "stdout",
     "output_type": "stream",
     "text": [
      "Failed to complete in trial 2\n"
     ]
    }
   ],
   "source": [
    "class DQN:\n",
    "    def __init__(self, env):\n",
    "        self.env     = env\n",
    "        self.memory  = deque(maxlen=2000)\n",
    "        \n",
    "        self.gamma = 0.85\n",
    "        self.epsilon = 1.0\n",
    "        self.epsilon_min = 0.01\n",
    "        self.epsilon_decay = 0.995\n",
    "        self.learning_rate = 0.005\n",
    "        self.tau = .125\n",
    "\n",
    "        self.model        = self.create_model()\n",
    "        self.target_model = self.create_model()\n",
    "\n",
    "    def create_model(self):\n",
    "        model   = Sequential()\n",
    "        state_shape  = self.env.observation_space.shape\n",
    "        model.add(Dense(24, input_shape=state_shape[0], activation=\"relu\"))\n",
    "        model.add(Dense(48, activation=\"relu\"))\n",
    "        model.add(Dense(24, activation=\"relu\"))\n",
    "        model.add(Dense(self.env.action_space.n))\n",
    "        model.compile(loss='mean_squared_error',\n",
    "                      optimizer=SGD(lr=0.01), metrics =[])\n",
    "        return model\n",
    "\n",
    "    def act(self, state):\n",
    "        self.epsilon *= self.epsilon_decay\n",
    "        self.epsilon = max(self.epsilon_min, self.epsilon)\n",
    "        if np.random.random() < self.epsilon:\n",
    "            return self.env.action_space.sample()\n",
    "        return np.argmax(self.model.predict(state).to_numpy())\n",
    "\n",
    "    def remember(self, state, action, reward, new_state, done):\n",
    "        self.memory.append([state, action, reward, new_state, done])\n",
    "\n",
    "    def replay(self):\n",
    "        batch_size = 5\n",
    "        if len(self.memory) < batch_size: \n",
    "            return\n",
    "        samples = random.sample(self.memory, batch_size)\n",
    "        for sample in samples:\n",
    "            state, action, reward, new_state, done = sample\n",
    "            target = self.target_model.predict(state).to_numpy()\n",
    "            if done:\n",
    "                target.data[0][action] = reward\n",
    "            else:\n",
    "                Q_future = self.target_model.predict(new_state).max()\n",
    "                target[0][action] = (Q_future * self.gamma + reward).to_numpy()[0]\n",
    "            self.model.fit(state, target, batch_size=1,epochs=1,verbose=True,validation_data=None)\n",
    "\n",
    "\n",
    "    def target_train(self):\n",
    "        weights = self.model.get_weights()\n",
    "        target_weights = self.target_model.get_weights()\n",
    "        for i in range(len(target_weights)):\n",
    "            target_weights[i] *= 0\n",
    "            target_weights[i] += weights[i] * self.tau + target_weights[i] * (1 - self.tau)\n",
    "\n",
    "    #def save_model(self, fn):\n",
    "    #    self.model.save(fn)\n",
    "\n",
    "def main():\n",
    "    env     = gym.make(\"MountainCar-v0\")\n",
    "    gamma   = 0.9\n",
    "    epsilon = .95\n",
    "\n",
    "    trials  = 3\n",
    "    trial_len = 4\n",
    "\n",
    "    # updateTargetNetwork = 1000\n",
    "    dqn_agent = DQN(env=env)\n",
    "    steps = []\n",
    "    for trial in range(trials):\n",
    "        cur_state = FloatTensor(env.reset().reshape(1,2),autograd=True)\n",
    "        for step in range(trial_len):\n",
    "            action = dqn_agent.act(cur_state)\n",
    "            new_state, reward, done, _ = env.step(action)\n",
    "\n",
    "            # reward = reward if not done else -20\n",
    "            # MOD - convert new_state to FloatTensor\n",
    "            new_state = FloatTensor(new_state.reshape(1,2),autograd = True)\n",
    "            dqn_agent.remember(cur_state, action, reward, new_state, done)\n",
    "            \n",
    "            dqn_agent.replay()       # internally iterates default (prediction) model\n",
    "            dqn_agent.target_train() # iterates target model\n",
    "\n",
    "            cur_state = new_state\n",
    "            if done:\n",
    "                break\n",
    "        if step >= 2:\n",
    "            print(\"Failed to complete in trial {}\".format(trial))\n",
    "            #if step % 10 == 0:\n",
    "            #    dqn_agent.save_model(\"trial-{}.model\".format(trial))\n",
    "        else:\n",
    "            print(\"Completed in {} trials\".format(trial))\n",
    "            #dqn_agent.save_model(\"success.model\")\n",
    "            break\n",
    "\n",
    "if __name__ == \"__main__\":\n",
    "    main()\n"
   ]
  },
  {
   "cell_type": "code",
   "execution_count": null,
   "metadata": {
    "collapsed": true
   },
   "outputs": [],
   "source": []
  }
 ],
 "metadata": {
  "kernelspec": {
   "display_name": "Python 3",
   "language": "python",
   "name": "python3"
  },
  "language_info": {
   "codemirror_mode": {
    "name": "ipython",
    "version": 3
   },
   "file_extension": ".py",
   "mimetype": "text/x-python",
   "name": "python",
   "nbconvert_exporter": "python",
   "pygments_lexer": "ipython3",
   "version": "3.5.3"
  }
 },
 "nbformat": 4,
 "nbformat_minor": 2
}

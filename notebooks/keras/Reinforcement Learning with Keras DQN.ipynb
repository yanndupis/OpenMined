{
 "cells": [
  {
   "cell_type": "markdown",
   "metadata": {},
   "source": [
    "# Reinforcement Learning with Keras interface: DQN"
   ]
  },
  {
   "cell_type": "markdown",
   "metadata": {},
   "source": [
    "The goal of this notebook is to demonstrate how easy it is to do reinforcement learning with OpenMined and PySyft using the Keras interface. We will apply DQN to the game MountainCar-V0 from gym. The original code was written by Yash Patel. The original code can be found [here](https://towardsdatascience.com/reinforcement-learning-w-keras-openai-dqns-1eed3a5338c)."
   ]
  },
  {
   "cell_type": "code",
   "execution_count": 6,
   "metadata": {},
   "outputs": [],
   "source": [
    "import syft\n",
    "from syft import FloatTensor"
   ]
  },
  {
   "cell_type": "code",
   "execution_count": 7,
   "metadata": {},
   "outputs": [],
   "source": [
    "import gym\n",
    "import numpy as np\n",
    "import random\n",
    "\n",
    "from syft.interfaces.keras.models import Sequential\n",
    "from syft.interfaces.keras.layers import Dense, Dropout\n",
    "from syft.interfaces.keras.optimizers import SGD\n",
    "\n",
    "from collections import deque\n",
    "from syft import FloatTensor"
   ]
  },
  {
   "cell_type": "code",
   "execution_count": 8,
   "metadata": {},
   "outputs": [
    {
     "name": "stderr",
     "output_type": "stream",
     "text": [
      "[2018-01-18 19:05:04,930] Making new env: MountainCar-v0\n",
      "Exception ignored in: <object repr() failed>\n",
      "Traceback (most recent call last):\n",
      "  File \"/Users/yanndupis/anaconda2/envs/tflearn/lib/python3.5/site-packages/syft-0.1.0-py3.5.egg/syft/tensor.py\", line 544, in __del__\n",
      "  File \"/Users/yanndupis/anaconda2/envs/tflearn/lib/python3.5/site-packages/syft-0.1.0-py3.5.egg/syft/tensor.py\", line 1516, in delete_tensor\n",
      "  File \"/Users/yanndupis/anaconda2/envs/tflearn/lib/python3.5/site-packages/syft-0.1.0-py3.5.egg/syft/tensor.py\", line 1504, in no_params_func\n",
      "  File \"/Users/yanndupis/anaconda2/envs/tflearn/lib/python3.5/site-packages/syft-0.1.0-py3.5.egg/syft/tensor.py\", line 1486, in params_func\n",
      "  File \"/Users/yanndupis/anaconda2/envs/tflearn/lib/python3.5/site-packages/syft-0.1.0-py3.5.egg/syft/controller.py\", line 143, in send_json\n",
      "Exception: Unity Error: System.Collections.Generic.KeyNotFoundException: The given key was not present in the dictionary.\n",
      "  at System.ThrowHelper.ThrowKeyNotFoundException () [0x00000] in /Users/builduser/buildslave/mono/build/mcs/class/referencesource/mscorlib/system/throwhelper.cs:68 \n",
      "  at System.Collections.Generic.Dictionary`2[TKey,TValue].get_Item (TKey key) [0x0001e] in /Users/builduser/buildslave/mono/build/mcs/class/referencesource/mscorlib/system/collections/generic/dictionary.cs:183 \n",
      "  at OpenMined.Syft.Tensor.Factories.FloatTensorFactory.Get (System.Int32 id) [0x00008] in /Users/yanndupis/Documents/Data_Science/Encrypted_DL/OpenMined/UnityProject/Assets/OpenMined/Syft/Tensor/Factories/FloatTensorFactory.cs:24 \n",
      "  at OpenMined.Syft.Tensor.FloatTensor.Delete () [0x00048] in /Users/yanndupis/Documents/Data_Science/Encrypted_DL/OpenMined/UnityProject/Assets/OpenMined/Syft/Tensor/FloatTensor.Ops.cs:558 \n",
      "  at OpenMined.Syft.Tensor.FloatTensor.ProcessMessage (OpenMined.Network.Utils.Command msgObj, OpenMined.Network.Controllers.SyftController ctrl) [0x00e4c] in /Users/yanndupis/Documents/Data_Science/Encrypted_DL/OpenMined/UnityProject/Assets/OpenMined/Syft/Tensor/FloatTensor.cs:365 \n",
      "  at OpenMined.Network.Controllers.SyftController.processMessage (System.String json_message, UnityEngine.MonoBehaviour owner) [0x002dd] in /Users/yanndupis/Documents/Data_Science/Encrypted_DL/OpenMined/UnityProject/Assets/OpenMined/Network/Controllers/SyftController.cs:231 \n",
      "Exception ignored in: <object repr() failed>\n",
      "Traceback (most recent call last):\n",
      "  File \"/Users/yanndupis/anaconda2/envs/tflearn/lib/python3.5/site-packages/syft-0.1.0-py3.5.egg/syft/tensor.py\", line 544, in __del__\n",
      "  File \"/Users/yanndupis/anaconda2/envs/tflearn/lib/python3.5/site-packages/syft-0.1.0-py3.5.egg/syft/tensor.py\", line 1516, in delete_tensor\n",
      "  File \"/Users/yanndupis/anaconda2/envs/tflearn/lib/python3.5/site-packages/syft-0.1.0-py3.5.egg/syft/tensor.py\", line 1504, in no_params_func\n",
      "  File \"/Users/yanndupis/anaconda2/envs/tflearn/lib/python3.5/site-packages/syft-0.1.0-py3.5.egg/syft/tensor.py\", line 1486, in params_func\n",
      "  File \"/Users/yanndupis/anaconda2/envs/tflearn/lib/python3.5/site-packages/syft-0.1.0-py3.5.egg/syft/controller.py\", line 143, in send_json\n",
      "Exception: Unity Error: System.Collections.Generic.KeyNotFoundException: The given key was not present in the dictionary.\n",
      "  at System.ThrowHelper.ThrowKeyNotFoundException () [0x00000] in /Users/builduser/buildslave/mono/build/mcs/class/referencesource/mscorlib/system/throwhelper.cs:68 \n",
      "  at System.Collections.Generic.Dictionary`2[TKey,TValue].get_Item (TKey key) [0x0001e] in /Users/builduser/buildslave/mono/build/mcs/class/referencesource/mscorlib/system/collections/generic/dictionary.cs:183 \n",
      "  at OpenMined.Syft.Tensor.Factories.FloatTensorFactory.Get (System.Int32 id) [0x00008] in /Users/yanndupis/Documents/Data_Science/Encrypted_DL/OpenMined/UnityProject/Assets/OpenMined/Syft/Tensor/Factories/FloatTensorFactory.cs:24 \n",
      "  at OpenMined.Syft.Tensor.FloatTensor.Delete () [0x00048] in /Users/yanndupis/Documents/Data_Science/Encrypted_DL/OpenMined/UnityProject/Assets/OpenMined/Syft/Tensor/FloatTensor.Ops.cs:558 \n",
      "  at OpenMined.Syft.Tensor.FloatTensor.ProcessMessage (OpenMined.Network.Utils.Command msgObj, OpenMined.Network.Controllers.SyftController ctrl) [0x00e4c] in /Users/yanndupis/Documents/Data_Science/Encrypted_DL/OpenMined/UnityProject/Assets/OpenMined/Syft/Tensor/FloatTensor.cs:365 \n",
      "  at OpenMined.Network.Controllers.SyftController.processMessage (System.String json_message, UnityEngine.MonoBehaviour owner) [0x002dd] in /Users/yanndupis/Documents/Data_Science/Encrypted_DL/OpenMined/UnityProject/Assets/OpenMined/Network/Controllers/SyftController.cs:231 \n",
      "Exception ignored in: <object repr() failed>\n",
      "Traceback (most recent call last):\n",
      "  File \"/Users/yanndupis/anaconda2/envs/tflearn/lib/python3.5/site-packages/syft-0.1.0-py3.5.egg/syft/tensor.py\", line 544, in __del__\n",
      "  File \"/Users/yanndupis/anaconda2/envs/tflearn/lib/python3.5/site-packages/syft-0.1.0-py3.5.egg/syft/tensor.py\", line 1516, in delete_tensor\n",
      "  File \"/Users/yanndupis/anaconda2/envs/tflearn/lib/python3.5/site-packages/syft-0.1.0-py3.5.egg/syft/tensor.py\", line 1504, in no_params_func\n",
      "  File \"/Users/yanndupis/anaconda2/envs/tflearn/lib/python3.5/site-packages/syft-0.1.0-py3.5.egg/syft/tensor.py\", line 1486, in params_func\n",
      "  File \"/Users/yanndupis/anaconda2/envs/tflearn/lib/python3.5/site-packages/syft-0.1.0-py3.5.egg/syft/controller.py\", line 143, in send_json\n",
      "Exception: Unity Error: System.Collections.Generic.KeyNotFoundException: The given key was not present in the dictionary.\n",
      "  at System.ThrowHelper.ThrowKeyNotFoundException () [0x00000] in /Users/builduser/buildslave/mono/build/mcs/class/referencesource/mscorlib/system/throwhelper.cs:68 \n",
      "  at System.Collections.Generic.Dictionary`2[TKey,TValue].get_Item (TKey key) [0x0001e] in /Users/builduser/buildslave/mono/build/mcs/class/referencesource/mscorlib/system/collections/generic/dictionary.cs:183 \n",
      "  at OpenMined.Syft.Tensor.Factories.FloatTensorFactory.Get (System.Int32 id) [0x00008] in /Users/yanndupis/Documents/Data_Science/Encrypted_DL/OpenMined/UnityProject/Assets/OpenMined/Syft/Tensor/Factories/FloatTensorFactory.cs:24 \n",
      "  at OpenMined.Syft.Tensor.FloatTensor.Delete () [0x00048] in /Users/yanndupis/Documents/Data_Science/Encrypted_DL/OpenMined/UnityProject/Assets/OpenMined/Syft/Tensor/FloatTensor.Ops.cs:558 \n",
      "  at OpenMined.Syft.Tensor.FloatTensor.ProcessMessage (OpenMined.Network.Utils.Command msgObj, OpenMined.Network.Controllers.SyftController ctrl) [0x00e4c] in /Users/yanndupis/Documents/Data_Science/Encrypted_DL/OpenMined/UnityProject/Assets/OpenMined/Syft/Tensor/FloatTensor.cs:365 \n",
      "  at OpenMined.Network.Controllers.SyftController.processMessage (System.String json_message, UnityEngine.MonoBehaviour owner) [0x002dd] in /Users/yanndupis/Documents/Data_Science/Encrypted_DL/OpenMined/UnityProject/Assets/OpenMined/Network/Controllers/SyftController.cs:231 \n",
      "Exception ignored in: <object repr() failed>\n",
      "Traceback (most recent call last):\n",
      "  File \"/Users/yanndupis/anaconda2/envs/tflearn/lib/python3.5/site-packages/syft-0.1.0-py3.5.egg/syft/tensor.py\", line 544, in __del__\n",
      "  File \"/Users/yanndupis/anaconda2/envs/tflearn/lib/python3.5/site-packages/syft-0.1.0-py3.5.egg/syft/tensor.py\", line 1516, in delete_tensor\n",
      "  File \"/Users/yanndupis/anaconda2/envs/tflearn/lib/python3.5/site-packages/syft-0.1.0-py3.5.egg/syft/tensor.py\", line 1504, in no_params_func\n",
      "  File \"/Users/yanndupis/anaconda2/envs/tflearn/lib/python3.5/site-packages/syft-0.1.0-py3.5.egg/syft/tensor.py\", line 1486, in params_func\n",
      "  File \"/Users/yanndupis/anaconda2/envs/tflearn/lib/python3.5/site-packages/syft-0.1.0-py3.5.egg/syft/controller.py\", line 143, in send_json\n",
      "Exception: Unity Error: System.Collections.Generic.KeyNotFoundException: The given key was not present in the dictionary.\n",
      "  at System.ThrowHelper.ThrowKeyNotFoundException () [0x00000] in /Users/builduser/buildslave/mono/build/mcs/class/referencesource/mscorlib/system/throwhelper.cs:68 \n",
      "  at System.Collections.Generic.Dictionary`2[TKey,TValue].get_Item (TKey key) [0x0001e] in /Users/builduser/buildslave/mono/build/mcs/class/referencesource/mscorlib/system/collections/generic/dictionary.cs:183 \n",
      "  at OpenMined.Syft.Tensor.Factories.FloatTensorFactory.Get (System.Int32 id) [0x00008] in /Users/yanndupis/Documents/Data_Science/Encrypted_DL/OpenMined/UnityProject/Assets/OpenMined/Syft/Tensor/Factories/FloatTensorFactory.cs:24 \n",
      "  at OpenMined.Syft.Tensor.FloatTensor.Delete () [0x00048] in /Users/yanndupis/Documents/Data_Science/Encrypted_DL/OpenMined/UnityProject/Assets/OpenMined/Syft/Tensor/FloatTensor.Ops.cs:558 \n",
      "  at OpenMined.Syft.Tensor.FloatTensor.ProcessMessage (OpenMined.Network.Utils.Command msgObj, OpenMined.Network.Controllers.SyftController ctrl) [0x00e4c] in /Users/yanndupis/Documents/Data_Science/Encrypted_DL/OpenMined/UnityProject/Assets/OpenMined/Syft/Tensor/FloatTensor.cs:365 \n",
      "  at OpenMined.Network.Controllers.SyftController.processMessage (System.String json_message, UnityEngine.MonoBehaviour owner) [0x002dd] in /Users/yanndupis/Documents/Data_Science/Encrypted_DL/OpenMined/UnityProject/Assets/OpenMined/Network/Controllers/SyftController.cs:231 \n",
      "Exception ignored in: <object repr() failed>\n",
      "Traceback (most recent call last):\n",
      "  File \"/Users/yanndupis/anaconda2/envs/tflearn/lib/python3.5/site-packages/syft-0.1.0-py3.5.egg/syft/tensor.py\", line 544, in __del__\n",
      "  File \"/Users/yanndupis/anaconda2/envs/tflearn/lib/python3.5/site-packages/syft-0.1.0-py3.5.egg/syft/tensor.py\", line 1516, in delete_tensor\n",
      "  File \"/Users/yanndupis/anaconda2/envs/tflearn/lib/python3.5/site-packages/syft-0.1.0-py3.5.egg/syft/tensor.py\", line 1504, in no_params_func\n",
      "  File \"/Users/yanndupis/anaconda2/envs/tflearn/lib/python3.5/site-packages/syft-0.1.0-py3.5.egg/syft/tensor.py\", line 1486, in params_func\n",
      "  File \"/Users/yanndupis/anaconda2/envs/tflearn/lib/python3.5/site-packages/syft-0.1.0-py3.5.egg/syft/controller.py\", line 143, in send_json\n",
      "Exception: Unity Error: System.Collections.Generic.KeyNotFoundException: The given key was not present in the dictionary.\n",
      "  at System.ThrowHelper.ThrowKeyNotFoundException () [0x00000] in /Users/builduser/buildslave/mono/build/mcs/class/referencesource/mscorlib/system/throwhelper.cs:68 \n",
      "  at System.Collections.Generic.Dictionary`2[TKey,TValue].get_Item (TKey key) [0x0001e] in /Users/builduser/buildslave/mono/build/mcs/class/referencesource/mscorlib/system/collections/generic/dictionary.cs:183 \n",
      "  at OpenMined.Syft.Tensor.Factories.FloatTensorFactory.Get (System.Int32 id) [0x00008] in /Users/yanndupis/Documents/Data_Science/Encrypted_DL/OpenMined/UnityProject/Assets/OpenMined/Syft/Tensor/Factories/FloatTensorFactory.cs:24 \n",
      "  at OpenMined.Syft.Tensor.FloatTensor.Delete () [0x00048] in /Users/yanndupis/Documents/Data_Science/Encrypted_DL/OpenMined/UnityProject/Assets/OpenMined/Syft/Tensor/FloatTensor.Ops.cs:558 \n",
      "  at OpenMined.Syft.Tensor.FloatTensor.ProcessMessage (OpenMined.Network.Utils.Command msgObj, OpenMined.Network.Controllers.SyftController ctrl) [0x00e4c] in /Users/yanndupis/Documents/Data_Science/Encrypted_DL/OpenMined/UnityProject/Assets/OpenMined/Syft/Tensor/FloatTensor.cs:365 \n",
      "  at OpenMined.Network.Controllers.SyftController.processMessage (System.String json_message, UnityEngine.MonoBehaviour owner) [0x002dd] in /Users/yanndupis/Documents/Data_Science/Encrypted_DL/OpenMined/UnityProject/Assets/OpenMined/Network/Controllers/SyftController.cs:231 \n"
     ]
    },
    {
     "name": "stderr",
     "output_type": "stream",
     "text": [
      "Exception ignored in: <object repr() failed>\n",
      "Traceback (most recent call last):\n",
      "  File \"/Users/yanndupis/anaconda2/envs/tflearn/lib/python3.5/site-packages/syft-0.1.0-py3.5.egg/syft/tensor.py\", line 544, in __del__\n",
      "  File \"/Users/yanndupis/anaconda2/envs/tflearn/lib/python3.5/site-packages/syft-0.1.0-py3.5.egg/syft/tensor.py\", line 1516, in delete_tensor\n",
      "  File \"/Users/yanndupis/anaconda2/envs/tflearn/lib/python3.5/site-packages/syft-0.1.0-py3.5.egg/syft/tensor.py\", line 1504, in no_params_func\n",
      "  File \"/Users/yanndupis/anaconda2/envs/tflearn/lib/python3.5/site-packages/syft-0.1.0-py3.5.egg/syft/tensor.py\", line 1486, in params_func\n",
      "  File \"/Users/yanndupis/anaconda2/envs/tflearn/lib/python3.5/site-packages/syft-0.1.0-py3.5.egg/syft/controller.py\", line 143, in send_json\n",
      "Exception: Unity Error: System.Collections.Generic.KeyNotFoundException: The given key was not present in the dictionary.\n",
      "  at System.ThrowHelper.ThrowKeyNotFoundException () [0x00000] in /Users/builduser/buildslave/mono/build/mcs/class/referencesource/mscorlib/system/throwhelper.cs:68 \n",
      "  at System.Collections.Generic.Dictionary`2[TKey,TValue].get_Item (TKey key) [0x0001e] in /Users/builduser/buildslave/mono/build/mcs/class/referencesource/mscorlib/system/collections/generic/dictionary.cs:183 \n",
      "  at OpenMined.Syft.Tensor.Factories.FloatTensorFactory.Get (System.Int32 id) [0x00008] in /Users/yanndupis/Documents/Data_Science/Encrypted_DL/OpenMined/UnityProject/Assets/OpenMined/Syft/Tensor/Factories/FloatTensorFactory.cs:24 \n",
      "  at OpenMined.Syft.Tensor.FloatTensor.Delete () [0x00048] in /Users/yanndupis/Documents/Data_Science/Encrypted_DL/OpenMined/UnityProject/Assets/OpenMined/Syft/Tensor/FloatTensor.Ops.cs:558 \n",
      "  at OpenMined.Syft.Tensor.FloatTensor.ProcessMessage (OpenMined.Network.Utils.Command msgObj, OpenMined.Network.Controllers.SyftController ctrl) [0x00e4c] in /Users/yanndupis/Documents/Data_Science/Encrypted_DL/OpenMined/UnityProject/Assets/OpenMined/Syft/Tensor/FloatTensor.cs:365 \n",
      "  at OpenMined.Network.Controllers.SyftController.processMessage (System.String json_message, UnityEngine.MonoBehaviour owner) [0x002dd] in /Users/yanndupis/Documents/Data_Science/Encrypted_DL/OpenMined/UnityProject/Assets/OpenMined/Network/Controllers/SyftController.cs:231 \n",
      "Exception ignored in: <object repr() failed>\n",
      "Traceback (most recent call last):\n",
      "  File \"/Users/yanndupis/anaconda2/envs/tflearn/lib/python3.5/site-packages/syft-0.1.0-py3.5.egg/syft/tensor.py\", line 544, in __del__\n",
      "  File \"/Users/yanndupis/anaconda2/envs/tflearn/lib/python3.5/site-packages/syft-0.1.0-py3.5.egg/syft/tensor.py\", line 1516, in delete_tensor\n",
      "  File \"/Users/yanndupis/anaconda2/envs/tflearn/lib/python3.5/site-packages/syft-0.1.0-py3.5.egg/syft/tensor.py\", line 1504, in no_params_func\n",
      "  File \"/Users/yanndupis/anaconda2/envs/tflearn/lib/python3.5/site-packages/syft-0.1.0-py3.5.egg/syft/tensor.py\", line 1486, in params_func\n",
      "  File \"/Users/yanndupis/anaconda2/envs/tflearn/lib/python3.5/site-packages/syft-0.1.0-py3.5.egg/syft/controller.py\", line 143, in send_json\n",
      "Exception: Unity Error: System.Collections.Generic.KeyNotFoundException: The given key was not present in the dictionary.\n",
      "  at System.ThrowHelper.ThrowKeyNotFoundException () [0x00000] in /Users/builduser/buildslave/mono/build/mcs/class/referencesource/mscorlib/system/throwhelper.cs:68 \n",
      "  at System.Collections.Generic.Dictionary`2[TKey,TValue].get_Item (TKey key) [0x0001e] in /Users/builduser/buildslave/mono/build/mcs/class/referencesource/mscorlib/system/collections/generic/dictionary.cs:183 \n",
      "  at OpenMined.Syft.Tensor.Factories.FloatTensorFactory.Get (System.Int32 id) [0x00008] in /Users/yanndupis/Documents/Data_Science/Encrypted_DL/OpenMined/UnityProject/Assets/OpenMined/Syft/Tensor/Factories/FloatTensorFactory.cs:24 \n",
      "  at OpenMined.Syft.Tensor.FloatTensor.Delete () [0x00048] in /Users/yanndupis/Documents/Data_Science/Encrypted_DL/OpenMined/UnityProject/Assets/OpenMined/Syft/Tensor/FloatTensor.Ops.cs:558 \n",
      "  at OpenMined.Syft.Tensor.FloatTensor.ProcessMessage (OpenMined.Network.Utils.Command msgObj, OpenMined.Network.Controllers.SyftController ctrl) [0x00e4c] in /Users/yanndupis/Documents/Data_Science/Encrypted_DL/OpenMined/UnityProject/Assets/OpenMined/Syft/Tensor/FloatTensor.cs:365 \n",
      "  at OpenMined.Network.Controllers.SyftController.processMessage (System.String json_message, UnityEngine.MonoBehaviour owner) [0x002dd] in /Users/yanndupis/Documents/Data_Science/Encrypted_DL/OpenMined/UnityProject/Assets/OpenMined/Network/Controllers/SyftController.cs:231 \n",
      "Exception ignored in: <object repr() failed>\n",
      "Traceback (most recent call last):\n",
      "  File \"/Users/yanndupis/anaconda2/envs/tflearn/lib/python3.5/site-packages/syft-0.1.0-py3.5.egg/syft/tensor.py\", line 544, in __del__\n",
      "  File \"/Users/yanndupis/anaconda2/envs/tflearn/lib/python3.5/site-packages/syft-0.1.0-py3.5.egg/syft/tensor.py\", line 1516, in delete_tensor\n",
      "  File \"/Users/yanndupis/anaconda2/envs/tflearn/lib/python3.5/site-packages/syft-0.1.0-py3.5.egg/syft/tensor.py\", line 1504, in no_params_func\n",
      "  File \"/Users/yanndupis/anaconda2/envs/tflearn/lib/python3.5/site-packages/syft-0.1.0-py3.5.egg/syft/tensor.py\", line 1486, in params_func\n",
      "  File \"/Users/yanndupis/anaconda2/envs/tflearn/lib/python3.5/site-packages/syft-0.1.0-py3.5.egg/syft/controller.py\", line 143, in send_json\n",
      "Exception: Unity Error: System.Collections.Generic.KeyNotFoundException: The given key was not present in the dictionary.\n",
      "  at System.ThrowHelper.ThrowKeyNotFoundException () [0x00000] in /Users/builduser/buildslave/mono/build/mcs/class/referencesource/mscorlib/system/throwhelper.cs:68 \n",
      "  at System.Collections.Generic.Dictionary`2[TKey,TValue].get_Item (TKey key) [0x0001e] in /Users/builduser/buildslave/mono/build/mcs/class/referencesource/mscorlib/system/collections/generic/dictionary.cs:183 \n",
      "  at OpenMined.Syft.Tensor.Factories.FloatTensorFactory.Get (System.Int32 id) [0x00008] in /Users/yanndupis/Documents/Data_Science/Encrypted_DL/OpenMined/UnityProject/Assets/OpenMined/Syft/Tensor/Factories/FloatTensorFactory.cs:24 \n",
      "  at OpenMined.Syft.Tensor.FloatTensor.Delete () [0x00048] in /Users/yanndupis/Documents/Data_Science/Encrypted_DL/OpenMined/UnityProject/Assets/OpenMined/Syft/Tensor/FloatTensor.Ops.cs:558 \n",
      "  at OpenMined.Syft.Tensor.FloatTensor.ProcessMessage (OpenMined.Network.Utils.Command msgObj, OpenMined.Network.Controllers.SyftController ctrl) [0x00e4c] in /Users/yanndupis/Documents/Data_Science/Encrypted_DL/OpenMined/UnityProject/Assets/OpenMined/Syft/Tensor/FloatTensor.cs:365 \n",
      "  at OpenMined.Network.Controllers.SyftController.processMessage (System.String json_message, UnityEngine.MonoBehaviour owner) [0x002dd] in /Users/yanndupis/Documents/Data_Science/Encrypted_DL/OpenMined/UnityProject/Assets/OpenMined/Network/Controllers/SyftController.cs:231 \n",
      "Exception ignored in: <object repr() failed>\n",
      "Traceback (most recent call last):\n",
      "  File \"/Users/yanndupis/anaconda2/envs/tflearn/lib/python3.5/site-packages/syft-0.1.0-py3.5.egg/syft/tensor.py\", line 544, in __del__\n",
      "  File \"/Users/yanndupis/anaconda2/envs/tflearn/lib/python3.5/site-packages/syft-0.1.0-py3.5.egg/syft/tensor.py\", line 1516, in delete_tensor\n",
      "  File \"/Users/yanndupis/anaconda2/envs/tflearn/lib/python3.5/site-packages/syft-0.1.0-py3.5.egg/syft/tensor.py\", line 1504, in no_params_func\n",
      "  File \"/Users/yanndupis/anaconda2/envs/tflearn/lib/python3.5/site-packages/syft-0.1.0-py3.5.egg/syft/tensor.py\", line 1486, in params_func\n",
      "  File \"/Users/yanndupis/anaconda2/envs/tflearn/lib/python3.5/site-packages/syft-0.1.0-py3.5.egg/syft/controller.py\", line 143, in send_json\n",
      "Exception: Unity Error: System.Collections.Generic.KeyNotFoundException: The given key was not present in the dictionary.\n",
      "  at System.ThrowHelper.ThrowKeyNotFoundException () [0x00000] in /Users/builduser/buildslave/mono/build/mcs/class/referencesource/mscorlib/system/throwhelper.cs:68 \n",
      "  at System.Collections.Generic.Dictionary`2[TKey,TValue].get_Item (TKey key) [0x0001e] in /Users/builduser/buildslave/mono/build/mcs/class/referencesource/mscorlib/system/collections/generic/dictionary.cs:183 \n",
      "  at OpenMined.Syft.Tensor.Factories.FloatTensorFactory.Get (System.Int32 id) [0x00008] in /Users/yanndupis/Documents/Data_Science/Encrypted_DL/OpenMined/UnityProject/Assets/OpenMined/Syft/Tensor/Factories/FloatTensorFactory.cs:24 \n",
      "  at OpenMined.Syft.Tensor.FloatTensor.Delete () [0x00048] in /Users/yanndupis/Documents/Data_Science/Encrypted_DL/OpenMined/UnityProject/Assets/OpenMined/Syft/Tensor/FloatTensor.Ops.cs:558 \n",
      "  at OpenMined.Syft.Tensor.FloatTensor.ProcessMessage (OpenMined.Network.Utils.Command msgObj, OpenMined.Network.Controllers.SyftController ctrl) [0x00e4c] in /Users/yanndupis/Documents/Data_Science/Encrypted_DL/OpenMined/UnityProject/Assets/OpenMined/Syft/Tensor/FloatTensor.cs:365 \n",
      "  at OpenMined.Network.Controllers.SyftController.processMessage (System.String json_message, UnityEngine.MonoBehaviour owner) [0x002dd] in /Users/yanndupis/Documents/Data_Science/Encrypted_DL/OpenMined/UnityProject/Assets/OpenMined/Network/Controllers/SyftController.cs:231 \n",
      "Exception ignored in: <object repr() failed>\n",
      "Traceback (most recent call last):\n",
      "  File \"/Users/yanndupis/anaconda2/envs/tflearn/lib/python3.5/site-packages/syft-0.1.0-py3.5.egg/syft/tensor.py\", line 544, in __del__\n",
      "  File \"/Users/yanndupis/anaconda2/envs/tflearn/lib/python3.5/site-packages/syft-0.1.0-py3.5.egg/syft/tensor.py\", line 1516, in delete_tensor\n",
      "  File \"/Users/yanndupis/anaconda2/envs/tflearn/lib/python3.5/site-packages/syft-0.1.0-py3.5.egg/syft/tensor.py\", line 1504, in no_params_func\n",
      "  File \"/Users/yanndupis/anaconda2/envs/tflearn/lib/python3.5/site-packages/syft-0.1.0-py3.5.egg/syft/tensor.py\", line 1486, in params_func\n",
      "  File \"/Users/yanndupis/anaconda2/envs/tflearn/lib/python3.5/site-packages/syft-0.1.0-py3.5.egg/syft/controller.py\", line 143, in send_json\n",
      "Exception: Unity Error: System.Collections.Generic.KeyNotFoundException: The given key was not present in the dictionary.\n",
      "  at System.ThrowHelper.ThrowKeyNotFoundException () [0x00000] in /Users/builduser/buildslave/mono/build/mcs/class/referencesource/mscorlib/system/throwhelper.cs:68 \n",
      "  at System.Collections.Generic.Dictionary`2[TKey,TValue].get_Item (TKey key) [0x0001e] in /Users/builduser/buildslave/mono/build/mcs/class/referencesource/mscorlib/system/collections/generic/dictionary.cs:183 \n",
      "  at OpenMined.Syft.Tensor.Factories.FloatTensorFactory.Get (System.Int32 id) [0x00008] in /Users/yanndupis/Documents/Data_Science/Encrypted_DL/OpenMined/UnityProject/Assets/OpenMined/Syft/Tensor/Factories/FloatTensorFactory.cs:24 \n",
      "  at OpenMined.Syft.Tensor.FloatTensor.Delete () [0x00048] in /Users/yanndupis/Documents/Data_Science/Encrypted_DL/OpenMined/UnityProject/Assets/OpenMined/Syft/Tensor/FloatTensor.Ops.cs:558 \n",
      "  at OpenMined.Syft.Tensor.FloatTensor.ProcessMessage (OpenMined.Network.Utils.Command msgObj, OpenMined.Network.Controllers.SyftController ctrl) [0x00e4c] in /Users/yanndupis/Documents/Data_Science/Encrypted_DL/OpenMined/UnityProject/Assets/OpenMined/Syft/Tensor/FloatTensor.cs:365 \n",
      "  at OpenMined.Network.Controllers.SyftController.processMessage (System.String json_message, UnityEngine.MonoBehaviour owner) [0x002dd] in /Users/yanndupis/Documents/Data_Science/Encrypted_DL/OpenMined/UnityProject/Assets/OpenMined/Network/Controllers/SyftController.cs:231 \n"
     ]
    },
    {
     "name": "stderr",
     "output_type": "stream",
     "text": [
      "Exception ignored in: <object repr() failed>\n",
      "Traceback (most recent call last):\n",
      "  File \"/Users/yanndupis/anaconda2/envs/tflearn/lib/python3.5/site-packages/syft-0.1.0-py3.5.egg/syft/tensor.py\", line 544, in __del__\n",
      "  File \"/Users/yanndupis/anaconda2/envs/tflearn/lib/python3.5/site-packages/syft-0.1.0-py3.5.egg/syft/tensor.py\", line 1516, in delete_tensor\n",
      "  File \"/Users/yanndupis/anaconda2/envs/tflearn/lib/python3.5/site-packages/syft-0.1.0-py3.5.egg/syft/tensor.py\", line 1504, in no_params_func\n",
      "  File \"/Users/yanndupis/anaconda2/envs/tflearn/lib/python3.5/site-packages/syft-0.1.0-py3.5.egg/syft/tensor.py\", line 1486, in params_func\n",
      "  File \"/Users/yanndupis/anaconda2/envs/tflearn/lib/python3.5/site-packages/syft-0.1.0-py3.5.egg/syft/controller.py\", line 143, in send_json\n",
      "Exception: Unity Error: System.Collections.Generic.KeyNotFoundException: The given key was not present in the dictionary.\n",
      "  at System.ThrowHelper.ThrowKeyNotFoundException () [0x00000] in /Users/builduser/buildslave/mono/build/mcs/class/referencesource/mscorlib/system/throwhelper.cs:68 \n",
      "  at System.Collections.Generic.Dictionary`2[TKey,TValue].get_Item (TKey key) [0x0001e] in /Users/builduser/buildslave/mono/build/mcs/class/referencesource/mscorlib/system/collections/generic/dictionary.cs:183 \n",
      "  at OpenMined.Syft.Tensor.Factories.FloatTensorFactory.Get (System.Int32 id) [0x00008] in /Users/yanndupis/Documents/Data_Science/Encrypted_DL/OpenMined/UnityProject/Assets/OpenMined/Syft/Tensor/Factories/FloatTensorFactory.cs:24 \n",
      "  at OpenMined.Syft.Tensor.FloatTensor.Delete () [0x00048] in /Users/yanndupis/Documents/Data_Science/Encrypted_DL/OpenMined/UnityProject/Assets/OpenMined/Syft/Tensor/FloatTensor.Ops.cs:558 \n",
      "  at OpenMined.Syft.Tensor.FloatTensor.ProcessMessage (OpenMined.Network.Utils.Command msgObj, OpenMined.Network.Controllers.SyftController ctrl) [0x00e4c] in /Users/yanndupis/Documents/Data_Science/Encrypted_DL/OpenMined/UnityProject/Assets/OpenMined/Syft/Tensor/FloatTensor.cs:365 \n",
      "  at OpenMined.Network.Controllers.SyftController.processMessage (System.String json_message, UnityEngine.MonoBehaviour owner) [0x002dd] in /Users/yanndupis/Documents/Data_Science/Encrypted_DL/OpenMined/UnityProject/Assets/OpenMined/Network/Controllers/SyftController.cs:231 \n",
      "Exception ignored in: <object repr() failed>\n",
      "Traceback (most recent call last):\n",
      "  File \"/Users/yanndupis/anaconda2/envs/tflearn/lib/python3.5/site-packages/syft-0.1.0-py3.5.egg/syft/tensor.py\", line 544, in __del__\n",
      "  File \"/Users/yanndupis/anaconda2/envs/tflearn/lib/python3.5/site-packages/syft-0.1.0-py3.5.egg/syft/tensor.py\", line 1516, in delete_tensor\n",
      "  File \"/Users/yanndupis/anaconda2/envs/tflearn/lib/python3.5/site-packages/syft-0.1.0-py3.5.egg/syft/tensor.py\", line 1504, in no_params_func\n",
      "  File \"/Users/yanndupis/anaconda2/envs/tflearn/lib/python3.5/site-packages/syft-0.1.0-py3.5.egg/syft/tensor.py\", line 1486, in params_func\n",
      "  File \"/Users/yanndupis/anaconda2/envs/tflearn/lib/python3.5/site-packages/syft-0.1.0-py3.5.egg/syft/controller.py\", line 143, in send_json\n",
      "Exception: Unity Error: System.Collections.Generic.KeyNotFoundException: The given key was not present in the dictionary.\n",
      "  at System.ThrowHelper.ThrowKeyNotFoundException () [0x00000] in /Users/builduser/buildslave/mono/build/mcs/class/referencesource/mscorlib/system/throwhelper.cs:68 \n",
      "  at System.Collections.Generic.Dictionary`2[TKey,TValue].get_Item (TKey key) [0x0001e] in /Users/builduser/buildslave/mono/build/mcs/class/referencesource/mscorlib/system/collections/generic/dictionary.cs:183 \n",
      "  at OpenMined.Syft.Tensor.Factories.FloatTensorFactory.Get (System.Int32 id) [0x00008] in /Users/yanndupis/Documents/Data_Science/Encrypted_DL/OpenMined/UnityProject/Assets/OpenMined/Syft/Tensor/Factories/FloatTensorFactory.cs:24 \n",
      "  at OpenMined.Syft.Tensor.FloatTensor.Delete () [0x00048] in /Users/yanndupis/Documents/Data_Science/Encrypted_DL/OpenMined/UnityProject/Assets/OpenMined/Syft/Tensor/FloatTensor.Ops.cs:558 \n",
      "  at OpenMined.Syft.Tensor.FloatTensor.ProcessMessage (OpenMined.Network.Utils.Command msgObj, OpenMined.Network.Controllers.SyftController ctrl) [0x00e4c] in /Users/yanndupis/Documents/Data_Science/Encrypted_DL/OpenMined/UnityProject/Assets/OpenMined/Syft/Tensor/FloatTensor.cs:365 \n",
      "  at OpenMined.Network.Controllers.SyftController.processMessage (System.String json_message, UnityEngine.MonoBehaviour owner) [0x002dd] in /Users/yanndupis/Documents/Data_Science/Encrypted_DL/OpenMined/UnityProject/Assets/OpenMined/Network/Controllers/SyftController.cs:231 \n",
      "Exception ignored in: <object repr() failed>\n",
      "Traceback (most recent call last):\n",
      "  File \"/Users/yanndupis/anaconda2/envs/tflearn/lib/python3.5/site-packages/syft-0.1.0-py3.5.egg/syft/tensor.py\", line 544, in __del__\n",
      "  File \"/Users/yanndupis/anaconda2/envs/tflearn/lib/python3.5/site-packages/syft-0.1.0-py3.5.egg/syft/tensor.py\", line 1516, in delete_tensor\n",
      "  File \"/Users/yanndupis/anaconda2/envs/tflearn/lib/python3.5/site-packages/syft-0.1.0-py3.5.egg/syft/tensor.py\", line 1504, in no_params_func\n",
      "  File \"/Users/yanndupis/anaconda2/envs/tflearn/lib/python3.5/site-packages/syft-0.1.0-py3.5.egg/syft/tensor.py\", line 1486, in params_func\n",
      "  File \"/Users/yanndupis/anaconda2/envs/tflearn/lib/python3.5/site-packages/syft-0.1.0-py3.5.egg/syft/controller.py\", line 143, in send_json\n",
      "Exception: Unity Error: System.Collections.Generic.KeyNotFoundException: The given key was not present in the dictionary.\n",
      "  at System.ThrowHelper.ThrowKeyNotFoundException () [0x00000] in /Users/builduser/buildslave/mono/build/mcs/class/referencesource/mscorlib/system/throwhelper.cs:68 \n",
      "  at System.Collections.Generic.Dictionary`2[TKey,TValue].get_Item (TKey key) [0x0001e] in /Users/builduser/buildslave/mono/build/mcs/class/referencesource/mscorlib/system/collections/generic/dictionary.cs:183 \n",
      "  at OpenMined.Syft.Tensor.Factories.FloatTensorFactory.Get (System.Int32 id) [0x00008] in /Users/yanndupis/Documents/Data_Science/Encrypted_DL/OpenMined/UnityProject/Assets/OpenMined/Syft/Tensor/Factories/FloatTensorFactory.cs:24 \n",
      "  at OpenMined.Syft.Tensor.FloatTensor.Delete () [0x00048] in /Users/yanndupis/Documents/Data_Science/Encrypted_DL/OpenMined/UnityProject/Assets/OpenMined/Syft/Tensor/FloatTensor.Ops.cs:558 \n",
      "  at OpenMined.Syft.Tensor.FloatTensor.ProcessMessage (OpenMined.Network.Utils.Command msgObj, OpenMined.Network.Controllers.SyftController ctrl) [0x00e4c] in /Users/yanndupis/Documents/Data_Science/Encrypted_DL/OpenMined/UnityProject/Assets/OpenMined/Syft/Tensor/FloatTensor.cs:365 \n",
      "  at OpenMined.Network.Controllers.SyftController.processMessage (System.String json_message, UnityEngine.MonoBehaviour owner) [0x002dd] in /Users/yanndupis/Documents/Data_Science/Encrypted_DL/OpenMined/UnityProject/Assets/OpenMined/Network/Controllers/SyftController.cs:231 \n",
      "Exception ignored in: <object repr() failed>\n",
      "Traceback (most recent call last):\n",
      "  File \"/Users/yanndupis/anaconda2/envs/tflearn/lib/python3.5/site-packages/syft-0.1.0-py3.5.egg/syft/tensor.py\", line 544, in __del__\n",
      "  File \"/Users/yanndupis/anaconda2/envs/tflearn/lib/python3.5/site-packages/syft-0.1.0-py3.5.egg/syft/tensor.py\", line 1516, in delete_tensor\n",
      "  File \"/Users/yanndupis/anaconda2/envs/tflearn/lib/python3.5/site-packages/syft-0.1.0-py3.5.egg/syft/tensor.py\", line 1504, in no_params_func\n",
      "  File \"/Users/yanndupis/anaconda2/envs/tflearn/lib/python3.5/site-packages/syft-0.1.0-py3.5.egg/syft/tensor.py\", line 1486, in params_func\n",
      "  File \"/Users/yanndupis/anaconda2/envs/tflearn/lib/python3.5/site-packages/syft-0.1.0-py3.5.egg/syft/controller.py\", line 143, in send_json\n",
      "Exception: Unity Error: System.Collections.Generic.KeyNotFoundException: The given key was not present in the dictionary.\n",
      "  at System.ThrowHelper.ThrowKeyNotFoundException () [0x00000] in /Users/builduser/buildslave/mono/build/mcs/class/referencesource/mscorlib/system/throwhelper.cs:68 \n",
      "  at System.Collections.Generic.Dictionary`2[TKey,TValue].get_Item (TKey key) [0x0001e] in /Users/builduser/buildslave/mono/build/mcs/class/referencesource/mscorlib/system/collections/generic/dictionary.cs:183 \n",
      "  at OpenMined.Syft.Tensor.Factories.FloatTensorFactory.Get (System.Int32 id) [0x00008] in /Users/yanndupis/Documents/Data_Science/Encrypted_DL/OpenMined/UnityProject/Assets/OpenMined/Syft/Tensor/Factories/FloatTensorFactory.cs:24 \n",
      "  at OpenMined.Syft.Tensor.FloatTensor.Delete () [0x00048] in /Users/yanndupis/Documents/Data_Science/Encrypted_DL/OpenMined/UnityProject/Assets/OpenMined/Syft/Tensor/FloatTensor.Ops.cs:558 \n",
      "  at OpenMined.Syft.Tensor.FloatTensor.ProcessMessage (OpenMined.Network.Utils.Command msgObj, OpenMined.Network.Controllers.SyftController ctrl) [0x00e4c] in /Users/yanndupis/Documents/Data_Science/Encrypted_DL/OpenMined/UnityProject/Assets/OpenMined/Syft/Tensor/FloatTensor.cs:365 \n",
      "  at OpenMined.Network.Controllers.SyftController.processMessage (System.String json_message, UnityEngine.MonoBehaviour owner) [0x002dd] in /Users/yanndupis/Documents/Data_Science/Encrypted_DL/OpenMined/UnityProject/Assets/OpenMined/Network/Controllers/SyftController.cs:231 \n",
      "Exception ignored in: <object repr() failed>\n",
      "Traceback (most recent call last):\n",
      "  File \"/Users/yanndupis/anaconda2/envs/tflearn/lib/python3.5/site-packages/syft-0.1.0-py3.5.egg/syft/tensor.py\", line 544, in __del__\n",
      "  File \"/Users/yanndupis/anaconda2/envs/tflearn/lib/python3.5/site-packages/syft-0.1.0-py3.5.egg/syft/tensor.py\", line 1516, in delete_tensor\n",
      "  File \"/Users/yanndupis/anaconda2/envs/tflearn/lib/python3.5/site-packages/syft-0.1.0-py3.5.egg/syft/tensor.py\", line 1504, in no_params_func\n",
      "  File \"/Users/yanndupis/anaconda2/envs/tflearn/lib/python3.5/site-packages/syft-0.1.0-py3.5.egg/syft/tensor.py\", line 1486, in params_func\n",
      "  File \"/Users/yanndupis/anaconda2/envs/tflearn/lib/python3.5/site-packages/syft-0.1.0-py3.5.egg/syft/controller.py\", line 143, in send_json\n",
      "Exception: Unity Error: System.Collections.Generic.KeyNotFoundException: The given key was not present in the dictionary.\n",
      "  at System.ThrowHelper.ThrowKeyNotFoundException () [0x00000] in /Users/builduser/buildslave/mono/build/mcs/class/referencesource/mscorlib/system/throwhelper.cs:68 \n",
      "  at System.Collections.Generic.Dictionary`2[TKey,TValue].get_Item (TKey key) [0x0001e] in /Users/builduser/buildslave/mono/build/mcs/class/referencesource/mscorlib/system/collections/generic/dictionary.cs:183 \n",
      "  at OpenMined.Syft.Tensor.Factories.FloatTensorFactory.Get (System.Int32 id) [0x00008] in /Users/yanndupis/Documents/Data_Science/Encrypted_DL/OpenMined/UnityProject/Assets/OpenMined/Syft/Tensor/Factories/FloatTensorFactory.cs:24 \n",
      "  at OpenMined.Syft.Tensor.FloatTensor.Delete () [0x00048] in /Users/yanndupis/Documents/Data_Science/Encrypted_DL/OpenMined/UnityProject/Assets/OpenMined/Syft/Tensor/FloatTensor.Ops.cs:558 \n",
      "  at OpenMined.Syft.Tensor.FloatTensor.ProcessMessage (OpenMined.Network.Utils.Command msgObj, OpenMined.Network.Controllers.SyftController ctrl) [0x00e4c] in /Users/yanndupis/Documents/Data_Science/Encrypted_DL/OpenMined/UnityProject/Assets/OpenMined/Syft/Tensor/FloatTensor.cs:365 \n",
      "  at OpenMined.Network.Controllers.SyftController.processMessage (System.String json_message, UnityEngine.MonoBehaviour owner) [0x002dd] in /Users/yanndupis/Documents/Data_Science/Encrypted_DL/OpenMined/UnityProject/Assets/OpenMined/Network/Controllers/SyftController.cs:231 \n"
     ]
    },
    {
     "name": "stderr",
     "output_type": "stream",
     "text": [
      "Exception ignored in: <object repr() failed>\n",
      "Traceback (most recent call last):\n",
      "  File \"/Users/yanndupis/anaconda2/envs/tflearn/lib/python3.5/site-packages/syft-0.1.0-py3.5.egg/syft/tensor.py\", line 544, in __del__\n",
      "  File \"/Users/yanndupis/anaconda2/envs/tflearn/lib/python3.5/site-packages/syft-0.1.0-py3.5.egg/syft/tensor.py\", line 1516, in delete_tensor\n",
      "  File \"/Users/yanndupis/anaconda2/envs/tflearn/lib/python3.5/site-packages/syft-0.1.0-py3.5.egg/syft/tensor.py\", line 1504, in no_params_func\n",
      "  File \"/Users/yanndupis/anaconda2/envs/tflearn/lib/python3.5/site-packages/syft-0.1.0-py3.5.egg/syft/tensor.py\", line 1486, in params_func\n",
      "  File \"/Users/yanndupis/anaconda2/envs/tflearn/lib/python3.5/site-packages/syft-0.1.0-py3.5.egg/syft/controller.py\", line 143, in send_json\n",
      "Exception: Unity Error: System.Collections.Generic.KeyNotFoundException: The given key was not present in the dictionary.\n",
      "  at System.ThrowHelper.ThrowKeyNotFoundException () [0x00000] in /Users/builduser/buildslave/mono/build/mcs/class/referencesource/mscorlib/system/throwhelper.cs:68 \n",
      "  at System.Collections.Generic.Dictionary`2[TKey,TValue].get_Item (TKey key) [0x0001e] in /Users/builduser/buildslave/mono/build/mcs/class/referencesource/mscorlib/system/collections/generic/dictionary.cs:183 \n",
      "  at OpenMined.Syft.Tensor.Factories.FloatTensorFactory.Get (System.Int32 id) [0x00008] in /Users/yanndupis/Documents/Data_Science/Encrypted_DL/OpenMined/UnityProject/Assets/OpenMined/Syft/Tensor/Factories/FloatTensorFactory.cs:24 \n",
      "  at OpenMined.Syft.Tensor.FloatTensor.Delete () [0x00048] in /Users/yanndupis/Documents/Data_Science/Encrypted_DL/OpenMined/UnityProject/Assets/OpenMined/Syft/Tensor/FloatTensor.Ops.cs:558 \n",
      "  at OpenMined.Syft.Tensor.FloatTensor.ProcessMessage (OpenMined.Network.Utils.Command msgObj, OpenMined.Network.Controllers.SyftController ctrl) [0x00e4c] in /Users/yanndupis/Documents/Data_Science/Encrypted_DL/OpenMined/UnityProject/Assets/OpenMined/Syft/Tensor/FloatTensor.cs:365 \n",
      "  at OpenMined.Network.Controllers.SyftController.processMessage (System.String json_message, UnityEngine.MonoBehaviour owner) [0x002dd] in /Users/yanndupis/Documents/Data_Science/Encrypted_DL/OpenMined/UnityProject/Assets/OpenMined/Network/Controllers/SyftController.cs:231 \n",
      "Exception ignored in: <object repr() failed>\n",
      "Traceback (most recent call last):\n",
      "  File \"/Users/yanndupis/anaconda2/envs/tflearn/lib/python3.5/site-packages/syft-0.1.0-py3.5.egg/syft/tensor.py\", line 544, in __del__\n",
      "  File \"/Users/yanndupis/anaconda2/envs/tflearn/lib/python3.5/site-packages/syft-0.1.0-py3.5.egg/syft/tensor.py\", line 1516, in delete_tensor\n",
      "  File \"/Users/yanndupis/anaconda2/envs/tflearn/lib/python3.5/site-packages/syft-0.1.0-py3.5.egg/syft/tensor.py\", line 1504, in no_params_func\n",
      "  File \"/Users/yanndupis/anaconda2/envs/tflearn/lib/python3.5/site-packages/syft-0.1.0-py3.5.egg/syft/tensor.py\", line 1486, in params_func\n",
      "  File \"/Users/yanndupis/anaconda2/envs/tflearn/lib/python3.5/site-packages/syft-0.1.0-py3.5.egg/syft/controller.py\", line 143, in send_json\n",
      "Exception: Unity Error: System.Collections.Generic.KeyNotFoundException: The given key was not present in the dictionary.\n",
      "  at System.ThrowHelper.ThrowKeyNotFoundException () [0x00000] in /Users/builduser/buildslave/mono/build/mcs/class/referencesource/mscorlib/system/throwhelper.cs:68 \n",
      "  at System.Collections.Generic.Dictionary`2[TKey,TValue].get_Item (TKey key) [0x0001e] in /Users/builduser/buildslave/mono/build/mcs/class/referencesource/mscorlib/system/collections/generic/dictionary.cs:183 \n",
      "  at OpenMined.Syft.Tensor.Factories.FloatTensorFactory.Get (System.Int32 id) [0x00008] in /Users/yanndupis/Documents/Data_Science/Encrypted_DL/OpenMined/UnityProject/Assets/OpenMined/Syft/Tensor/Factories/FloatTensorFactory.cs:24 \n",
      "  at OpenMined.Syft.Tensor.FloatTensor.Delete () [0x00048] in /Users/yanndupis/Documents/Data_Science/Encrypted_DL/OpenMined/UnityProject/Assets/OpenMined/Syft/Tensor/FloatTensor.Ops.cs:558 \n",
      "  at OpenMined.Syft.Tensor.FloatTensor.ProcessMessage (OpenMined.Network.Utils.Command msgObj, OpenMined.Network.Controllers.SyftController ctrl) [0x00e4c] in /Users/yanndupis/Documents/Data_Science/Encrypted_DL/OpenMined/UnityProject/Assets/OpenMined/Syft/Tensor/FloatTensor.cs:365 \n",
      "  at OpenMined.Network.Controllers.SyftController.processMessage (System.String json_message, UnityEngine.MonoBehaviour owner) [0x002dd] in /Users/yanndupis/Documents/Data_Science/Encrypted_DL/OpenMined/UnityProject/Assets/OpenMined/Network/Controllers/SyftController.cs:231 \n",
      "Exception ignored in: <object repr() failed>\n",
      "Traceback (most recent call last):\n",
      "  File \"/Users/yanndupis/anaconda2/envs/tflearn/lib/python3.5/site-packages/syft-0.1.0-py3.5.egg/syft/tensor.py\", line 544, in __del__\n",
      "  File \"/Users/yanndupis/anaconda2/envs/tflearn/lib/python3.5/site-packages/syft-0.1.0-py3.5.egg/syft/tensor.py\", line 1516, in delete_tensor\n",
      "  File \"/Users/yanndupis/anaconda2/envs/tflearn/lib/python3.5/site-packages/syft-0.1.0-py3.5.egg/syft/tensor.py\", line 1504, in no_params_func\n",
      "  File \"/Users/yanndupis/anaconda2/envs/tflearn/lib/python3.5/site-packages/syft-0.1.0-py3.5.egg/syft/tensor.py\", line 1486, in params_func\n",
      "  File \"/Users/yanndupis/anaconda2/envs/tflearn/lib/python3.5/site-packages/syft-0.1.0-py3.5.egg/syft/controller.py\", line 143, in send_json\n",
      "Exception: Unity Error: System.Collections.Generic.KeyNotFoundException: The given key was not present in the dictionary.\n",
      "  at System.ThrowHelper.ThrowKeyNotFoundException () [0x00000] in /Users/builduser/buildslave/mono/build/mcs/class/referencesource/mscorlib/system/throwhelper.cs:68 \n",
      "  at System.Collections.Generic.Dictionary`2[TKey,TValue].get_Item (TKey key) [0x0001e] in /Users/builduser/buildslave/mono/build/mcs/class/referencesource/mscorlib/system/collections/generic/dictionary.cs:183 \n",
      "  at OpenMined.Syft.Tensor.Factories.FloatTensorFactory.Get (System.Int32 id) [0x00008] in /Users/yanndupis/Documents/Data_Science/Encrypted_DL/OpenMined/UnityProject/Assets/OpenMined/Syft/Tensor/Factories/FloatTensorFactory.cs:24 \n",
      "  at OpenMined.Syft.Tensor.FloatTensor.Delete () [0x00048] in /Users/yanndupis/Documents/Data_Science/Encrypted_DL/OpenMined/UnityProject/Assets/OpenMined/Syft/Tensor/FloatTensor.Ops.cs:558 \n",
      "  at OpenMined.Syft.Tensor.FloatTensor.ProcessMessage (OpenMined.Network.Utils.Command msgObj, OpenMined.Network.Controllers.SyftController ctrl) [0x00e4c] in /Users/yanndupis/Documents/Data_Science/Encrypted_DL/OpenMined/UnityProject/Assets/OpenMined/Syft/Tensor/FloatTensor.cs:365 \n",
      "  at OpenMined.Network.Controllers.SyftController.processMessage (System.String json_message, UnityEngine.MonoBehaviour owner) [0x002dd] in /Users/yanndupis/Documents/Data_Science/Encrypted_DL/OpenMined/UnityProject/Assets/OpenMined/Network/Controllers/SyftController.cs:231 \n",
      "Exception ignored in: <object repr() failed>\n",
      "Traceback (most recent call last):\n",
      "  File \"/Users/yanndupis/anaconda2/envs/tflearn/lib/python3.5/site-packages/syft-0.1.0-py3.5.egg/syft/tensor.py\", line 544, in __del__\n",
      "  File \"/Users/yanndupis/anaconda2/envs/tflearn/lib/python3.5/site-packages/syft-0.1.0-py3.5.egg/syft/tensor.py\", line 1516, in delete_tensor\n",
      "  File \"/Users/yanndupis/anaconda2/envs/tflearn/lib/python3.5/site-packages/syft-0.1.0-py3.5.egg/syft/tensor.py\", line 1504, in no_params_func\n",
      "  File \"/Users/yanndupis/anaconda2/envs/tflearn/lib/python3.5/site-packages/syft-0.1.0-py3.5.egg/syft/tensor.py\", line 1486, in params_func\n",
      "  File \"/Users/yanndupis/anaconda2/envs/tflearn/lib/python3.5/site-packages/syft-0.1.0-py3.5.egg/syft/controller.py\", line 143, in send_json\n",
      "Exception: Unity Error: System.Collections.Generic.KeyNotFoundException: The given key was not present in the dictionary.\n",
      "  at System.ThrowHelper.ThrowKeyNotFoundException () [0x00000] in /Users/builduser/buildslave/mono/build/mcs/class/referencesource/mscorlib/system/throwhelper.cs:68 \n",
      "  at System.Collections.Generic.Dictionary`2[TKey,TValue].get_Item (TKey key) [0x0001e] in /Users/builduser/buildslave/mono/build/mcs/class/referencesource/mscorlib/system/collections/generic/dictionary.cs:183 \n",
      "  at OpenMined.Syft.Tensor.Factories.FloatTensorFactory.Get (System.Int32 id) [0x00008] in /Users/yanndupis/Documents/Data_Science/Encrypted_DL/OpenMined/UnityProject/Assets/OpenMined/Syft/Tensor/Factories/FloatTensorFactory.cs:24 \n",
      "  at OpenMined.Syft.Tensor.FloatTensor.Delete () [0x00048] in /Users/yanndupis/Documents/Data_Science/Encrypted_DL/OpenMined/UnityProject/Assets/OpenMined/Syft/Tensor/FloatTensor.Ops.cs:558 \n",
      "  at OpenMined.Syft.Tensor.FloatTensor.ProcessMessage (OpenMined.Network.Utils.Command msgObj, OpenMined.Network.Controllers.SyftController ctrl) [0x00e4c] in /Users/yanndupis/Documents/Data_Science/Encrypted_DL/OpenMined/UnityProject/Assets/OpenMined/Syft/Tensor/FloatTensor.cs:365 \n",
      "  at OpenMined.Network.Controllers.SyftController.processMessage (System.String json_message, UnityEngine.MonoBehaviour owner) [0x002dd] in /Users/yanndupis/Documents/Data_Science/Encrypted_DL/OpenMined/UnityProject/Assets/OpenMined/Network/Controllers/SyftController.cs:231 \n"
     ]
    },
    {
     "name": "stderr",
     "output_type": "stream",
     "text": [
      "Exception ignored in: <object repr() failed>\n",
      "Traceback (most recent call last):\n",
      "  File \"/Users/yanndupis/anaconda2/envs/tflearn/lib/python3.5/site-packages/syft-0.1.0-py3.5.egg/syft/tensor.py\", line 544, in __del__\n",
      "  File \"/Users/yanndupis/anaconda2/envs/tflearn/lib/python3.5/site-packages/syft-0.1.0-py3.5.egg/syft/tensor.py\", line 1516, in delete_tensor\n",
      "  File \"/Users/yanndupis/anaconda2/envs/tflearn/lib/python3.5/site-packages/syft-0.1.0-py3.5.egg/syft/tensor.py\", line 1504, in no_params_func\n",
      "  File \"/Users/yanndupis/anaconda2/envs/tflearn/lib/python3.5/site-packages/syft-0.1.0-py3.5.egg/syft/tensor.py\", line 1486, in params_func\n",
      "  File \"/Users/yanndupis/anaconda2/envs/tflearn/lib/python3.5/site-packages/syft-0.1.0-py3.5.egg/syft/controller.py\", line 143, in send_json\n",
      "Exception: Unity Error: System.Collections.Generic.KeyNotFoundException: The given key was not present in the dictionary.\n",
      "  at System.ThrowHelper.ThrowKeyNotFoundException () [0x00000] in /Users/builduser/buildslave/mono/build/mcs/class/referencesource/mscorlib/system/throwhelper.cs:68 \n",
      "  at System.Collections.Generic.Dictionary`2[TKey,TValue].get_Item (TKey key) [0x0001e] in /Users/builduser/buildslave/mono/build/mcs/class/referencesource/mscorlib/system/collections/generic/dictionary.cs:183 \n",
      "  at OpenMined.Syft.Tensor.Factories.FloatTensorFactory.Get (System.Int32 id) [0x00008] in /Users/yanndupis/Documents/Data_Science/Encrypted_DL/OpenMined/UnityProject/Assets/OpenMined/Syft/Tensor/Factories/FloatTensorFactory.cs:24 \n",
      "  at OpenMined.Syft.Tensor.FloatTensor.Delete () [0x00048] in /Users/yanndupis/Documents/Data_Science/Encrypted_DL/OpenMined/UnityProject/Assets/OpenMined/Syft/Tensor/FloatTensor.Ops.cs:558 \n",
      "  at OpenMined.Syft.Tensor.FloatTensor.ProcessMessage (OpenMined.Network.Utils.Command msgObj, OpenMined.Network.Controllers.SyftController ctrl) [0x00e4c] in /Users/yanndupis/Documents/Data_Science/Encrypted_DL/OpenMined/UnityProject/Assets/OpenMined/Syft/Tensor/FloatTensor.cs:365 \n",
      "  at OpenMined.Network.Controllers.SyftController.processMessage (System.String json_message, UnityEngine.MonoBehaviour owner) [0x002dd] in /Users/yanndupis/Documents/Data_Science/Encrypted_DL/OpenMined/UnityProject/Assets/OpenMined/Network/Controllers/SyftController.cs:231 \n",
      "Exception ignored in: <object repr() failed>\n",
      "Traceback (most recent call last):\n",
      "  File \"/Users/yanndupis/anaconda2/envs/tflearn/lib/python3.5/site-packages/syft-0.1.0-py3.5.egg/syft/tensor.py\", line 544, in __del__\n",
      "  File \"/Users/yanndupis/anaconda2/envs/tflearn/lib/python3.5/site-packages/syft-0.1.0-py3.5.egg/syft/tensor.py\", line 1516, in delete_tensor\n",
      "  File \"/Users/yanndupis/anaconda2/envs/tflearn/lib/python3.5/site-packages/syft-0.1.0-py3.5.egg/syft/tensor.py\", line 1504, in no_params_func\n",
      "  File \"/Users/yanndupis/anaconda2/envs/tflearn/lib/python3.5/site-packages/syft-0.1.0-py3.5.egg/syft/tensor.py\", line 1486, in params_func\n",
      "  File \"/Users/yanndupis/anaconda2/envs/tflearn/lib/python3.5/site-packages/syft-0.1.0-py3.5.egg/syft/controller.py\", line 143, in send_json\n",
      "Exception: Unity Error: System.Collections.Generic.KeyNotFoundException: The given key was not present in the dictionary.\n",
      "  at System.ThrowHelper.ThrowKeyNotFoundException () [0x00000] in /Users/builduser/buildslave/mono/build/mcs/class/referencesource/mscorlib/system/throwhelper.cs:68 \n",
      "  at System.Collections.Generic.Dictionary`2[TKey,TValue].get_Item (TKey key) [0x0001e] in /Users/builduser/buildslave/mono/build/mcs/class/referencesource/mscorlib/system/collections/generic/dictionary.cs:183 \n",
      "  at OpenMined.Syft.Tensor.Factories.FloatTensorFactory.Get (System.Int32 id) [0x00008] in /Users/yanndupis/Documents/Data_Science/Encrypted_DL/OpenMined/UnityProject/Assets/OpenMined/Syft/Tensor/Factories/FloatTensorFactory.cs:24 \n",
      "  at OpenMined.Syft.Tensor.FloatTensor.Delete () [0x00048] in /Users/yanndupis/Documents/Data_Science/Encrypted_DL/OpenMined/UnityProject/Assets/OpenMined/Syft/Tensor/FloatTensor.Ops.cs:558 \n",
      "  at OpenMined.Syft.Tensor.FloatTensor.ProcessMessage (OpenMined.Network.Utils.Command msgObj, OpenMined.Network.Controllers.SyftController ctrl) [0x00e4c] in /Users/yanndupis/Documents/Data_Science/Encrypted_DL/OpenMined/UnityProject/Assets/OpenMined/Syft/Tensor/FloatTensor.cs:365 \n",
      "  at OpenMined.Network.Controllers.SyftController.processMessage (System.String json_message, UnityEngine.MonoBehaviour owner) [0x002dd] in /Users/yanndupis/Documents/Data_Science/Encrypted_DL/OpenMined/UnityProject/Assets/OpenMined/Network/Controllers/SyftController.cs:231 \n",
      "Exception ignored in: <object repr() failed>\n",
      "Traceback (most recent call last):\n",
      "  File \"/Users/yanndupis/anaconda2/envs/tflearn/lib/python3.5/site-packages/syft-0.1.0-py3.5.egg/syft/tensor.py\", line 544, in __del__\n",
      "  File \"/Users/yanndupis/anaconda2/envs/tflearn/lib/python3.5/site-packages/syft-0.1.0-py3.5.egg/syft/tensor.py\", line 1516, in delete_tensor\n",
      "  File \"/Users/yanndupis/anaconda2/envs/tflearn/lib/python3.5/site-packages/syft-0.1.0-py3.5.egg/syft/tensor.py\", line 1504, in no_params_func\n",
      "  File \"/Users/yanndupis/anaconda2/envs/tflearn/lib/python3.5/site-packages/syft-0.1.0-py3.5.egg/syft/tensor.py\", line 1486, in params_func\n",
      "  File \"/Users/yanndupis/anaconda2/envs/tflearn/lib/python3.5/site-packages/syft-0.1.0-py3.5.egg/syft/controller.py\", line 143, in send_json\n",
      "Exception: Unity Error: System.Collections.Generic.KeyNotFoundException: The given key was not present in the dictionary.\n",
      "  at System.ThrowHelper.ThrowKeyNotFoundException () [0x00000] in /Users/builduser/buildslave/mono/build/mcs/class/referencesource/mscorlib/system/throwhelper.cs:68 \n",
      "  at System.Collections.Generic.Dictionary`2[TKey,TValue].get_Item (TKey key) [0x0001e] in /Users/builduser/buildslave/mono/build/mcs/class/referencesource/mscorlib/system/collections/generic/dictionary.cs:183 \n",
      "  at OpenMined.Syft.Tensor.Factories.FloatTensorFactory.Get (System.Int32 id) [0x00008] in /Users/yanndupis/Documents/Data_Science/Encrypted_DL/OpenMined/UnityProject/Assets/OpenMined/Syft/Tensor/Factories/FloatTensorFactory.cs:24 \n",
      "  at OpenMined.Syft.Tensor.FloatTensor.Delete () [0x00048] in /Users/yanndupis/Documents/Data_Science/Encrypted_DL/OpenMined/UnityProject/Assets/OpenMined/Syft/Tensor/FloatTensor.Ops.cs:558 \n",
      "  at OpenMined.Syft.Tensor.FloatTensor.ProcessMessage (OpenMined.Network.Utils.Command msgObj, OpenMined.Network.Controllers.SyftController ctrl) [0x00e4c] in /Users/yanndupis/Documents/Data_Science/Encrypted_DL/OpenMined/UnityProject/Assets/OpenMined/Syft/Tensor/FloatTensor.cs:365 \n",
      "  at OpenMined.Network.Controllers.SyftController.processMessage (System.String json_message, UnityEngine.MonoBehaviour owner) [0x002dd] in /Users/yanndupis/Documents/Data_Science/Encrypted_DL/OpenMined/UnityProject/Assets/OpenMined/Network/Controllers/SyftController.cs:231 \n",
      "Exception ignored in: <object repr() failed>\n",
      "Traceback (most recent call last):\n",
      "  File \"/Users/yanndupis/anaconda2/envs/tflearn/lib/python3.5/site-packages/syft-0.1.0-py3.5.egg/syft/tensor.py\", line 544, in __del__\n",
      "  File \"/Users/yanndupis/anaconda2/envs/tflearn/lib/python3.5/site-packages/syft-0.1.0-py3.5.egg/syft/tensor.py\", line 1516, in delete_tensor\n",
      "  File \"/Users/yanndupis/anaconda2/envs/tflearn/lib/python3.5/site-packages/syft-0.1.0-py3.5.egg/syft/tensor.py\", line 1504, in no_params_func\n",
      "  File \"/Users/yanndupis/anaconda2/envs/tflearn/lib/python3.5/site-packages/syft-0.1.0-py3.5.egg/syft/tensor.py\", line 1486, in params_func\n",
      "  File \"/Users/yanndupis/anaconda2/envs/tflearn/lib/python3.5/site-packages/syft-0.1.0-py3.5.egg/syft/controller.py\", line 143, in send_json\n",
      "Exception: Unity Error: System.Collections.Generic.KeyNotFoundException: The given key was not present in the dictionary.\n",
      "  at System.ThrowHelper.ThrowKeyNotFoundException () [0x00000] in /Users/builduser/buildslave/mono/build/mcs/class/referencesource/mscorlib/system/throwhelper.cs:68 \n",
      "  at System.Collections.Generic.Dictionary`2[TKey,TValue].get_Item (TKey key) [0x0001e] in /Users/builduser/buildslave/mono/build/mcs/class/referencesource/mscorlib/system/collections/generic/dictionary.cs:183 \n",
      "  at OpenMined.Syft.Tensor.Factories.FloatTensorFactory.Get (System.Int32 id) [0x00008] in /Users/yanndupis/Documents/Data_Science/Encrypted_DL/OpenMined/UnityProject/Assets/OpenMined/Syft/Tensor/Factories/FloatTensorFactory.cs:24 \n",
      "  at OpenMined.Syft.Tensor.FloatTensor.Delete () [0x00048] in /Users/yanndupis/Documents/Data_Science/Encrypted_DL/OpenMined/UnityProject/Assets/OpenMined/Syft/Tensor/FloatTensor.Ops.cs:558 \n",
      "  at OpenMined.Syft.Tensor.FloatTensor.ProcessMessage (OpenMined.Network.Utils.Command msgObj, OpenMined.Network.Controllers.SyftController ctrl) [0x00e4c] in /Users/yanndupis/Documents/Data_Science/Encrypted_DL/OpenMined/UnityProject/Assets/OpenMined/Syft/Tensor/FloatTensor.cs:365 \n",
      "  at OpenMined.Network.Controllers.SyftController.processMessage (System.String json_message, UnityEngine.MonoBehaviour owner) [0x002dd] in /Users/yanndupis/Documents/Data_Science/Encrypted_DL/OpenMined/UnityProject/Assets/OpenMined/Network/Controllers/SyftController.cs:231 \n"
     ]
    },
    {
     "name": "stderr",
     "output_type": "stream",
     "text": [
      "Exception ignored in: <object repr() failed>\n",
      "Traceback (most recent call last):\n",
      "  File \"/Users/yanndupis/anaconda2/envs/tflearn/lib/python3.5/site-packages/syft-0.1.0-py3.5.egg/syft/tensor.py\", line 544, in __del__\n",
      "  File \"/Users/yanndupis/anaconda2/envs/tflearn/lib/python3.5/site-packages/syft-0.1.0-py3.5.egg/syft/tensor.py\", line 1516, in delete_tensor\n",
      "  File \"/Users/yanndupis/anaconda2/envs/tflearn/lib/python3.5/site-packages/syft-0.1.0-py3.5.egg/syft/tensor.py\", line 1504, in no_params_func\n",
      "  File \"/Users/yanndupis/anaconda2/envs/tflearn/lib/python3.5/site-packages/syft-0.1.0-py3.5.egg/syft/tensor.py\", line 1486, in params_func\n",
      "  File \"/Users/yanndupis/anaconda2/envs/tflearn/lib/python3.5/site-packages/syft-0.1.0-py3.5.egg/syft/controller.py\", line 143, in send_json\n",
      "Exception: Unity Error: System.Collections.Generic.KeyNotFoundException: The given key was not present in the dictionary.\n",
      "  at System.ThrowHelper.ThrowKeyNotFoundException () [0x00000] in /Users/builduser/buildslave/mono/build/mcs/class/referencesource/mscorlib/system/throwhelper.cs:68 \n",
      "  at System.Collections.Generic.Dictionary`2[TKey,TValue].get_Item (TKey key) [0x0001e] in /Users/builduser/buildslave/mono/build/mcs/class/referencesource/mscorlib/system/collections/generic/dictionary.cs:183 \n",
      "  at OpenMined.Syft.Tensor.Factories.FloatTensorFactory.Get (System.Int32 id) [0x00008] in /Users/yanndupis/Documents/Data_Science/Encrypted_DL/OpenMined/UnityProject/Assets/OpenMined/Syft/Tensor/Factories/FloatTensorFactory.cs:24 \n",
      "  at OpenMined.Syft.Tensor.FloatTensor.Delete () [0x00048] in /Users/yanndupis/Documents/Data_Science/Encrypted_DL/OpenMined/UnityProject/Assets/OpenMined/Syft/Tensor/FloatTensor.Ops.cs:558 \n",
      "  at OpenMined.Syft.Tensor.FloatTensor.ProcessMessage (OpenMined.Network.Utils.Command msgObj, OpenMined.Network.Controllers.SyftController ctrl) [0x00e4c] in /Users/yanndupis/Documents/Data_Science/Encrypted_DL/OpenMined/UnityProject/Assets/OpenMined/Syft/Tensor/FloatTensor.cs:365 \n",
      "  at OpenMined.Network.Controllers.SyftController.processMessage (System.String json_message, UnityEngine.MonoBehaviour owner) [0x002dd] in /Users/yanndupis/Documents/Data_Science/Encrypted_DL/OpenMined/UnityProject/Assets/OpenMined/Network/Controllers/SyftController.cs:231 \n",
      "Exception ignored in: <object repr() failed>\n",
      "Traceback (most recent call last):\n",
      "  File \"/Users/yanndupis/anaconda2/envs/tflearn/lib/python3.5/site-packages/syft-0.1.0-py3.5.egg/syft/tensor.py\", line 544, in __del__\n",
      "  File \"/Users/yanndupis/anaconda2/envs/tflearn/lib/python3.5/site-packages/syft-0.1.0-py3.5.egg/syft/tensor.py\", line 1516, in delete_tensor\n",
      "  File \"/Users/yanndupis/anaconda2/envs/tflearn/lib/python3.5/site-packages/syft-0.1.0-py3.5.egg/syft/tensor.py\", line 1504, in no_params_func\n",
      "  File \"/Users/yanndupis/anaconda2/envs/tflearn/lib/python3.5/site-packages/syft-0.1.0-py3.5.egg/syft/tensor.py\", line 1486, in params_func\n",
      "  File \"/Users/yanndupis/anaconda2/envs/tflearn/lib/python3.5/site-packages/syft-0.1.0-py3.5.egg/syft/controller.py\", line 143, in send_json\n",
      "Exception: Unity Error: System.Collections.Generic.KeyNotFoundException: The given key was not present in the dictionary.\n",
      "  at System.ThrowHelper.ThrowKeyNotFoundException () [0x00000] in /Users/builduser/buildslave/mono/build/mcs/class/referencesource/mscorlib/system/throwhelper.cs:68 \n",
      "  at System.Collections.Generic.Dictionary`2[TKey,TValue].get_Item (TKey key) [0x0001e] in /Users/builduser/buildslave/mono/build/mcs/class/referencesource/mscorlib/system/collections/generic/dictionary.cs:183 \n",
      "  at OpenMined.Syft.Tensor.Factories.FloatTensorFactory.Get (System.Int32 id) [0x00008] in /Users/yanndupis/Documents/Data_Science/Encrypted_DL/OpenMined/UnityProject/Assets/OpenMined/Syft/Tensor/Factories/FloatTensorFactory.cs:24 \n",
      "  at OpenMined.Syft.Tensor.FloatTensor.Delete () [0x00048] in /Users/yanndupis/Documents/Data_Science/Encrypted_DL/OpenMined/UnityProject/Assets/OpenMined/Syft/Tensor/FloatTensor.Ops.cs:558 \n",
      "  at OpenMined.Syft.Tensor.FloatTensor.ProcessMessage (OpenMined.Network.Utils.Command msgObj, OpenMined.Network.Controllers.SyftController ctrl) [0x00e4c] in /Users/yanndupis/Documents/Data_Science/Encrypted_DL/OpenMined/UnityProject/Assets/OpenMined/Syft/Tensor/FloatTensor.cs:365 \n",
      "  at OpenMined.Network.Controllers.SyftController.processMessage (System.String json_message, UnityEngine.MonoBehaviour owner) [0x002dd] in /Users/yanndupis/Documents/Data_Science/Encrypted_DL/OpenMined/UnityProject/Assets/OpenMined/Network/Controllers/SyftController.cs:231 \n",
      "Exception ignored in: <object repr() failed>\n",
      "Traceback (most recent call last):\n",
      "  File \"/Users/yanndupis/anaconda2/envs/tflearn/lib/python3.5/site-packages/syft-0.1.0-py3.5.egg/syft/tensor.py\", line 544, in __del__\n",
      "  File \"/Users/yanndupis/anaconda2/envs/tflearn/lib/python3.5/site-packages/syft-0.1.0-py3.5.egg/syft/tensor.py\", line 1516, in delete_tensor\n",
      "  File \"/Users/yanndupis/anaconda2/envs/tflearn/lib/python3.5/site-packages/syft-0.1.0-py3.5.egg/syft/tensor.py\", line 1504, in no_params_func\n",
      "  File \"/Users/yanndupis/anaconda2/envs/tflearn/lib/python3.5/site-packages/syft-0.1.0-py3.5.egg/syft/tensor.py\", line 1486, in params_func\n",
      "  File \"/Users/yanndupis/anaconda2/envs/tflearn/lib/python3.5/site-packages/syft-0.1.0-py3.5.egg/syft/controller.py\", line 143, in send_json\n",
      "Exception: Unity Error: System.Collections.Generic.KeyNotFoundException: The given key was not present in the dictionary.\n",
      "  at System.ThrowHelper.ThrowKeyNotFoundException () [0x00000] in /Users/builduser/buildslave/mono/build/mcs/class/referencesource/mscorlib/system/throwhelper.cs:68 \n",
      "  at System.Collections.Generic.Dictionary`2[TKey,TValue].get_Item (TKey key) [0x0001e] in /Users/builduser/buildslave/mono/build/mcs/class/referencesource/mscorlib/system/collections/generic/dictionary.cs:183 \n",
      "  at OpenMined.Syft.Tensor.Factories.FloatTensorFactory.Get (System.Int32 id) [0x00008] in /Users/yanndupis/Documents/Data_Science/Encrypted_DL/OpenMined/UnityProject/Assets/OpenMined/Syft/Tensor/Factories/FloatTensorFactory.cs:24 \n",
      "  at OpenMined.Syft.Tensor.FloatTensor.Delete () [0x00048] in /Users/yanndupis/Documents/Data_Science/Encrypted_DL/OpenMined/UnityProject/Assets/OpenMined/Syft/Tensor/FloatTensor.Ops.cs:558 \n",
      "  at OpenMined.Syft.Tensor.FloatTensor.ProcessMessage (OpenMined.Network.Utils.Command msgObj, OpenMined.Network.Controllers.SyftController ctrl) [0x00e4c] in /Users/yanndupis/Documents/Data_Science/Encrypted_DL/OpenMined/UnityProject/Assets/OpenMined/Syft/Tensor/FloatTensor.cs:365 \n",
      "  at OpenMined.Network.Controllers.SyftController.processMessage (System.String json_message, UnityEngine.MonoBehaviour owner) [0x002dd] in /Users/yanndupis/Documents/Data_Science/Encrypted_DL/OpenMined/UnityProject/Assets/OpenMined/Network/Controllers/SyftController.cs:231 \n",
      "Exception ignored in: <object repr() failed>\n",
      "Traceback (most recent call last):\n",
      "  File \"/Users/yanndupis/anaconda2/envs/tflearn/lib/python3.5/site-packages/syft-0.1.0-py3.5.egg/syft/tensor.py\", line 544, in __del__\n",
      "  File \"/Users/yanndupis/anaconda2/envs/tflearn/lib/python3.5/site-packages/syft-0.1.0-py3.5.egg/syft/tensor.py\", line 1516, in delete_tensor\n",
      "  File \"/Users/yanndupis/anaconda2/envs/tflearn/lib/python3.5/site-packages/syft-0.1.0-py3.5.egg/syft/tensor.py\", line 1504, in no_params_func\n",
      "  File \"/Users/yanndupis/anaconda2/envs/tflearn/lib/python3.5/site-packages/syft-0.1.0-py3.5.egg/syft/tensor.py\", line 1486, in params_func\n",
      "  File \"/Users/yanndupis/anaconda2/envs/tflearn/lib/python3.5/site-packages/syft-0.1.0-py3.5.egg/syft/controller.py\", line 143, in send_json\n",
      "Exception: Unity Error: System.Collections.Generic.KeyNotFoundException: The given key was not present in the dictionary.\n",
      "  at System.ThrowHelper.ThrowKeyNotFoundException () [0x00000] in /Users/builduser/buildslave/mono/build/mcs/class/referencesource/mscorlib/system/throwhelper.cs:68 \n",
      "  at System.Collections.Generic.Dictionary`2[TKey,TValue].get_Item (TKey key) [0x0001e] in /Users/builduser/buildslave/mono/build/mcs/class/referencesource/mscorlib/system/collections/generic/dictionary.cs:183 \n",
      "  at OpenMined.Syft.Tensor.Factories.FloatTensorFactory.Get (System.Int32 id) [0x00008] in /Users/yanndupis/Documents/Data_Science/Encrypted_DL/OpenMined/UnityProject/Assets/OpenMined/Syft/Tensor/Factories/FloatTensorFactory.cs:24 \n",
      "  at OpenMined.Syft.Tensor.FloatTensor.Delete () [0x00048] in /Users/yanndupis/Documents/Data_Science/Encrypted_DL/OpenMined/UnityProject/Assets/OpenMined/Syft/Tensor/FloatTensor.Ops.cs:558 \n",
      "  at OpenMined.Syft.Tensor.FloatTensor.ProcessMessage (OpenMined.Network.Utils.Command msgObj, OpenMined.Network.Controllers.SyftController ctrl) [0x00e4c] in /Users/yanndupis/Documents/Data_Science/Encrypted_DL/OpenMined/UnityProject/Assets/OpenMined/Syft/Tensor/FloatTensor.cs:365 \n",
      "  at OpenMined.Network.Controllers.SyftController.processMessage (System.String json_message, UnityEngine.MonoBehaviour owner) [0x002dd] in /Users/yanndupis/Documents/Data_Science/Encrypted_DL/OpenMined/UnityProject/Assets/OpenMined/Network/Controllers/SyftController.cs:231 \n"
     ]
    },
    {
     "name": "stderr",
     "output_type": "stream",
     "text": [
      "Exception ignored in: <object repr() failed>\n",
      "Traceback (most recent call last):\n",
      "  File \"/Users/yanndupis/anaconda2/envs/tflearn/lib/python3.5/site-packages/syft-0.1.0-py3.5.egg/syft/tensor.py\", line 544, in __del__\n",
      "  File \"/Users/yanndupis/anaconda2/envs/tflearn/lib/python3.5/site-packages/syft-0.1.0-py3.5.egg/syft/tensor.py\", line 1516, in delete_tensor\n",
      "  File \"/Users/yanndupis/anaconda2/envs/tflearn/lib/python3.5/site-packages/syft-0.1.0-py3.5.egg/syft/tensor.py\", line 1504, in no_params_func\n",
      "  File \"/Users/yanndupis/anaconda2/envs/tflearn/lib/python3.5/site-packages/syft-0.1.0-py3.5.egg/syft/tensor.py\", line 1486, in params_func\n",
      "  File \"/Users/yanndupis/anaconda2/envs/tflearn/lib/python3.5/site-packages/syft-0.1.0-py3.5.egg/syft/controller.py\", line 143, in send_json\n",
      "Exception: Unity Error: System.Collections.Generic.KeyNotFoundException: The given key was not present in the dictionary.\n",
      "  at System.ThrowHelper.ThrowKeyNotFoundException () [0x00000] in /Users/builduser/buildslave/mono/build/mcs/class/referencesource/mscorlib/system/throwhelper.cs:68 \n",
      "  at System.Collections.Generic.Dictionary`2[TKey,TValue].get_Item (TKey key) [0x0001e] in /Users/builduser/buildslave/mono/build/mcs/class/referencesource/mscorlib/system/collections/generic/dictionary.cs:183 \n",
      "  at OpenMined.Syft.Tensor.Factories.FloatTensorFactory.Get (System.Int32 id) [0x00008] in /Users/yanndupis/Documents/Data_Science/Encrypted_DL/OpenMined/UnityProject/Assets/OpenMined/Syft/Tensor/Factories/FloatTensorFactory.cs:24 \n",
      "  at OpenMined.Syft.Tensor.FloatTensor.Delete () [0x00048] in /Users/yanndupis/Documents/Data_Science/Encrypted_DL/OpenMined/UnityProject/Assets/OpenMined/Syft/Tensor/FloatTensor.Ops.cs:558 \n",
      "  at OpenMined.Syft.Tensor.FloatTensor.ProcessMessage (OpenMined.Network.Utils.Command msgObj, OpenMined.Network.Controllers.SyftController ctrl) [0x00e4c] in /Users/yanndupis/Documents/Data_Science/Encrypted_DL/OpenMined/UnityProject/Assets/OpenMined/Syft/Tensor/FloatTensor.cs:365 \n",
      "  at OpenMined.Network.Controllers.SyftController.processMessage (System.String json_message, UnityEngine.MonoBehaviour owner) [0x002dd] in /Users/yanndupis/Documents/Data_Science/Encrypted_DL/OpenMined/UnityProject/Assets/OpenMined/Network/Controllers/SyftController.cs:231 \n",
      "Exception ignored in: <object repr() failed>\n",
      "Traceback (most recent call last):\n",
      "  File \"/Users/yanndupis/anaconda2/envs/tflearn/lib/python3.5/site-packages/syft-0.1.0-py3.5.egg/syft/tensor.py\", line 544, in __del__\n",
      "  File \"/Users/yanndupis/anaconda2/envs/tflearn/lib/python3.5/site-packages/syft-0.1.0-py3.5.egg/syft/tensor.py\", line 1516, in delete_tensor\n",
      "  File \"/Users/yanndupis/anaconda2/envs/tflearn/lib/python3.5/site-packages/syft-0.1.0-py3.5.egg/syft/tensor.py\", line 1504, in no_params_func\n",
      "  File \"/Users/yanndupis/anaconda2/envs/tflearn/lib/python3.5/site-packages/syft-0.1.0-py3.5.egg/syft/tensor.py\", line 1486, in params_func\n",
      "  File \"/Users/yanndupis/anaconda2/envs/tflearn/lib/python3.5/site-packages/syft-0.1.0-py3.5.egg/syft/controller.py\", line 143, in send_json\n",
      "Exception: Unity Error: System.Collections.Generic.KeyNotFoundException: The given key was not present in the dictionary.\n",
      "  at System.ThrowHelper.ThrowKeyNotFoundException () [0x00000] in /Users/builduser/buildslave/mono/build/mcs/class/referencesource/mscorlib/system/throwhelper.cs:68 \n",
      "  at System.Collections.Generic.Dictionary`2[TKey,TValue].get_Item (TKey key) [0x0001e] in /Users/builduser/buildslave/mono/build/mcs/class/referencesource/mscorlib/system/collections/generic/dictionary.cs:183 \n",
      "  at OpenMined.Syft.Tensor.Factories.FloatTensorFactory.Get (System.Int32 id) [0x00008] in /Users/yanndupis/Documents/Data_Science/Encrypted_DL/OpenMined/UnityProject/Assets/OpenMined/Syft/Tensor/Factories/FloatTensorFactory.cs:24 \n",
      "  at OpenMined.Syft.Tensor.FloatTensor.Delete () [0x00048] in /Users/yanndupis/Documents/Data_Science/Encrypted_DL/OpenMined/UnityProject/Assets/OpenMined/Syft/Tensor/FloatTensor.Ops.cs:558 \n",
      "  at OpenMined.Syft.Tensor.FloatTensor.ProcessMessage (OpenMined.Network.Utils.Command msgObj, OpenMined.Network.Controllers.SyftController ctrl) [0x00e4c] in /Users/yanndupis/Documents/Data_Science/Encrypted_DL/OpenMined/UnityProject/Assets/OpenMined/Syft/Tensor/FloatTensor.cs:365 \n",
      "  at OpenMined.Network.Controllers.SyftController.processMessage (System.String json_message, UnityEngine.MonoBehaviour owner) [0x002dd] in /Users/yanndupis/Documents/Data_Science/Encrypted_DL/OpenMined/UnityProject/Assets/OpenMined/Network/Controllers/SyftController.cs:231 \n",
      "Exception ignored in: <object repr() failed>\n",
      "Traceback (most recent call last):\n",
      "  File \"/Users/yanndupis/anaconda2/envs/tflearn/lib/python3.5/site-packages/syft-0.1.0-py3.5.egg/syft/tensor.py\", line 544, in __del__\n",
      "  File \"/Users/yanndupis/anaconda2/envs/tflearn/lib/python3.5/site-packages/syft-0.1.0-py3.5.egg/syft/tensor.py\", line 1516, in delete_tensor\n",
      "  File \"/Users/yanndupis/anaconda2/envs/tflearn/lib/python3.5/site-packages/syft-0.1.0-py3.5.egg/syft/tensor.py\", line 1504, in no_params_func\n",
      "  File \"/Users/yanndupis/anaconda2/envs/tflearn/lib/python3.5/site-packages/syft-0.1.0-py3.5.egg/syft/tensor.py\", line 1486, in params_func\n",
      "  File \"/Users/yanndupis/anaconda2/envs/tflearn/lib/python3.5/site-packages/syft-0.1.0-py3.5.egg/syft/controller.py\", line 143, in send_json\n",
      "Exception: Unity Error: System.Collections.Generic.KeyNotFoundException: The given key was not present in the dictionary.\n",
      "  at System.ThrowHelper.ThrowKeyNotFoundException () [0x00000] in /Users/builduser/buildslave/mono/build/mcs/class/referencesource/mscorlib/system/throwhelper.cs:68 \n",
      "  at System.Collections.Generic.Dictionary`2[TKey,TValue].get_Item (TKey key) [0x0001e] in /Users/builduser/buildslave/mono/build/mcs/class/referencesource/mscorlib/system/collections/generic/dictionary.cs:183 \n",
      "  at OpenMined.Syft.Tensor.Factories.FloatTensorFactory.Get (System.Int32 id) [0x00008] in /Users/yanndupis/Documents/Data_Science/Encrypted_DL/OpenMined/UnityProject/Assets/OpenMined/Syft/Tensor/Factories/FloatTensorFactory.cs:24 \n",
      "  at OpenMined.Syft.Tensor.FloatTensor.Delete () [0x00048] in /Users/yanndupis/Documents/Data_Science/Encrypted_DL/OpenMined/UnityProject/Assets/OpenMined/Syft/Tensor/FloatTensor.Ops.cs:558 \n",
      "  at OpenMined.Syft.Tensor.FloatTensor.ProcessMessage (OpenMined.Network.Utils.Command msgObj, OpenMined.Network.Controllers.SyftController ctrl) [0x00e4c] in /Users/yanndupis/Documents/Data_Science/Encrypted_DL/OpenMined/UnityProject/Assets/OpenMined/Syft/Tensor/FloatTensor.cs:365 \n",
      "  at OpenMined.Network.Controllers.SyftController.processMessage (System.String json_message, UnityEngine.MonoBehaviour owner) [0x002dd] in /Users/yanndupis/Documents/Data_Science/Encrypted_DL/OpenMined/UnityProject/Assets/OpenMined/Network/Controllers/SyftController.cs:231 \n",
      "Exception ignored in: <object repr() failed>\n",
      "Traceback (most recent call last):\n",
      "  File \"/Users/yanndupis/anaconda2/envs/tflearn/lib/python3.5/site-packages/syft-0.1.0-py3.5.egg/syft/tensor.py\", line 544, in __del__\n",
      "  File \"/Users/yanndupis/anaconda2/envs/tflearn/lib/python3.5/site-packages/syft-0.1.0-py3.5.egg/syft/tensor.py\", line 1516, in delete_tensor\n",
      "  File \"/Users/yanndupis/anaconda2/envs/tflearn/lib/python3.5/site-packages/syft-0.1.0-py3.5.egg/syft/tensor.py\", line 1504, in no_params_func\n",
      "  File \"/Users/yanndupis/anaconda2/envs/tflearn/lib/python3.5/site-packages/syft-0.1.0-py3.5.egg/syft/tensor.py\", line 1486, in params_func\n",
      "  File \"/Users/yanndupis/anaconda2/envs/tflearn/lib/python3.5/site-packages/syft-0.1.0-py3.5.egg/syft/controller.py\", line 143, in send_json\n",
      "Exception: Unity Error: System.Collections.Generic.KeyNotFoundException: The given key was not present in the dictionary.\n",
      "  at System.ThrowHelper.ThrowKeyNotFoundException () [0x00000] in /Users/builduser/buildslave/mono/build/mcs/class/referencesource/mscorlib/system/throwhelper.cs:68 \n",
      "  at System.Collections.Generic.Dictionary`2[TKey,TValue].get_Item (TKey key) [0x0001e] in /Users/builduser/buildslave/mono/build/mcs/class/referencesource/mscorlib/system/collections/generic/dictionary.cs:183 \n",
      "  at OpenMined.Syft.Tensor.Factories.FloatTensorFactory.Get (System.Int32 id) [0x00008] in /Users/yanndupis/Documents/Data_Science/Encrypted_DL/OpenMined/UnityProject/Assets/OpenMined/Syft/Tensor/Factories/FloatTensorFactory.cs:24 \n",
      "  at OpenMined.Syft.Tensor.FloatTensor.Delete () [0x00048] in /Users/yanndupis/Documents/Data_Science/Encrypted_DL/OpenMined/UnityProject/Assets/OpenMined/Syft/Tensor/FloatTensor.Ops.cs:558 \n",
      "  at OpenMined.Syft.Tensor.FloatTensor.ProcessMessage (OpenMined.Network.Utils.Command msgObj, OpenMined.Network.Controllers.SyftController ctrl) [0x00e4c] in /Users/yanndupis/Documents/Data_Science/Encrypted_DL/OpenMined/UnityProject/Assets/OpenMined/Syft/Tensor/FloatTensor.cs:365 \n",
      "  at OpenMined.Network.Controllers.SyftController.processMessage (System.String json_message, UnityEngine.MonoBehaviour owner) [0x002dd] in /Users/yanndupis/Documents/Data_Science/Encrypted_DL/OpenMined/UnityProject/Assets/OpenMined/Network/Controllers/SyftController.cs:231 \n",
      "Exception ignored in: <object repr() failed>\n",
      "Traceback (most recent call last):\n",
      "  File \"/Users/yanndupis/anaconda2/envs/tflearn/lib/python3.5/site-packages/syft-0.1.0-py3.5.egg/syft/tensor.py\", line 544, in __del__\n",
      "  File \"/Users/yanndupis/anaconda2/envs/tflearn/lib/python3.5/site-packages/syft-0.1.0-py3.5.egg/syft/tensor.py\", line 1516, in delete_tensor\n",
      "  File \"/Users/yanndupis/anaconda2/envs/tflearn/lib/python3.5/site-packages/syft-0.1.0-py3.5.egg/syft/tensor.py\", line 1504, in no_params_func\n",
      "  File \"/Users/yanndupis/anaconda2/envs/tflearn/lib/python3.5/site-packages/syft-0.1.0-py3.5.egg/syft/tensor.py\", line 1486, in params_func\n",
      "  File \"/Users/yanndupis/anaconda2/envs/tflearn/lib/python3.5/site-packages/syft-0.1.0-py3.5.egg/syft/controller.py\", line 143, in send_json\n",
      "Exception: Unity Error: System.Collections.Generic.KeyNotFoundException: The given key was not present in the dictionary.\n",
      "  at System.ThrowHelper.ThrowKeyNotFoundException () [0x00000] in /Users/builduser/buildslave/mono/build/mcs/class/referencesource/mscorlib/system/throwhelper.cs:68 \n",
      "  at System.Collections.Generic.Dictionary`2[TKey,TValue].get_Item (TKey key) [0x0001e] in /Users/builduser/buildslave/mono/build/mcs/class/referencesource/mscorlib/system/collections/generic/dictionary.cs:183 \n",
      "  at OpenMined.Syft.Tensor.Factories.FloatTensorFactory.Get (System.Int32 id) [0x00008] in /Users/yanndupis/Documents/Data_Science/Encrypted_DL/OpenMined/UnityProject/Assets/OpenMined/Syft/Tensor/Factories/FloatTensorFactory.cs:24 \n",
      "  at OpenMined.Syft.Tensor.FloatTensor.Delete () [0x00048] in /Users/yanndupis/Documents/Data_Science/Encrypted_DL/OpenMined/UnityProject/Assets/OpenMined/Syft/Tensor/FloatTensor.Ops.cs:558 \n",
      "  at OpenMined.Syft.Tensor.FloatTensor.ProcessMessage (OpenMined.Network.Utils.Command msgObj, OpenMined.Network.Controllers.SyftController ctrl) [0x00e4c] in /Users/yanndupis/Documents/Data_Science/Encrypted_DL/OpenMined/UnityProject/Assets/OpenMined/Syft/Tensor/FloatTensor.cs:365 \n",
      "  at OpenMined.Network.Controllers.SyftController.processMessage (System.String json_message, UnityEngine.MonoBehaviour owner) [0x002dd] in /Users/yanndupis/Documents/Data_Science/Encrypted_DL/OpenMined/UnityProject/Assets/OpenMined/Network/Controllers/SyftController.cs:231 \n"
     ]
    },
    {
     "name": "stdout",
     "output_type": "stream",
     "text": [
      "Failed to complete in trial 0\n"
     ]
    },
    {
     "name": "stderr",
     "output_type": "stream",
     "text": [
      "Exception ignored in: <object repr() failed>\n",
      "Traceback (most recent call last):\n",
      "  File \"/Users/yanndupis/anaconda2/envs/tflearn/lib/python3.5/site-packages/syft-0.1.0-py3.5.egg/syft/tensor.py\", line 544, in __del__\n",
      "  File \"/Users/yanndupis/anaconda2/envs/tflearn/lib/python3.5/site-packages/syft-0.1.0-py3.5.egg/syft/tensor.py\", line 1516, in delete_tensor\n",
      "  File \"/Users/yanndupis/anaconda2/envs/tflearn/lib/python3.5/site-packages/syft-0.1.0-py3.5.egg/syft/tensor.py\", line 1504, in no_params_func\n",
      "  File \"/Users/yanndupis/anaconda2/envs/tflearn/lib/python3.5/site-packages/syft-0.1.0-py3.5.egg/syft/tensor.py\", line 1486, in params_func\n",
      "  File \"/Users/yanndupis/anaconda2/envs/tflearn/lib/python3.5/site-packages/syft-0.1.0-py3.5.egg/syft/controller.py\", line 143, in send_json\n",
      "Exception: Unity Error: System.Collections.Generic.KeyNotFoundException: The given key was not present in the dictionary.\n",
      "  at System.ThrowHelper.ThrowKeyNotFoundException () [0x00000] in /Users/builduser/buildslave/mono/build/mcs/class/referencesource/mscorlib/system/throwhelper.cs:68 \n",
      "  at System.Collections.Generic.Dictionary`2[TKey,TValue].get_Item (TKey key) [0x0001e] in /Users/builduser/buildslave/mono/build/mcs/class/referencesource/mscorlib/system/collections/generic/dictionary.cs:183 \n",
      "  at OpenMined.Syft.Tensor.Factories.FloatTensorFactory.Get (System.Int32 id) [0x00008] in /Users/yanndupis/Documents/Data_Science/Encrypted_DL/OpenMined/UnityProject/Assets/OpenMined/Syft/Tensor/Factories/FloatTensorFactory.cs:24 \n",
      "  at OpenMined.Syft.Tensor.FloatTensor.Delete () [0x00048] in /Users/yanndupis/Documents/Data_Science/Encrypted_DL/OpenMined/UnityProject/Assets/OpenMined/Syft/Tensor/FloatTensor.Ops.cs:558 \n",
      "  at OpenMined.Syft.Tensor.FloatTensor.ProcessMessage (OpenMined.Network.Utils.Command msgObj, OpenMined.Network.Controllers.SyftController ctrl) [0x00e4c] in /Users/yanndupis/Documents/Data_Science/Encrypted_DL/OpenMined/UnityProject/Assets/OpenMined/Syft/Tensor/FloatTensor.cs:365 \n",
      "  at OpenMined.Network.Controllers.SyftController.processMessage (System.String json_message, UnityEngine.MonoBehaviour owner) [0x002dd] in /Users/yanndupis/Documents/Data_Science/Encrypted_DL/OpenMined/UnityProject/Assets/OpenMined/Network/Controllers/SyftController.cs:231 \n"
     ]
    },
    {
     "name": "stdout",
     "output_type": "stream",
     "text": [
      "Number of Batches:1\n"
     ]
    },
    {
     "data": {
      "application/vnd.jupyter.widget-view+json": {
       "model_id": "fe97e002b14244b3baf289e351b6f8ca"
      }
     },
     "metadata": {},
     "output_type": "display_data"
    },
    {
     "data": {
      "application/vnd.jupyter.widget-view+json": {
       "model_id": "e5e4abc170854ea2bf1340f2c1976405"
      }
     },
     "metadata": {},
     "output_type": "display_data"
    },
    {
     "name": "stderr",
     "output_type": "stream",
     "text": [
      "Exception ignored in: <bound method FloatTensor.__del__ of [ 0.01479746]\n",
      "[syft.FloatTensor:233 grad:None size:1 c:[] p:[232] init:max_-1_False]\n",
      "\n",
      "\t-----------creators-----------\n",
      "\t[syft.FloatTensor:232 grad:None size:1x3 c:[233] p:[231, 220] init:add_elem]\n",
      "\t------------------------------\n",
      "\n",
      "\n",
      ">\n",
      "Traceback (most recent call last):\n",
      "  File \"/Users/yanndupis/anaconda2/envs/tflearn/lib/python3.5/site-packages/syft-0.1.0-py3.5.egg/syft/tensor.py\", line 544, in __del__\n",
      "TypeError: 'bool' object is not callable\n",
      "Exception ignored in: "
     ]
    },
    {
     "name": "stdout",
     "output_type": "stream",
     "text": [
      "Number of Batches:1\n"
     ]
    },
    {
     "name": "stderr",
     "output_type": "stream",
     "text": [
      "<object repr() failed>\n",
      "Traceback (most recent call last):\n",
      "  File \"/Users/yanndupis/anaconda2/envs/tflearn/lib/python3.5/site-packages/syft-0.1.0-py3.5.egg/syft/tensor.py\", line 544, in __del__\n",
      "  File \"/Users/yanndupis/anaconda2/envs/tflearn/lib/python3.5/site-packages/syft-0.1.0-py3.5.egg/syft/tensor.py\", line 1516, in delete_tensor\n",
      "  File \"/Users/yanndupis/anaconda2/envs/tflearn/lib/python3.5/site-packages/syft-0.1.0-py3.5.egg/syft/tensor.py\", line 1504, in no_params_func\n",
      "  File \"/Users/yanndupis/anaconda2/envs/tflearn/lib/python3.5/site-packages/syft-0.1.0-py3.5.egg/syft/tensor.py\", line 1486, in params_func\n",
      "  File \"/Users/yanndupis/anaconda2/envs/tflearn/lib/python3.5/site-packages/syft-0.1.0-py3.5.egg/syft/controller.py\", line 143, in send_json\n",
      "Exception: Unity Error: System.Collections.Generic.KeyNotFoundException: The given key was not present in the dictionary.\n",
      "  at System.ThrowHelper.ThrowKeyNotFoundException () [0x00000] in /Users/builduser/buildslave/mono/build/mcs/class/referencesource/mscorlib/system/throwhelper.cs:68 \n",
      "  at System.Collections.Generic.Dictionary`2[TKey,TValue].get_Item (TKey key) [0x0001e] in /Users/builduser/buildslave/mono/build/mcs/class/referencesource/mscorlib/system/collections/generic/dictionary.cs:183 \n",
      "  at OpenMined.Syft.Tensor.Factories.FloatTensorFactory.Get (System.Int32 id) [0x00008] in /Users/yanndupis/Documents/Data_Science/Encrypted_DL/OpenMined/UnityProject/Assets/OpenMined/Syft/Tensor/Factories/FloatTensorFactory.cs:24 \n",
      "  at OpenMined.Syft.Tensor.FloatTensor.Delete () [0x00048] in /Users/yanndupis/Documents/Data_Science/Encrypted_DL/OpenMined/UnityProject/Assets/OpenMined/Syft/Tensor/FloatTensor.Ops.cs:558 \n",
      "  at OpenMined.Syft.Tensor.FloatTensor.ProcessMessage (OpenMined.Network.Utils.Command msgObj, OpenMined.Network.Controllers.SyftController ctrl) [0x00e4c] in /Users/yanndupis/Documents/Data_Science/Encrypted_DL/OpenMined/UnityProject/Assets/OpenMined/Syft/Tensor/FloatTensor.cs:365 \n",
      "  at OpenMined.Network.Controllers.SyftController.processMessage (System.String json_message, UnityEngine.MonoBehaviour owner) [0x002dd] in /Users/yanndupis/Documents/Data_Science/Encrypted_DL/OpenMined/UnityProject/Assets/OpenMined/Network/Controllers/SyftController.cs:231 \n"
     ]
    },
    {
     "data": {
      "application/vnd.jupyter.widget-view+json": {
       "model_id": "67a900dc1f944b80b28441d8a16d83b4"
      }
     },
     "metadata": {},
     "output_type": "display_data"
    },
    {
     "data": {
      "application/vnd.jupyter.widget-view+json": {
       "model_id": "72d27c02c1914fd4bc7c58adc303bc8f"
      }
     },
     "metadata": {},
     "output_type": "display_data"
    },
    {
     "name": "stderr",
     "output_type": "stream",
     "text": [
      "Exception ignored in: <bound method FloatTensor.__del__ of [ 0.01475058]\n",
      "[syft.FloatTensor:251 grad:None size:1 c:[] p:[221] init:max_-1_False]\n",
      "\n",
      "\t-----------creators-----------\n",
      "\t[syft.FloatTensor:221 grad:None size:1x3 c:[251] p:[218, 220] init:add_elem]\n",
      "\t------------------------------\n",
      "\n",
      "\n",
      ">\n",
      "Traceback (most recent call last):\n",
      "  File \"/Users/yanndupis/anaconda2/envs/tflearn/lib/python3.5/site-packages/syft-0.1.0-py3.5.egg/syft/tensor.py\", line 544, in __del__\n",
      "TypeError: 'bool' object is not callable\n",
      "Exception ignored in: "
     ]
    },
    {
     "name": "stdout",
     "output_type": "stream",
     "text": [
      "Number of Batches:1\n"
     ]
    },
    {
     "name": "stderr",
     "output_type": "stream",
     "text": [
      "<object repr() failed>\n",
      "Traceback (most recent call last):\n",
      "  File \"/Users/yanndupis/anaconda2/envs/tflearn/lib/python3.5/site-packages/syft-0.1.0-py3.5.egg/syft/tensor.py\", line 544, in __del__\n",
      "  File \"/Users/yanndupis/anaconda2/envs/tflearn/lib/python3.5/site-packages/syft-0.1.0-py3.5.egg/syft/tensor.py\", line 1516, in delete_tensor\n",
      "  File \"/Users/yanndupis/anaconda2/envs/tflearn/lib/python3.5/site-packages/syft-0.1.0-py3.5.egg/syft/tensor.py\", line 1504, in no_params_func\n",
      "  File \"/Users/yanndupis/anaconda2/envs/tflearn/lib/python3.5/site-packages/syft-0.1.0-py3.5.egg/syft/tensor.py\", line 1486, in params_func\n",
      "  File \"/Users/yanndupis/anaconda2/envs/tflearn/lib/python3.5/site-packages/syft-0.1.0-py3.5.egg/syft/controller.py\", line 143, in send_json\n",
      "Exception: Unity Error: System.Collections.Generic.KeyNotFoundException: The given key was not present in the dictionary.\n",
      "  at System.ThrowHelper.ThrowKeyNotFoundException () [0x00000] in /Users/builduser/buildslave/mono/build/mcs/class/referencesource/mscorlib/system/throwhelper.cs:68 \n",
      "  at System.Collections.Generic.Dictionary`2[TKey,TValue].get_Item (TKey key) [0x0001e] in /Users/builduser/buildslave/mono/build/mcs/class/referencesource/mscorlib/system/collections/generic/dictionary.cs:183 \n",
      "  at OpenMined.Syft.Tensor.Factories.FloatTensorFactory.Get (System.Int32 id) [0x00008] in /Users/yanndupis/Documents/Data_Science/Encrypted_DL/OpenMined/UnityProject/Assets/OpenMined/Syft/Tensor/Factories/FloatTensorFactory.cs:24 \n",
      "  at OpenMined.Syft.Tensor.FloatTensor.Delete () [0x00048] in /Users/yanndupis/Documents/Data_Science/Encrypted_DL/OpenMined/UnityProject/Assets/OpenMined/Syft/Tensor/FloatTensor.Ops.cs:558 \n",
      "  at OpenMined.Syft.Tensor.FloatTensor.ProcessMessage (OpenMined.Network.Utils.Command msgObj, OpenMined.Network.Controllers.SyftController ctrl) [0x00e4c] in /Users/yanndupis/Documents/Data_Science/Encrypted_DL/OpenMined/UnityProject/Assets/OpenMined/Syft/Tensor/FloatTensor.cs:365 \n",
      "  at OpenMined.Network.Controllers.SyftController.processMessage (System.String json_message, UnityEngine.MonoBehaviour owner) [0x002dd] in /Users/yanndupis/Documents/Data_Science/Encrypted_DL/OpenMined/UnityProject/Assets/OpenMined/Network/Controllers/SyftController.cs:231 \n"
     ]
    },
    {
     "data": {
      "application/vnd.jupyter.widget-view+json": {
       "model_id": "6e436bc21f734f7dac799b337004a80f"
      }
     },
     "metadata": {},
     "output_type": "display_data"
    },
    {
     "data": {
      "application/vnd.jupyter.widget-view+json": {
       "model_id": "35868d2e1c7648b1a5f99f39f5250fd2"
      }
     },
     "metadata": {},
     "output_type": "display_data"
    },
    {
     "name": "stderr",
     "output_type": "stream",
     "text": [
      "Exception ignored in: <bound method FloatTensor.__del__ of [ 0.01491045]\n",
      "[syft.FloatTensor:269 grad:None size:1 c:[] p:[268] init:max_-1_False]\n",
      "\n",
      "\t-----------creators-----------\n",
      "\t[syft.FloatTensor:268 grad:None size:1x3 c:[269] p:[267, 220] init:add_elem]\n",
      "\t------------------------------\n",
      "\n",
      "\n",
      ">\n",
      "Traceback (most recent call last):\n",
      "  File \"/Users/yanndupis/anaconda2/envs/tflearn/lib/python3.5/site-packages/syft-0.1.0-py3.5.egg/syft/tensor.py\", line 544, in __del__\n",
      "TypeError: 'bool' object is not callable\n",
      "Exception ignored in: "
     ]
    },
    {
     "name": "stdout",
     "output_type": "stream",
     "text": [
      "Number of Batches:1\n"
     ]
    },
    {
     "name": "stderr",
     "output_type": "stream",
     "text": [
      "<object repr() failed>\n",
      "Traceback (most recent call last):\n",
      "  File \"/Users/yanndupis/anaconda2/envs/tflearn/lib/python3.5/site-packages/syft-0.1.0-py3.5.egg/syft/tensor.py\", line 544, in __del__\n",
      "  File \"/Users/yanndupis/anaconda2/envs/tflearn/lib/python3.5/site-packages/syft-0.1.0-py3.5.egg/syft/tensor.py\", line 1516, in delete_tensor\n",
      "  File \"/Users/yanndupis/anaconda2/envs/tflearn/lib/python3.5/site-packages/syft-0.1.0-py3.5.egg/syft/tensor.py\", line 1504, in no_params_func\n",
      "  File \"/Users/yanndupis/anaconda2/envs/tflearn/lib/python3.5/site-packages/syft-0.1.0-py3.5.egg/syft/tensor.py\", line 1486, in params_func\n",
      "  File \"/Users/yanndupis/anaconda2/envs/tflearn/lib/python3.5/site-packages/syft-0.1.0-py3.5.egg/syft/controller.py\", line 143, in send_json\n",
      "Exception: Unity Error: System.Collections.Generic.KeyNotFoundException: The given key was not present in the dictionary.\n",
      "  at System.ThrowHelper.ThrowKeyNotFoundException () [0x00000] in /Users/builduser/buildslave/mono/build/mcs/class/referencesource/mscorlib/system/throwhelper.cs:68 \n",
      "  at System.Collections.Generic.Dictionary`2[TKey,TValue].get_Item (TKey key) [0x0001e] in /Users/builduser/buildslave/mono/build/mcs/class/referencesource/mscorlib/system/collections/generic/dictionary.cs:183 \n",
      "  at OpenMined.Syft.Tensor.Factories.FloatTensorFactory.Get (System.Int32 id) [0x00008] in /Users/yanndupis/Documents/Data_Science/Encrypted_DL/OpenMined/UnityProject/Assets/OpenMined/Syft/Tensor/Factories/FloatTensorFactory.cs:24 \n",
      "  at OpenMined.Syft.Tensor.FloatTensor.Delete () [0x00048] in /Users/yanndupis/Documents/Data_Science/Encrypted_DL/OpenMined/UnityProject/Assets/OpenMined/Syft/Tensor/FloatTensor.Ops.cs:558 \n",
      "  at OpenMined.Syft.Tensor.FloatTensor.ProcessMessage (OpenMined.Network.Utils.Command msgObj, OpenMined.Network.Controllers.SyftController ctrl) [0x00e4c] in /Users/yanndupis/Documents/Data_Science/Encrypted_DL/OpenMined/UnityProject/Assets/OpenMined/Syft/Tensor/FloatTensor.cs:365 \n",
      "  at OpenMined.Network.Controllers.SyftController.processMessage (System.String json_message, UnityEngine.MonoBehaviour owner) [0x002dd] in /Users/yanndupis/Documents/Data_Science/Encrypted_DL/OpenMined/UnityProject/Assets/OpenMined/Network/Controllers/SyftController.cs:231 \n"
     ]
    },
    {
     "data": {
      "application/vnd.jupyter.widget-view+json": {
       "model_id": "da459f890a614135b5fd9befc247058d"
      }
     },
     "metadata": {},
     "output_type": "display_data"
    },
    {
     "data": {
      "application/vnd.jupyter.widget-view+json": {
       "model_id": "a0d4a73038b14512949e789f3fddad67"
      }
     },
     "metadata": {},
     "output_type": "display_data"
    },
    {
     "name": "stderr",
     "output_type": "stream",
     "text": [
      "Exception ignored in: <bound method FloatTensor.__del__ of [ 0.01602163]\n",
      "[syft.FloatTensor:298 grad:None size:1 c:[] p:[297] init:max_-1_False]\n",
      "\n",
      "\t-----------creators-----------\n",
      "\t[syft.FloatTensor:297 grad:None size:1x3 c:[298] p:[296, 220] init:add_elem]\n",
      "\t------------------------------\n",
      "\n",
      "\n",
      ">\n",
      "Traceback (most recent call last):\n",
      "  File \"/Users/yanndupis/anaconda2/envs/tflearn/lib/python3.5/site-packages/syft-0.1.0-py3.5.egg/syft/tensor.py\", line 544, in __del__\n",
      "TypeError: 'bool' object is not callable\n",
      "Exception ignored in: "
     ]
    },
    {
     "name": "stdout",
     "output_type": "stream",
     "text": [
      "Number of Batches:1\n"
     ]
    },
    {
     "name": "stderr",
     "output_type": "stream",
     "text": [
      "<object repr() failed>\n",
      "Traceback (most recent call last):\n",
      "  File \"/Users/yanndupis/anaconda2/envs/tflearn/lib/python3.5/site-packages/syft-0.1.0-py3.5.egg/syft/tensor.py\", line 544, in __del__\n",
      "  File \"/Users/yanndupis/anaconda2/envs/tflearn/lib/python3.5/site-packages/syft-0.1.0-py3.5.egg/syft/tensor.py\", line 1516, in delete_tensor\n",
      "  File \"/Users/yanndupis/anaconda2/envs/tflearn/lib/python3.5/site-packages/syft-0.1.0-py3.5.egg/syft/tensor.py\", line 1504, in no_params_func\n",
      "  File \"/Users/yanndupis/anaconda2/envs/tflearn/lib/python3.5/site-packages/syft-0.1.0-py3.5.egg/syft/tensor.py\", line 1486, in params_func\n",
      "  File \"/Users/yanndupis/anaconda2/envs/tflearn/lib/python3.5/site-packages/syft-0.1.0-py3.5.egg/syft/controller.py\", line 143, in send_json\n",
      "Exception: Unity Error: System.Collections.Generic.KeyNotFoundException: The given key was not present in the dictionary.\n",
      "  at System.ThrowHelper.ThrowKeyNotFoundException () [0x00000] in /Users/builduser/buildslave/mono/build/mcs/class/referencesource/mscorlib/system/throwhelper.cs:68 \n",
      "  at System.Collections.Generic.Dictionary`2[TKey,TValue].get_Item (TKey key) [0x0001e] in /Users/builduser/buildslave/mono/build/mcs/class/referencesource/mscorlib/system/collections/generic/dictionary.cs:183 \n",
      "  at OpenMined.Syft.Tensor.Factories.FloatTensorFactory.Get (System.Int32 id) [0x00008] in /Users/yanndupis/Documents/Data_Science/Encrypted_DL/OpenMined/UnityProject/Assets/OpenMined/Syft/Tensor/Factories/FloatTensorFactory.cs:24 \n",
      "  at OpenMined.Syft.Tensor.FloatTensor.Delete () [0x00048] in /Users/yanndupis/Documents/Data_Science/Encrypted_DL/OpenMined/UnityProject/Assets/OpenMined/Syft/Tensor/FloatTensor.Ops.cs:558 \n",
      "  at OpenMined.Syft.Tensor.FloatTensor.ProcessMessage (OpenMined.Network.Utils.Command msgObj, OpenMined.Network.Controllers.SyftController ctrl) [0x00e4c] in /Users/yanndupis/Documents/Data_Science/Encrypted_DL/OpenMined/UnityProject/Assets/OpenMined/Syft/Tensor/FloatTensor.cs:365 \n",
      "  at OpenMined.Network.Controllers.SyftController.processMessage (System.String json_message, UnityEngine.MonoBehaviour owner) [0x002dd] in /Users/yanndupis/Documents/Data_Science/Encrypted_DL/OpenMined/UnityProject/Assets/OpenMined/Network/Controllers/SyftController.cs:231 \n"
     ]
    },
    {
     "data": {
      "application/vnd.jupyter.widget-view+json": {
       "model_id": "32aac296654f4f808112c809d8b800ad"
      }
     },
     "metadata": {},
     "output_type": "display_data"
    },
    {
     "data": {
      "application/vnd.jupyter.widget-view+json": {
       "model_id": "0c0363a0450540319900d17c2495012e"
      }
     },
     "metadata": {},
     "output_type": "display_data"
    },
    {
     "name": "stderr",
     "output_type": "stream",
     "text": [
      "Exception ignored in: <bound method FloatTensor.__del__ of [ 0.01499586]\n",
      "[syft.FloatTensor:316 grad:None size:1 c:[] p:[315] init:max_-1_False]\n",
      "\n",
      "\t-----------creators-----------\n",
      "\t[syft.FloatTensor:315 grad:None size:1x3 c:[316] p:[314, 220] init:add_elem]\n",
      "\t------------------------------\n",
      "\n",
      "\n",
      ">\n",
      "Traceback (most recent call last):\n",
      "  File \"/Users/yanndupis/anaconda2/envs/tflearn/lib/python3.5/site-packages/syft-0.1.0-py3.5.egg/syft/tensor.py\", line 544, in __del__\n",
      "TypeError: 'bool' object is not callable\n",
      "Exception ignored in: <object repr() failed>\n",
      "Traceback (most recent call last):\n",
      "  File \"/Users/yanndupis/anaconda2/envs/tflearn/lib/python3.5/site-packages/syft-0.1.0-py3.5.egg/syft/tensor.py\", line 544, in __del__\n",
      "  File \"/Users/yanndupis/anaconda2/envs/tflearn/lib/python3.5/site-packages/syft-0.1.0-py3.5.egg/syft/tensor.py\", line 1516, in delete_tensor\n",
      "  File \"/Users/yanndupis/anaconda2/envs/tflearn/lib/python3.5/site-packages/syft-0.1.0-py3.5.egg/syft/tensor.py\", line 1504, in no_params_func\n",
      "  File \"/Users/yanndupis/anaconda2/envs/tflearn/lib/python3.5/site-packages/syft-0.1.0-py3.5.egg/syft/tensor.py\", line 1486, in params_func\n",
      "  File \"/Users/yanndupis/anaconda2/envs/tflearn/lib/python3.5/site-packages/syft-0.1.0-py3.5.egg/syft/controller.py\", line 143, in send_json\n",
      "Exception: Unity Error: System.Collections.Generic.KeyNotFoundException: The given key was not present in the dictionary.\n",
      "  at System.ThrowHelper.ThrowKeyNotFoundException () [0x00000] in /Users/builduser/buildslave/mono/build/mcs/class/referencesource/mscorlib/system/throwhelper.cs:68 \n",
      "  at System.Collections.Generic.Dictionary`2[TKey,TValue].get_Item (TKey key) [0x0001e] in /Users/builduser/buildslave/mono/build/mcs/class/referencesource/mscorlib/system/collections/generic/dictionary.cs:183 \n",
      "  at OpenMined.Syft.Tensor.Factories.FloatTensorFactory.Get (System.Int32 id) [0x00008] in /Users/yanndupis/Documents/Data_Science/Encrypted_DL/OpenMined/UnityProject/Assets/OpenMined/Syft/Tensor/Factories/FloatTensorFactory.cs:24 \n",
      "  at OpenMined.Syft.Tensor.FloatTensor.Delete () [0x00048] in /Users/yanndupis/Documents/Data_Science/Encrypted_DL/OpenMined/UnityProject/Assets/OpenMined/Syft/Tensor/FloatTensor.Ops.cs:558 \n",
      "  at OpenMined.Syft.Tensor.FloatTensor.ProcessMessage (OpenMined.Network.Utils.Command msgObj, OpenMined.Network.Controllers.SyftController ctrl) [0x00e4c] in /Users/yanndupis/Documents/Data_Science/Encrypted_DL/OpenMined/UnityProject/Assets/OpenMined/Syft/Tensor/FloatTensor.cs:365 \n",
      "  at OpenMined.Network.Controllers.SyftController.processMessage (System.String json_message, UnityEngine.MonoBehaviour owner) [0x002dd] in /Users/yanndupis/Documents/Data_Science/Encrypted_DL/OpenMined/UnityProject/Assets/OpenMined/Network/Controllers/SyftController.cs:231 \n",
      "Exception ignored in: <object repr() failed>\n",
      "Traceback (most recent call last):\n",
      "  File \"/Users/yanndupis/anaconda2/envs/tflearn/lib/python3.5/site-packages/syft-0.1.0-py3.5.egg/syft/tensor.py\", line 544, in __del__\n",
      "  File \"/Users/yanndupis/anaconda2/envs/tflearn/lib/python3.5/site-packages/syft-0.1.0-py3.5.egg/syft/tensor.py\", line 1516, in delete_tensor\n",
      "  File \"/Users/yanndupis/anaconda2/envs/tflearn/lib/python3.5/site-packages/syft-0.1.0-py3.5.egg/syft/tensor.py\", line 1504, in no_params_func\n",
      "  File \"/Users/yanndupis/anaconda2/envs/tflearn/lib/python3.5/site-packages/syft-0.1.0-py3.5.egg/syft/tensor.py\", line 1486, in params_func\n",
      "  File \"/Users/yanndupis/anaconda2/envs/tflearn/lib/python3.5/site-packages/syft-0.1.0-py3.5.egg/syft/controller.py\", line 143, in send_json\n",
      "Exception: Unity Error: System.Collections.Generic.KeyNotFoundException: The given key was not present in the dictionary.\n",
      "  at System.ThrowHelper.ThrowKeyNotFoundException () [0x00000] in /Users/builduser/buildslave/mono/build/mcs/class/referencesource/mscorlib/system/throwhelper.cs:68 \n",
      "  at System.Collections.Generic.Dictionary`2[TKey,TValue].get_Item (TKey key) [0x0001e] in /Users/builduser/buildslave/mono/build/mcs/class/referencesource/mscorlib/system/collections/generic/dictionary.cs:183 \n",
      "  at OpenMined.Syft.Tensor.Factories.FloatTensorFactory.Get (System.Int32 id) [0x00008] in /Users/yanndupis/Documents/Data_Science/Encrypted_DL/OpenMined/UnityProject/Assets/OpenMined/Syft/Tensor/Factories/FloatTensorFactory.cs:24 \n",
      "  at OpenMined.Syft.Tensor.FloatTensor.Delete () [0x00048] in /Users/yanndupis/Documents/Data_Science/Encrypted_DL/OpenMined/UnityProject/Assets/OpenMined/Syft/Tensor/FloatTensor.Ops.cs:558 \n",
      "  at OpenMined.Syft.Tensor.FloatTensor.ProcessMessage (OpenMined.Network.Utils.Command msgObj, OpenMined.Network.Controllers.SyftController ctrl) [0x00e4c] in /Users/yanndupis/Documents/Data_Science/Encrypted_DL/OpenMined/UnityProject/Assets/OpenMined/Syft/Tensor/FloatTensor.cs:365 \n",
      "  at OpenMined.Network.Controllers.SyftController.processMessage (System.String json_message, UnityEngine.MonoBehaviour owner) [0x002dd] in /Users/yanndupis/Documents/Data_Science/Encrypted_DL/OpenMined/UnityProject/Assets/OpenMined/Network/Controllers/SyftController.cs:231 \n",
      "Exception ignored in: <object repr() failed>\n",
      "Traceback (most recent call last):\n",
      "  File \"/Users/yanndupis/anaconda2/envs/tflearn/lib/python3.5/site-packages/syft-0.1.0-py3.5.egg/syft/tensor.py\", line 544, in __del__\n",
      "  File \"/Users/yanndupis/anaconda2/envs/tflearn/lib/python3.5/site-packages/syft-0.1.0-py3.5.egg/syft/tensor.py\", line 1516, in delete_tensor\n",
      "  File \"/Users/yanndupis/anaconda2/envs/tflearn/lib/python3.5/site-packages/syft-0.1.0-py3.5.egg/syft/tensor.py\", line 1504, in no_params_func\n",
      "  File \"/Users/yanndupis/anaconda2/envs/tflearn/lib/python3.5/site-packages/syft-0.1.0-py3.5.egg/syft/tensor.py\", line 1486, in params_func\n",
      "  File \"/Users/yanndupis/anaconda2/envs/tflearn/lib/python3.5/site-packages/syft-0.1.0-py3.5.egg/syft/controller.py\", line 143, in send_json\n",
      "Exception: Unity Error: System.Collections.Generic.KeyNotFoundException: The given key was not present in the dictionary.\n",
      "  at System.ThrowHelper.ThrowKeyNotFoundException () [0x00000] in /Users/builduser/buildslave/mono/build/mcs/class/referencesource/mscorlib/system/throwhelper.cs:68 \n",
      "  at System.Collections.Generic.Dictionary`2[TKey,TValue].get_Item (TKey key) [0x0001e] in /Users/builduser/buildslave/mono/build/mcs/class/referencesource/mscorlib/system/collections/generic/dictionary.cs:183 \n",
      "  at OpenMined.Syft.Tensor.Factories.FloatTensorFactory.Get (System.Int32 id) [0x00008] in /Users/yanndupis/Documents/Data_Science/Encrypted_DL/OpenMined/UnityProject/Assets/OpenMined/Syft/Tensor/Factories/FloatTensorFactory.cs:24 \n",
      "  at OpenMined.Syft.Tensor.FloatTensor.Delete () [0x00048] in /Users/yanndupis/Documents/Data_Science/Encrypted_DL/OpenMined/UnityProject/Assets/OpenMined/Syft/Tensor/FloatTensor.Ops.cs:558 \n",
      "  at OpenMined.Syft.Tensor.FloatTensor.ProcessMessage (OpenMined.Network.Utils.Command msgObj, OpenMined.Network.Controllers.SyftController ctrl) [0x00e4c] in /Users/yanndupis/Documents/Data_Science/Encrypted_DL/OpenMined/UnityProject/Assets/OpenMined/Syft/Tensor/FloatTensor.cs:365 \n",
      "  at OpenMined.Network.Controllers.SyftController.processMessage (System.String json_message, UnityEngine.MonoBehaviour owner) [0x002dd] in /Users/yanndupis/Documents/Data_Science/Encrypted_DL/OpenMined/UnityProject/Assets/OpenMined/Network/Controllers/SyftController.cs:231 \n",
      "Exception ignored in: <object repr() failed>\n",
      "Traceback (most recent call last):\n",
      "  File \"/Users/yanndupis/anaconda2/envs/tflearn/lib/python3.5/site-packages/syft-0.1.0-py3.5.egg/syft/tensor.py\", line 544, in __del__\n",
      "  File \"/Users/yanndupis/anaconda2/envs/tflearn/lib/python3.5/site-packages/syft-0.1.0-py3.5.egg/syft/tensor.py\", line 1516, in delete_tensor\n",
      "  File \"/Users/yanndupis/anaconda2/envs/tflearn/lib/python3.5/site-packages/syft-0.1.0-py3.5.egg/syft/tensor.py\", line 1504, in no_params_func\n",
      "  File \"/Users/yanndupis/anaconda2/envs/tflearn/lib/python3.5/site-packages/syft-0.1.0-py3.5.egg/syft/tensor.py\", line 1486, in params_func\n",
      "  File \"/Users/yanndupis/anaconda2/envs/tflearn/lib/python3.5/site-packages/syft-0.1.0-py3.5.egg/syft/controller.py\", line 143, in send_json\n",
      "Exception: Unity Error: System.Collections.Generic.KeyNotFoundException: The given key was not present in the dictionary.\n",
      "  at System.ThrowHelper.ThrowKeyNotFoundException () [0x00000] in /Users/builduser/buildslave/mono/build/mcs/class/referencesource/mscorlib/system/throwhelper.cs:68 \n",
      "  at System.Collections.Generic.Dictionary`2[TKey,TValue].get_Item (TKey key) [0x0001e] in /Users/builduser/buildslave/mono/build/mcs/class/referencesource/mscorlib/system/collections/generic/dictionary.cs:183 \n",
      "  at OpenMined.Syft.Tensor.Factories.FloatTensorFactory.Get (System.Int32 id) [0x00008] in /Users/yanndupis/Documents/Data_Science/Encrypted_DL/OpenMined/UnityProject/Assets/OpenMined/Syft/Tensor/Factories/FloatTensorFactory.cs:24 \n",
      "  at OpenMined.Syft.Tensor.FloatTensor.Delete () [0x00048] in /Users/yanndupis/Documents/Data_Science/Encrypted_DL/OpenMined/UnityProject/Assets/OpenMined/Syft/Tensor/FloatTensor.Ops.cs:558 \n",
      "  at OpenMined.Syft.Tensor.FloatTensor.ProcessMessage (OpenMined.Network.Utils.Command msgObj, OpenMined.Network.Controllers.SyftController ctrl) [0x00e4c] in /Users/yanndupis/Documents/Data_Science/Encrypted_DL/OpenMined/UnityProject/Assets/OpenMined/Syft/Tensor/FloatTensor.cs:365 \n",
      "  at OpenMined.Network.Controllers.SyftController.processMessage (System.String json_message, UnityEngine.MonoBehaviour owner) [0x002dd] in /Users/yanndupis/Documents/Data_Science/Encrypted_DL/OpenMined/UnityProject/Assets/OpenMined/Network/Controllers/SyftController.cs:231 \n",
      "Exception ignored in: <object repr() failed>\n",
      "Traceback (most recent call last):\n",
      "  File \"/Users/yanndupis/anaconda2/envs/tflearn/lib/python3.5/site-packages/syft-0.1.0-py3.5.egg/syft/tensor.py\", line 544, in __del__\n",
      "  File \"/Users/yanndupis/anaconda2/envs/tflearn/lib/python3.5/site-packages/syft-0.1.0-py3.5.egg/syft/tensor.py\", line 1516, in delete_tensor\n",
      "  File \"/Users/yanndupis/anaconda2/envs/tflearn/lib/python3.5/site-packages/syft-0.1.0-py3.5.egg/syft/tensor.py\", line 1504, in no_params_func\n",
      "  File \"/Users/yanndupis/anaconda2/envs/tflearn/lib/python3.5/site-packages/syft-0.1.0-py3.5.egg/syft/tensor.py\", line 1486, in params_func\n",
      "  File \"/Users/yanndupis/anaconda2/envs/tflearn/lib/python3.5/site-packages/syft-0.1.0-py3.5.egg/syft/controller.py\", line 143, in send_json\n",
      "Exception: Unity Error: System.Collections.Generic.KeyNotFoundException: The given key was not present in the dictionary.\n",
      "  at System.ThrowHelper.ThrowKeyNotFoundException () [0x00000] in /Users/builduser/buildslave/mono/build/mcs/class/referencesource/mscorlib/system/throwhelper.cs:68 \n",
      "  at System.Collections.Generic.Dictionary`2[TKey,TValue].get_Item (TKey key) [0x0001e] in /Users/builduser/buildslave/mono/build/mcs/class/referencesource/mscorlib/system/collections/generic/dictionary.cs:183 \n",
      "  at OpenMined.Syft.Tensor.Factories.FloatTensorFactory.Get (System.Int32 id) [0x00008] in /Users/yanndupis/Documents/Data_Science/Encrypted_DL/OpenMined/UnityProject/Assets/OpenMined/Syft/Tensor/Factories/FloatTensorFactory.cs:24 \n",
      "  at OpenMined.Syft.Tensor.FloatTensor.Delete () [0x00048] in /Users/yanndupis/Documents/Data_Science/Encrypted_DL/OpenMined/UnityProject/Assets/OpenMined/Syft/Tensor/FloatTensor.Ops.cs:558 \n",
      "  at OpenMined.Syft.Tensor.FloatTensor.ProcessMessage (OpenMined.Network.Utils.Command msgObj, OpenMined.Network.Controllers.SyftController ctrl) [0x00e4c] in /Users/yanndupis/Documents/Data_Science/Encrypted_DL/OpenMined/UnityProject/Assets/OpenMined/Syft/Tensor/FloatTensor.cs:365 \n",
      "  at OpenMined.Network.Controllers.SyftController.processMessage (System.String json_message, UnityEngine.MonoBehaviour owner) [0x002dd] in /Users/yanndupis/Documents/Data_Science/Encrypted_DL/OpenMined/UnityProject/Assets/OpenMined/Network/Controllers/SyftController.cs:231 \n"
     ]
    },
    {
     "name": "stderr",
     "output_type": "stream",
     "text": [
      "Exception ignored in: <object repr() failed>\n",
      "Traceback (most recent call last):\n",
      "  File \"/Users/yanndupis/anaconda2/envs/tflearn/lib/python3.5/site-packages/syft-0.1.0-py3.5.egg/syft/tensor.py\", line 544, in __del__\n",
      "  File \"/Users/yanndupis/anaconda2/envs/tflearn/lib/python3.5/site-packages/syft-0.1.0-py3.5.egg/syft/tensor.py\", line 1516, in delete_tensor\n",
      "  File \"/Users/yanndupis/anaconda2/envs/tflearn/lib/python3.5/site-packages/syft-0.1.0-py3.5.egg/syft/tensor.py\", line 1504, in no_params_func\n",
      "  File \"/Users/yanndupis/anaconda2/envs/tflearn/lib/python3.5/site-packages/syft-0.1.0-py3.5.egg/syft/tensor.py\", line 1486, in params_func\n",
      "  File \"/Users/yanndupis/anaconda2/envs/tflearn/lib/python3.5/site-packages/syft-0.1.0-py3.5.egg/syft/controller.py\", line 143, in send_json\n",
      "Exception: Unity Error: System.Collections.Generic.KeyNotFoundException: The given key was not present in the dictionary.\n",
      "  at System.ThrowHelper.ThrowKeyNotFoundException () [0x00000] in /Users/builduser/buildslave/mono/build/mcs/class/referencesource/mscorlib/system/throwhelper.cs:68 \n",
      "  at System.Collections.Generic.Dictionary`2[TKey,TValue].get_Item (TKey key) [0x0001e] in /Users/builduser/buildslave/mono/build/mcs/class/referencesource/mscorlib/system/collections/generic/dictionary.cs:183 \n",
      "  at OpenMined.Syft.Tensor.Factories.FloatTensorFactory.Get (System.Int32 id) [0x00008] in /Users/yanndupis/Documents/Data_Science/Encrypted_DL/OpenMined/UnityProject/Assets/OpenMined/Syft/Tensor/Factories/FloatTensorFactory.cs:24 \n",
      "  at OpenMined.Syft.Tensor.FloatTensor.Delete () [0x00048] in /Users/yanndupis/Documents/Data_Science/Encrypted_DL/OpenMined/UnityProject/Assets/OpenMined/Syft/Tensor/FloatTensor.Ops.cs:558 \n",
      "  at OpenMined.Syft.Tensor.FloatTensor.ProcessMessage (OpenMined.Network.Utils.Command msgObj, OpenMined.Network.Controllers.SyftController ctrl) [0x00e4c] in /Users/yanndupis/Documents/Data_Science/Encrypted_DL/OpenMined/UnityProject/Assets/OpenMined/Syft/Tensor/FloatTensor.cs:365 \n",
      "  at OpenMined.Network.Controllers.SyftController.processMessage (System.String json_message, UnityEngine.MonoBehaviour owner) [0x002dd] in /Users/yanndupis/Documents/Data_Science/Encrypted_DL/OpenMined/UnityProject/Assets/OpenMined/Network/Controllers/SyftController.cs:231 \n",
      "Exception ignored in: <object repr() failed>\n",
      "Traceback (most recent call last):\n",
      "  File \"/Users/yanndupis/anaconda2/envs/tflearn/lib/python3.5/site-packages/syft-0.1.0-py3.5.egg/syft/tensor.py\", line 544, in __del__\n",
      "  File \"/Users/yanndupis/anaconda2/envs/tflearn/lib/python3.5/site-packages/syft-0.1.0-py3.5.egg/syft/tensor.py\", line 1516, in delete_tensor\n",
      "  File \"/Users/yanndupis/anaconda2/envs/tflearn/lib/python3.5/site-packages/syft-0.1.0-py3.5.egg/syft/tensor.py\", line 1504, in no_params_func\n",
      "  File \"/Users/yanndupis/anaconda2/envs/tflearn/lib/python3.5/site-packages/syft-0.1.0-py3.5.egg/syft/tensor.py\", line 1486, in params_func\n",
      "  File \"/Users/yanndupis/anaconda2/envs/tflearn/lib/python3.5/site-packages/syft-0.1.0-py3.5.egg/syft/controller.py\", line 143, in send_json\n",
      "Exception: Unity Error: System.Collections.Generic.KeyNotFoundException: The given key was not present in the dictionary.\n",
      "  at System.ThrowHelper.ThrowKeyNotFoundException () [0x00000] in /Users/builduser/buildslave/mono/build/mcs/class/referencesource/mscorlib/system/throwhelper.cs:68 \n",
      "  at System.Collections.Generic.Dictionary`2[TKey,TValue].get_Item (TKey key) [0x0001e] in /Users/builduser/buildslave/mono/build/mcs/class/referencesource/mscorlib/system/collections/generic/dictionary.cs:183 \n",
      "  at OpenMined.Syft.Tensor.Factories.FloatTensorFactory.Get (System.Int32 id) [0x00008] in /Users/yanndupis/Documents/Data_Science/Encrypted_DL/OpenMined/UnityProject/Assets/OpenMined/Syft/Tensor/Factories/FloatTensorFactory.cs:24 \n",
      "  at OpenMined.Syft.Tensor.FloatTensor.Delete () [0x00048] in /Users/yanndupis/Documents/Data_Science/Encrypted_DL/OpenMined/UnityProject/Assets/OpenMined/Syft/Tensor/FloatTensor.Ops.cs:558 \n",
      "  at OpenMined.Syft.Tensor.FloatTensor.ProcessMessage (OpenMined.Network.Utils.Command msgObj, OpenMined.Network.Controllers.SyftController ctrl) [0x00e4c] in /Users/yanndupis/Documents/Data_Science/Encrypted_DL/OpenMined/UnityProject/Assets/OpenMined/Syft/Tensor/FloatTensor.cs:365 \n",
      "  at OpenMined.Network.Controllers.SyftController.processMessage (System.String json_message, UnityEngine.MonoBehaviour owner) [0x002dd] in /Users/yanndupis/Documents/Data_Science/Encrypted_DL/OpenMined/UnityProject/Assets/OpenMined/Network/Controllers/SyftController.cs:231 \n",
      "Exception ignored in: <object repr() failed>\n",
      "Traceback (most recent call last):\n",
      "  File \"/Users/yanndupis/anaconda2/envs/tflearn/lib/python3.5/site-packages/syft-0.1.0-py3.5.egg/syft/tensor.py\", line 544, in __del__\n",
      "  File \"/Users/yanndupis/anaconda2/envs/tflearn/lib/python3.5/site-packages/syft-0.1.0-py3.5.egg/syft/tensor.py\", line 1516, in delete_tensor\n",
      "  File \"/Users/yanndupis/anaconda2/envs/tflearn/lib/python3.5/site-packages/syft-0.1.0-py3.5.egg/syft/tensor.py\", line 1504, in no_params_func\n",
      "  File \"/Users/yanndupis/anaconda2/envs/tflearn/lib/python3.5/site-packages/syft-0.1.0-py3.5.egg/syft/tensor.py\", line 1486, in params_func\n",
      "  File \"/Users/yanndupis/anaconda2/envs/tflearn/lib/python3.5/site-packages/syft-0.1.0-py3.5.egg/syft/controller.py\", line 143, in send_json\n",
      "Exception: Unity Error: System.Collections.Generic.KeyNotFoundException: The given key was not present in the dictionary.\n",
      "  at System.ThrowHelper.ThrowKeyNotFoundException () [0x00000] in /Users/builduser/buildslave/mono/build/mcs/class/referencesource/mscorlib/system/throwhelper.cs:68 \n",
      "  at System.Collections.Generic.Dictionary`2[TKey,TValue].get_Item (TKey key) [0x0001e] in /Users/builduser/buildslave/mono/build/mcs/class/referencesource/mscorlib/system/collections/generic/dictionary.cs:183 \n",
      "  at OpenMined.Syft.Tensor.Factories.FloatTensorFactory.Get (System.Int32 id) [0x00008] in /Users/yanndupis/Documents/Data_Science/Encrypted_DL/OpenMined/UnityProject/Assets/OpenMined/Syft/Tensor/Factories/FloatTensorFactory.cs:24 \n",
      "  at OpenMined.Syft.Tensor.FloatTensor.Delete () [0x00048] in /Users/yanndupis/Documents/Data_Science/Encrypted_DL/OpenMined/UnityProject/Assets/OpenMined/Syft/Tensor/FloatTensor.Ops.cs:558 \n",
      "  at OpenMined.Syft.Tensor.FloatTensor.ProcessMessage (OpenMined.Network.Utils.Command msgObj, OpenMined.Network.Controllers.SyftController ctrl) [0x00e4c] in /Users/yanndupis/Documents/Data_Science/Encrypted_DL/OpenMined/UnityProject/Assets/OpenMined/Syft/Tensor/FloatTensor.cs:365 \n",
      "  at OpenMined.Network.Controllers.SyftController.processMessage (System.String json_message, UnityEngine.MonoBehaviour owner) [0x002dd] in /Users/yanndupis/Documents/Data_Science/Encrypted_DL/OpenMined/UnityProject/Assets/OpenMined/Network/Controllers/SyftController.cs:231 \n",
      "Exception ignored in: <object repr() failed>\n",
      "Traceback (most recent call last):\n",
      "  File \"/Users/yanndupis/anaconda2/envs/tflearn/lib/python3.5/site-packages/syft-0.1.0-py3.5.egg/syft/tensor.py\", line 544, in __del__\n",
      "  File \"/Users/yanndupis/anaconda2/envs/tflearn/lib/python3.5/site-packages/syft-0.1.0-py3.5.egg/syft/tensor.py\", line 1516, in delete_tensor\n",
      "  File \"/Users/yanndupis/anaconda2/envs/tflearn/lib/python3.5/site-packages/syft-0.1.0-py3.5.egg/syft/tensor.py\", line 1504, in no_params_func\n",
      "  File \"/Users/yanndupis/anaconda2/envs/tflearn/lib/python3.5/site-packages/syft-0.1.0-py3.5.egg/syft/tensor.py\", line 1486, in params_func\n",
      "  File \"/Users/yanndupis/anaconda2/envs/tflearn/lib/python3.5/site-packages/syft-0.1.0-py3.5.egg/syft/controller.py\", line 143, in send_json\n",
      "Exception: Unity Error: System.Collections.Generic.KeyNotFoundException: The given key was not present in the dictionary.\n",
      "  at System.ThrowHelper.ThrowKeyNotFoundException () [0x00000] in /Users/builduser/buildslave/mono/build/mcs/class/referencesource/mscorlib/system/throwhelper.cs:68 \n",
      "  at System.Collections.Generic.Dictionary`2[TKey,TValue].get_Item (TKey key) [0x0001e] in /Users/builduser/buildslave/mono/build/mcs/class/referencesource/mscorlib/system/collections/generic/dictionary.cs:183 \n",
      "  at OpenMined.Syft.Tensor.Factories.FloatTensorFactory.Get (System.Int32 id) [0x00008] in /Users/yanndupis/Documents/Data_Science/Encrypted_DL/OpenMined/UnityProject/Assets/OpenMined/Syft/Tensor/Factories/FloatTensorFactory.cs:24 \n",
      "  at OpenMined.Syft.Tensor.FloatTensor.Delete () [0x00048] in /Users/yanndupis/Documents/Data_Science/Encrypted_DL/OpenMined/UnityProject/Assets/OpenMined/Syft/Tensor/FloatTensor.Ops.cs:558 \n",
      "  at OpenMined.Syft.Tensor.FloatTensor.ProcessMessage (OpenMined.Network.Utils.Command msgObj, OpenMined.Network.Controllers.SyftController ctrl) [0x00e4c] in /Users/yanndupis/Documents/Data_Science/Encrypted_DL/OpenMined/UnityProject/Assets/OpenMined/Syft/Tensor/FloatTensor.cs:365 \n",
      "  at OpenMined.Network.Controllers.SyftController.processMessage (System.String json_message, UnityEngine.MonoBehaviour owner) [0x002dd] in /Users/yanndupis/Documents/Data_Science/Encrypted_DL/OpenMined/UnityProject/Assets/OpenMined/Network/Controllers/SyftController.cs:231 \n"
     ]
    },
    {
     "name": "stdout",
     "output_type": "stream",
     "text": [
      "Number of Batches:1\n"
     ]
    },
    {
     "data": {
      "application/vnd.jupyter.widget-view+json": {
       "model_id": "390af373a95444a5aede8dbef5d1e680"
      }
     },
     "metadata": {},
     "output_type": "display_data"
    },
    {
     "data": {
      "application/vnd.jupyter.widget-view+json": {
       "model_id": "4f96953951f1492e95b1ebde8ed27a4d"
      }
     },
     "metadata": {},
     "output_type": "display_data"
    },
    {
     "name": "stderr",
     "output_type": "stream",
     "text": [
      "Exception ignored in: <bound method FloatTensor.__del__ of [ 0.01491045]\n",
      "[syft.FloatTensor:269 grad:None size:1 c:[] p:[268] init:max_-1_False]\n",
      "\n",
      "\t-----------creators-----------\n",
      "\t[syft.FloatTensor:268 grad:None size:1x3 c:[269] p:[267, 220] init:add_elem]\n",
      "\t------------------------------\n",
      "\n",
      "\n",
      ">\n",
      "Traceback (most recent call last):\n",
      "  File \"/Users/yanndupis/anaconda2/envs/tflearn/lib/python3.5/site-packages/syft-0.1.0-py3.5.egg/syft/tensor.py\", line 544, in __del__\n",
      "TypeError: 'bool' object is not callable\n",
      "Exception ignored in: "
     ]
    },
    {
     "name": "stdout",
     "output_type": "stream",
     "text": [
      "Number of Batches:1\n"
     ]
    },
    {
     "name": "stderr",
     "output_type": "stream",
     "text": [
      "<object repr() failed>\n",
      "Traceback (most recent call last):\n",
      "  File \"/Users/yanndupis/anaconda2/envs/tflearn/lib/python3.5/site-packages/syft-0.1.0-py3.5.egg/syft/tensor.py\", line 544, in __del__\n",
      "  File \"/Users/yanndupis/anaconda2/envs/tflearn/lib/python3.5/site-packages/syft-0.1.0-py3.5.egg/syft/tensor.py\", line 1516, in delete_tensor\n",
      "  File \"/Users/yanndupis/anaconda2/envs/tflearn/lib/python3.5/site-packages/syft-0.1.0-py3.5.egg/syft/tensor.py\", line 1504, in no_params_func\n",
      "  File \"/Users/yanndupis/anaconda2/envs/tflearn/lib/python3.5/site-packages/syft-0.1.0-py3.5.egg/syft/tensor.py\", line 1486, in params_func\n",
      "  File \"/Users/yanndupis/anaconda2/envs/tflearn/lib/python3.5/site-packages/syft-0.1.0-py3.5.egg/syft/controller.py\", line 143, in send_json\n",
      "Exception: Unity Error: System.Collections.Generic.KeyNotFoundException: The given key was not present in the dictionary.\n",
      "  at System.ThrowHelper.ThrowKeyNotFoundException () [0x00000] in /Users/builduser/buildslave/mono/build/mcs/class/referencesource/mscorlib/system/throwhelper.cs:68 \n",
      "  at System.Collections.Generic.Dictionary`2[TKey,TValue].get_Item (TKey key) [0x0001e] in /Users/builduser/buildslave/mono/build/mcs/class/referencesource/mscorlib/system/collections/generic/dictionary.cs:183 \n",
      "  at OpenMined.Syft.Tensor.Factories.FloatTensorFactory.Get (System.Int32 id) [0x00008] in /Users/yanndupis/Documents/Data_Science/Encrypted_DL/OpenMined/UnityProject/Assets/OpenMined/Syft/Tensor/Factories/FloatTensorFactory.cs:24 \n",
      "  at OpenMined.Syft.Tensor.FloatTensor.Delete () [0x00048] in /Users/yanndupis/Documents/Data_Science/Encrypted_DL/OpenMined/UnityProject/Assets/OpenMined/Syft/Tensor/FloatTensor.Ops.cs:558 \n",
      "  at OpenMined.Syft.Tensor.FloatTensor.ProcessMessage (OpenMined.Network.Utils.Command msgObj, OpenMined.Network.Controllers.SyftController ctrl) [0x00e4c] in /Users/yanndupis/Documents/Data_Science/Encrypted_DL/OpenMined/UnityProject/Assets/OpenMined/Syft/Tensor/FloatTensor.cs:365 \n",
      "  at OpenMined.Network.Controllers.SyftController.processMessage (System.String json_message, UnityEngine.MonoBehaviour owner) [0x002dd] in /Users/yanndupis/Documents/Data_Science/Encrypted_DL/OpenMined/UnityProject/Assets/OpenMined/Network/Controllers/SyftController.cs:231 \n"
     ]
    },
    {
     "data": {
      "application/vnd.jupyter.widget-view+json": {
       "model_id": "384e455dd1874910ab5a78c6a2c55ddc"
      }
     },
     "metadata": {},
     "output_type": "display_data"
    },
    {
     "data": {
      "application/vnd.jupyter.widget-view+json": {
       "model_id": "edafca1700164cd6b52214c923385c61"
      }
     },
     "metadata": {},
     "output_type": "display_data"
    },
    {
     "name": "stderr",
     "output_type": "stream",
     "text": [
      "Exception ignored in: <bound method FloatTensor.__del__ of [ 0.01479746]\n",
      "[syft.FloatTensor:233 grad:None size:1 c:[] p:[232] init:max_-1_False]\n",
      "\n",
      "\t-----------creators-----------\n",
      "\t[syft.FloatTensor:232 grad:None size:1x3 c:[233] p:[231, 220] init:add_elem]\n",
      "\t------------------------------\n",
      "\n",
      "\n",
      ">\n",
      "Traceback (most recent call last):\n",
      "  File \"/Users/yanndupis/anaconda2/envs/tflearn/lib/python3.5/site-packages/syft-0.1.0-py3.5.egg/syft/tensor.py\", line 544, in __del__\n",
      "TypeError: 'bool' object is not callable\n",
      "Exception ignored in: "
     ]
    },
    {
     "name": "stdout",
     "output_type": "stream",
     "text": [
      "Number of Batches:1\n"
     ]
    },
    {
     "name": "stderr",
     "output_type": "stream",
     "text": [
      "<object repr() failed>\n",
      "Traceback (most recent call last):\n",
      "  File \"/Users/yanndupis/anaconda2/envs/tflearn/lib/python3.5/site-packages/syft-0.1.0-py3.5.egg/syft/tensor.py\", line 544, in __del__\n",
      "  File \"/Users/yanndupis/anaconda2/envs/tflearn/lib/python3.5/site-packages/syft-0.1.0-py3.5.egg/syft/tensor.py\", line 1516, in delete_tensor\n",
      "  File \"/Users/yanndupis/anaconda2/envs/tflearn/lib/python3.5/site-packages/syft-0.1.0-py3.5.egg/syft/tensor.py\", line 1504, in no_params_func\n",
      "  File \"/Users/yanndupis/anaconda2/envs/tflearn/lib/python3.5/site-packages/syft-0.1.0-py3.5.egg/syft/tensor.py\", line 1486, in params_func\n",
      "  File \"/Users/yanndupis/anaconda2/envs/tflearn/lib/python3.5/site-packages/syft-0.1.0-py3.5.egg/syft/controller.py\", line 143, in send_json\n",
      "Exception: Unity Error: System.Collections.Generic.KeyNotFoundException: The given key was not present in the dictionary.\n",
      "  at System.ThrowHelper.ThrowKeyNotFoundException () [0x00000] in /Users/builduser/buildslave/mono/build/mcs/class/referencesource/mscorlib/system/throwhelper.cs:68 \n",
      "  at System.Collections.Generic.Dictionary`2[TKey,TValue].get_Item (TKey key) [0x0001e] in /Users/builduser/buildslave/mono/build/mcs/class/referencesource/mscorlib/system/collections/generic/dictionary.cs:183 \n",
      "  at OpenMined.Syft.Tensor.Factories.FloatTensorFactory.Get (System.Int32 id) [0x00008] in /Users/yanndupis/Documents/Data_Science/Encrypted_DL/OpenMined/UnityProject/Assets/OpenMined/Syft/Tensor/Factories/FloatTensorFactory.cs:24 \n",
      "  at OpenMined.Syft.Tensor.FloatTensor.Delete () [0x00048] in /Users/yanndupis/Documents/Data_Science/Encrypted_DL/OpenMined/UnityProject/Assets/OpenMined/Syft/Tensor/FloatTensor.Ops.cs:558 \n",
      "  at OpenMined.Syft.Tensor.FloatTensor.ProcessMessage (OpenMined.Network.Utils.Command msgObj, OpenMined.Network.Controllers.SyftController ctrl) [0x00e4c] in /Users/yanndupis/Documents/Data_Science/Encrypted_DL/OpenMined/UnityProject/Assets/OpenMined/Syft/Tensor/FloatTensor.cs:365 \n",
      "  at OpenMined.Network.Controllers.SyftController.processMessage (System.String json_message, UnityEngine.MonoBehaviour owner) [0x002dd] in /Users/yanndupis/Documents/Data_Science/Encrypted_DL/OpenMined/UnityProject/Assets/OpenMined/Network/Controllers/SyftController.cs:231 \n"
     ]
    },
    {
     "data": {
      "application/vnd.jupyter.widget-view+json": {
       "model_id": "d3fd875080ce4939ae54d663cc8b9777"
      }
     },
     "metadata": {},
     "output_type": "display_data"
    },
    {
     "data": {
      "application/vnd.jupyter.widget-view+json": {
       "model_id": "c55c4b9592c54a0796f9c4a5b23dbd9e"
      }
     },
     "metadata": {},
     "output_type": "display_data"
    },
    {
     "name": "stderr",
     "output_type": "stream",
     "text": [
      "Exception ignored in: <bound method FloatTensor.__del__ of [ 0.01499586]\n",
      "[syft.FloatTensor:316 grad:None size:1 c:[] p:[315] init:max_-1_False]\n",
      "\n",
      "\t-----------creators-----------\n",
      "\t[syft.FloatTensor:315 grad:None size:1x3 c:[316] p:[314, 220] init:add_elem]\n",
      "\t------------------------------\n",
      "\n",
      "\n",
      ">\n",
      "Traceback (most recent call last):\n",
      "  File \"/Users/yanndupis/anaconda2/envs/tflearn/lib/python3.5/site-packages/syft-0.1.0-py3.5.egg/syft/tensor.py\", line 544, in __del__\n",
      "TypeError: 'bool' object is not callable\n",
      "Exception ignored in: "
     ]
    },
    {
     "name": "stdout",
     "output_type": "stream",
     "text": [
      "Number of Batches:1\n"
     ]
    },
    {
     "name": "stderr",
     "output_type": "stream",
     "text": [
      "<object repr() failed>\n",
      "Traceback (most recent call last):\n",
      "  File \"/Users/yanndupis/anaconda2/envs/tflearn/lib/python3.5/site-packages/syft-0.1.0-py3.5.egg/syft/tensor.py\", line 544, in __del__\n",
      "  File \"/Users/yanndupis/anaconda2/envs/tflearn/lib/python3.5/site-packages/syft-0.1.0-py3.5.egg/syft/tensor.py\", line 1516, in delete_tensor\n",
      "  File \"/Users/yanndupis/anaconda2/envs/tflearn/lib/python3.5/site-packages/syft-0.1.0-py3.5.egg/syft/tensor.py\", line 1504, in no_params_func\n",
      "  File \"/Users/yanndupis/anaconda2/envs/tflearn/lib/python3.5/site-packages/syft-0.1.0-py3.5.egg/syft/tensor.py\", line 1486, in params_func\n",
      "  File \"/Users/yanndupis/anaconda2/envs/tflearn/lib/python3.5/site-packages/syft-0.1.0-py3.5.egg/syft/controller.py\", line 143, in send_json\n",
      "Exception: Unity Error: System.Collections.Generic.KeyNotFoundException: The given key was not present in the dictionary.\n",
      "  at System.ThrowHelper.ThrowKeyNotFoundException () [0x00000] in /Users/builduser/buildslave/mono/build/mcs/class/referencesource/mscorlib/system/throwhelper.cs:68 \n",
      "  at System.Collections.Generic.Dictionary`2[TKey,TValue].get_Item (TKey key) [0x0001e] in /Users/builduser/buildslave/mono/build/mcs/class/referencesource/mscorlib/system/collections/generic/dictionary.cs:183 \n",
      "  at OpenMined.Syft.Tensor.Factories.FloatTensorFactory.Get (System.Int32 id) [0x00008] in /Users/yanndupis/Documents/Data_Science/Encrypted_DL/OpenMined/UnityProject/Assets/OpenMined/Syft/Tensor/Factories/FloatTensorFactory.cs:24 \n",
      "  at OpenMined.Syft.Tensor.FloatTensor.Delete () [0x00048] in /Users/yanndupis/Documents/Data_Science/Encrypted_DL/OpenMined/UnityProject/Assets/OpenMined/Syft/Tensor/FloatTensor.Ops.cs:558 \n",
      "  at OpenMined.Syft.Tensor.FloatTensor.ProcessMessage (OpenMined.Network.Utils.Command msgObj, OpenMined.Network.Controllers.SyftController ctrl) [0x00e4c] in /Users/yanndupis/Documents/Data_Science/Encrypted_DL/OpenMined/UnityProject/Assets/OpenMined/Syft/Tensor/FloatTensor.cs:365 \n",
      "  at OpenMined.Network.Controllers.SyftController.processMessage (System.String json_message, UnityEngine.MonoBehaviour owner) [0x002dd] in /Users/yanndupis/Documents/Data_Science/Encrypted_DL/OpenMined/UnityProject/Assets/OpenMined/Network/Controllers/SyftController.cs:231 \n"
     ]
    },
    {
     "data": {
      "application/vnd.jupyter.widget-view+json": {
       "model_id": "9fa3bbd9011a44758099ece2860c8ce6"
      }
     },
     "metadata": {},
     "output_type": "display_data"
    },
    {
     "data": {
      "application/vnd.jupyter.widget-view+json": {
       "model_id": "a15ac3dd6e8b402d8b40b22f3d181046"
      }
     },
     "metadata": {},
     "output_type": "display_data"
    },
    {
     "name": "stderr",
     "output_type": "stream",
     "text": [
      "Exception ignored in: <bound method FloatTensor.__del__ of [ 0.01602163]\n",
      "[syft.FloatTensor:298 grad:None size:1 c:[] p:[297] init:max_-1_False]\n",
      "\n",
      "\t-----------creators-----------\n",
      "\t[syft.FloatTensor:297 grad:None size:1x3 c:[298] p:[296, 220] init:add_elem]\n",
      "\t------------------------------\n",
      "\n",
      "\n",
      ">\n",
      "Traceback (most recent call last):\n",
      "  File \"/Users/yanndupis/anaconda2/envs/tflearn/lib/python3.5/site-packages/syft-0.1.0-py3.5.egg/syft/tensor.py\", line 544, in __del__\n",
      "TypeError: 'bool' object is not callable\n",
      "Exception ignored in: "
     ]
    },
    {
     "name": "stdout",
     "output_type": "stream",
     "text": [
      "Number of Batches:1\n"
     ]
    },
    {
     "name": "stderr",
     "output_type": "stream",
     "text": [
      "<object repr() failed>\n",
      "Traceback (most recent call last):\n",
      "  File \"/Users/yanndupis/anaconda2/envs/tflearn/lib/python3.5/site-packages/syft-0.1.0-py3.5.egg/syft/tensor.py\", line 544, in __del__\n",
      "  File \"/Users/yanndupis/anaconda2/envs/tflearn/lib/python3.5/site-packages/syft-0.1.0-py3.5.egg/syft/tensor.py\", line 1516, in delete_tensor\n",
      "  File \"/Users/yanndupis/anaconda2/envs/tflearn/lib/python3.5/site-packages/syft-0.1.0-py3.5.egg/syft/tensor.py\", line 1504, in no_params_func\n",
      "  File \"/Users/yanndupis/anaconda2/envs/tflearn/lib/python3.5/site-packages/syft-0.1.0-py3.5.egg/syft/tensor.py\", line 1486, in params_func\n",
      "  File \"/Users/yanndupis/anaconda2/envs/tflearn/lib/python3.5/site-packages/syft-0.1.0-py3.5.egg/syft/controller.py\", line 143, in send_json\n",
      "Exception: Unity Error: System.Collections.Generic.KeyNotFoundException: The given key was not present in the dictionary.\n",
      "  at System.ThrowHelper.ThrowKeyNotFoundException () [0x00000] in /Users/builduser/buildslave/mono/build/mcs/class/referencesource/mscorlib/system/throwhelper.cs:68 \n",
      "  at System.Collections.Generic.Dictionary`2[TKey,TValue].get_Item (TKey key) [0x0001e] in /Users/builduser/buildslave/mono/build/mcs/class/referencesource/mscorlib/system/collections/generic/dictionary.cs:183 \n",
      "  at OpenMined.Syft.Tensor.Factories.FloatTensorFactory.Get (System.Int32 id) [0x00008] in /Users/yanndupis/Documents/Data_Science/Encrypted_DL/OpenMined/UnityProject/Assets/OpenMined/Syft/Tensor/Factories/FloatTensorFactory.cs:24 \n",
      "  at OpenMined.Syft.Tensor.FloatTensor.Delete () [0x00048] in /Users/yanndupis/Documents/Data_Science/Encrypted_DL/OpenMined/UnityProject/Assets/OpenMined/Syft/Tensor/FloatTensor.Ops.cs:558 \n",
      "  at OpenMined.Syft.Tensor.FloatTensor.ProcessMessage (OpenMined.Network.Utils.Command msgObj, OpenMined.Network.Controllers.SyftController ctrl) [0x00e4c] in /Users/yanndupis/Documents/Data_Science/Encrypted_DL/OpenMined/UnityProject/Assets/OpenMined/Syft/Tensor/FloatTensor.cs:365 \n",
      "  at OpenMined.Network.Controllers.SyftController.processMessage (System.String json_message, UnityEngine.MonoBehaviour owner) [0x002dd] in /Users/yanndupis/Documents/Data_Science/Encrypted_DL/OpenMined/UnityProject/Assets/OpenMined/Network/Controllers/SyftController.cs:231 \n"
     ]
    },
    {
     "data": {
      "application/vnd.jupyter.widget-view+json": {
       "model_id": "830d603ab4c9449da8210c4bc3182791"
      }
     },
     "metadata": {},
     "output_type": "display_data"
    },
    {
     "data": {
      "application/vnd.jupyter.widget-view+json": {
       "model_id": "a64b373765ed487cbf508dd95189c9ee"
      }
     },
     "metadata": {},
     "output_type": "display_data"
    },
    {
     "name": "stderr",
     "output_type": "stream",
     "text": [
      "Exception ignored in: <bound method FloatTensor.__del__ of [ 0.01475058]\n",
      "[syft.FloatTensor:251 grad:None size:1 c:[] p:[221] init:max_-1_False]\n",
      "\n",
      "\t-----------creators-----------\n",
      "\t[syft.FloatTensor:221 grad:None size:1x3 c:[251] p:[218, 220] init:add_elem]\n",
      "\t------------------------------\n",
      "\n",
      "\n",
      ">\n",
      "Traceback (most recent call last):\n",
      "  File \"/Users/yanndupis/anaconda2/envs/tflearn/lib/python3.5/site-packages/syft-0.1.0-py3.5.egg/syft/tensor.py\", line 544, in __del__\n",
      "TypeError: 'bool' object is not callable\n",
      "Exception ignored in: <object repr() failed>\n",
      "Traceback (most recent call last):\n",
      "  File \"/Users/yanndupis/anaconda2/envs/tflearn/lib/python3.5/site-packages/syft-0.1.0-py3.5.egg/syft/tensor.py\", line 544, in __del__\n",
      "  File \"/Users/yanndupis/anaconda2/envs/tflearn/lib/python3.5/site-packages/syft-0.1.0-py3.5.egg/syft/tensor.py\", line 1516, in delete_tensor\n",
      "  File \"/Users/yanndupis/anaconda2/envs/tflearn/lib/python3.5/site-packages/syft-0.1.0-py3.5.egg/syft/tensor.py\", line 1504, in no_params_func\n",
      "  File \"/Users/yanndupis/anaconda2/envs/tflearn/lib/python3.5/site-packages/syft-0.1.0-py3.5.egg/syft/tensor.py\", line 1486, in params_func\n",
      "  File \"/Users/yanndupis/anaconda2/envs/tflearn/lib/python3.5/site-packages/syft-0.1.0-py3.5.egg/syft/controller.py\", line 143, in send_json\n",
      "Exception: Unity Error: System.Collections.Generic.KeyNotFoundException: The given key was not present in the dictionary.\n",
      "  at System.ThrowHelper.ThrowKeyNotFoundException () [0x00000] in /Users/builduser/buildslave/mono/build/mcs/class/referencesource/mscorlib/system/throwhelper.cs:68 \n",
      "  at System.Collections.Generic.Dictionary`2[TKey,TValue].get_Item (TKey key) [0x0001e] in /Users/builduser/buildslave/mono/build/mcs/class/referencesource/mscorlib/system/collections/generic/dictionary.cs:183 \n",
      "  at OpenMined.Syft.Tensor.Factories.FloatTensorFactory.Get (System.Int32 id) [0x00008] in /Users/yanndupis/Documents/Data_Science/Encrypted_DL/OpenMined/UnityProject/Assets/OpenMined/Syft/Tensor/Factories/FloatTensorFactory.cs:24 \n",
      "  at OpenMined.Syft.Tensor.FloatTensor.Delete () [0x00048] in /Users/yanndupis/Documents/Data_Science/Encrypted_DL/OpenMined/UnityProject/Assets/OpenMined/Syft/Tensor/FloatTensor.Ops.cs:558 \n",
      "  at OpenMined.Syft.Tensor.FloatTensor.ProcessMessage (OpenMined.Network.Utils.Command msgObj, OpenMined.Network.Controllers.SyftController ctrl) [0x00e4c] in /Users/yanndupis/Documents/Data_Science/Encrypted_DL/OpenMined/UnityProject/Assets/OpenMined/Syft/Tensor/FloatTensor.cs:365 \n",
      "  at OpenMined.Network.Controllers.SyftController.processMessage (System.String json_message, UnityEngine.MonoBehaviour owner) [0x002dd] in /Users/yanndupis/Documents/Data_Science/Encrypted_DL/OpenMined/UnityProject/Assets/OpenMined/Network/Controllers/SyftController.cs:231 \n",
      "Exception ignored in: <object repr() failed>\n",
      "Traceback (most recent call last):\n",
      "  File \"/Users/yanndupis/anaconda2/envs/tflearn/lib/python3.5/site-packages/syft-0.1.0-py3.5.egg/syft/tensor.py\", line 544, in __del__\n",
      "  File \"/Users/yanndupis/anaconda2/envs/tflearn/lib/python3.5/site-packages/syft-0.1.0-py3.5.egg/syft/tensor.py\", line 1516, in delete_tensor\n",
      "  File \"/Users/yanndupis/anaconda2/envs/tflearn/lib/python3.5/site-packages/syft-0.1.0-py3.5.egg/syft/tensor.py\", line 1504, in no_params_func\n",
      "  File \"/Users/yanndupis/anaconda2/envs/tflearn/lib/python3.5/site-packages/syft-0.1.0-py3.5.egg/syft/tensor.py\", line 1486, in params_func\n",
      "  File \"/Users/yanndupis/anaconda2/envs/tflearn/lib/python3.5/site-packages/syft-0.1.0-py3.5.egg/syft/controller.py\", line 143, in send_json\n",
      "Exception: Unity Error: System.Collections.Generic.KeyNotFoundException: The given key was not present in the dictionary.\n",
      "  at System.ThrowHelper.ThrowKeyNotFoundException () [0x00000] in /Users/builduser/buildslave/mono/build/mcs/class/referencesource/mscorlib/system/throwhelper.cs:68 \n",
      "  at System.Collections.Generic.Dictionary`2[TKey,TValue].get_Item (TKey key) [0x0001e] in /Users/builduser/buildslave/mono/build/mcs/class/referencesource/mscorlib/system/collections/generic/dictionary.cs:183 \n",
      "  at OpenMined.Syft.Tensor.Factories.FloatTensorFactory.Get (System.Int32 id) [0x00008] in /Users/yanndupis/Documents/Data_Science/Encrypted_DL/OpenMined/UnityProject/Assets/OpenMined/Syft/Tensor/Factories/FloatTensorFactory.cs:24 \n",
      "  at OpenMined.Syft.Tensor.FloatTensor.Delete () [0x00048] in /Users/yanndupis/Documents/Data_Science/Encrypted_DL/OpenMined/UnityProject/Assets/OpenMined/Syft/Tensor/FloatTensor.Ops.cs:558 \n",
      "  at OpenMined.Syft.Tensor.FloatTensor.ProcessMessage (OpenMined.Network.Utils.Command msgObj, OpenMined.Network.Controllers.SyftController ctrl) [0x00e4c] in /Users/yanndupis/Documents/Data_Science/Encrypted_DL/OpenMined/UnityProject/Assets/OpenMined/Syft/Tensor/FloatTensor.cs:365 \n",
      "  at OpenMined.Network.Controllers.SyftController.processMessage (System.String json_message, UnityEngine.MonoBehaviour owner) [0x002dd] in /Users/yanndupis/Documents/Data_Science/Encrypted_DL/OpenMined/UnityProject/Assets/OpenMined/Network/Controllers/SyftController.cs:231 \n",
      "Exception ignored in: <object repr() failed>\n",
      "Traceback (most recent call last):\n",
      "  File \"/Users/yanndupis/anaconda2/envs/tflearn/lib/python3.5/site-packages/syft-0.1.0-py3.5.egg/syft/tensor.py\", line 544, in __del__\n",
      "  File \"/Users/yanndupis/anaconda2/envs/tflearn/lib/python3.5/site-packages/syft-0.1.0-py3.5.egg/syft/tensor.py\", line 1516, in delete_tensor\n",
      "  File \"/Users/yanndupis/anaconda2/envs/tflearn/lib/python3.5/site-packages/syft-0.1.0-py3.5.egg/syft/tensor.py\", line 1504, in no_params_func\n",
      "  File \"/Users/yanndupis/anaconda2/envs/tflearn/lib/python3.5/site-packages/syft-0.1.0-py3.5.egg/syft/tensor.py\", line 1486, in params_func\n",
      "  File \"/Users/yanndupis/anaconda2/envs/tflearn/lib/python3.5/site-packages/syft-0.1.0-py3.5.egg/syft/controller.py\", line 143, in send_json\n",
      "Exception: Unity Error: System.Collections.Generic.KeyNotFoundException: The given key was not present in the dictionary.\n",
      "  at System.ThrowHelper.ThrowKeyNotFoundException () [0x00000] in /Users/builduser/buildslave/mono/build/mcs/class/referencesource/mscorlib/system/throwhelper.cs:68 \n",
      "  at System.Collections.Generic.Dictionary`2[TKey,TValue].get_Item (TKey key) [0x0001e] in /Users/builduser/buildslave/mono/build/mcs/class/referencesource/mscorlib/system/collections/generic/dictionary.cs:183 \n",
      "  at OpenMined.Syft.Tensor.Factories.FloatTensorFactory.Get (System.Int32 id) [0x00008] in /Users/yanndupis/Documents/Data_Science/Encrypted_DL/OpenMined/UnityProject/Assets/OpenMined/Syft/Tensor/Factories/FloatTensorFactory.cs:24 \n",
      "  at OpenMined.Syft.Tensor.FloatTensor.Delete () [0x00048] in /Users/yanndupis/Documents/Data_Science/Encrypted_DL/OpenMined/UnityProject/Assets/OpenMined/Syft/Tensor/FloatTensor.Ops.cs:558 \n",
      "  at OpenMined.Syft.Tensor.FloatTensor.ProcessMessage (OpenMined.Network.Utils.Command msgObj, OpenMined.Network.Controllers.SyftController ctrl) [0x00e4c] in /Users/yanndupis/Documents/Data_Science/Encrypted_DL/OpenMined/UnityProject/Assets/OpenMined/Syft/Tensor/FloatTensor.cs:365 \n",
      "  at OpenMined.Network.Controllers.SyftController.processMessage (System.String json_message, UnityEngine.MonoBehaviour owner) [0x002dd] in /Users/yanndupis/Documents/Data_Science/Encrypted_DL/OpenMined/UnityProject/Assets/OpenMined/Network/Controllers/SyftController.cs:231 \n",
      "Exception ignored in: <object repr() failed>\n",
      "Traceback (most recent call last):\n",
      "  File \"/Users/yanndupis/anaconda2/envs/tflearn/lib/python3.5/site-packages/syft-0.1.0-py3.5.egg/syft/tensor.py\", line 544, in __del__\n",
      "  File \"/Users/yanndupis/anaconda2/envs/tflearn/lib/python3.5/site-packages/syft-0.1.0-py3.5.egg/syft/tensor.py\", line 1516, in delete_tensor\n",
      "  File \"/Users/yanndupis/anaconda2/envs/tflearn/lib/python3.5/site-packages/syft-0.1.0-py3.5.egg/syft/tensor.py\", line 1504, in no_params_func\n",
      "  File \"/Users/yanndupis/anaconda2/envs/tflearn/lib/python3.5/site-packages/syft-0.1.0-py3.5.egg/syft/tensor.py\", line 1486, in params_func\n",
      "  File \"/Users/yanndupis/anaconda2/envs/tflearn/lib/python3.5/site-packages/syft-0.1.0-py3.5.egg/syft/controller.py\", line 143, in send_json\n",
      "Exception: Unity Error: System.Collections.Generic.KeyNotFoundException: The given key was not present in the dictionary.\n",
      "  at System.ThrowHelper.ThrowKeyNotFoundException () [0x00000] in /Users/builduser/buildslave/mono/build/mcs/class/referencesource/mscorlib/system/throwhelper.cs:68 \n",
      "  at System.Collections.Generic.Dictionary`2[TKey,TValue].get_Item (TKey key) [0x0001e] in /Users/builduser/buildslave/mono/build/mcs/class/referencesource/mscorlib/system/collections/generic/dictionary.cs:183 \n",
      "  at OpenMined.Syft.Tensor.Factories.FloatTensorFactory.Get (System.Int32 id) [0x00008] in /Users/yanndupis/Documents/Data_Science/Encrypted_DL/OpenMined/UnityProject/Assets/OpenMined/Syft/Tensor/Factories/FloatTensorFactory.cs:24 \n",
      "  at OpenMined.Syft.Tensor.FloatTensor.Delete () [0x00048] in /Users/yanndupis/Documents/Data_Science/Encrypted_DL/OpenMined/UnityProject/Assets/OpenMined/Syft/Tensor/FloatTensor.Ops.cs:558 \n",
      "  at OpenMined.Syft.Tensor.FloatTensor.ProcessMessage (OpenMined.Network.Utils.Command msgObj, OpenMined.Network.Controllers.SyftController ctrl) [0x00e4c] in /Users/yanndupis/Documents/Data_Science/Encrypted_DL/OpenMined/UnityProject/Assets/OpenMined/Syft/Tensor/FloatTensor.cs:365 \n",
      "  at OpenMined.Network.Controllers.SyftController.processMessage (System.String json_message, UnityEngine.MonoBehaviour owner) [0x002dd] in /Users/yanndupis/Documents/Data_Science/Encrypted_DL/OpenMined/UnityProject/Assets/OpenMined/Network/Controllers/SyftController.cs:231 \n",
      "Exception ignored in: <object repr() failed>\n",
      "Traceback (most recent call last):\n",
      "  File \"/Users/yanndupis/anaconda2/envs/tflearn/lib/python3.5/site-packages/syft-0.1.0-py3.5.egg/syft/tensor.py\", line 544, in __del__\n",
      "  File \"/Users/yanndupis/anaconda2/envs/tflearn/lib/python3.5/site-packages/syft-0.1.0-py3.5.egg/syft/tensor.py\", line 1516, in delete_tensor\n",
      "  File \"/Users/yanndupis/anaconda2/envs/tflearn/lib/python3.5/site-packages/syft-0.1.0-py3.5.egg/syft/tensor.py\", line 1504, in no_params_func\n",
      "  File \"/Users/yanndupis/anaconda2/envs/tflearn/lib/python3.5/site-packages/syft-0.1.0-py3.5.egg/syft/tensor.py\", line 1486, in params_func\n",
      "  File \"/Users/yanndupis/anaconda2/envs/tflearn/lib/python3.5/site-packages/syft-0.1.0-py3.5.egg/syft/controller.py\", line 143, in send_json\n"
     ]
    },
    {
     "name": "stderr",
     "output_type": "stream",
     "text": [
      "Exception: Unity Error: System.Collections.Generic.KeyNotFoundException: The given key was not present in the dictionary.\n",
      "  at System.ThrowHelper.ThrowKeyNotFoundException () [0x00000] in /Users/builduser/buildslave/mono/build/mcs/class/referencesource/mscorlib/system/throwhelper.cs:68 \n",
      "  at System.Collections.Generic.Dictionary`2[TKey,TValue].get_Item (TKey key) [0x0001e] in /Users/builduser/buildslave/mono/build/mcs/class/referencesource/mscorlib/system/collections/generic/dictionary.cs:183 \n",
      "  at OpenMined.Syft.Tensor.Factories.FloatTensorFactory.Get (System.Int32 id) [0x00008] in /Users/yanndupis/Documents/Data_Science/Encrypted_DL/OpenMined/UnityProject/Assets/OpenMined/Syft/Tensor/Factories/FloatTensorFactory.cs:24 \n",
      "  at OpenMined.Syft.Tensor.FloatTensor.Delete () [0x00048] in /Users/yanndupis/Documents/Data_Science/Encrypted_DL/OpenMined/UnityProject/Assets/OpenMined/Syft/Tensor/FloatTensor.Ops.cs:558 \n",
      "  at OpenMined.Syft.Tensor.FloatTensor.ProcessMessage (OpenMined.Network.Utils.Command msgObj, OpenMined.Network.Controllers.SyftController ctrl) [0x00e4c] in /Users/yanndupis/Documents/Data_Science/Encrypted_DL/OpenMined/UnityProject/Assets/OpenMined/Syft/Tensor/FloatTensor.cs:365 \n",
      "  at OpenMined.Network.Controllers.SyftController.processMessage (System.String json_message, UnityEngine.MonoBehaviour owner) [0x002dd] in /Users/yanndupis/Documents/Data_Science/Encrypted_DL/OpenMined/UnityProject/Assets/OpenMined/Network/Controllers/SyftController.cs:231 \n",
      "Exception ignored in: <object repr() failed>\n",
      "Traceback (most recent call last):\n",
      "  File \"/Users/yanndupis/anaconda2/envs/tflearn/lib/python3.5/site-packages/syft-0.1.0-py3.5.egg/syft/tensor.py\", line 544, in __del__\n",
      "  File \"/Users/yanndupis/anaconda2/envs/tflearn/lib/python3.5/site-packages/syft-0.1.0-py3.5.egg/syft/tensor.py\", line 1516, in delete_tensor\n",
      "  File \"/Users/yanndupis/anaconda2/envs/tflearn/lib/python3.5/site-packages/syft-0.1.0-py3.5.egg/syft/tensor.py\", line 1504, in no_params_func\n",
      "  File \"/Users/yanndupis/anaconda2/envs/tflearn/lib/python3.5/site-packages/syft-0.1.0-py3.5.egg/syft/tensor.py\", line 1486, in params_func\n",
      "  File \"/Users/yanndupis/anaconda2/envs/tflearn/lib/python3.5/site-packages/syft-0.1.0-py3.5.egg/syft/controller.py\", line 143, in send_json\n",
      "Exception: Unity Error: System.Collections.Generic.KeyNotFoundException: The given key was not present in the dictionary.\n",
      "  at System.ThrowHelper.ThrowKeyNotFoundException () [0x00000] in /Users/builduser/buildslave/mono/build/mcs/class/referencesource/mscorlib/system/throwhelper.cs:68 \n",
      "  at System.Collections.Generic.Dictionary`2[TKey,TValue].get_Item (TKey key) [0x0001e] in /Users/builduser/buildslave/mono/build/mcs/class/referencesource/mscorlib/system/collections/generic/dictionary.cs:183 \n",
      "  at OpenMined.Syft.Tensor.Factories.FloatTensorFactory.Get (System.Int32 id) [0x00008] in /Users/yanndupis/Documents/Data_Science/Encrypted_DL/OpenMined/UnityProject/Assets/OpenMined/Syft/Tensor/Factories/FloatTensorFactory.cs:24 \n",
      "  at OpenMined.Syft.Tensor.FloatTensor.Delete () [0x00048] in /Users/yanndupis/Documents/Data_Science/Encrypted_DL/OpenMined/UnityProject/Assets/OpenMined/Syft/Tensor/FloatTensor.Ops.cs:558 \n",
      "  at OpenMined.Syft.Tensor.FloatTensor.ProcessMessage (OpenMined.Network.Utils.Command msgObj, OpenMined.Network.Controllers.SyftController ctrl) [0x00e4c] in /Users/yanndupis/Documents/Data_Science/Encrypted_DL/OpenMined/UnityProject/Assets/OpenMined/Syft/Tensor/FloatTensor.cs:365 \n",
      "  at OpenMined.Network.Controllers.SyftController.processMessage (System.String json_message, UnityEngine.MonoBehaviour owner) [0x002dd] in /Users/yanndupis/Documents/Data_Science/Encrypted_DL/OpenMined/UnityProject/Assets/OpenMined/Network/Controllers/SyftController.cs:231 \n",
      "Exception ignored in: <object repr() failed>\n",
      "Traceback (most recent call last):\n",
      "  File \"/Users/yanndupis/anaconda2/envs/tflearn/lib/python3.5/site-packages/syft-0.1.0-py3.5.egg/syft/tensor.py\", line 544, in __del__\n",
      "  File \"/Users/yanndupis/anaconda2/envs/tflearn/lib/python3.5/site-packages/syft-0.1.0-py3.5.egg/syft/tensor.py\", line 1516, in delete_tensor\n",
      "  File \"/Users/yanndupis/anaconda2/envs/tflearn/lib/python3.5/site-packages/syft-0.1.0-py3.5.egg/syft/tensor.py\", line 1504, in no_params_func\n",
      "  File \"/Users/yanndupis/anaconda2/envs/tflearn/lib/python3.5/site-packages/syft-0.1.0-py3.5.egg/syft/tensor.py\", line 1486, in params_func\n",
      "  File \"/Users/yanndupis/anaconda2/envs/tflearn/lib/python3.5/site-packages/syft-0.1.0-py3.5.egg/syft/controller.py\", line 143, in send_json\n",
      "Exception: Unity Error: System.Collections.Generic.KeyNotFoundException: The given key was not present in the dictionary.\n",
      "  at System.ThrowHelper.ThrowKeyNotFoundException () [0x00000] in /Users/builduser/buildslave/mono/build/mcs/class/referencesource/mscorlib/system/throwhelper.cs:68 \n",
      "  at System.Collections.Generic.Dictionary`2[TKey,TValue].get_Item (TKey key) [0x0001e] in /Users/builduser/buildslave/mono/build/mcs/class/referencesource/mscorlib/system/collections/generic/dictionary.cs:183 \n",
      "  at OpenMined.Syft.Tensor.Factories.FloatTensorFactory.Get (System.Int32 id) [0x00008] in /Users/yanndupis/Documents/Data_Science/Encrypted_DL/OpenMined/UnityProject/Assets/OpenMined/Syft/Tensor/Factories/FloatTensorFactory.cs:24 \n",
      "  at OpenMined.Syft.Tensor.FloatTensor.Delete () [0x00048] in /Users/yanndupis/Documents/Data_Science/Encrypted_DL/OpenMined/UnityProject/Assets/OpenMined/Syft/Tensor/FloatTensor.Ops.cs:558 \n",
      "  at OpenMined.Syft.Tensor.FloatTensor.ProcessMessage (OpenMined.Network.Utils.Command msgObj, OpenMined.Network.Controllers.SyftController ctrl) [0x00e4c] in /Users/yanndupis/Documents/Data_Science/Encrypted_DL/OpenMined/UnityProject/Assets/OpenMined/Syft/Tensor/FloatTensor.cs:365 \n",
      "  at OpenMined.Network.Controllers.SyftController.processMessage (System.String json_message, UnityEngine.MonoBehaviour owner) [0x002dd] in /Users/yanndupis/Documents/Data_Science/Encrypted_DL/OpenMined/UnityProject/Assets/OpenMined/Network/Controllers/SyftController.cs:231 \n",
      "Exception ignored in: <object repr() failed>\n",
      "Traceback (most recent call last):\n",
      "  File \"/Users/yanndupis/anaconda2/envs/tflearn/lib/python3.5/site-packages/syft-0.1.0-py3.5.egg/syft/tensor.py\", line 544, in __del__\n",
      "  File \"/Users/yanndupis/anaconda2/envs/tflearn/lib/python3.5/site-packages/syft-0.1.0-py3.5.egg/syft/tensor.py\", line 1516, in delete_tensor\n",
      "  File \"/Users/yanndupis/anaconda2/envs/tflearn/lib/python3.5/site-packages/syft-0.1.0-py3.5.egg/syft/tensor.py\", line 1504, in no_params_func\n",
      "  File \"/Users/yanndupis/anaconda2/envs/tflearn/lib/python3.5/site-packages/syft-0.1.0-py3.5.egg/syft/tensor.py\", line 1486, in params_func\n",
      "  File \"/Users/yanndupis/anaconda2/envs/tflearn/lib/python3.5/site-packages/syft-0.1.0-py3.5.egg/syft/controller.py\", line 143, in send_json\n",
      "Exception: Unity Error: System.Collections.Generic.KeyNotFoundException: The given key was not present in the dictionary.\n",
      "  at System.ThrowHelper.ThrowKeyNotFoundException () [0x00000] in /Users/builduser/buildslave/mono/build/mcs/class/referencesource/mscorlib/system/throwhelper.cs:68 \n",
      "  at System.Collections.Generic.Dictionary`2[TKey,TValue].get_Item (TKey key) [0x0001e] in /Users/builduser/buildslave/mono/build/mcs/class/referencesource/mscorlib/system/collections/generic/dictionary.cs:183 \n",
      "  at OpenMined.Syft.Tensor.Factories.FloatTensorFactory.Get (System.Int32 id) [0x00008] in /Users/yanndupis/Documents/Data_Science/Encrypted_DL/OpenMined/UnityProject/Assets/OpenMined/Syft/Tensor/Factories/FloatTensorFactory.cs:24 \n",
      "  at OpenMined.Syft.Tensor.FloatTensor.Delete () [0x00048] in /Users/yanndupis/Documents/Data_Science/Encrypted_DL/OpenMined/UnityProject/Assets/OpenMined/Syft/Tensor/FloatTensor.Ops.cs:558 \n",
      "  at OpenMined.Syft.Tensor.FloatTensor.ProcessMessage (OpenMined.Network.Utils.Command msgObj, OpenMined.Network.Controllers.SyftController ctrl) [0x00e4c] in /Users/yanndupis/Documents/Data_Science/Encrypted_DL/OpenMined/UnityProject/Assets/OpenMined/Syft/Tensor/FloatTensor.cs:365 \n",
      "  at OpenMined.Network.Controllers.SyftController.processMessage (System.String json_message, UnityEngine.MonoBehaviour owner) [0x002dd] in /Users/yanndupis/Documents/Data_Science/Encrypted_DL/OpenMined/UnityProject/Assets/OpenMined/Network/Controllers/SyftController.cs:231 \n"
     ]
    },
    {
     "name": "stderr",
     "output_type": "stream",
     "text": [
      "Exception ignored in: <object repr() failed>\n",
      "Traceback (most recent call last):\n",
      "  File \"/Users/yanndupis/anaconda2/envs/tflearn/lib/python3.5/site-packages/syft-0.1.0-py3.5.egg/syft/tensor.py\", line 544, in __del__\n",
      "  File \"/Users/yanndupis/anaconda2/envs/tflearn/lib/python3.5/site-packages/syft-0.1.0-py3.5.egg/syft/tensor.py\", line 1516, in delete_tensor\n",
      "  File \"/Users/yanndupis/anaconda2/envs/tflearn/lib/python3.5/site-packages/syft-0.1.0-py3.5.egg/syft/tensor.py\", line 1504, in no_params_func\n",
      "  File \"/Users/yanndupis/anaconda2/envs/tflearn/lib/python3.5/site-packages/syft-0.1.0-py3.5.egg/syft/tensor.py\", line 1486, in params_func\n",
      "  File \"/Users/yanndupis/anaconda2/envs/tflearn/lib/python3.5/site-packages/syft-0.1.0-py3.5.egg/syft/controller.py\", line 143, in send_json\n",
      "Exception: Unity Error: System.Collections.Generic.KeyNotFoundException: The given key was not present in the dictionary.\n",
      "  at System.ThrowHelper.ThrowKeyNotFoundException () [0x00000] in /Users/builduser/buildslave/mono/build/mcs/class/referencesource/mscorlib/system/throwhelper.cs:68 \n",
      "  at System.Collections.Generic.Dictionary`2[TKey,TValue].get_Item (TKey key) [0x0001e] in /Users/builduser/buildslave/mono/build/mcs/class/referencesource/mscorlib/system/collections/generic/dictionary.cs:183 \n",
      "  at OpenMined.Syft.Tensor.Factories.FloatTensorFactory.Get (System.Int32 id) [0x00008] in /Users/yanndupis/Documents/Data_Science/Encrypted_DL/OpenMined/UnityProject/Assets/OpenMined/Syft/Tensor/Factories/FloatTensorFactory.cs:24 \n",
      "  at OpenMined.Syft.Tensor.FloatTensor.Delete () [0x00048] in /Users/yanndupis/Documents/Data_Science/Encrypted_DL/OpenMined/UnityProject/Assets/OpenMined/Syft/Tensor/FloatTensor.Ops.cs:558 \n",
      "  at OpenMined.Syft.Tensor.FloatTensor.ProcessMessage (OpenMined.Network.Utils.Command msgObj, OpenMined.Network.Controllers.SyftController ctrl) [0x00e4c] in /Users/yanndupis/Documents/Data_Science/Encrypted_DL/OpenMined/UnityProject/Assets/OpenMined/Syft/Tensor/FloatTensor.cs:365 \n",
      "  at OpenMined.Network.Controllers.SyftController.processMessage (System.String json_message, UnityEngine.MonoBehaviour owner) [0x002dd] in /Users/yanndupis/Documents/Data_Science/Encrypted_DL/OpenMined/UnityProject/Assets/OpenMined/Network/Controllers/SyftController.cs:231 \n"
     ]
    },
    {
     "name": "stdout",
     "output_type": "stream",
     "text": [
      "Number of Batches:1\n"
     ]
    },
    {
     "data": {
      "application/vnd.jupyter.widget-view+json": {
       "model_id": "2bcb7a7db4a44535b8735e93d30a8a90"
      }
     },
     "metadata": {},
     "output_type": "display_data"
    },
    {
     "data": {
      "application/vnd.jupyter.widget-view+json": {
       "model_id": "9da9994ec97441b9b379c114e95835e9"
      }
     },
     "metadata": {},
     "output_type": "display_data"
    },
    {
     "name": "stderr",
     "output_type": "stream",
     "text": [
      "Exception ignored in: <bound method FloatTensor.__del__ of [ 0.01475058]\n",
      "[syft.FloatTensor:251 grad:None size:1 c:[] p:[221] init:max_-1_False]\n",
      "\n",
      "\t-----------creators-----------\n",
      "\t[syft.FloatTensor:221 grad:None size:1x3 c:[251] p:[218, 220] init:add_elem]\n",
      "\t------------------------------\n",
      "\n",
      "\n",
      ">\n",
      "Traceback (most recent call last):\n",
      "  File \"/Users/yanndupis/anaconda2/envs/tflearn/lib/python3.5/site-packages/syft-0.1.0-py3.5.egg/syft/tensor.py\", line 544, in __del__\n",
      "TypeError: 'bool' object is not callable\n",
      "Exception ignored in: "
     ]
    },
    {
     "name": "stdout",
     "output_type": "stream",
     "text": [
      "Number of Batches:1\n"
     ]
    },
    {
     "name": "stderr",
     "output_type": "stream",
     "text": [
      "<object repr() failed>\n",
      "Traceback (most recent call last):\n",
      "  File \"/Users/yanndupis/anaconda2/envs/tflearn/lib/python3.5/site-packages/syft-0.1.0-py3.5.egg/syft/tensor.py\", line 544, in __del__\n",
      "  File \"/Users/yanndupis/anaconda2/envs/tflearn/lib/python3.5/site-packages/syft-0.1.0-py3.5.egg/syft/tensor.py\", line 1516, in delete_tensor\n",
      "  File \"/Users/yanndupis/anaconda2/envs/tflearn/lib/python3.5/site-packages/syft-0.1.0-py3.5.egg/syft/tensor.py\", line 1504, in no_params_func\n",
      "  File \"/Users/yanndupis/anaconda2/envs/tflearn/lib/python3.5/site-packages/syft-0.1.0-py3.5.egg/syft/tensor.py\", line 1486, in params_func\n",
      "  File \"/Users/yanndupis/anaconda2/envs/tflearn/lib/python3.5/site-packages/syft-0.1.0-py3.5.egg/syft/controller.py\", line 143, in send_json\n",
      "Exception: Unity Error: System.Collections.Generic.KeyNotFoundException: The given key was not present in the dictionary.\n",
      "  at System.ThrowHelper.ThrowKeyNotFoundException () [0x00000] in /Users/builduser/buildslave/mono/build/mcs/class/referencesource/mscorlib/system/throwhelper.cs:68 \n",
      "  at System.Collections.Generic.Dictionary`2[TKey,TValue].get_Item (TKey key) [0x0001e] in /Users/builduser/buildslave/mono/build/mcs/class/referencesource/mscorlib/system/collections/generic/dictionary.cs:183 \n",
      "  at OpenMined.Syft.Tensor.Factories.FloatTensorFactory.Get (System.Int32 id) [0x00008] in /Users/yanndupis/Documents/Data_Science/Encrypted_DL/OpenMined/UnityProject/Assets/OpenMined/Syft/Tensor/Factories/FloatTensorFactory.cs:24 \n",
      "  at OpenMined.Syft.Tensor.FloatTensor.Delete () [0x00048] in /Users/yanndupis/Documents/Data_Science/Encrypted_DL/OpenMined/UnityProject/Assets/OpenMined/Syft/Tensor/FloatTensor.Ops.cs:558 \n",
      "  at OpenMined.Syft.Tensor.FloatTensor.ProcessMessage (OpenMined.Network.Utils.Command msgObj, OpenMined.Network.Controllers.SyftController ctrl) [0x00e4c] in /Users/yanndupis/Documents/Data_Science/Encrypted_DL/OpenMined/UnityProject/Assets/OpenMined/Syft/Tensor/FloatTensor.cs:365 \n",
      "  at OpenMined.Network.Controllers.SyftController.processMessage (System.String json_message, UnityEngine.MonoBehaviour owner) [0x002dd] in /Users/yanndupis/Documents/Data_Science/Encrypted_DL/OpenMined/UnityProject/Assets/OpenMined/Network/Controllers/SyftController.cs:231 \n"
     ]
    },
    {
     "data": {
      "application/vnd.jupyter.widget-view+json": {
       "model_id": "826a90f9e5e84b7798fbc80d76804601"
      }
     },
     "metadata": {},
     "output_type": "display_data"
    },
    {
     "data": {
      "application/vnd.jupyter.widget-view+json": {
       "model_id": "861fcd99865c4c7aa7708e7f9cd7fbee"
      }
     },
     "metadata": {},
     "output_type": "display_data"
    },
    {
     "name": "stderr",
     "output_type": "stream",
     "text": [
      "Exception ignored in: <bound method FloatTensor.__del__ of [ 0.01602163]\n",
      "[syft.FloatTensor:298 grad:None size:1 c:[] p:[297] init:max_-1_False]\n",
      "\n",
      "\t-----------creators-----------\n",
      "\t[syft.FloatTensor:297 grad:None size:1x3 c:[298] p:[296, 220] init:add_elem]\n",
      "\t------------------------------\n",
      "\n",
      "\n",
      ">\n",
      "Traceback (most recent call last):\n",
      "  File \"/Users/yanndupis/anaconda2/envs/tflearn/lib/python3.5/site-packages/syft-0.1.0-py3.5.egg/syft/tensor.py\", line 544, in __del__\n",
      "TypeError: 'bool' object is not callable\n",
      "Exception ignored in: "
     ]
    },
    {
     "name": "stdout",
     "output_type": "stream",
     "text": [
      "Number of Batches:1\n"
     ]
    },
    {
     "name": "stderr",
     "output_type": "stream",
     "text": [
      "<object repr() failed>\n",
      "Traceback (most recent call last):\n",
      "  File \"/Users/yanndupis/anaconda2/envs/tflearn/lib/python3.5/site-packages/syft-0.1.0-py3.5.egg/syft/tensor.py\", line 544, in __del__\n",
      "  File \"/Users/yanndupis/anaconda2/envs/tflearn/lib/python3.5/site-packages/syft-0.1.0-py3.5.egg/syft/tensor.py\", line 1516, in delete_tensor\n",
      "  File \"/Users/yanndupis/anaconda2/envs/tflearn/lib/python3.5/site-packages/syft-0.1.0-py3.5.egg/syft/tensor.py\", line 1504, in no_params_func\n",
      "  File \"/Users/yanndupis/anaconda2/envs/tflearn/lib/python3.5/site-packages/syft-0.1.0-py3.5.egg/syft/tensor.py\", line 1486, in params_func\n",
      "  File \"/Users/yanndupis/anaconda2/envs/tflearn/lib/python3.5/site-packages/syft-0.1.0-py3.5.egg/syft/controller.py\", line 143, in send_json\n",
      "Exception: Unity Error: System.Collections.Generic.KeyNotFoundException: The given key was not present in the dictionary.\n",
      "  at System.ThrowHelper.ThrowKeyNotFoundException () [0x00000] in /Users/builduser/buildslave/mono/build/mcs/class/referencesource/mscorlib/system/throwhelper.cs:68 \n",
      "  at System.Collections.Generic.Dictionary`2[TKey,TValue].get_Item (TKey key) [0x0001e] in /Users/builduser/buildslave/mono/build/mcs/class/referencesource/mscorlib/system/collections/generic/dictionary.cs:183 \n",
      "  at OpenMined.Syft.Tensor.Factories.FloatTensorFactory.Get (System.Int32 id) [0x00008] in /Users/yanndupis/Documents/Data_Science/Encrypted_DL/OpenMined/UnityProject/Assets/OpenMined/Syft/Tensor/Factories/FloatTensorFactory.cs:24 \n",
      "  at OpenMined.Syft.Tensor.FloatTensor.Delete () [0x00048] in /Users/yanndupis/Documents/Data_Science/Encrypted_DL/OpenMined/UnityProject/Assets/OpenMined/Syft/Tensor/FloatTensor.Ops.cs:558 \n",
      "  at OpenMined.Syft.Tensor.FloatTensor.ProcessMessage (OpenMined.Network.Utils.Command msgObj, OpenMined.Network.Controllers.SyftController ctrl) [0x00e4c] in /Users/yanndupis/Documents/Data_Science/Encrypted_DL/OpenMined/UnityProject/Assets/OpenMined/Syft/Tensor/FloatTensor.cs:365 \n",
      "  at OpenMined.Network.Controllers.SyftController.processMessage (System.String json_message, UnityEngine.MonoBehaviour owner) [0x002dd] in /Users/yanndupis/Documents/Data_Science/Encrypted_DL/OpenMined/UnityProject/Assets/OpenMined/Network/Controllers/SyftController.cs:231 \n"
     ]
    },
    {
     "data": {
      "application/vnd.jupyter.widget-view+json": {
       "model_id": "0ff5b5d3a9ef46dc9272a37cc362a423"
      }
     },
     "metadata": {},
     "output_type": "display_data"
    },
    {
     "data": {
      "application/vnd.jupyter.widget-view+json": {
       "model_id": "c5dbbb8695ac4ea7b7799edd74006a0e"
      }
     },
     "metadata": {},
     "output_type": "display_data"
    },
    {
     "name": "stderr",
     "output_type": "stream",
     "text": [
      "Exception ignored in: <bound method FloatTensor.__del__ of [ 0.01594738]\n",
      "[syft.FloatTensor:458 grad:None size:1 c:[] p:[457] init:max_-1_False]\n",
      "\n",
      "\t-----------creators-----------\n",
      "\t[syft.FloatTensor:457 grad:None size:1x3 c:[458] p:[456, 220] init:add_elem]\n",
      "\t------------------------------\n",
      "\n",
      "\n",
      ">\n",
      "Traceback (most recent call last):\n",
      "  File \"/Users/yanndupis/anaconda2/envs/tflearn/lib/python3.5/site-packages/syft-0.1.0-py3.5.egg/syft/tensor.py\", line 544, in __del__\n",
      "TypeError: 'bool' object is not callable\n",
      "Exception ignored in: "
     ]
    },
    {
     "name": "stdout",
     "output_type": "stream",
     "text": [
      "Number of Batches:1\n"
     ]
    },
    {
     "name": "stderr",
     "output_type": "stream",
     "text": [
      "<object repr() failed>\n",
      "Traceback (most recent call last):\n",
      "  File \"/Users/yanndupis/anaconda2/envs/tflearn/lib/python3.5/site-packages/syft-0.1.0-py3.5.egg/syft/tensor.py\", line 544, in __del__\n",
      "  File \"/Users/yanndupis/anaconda2/envs/tflearn/lib/python3.5/site-packages/syft-0.1.0-py3.5.egg/syft/tensor.py\", line 1516, in delete_tensor\n",
      "  File \"/Users/yanndupis/anaconda2/envs/tflearn/lib/python3.5/site-packages/syft-0.1.0-py3.5.egg/syft/tensor.py\", line 1504, in no_params_func\n",
      "  File \"/Users/yanndupis/anaconda2/envs/tflearn/lib/python3.5/site-packages/syft-0.1.0-py3.5.egg/syft/tensor.py\", line 1486, in params_func\n",
      "  File \"/Users/yanndupis/anaconda2/envs/tflearn/lib/python3.5/site-packages/syft-0.1.0-py3.5.egg/syft/controller.py\", line 143, in send_json\n",
      "Exception: Unity Error: System.Collections.Generic.KeyNotFoundException: The given key was not present in the dictionary.\n",
      "  at System.ThrowHelper.ThrowKeyNotFoundException () [0x00000] in /Users/builduser/buildslave/mono/build/mcs/class/referencesource/mscorlib/system/throwhelper.cs:68 \n",
      "  at System.Collections.Generic.Dictionary`2[TKey,TValue].get_Item (TKey key) [0x0001e] in /Users/builduser/buildslave/mono/build/mcs/class/referencesource/mscorlib/system/collections/generic/dictionary.cs:183 \n",
      "  at OpenMined.Syft.Tensor.Factories.FloatTensorFactory.Get (System.Int32 id) [0x00008] in /Users/yanndupis/Documents/Data_Science/Encrypted_DL/OpenMined/UnityProject/Assets/OpenMined/Syft/Tensor/Factories/FloatTensorFactory.cs:24 \n",
      "  at OpenMined.Syft.Tensor.FloatTensor.Delete () [0x00048] in /Users/yanndupis/Documents/Data_Science/Encrypted_DL/OpenMined/UnityProject/Assets/OpenMined/Syft/Tensor/FloatTensor.Ops.cs:558 \n",
      "  at OpenMined.Syft.Tensor.FloatTensor.ProcessMessage (OpenMined.Network.Utils.Command msgObj, OpenMined.Network.Controllers.SyftController ctrl) [0x00e4c] in /Users/yanndupis/Documents/Data_Science/Encrypted_DL/OpenMined/UnityProject/Assets/OpenMined/Syft/Tensor/FloatTensor.cs:365 \n",
      "  at OpenMined.Network.Controllers.SyftController.processMessage (System.String json_message, UnityEngine.MonoBehaviour owner) [0x002dd] in /Users/yanndupis/Documents/Data_Science/Encrypted_DL/OpenMined/UnityProject/Assets/OpenMined/Network/Controllers/SyftController.cs:231 \n"
     ]
    },
    {
     "data": {
      "application/vnd.jupyter.widget-view+json": {
       "model_id": "5933ce6b32a047ca8ffc3a744599e4d3"
      }
     },
     "metadata": {},
     "output_type": "display_data"
    },
    {
     "data": {
      "application/vnd.jupyter.widget-view+json": {
       "model_id": "6731ce3b9afe4564956626f87379595a"
      }
     },
     "metadata": {},
     "output_type": "display_data"
    },
    {
     "name": "stderr",
     "output_type": "stream",
     "text": [
      "Exception ignored in: <bound method FloatTensor.__del__ of [ 0.01596209]\n",
      "[syft.FloatTensor:476 grad:None size:1 c:[] p:[475] init:max_-1_False]\n",
      "\n",
      "\t-----------creators-----------\n",
      "\t[syft.FloatTensor:475 grad:None size:1x3 c:[476] p:[474, 220] init:add_elem]\n",
      "\t------------------------------\n",
      "\n",
      "\n",
      ">\n",
      "Traceback (most recent call last):\n",
      "  File \"/Users/yanndupis/anaconda2/envs/tflearn/lib/python3.5/site-packages/syft-0.1.0-py3.5.egg/syft/tensor.py\", line 544, in __del__\n",
      "TypeError: 'bool' object is not callable\n",
      "Exception ignored in: "
     ]
    },
    {
     "name": "stdout",
     "output_type": "stream",
     "text": [
      "Number of Batches:1\n"
     ]
    },
    {
     "name": "stderr",
     "output_type": "stream",
     "text": [
      "<object repr() failed>\n",
      "Traceback (most recent call last):\n",
      "  File \"/Users/yanndupis/anaconda2/envs/tflearn/lib/python3.5/site-packages/syft-0.1.0-py3.5.egg/syft/tensor.py\", line 544, in __del__\n",
      "  File \"/Users/yanndupis/anaconda2/envs/tflearn/lib/python3.5/site-packages/syft-0.1.0-py3.5.egg/syft/tensor.py\", line 1516, in delete_tensor\n",
      "  File \"/Users/yanndupis/anaconda2/envs/tflearn/lib/python3.5/site-packages/syft-0.1.0-py3.5.egg/syft/tensor.py\", line 1504, in no_params_func\n",
      "  File \"/Users/yanndupis/anaconda2/envs/tflearn/lib/python3.5/site-packages/syft-0.1.0-py3.5.egg/syft/tensor.py\", line 1486, in params_func\n",
      "  File \"/Users/yanndupis/anaconda2/envs/tflearn/lib/python3.5/site-packages/syft-0.1.0-py3.5.egg/syft/controller.py\", line 143, in send_json\n",
      "Exception: Unity Error: System.Collections.Generic.KeyNotFoundException: The given key was not present in the dictionary.\n",
      "  at System.ThrowHelper.ThrowKeyNotFoundException () [0x00000] in /Users/builduser/buildslave/mono/build/mcs/class/referencesource/mscorlib/system/throwhelper.cs:68 \n",
      "  at System.Collections.Generic.Dictionary`2[TKey,TValue].get_Item (TKey key) [0x0001e] in /Users/builduser/buildslave/mono/build/mcs/class/referencesource/mscorlib/system/collections/generic/dictionary.cs:183 \n",
      "  at OpenMined.Syft.Tensor.Factories.FloatTensorFactory.Get (System.Int32 id) [0x00008] in /Users/yanndupis/Documents/Data_Science/Encrypted_DL/OpenMined/UnityProject/Assets/OpenMined/Syft/Tensor/Factories/FloatTensorFactory.cs:24 \n",
      "  at OpenMined.Syft.Tensor.FloatTensor.Delete () [0x00048] in /Users/yanndupis/Documents/Data_Science/Encrypted_DL/OpenMined/UnityProject/Assets/OpenMined/Syft/Tensor/FloatTensor.Ops.cs:558 \n",
      "  at OpenMined.Syft.Tensor.FloatTensor.ProcessMessage (OpenMined.Network.Utils.Command msgObj, OpenMined.Network.Controllers.SyftController ctrl) [0x00e4c] in /Users/yanndupis/Documents/Data_Science/Encrypted_DL/OpenMined/UnityProject/Assets/OpenMined/Syft/Tensor/FloatTensor.cs:365 \n",
      "  at OpenMined.Network.Controllers.SyftController.processMessage (System.String json_message, UnityEngine.MonoBehaviour owner) [0x002dd] in /Users/yanndupis/Documents/Data_Science/Encrypted_DL/OpenMined/UnityProject/Assets/OpenMined/Network/Controllers/SyftController.cs:231 \n"
     ]
    },
    {
     "data": {
      "application/vnd.jupyter.widget-view+json": {
       "model_id": "d6a6966889804984967d44fee0269fc2"
      }
     },
     "metadata": {},
     "output_type": "display_data"
    },
    {
     "data": {
      "application/vnd.jupyter.widget-view+json": {
       "model_id": "61ff432f8be4478d95f9926d18e9820b"
      }
     },
     "metadata": {},
     "output_type": "display_data"
    },
    {
     "name": "stderr",
     "output_type": "stream",
     "text": [
      "Exception ignored in: <bound method FloatTensor.__del__ of [ 0.01491045]\n",
      "[syft.FloatTensor:269 grad:None size:1 c:[] p:[268] init:max_-1_False]\n",
      "\n",
      "\t-----------creators-----------\n",
      "\t[syft.FloatTensor:268 grad:None size:1x3 c:[269] p:[267, 220] init:add_elem]\n",
      "\t------------------------------\n",
      "\n",
      "\n",
      ">\n",
      "Traceback (most recent call last):\n",
      "  File \"/Users/yanndupis/anaconda2/envs/tflearn/lib/python3.5/site-packages/syft-0.1.0-py3.5.egg/syft/tensor.py\", line 544, in __del__\n",
      "TypeError: 'bool' object is not callable\n",
      "Exception ignored in: <object repr() failed>\n",
      "Traceback (most recent call last):\n",
      "  File \"/Users/yanndupis/anaconda2/envs/tflearn/lib/python3.5/site-packages/syft-0.1.0-py3.5.egg/syft/tensor.py\", line 544, in __del__\n",
      "  File \"/Users/yanndupis/anaconda2/envs/tflearn/lib/python3.5/site-packages/syft-0.1.0-py3.5.egg/syft/tensor.py\", line 1516, in delete_tensor\n",
      "  File \"/Users/yanndupis/anaconda2/envs/tflearn/lib/python3.5/site-packages/syft-0.1.0-py3.5.egg/syft/tensor.py\", line 1504, in no_params_func\n",
      "  File \"/Users/yanndupis/anaconda2/envs/tflearn/lib/python3.5/site-packages/syft-0.1.0-py3.5.egg/syft/tensor.py\", line 1486, in params_func\n",
      "  File \"/Users/yanndupis/anaconda2/envs/tflearn/lib/python3.5/site-packages/syft-0.1.0-py3.5.egg/syft/controller.py\", line 143, in send_json\n",
      "Exception: Unity Error: System.Collections.Generic.KeyNotFoundException: The given key was not present in the dictionary.\n",
      "  at System.ThrowHelper.ThrowKeyNotFoundException () [0x00000] in /Users/builduser/buildslave/mono/build/mcs/class/referencesource/mscorlib/system/throwhelper.cs:68 \n",
      "  at System.Collections.Generic.Dictionary`2[TKey,TValue].get_Item (TKey key) [0x0001e] in /Users/builduser/buildslave/mono/build/mcs/class/referencesource/mscorlib/system/collections/generic/dictionary.cs:183 \n",
      "  at OpenMined.Syft.Tensor.Factories.FloatTensorFactory.Get (System.Int32 id) [0x00008] in /Users/yanndupis/Documents/Data_Science/Encrypted_DL/OpenMined/UnityProject/Assets/OpenMined/Syft/Tensor/Factories/FloatTensorFactory.cs:24 \n",
      "  at OpenMined.Syft.Tensor.FloatTensor.Delete () [0x00048] in /Users/yanndupis/Documents/Data_Science/Encrypted_DL/OpenMined/UnityProject/Assets/OpenMined/Syft/Tensor/FloatTensor.Ops.cs:558 \n",
      "  at OpenMined.Syft.Tensor.FloatTensor.ProcessMessage (OpenMined.Network.Utils.Command msgObj, OpenMined.Network.Controllers.SyftController ctrl) [0x00e4c] in /Users/yanndupis/Documents/Data_Science/Encrypted_DL/OpenMined/UnityProject/Assets/OpenMined/Syft/Tensor/FloatTensor.cs:365 \n",
      "  at OpenMined.Network.Controllers.SyftController.processMessage (System.String json_message, UnityEngine.MonoBehaviour owner) [0x002dd] in /Users/yanndupis/Documents/Data_Science/Encrypted_DL/OpenMined/UnityProject/Assets/OpenMined/Network/Controllers/SyftController.cs:231 \n",
      "Exception ignored in: <object repr() failed>\n",
      "Traceback (most recent call last):\n",
      "  File \"/Users/yanndupis/anaconda2/envs/tflearn/lib/python3.5/site-packages/syft-0.1.0-py3.5.egg/syft/tensor.py\", line 544, in __del__\n",
      "  File \"/Users/yanndupis/anaconda2/envs/tflearn/lib/python3.5/site-packages/syft-0.1.0-py3.5.egg/syft/tensor.py\", line 1516, in delete_tensor\n",
      "  File \"/Users/yanndupis/anaconda2/envs/tflearn/lib/python3.5/site-packages/syft-0.1.0-py3.5.egg/syft/tensor.py\", line 1504, in no_params_func\n",
      "  File \"/Users/yanndupis/anaconda2/envs/tflearn/lib/python3.5/site-packages/syft-0.1.0-py3.5.egg/syft/tensor.py\", line 1486, in params_func\n",
      "  File \"/Users/yanndupis/anaconda2/envs/tflearn/lib/python3.5/site-packages/syft-0.1.0-py3.5.egg/syft/controller.py\", line 143, in send_json\n",
      "Exception: Unity Error: System.Collections.Generic.KeyNotFoundException: The given key was not present in the dictionary.\n",
      "  at System.ThrowHelper.ThrowKeyNotFoundException () [0x00000] in /Users/builduser/buildslave/mono/build/mcs/class/referencesource/mscorlib/system/throwhelper.cs:68 \n",
      "  at System.Collections.Generic.Dictionary`2[TKey,TValue].get_Item (TKey key) [0x0001e] in /Users/builduser/buildslave/mono/build/mcs/class/referencesource/mscorlib/system/collections/generic/dictionary.cs:183 \n",
      "  at OpenMined.Syft.Tensor.Factories.FloatTensorFactory.Get (System.Int32 id) [0x00008] in /Users/yanndupis/Documents/Data_Science/Encrypted_DL/OpenMined/UnityProject/Assets/OpenMined/Syft/Tensor/Factories/FloatTensorFactory.cs:24 \n",
      "  at OpenMined.Syft.Tensor.FloatTensor.Delete () [0x00048] in /Users/yanndupis/Documents/Data_Science/Encrypted_DL/OpenMined/UnityProject/Assets/OpenMined/Syft/Tensor/FloatTensor.Ops.cs:558 \n",
      "  at OpenMined.Syft.Tensor.FloatTensor.ProcessMessage (OpenMined.Network.Utils.Command msgObj, OpenMined.Network.Controllers.SyftController ctrl) [0x00e4c] in /Users/yanndupis/Documents/Data_Science/Encrypted_DL/OpenMined/UnityProject/Assets/OpenMined/Syft/Tensor/FloatTensor.cs:365 \n",
      "  at OpenMined.Network.Controllers.SyftController.processMessage (System.String json_message, UnityEngine.MonoBehaviour owner) [0x002dd] in /Users/yanndupis/Documents/Data_Science/Encrypted_DL/OpenMined/UnityProject/Assets/OpenMined/Network/Controllers/SyftController.cs:231 \n",
      "Exception ignored in: <object repr() failed>\n",
      "Traceback (most recent call last):\n",
      "  File \"/Users/yanndupis/anaconda2/envs/tflearn/lib/python3.5/site-packages/syft-0.1.0-py3.5.egg/syft/tensor.py\", line 544, in __del__\n",
      "  File \"/Users/yanndupis/anaconda2/envs/tflearn/lib/python3.5/site-packages/syft-0.1.0-py3.5.egg/syft/tensor.py\", line 1516, in delete_tensor\n",
      "  File \"/Users/yanndupis/anaconda2/envs/tflearn/lib/python3.5/site-packages/syft-0.1.0-py3.5.egg/syft/tensor.py\", line 1504, in no_params_func\n",
      "  File \"/Users/yanndupis/anaconda2/envs/tflearn/lib/python3.5/site-packages/syft-0.1.0-py3.5.egg/syft/tensor.py\", line 1486, in params_func\n",
      "  File \"/Users/yanndupis/anaconda2/envs/tflearn/lib/python3.5/site-packages/syft-0.1.0-py3.5.egg/syft/controller.py\", line 143, in send_json\n",
      "Exception: Unity Error: System.Collections.Generic.KeyNotFoundException: The given key was not present in the dictionary.\n",
      "  at System.ThrowHelper.ThrowKeyNotFoundException () [0x00000] in /Users/builduser/buildslave/mono/build/mcs/class/referencesource/mscorlib/system/throwhelper.cs:68 \n",
      "  at System.Collections.Generic.Dictionary`2[TKey,TValue].get_Item (TKey key) [0x0001e] in /Users/builduser/buildslave/mono/build/mcs/class/referencesource/mscorlib/system/collections/generic/dictionary.cs:183 \n",
      "  at OpenMined.Syft.Tensor.Factories.FloatTensorFactory.Get (System.Int32 id) [0x00008] in /Users/yanndupis/Documents/Data_Science/Encrypted_DL/OpenMined/UnityProject/Assets/OpenMined/Syft/Tensor/Factories/FloatTensorFactory.cs:24 \n",
      "  at OpenMined.Syft.Tensor.FloatTensor.Delete () [0x00048] in /Users/yanndupis/Documents/Data_Science/Encrypted_DL/OpenMined/UnityProject/Assets/OpenMined/Syft/Tensor/FloatTensor.Ops.cs:558 \n",
      "  at OpenMined.Syft.Tensor.FloatTensor.ProcessMessage (OpenMined.Network.Utils.Command msgObj, OpenMined.Network.Controllers.SyftController ctrl) [0x00e4c] in /Users/yanndupis/Documents/Data_Science/Encrypted_DL/OpenMined/UnityProject/Assets/OpenMined/Syft/Tensor/FloatTensor.cs:365 \n",
      "  at OpenMined.Network.Controllers.SyftController.processMessage (System.String json_message, UnityEngine.MonoBehaviour owner) [0x002dd] in /Users/yanndupis/Documents/Data_Science/Encrypted_DL/OpenMined/UnityProject/Assets/OpenMined/Network/Controllers/SyftController.cs:231 \n",
      "Exception ignored in: <object repr() failed>\n",
      "Traceback (most recent call last):\n",
      "  File \"/Users/yanndupis/anaconda2/envs/tflearn/lib/python3.5/site-packages/syft-0.1.0-py3.5.egg/syft/tensor.py\", line 544, in __del__\n",
      "  File \"/Users/yanndupis/anaconda2/envs/tflearn/lib/python3.5/site-packages/syft-0.1.0-py3.5.egg/syft/tensor.py\", line 1516, in delete_tensor\n",
      "  File \"/Users/yanndupis/anaconda2/envs/tflearn/lib/python3.5/site-packages/syft-0.1.0-py3.5.egg/syft/tensor.py\", line 1504, in no_params_func\n",
      "  File \"/Users/yanndupis/anaconda2/envs/tflearn/lib/python3.5/site-packages/syft-0.1.0-py3.5.egg/syft/tensor.py\", line 1486, in params_func\n",
      "  File \"/Users/yanndupis/anaconda2/envs/tflearn/lib/python3.5/site-packages/syft-0.1.0-py3.5.egg/syft/controller.py\", line 143, in send_json\n",
      "Exception: Unity Error: System.Collections.Generic.KeyNotFoundException: The given key was not present in the dictionary.\n",
      "  at System.ThrowHelper.ThrowKeyNotFoundException () [0x00000] in /Users/builduser/buildslave/mono/build/mcs/class/referencesource/mscorlib/system/throwhelper.cs:68 \n",
      "  at System.Collections.Generic.Dictionary`2[TKey,TValue].get_Item (TKey key) [0x0001e] in /Users/builduser/buildslave/mono/build/mcs/class/referencesource/mscorlib/system/collections/generic/dictionary.cs:183 \n",
      "  at OpenMined.Syft.Tensor.Factories.FloatTensorFactory.Get (System.Int32 id) [0x00008] in /Users/yanndupis/Documents/Data_Science/Encrypted_DL/OpenMined/UnityProject/Assets/OpenMined/Syft/Tensor/Factories/FloatTensorFactory.cs:24 \n",
      "  at OpenMined.Syft.Tensor.FloatTensor.Delete () [0x00048] in /Users/yanndupis/Documents/Data_Science/Encrypted_DL/OpenMined/UnityProject/Assets/OpenMined/Syft/Tensor/FloatTensor.Ops.cs:558 \n",
      "  at OpenMined.Syft.Tensor.FloatTensor.ProcessMessage (OpenMined.Network.Utils.Command msgObj, OpenMined.Network.Controllers.SyftController ctrl) [0x00e4c] in /Users/yanndupis/Documents/Data_Science/Encrypted_DL/OpenMined/UnityProject/Assets/OpenMined/Syft/Tensor/FloatTensor.cs:365 \n",
      "  at OpenMined.Network.Controllers.SyftController.processMessage (System.String json_message, UnityEngine.MonoBehaviour owner) [0x002dd] in /Users/yanndupis/Documents/Data_Science/Encrypted_DL/OpenMined/UnityProject/Assets/OpenMined/Network/Controllers/SyftController.cs:231 \n"
     ]
    },
    {
     "name": "stderr",
     "output_type": "stream",
     "text": [
      "Exception ignored in: <object repr() failed>\n",
      "Traceback (most recent call last):\n",
      "  File \"/Users/yanndupis/anaconda2/envs/tflearn/lib/python3.5/site-packages/syft-0.1.0-py3.5.egg/syft/tensor.py\", line 544, in __del__\n",
      "  File \"/Users/yanndupis/anaconda2/envs/tflearn/lib/python3.5/site-packages/syft-0.1.0-py3.5.egg/syft/tensor.py\", line 1516, in delete_tensor\n",
      "  File \"/Users/yanndupis/anaconda2/envs/tflearn/lib/python3.5/site-packages/syft-0.1.0-py3.5.egg/syft/tensor.py\", line 1504, in no_params_func\n",
      "  File \"/Users/yanndupis/anaconda2/envs/tflearn/lib/python3.5/site-packages/syft-0.1.0-py3.5.egg/syft/tensor.py\", line 1486, in params_func\n",
      "  File \"/Users/yanndupis/anaconda2/envs/tflearn/lib/python3.5/site-packages/syft-0.1.0-py3.5.egg/syft/controller.py\", line 143, in send_json\n",
      "Exception: Unity Error: System.Collections.Generic.KeyNotFoundException: The given key was not present in the dictionary.\n",
      "  at System.ThrowHelper.ThrowKeyNotFoundException () [0x00000] in /Users/builduser/buildslave/mono/build/mcs/class/referencesource/mscorlib/system/throwhelper.cs:68 \n",
      "  at System.Collections.Generic.Dictionary`2[TKey,TValue].get_Item (TKey key) [0x0001e] in /Users/builduser/buildslave/mono/build/mcs/class/referencesource/mscorlib/system/collections/generic/dictionary.cs:183 \n",
      "  at OpenMined.Syft.Tensor.Factories.FloatTensorFactory.Get (System.Int32 id) [0x00008] in /Users/yanndupis/Documents/Data_Science/Encrypted_DL/OpenMined/UnityProject/Assets/OpenMined/Syft/Tensor/Factories/FloatTensorFactory.cs:24 \n",
      "  at OpenMined.Syft.Tensor.FloatTensor.Delete () [0x00048] in /Users/yanndupis/Documents/Data_Science/Encrypted_DL/OpenMined/UnityProject/Assets/OpenMined/Syft/Tensor/FloatTensor.Ops.cs:558 \n",
      "  at OpenMined.Syft.Tensor.FloatTensor.ProcessMessage (OpenMined.Network.Utils.Command msgObj, OpenMined.Network.Controllers.SyftController ctrl) [0x00e4c] in /Users/yanndupis/Documents/Data_Science/Encrypted_DL/OpenMined/UnityProject/Assets/OpenMined/Syft/Tensor/FloatTensor.cs:365 \n",
      "  at OpenMined.Network.Controllers.SyftController.processMessage (System.String json_message, UnityEngine.MonoBehaviour owner) [0x002dd] in /Users/yanndupis/Documents/Data_Science/Encrypted_DL/OpenMined/UnityProject/Assets/OpenMined/Network/Controllers/SyftController.cs:231 \n",
      "Exception ignored in: <object repr() failed>\n",
      "Traceback (most recent call last):\n",
      "  File \"/Users/yanndupis/anaconda2/envs/tflearn/lib/python3.5/site-packages/syft-0.1.0-py3.5.egg/syft/tensor.py\", line 544, in __del__\n",
      "  File \"/Users/yanndupis/anaconda2/envs/tflearn/lib/python3.5/site-packages/syft-0.1.0-py3.5.egg/syft/tensor.py\", line 1516, in delete_tensor\n",
      "  File \"/Users/yanndupis/anaconda2/envs/tflearn/lib/python3.5/site-packages/syft-0.1.0-py3.5.egg/syft/tensor.py\", line 1504, in no_params_func\n",
      "  File \"/Users/yanndupis/anaconda2/envs/tflearn/lib/python3.5/site-packages/syft-0.1.0-py3.5.egg/syft/tensor.py\", line 1486, in params_func\n",
      "  File \"/Users/yanndupis/anaconda2/envs/tflearn/lib/python3.5/site-packages/syft-0.1.0-py3.5.egg/syft/controller.py\", line 143, in send_json\n",
      "Exception: Unity Error: System.Collections.Generic.KeyNotFoundException: The given key was not present in the dictionary.\n",
      "  at System.ThrowHelper.ThrowKeyNotFoundException () [0x00000] in /Users/builduser/buildslave/mono/build/mcs/class/referencesource/mscorlib/system/throwhelper.cs:68 \n",
      "  at System.Collections.Generic.Dictionary`2[TKey,TValue].get_Item (TKey key) [0x0001e] in /Users/builduser/buildslave/mono/build/mcs/class/referencesource/mscorlib/system/collections/generic/dictionary.cs:183 \n",
      "  at OpenMined.Syft.Tensor.Factories.FloatTensorFactory.Get (System.Int32 id) [0x00008] in /Users/yanndupis/Documents/Data_Science/Encrypted_DL/OpenMined/UnityProject/Assets/OpenMined/Syft/Tensor/Factories/FloatTensorFactory.cs:24 \n",
      "  at OpenMined.Syft.Tensor.FloatTensor.Delete () [0x00048] in /Users/yanndupis/Documents/Data_Science/Encrypted_DL/OpenMined/UnityProject/Assets/OpenMined/Syft/Tensor/FloatTensor.Ops.cs:558 \n",
      "  at OpenMined.Syft.Tensor.FloatTensor.ProcessMessage (OpenMined.Network.Utils.Command msgObj, OpenMined.Network.Controllers.SyftController ctrl) [0x00e4c] in /Users/yanndupis/Documents/Data_Science/Encrypted_DL/OpenMined/UnityProject/Assets/OpenMined/Syft/Tensor/FloatTensor.cs:365 \n",
      "  at OpenMined.Network.Controllers.SyftController.processMessage (System.String json_message, UnityEngine.MonoBehaviour owner) [0x002dd] in /Users/yanndupis/Documents/Data_Science/Encrypted_DL/OpenMined/UnityProject/Assets/OpenMined/Network/Controllers/SyftController.cs:231 \n",
      "Exception ignored in: <object repr() failed>\n",
      "Traceback (most recent call last):\n",
      "  File \"/Users/yanndupis/anaconda2/envs/tflearn/lib/python3.5/site-packages/syft-0.1.0-py3.5.egg/syft/tensor.py\", line 544, in __del__\n",
      "  File \"/Users/yanndupis/anaconda2/envs/tflearn/lib/python3.5/site-packages/syft-0.1.0-py3.5.egg/syft/tensor.py\", line 1516, in delete_tensor\n",
      "  File \"/Users/yanndupis/anaconda2/envs/tflearn/lib/python3.5/site-packages/syft-0.1.0-py3.5.egg/syft/tensor.py\", line 1504, in no_params_func\n",
      "  File \"/Users/yanndupis/anaconda2/envs/tflearn/lib/python3.5/site-packages/syft-0.1.0-py3.5.egg/syft/tensor.py\", line 1486, in params_func\n",
      "  File \"/Users/yanndupis/anaconda2/envs/tflearn/lib/python3.5/site-packages/syft-0.1.0-py3.5.egg/syft/controller.py\", line 143, in send_json\n",
      "Exception: Unity Error: System.Collections.Generic.KeyNotFoundException: The given key was not present in the dictionary.\n",
      "  at System.ThrowHelper.ThrowKeyNotFoundException () [0x00000] in /Users/builduser/buildslave/mono/build/mcs/class/referencesource/mscorlib/system/throwhelper.cs:68 \n",
      "  at System.Collections.Generic.Dictionary`2[TKey,TValue].get_Item (TKey key) [0x0001e] in /Users/builduser/buildslave/mono/build/mcs/class/referencesource/mscorlib/system/collections/generic/dictionary.cs:183 \n",
      "  at OpenMined.Syft.Tensor.Factories.FloatTensorFactory.Get (System.Int32 id) [0x00008] in /Users/yanndupis/Documents/Data_Science/Encrypted_DL/OpenMined/UnityProject/Assets/OpenMined/Syft/Tensor/Factories/FloatTensorFactory.cs:24 \n",
      "  at OpenMined.Syft.Tensor.FloatTensor.Delete () [0x00048] in /Users/yanndupis/Documents/Data_Science/Encrypted_DL/OpenMined/UnityProject/Assets/OpenMined/Syft/Tensor/FloatTensor.Ops.cs:558 \n",
      "  at OpenMined.Syft.Tensor.FloatTensor.ProcessMessage (OpenMined.Network.Utils.Command msgObj, OpenMined.Network.Controllers.SyftController ctrl) [0x00e4c] in /Users/yanndupis/Documents/Data_Science/Encrypted_DL/OpenMined/UnityProject/Assets/OpenMined/Syft/Tensor/FloatTensor.cs:365 \n",
      "  at OpenMined.Network.Controllers.SyftController.processMessage (System.String json_message, UnityEngine.MonoBehaviour owner) [0x002dd] in /Users/yanndupis/Documents/Data_Science/Encrypted_DL/OpenMined/UnityProject/Assets/OpenMined/Network/Controllers/SyftController.cs:231 \n",
      "Exception ignored in: <object repr() failed>\n",
      "Traceback (most recent call last):\n",
      "  File \"/Users/yanndupis/anaconda2/envs/tflearn/lib/python3.5/site-packages/syft-0.1.0-py3.5.egg/syft/tensor.py\", line 544, in __del__\n",
      "  File \"/Users/yanndupis/anaconda2/envs/tflearn/lib/python3.5/site-packages/syft-0.1.0-py3.5.egg/syft/tensor.py\", line 1516, in delete_tensor\n",
      "  File \"/Users/yanndupis/anaconda2/envs/tflearn/lib/python3.5/site-packages/syft-0.1.0-py3.5.egg/syft/tensor.py\", line 1504, in no_params_func\n",
      "  File \"/Users/yanndupis/anaconda2/envs/tflearn/lib/python3.5/site-packages/syft-0.1.0-py3.5.egg/syft/tensor.py\", line 1486, in params_func\n",
      "  File \"/Users/yanndupis/anaconda2/envs/tflearn/lib/python3.5/site-packages/syft-0.1.0-py3.5.egg/syft/controller.py\", line 143, in send_json\n",
      "Exception: Unity Error: System.Collections.Generic.KeyNotFoundException: The given key was not present in the dictionary.\n",
      "  at System.ThrowHelper.ThrowKeyNotFoundException () [0x00000] in /Users/builduser/buildslave/mono/build/mcs/class/referencesource/mscorlib/system/throwhelper.cs:68 \n",
      "  at System.Collections.Generic.Dictionary`2[TKey,TValue].get_Item (TKey key) [0x0001e] in /Users/builduser/buildslave/mono/build/mcs/class/referencesource/mscorlib/system/collections/generic/dictionary.cs:183 \n",
      "  at OpenMined.Syft.Tensor.Factories.FloatTensorFactory.Get (System.Int32 id) [0x00008] in /Users/yanndupis/Documents/Data_Science/Encrypted_DL/OpenMined/UnityProject/Assets/OpenMined/Syft/Tensor/Factories/FloatTensorFactory.cs:24 \n",
      "  at OpenMined.Syft.Tensor.FloatTensor.Delete () [0x00048] in /Users/yanndupis/Documents/Data_Science/Encrypted_DL/OpenMined/UnityProject/Assets/OpenMined/Syft/Tensor/FloatTensor.Ops.cs:558 \n",
      "  at OpenMined.Syft.Tensor.FloatTensor.ProcessMessage (OpenMined.Network.Utils.Command msgObj, OpenMined.Network.Controllers.SyftController ctrl) [0x00e4c] in /Users/yanndupis/Documents/Data_Science/Encrypted_DL/OpenMined/UnityProject/Assets/OpenMined/Syft/Tensor/FloatTensor.cs:365 \n",
      "  at OpenMined.Network.Controllers.SyftController.processMessage (System.String json_message, UnityEngine.MonoBehaviour owner) [0x002dd] in /Users/yanndupis/Documents/Data_Science/Encrypted_DL/OpenMined/UnityProject/Assets/OpenMined/Network/Controllers/SyftController.cs:231 \n"
     ]
    },
    {
     "name": "stderr",
     "output_type": "stream",
     "text": [
      "Exception ignored in: <object repr() failed>\n",
      "Traceback (most recent call last):\n",
      "  File \"/Users/yanndupis/anaconda2/envs/tflearn/lib/python3.5/site-packages/syft-0.1.0-py3.5.egg/syft/tensor.py\", line 544, in __del__\n",
      "  File \"/Users/yanndupis/anaconda2/envs/tflearn/lib/python3.5/site-packages/syft-0.1.0-py3.5.egg/syft/tensor.py\", line 1516, in delete_tensor\n",
      "  File \"/Users/yanndupis/anaconda2/envs/tflearn/lib/python3.5/site-packages/syft-0.1.0-py3.5.egg/syft/tensor.py\", line 1504, in no_params_func\n",
      "  File \"/Users/yanndupis/anaconda2/envs/tflearn/lib/python3.5/site-packages/syft-0.1.0-py3.5.egg/syft/tensor.py\", line 1486, in params_func\n",
      "  File \"/Users/yanndupis/anaconda2/envs/tflearn/lib/python3.5/site-packages/syft-0.1.0-py3.5.egg/syft/controller.py\", line 143, in send_json\n",
      "Exception: Unity Error: System.Collections.Generic.KeyNotFoundException: The given key was not present in the dictionary.\n",
      "  at System.ThrowHelper.ThrowKeyNotFoundException () [0x00000] in /Users/builduser/buildslave/mono/build/mcs/class/referencesource/mscorlib/system/throwhelper.cs:68 \n",
      "  at System.Collections.Generic.Dictionary`2[TKey,TValue].get_Item (TKey key) [0x0001e] in /Users/builduser/buildslave/mono/build/mcs/class/referencesource/mscorlib/system/collections/generic/dictionary.cs:183 \n",
      "  at OpenMined.Syft.Tensor.Factories.FloatTensorFactory.Get (System.Int32 id) [0x00008] in /Users/yanndupis/Documents/Data_Science/Encrypted_DL/OpenMined/UnityProject/Assets/OpenMined/Syft/Tensor/Factories/FloatTensorFactory.cs:24 \n",
      "  at OpenMined.Syft.Tensor.FloatTensor.Delete () [0x00048] in /Users/yanndupis/Documents/Data_Science/Encrypted_DL/OpenMined/UnityProject/Assets/OpenMined/Syft/Tensor/FloatTensor.Ops.cs:558 \n",
      "  at OpenMined.Syft.Tensor.FloatTensor.ProcessMessage (OpenMined.Network.Utils.Command msgObj, OpenMined.Network.Controllers.SyftController ctrl) [0x00e4c] in /Users/yanndupis/Documents/Data_Science/Encrypted_DL/OpenMined/UnityProject/Assets/OpenMined/Syft/Tensor/FloatTensor.cs:365 \n",
      "  at OpenMined.Network.Controllers.SyftController.processMessage (System.String json_message, UnityEngine.MonoBehaviour owner) [0x002dd] in /Users/yanndupis/Documents/Data_Science/Encrypted_DL/OpenMined/UnityProject/Assets/OpenMined/Network/Controllers/SyftController.cs:231 \n"
     ]
    },
    {
     "name": "stdout",
     "output_type": "stream",
     "text": [
      "Number of Batches:1\n"
     ]
    },
    {
     "data": {
      "application/vnd.jupyter.widget-view+json": {
       "model_id": "6f89cb99dd9a41bfb78864c7561ea0bc"
      }
     },
     "metadata": {},
     "output_type": "display_data"
    },
    {
     "data": {
      "application/vnd.jupyter.widget-view+json": {
       "model_id": "6626db703c9641eea0d40b7a78b34036"
      }
     },
     "metadata": {},
     "output_type": "display_data"
    },
    {
     "name": "stderr",
     "output_type": "stream",
     "text": [
      "Exception ignored in: <bound method FloatTensor.__del__ of [ 0.01596209]\n",
      "[syft.FloatTensor:476 grad:None size:1 c:[] p:[475] init:max_-1_False]\n",
      "\n",
      "\t-----------creators-----------\n",
      "\t[syft.FloatTensor:475 grad:None size:1x3 c:[476] p:[474, 220] init:add_elem]\n",
      "\t------------------------------\n",
      "\n",
      "\n",
      ">\n",
      "Traceback (most recent call last):\n",
      "  File \"/Users/yanndupis/anaconda2/envs/tflearn/lib/python3.5/site-packages/syft-0.1.0-py3.5.egg/syft/tensor.py\", line 544, in __del__\n",
      "TypeError: 'bool' object is not callable\n",
      "Exception ignored in: "
     ]
    },
    {
     "name": "stdout",
     "output_type": "stream",
     "text": [
      "Number of Batches:1\n"
     ]
    },
    {
     "name": "stderr",
     "output_type": "stream",
     "text": [
      "<object repr() failed>\n",
      "Traceback (most recent call last):\n",
      "  File \"/Users/yanndupis/anaconda2/envs/tflearn/lib/python3.5/site-packages/syft-0.1.0-py3.5.egg/syft/tensor.py\", line 544, in __del__\n",
      "  File \"/Users/yanndupis/anaconda2/envs/tflearn/lib/python3.5/site-packages/syft-0.1.0-py3.5.egg/syft/tensor.py\", line 1516, in delete_tensor\n",
      "  File \"/Users/yanndupis/anaconda2/envs/tflearn/lib/python3.5/site-packages/syft-0.1.0-py3.5.egg/syft/tensor.py\", line 1504, in no_params_func\n",
      "  File \"/Users/yanndupis/anaconda2/envs/tflearn/lib/python3.5/site-packages/syft-0.1.0-py3.5.egg/syft/tensor.py\", line 1486, in params_func\n",
      "  File \"/Users/yanndupis/anaconda2/envs/tflearn/lib/python3.5/site-packages/syft-0.1.0-py3.5.egg/syft/controller.py\", line 143, in send_json\n",
      "Exception: Unity Error: System.Collections.Generic.KeyNotFoundException: The given key was not present in the dictionary.\n",
      "  at System.ThrowHelper.ThrowKeyNotFoundException () [0x00000] in /Users/builduser/buildslave/mono/build/mcs/class/referencesource/mscorlib/system/throwhelper.cs:68 \n",
      "  at System.Collections.Generic.Dictionary`2[TKey,TValue].get_Item (TKey key) [0x0001e] in /Users/builduser/buildslave/mono/build/mcs/class/referencesource/mscorlib/system/collections/generic/dictionary.cs:183 \n",
      "  at OpenMined.Syft.Tensor.Factories.FloatTensorFactory.Get (System.Int32 id) [0x00008] in /Users/yanndupis/Documents/Data_Science/Encrypted_DL/OpenMined/UnityProject/Assets/OpenMined/Syft/Tensor/Factories/FloatTensorFactory.cs:24 \n",
      "  at OpenMined.Syft.Tensor.FloatTensor.Delete () [0x00048] in /Users/yanndupis/Documents/Data_Science/Encrypted_DL/OpenMined/UnityProject/Assets/OpenMined/Syft/Tensor/FloatTensor.Ops.cs:558 \n",
      "  at OpenMined.Syft.Tensor.FloatTensor.ProcessMessage (OpenMined.Network.Utils.Command msgObj, OpenMined.Network.Controllers.SyftController ctrl) [0x00e4c] in /Users/yanndupis/Documents/Data_Science/Encrypted_DL/OpenMined/UnityProject/Assets/OpenMined/Syft/Tensor/FloatTensor.cs:365 \n",
      "  at OpenMined.Network.Controllers.SyftController.processMessage (System.String json_message, UnityEngine.MonoBehaviour owner) [0x002dd] in /Users/yanndupis/Documents/Data_Science/Encrypted_DL/OpenMined/UnityProject/Assets/OpenMined/Network/Controllers/SyftController.cs:231 \n"
     ]
    },
    {
     "data": {
      "application/vnd.jupyter.widget-view+json": {
       "model_id": "7b92ec3fba904c09bf20eedf9715365c"
      }
     },
     "metadata": {},
     "output_type": "display_data"
    },
    {
     "data": {
      "application/vnd.jupyter.widget-view+json": {
       "model_id": "9cec97b4405e40d5a4fefc33bd7199ae"
      }
     },
     "metadata": {},
     "output_type": "display_data"
    },
    {
     "name": "stderr",
     "output_type": "stream",
     "text": [
      "Exception ignored in: <bound method FloatTensor.__del__ of [ 0.01602163]\n",
      "[syft.FloatTensor:298 grad:None size:1 c:[] p:[297] init:max_-1_False]\n",
      "\n",
      "\t-----------creators-----------\n",
      "\t[syft.FloatTensor:297 grad:None size:1x3 c:[298] p:[296, 220] init:add_elem]\n",
      "\t------------------------------\n",
      "\n",
      "\n",
      ">\n",
      "Traceback (most recent call last):\n",
      "  File \"/Users/yanndupis/anaconda2/envs/tflearn/lib/python3.5/site-packages/syft-0.1.0-py3.5.egg/syft/tensor.py\", line 544, in __del__\n",
      "TypeError: 'bool' object is not callable\n",
      "Exception ignored in: "
     ]
    },
    {
     "name": "stdout",
     "output_type": "stream",
     "text": [
      "Number of Batches:1\n"
     ]
    },
    {
     "name": "stderr",
     "output_type": "stream",
     "text": [
      "<object repr() failed>\n",
      "Traceback (most recent call last):\n",
      "  File \"/Users/yanndupis/anaconda2/envs/tflearn/lib/python3.5/site-packages/syft-0.1.0-py3.5.egg/syft/tensor.py\", line 544, in __del__\n",
      "  File \"/Users/yanndupis/anaconda2/envs/tflearn/lib/python3.5/site-packages/syft-0.1.0-py3.5.egg/syft/tensor.py\", line 1516, in delete_tensor\n",
      "  File \"/Users/yanndupis/anaconda2/envs/tflearn/lib/python3.5/site-packages/syft-0.1.0-py3.5.egg/syft/tensor.py\", line 1504, in no_params_func\n",
      "  File \"/Users/yanndupis/anaconda2/envs/tflearn/lib/python3.5/site-packages/syft-0.1.0-py3.5.egg/syft/tensor.py\", line 1486, in params_func\n",
      "  File \"/Users/yanndupis/anaconda2/envs/tflearn/lib/python3.5/site-packages/syft-0.1.0-py3.5.egg/syft/controller.py\", line 143, in send_json\n",
      "Exception: Unity Error: System.Collections.Generic.KeyNotFoundException: The given key was not present in the dictionary.\n",
      "  at System.ThrowHelper.ThrowKeyNotFoundException () [0x00000] in /Users/builduser/buildslave/mono/build/mcs/class/referencesource/mscorlib/system/throwhelper.cs:68 \n",
      "  at System.Collections.Generic.Dictionary`2[TKey,TValue].get_Item (TKey key) [0x0001e] in /Users/builduser/buildslave/mono/build/mcs/class/referencesource/mscorlib/system/collections/generic/dictionary.cs:183 \n",
      "  at OpenMined.Syft.Tensor.Factories.FloatTensorFactory.Get (System.Int32 id) [0x00008] in /Users/yanndupis/Documents/Data_Science/Encrypted_DL/OpenMined/UnityProject/Assets/OpenMined/Syft/Tensor/Factories/FloatTensorFactory.cs:24 \n",
      "  at OpenMined.Syft.Tensor.FloatTensor.Delete () [0x00048] in /Users/yanndupis/Documents/Data_Science/Encrypted_DL/OpenMined/UnityProject/Assets/OpenMined/Syft/Tensor/FloatTensor.Ops.cs:558 \n",
      "  at OpenMined.Syft.Tensor.FloatTensor.ProcessMessage (OpenMined.Network.Utils.Command msgObj, OpenMined.Network.Controllers.SyftController ctrl) [0x00e4c] in /Users/yanndupis/Documents/Data_Science/Encrypted_DL/OpenMined/UnityProject/Assets/OpenMined/Syft/Tensor/FloatTensor.cs:365 \n",
      "  at OpenMined.Network.Controllers.SyftController.processMessage (System.String json_message, UnityEngine.MonoBehaviour owner) [0x002dd] in /Users/yanndupis/Documents/Data_Science/Encrypted_DL/OpenMined/UnityProject/Assets/OpenMined/Network/Controllers/SyftController.cs:231 \n"
     ]
    },
    {
     "data": {
      "application/vnd.jupyter.widget-view+json": {
       "model_id": "7155862d278041c79f0d61133c6716b3"
      }
     },
     "metadata": {},
     "output_type": "display_data"
    },
    {
     "data": {
      "application/vnd.jupyter.widget-view+json": {
       "model_id": "a5a7d16beb77494faf3b67b235f1d5f3"
      }
     },
     "metadata": {},
     "output_type": "display_data"
    },
    {
     "name": "stderr",
     "output_type": "stream",
     "text": [
      "Exception ignored in: <bound method FloatTensor.__del__ of [ 0.01499586]\n",
      "[syft.FloatTensor:316 grad:None size:1 c:[] p:[315] init:max_-1_False]\n",
      "\n",
      "\t-----------creators-----------\n",
      "\t[syft.FloatTensor:315 grad:None size:1x3 c:[316] p:[314, 220] init:add_elem]\n",
      "\t------------------------------\n",
      "\n",
      "\n",
      ">\n",
      "Traceback (most recent call last):\n",
      "  File \"/Users/yanndupis/anaconda2/envs/tflearn/lib/python3.5/site-packages/syft-0.1.0-py3.5.egg/syft/tensor.py\", line 544, in __del__\n",
      "TypeError: 'bool' object is not callable\n",
      "Exception ignored in: "
     ]
    },
    {
     "name": "stdout",
     "output_type": "stream",
     "text": [
      "Number of Batches:1\n"
     ]
    },
    {
     "name": "stderr",
     "output_type": "stream",
     "text": [
      "<object repr() failed>\n",
      "Traceback (most recent call last):\n",
      "  File \"/Users/yanndupis/anaconda2/envs/tflearn/lib/python3.5/site-packages/syft-0.1.0-py3.5.egg/syft/tensor.py\", line 544, in __del__\n",
      "  File \"/Users/yanndupis/anaconda2/envs/tflearn/lib/python3.5/site-packages/syft-0.1.0-py3.5.egg/syft/tensor.py\", line 1516, in delete_tensor\n",
      "  File \"/Users/yanndupis/anaconda2/envs/tflearn/lib/python3.5/site-packages/syft-0.1.0-py3.5.egg/syft/tensor.py\", line 1504, in no_params_func\n",
      "  File \"/Users/yanndupis/anaconda2/envs/tflearn/lib/python3.5/site-packages/syft-0.1.0-py3.5.egg/syft/tensor.py\", line 1486, in params_func\n",
      "  File \"/Users/yanndupis/anaconda2/envs/tflearn/lib/python3.5/site-packages/syft-0.1.0-py3.5.egg/syft/controller.py\", line 143, in send_json\n",
      "Exception: Unity Error: System.Collections.Generic.KeyNotFoundException: The given key was not present in the dictionary.\n",
      "  at System.ThrowHelper.ThrowKeyNotFoundException () [0x00000] in /Users/builduser/buildslave/mono/build/mcs/class/referencesource/mscorlib/system/throwhelper.cs:68 \n",
      "  at System.Collections.Generic.Dictionary`2[TKey,TValue].get_Item (TKey key) [0x0001e] in /Users/builduser/buildslave/mono/build/mcs/class/referencesource/mscorlib/system/collections/generic/dictionary.cs:183 \n",
      "  at OpenMined.Syft.Tensor.Factories.FloatTensorFactory.Get (System.Int32 id) [0x00008] in /Users/yanndupis/Documents/Data_Science/Encrypted_DL/OpenMined/UnityProject/Assets/OpenMined/Syft/Tensor/Factories/FloatTensorFactory.cs:24 \n",
      "  at OpenMined.Syft.Tensor.FloatTensor.Delete () [0x00048] in /Users/yanndupis/Documents/Data_Science/Encrypted_DL/OpenMined/UnityProject/Assets/OpenMined/Syft/Tensor/FloatTensor.Ops.cs:558 \n",
      "  at OpenMined.Syft.Tensor.FloatTensor.ProcessMessage (OpenMined.Network.Utils.Command msgObj, OpenMined.Network.Controllers.SyftController ctrl) [0x00e4c] in /Users/yanndupis/Documents/Data_Science/Encrypted_DL/OpenMined/UnityProject/Assets/OpenMined/Syft/Tensor/FloatTensor.cs:365 \n",
      "  at OpenMined.Network.Controllers.SyftController.processMessage (System.String json_message, UnityEngine.MonoBehaviour owner) [0x002dd] in /Users/yanndupis/Documents/Data_Science/Encrypted_DL/OpenMined/UnityProject/Assets/OpenMined/Network/Controllers/SyftController.cs:231 \n"
     ]
    },
    {
     "data": {
      "application/vnd.jupyter.widget-view+json": {
       "model_id": "b0cbd33e74fb4141af1280b7cacfcb69"
      }
     },
     "metadata": {},
     "output_type": "display_data"
    },
    {
     "data": {
      "application/vnd.jupyter.widget-view+json": {
       "model_id": "77623f2d7a9a48c99910ba12325f0b0d"
      }
     },
     "metadata": {},
     "output_type": "display_data"
    },
    {
     "name": "stderr",
     "output_type": "stream",
     "text": [
      "Exception ignored in: <bound method FloatTensor.__del__ of [ 0.01491045]\n",
      "[syft.FloatTensor:269 grad:None size:1 c:[] p:[268] init:max_-1_False]\n",
      "\n",
      "\t-----------creators-----------\n",
      "\t[syft.FloatTensor:268 grad:None size:1x3 c:[269] p:[267, 220] init:add_elem]\n",
      "\t------------------------------\n",
      "\n",
      "\n",
      ">\n",
      "Traceback (most recent call last):\n",
      "  File \"/Users/yanndupis/anaconda2/envs/tflearn/lib/python3.5/site-packages/syft-0.1.0-py3.5.egg/syft/tensor.py\", line 544, in __del__\n",
      "TypeError: 'bool' object is not callable\n",
      "Exception ignored in: "
     ]
    },
    {
     "name": "stdout",
     "output_type": "stream",
     "text": [
      "Number of Batches:1\n"
     ]
    },
    {
     "name": "stderr",
     "output_type": "stream",
     "text": [
      "<object repr() failed>\n",
      "Traceback (most recent call last):\n",
      "  File \"/Users/yanndupis/anaconda2/envs/tflearn/lib/python3.5/site-packages/syft-0.1.0-py3.5.egg/syft/tensor.py\", line 544, in __del__\n",
      "  File \"/Users/yanndupis/anaconda2/envs/tflearn/lib/python3.5/site-packages/syft-0.1.0-py3.5.egg/syft/tensor.py\", line 1516, in delete_tensor\n",
      "  File \"/Users/yanndupis/anaconda2/envs/tflearn/lib/python3.5/site-packages/syft-0.1.0-py3.5.egg/syft/tensor.py\", line 1504, in no_params_func\n",
      "  File \"/Users/yanndupis/anaconda2/envs/tflearn/lib/python3.5/site-packages/syft-0.1.0-py3.5.egg/syft/tensor.py\", line 1486, in params_func\n",
      "  File \"/Users/yanndupis/anaconda2/envs/tflearn/lib/python3.5/site-packages/syft-0.1.0-py3.5.egg/syft/controller.py\", line 143, in send_json\n",
      "Exception: Unity Error: System.Collections.Generic.KeyNotFoundException: The given key was not present in the dictionary.\n",
      "  at System.ThrowHelper.ThrowKeyNotFoundException () [0x00000] in /Users/builduser/buildslave/mono/build/mcs/class/referencesource/mscorlib/system/throwhelper.cs:68 \n",
      "  at System.Collections.Generic.Dictionary`2[TKey,TValue].get_Item (TKey key) [0x0001e] in /Users/builduser/buildslave/mono/build/mcs/class/referencesource/mscorlib/system/collections/generic/dictionary.cs:183 \n",
      "  at OpenMined.Syft.Tensor.Factories.FloatTensorFactory.Get (System.Int32 id) [0x00008] in /Users/yanndupis/Documents/Data_Science/Encrypted_DL/OpenMined/UnityProject/Assets/OpenMined/Syft/Tensor/Factories/FloatTensorFactory.cs:24 \n",
      "  at OpenMined.Syft.Tensor.FloatTensor.Delete () [0x00048] in /Users/yanndupis/Documents/Data_Science/Encrypted_DL/OpenMined/UnityProject/Assets/OpenMined/Syft/Tensor/FloatTensor.Ops.cs:558 \n",
      "  at OpenMined.Syft.Tensor.FloatTensor.ProcessMessage (OpenMined.Network.Utils.Command msgObj, OpenMined.Network.Controllers.SyftController ctrl) [0x00e4c] in /Users/yanndupis/Documents/Data_Science/Encrypted_DL/OpenMined/UnityProject/Assets/OpenMined/Syft/Tensor/FloatTensor.cs:365 \n",
      "  at OpenMined.Network.Controllers.SyftController.processMessage (System.String json_message, UnityEngine.MonoBehaviour owner) [0x002dd] in /Users/yanndupis/Documents/Data_Science/Encrypted_DL/OpenMined/UnityProject/Assets/OpenMined/Network/Controllers/SyftController.cs:231 \n"
     ]
    },
    {
     "data": {
      "application/vnd.jupyter.widget-view+json": {
       "model_id": "7b4770a06dc44c1ca48430cd99a426c7"
      }
     },
     "metadata": {},
     "output_type": "display_data"
    },
    {
     "data": {
      "application/vnd.jupyter.widget-view+json": {
       "model_id": "736299f0a42c4656aab76a31f9e97e20"
      }
     },
     "metadata": {},
     "output_type": "display_data"
    },
    {
     "name": "stderr",
     "output_type": "stream",
     "text": [
      "Exception ignored in: <bound method FloatTensor.__del__ of [ 0.01475058]\n",
      "[syft.FloatTensor:251 grad:None size:1 c:[] p:[221] init:max_-1_False]\n",
      "\n",
      "\t-----------creators-----------\n",
      "\t[syft.FloatTensor:221 grad:None size:1x3 c:[251] p:[218, 220] init:add_elem]\n",
      "\t------------------------------\n",
      "\n",
      "\n",
      ">\n",
      "Traceback (most recent call last):\n",
      "  File \"/Users/yanndupis/anaconda2/envs/tflearn/lib/python3.5/site-packages/syft-0.1.0-py3.5.egg/syft/tensor.py\", line 544, in __del__\n",
      "TypeError: 'bool' object is not callable\n",
      "Exception ignored in: <object repr() failed>\n",
      "Traceback (most recent call last):\n",
      "  File \"/Users/yanndupis/anaconda2/envs/tflearn/lib/python3.5/site-packages/syft-0.1.0-py3.5.egg/syft/tensor.py\", line 544, in __del__\n",
      "  File \"/Users/yanndupis/anaconda2/envs/tflearn/lib/python3.5/site-packages/syft-0.1.0-py3.5.egg/syft/tensor.py\", line 1516, in delete_tensor\n",
      "  File \"/Users/yanndupis/anaconda2/envs/tflearn/lib/python3.5/site-packages/syft-0.1.0-py3.5.egg/syft/tensor.py\", line 1504, in no_params_func\n",
      "  File \"/Users/yanndupis/anaconda2/envs/tflearn/lib/python3.5/site-packages/syft-0.1.0-py3.5.egg/syft/tensor.py\", line 1486, in params_func\n",
      "  File \"/Users/yanndupis/anaconda2/envs/tflearn/lib/python3.5/site-packages/syft-0.1.0-py3.5.egg/syft/controller.py\", line 143, in send_json\n",
      "Exception: Unity Error: System.Collections.Generic.KeyNotFoundException: The given key was not present in the dictionary.\n",
      "  at System.ThrowHelper.ThrowKeyNotFoundException () [0x00000] in /Users/builduser/buildslave/mono/build/mcs/class/referencesource/mscorlib/system/throwhelper.cs:68 \n",
      "  at System.Collections.Generic.Dictionary`2[TKey,TValue].get_Item (TKey key) [0x0001e] in /Users/builduser/buildslave/mono/build/mcs/class/referencesource/mscorlib/system/collections/generic/dictionary.cs:183 \n",
      "  at OpenMined.Syft.Tensor.Factories.FloatTensorFactory.Get (System.Int32 id) [0x00008] in /Users/yanndupis/Documents/Data_Science/Encrypted_DL/OpenMined/UnityProject/Assets/OpenMined/Syft/Tensor/Factories/FloatTensorFactory.cs:24 \n",
      "  at OpenMined.Syft.Tensor.FloatTensor.Delete () [0x00048] in /Users/yanndupis/Documents/Data_Science/Encrypted_DL/OpenMined/UnityProject/Assets/OpenMined/Syft/Tensor/FloatTensor.Ops.cs:558 \n",
      "  at OpenMined.Syft.Tensor.FloatTensor.ProcessMessage (OpenMined.Network.Utils.Command msgObj, OpenMined.Network.Controllers.SyftController ctrl) [0x00e4c] in /Users/yanndupis/Documents/Data_Science/Encrypted_DL/OpenMined/UnityProject/Assets/OpenMined/Syft/Tensor/FloatTensor.cs:365 \n",
      "  at OpenMined.Network.Controllers.SyftController.processMessage (System.String json_message, UnityEngine.MonoBehaviour owner) [0x002dd] in /Users/yanndupis/Documents/Data_Science/Encrypted_DL/OpenMined/UnityProject/Assets/OpenMined/Network/Controllers/SyftController.cs:231 \n",
      "Exception ignored in: <object repr() failed>\n",
      "Traceback (most recent call last):\n",
      "  File \"/Users/yanndupis/anaconda2/envs/tflearn/lib/python3.5/site-packages/syft-0.1.0-py3.5.egg/syft/tensor.py\", line 544, in __del__\n",
      "  File \"/Users/yanndupis/anaconda2/envs/tflearn/lib/python3.5/site-packages/syft-0.1.0-py3.5.egg/syft/tensor.py\", line 1516, in delete_tensor\n",
      "  File \"/Users/yanndupis/anaconda2/envs/tflearn/lib/python3.5/site-packages/syft-0.1.0-py3.5.egg/syft/tensor.py\", line 1504, in no_params_func\n",
      "  File \"/Users/yanndupis/anaconda2/envs/tflearn/lib/python3.5/site-packages/syft-0.1.0-py3.5.egg/syft/tensor.py\", line 1486, in params_func\n",
      "  File \"/Users/yanndupis/anaconda2/envs/tflearn/lib/python3.5/site-packages/syft-0.1.0-py3.5.egg/syft/controller.py\", line 143, in send_json\n",
      "Exception: Unity Error: System.Collections.Generic.KeyNotFoundException: The given key was not present in the dictionary.\n",
      "  at System.ThrowHelper.ThrowKeyNotFoundException () [0x00000] in /Users/builduser/buildslave/mono/build/mcs/class/referencesource/mscorlib/system/throwhelper.cs:68 \n",
      "  at System.Collections.Generic.Dictionary`2[TKey,TValue].get_Item (TKey key) [0x0001e] in /Users/builduser/buildslave/mono/build/mcs/class/referencesource/mscorlib/system/collections/generic/dictionary.cs:183 \n",
      "  at OpenMined.Syft.Tensor.Factories.FloatTensorFactory.Get (System.Int32 id) [0x00008] in /Users/yanndupis/Documents/Data_Science/Encrypted_DL/OpenMined/UnityProject/Assets/OpenMined/Syft/Tensor/Factories/FloatTensorFactory.cs:24 \n",
      "  at OpenMined.Syft.Tensor.FloatTensor.Delete () [0x00048] in /Users/yanndupis/Documents/Data_Science/Encrypted_DL/OpenMined/UnityProject/Assets/OpenMined/Syft/Tensor/FloatTensor.Ops.cs:558 \n",
      "  at OpenMined.Syft.Tensor.FloatTensor.ProcessMessage (OpenMined.Network.Utils.Command msgObj, OpenMined.Network.Controllers.SyftController ctrl) [0x00e4c] in /Users/yanndupis/Documents/Data_Science/Encrypted_DL/OpenMined/UnityProject/Assets/OpenMined/Syft/Tensor/FloatTensor.cs:365 \n",
      "  at OpenMined.Network.Controllers.SyftController.processMessage (System.String json_message, UnityEngine.MonoBehaviour owner) [0x002dd] in /Users/yanndupis/Documents/Data_Science/Encrypted_DL/OpenMined/UnityProject/Assets/OpenMined/Network/Controllers/SyftController.cs:231 \n",
      "Exception ignored in: <object repr() failed>\n",
      "Traceback (most recent call last):\n",
      "  File \"/Users/yanndupis/anaconda2/envs/tflearn/lib/python3.5/site-packages/syft-0.1.0-py3.5.egg/syft/tensor.py\", line 544, in __del__\n",
      "  File \"/Users/yanndupis/anaconda2/envs/tflearn/lib/python3.5/site-packages/syft-0.1.0-py3.5.egg/syft/tensor.py\", line 1516, in delete_tensor\n",
      "  File \"/Users/yanndupis/anaconda2/envs/tflearn/lib/python3.5/site-packages/syft-0.1.0-py3.5.egg/syft/tensor.py\", line 1504, in no_params_func\n",
      "  File \"/Users/yanndupis/anaconda2/envs/tflearn/lib/python3.5/site-packages/syft-0.1.0-py3.5.egg/syft/tensor.py\", line 1486, in params_func\n",
      "  File \"/Users/yanndupis/anaconda2/envs/tflearn/lib/python3.5/site-packages/syft-0.1.0-py3.5.egg/syft/controller.py\", line 143, in send_json\n",
      "Exception: Unity Error: System.Collections.Generic.KeyNotFoundException: The given key was not present in the dictionary.\n",
      "  at System.ThrowHelper.ThrowKeyNotFoundException () [0x00000] in /Users/builduser/buildslave/mono/build/mcs/class/referencesource/mscorlib/system/throwhelper.cs:68 \n",
      "  at System.Collections.Generic.Dictionary`2[TKey,TValue].get_Item (TKey key) [0x0001e] in /Users/builduser/buildslave/mono/build/mcs/class/referencesource/mscorlib/system/collections/generic/dictionary.cs:183 \n",
      "  at OpenMined.Syft.Tensor.Factories.FloatTensorFactory.Get (System.Int32 id) [0x00008] in /Users/yanndupis/Documents/Data_Science/Encrypted_DL/OpenMined/UnityProject/Assets/OpenMined/Syft/Tensor/Factories/FloatTensorFactory.cs:24 \n",
      "  at OpenMined.Syft.Tensor.FloatTensor.Delete () [0x00048] in /Users/yanndupis/Documents/Data_Science/Encrypted_DL/OpenMined/UnityProject/Assets/OpenMined/Syft/Tensor/FloatTensor.Ops.cs:558 \n",
      "  at OpenMined.Syft.Tensor.FloatTensor.ProcessMessage (OpenMined.Network.Utils.Command msgObj, OpenMined.Network.Controllers.SyftController ctrl) [0x00e4c] in /Users/yanndupis/Documents/Data_Science/Encrypted_DL/OpenMined/UnityProject/Assets/OpenMined/Syft/Tensor/FloatTensor.cs:365 \n",
      "  at OpenMined.Network.Controllers.SyftController.processMessage (System.String json_message, UnityEngine.MonoBehaviour owner) [0x002dd] in /Users/yanndupis/Documents/Data_Science/Encrypted_DL/OpenMined/UnityProject/Assets/OpenMined/Network/Controllers/SyftController.cs:231 \n",
      "Exception ignored in: <object repr() failed>\n",
      "Traceback (most recent call last):\n",
      "  File \"/Users/yanndupis/anaconda2/envs/tflearn/lib/python3.5/site-packages/syft-0.1.0-py3.5.egg/syft/tensor.py\", line 544, in __del__\n",
      "  File \"/Users/yanndupis/anaconda2/envs/tflearn/lib/python3.5/site-packages/syft-0.1.0-py3.5.egg/syft/tensor.py\", line 1516, in delete_tensor\n",
      "  File \"/Users/yanndupis/anaconda2/envs/tflearn/lib/python3.5/site-packages/syft-0.1.0-py3.5.egg/syft/tensor.py\", line 1504, in no_params_func\n",
      "  File \"/Users/yanndupis/anaconda2/envs/tflearn/lib/python3.5/site-packages/syft-0.1.0-py3.5.egg/syft/tensor.py\", line 1486, in params_func\n",
      "  File \"/Users/yanndupis/anaconda2/envs/tflearn/lib/python3.5/site-packages/syft-0.1.0-py3.5.egg/syft/controller.py\", line 143, in send_json\n",
      "Exception: Unity Error: System.Collections.Generic.KeyNotFoundException: The given key was not present in the dictionary.\n",
      "  at System.ThrowHelper.ThrowKeyNotFoundException () [0x00000] in /Users/builduser/buildslave/mono/build/mcs/class/referencesource/mscorlib/system/throwhelper.cs:68 \n",
      "  at System.Collections.Generic.Dictionary`2[TKey,TValue].get_Item (TKey key) [0x0001e] in /Users/builduser/buildslave/mono/build/mcs/class/referencesource/mscorlib/system/collections/generic/dictionary.cs:183 \n",
      "  at OpenMined.Syft.Tensor.Factories.FloatTensorFactory.Get (System.Int32 id) [0x00008] in /Users/yanndupis/Documents/Data_Science/Encrypted_DL/OpenMined/UnityProject/Assets/OpenMined/Syft/Tensor/Factories/FloatTensorFactory.cs:24 \n",
      "  at OpenMined.Syft.Tensor.FloatTensor.Delete () [0x00048] in /Users/yanndupis/Documents/Data_Science/Encrypted_DL/OpenMined/UnityProject/Assets/OpenMined/Syft/Tensor/FloatTensor.Ops.cs:558 \n",
      "  at OpenMined.Syft.Tensor.FloatTensor.ProcessMessage (OpenMined.Network.Utils.Command msgObj, OpenMined.Network.Controllers.SyftController ctrl) [0x00e4c] in /Users/yanndupis/Documents/Data_Science/Encrypted_DL/OpenMined/UnityProject/Assets/OpenMined/Syft/Tensor/FloatTensor.cs:365 \n",
      "  at OpenMined.Network.Controllers.SyftController.processMessage (System.String json_message, UnityEngine.MonoBehaviour owner) [0x002dd] in /Users/yanndupis/Documents/Data_Science/Encrypted_DL/OpenMined/UnityProject/Assets/OpenMined/Network/Controllers/SyftController.cs:231 \n",
      "Exception ignored in: <object repr() failed>\n",
      "Traceback (most recent call last):\n",
      "  File \"/Users/yanndupis/anaconda2/envs/tflearn/lib/python3.5/site-packages/syft-0.1.0-py3.5.egg/syft/tensor.py\", line 544, in __del__\n",
      "  File \"/Users/yanndupis/anaconda2/envs/tflearn/lib/python3.5/site-packages/syft-0.1.0-py3.5.egg/syft/tensor.py\", line 1516, in delete_tensor\n",
      "  File \"/Users/yanndupis/anaconda2/envs/tflearn/lib/python3.5/site-packages/syft-0.1.0-py3.5.egg/syft/tensor.py\", line 1504, in no_params_func\n",
      "  File \"/Users/yanndupis/anaconda2/envs/tflearn/lib/python3.5/site-packages/syft-0.1.0-py3.5.egg/syft/tensor.py\", line 1486, in params_func\n",
      "  File \"/Users/yanndupis/anaconda2/envs/tflearn/lib/python3.5/site-packages/syft-0.1.0-py3.5.egg/syft/controller.py\", line 143, in send_json\n",
      "Exception: Unity Error: System.Collections.Generic.KeyNotFoundException: The given key was not present in the dictionary.\n",
      "  at System.ThrowHelper.ThrowKeyNotFoundException () [0x00000] in /Users/builduser/buildslave/mono/build/mcs/class/referencesource/mscorlib/system/throwhelper.cs:68 \n",
      "  at System.Collections.Generic.Dictionary`2[TKey,TValue].get_Item (TKey key) [0x0001e] in /Users/builduser/buildslave/mono/build/mcs/class/referencesource/mscorlib/system/collections/generic/dictionary.cs:183 \n",
      "  at OpenMined.Syft.Tensor.Factories.FloatTensorFactory.Get (System.Int32 id) [0x00008] in /Users/yanndupis/Documents/Data_Science/Encrypted_DL/OpenMined/UnityProject/Assets/OpenMined/Syft/Tensor/Factories/FloatTensorFactory.cs:24 \n",
      "  at OpenMined.Syft.Tensor.FloatTensor.Delete () [0x00048] in /Users/yanndupis/Documents/Data_Science/Encrypted_DL/OpenMined/UnityProject/Assets/OpenMined/Syft/Tensor/FloatTensor.Ops.cs:558 \n",
      "  at OpenMined.Syft.Tensor.FloatTensor.ProcessMessage (OpenMined.Network.Utils.Command msgObj, OpenMined.Network.Controllers.SyftController ctrl) [0x00e4c] in /Users/yanndupis/Documents/Data_Science/Encrypted_DL/OpenMined/UnityProject/Assets/OpenMined/Syft/Tensor/FloatTensor.cs:365 \n",
      "  at OpenMined.Network.Controllers.SyftController.processMessage (System.String json_message, UnityEngine.MonoBehaviour owner) [0x002dd] in /Users/yanndupis/Documents/Data_Science/Encrypted_DL/OpenMined/UnityProject/Assets/OpenMined/Network/Controllers/SyftController.cs:231 \n"
     ]
    },
    {
     "name": "stderr",
     "output_type": "stream",
     "text": [
      "Exception ignored in: <object repr() failed>\n",
      "Traceback (most recent call last):\n",
      "  File \"/Users/yanndupis/anaconda2/envs/tflearn/lib/python3.5/site-packages/syft-0.1.0-py3.5.egg/syft/tensor.py\", line 544, in __del__\n",
      "  File \"/Users/yanndupis/anaconda2/envs/tflearn/lib/python3.5/site-packages/syft-0.1.0-py3.5.egg/syft/tensor.py\", line 1516, in delete_tensor\n",
      "  File \"/Users/yanndupis/anaconda2/envs/tflearn/lib/python3.5/site-packages/syft-0.1.0-py3.5.egg/syft/tensor.py\", line 1504, in no_params_func\n",
      "  File \"/Users/yanndupis/anaconda2/envs/tflearn/lib/python3.5/site-packages/syft-0.1.0-py3.5.egg/syft/tensor.py\", line 1486, in params_func\n",
      "  File \"/Users/yanndupis/anaconda2/envs/tflearn/lib/python3.5/site-packages/syft-0.1.0-py3.5.egg/syft/controller.py\", line 143, in send_json\n",
      "Exception: Unity Error: System.Collections.Generic.KeyNotFoundException: The given key was not present in the dictionary.\n",
      "  at System.ThrowHelper.ThrowKeyNotFoundException () [0x00000] in /Users/builduser/buildslave/mono/build/mcs/class/referencesource/mscorlib/system/throwhelper.cs:68 \n",
      "  at System.Collections.Generic.Dictionary`2[TKey,TValue].get_Item (TKey key) [0x0001e] in /Users/builduser/buildslave/mono/build/mcs/class/referencesource/mscorlib/system/collections/generic/dictionary.cs:183 \n",
      "  at OpenMined.Syft.Tensor.Factories.FloatTensorFactory.Get (System.Int32 id) [0x00008] in /Users/yanndupis/Documents/Data_Science/Encrypted_DL/OpenMined/UnityProject/Assets/OpenMined/Syft/Tensor/Factories/FloatTensorFactory.cs:24 \n",
      "  at OpenMined.Syft.Tensor.FloatTensor.Delete () [0x00048] in /Users/yanndupis/Documents/Data_Science/Encrypted_DL/OpenMined/UnityProject/Assets/OpenMined/Syft/Tensor/FloatTensor.Ops.cs:558 \n",
      "  at OpenMined.Syft.Tensor.FloatTensor.ProcessMessage (OpenMined.Network.Utils.Command msgObj, OpenMined.Network.Controllers.SyftController ctrl) [0x00e4c] in /Users/yanndupis/Documents/Data_Science/Encrypted_DL/OpenMined/UnityProject/Assets/OpenMined/Syft/Tensor/FloatTensor.cs:365 \n",
      "  at OpenMined.Network.Controllers.SyftController.processMessage (System.String json_message, UnityEngine.MonoBehaviour owner) [0x002dd] in /Users/yanndupis/Documents/Data_Science/Encrypted_DL/OpenMined/UnityProject/Assets/OpenMined/Network/Controllers/SyftController.cs:231 \n",
      "Exception ignored in: <object repr() failed>\n",
      "Traceback (most recent call last):\n",
      "  File \"/Users/yanndupis/anaconda2/envs/tflearn/lib/python3.5/site-packages/syft-0.1.0-py3.5.egg/syft/tensor.py\", line 544, in __del__\n",
      "  File \"/Users/yanndupis/anaconda2/envs/tflearn/lib/python3.5/site-packages/syft-0.1.0-py3.5.egg/syft/tensor.py\", line 1516, in delete_tensor\n",
      "  File \"/Users/yanndupis/anaconda2/envs/tflearn/lib/python3.5/site-packages/syft-0.1.0-py3.5.egg/syft/tensor.py\", line 1504, in no_params_func\n",
      "  File \"/Users/yanndupis/anaconda2/envs/tflearn/lib/python3.5/site-packages/syft-0.1.0-py3.5.egg/syft/tensor.py\", line 1486, in params_func\n",
      "  File \"/Users/yanndupis/anaconda2/envs/tflearn/lib/python3.5/site-packages/syft-0.1.0-py3.5.egg/syft/controller.py\", line 143, in send_json\n",
      "Exception: Unity Error: System.Collections.Generic.KeyNotFoundException: The given key was not present in the dictionary.\n",
      "  at System.ThrowHelper.ThrowKeyNotFoundException () [0x00000] in /Users/builduser/buildslave/mono/build/mcs/class/referencesource/mscorlib/system/throwhelper.cs:68 \n",
      "  at System.Collections.Generic.Dictionary`2[TKey,TValue].get_Item (TKey key) [0x0001e] in /Users/builduser/buildslave/mono/build/mcs/class/referencesource/mscorlib/system/collections/generic/dictionary.cs:183 \n",
      "  at OpenMined.Syft.Tensor.Factories.FloatTensorFactory.Get (System.Int32 id) [0x00008] in /Users/yanndupis/Documents/Data_Science/Encrypted_DL/OpenMined/UnityProject/Assets/OpenMined/Syft/Tensor/Factories/FloatTensorFactory.cs:24 \n",
      "  at OpenMined.Syft.Tensor.FloatTensor.Delete () [0x00048] in /Users/yanndupis/Documents/Data_Science/Encrypted_DL/OpenMined/UnityProject/Assets/OpenMined/Syft/Tensor/FloatTensor.Ops.cs:558 \n",
      "  at OpenMined.Syft.Tensor.FloatTensor.ProcessMessage (OpenMined.Network.Utils.Command msgObj, OpenMined.Network.Controllers.SyftController ctrl) [0x00e4c] in /Users/yanndupis/Documents/Data_Science/Encrypted_DL/OpenMined/UnityProject/Assets/OpenMined/Syft/Tensor/FloatTensor.cs:365 \n",
      "  at OpenMined.Network.Controllers.SyftController.processMessage (System.String json_message, UnityEngine.MonoBehaviour owner) [0x002dd] in /Users/yanndupis/Documents/Data_Science/Encrypted_DL/OpenMined/UnityProject/Assets/OpenMined/Network/Controllers/SyftController.cs:231 \n",
      "Exception ignored in: <object repr() failed>\n",
      "Traceback (most recent call last):\n",
      "  File \"/Users/yanndupis/anaconda2/envs/tflearn/lib/python3.5/site-packages/syft-0.1.0-py3.5.egg/syft/tensor.py\", line 544, in __del__\n",
      "  File \"/Users/yanndupis/anaconda2/envs/tflearn/lib/python3.5/site-packages/syft-0.1.0-py3.5.egg/syft/tensor.py\", line 1516, in delete_tensor\n",
      "  File \"/Users/yanndupis/anaconda2/envs/tflearn/lib/python3.5/site-packages/syft-0.1.0-py3.5.egg/syft/tensor.py\", line 1504, in no_params_func\n",
      "  File \"/Users/yanndupis/anaconda2/envs/tflearn/lib/python3.5/site-packages/syft-0.1.0-py3.5.egg/syft/tensor.py\", line 1486, in params_func\n",
      "  File \"/Users/yanndupis/anaconda2/envs/tflearn/lib/python3.5/site-packages/syft-0.1.0-py3.5.egg/syft/controller.py\", line 143, in send_json\n",
      "Exception: Unity Error: System.Collections.Generic.KeyNotFoundException: The given key was not present in the dictionary.\n",
      "  at System.ThrowHelper.ThrowKeyNotFoundException () [0x00000] in /Users/builduser/buildslave/mono/build/mcs/class/referencesource/mscorlib/system/throwhelper.cs:68 \n",
      "  at System.Collections.Generic.Dictionary`2[TKey,TValue].get_Item (TKey key) [0x0001e] in /Users/builduser/buildslave/mono/build/mcs/class/referencesource/mscorlib/system/collections/generic/dictionary.cs:183 \n",
      "  at OpenMined.Syft.Tensor.Factories.FloatTensorFactory.Get (System.Int32 id) [0x00008] in /Users/yanndupis/Documents/Data_Science/Encrypted_DL/OpenMined/UnityProject/Assets/OpenMined/Syft/Tensor/Factories/FloatTensorFactory.cs:24 \n",
      "  at OpenMined.Syft.Tensor.FloatTensor.Delete () [0x00048] in /Users/yanndupis/Documents/Data_Science/Encrypted_DL/OpenMined/UnityProject/Assets/OpenMined/Syft/Tensor/FloatTensor.Ops.cs:558 \n",
      "  at OpenMined.Syft.Tensor.FloatTensor.ProcessMessage (OpenMined.Network.Utils.Command msgObj, OpenMined.Network.Controllers.SyftController ctrl) [0x00e4c] in /Users/yanndupis/Documents/Data_Science/Encrypted_DL/OpenMined/UnityProject/Assets/OpenMined/Syft/Tensor/FloatTensor.cs:365 \n",
      "  at OpenMined.Network.Controllers.SyftController.processMessage (System.String json_message, UnityEngine.MonoBehaviour owner) [0x002dd] in /Users/yanndupis/Documents/Data_Science/Encrypted_DL/OpenMined/UnityProject/Assets/OpenMined/Network/Controllers/SyftController.cs:231 \n"
     ]
    },
    {
     "name": "stdout",
     "output_type": "stream",
     "text": [
      "Failed to complete in trial 1\n"
     ]
    },
    {
     "name": "stderr",
     "output_type": "stream",
     "text": [
      "Exception ignored in: <object repr() failed>\n",
      "Traceback (most recent call last):\n",
      "  File \"/Users/yanndupis/anaconda2/envs/tflearn/lib/python3.5/site-packages/syft-0.1.0-py3.5.egg/syft/tensor.py\", line 544, in __del__\n",
      "  File \"/Users/yanndupis/anaconda2/envs/tflearn/lib/python3.5/site-packages/syft-0.1.0-py3.5.egg/syft/tensor.py\", line 1516, in delete_tensor\n",
      "  File \"/Users/yanndupis/anaconda2/envs/tflearn/lib/python3.5/site-packages/syft-0.1.0-py3.5.egg/syft/tensor.py\", line 1504, in no_params_func\n",
      "  File \"/Users/yanndupis/anaconda2/envs/tflearn/lib/python3.5/site-packages/syft-0.1.0-py3.5.egg/syft/tensor.py\", line 1486, in params_func\n",
      "  File \"/Users/yanndupis/anaconda2/envs/tflearn/lib/python3.5/site-packages/syft-0.1.0-py3.5.egg/syft/controller.py\", line 143, in send_json\n",
      "Exception: Unity Error: System.Collections.Generic.KeyNotFoundException: The given key was not present in the dictionary.\n",
      "  at System.ThrowHelper.ThrowKeyNotFoundException () [0x00000] in /Users/builduser/buildslave/mono/build/mcs/class/referencesource/mscorlib/system/throwhelper.cs:68 \n",
      "  at System.Collections.Generic.Dictionary`2[TKey,TValue].get_Item (TKey key) [0x0001e] in /Users/builduser/buildslave/mono/build/mcs/class/referencesource/mscorlib/system/collections/generic/dictionary.cs:183 \n",
      "  at OpenMined.Syft.Tensor.Factories.FloatTensorFactory.Get (System.Int32 id) [0x00008] in /Users/yanndupis/Documents/Data_Science/Encrypted_DL/OpenMined/UnityProject/Assets/OpenMined/Syft/Tensor/Factories/FloatTensorFactory.cs:24 \n",
      "  at OpenMined.Syft.Tensor.FloatTensor.Delete () [0x00048] in /Users/yanndupis/Documents/Data_Science/Encrypted_DL/OpenMined/UnityProject/Assets/OpenMined/Syft/Tensor/FloatTensor.Ops.cs:558 \n",
      "  at OpenMined.Syft.Tensor.FloatTensor.ProcessMessage (OpenMined.Network.Utils.Command msgObj, OpenMined.Network.Controllers.SyftController ctrl) [0x00e4c] in /Users/yanndupis/Documents/Data_Science/Encrypted_DL/OpenMined/UnityProject/Assets/OpenMined/Syft/Tensor/FloatTensor.cs:365 \n",
      "  at OpenMined.Network.Controllers.SyftController.processMessage (System.String json_message, UnityEngine.MonoBehaviour owner) [0x002dd] in /Users/yanndupis/Documents/Data_Science/Encrypted_DL/OpenMined/UnityProject/Assets/OpenMined/Network/Controllers/SyftController.cs:231 \n"
     ]
    },
    {
     "name": "stdout",
     "output_type": "stream",
     "text": [
      "Number of Batches:1\n"
     ]
    },
    {
     "data": {
      "application/vnd.jupyter.widget-view+json": {
       "model_id": "d39d44b2508543f49a9bb09654a5ece3"
      }
     },
     "metadata": {},
     "output_type": "display_data"
    },
    {
     "data": {
      "application/vnd.jupyter.widget-view+json": {
       "model_id": "a7b3a80669264e0e912694a5a66d7e26"
      }
     },
     "metadata": {},
     "output_type": "display_data"
    },
    {
     "name": "stderr",
     "output_type": "stream",
     "text": [
      "Exception ignored in: <bound method FloatTensor.__del__ of [ 0.01596209]\n",
      "[syft.FloatTensor:476 grad:None size:1 c:[] p:[475] init:max_-1_False]\n",
      "\n",
      "\t-----------creators-----------\n",
      "\t[syft.FloatTensor:475 grad:None size:1x3 c:[476] p:[474, 220] init:add_elem]\n",
      "\t------------------------------\n",
      "\n",
      "\n",
      ">\n",
      "Traceback (most recent call last):\n",
      "  File \"/Users/yanndupis/anaconda2/envs/tflearn/lib/python3.5/site-packages/syft-0.1.0-py3.5.egg/syft/tensor.py\", line 544, in __del__\n",
      "TypeError: 'bool' object is not callable\n",
      "Exception ignored in: "
     ]
    },
    {
     "name": "stdout",
     "output_type": "stream",
     "text": [
      "Number of Batches:1\n"
     ]
    },
    {
     "name": "stderr",
     "output_type": "stream",
     "text": [
      "<object repr() failed>\n",
      "Traceback (most recent call last):\n",
      "  File \"/Users/yanndupis/anaconda2/envs/tflearn/lib/python3.5/site-packages/syft-0.1.0-py3.5.egg/syft/tensor.py\", line 544, in __del__\n",
      "  File \"/Users/yanndupis/anaconda2/envs/tflearn/lib/python3.5/site-packages/syft-0.1.0-py3.5.egg/syft/tensor.py\", line 1516, in delete_tensor\n",
      "  File \"/Users/yanndupis/anaconda2/envs/tflearn/lib/python3.5/site-packages/syft-0.1.0-py3.5.egg/syft/tensor.py\", line 1504, in no_params_func\n",
      "  File \"/Users/yanndupis/anaconda2/envs/tflearn/lib/python3.5/site-packages/syft-0.1.0-py3.5.egg/syft/tensor.py\", line 1486, in params_func\n",
      "  File \"/Users/yanndupis/anaconda2/envs/tflearn/lib/python3.5/site-packages/syft-0.1.0-py3.5.egg/syft/controller.py\", line 143, in send_json\n",
      "Exception: Unity Error: System.Collections.Generic.KeyNotFoundException: The given key was not present in the dictionary.\n",
      "  at System.ThrowHelper.ThrowKeyNotFoundException () [0x00000] in /Users/builduser/buildslave/mono/build/mcs/class/referencesource/mscorlib/system/throwhelper.cs:68 \n",
      "  at System.Collections.Generic.Dictionary`2[TKey,TValue].get_Item (TKey key) [0x0001e] in /Users/builduser/buildslave/mono/build/mcs/class/referencesource/mscorlib/system/collections/generic/dictionary.cs:183 \n",
      "  at OpenMined.Syft.Tensor.Factories.FloatTensorFactory.Get (System.Int32 id) [0x00008] in /Users/yanndupis/Documents/Data_Science/Encrypted_DL/OpenMined/UnityProject/Assets/OpenMined/Syft/Tensor/Factories/FloatTensorFactory.cs:24 \n",
      "  at OpenMined.Syft.Tensor.FloatTensor.Delete () [0x00048] in /Users/yanndupis/Documents/Data_Science/Encrypted_DL/OpenMined/UnityProject/Assets/OpenMined/Syft/Tensor/FloatTensor.Ops.cs:558 \n",
      "  at OpenMined.Syft.Tensor.FloatTensor.ProcessMessage (OpenMined.Network.Utils.Command msgObj, OpenMined.Network.Controllers.SyftController ctrl) [0x00e4c] in /Users/yanndupis/Documents/Data_Science/Encrypted_DL/OpenMined/UnityProject/Assets/OpenMined/Syft/Tensor/FloatTensor.cs:365 \n",
      "  at OpenMined.Network.Controllers.SyftController.processMessage (System.String json_message, UnityEngine.MonoBehaviour owner) [0x002dd] in /Users/yanndupis/Documents/Data_Science/Encrypted_DL/OpenMined/UnityProject/Assets/OpenMined/Network/Controllers/SyftController.cs:231 \n"
     ]
    },
    {
     "data": {
      "application/vnd.jupyter.widget-view+json": {
       "model_id": "d9eadb36a4b0433e901d512fee2941a2"
      }
     },
     "metadata": {},
     "output_type": "display_data"
    },
    {
     "data": {
      "application/vnd.jupyter.widget-view+json": {
       "model_id": "d1d301d5b0bd4b90a2eedeec10bf0d17"
      }
     },
     "metadata": {},
     "output_type": "display_data"
    },
    {
     "name": "stderr",
     "output_type": "stream",
     "text": [
      "Exception ignored in: <bound method FloatTensor.__del__ of [ 0.01594738]\n",
      "[syft.FloatTensor:458 grad:None size:1 c:[] p:[457] init:max_-1_False]\n",
      "\n",
      "\t-----------creators-----------\n",
      "\t[syft.FloatTensor:457 grad:None size:1x3 c:[458] p:[456, 220] init:add_elem]\n",
      "\t------------------------------\n",
      "\n",
      "\n",
      ">\n",
      "Traceback (most recent call last):\n",
      "  File \"/Users/yanndupis/anaconda2/envs/tflearn/lib/python3.5/site-packages/syft-0.1.0-py3.5.egg/syft/tensor.py\", line 544, in __del__\n",
      "TypeError: 'bool' object is not callable\n",
      "Exception ignored in: "
     ]
    },
    {
     "name": "stdout",
     "output_type": "stream",
     "text": [
      "Number of Batches:1\n"
     ]
    },
    {
     "name": "stderr",
     "output_type": "stream",
     "text": [
      "<object repr() failed>\n",
      "Traceback (most recent call last):\n",
      "  File \"/Users/yanndupis/anaconda2/envs/tflearn/lib/python3.5/site-packages/syft-0.1.0-py3.5.egg/syft/tensor.py\", line 544, in __del__\n",
      "  File \"/Users/yanndupis/anaconda2/envs/tflearn/lib/python3.5/site-packages/syft-0.1.0-py3.5.egg/syft/tensor.py\", line 1516, in delete_tensor\n",
      "  File \"/Users/yanndupis/anaconda2/envs/tflearn/lib/python3.5/site-packages/syft-0.1.0-py3.5.egg/syft/tensor.py\", line 1504, in no_params_func\n",
      "  File \"/Users/yanndupis/anaconda2/envs/tflearn/lib/python3.5/site-packages/syft-0.1.0-py3.5.egg/syft/tensor.py\", line 1486, in params_func\n",
      "  File \"/Users/yanndupis/anaconda2/envs/tflearn/lib/python3.5/site-packages/syft-0.1.0-py3.5.egg/syft/controller.py\", line 143, in send_json\n",
      "Exception: Unity Error: System.Collections.Generic.KeyNotFoundException: The given key was not present in the dictionary.\n",
      "  at System.ThrowHelper.ThrowKeyNotFoundException () [0x00000] in /Users/builduser/buildslave/mono/build/mcs/class/referencesource/mscorlib/system/throwhelper.cs:68 \n",
      "  at System.Collections.Generic.Dictionary`2[TKey,TValue].get_Item (TKey key) [0x0001e] in /Users/builduser/buildslave/mono/build/mcs/class/referencesource/mscorlib/system/collections/generic/dictionary.cs:183 \n",
      "  at OpenMined.Syft.Tensor.Factories.FloatTensorFactory.Get (System.Int32 id) [0x00008] in /Users/yanndupis/Documents/Data_Science/Encrypted_DL/OpenMined/UnityProject/Assets/OpenMined/Syft/Tensor/Factories/FloatTensorFactory.cs:24 \n",
      "  at OpenMined.Syft.Tensor.FloatTensor.Delete () [0x00048] in /Users/yanndupis/Documents/Data_Science/Encrypted_DL/OpenMined/UnityProject/Assets/OpenMined/Syft/Tensor/FloatTensor.Ops.cs:558 \n",
      "  at OpenMined.Syft.Tensor.FloatTensor.ProcessMessage (OpenMined.Network.Utils.Command msgObj, OpenMined.Network.Controllers.SyftController ctrl) [0x00e4c] in /Users/yanndupis/Documents/Data_Science/Encrypted_DL/OpenMined/UnityProject/Assets/OpenMined/Syft/Tensor/FloatTensor.cs:365 \n",
      "  at OpenMined.Network.Controllers.SyftController.processMessage (System.String json_message, UnityEngine.MonoBehaviour owner) [0x002dd] in /Users/yanndupis/Documents/Data_Science/Encrypted_DL/OpenMined/UnityProject/Assets/OpenMined/Network/Controllers/SyftController.cs:231 \n"
     ]
    },
    {
     "data": {
      "application/vnd.jupyter.widget-view+json": {
       "model_id": "5e39b52e910c4d61b762e3344dcb1344"
      }
     },
     "metadata": {},
     "output_type": "display_data"
    },
    {
     "data": {
      "application/vnd.jupyter.widget-view+json": {
       "model_id": "1867dd7607f6429f9e73cd8166f3340d"
      }
     },
     "metadata": {},
     "output_type": "display_data"
    },
    {
     "name": "stderr",
     "output_type": "stream",
     "text": [
      "Exception ignored in: <bound method FloatTensor.__del__ of [ 0.01602163]\n",
      "[syft.FloatTensor:298 grad:None size:1 c:[] p:[297] init:max_-1_False]\n",
      "\n",
      "\t-----------creators-----------\n",
      "\t[syft.FloatTensor:297 grad:None size:1x3 c:[298] p:[296, 220] init:add_elem]\n",
      "\t------------------------------\n",
      "\n",
      "\n",
      ">\n",
      "Traceback (most recent call last):\n",
      "  File \"/Users/yanndupis/anaconda2/envs/tflearn/lib/python3.5/site-packages/syft-0.1.0-py3.5.egg/syft/tensor.py\", line 544, in __del__\n",
      "TypeError: 'bool' object is not callable\n",
      "Exception ignored in: "
     ]
    },
    {
     "name": "stdout",
     "output_type": "stream",
     "text": [
      "Number of Batches:1\n"
     ]
    },
    {
     "name": "stderr",
     "output_type": "stream",
     "text": [
      "<object repr() failed>\n",
      "Traceback (most recent call last):\n",
      "  File \"/Users/yanndupis/anaconda2/envs/tflearn/lib/python3.5/site-packages/syft-0.1.0-py3.5.egg/syft/tensor.py\", line 544, in __del__\n",
      "  File \"/Users/yanndupis/anaconda2/envs/tflearn/lib/python3.5/site-packages/syft-0.1.0-py3.5.egg/syft/tensor.py\", line 1516, in delete_tensor\n",
      "  File \"/Users/yanndupis/anaconda2/envs/tflearn/lib/python3.5/site-packages/syft-0.1.0-py3.5.egg/syft/tensor.py\", line 1504, in no_params_func\n",
      "  File \"/Users/yanndupis/anaconda2/envs/tflearn/lib/python3.5/site-packages/syft-0.1.0-py3.5.egg/syft/tensor.py\", line 1486, in params_func\n",
      "  File \"/Users/yanndupis/anaconda2/envs/tflearn/lib/python3.5/site-packages/syft-0.1.0-py3.5.egg/syft/controller.py\", line 143, in send_json\n",
      "Exception: Unity Error: System.Collections.Generic.KeyNotFoundException: The given key was not present in the dictionary.\n",
      "  at System.ThrowHelper.ThrowKeyNotFoundException () [0x00000] in /Users/builduser/buildslave/mono/build/mcs/class/referencesource/mscorlib/system/throwhelper.cs:68 \n",
      "  at System.Collections.Generic.Dictionary`2[TKey,TValue].get_Item (TKey key) [0x0001e] in /Users/builduser/buildslave/mono/build/mcs/class/referencesource/mscorlib/system/collections/generic/dictionary.cs:183 \n",
      "  at OpenMined.Syft.Tensor.Factories.FloatTensorFactory.Get (System.Int32 id) [0x00008] in /Users/yanndupis/Documents/Data_Science/Encrypted_DL/OpenMined/UnityProject/Assets/OpenMined/Syft/Tensor/Factories/FloatTensorFactory.cs:24 \n",
      "  at OpenMined.Syft.Tensor.FloatTensor.Delete () [0x00048] in /Users/yanndupis/Documents/Data_Science/Encrypted_DL/OpenMined/UnityProject/Assets/OpenMined/Syft/Tensor/FloatTensor.Ops.cs:558 \n",
      "  at OpenMined.Syft.Tensor.FloatTensor.ProcessMessage (OpenMined.Network.Utils.Command msgObj, OpenMined.Network.Controllers.SyftController ctrl) [0x00e4c] in /Users/yanndupis/Documents/Data_Science/Encrypted_DL/OpenMined/UnityProject/Assets/OpenMined/Syft/Tensor/FloatTensor.cs:365 \n",
      "  at OpenMined.Network.Controllers.SyftController.processMessage (System.String json_message, UnityEngine.MonoBehaviour owner) [0x002dd] in /Users/yanndupis/Documents/Data_Science/Encrypted_DL/OpenMined/UnityProject/Assets/OpenMined/Network/Controllers/SyftController.cs:231 \n"
     ]
    },
    {
     "data": {
      "application/vnd.jupyter.widget-view+json": {
       "model_id": "fbd0af4586774bcdaaa2c13412e7b60f"
      }
     },
     "metadata": {},
     "output_type": "display_data"
    },
    {
     "data": {
      "application/vnd.jupyter.widget-view+json": {
       "model_id": "3a22106549f64888b5e9f0ae9c234c4a"
      }
     },
     "metadata": {},
     "output_type": "display_data"
    },
    {
     "name": "stderr",
     "output_type": "stream",
     "text": [
      "Exception ignored in: <bound method FloatTensor.__del__ of [ 0.01479746]\n",
      "[syft.FloatTensor:233 grad:None size:1 c:[] p:[232] init:max_-1_False]\n",
      "\n",
      "\t-----------creators-----------\n",
      "\t[syft.FloatTensor:232 grad:None size:1x3 c:[233] p:[231, 220] init:add_elem]\n",
      "\t------------------------------\n",
      "\n",
      "\n",
      ">\n",
      "Traceback (most recent call last):\n",
      "  File \"/Users/yanndupis/anaconda2/envs/tflearn/lib/python3.5/site-packages/syft-0.1.0-py3.5.egg/syft/tensor.py\", line 544, in __del__\n",
      "TypeError: 'bool' object is not callable\n",
      "Exception ignored in: "
     ]
    },
    {
     "name": "stdout",
     "output_type": "stream",
     "text": [
      "Number of Batches:1\n"
     ]
    },
    {
     "name": "stderr",
     "output_type": "stream",
     "text": [
      "<object repr() failed>\n",
      "Traceback (most recent call last):\n",
      "  File \"/Users/yanndupis/anaconda2/envs/tflearn/lib/python3.5/site-packages/syft-0.1.0-py3.5.egg/syft/tensor.py\", line 544, in __del__\n",
      "  File \"/Users/yanndupis/anaconda2/envs/tflearn/lib/python3.5/site-packages/syft-0.1.0-py3.5.egg/syft/tensor.py\", line 1516, in delete_tensor\n",
      "  File \"/Users/yanndupis/anaconda2/envs/tflearn/lib/python3.5/site-packages/syft-0.1.0-py3.5.egg/syft/tensor.py\", line 1504, in no_params_func\n",
      "  File \"/Users/yanndupis/anaconda2/envs/tflearn/lib/python3.5/site-packages/syft-0.1.0-py3.5.egg/syft/tensor.py\", line 1486, in params_func\n",
      "  File \"/Users/yanndupis/anaconda2/envs/tflearn/lib/python3.5/site-packages/syft-0.1.0-py3.5.egg/syft/controller.py\", line 143, in send_json\n",
      "Exception: Unity Error: System.Collections.Generic.KeyNotFoundException: The given key was not present in the dictionary.\n",
      "  at System.ThrowHelper.ThrowKeyNotFoundException () [0x00000] in /Users/builduser/buildslave/mono/build/mcs/class/referencesource/mscorlib/system/throwhelper.cs:68 \n",
      "  at System.Collections.Generic.Dictionary`2[TKey,TValue].get_Item (TKey key) [0x0001e] in /Users/builduser/buildslave/mono/build/mcs/class/referencesource/mscorlib/system/collections/generic/dictionary.cs:183 \n",
      "  at OpenMined.Syft.Tensor.Factories.FloatTensorFactory.Get (System.Int32 id) [0x00008] in /Users/yanndupis/Documents/Data_Science/Encrypted_DL/OpenMined/UnityProject/Assets/OpenMined/Syft/Tensor/Factories/FloatTensorFactory.cs:24 \n",
      "  at OpenMined.Syft.Tensor.FloatTensor.Delete () [0x00048] in /Users/yanndupis/Documents/Data_Science/Encrypted_DL/OpenMined/UnityProject/Assets/OpenMined/Syft/Tensor/FloatTensor.Ops.cs:558 \n",
      "  at OpenMined.Syft.Tensor.FloatTensor.ProcessMessage (OpenMined.Network.Utils.Command msgObj, OpenMined.Network.Controllers.SyftController ctrl) [0x00e4c] in /Users/yanndupis/Documents/Data_Science/Encrypted_DL/OpenMined/UnityProject/Assets/OpenMined/Syft/Tensor/FloatTensor.cs:365 \n",
      "  at OpenMined.Network.Controllers.SyftController.processMessage (System.String json_message, UnityEngine.MonoBehaviour owner) [0x002dd] in /Users/yanndupis/Documents/Data_Science/Encrypted_DL/OpenMined/UnityProject/Assets/OpenMined/Network/Controllers/SyftController.cs:231 \n"
     ]
    },
    {
     "data": {
      "application/vnd.jupyter.widget-view+json": {
       "model_id": "b2868e10fe20447f89ec7fdb8adbac93"
      }
     },
     "metadata": {},
     "output_type": "display_data"
    },
    {
     "data": {
      "application/vnd.jupyter.widget-view+json": {
       "model_id": "f22bc2f8d9bd415f89377a470a55fe80"
      }
     },
     "metadata": {},
     "output_type": "display_data"
    },
    {
     "name": "stderr",
     "output_type": "stream",
     "text": [
      "Exception ignored in: <bound method FloatTensor.__del__ of [ 0.0142951]\n",
      "[syft.FloatTensor:648 grad:None size:1 c:[] p:[647] init:max_-1_False]\n",
      "\n",
      "\t-----------creators-----------\n",
      "\t[syft.FloatTensor:647 grad:None size:1x3 c:[648] p:[646, 220] init:add_elem]\n",
      "\t------------------------------\n",
      "\n",
      "\n",
      ">\n",
      "Traceback (most recent call last):\n",
      "  File \"/Users/yanndupis/anaconda2/envs/tflearn/lib/python3.5/site-packages/syft-0.1.0-py3.5.egg/syft/tensor.py\", line 544, in __del__\n",
      "TypeError: 'bool' object is not callable\n",
      "Exception ignored in: <object repr() failed>\n",
      "Traceback (most recent call last):\n",
      "  File \"/Users/yanndupis/anaconda2/envs/tflearn/lib/python3.5/site-packages/syft-0.1.0-py3.5.egg/syft/tensor.py\", line 544, in __del__\n",
      "  File \"/Users/yanndupis/anaconda2/envs/tflearn/lib/python3.5/site-packages/syft-0.1.0-py3.5.egg/syft/tensor.py\", line 1516, in delete_tensor\n",
      "  File \"/Users/yanndupis/anaconda2/envs/tflearn/lib/python3.5/site-packages/syft-0.1.0-py3.5.egg/syft/tensor.py\", line 1504, in no_params_func\n",
      "  File \"/Users/yanndupis/anaconda2/envs/tflearn/lib/python3.5/site-packages/syft-0.1.0-py3.5.egg/syft/tensor.py\", line 1486, in params_func\n",
      "  File \"/Users/yanndupis/anaconda2/envs/tflearn/lib/python3.5/site-packages/syft-0.1.0-py3.5.egg/syft/controller.py\", line 143, in send_json\n",
      "Exception: Unity Error: System.Collections.Generic.KeyNotFoundException: The given key was not present in the dictionary.\n",
      "  at System.ThrowHelper.ThrowKeyNotFoundException () [0x00000] in /Users/builduser/buildslave/mono/build/mcs/class/referencesource/mscorlib/system/throwhelper.cs:68 \n",
      "  at System.Collections.Generic.Dictionary`2[TKey,TValue].get_Item (TKey key) [0x0001e] in /Users/builduser/buildslave/mono/build/mcs/class/referencesource/mscorlib/system/collections/generic/dictionary.cs:183 \n",
      "  at OpenMined.Syft.Tensor.Factories.FloatTensorFactory.Get (System.Int32 id) [0x00008] in /Users/yanndupis/Documents/Data_Science/Encrypted_DL/OpenMined/UnityProject/Assets/OpenMined/Syft/Tensor/Factories/FloatTensorFactory.cs:24 \n",
      "  at OpenMined.Syft.Tensor.FloatTensor.Delete () [0x00048] in /Users/yanndupis/Documents/Data_Science/Encrypted_DL/OpenMined/UnityProject/Assets/OpenMined/Syft/Tensor/FloatTensor.Ops.cs:558 \n",
      "  at OpenMined.Syft.Tensor.FloatTensor.ProcessMessage (OpenMined.Network.Utils.Command msgObj, OpenMined.Network.Controllers.SyftController ctrl) [0x00e4c] in /Users/yanndupis/Documents/Data_Science/Encrypted_DL/OpenMined/UnityProject/Assets/OpenMined/Syft/Tensor/FloatTensor.cs:365 \n",
      "  at OpenMined.Network.Controllers.SyftController.processMessage (System.String json_message, UnityEngine.MonoBehaviour owner) [0x002dd] in /Users/yanndupis/Documents/Data_Science/Encrypted_DL/OpenMined/UnityProject/Assets/OpenMined/Network/Controllers/SyftController.cs:231 \n",
      "Exception ignored in: <object repr() failed>\n",
      "Traceback (most recent call last):\n",
      "  File \"/Users/yanndupis/anaconda2/envs/tflearn/lib/python3.5/site-packages/syft-0.1.0-py3.5.egg/syft/tensor.py\", line 544, in __del__\n",
      "  File \"/Users/yanndupis/anaconda2/envs/tflearn/lib/python3.5/site-packages/syft-0.1.0-py3.5.egg/syft/tensor.py\", line 1516, in delete_tensor\n",
      "  File \"/Users/yanndupis/anaconda2/envs/tflearn/lib/python3.5/site-packages/syft-0.1.0-py3.5.egg/syft/tensor.py\", line 1504, in no_params_func\n",
      "  File \"/Users/yanndupis/anaconda2/envs/tflearn/lib/python3.5/site-packages/syft-0.1.0-py3.5.egg/syft/tensor.py\", line 1486, in params_func\n",
      "  File \"/Users/yanndupis/anaconda2/envs/tflearn/lib/python3.5/site-packages/syft-0.1.0-py3.5.egg/syft/controller.py\", line 143, in send_json\n",
      "Exception: Unity Error: System.Collections.Generic.KeyNotFoundException: The given key was not present in the dictionary.\n",
      "  at System.ThrowHelper.ThrowKeyNotFoundException () [0x00000] in /Users/builduser/buildslave/mono/build/mcs/class/referencesource/mscorlib/system/throwhelper.cs:68 \n",
      "  at System.Collections.Generic.Dictionary`2[TKey,TValue].get_Item (TKey key) [0x0001e] in /Users/builduser/buildslave/mono/build/mcs/class/referencesource/mscorlib/system/collections/generic/dictionary.cs:183 \n",
      "  at OpenMined.Syft.Tensor.Factories.FloatTensorFactory.Get (System.Int32 id) [0x00008] in /Users/yanndupis/Documents/Data_Science/Encrypted_DL/OpenMined/UnityProject/Assets/OpenMined/Syft/Tensor/Factories/FloatTensorFactory.cs:24 \n",
      "  at OpenMined.Syft.Tensor.FloatTensor.Delete () [0x00048] in /Users/yanndupis/Documents/Data_Science/Encrypted_DL/OpenMined/UnityProject/Assets/OpenMined/Syft/Tensor/FloatTensor.Ops.cs:558 \n",
      "  at OpenMined.Syft.Tensor.FloatTensor.ProcessMessage (OpenMined.Network.Utils.Command msgObj, OpenMined.Network.Controllers.SyftController ctrl) [0x00e4c] in /Users/yanndupis/Documents/Data_Science/Encrypted_DL/OpenMined/UnityProject/Assets/OpenMined/Syft/Tensor/FloatTensor.cs:365 \n",
      "  at OpenMined.Network.Controllers.SyftController.processMessage (System.String json_message, UnityEngine.MonoBehaviour owner) [0x002dd] in /Users/yanndupis/Documents/Data_Science/Encrypted_DL/OpenMined/UnityProject/Assets/OpenMined/Network/Controllers/SyftController.cs:231 \n",
      "Exception ignored in: <object repr() failed>\n",
      "Traceback (most recent call last):\n",
      "  File \"/Users/yanndupis/anaconda2/envs/tflearn/lib/python3.5/site-packages/syft-0.1.0-py3.5.egg/syft/tensor.py\", line 544, in __del__\n",
      "  File \"/Users/yanndupis/anaconda2/envs/tflearn/lib/python3.5/site-packages/syft-0.1.0-py3.5.egg/syft/tensor.py\", line 1516, in delete_tensor\n",
      "  File \"/Users/yanndupis/anaconda2/envs/tflearn/lib/python3.5/site-packages/syft-0.1.0-py3.5.egg/syft/tensor.py\", line 1504, in no_params_func\n",
      "  File \"/Users/yanndupis/anaconda2/envs/tflearn/lib/python3.5/site-packages/syft-0.1.0-py3.5.egg/syft/tensor.py\", line 1486, in params_func\n",
      "  File \"/Users/yanndupis/anaconda2/envs/tflearn/lib/python3.5/site-packages/syft-0.1.0-py3.5.egg/syft/controller.py\", line 143, in send_json\n",
      "Exception: Unity Error: System.Collections.Generic.KeyNotFoundException: The given key was not present in the dictionary.\n",
      "  at System.ThrowHelper.ThrowKeyNotFoundException () [0x00000] in /Users/builduser/buildslave/mono/build/mcs/class/referencesource/mscorlib/system/throwhelper.cs:68 \n",
      "  at System.Collections.Generic.Dictionary`2[TKey,TValue].get_Item (TKey key) [0x0001e] in /Users/builduser/buildslave/mono/build/mcs/class/referencesource/mscorlib/system/collections/generic/dictionary.cs:183 \n",
      "  at OpenMined.Syft.Tensor.Factories.FloatTensorFactory.Get (System.Int32 id) [0x00008] in /Users/yanndupis/Documents/Data_Science/Encrypted_DL/OpenMined/UnityProject/Assets/OpenMined/Syft/Tensor/Factories/FloatTensorFactory.cs:24 \n",
      "  at OpenMined.Syft.Tensor.FloatTensor.Delete () [0x00048] in /Users/yanndupis/Documents/Data_Science/Encrypted_DL/OpenMined/UnityProject/Assets/OpenMined/Syft/Tensor/FloatTensor.Ops.cs:558 \n",
      "  at OpenMined.Syft.Tensor.FloatTensor.ProcessMessage (OpenMined.Network.Utils.Command msgObj, OpenMined.Network.Controllers.SyftController ctrl) [0x00e4c] in /Users/yanndupis/Documents/Data_Science/Encrypted_DL/OpenMined/UnityProject/Assets/OpenMined/Syft/Tensor/FloatTensor.cs:365 \n",
      "  at OpenMined.Network.Controllers.SyftController.processMessage (System.String json_message, UnityEngine.MonoBehaviour owner) [0x002dd] in /Users/yanndupis/Documents/Data_Science/Encrypted_DL/OpenMined/UnityProject/Assets/OpenMined/Network/Controllers/SyftController.cs:231 \n",
      "Exception ignored in: <object repr() failed>\n",
      "Traceback (most recent call last):\n",
      "  File \"/Users/yanndupis/anaconda2/envs/tflearn/lib/python3.5/site-packages/syft-0.1.0-py3.5.egg/syft/tensor.py\", line 544, in __del__\n",
      "  File \"/Users/yanndupis/anaconda2/envs/tflearn/lib/python3.5/site-packages/syft-0.1.0-py3.5.egg/syft/tensor.py\", line 1516, in delete_tensor\n",
      "  File \"/Users/yanndupis/anaconda2/envs/tflearn/lib/python3.5/site-packages/syft-0.1.0-py3.5.egg/syft/tensor.py\", line 1504, in no_params_func\n",
      "  File \"/Users/yanndupis/anaconda2/envs/tflearn/lib/python3.5/site-packages/syft-0.1.0-py3.5.egg/syft/tensor.py\", line 1486, in params_func\n",
      "  File \"/Users/yanndupis/anaconda2/envs/tflearn/lib/python3.5/site-packages/syft-0.1.0-py3.5.egg/syft/controller.py\", line 143, in send_json\n",
      "Exception: Unity Error: System.Collections.Generic.KeyNotFoundException: The given key was not present in the dictionary.\n",
      "  at System.ThrowHelper.ThrowKeyNotFoundException () [0x00000] in /Users/builduser/buildslave/mono/build/mcs/class/referencesource/mscorlib/system/throwhelper.cs:68 \n",
      "  at System.Collections.Generic.Dictionary`2[TKey,TValue].get_Item (TKey key) [0x0001e] in /Users/builduser/buildslave/mono/build/mcs/class/referencesource/mscorlib/system/collections/generic/dictionary.cs:183 \n",
      "  at OpenMined.Syft.Tensor.Factories.FloatTensorFactory.Get (System.Int32 id) [0x00008] in /Users/yanndupis/Documents/Data_Science/Encrypted_DL/OpenMined/UnityProject/Assets/OpenMined/Syft/Tensor/Factories/FloatTensorFactory.cs:24 \n",
      "  at OpenMined.Syft.Tensor.FloatTensor.Delete () [0x00048] in /Users/yanndupis/Documents/Data_Science/Encrypted_DL/OpenMined/UnityProject/Assets/OpenMined/Syft/Tensor/FloatTensor.Ops.cs:558 \n",
      "  at OpenMined.Syft.Tensor.FloatTensor.ProcessMessage (OpenMined.Network.Utils.Command msgObj, OpenMined.Network.Controllers.SyftController ctrl) [0x00e4c] in /Users/yanndupis/Documents/Data_Science/Encrypted_DL/OpenMined/UnityProject/Assets/OpenMined/Syft/Tensor/FloatTensor.cs:365 \n",
      "  at OpenMined.Network.Controllers.SyftController.processMessage (System.String json_message, UnityEngine.MonoBehaviour owner) [0x002dd] in /Users/yanndupis/Documents/Data_Science/Encrypted_DL/OpenMined/UnityProject/Assets/OpenMined/Network/Controllers/SyftController.cs:231 \n",
      "Exception ignored in: <object repr() failed>\n",
      "Traceback (most recent call last):\n",
      "  File \"/Users/yanndupis/anaconda2/envs/tflearn/lib/python3.5/site-packages/syft-0.1.0-py3.5.egg/syft/tensor.py\", line 544, in __del__\n",
      "  File \"/Users/yanndupis/anaconda2/envs/tflearn/lib/python3.5/site-packages/syft-0.1.0-py3.5.egg/syft/tensor.py\", line 1516, in delete_tensor\n",
      "  File \"/Users/yanndupis/anaconda2/envs/tflearn/lib/python3.5/site-packages/syft-0.1.0-py3.5.egg/syft/tensor.py\", line 1504, in no_params_func\n",
      "  File \"/Users/yanndupis/anaconda2/envs/tflearn/lib/python3.5/site-packages/syft-0.1.0-py3.5.egg/syft/tensor.py\", line 1486, in params_func\n",
      "  File \"/Users/yanndupis/anaconda2/envs/tflearn/lib/python3.5/site-packages/syft-0.1.0-py3.5.egg/syft/controller.py\", line 143, in send_json\n",
      "Exception: Unity Error: System.Collections.Generic.KeyNotFoundException: The given key was not present in the dictionary.\n",
      "  at System.ThrowHelper.ThrowKeyNotFoundException () [0x00000] in /Users/builduser/buildslave/mono/build/mcs/class/referencesource/mscorlib/system/throwhelper.cs:68 \n",
      "  at System.Collections.Generic.Dictionary`2[TKey,TValue].get_Item (TKey key) [0x0001e] in /Users/builduser/buildslave/mono/build/mcs/class/referencesource/mscorlib/system/collections/generic/dictionary.cs:183 \n",
      "  at OpenMined.Syft.Tensor.Factories.FloatTensorFactory.Get (System.Int32 id) [0x00008] in /Users/yanndupis/Documents/Data_Science/Encrypted_DL/OpenMined/UnityProject/Assets/OpenMined/Syft/Tensor/Factories/FloatTensorFactory.cs:24 \n",
      "  at OpenMined.Syft.Tensor.FloatTensor.Delete () [0x00048] in /Users/yanndupis/Documents/Data_Science/Encrypted_DL/OpenMined/UnityProject/Assets/OpenMined/Syft/Tensor/FloatTensor.Ops.cs:558 \n",
      "  at OpenMined.Syft.Tensor.FloatTensor.ProcessMessage (OpenMined.Network.Utils.Command msgObj, OpenMined.Network.Controllers.SyftController ctrl) [0x00e4c] in /Users/yanndupis/Documents/Data_Science/Encrypted_DL/OpenMined/UnityProject/Assets/OpenMined/Syft/Tensor/FloatTensor.cs:365 \n",
      "  at OpenMined.Network.Controllers.SyftController.processMessage (System.String json_message, UnityEngine.MonoBehaviour owner) [0x002dd] in /Users/yanndupis/Documents/Data_Science/Encrypted_DL/OpenMined/UnityProject/Assets/OpenMined/Network/Controllers/SyftController.cs:231 \n"
     ]
    },
    {
     "name": "stderr",
     "output_type": "stream",
     "text": [
      "Exception ignored in: <object repr() failed>\n",
      "Traceback (most recent call last):\n",
      "  File \"/Users/yanndupis/anaconda2/envs/tflearn/lib/python3.5/site-packages/syft-0.1.0-py3.5.egg/syft/tensor.py\", line 544, in __del__\n",
      "  File \"/Users/yanndupis/anaconda2/envs/tflearn/lib/python3.5/site-packages/syft-0.1.0-py3.5.egg/syft/tensor.py\", line 1516, in delete_tensor\n",
      "  File \"/Users/yanndupis/anaconda2/envs/tflearn/lib/python3.5/site-packages/syft-0.1.0-py3.5.egg/syft/tensor.py\", line 1504, in no_params_func\n",
      "  File \"/Users/yanndupis/anaconda2/envs/tflearn/lib/python3.5/site-packages/syft-0.1.0-py3.5.egg/syft/tensor.py\", line 1486, in params_func\n",
      "  File \"/Users/yanndupis/anaconda2/envs/tflearn/lib/python3.5/site-packages/syft-0.1.0-py3.5.egg/syft/controller.py\", line 143, in send_json\n",
      "Exception: Unity Error: System.Collections.Generic.KeyNotFoundException: The given key was not present in the dictionary.\n",
      "  at System.ThrowHelper.ThrowKeyNotFoundException () [0x00000] in /Users/builduser/buildslave/mono/build/mcs/class/referencesource/mscorlib/system/throwhelper.cs:68 \n",
      "  at System.Collections.Generic.Dictionary`2[TKey,TValue].get_Item (TKey key) [0x0001e] in /Users/builduser/buildslave/mono/build/mcs/class/referencesource/mscorlib/system/collections/generic/dictionary.cs:183 \n",
      "  at OpenMined.Syft.Tensor.Factories.FloatTensorFactory.Get (System.Int32 id) [0x00008] in /Users/yanndupis/Documents/Data_Science/Encrypted_DL/OpenMined/UnityProject/Assets/OpenMined/Syft/Tensor/Factories/FloatTensorFactory.cs:24 \n",
      "  at OpenMined.Syft.Tensor.FloatTensor.Delete () [0x00048] in /Users/yanndupis/Documents/Data_Science/Encrypted_DL/OpenMined/UnityProject/Assets/OpenMined/Syft/Tensor/FloatTensor.Ops.cs:558 \n",
      "  at OpenMined.Syft.Tensor.FloatTensor.ProcessMessage (OpenMined.Network.Utils.Command msgObj, OpenMined.Network.Controllers.SyftController ctrl) [0x00e4c] in /Users/yanndupis/Documents/Data_Science/Encrypted_DL/OpenMined/UnityProject/Assets/OpenMined/Syft/Tensor/FloatTensor.cs:365 \n",
      "  at OpenMined.Network.Controllers.SyftController.processMessage (System.String json_message, UnityEngine.MonoBehaviour owner) [0x002dd] in /Users/yanndupis/Documents/Data_Science/Encrypted_DL/OpenMined/UnityProject/Assets/OpenMined/Network/Controllers/SyftController.cs:231 \n",
      "Exception ignored in: <object repr() failed>\n",
      "Traceback (most recent call last):\n",
      "  File \"/Users/yanndupis/anaconda2/envs/tflearn/lib/python3.5/site-packages/syft-0.1.0-py3.5.egg/syft/tensor.py\", line 544, in __del__\n",
      "  File \"/Users/yanndupis/anaconda2/envs/tflearn/lib/python3.5/site-packages/syft-0.1.0-py3.5.egg/syft/tensor.py\", line 1516, in delete_tensor\n",
      "  File \"/Users/yanndupis/anaconda2/envs/tflearn/lib/python3.5/site-packages/syft-0.1.0-py3.5.egg/syft/tensor.py\", line 1504, in no_params_func\n",
      "  File \"/Users/yanndupis/anaconda2/envs/tflearn/lib/python3.5/site-packages/syft-0.1.0-py3.5.egg/syft/tensor.py\", line 1486, in params_func\n",
      "  File \"/Users/yanndupis/anaconda2/envs/tflearn/lib/python3.5/site-packages/syft-0.1.0-py3.5.egg/syft/controller.py\", line 143, in send_json\n",
      "Exception: Unity Error: System.Collections.Generic.KeyNotFoundException: The given key was not present in the dictionary.\n",
      "  at System.ThrowHelper.ThrowKeyNotFoundException () [0x00000] in /Users/builduser/buildslave/mono/build/mcs/class/referencesource/mscorlib/system/throwhelper.cs:68 \n",
      "  at System.Collections.Generic.Dictionary`2[TKey,TValue].get_Item (TKey key) [0x0001e] in /Users/builduser/buildslave/mono/build/mcs/class/referencesource/mscorlib/system/collections/generic/dictionary.cs:183 \n",
      "  at OpenMined.Syft.Tensor.Factories.FloatTensorFactory.Get (System.Int32 id) [0x00008] in /Users/yanndupis/Documents/Data_Science/Encrypted_DL/OpenMined/UnityProject/Assets/OpenMined/Syft/Tensor/Factories/FloatTensorFactory.cs:24 \n",
      "  at OpenMined.Syft.Tensor.FloatTensor.Delete () [0x00048] in /Users/yanndupis/Documents/Data_Science/Encrypted_DL/OpenMined/UnityProject/Assets/OpenMined/Syft/Tensor/FloatTensor.Ops.cs:558 \n",
      "  at OpenMined.Syft.Tensor.FloatTensor.ProcessMessage (OpenMined.Network.Utils.Command msgObj, OpenMined.Network.Controllers.SyftController ctrl) [0x00e4c] in /Users/yanndupis/Documents/Data_Science/Encrypted_DL/OpenMined/UnityProject/Assets/OpenMined/Syft/Tensor/FloatTensor.cs:365 \n",
      "  at OpenMined.Network.Controllers.SyftController.processMessage (System.String json_message, UnityEngine.MonoBehaviour owner) [0x002dd] in /Users/yanndupis/Documents/Data_Science/Encrypted_DL/OpenMined/UnityProject/Assets/OpenMined/Network/Controllers/SyftController.cs:231 \n",
      "Exception ignored in: <object repr() failed>\n",
      "Traceback (most recent call last):\n",
      "  File \"/Users/yanndupis/anaconda2/envs/tflearn/lib/python3.5/site-packages/syft-0.1.0-py3.5.egg/syft/tensor.py\", line 544, in __del__\n",
      "  File \"/Users/yanndupis/anaconda2/envs/tflearn/lib/python3.5/site-packages/syft-0.1.0-py3.5.egg/syft/tensor.py\", line 1516, in delete_tensor\n",
      "  File \"/Users/yanndupis/anaconda2/envs/tflearn/lib/python3.5/site-packages/syft-0.1.0-py3.5.egg/syft/tensor.py\", line 1504, in no_params_func\n",
      "  File \"/Users/yanndupis/anaconda2/envs/tflearn/lib/python3.5/site-packages/syft-0.1.0-py3.5.egg/syft/tensor.py\", line 1486, in params_func\n",
      "  File \"/Users/yanndupis/anaconda2/envs/tflearn/lib/python3.5/site-packages/syft-0.1.0-py3.5.egg/syft/controller.py\", line 143, in send_json\n",
      "Exception: Unity Error: System.Collections.Generic.KeyNotFoundException: The given key was not present in the dictionary.\n",
      "  at System.ThrowHelper.ThrowKeyNotFoundException () [0x00000] in /Users/builduser/buildslave/mono/build/mcs/class/referencesource/mscorlib/system/throwhelper.cs:68 \n",
      "  at System.Collections.Generic.Dictionary`2[TKey,TValue].get_Item (TKey key) [0x0001e] in /Users/builduser/buildslave/mono/build/mcs/class/referencesource/mscorlib/system/collections/generic/dictionary.cs:183 \n",
      "  at OpenMined.Syft.Tensor.Factories.FloatTensorFactory.Get (System.Int32 id) [0x00008] in /Users/yanndupis/Documents/Data_Science/Encrypted_DL/OpenMined/UnityProject/Assets/OpenMined/Syft/Tensor/Factories/FloatTensorFactory.cs:24 \n",
      "  at OpenMined.Syft.Tensor.FloatTensor.Delete () [0x00048] in /Users/yanndupis/Documents/Data_Science/Encrypted_DL/OpenMined/UnityProject/Assets/OpenMined/Syft/Tensor/FloatTensor.Ops.cs:558 \n",
      "  at OpenMined.Syft.Tensor.FloatTensor.ProcessMessage (OpenMined.Network.Utils.Command msgObj, OpenMined.Network.Controllers.SyftController ctrl) [0x00e4c] in /Users/yanndupis/Documents/Data_Science/Encrypted_DL/OpenMined/UnityProject/Assets/OpenMined/Syft/Tensor/FloatTensor.cs:365 \n",
      "  at OpenMined.Network.Controllers.SyftController.processMessage (System.String json_message, UnityEngine.MonoBehaviour owner) [0x002dd] in /Users/yanndupis/Documents/Data_Science/Encrypted_DL/OpenMined/UnityProject/Assets/OpenMined/Network/Controllers/SyftController.cs:231 \n",
      "Exception ignored in: <object repr() failed>\n",
      "Traceback (most recent call last):\n",
      "  File \"/Users/yanndupis/anaconda2/envs/tflearn/lib/python3.5/site-packages/syft-0.1.0-py3.5.egg/syft/tensor.py\", line 544, in __del__\n",
      "  File \"/Users/yanndupis/anaconda2/envs/tflearn/lib/python3.5/site-packages/syft-0.1.0-py3.5.egg/syft/tensor.py\", line 1516, in delete_tensor\n",
      "  File \"/Users/yanndupis/anaconda2/envs/tflearn/lib/python3.5/site-packages/syft-0.1.0-py3.5.egg/syft/tensor.py\", line 1504, in no_params_func\n",
      "  File \"/Users/yanndupis/anaconda2/envs/tflearn/lib/python3.5/site-packages/syft-0.1.0-py3.5.egg/syft/tensor.py\", line 1486, in params_func\n",
      "  File \"/Users/yanndupis/anaconda2/envs/tflearn/lib/python3.5/site-packages/syft-0.1.0-py3.5.egg/syft/controller.py\", line 143, in send_json\n",
      "Exception: Unity Error: System.Collections.Generic.KeyNotFoundException: The given key was not present in the dictionary.\n",
      "  at System.ThrowHelper.ThrowKeyNotFoundException () [0x00000] in /Users/builduser/buildslave/mono/build/mcs/class/referencesource/mscorlib/system/throwhelper.cs:68 \n",
      "  at System.Collections.Generic.Dictionary`2[TKey,TValue].get_Item (TKey key) [0x0001e] in /Users/builduser/buildslave/mono/build/mcs/class/referencesource/mscorlib/system/collections/generic/dictionary.cs:183 \n",
      "  at OpenMined.Syft.Tensor.Factories.FloatTensorFactory.Get (System.Int32 id) [0x00008] in /Users/yanndupis/Documents/Data_Science/Encrypted_DL/OpenMined/UnityProject/Assets/OpenMined/Syft/Tensor/Factories/FloatTensorFactory.cs:24 \n",
      "  at OpenMined.Syft.Tensor.FloatTensor.Delete () [0x00048] in /Users/yanndupis/Documents/Data_Science/Encrypted_DL/OpenMined/UnityProject/Assets/OpenMined/Syft/Tensor/FloatTensor.Ops.cs:558 \n",
      "  at OpenMined.Syft.Tensor.FloatTensor.ProcessMessage (OpenMined.Network.Utils.Command msgObj, OpenMined.Network.Controllers.SyftController ctrl) [0x00e4c] in /Users/yanndupis/Documents/Data_Science/Encrypted_DL/OpenMined/UnityProject/Assets/OpenMined/Syft/Tensor/FloatTensor.cs:365 \n",
      "  at OpenMined.Network.Controllers.SyftController.processMessage (System.String json_message, UnityEngine.MonoBehaviour owner) [0x002dd] in /Users/yanndupis/Documents/Data_Science/Encrypted_DL/OpenMined/UnityProject/Assets/OpenMined/Network/Controllers/SyftController.cs:231 \n"
     ]
    },
    {
     "name": "stdout",
     "output_type": "stream",
     "text": [
      "Number of Batches:1\n"
     ]
    },
    {
     "data": {
      "application/vnd.jupyter.widget-view+json": {
       "model_id": "1c5e0f476ebf4748a2e8ea6ce023cfad"
      }
     },
     "metadata": {},
     "output_type": "display_data"
    },
    {
     "data": {
      "application/vnd.jupyter.widget-view+json": {
       "model_id": "196dfb9e6d6a4eacb074fa49541b45bb"
      }
     },
     "metadata": {},
     "output_type": "display_data"
    },
    {
     "name": "stderr",
     "output_type": "stream",
     "text": [
      "Exception ignored in: <bound method FloatTensor.__del__ of [ 0.01475058]\n",
      "[syft.FloatTensor:251 grad:None size:1 c:[] p:[221] init:max_-1_False]\n",
      "\n",
      "\t-----------creators-----------\n",
      "\t[syft.FloatTensor:221 grad:None size:1x3 c:[251] p:[218, 220] init:add_elem]\n",
      "\t------------------------------\n",
      "\n",
      "\n",
      ">\n",
      "Traceback (most recent call last):\n",
      "  File \"/Users/yanndupis/anaconda2/envs/tflearn/lib/python3.5/site-packages/syft-0.1.0-py3.5.egg/syft/tensor.py\", line 544, in __del__\n",
      "TypeError: 'bool' object is not callable\n",
      "Exception ignored in: "
     ]
    },
    {
     "name": "stdout",
     "output_type": "stream",
     "text": [
      "Number of Batches:1\n"
     ]
    },
    {
     "name": "stderr",
     "output_type": "stream",
     "text": [
      "<object repr() failed>\n",
      "Traceback (most recent call last):\n",
      "  File \"/Users/yanndupis/anaconda2/envs/tflearn/lib/python3.5/site-packages/syft-0.1.0-py3.5.egg/syft/tensor.py\", line 544, in __del__\n",
      "  File \"/Users/yanndupis/anaconda2/envs/tflearn/lib/python3.5/site-packages/syft-0.1.0-py3.5.egg/syft/tensor.py\", line 1516, in delete_tensor\n",
      "  File \"/Users/yanndupis/anaconda2/envs/tflearn/lib/python3.5/site-packages/syft-0.1.0-py3.5.egg/syft/tensor.py\", line 1504, in no_params_func\n",
      "  File \"/Users/yanndupis/anaconda2/envs/tflearn/lib/python3.5/site-packages/syft-0.1.0-py3.5.egg/syft/tensor.py\", line 1486, in params_func\n",
      "  File \"/Users/yanndupis/anaconda2/envs/tflearn/lib/python3.5/site-packages/syft-0.1.0-py3.5.egg/syft/controller.py\", line 143, in send_json\n",
      "Exception: Unity Error: System.Collections.Generic.KeyNotFoundException: The given key was not present in the dictionary.\n",
      "  at System.ThrowHelper.ThrowKeyNotFoundException () [0x00000] in /Users/builduser/buildslave/mono/build/mcs/class/referencesource/mscorlib/system/throwhelper.cs:68 \n",
      "  at System.Collections.Generic.Dictionary`2[TKey,TValue].get_Item (TKey key) [0x0001e] in /Users/builduser/buildslave/mono/build/mcs/class/referencesource/mscorlib/system/collections/generic/dictionary.cs:183 \n",
      "  at OpenMined.Syft.Tensor.Factories.FloatTensorFactory.Get (System.Int32 id) [0x00008] in /Users/yanndupis/Documents/Data_Science/Encrypted_DL/OpenMined/UnityProject/Assets/OpenMined/Syft/Tensor/Factories/FloatTensorFactory.cs:24 \n",
      "  at OpenMined.Syft.Tensor.FloatTensor.Delete () [0x00048] in /Users/yanndupis/Documents/Data_Science/Encrypted_DL/OpenMined/UnityProject/Assets/OpenMined/Syft/Tensor/FloatTensor.Ops.cs:558 \n",
      "  at OpenMined.Syft.Tensor.FloatTensor.ProcessMessage (OpenMined.Network.Utils.Command msgObj, OpenMined.Network.Controllers.SyftController ctrl) [0x00e4c] in /Users/yanndupis/Documents/Data_Science/Encrypted_DL/OpenMined/UnityProject/Assets/OpenMined/Syft/Tensor/FloatTensor.cs:365 \n",
      "  at OpenMined.Network.Controllers.SyftController.processMessage (System.String json_message, UnityEngine.MonoBehaviour owner) [0x002dd] in /Users/yanndupis/Documents/Data_Science/Encrypted_DL/OpenMined/UnityProject/Assets/OpenMined/Network/Controllers/SyftController.cs:231 \n"
     ]
    },
    {
     "data": {
      "application/vnd.jupyter.widget-view+json": {
       "model_id": "f736496a1ba24974b389e548bfdf061e"
      }
     },
     "metadata": {},
     "output_type": "display_data"
    },
    {
     "data": {
      "application/vnd.jupyter.widget-view+json": {
       "model_id": "26768929eba44fbd8286f9da87b47f6f"
      }
     },
     "metadata": {},
     "output_type": "display_data"
    },
    {
     "name": "stderr",
     "output_type": "stream",
     "text": [
      "Exception ignored in: <bound method FloatTensor.__del__ of [ 0.01596209]\n",
      "[syft.FloatTensor:476 grad:None size:1 c:[] p:[475] init:max_-1_False]\n",
      "\n",
      "\t-----------creators-----------\n",
      "\t[syft.FloatTensor:475 grad:None size:1x3 c:[476] p:[474, 220] init:add_elem]\n",
      "\t------------------------------\n",
      "\n",
      "\n",
      ">\n",
      "Traceback (most recent call last):\n",
      "  File \"/Users/yanndupis/anaconda2/envs/tflearn/lib/python3.5/site-packages/syft-0.1.0-py3.5.egg/syft/tensor.py\", line 544, in __del__\n",
      "TypeError: 'bool' object is not callable\n",
      "Exception ignored in: "
     ]
    },
    {
     "name": "stdout",
     "output_type": "stream",
     "text": [
      "Number of Batches:1\n"
     ]
    },
    {
     "name": "stderr",
     "output_type": "stream",
     "text": [
      "<object repr() failed>\n",
      "Traceback (most recent call last):\n",
      "  File \"/Users/yanndupis/anaconda2/envs/tflearn/lib/python3.5/site-packages/syft-0.1.0-py3.5.egg/syft/tensor.py\", line 544, in __del__\n",
      "  File \"/Users/yanndupis/anaconda2/envs/tflearn/lib/python3.5/site-packages/syft-0.1.0-py3.5.egg/syft/tensor.py\", line 1516, in delete_tensor\n",
      "  File \"/Users/yanndupis/anaconda2/envs/tflearn/lib/python3.5/site-packages/syft-0.1.0-py3.5.egg/syft/tensor.py\", line 1504, in no_params_func\n",
      "  File \"/Users/yanndupis/anaconda2/envs/tflearn/lib/python3.5/site-packages/syft-0.1.0-py3.5.egg/syft/tensor.py\", line 1486, in params_func\n",
      "  File \"/Users/yanndupis/anaconda2/envs/tflearn/lib/python3.5/site-packages/syft-0.1.0-py3.5.egg/syft/controller.py\", line 143, in send_json\n",
      "Exception: Unity Error: System.Collections.Generic.KeyNotFoundException: The given key was not present in the dictionary.\n",
      "  at System.ThrowHelper.ThrowKeyNotFoundException () [0x00000] in /Users/builduser/buildslave/mono/build/mcs/class/referencesource/mscorlib/system/throwhelper.cs:68 \n",
      "  at System.Collections.Generic.Dictionary`2[TKey,TValue].get_Item (TKey key) [0x0001e] in /Users/builduser/buildslave/mono/build/mcs/class/referencesource/mscorlib/system/collections/generic/dictionary.cs:183 \n",
      "  at OpenMined.Syft.Tensor.Factories.FloatTensorFactory.Get (System.Int32 id) [0x00008] in /Users/yanndupis/Documents/Data_Science/Encrypted_DL/OpenMined/UnityProject/Assets/OpenMined/Syft/Tensor/Factories/FloatTensorFactory.cs:24 \n",
      "  at OpenMined.Syft.Tensor.FloatTensor.Delete () [0x00048] in /Users/yanndupis/Documents/Data_Science/Encrypted_DL/OpenMined/UnityProject/Assets/OpenMined/Syft/Tensor/FloatTensor.Ops.cs:558 \n",
      "  at OpenMined.Syft.Tensor.FloatTensor.ProcessMessage (OpenMined.Network.Utils.Command msgObj, OpenMined.Network.Controllers.SyftController ctrl) [0x00e4c] in /Users/yanndupis/Documents/Data_Science/Encrypted_DL/OpenMined/UnityProject/Assets/OpenMined/Syft/Tensor/FloatTensor.cs:365 \n",
      "  at OpenMined.Network.Controllers.SyftController.processMessage (System.String json_message, UnityEngine.MonoBehaviour owner) [0x002dd] in /Users/yanndupis/Documents/Data_Science/Encrypted_DL/OpenMined/UnityProject/Assets/OpenMined/Network/Controllers/SyftController.cs:231 \n"
     ]
    },
    {
     "data": {
      "application/vnd.jupyter.widget-view+json": {
       "model_id": "54abdd2e8a664ef896963fccd0b497c6"
      }
     },
     "metadata": {},
     "output_type": "display_data"
    },
    {
     "data": {
      "application/vnd.jupyter.widget-view+json": {
       "model_id": "e30aaf5ae0d04cfa88d134c0f2c404a8"
      }
     },
     "metadata": {},
     "output_type": "display_data"
    },
    {
     "name": "stderr",
     "output_type": "stream",
     "text": [
      "Exception ignored in: <bound method FloatTensor.__del__ of [ 0.01491045]\n",
      "[syft.FloatTensor:269 grad:None size:1 c:[] p:[268] init:max_-1_False]\n",
      "\n",
      "\t-----------creators-----------\n",
      "\t[syft.FloatTensor:268 grad:None size:1x3 c:[269] p:[267, 220] init:add_elem]\n",
      "\t------------------------------\n",
      "\n",
      "\n",
      ">\n",
      "Traceback (most recent call last):\n",
      "  File \"/Users/yanndupis/anaconda2/envs/tflearn/lib/python3.5/site-packages/syft-0.1.0-py3.5.egg/syft/tensor.py\", line 544, in __del__\n",
      "TypeError: 'bool' object is not callable\n",
      "Exception ignored in: "
     ]
    },
    {
     "name": "stdout",
     "output_type": "stream",
     "text": [
      "Number of Batches:1\n"
     ]
    },
    {
     "name": "stderr",
     "output_type": "stream",
     "text": [
      "<object repr() failed>\n",
      "Traceback (most recent call last):\n",
      "  File \"/Users/yanndupis/anaconda2/envs/tflearn/lib/python3.5/site-packages/syft-0.1.0-py3.5.egg/syft/tensor.py\", line 544, in __del__\n",
      "  File \"/Users/yanndupis/anaconda2/envs/tflearn/lib/python3.5/site-packages/syft-0.1.0-py3.5.egg/syft/tensor.py\", line 1516, in delete_tensor\n",
      "  File \"/Users/yanndupis/anaconda2/envs/tflearn/lib/python3.5/site-packages/syft-0.1.0-py3.5.egg/syft/tensor.py\", line 1504, in no_params_func\n",
      "  File \"/Users/yanndupis/anaconda2/envs/tflearn/lib/python3.5/site-packages/syft-0.1.0-py3.5.egg/syft/tensor.py\", line 1486, in params_func\n",
      "  File \"/Users/yanndupis/anaconda2/envs/tflearn/lib/python3.5/site-packages/syft-0.1.0-py3.5.egg/syft/controller.py\", line 143, in send_json\n",
      "Exception: Unity Error: System.Collections.Generic.KeyNotFoundException: The given key was not present in the dictionary.\n",
      "  at System.ThrowHelper.ThrowKeyNotFoundException () [0x00000] in /Users/builduser/buildslave/mono/build/mcs/class/referencesource/mscorlib/system/throwhelper.cs:68 \n",
      "  at System.Collections.Generic.Dictionary`2[TKey,TValue].get_Item (TKey key) [0x0001e] in /Users/builduser/buildslave/mono/build/mcs/class/referencesource/mscorlib/system/collections/generic/dictionary.cs:183 \n",
      "  at OpenMined.Syft.Tensor.Factories.FloatTensorFactory.Get (System.Int32 id) [0x00008] in /Users/yanndupis/Documents/Data_Science/Encrypted_DL/OpenMined/UnityProject/Assets/OpenMined/Syft/Tensor/Factories/FloatTensorFactory.cs:24 \n",
      "  at OpenMined.Syft.Tensor.FloatTensor.Delete () [0x00048] in /Users/yanndupis/Documents/Data_Science/Encrypted_DL/OpenMined/UnityProject/Assets/OpenMined/Syft/Tensor/FloatTensor.Ops.cs:558 \n",
      "  at OpenMined.Syft.Tensor.FloatTensor.ProcessMessage (OpenMined.Network.Utils.Command msgObj, OpenMined.Network.Controllers.SyftController ctrl) [0x00e4c] in /Users/yanndupis/Documents/Data_Science/Encrypted_DL/OpenMined/UnityProject/Assets/OpenMined/Syft/Tensor/FloatTensor.cs:365 \n",
      "  at OpenMined.Network.Controllers.SyftController.processMessage (System.String json_message, UnityEngine.MonoBehaviour owner) [0x002dd] in /Users/yanndupis/Documents/Data_Science/Encrypted_DL/OpenMined/UnityProject/Assets/OpenMined/Network/Controllers/SyftController.cs:231 \n"
     ]
    },
    {
     "data": {
      "application/vnd.jupyter.widget-view+json": {
       "model_id": "5a683659b1044aaa9562962cdb57726b"
      }
     },
     "metadata": {},
     "output_type": "display_data"
    },
    {
     "data": {
      "application/vnd.jupyter.widget-view+json": {
       "model_id": "6f7416b7468c4395ba6b176e4021aa15"
      }
     },
     "metadata": {},
     "output_type": "display_data"
    },
    {
     "name": "stderr",
     "output_type": "stream",
     "text": [
      "Exception ignored in: <bound method FloatTensor.__del__ of [ 0.01594738]\n",
      "[syft.FloatTensor:458 grad:None size:1 c:[] p:[457] init:max_-1_False]\n",
      "\n",
      "\t-----------creators-----------\n",
      "\t[syft.FloatTensor:457 grad:None size:1x3 c:[458] p:[456, 220] init:add_elem]\n",
      "\t------------------------------\n",
      "\n",
      "\n",
      ">\n",
      "Traceback (most recent call last):\n",
      "  File \"/Users/yanndupis/anaconda2/envs/tflearn/lib/python3.5/site-packages/syft-0.1.0-py3.5.egg/syft/tensor.py\", line 544, in __del__\n",
      "TypeError: 'bool' object is not callable\n",
      "Exception ignored in: "
     ]
    },
    {
     "name": "stdout",
     "output_type": "stream",
     "text": [
      "Number of Batches:1\n"
     ]
    },
    {
     "name": "stderr",
     "output_type": "stream",
     "text": [
      "<object repr() failed>\n",
      "Traceback (most recent call last):\n",
      "  File \"/Users/yanndupis/anaconda2/envs/tflearn/lib/python3.5/site-packages/syft-0.1.0-py3.5.egg/syft/tensor.py\", line 544, in __del__\n",
      "  File \"/Users/yanndupis/anaconda2/envs/tflearn/lib/python3.5/site-packages/syft-0.1.0-py3.5.egg/syft/tensor.py\", line 1516, in delete_tensor\n",
      "  File \"/Users/yanndupis/anaconda2/envs/tflearn/lib/python3.5/site-packages/syft-0.1.0-py3.5.egg/syft/tensor.py\", line 1504, in no_params_func\n",
      "  File \"/Users/yanndupis/anaconda2/envs/tflearn/lib/python3.5/site-packages/syft-0.1.0-py3.5.egg/syft/tensor.py\", line 1486, in params_func\n",
      "  File \"/Users/yanndupis/anaconda2/envs/tflearn/lib/python3.5/site-packages/syft-0.1.0-py3.5.egg/syft/controller.py\", line 143, in send_json\n",
      "Exception: Unity Error: System.Collections.Generic.KeyNotFoundException: The given key was not present in the dictionary.\n",
      "  at System.ThrowHelper.ThrowKeyNotFoundException () [0x00000] in /Users/builduser/buildslave/mono/build/mcs/class/referencesource/mscorlib/system/throwhelper.cs:68 \n",
      "  at System.Collections.Generic.Dictionary`2[TKey,TValue].get_Item (TKey key) [0x0001e] in /Users/builduser/buildslave/mono/build/mcs/class/referencesource/mscorlib/system/collections/generic/dictionary.cs:183 \n",
      "  at OpenMined.Syft.Tensor.Factories.FloatTensorFactory.Get (System.Int32 id) [0x00008] in /Users/yanndupis/Documents/Data_Science/Encrypted_DL/OpenMined/UnityProject/Assets/OpenMined/Syft/Tensor/Factories/FloatTensorFactory.cs:24 \n",
      "  at OpenMined.Syft.Tensor.FloatTensor.Delete () [0x00048] in /Users/yanndupis/Documents/Data_Science/Encrypted_DL/OpenMined/UnityProject/Assets/OpenMined/Syft/Tensor/FloatTensor.Ops.cs:558 \n",
      "  at OpenMined.Syft.Tensor.FloatTensor.ProcessMessage (OpenMined.Network.Utils.Command msgObj, OpenMined.Network.Controllers.SyftController ctrl) [0x00e4c] in /Users/yanndupis/Documents/Data_Science/Encrypted_DL/OpenMined/UnityProject/Assets/OpenMined/Syft/Tensor/FloatTensor.cs:365 \n",
      "  at OpenMined.Network.Controllers.SyftController.processMessage (System.String json_message, UnityEngine.MonoBehaviour owner) [0x002dd] in /Users/yanndupis/Documents/Data_Science/Encrypted_DL/OpenMined/UnityProject/Assets/OpenMined/Network/Controllers/SyftController.cs:231 \n"
     ]
    },
    {
     "data": {
      "application/vnd.jupyter.widget-view+json": {
       "model_id": "41c85156498240a190d1fa7eb09599b5"
      }
     },
     "metadata": {},
     "output_type": "display_data"
    },
    {
     "data": {
      "application/vnd.jupyter.widget-view+json": {
       "model_id": "90134bb58d18412bba5c7e66bb1573c9"
      }
     },
     "metadata": {},
     "output_type": "display_data"
    },
    {
     "name": "stderr",
     "output_type": "stream",
     "text": [
      "Exception ignored in: <bound method FloatTensor.__del__ of [ 0.01588036]\n",
      "[syft.FloatTensor:731 grad:None size:1 c:[] p:[730] init:max_-1_False]\n",
      "\n",
      "\t-----------creators-----------\n",
      "\t[syft.FloatTensor:730 grad:None size:1x3 c:[731] p:[729, 220] init:add_elem]\n",
      "\t------------------------------\n",
      "\n",
      "\n",
      ">\n",
      "Traceback (most recent call last):\n",
      "  File \"/Users/yanndupis/anaconda2/envs/tflearn/lib/python3.5/site-packages/syft-0.1.0-py3.5.egg/syft/tensor.py\", line 544, in __del__\n",
      "TypeError: 'bool' object is not callable\n",
      "Exception ignored in: <object repr() failed>\n",
      "Traceback (most recent call last):\n",
      "  File \"/Users/yanndupis/anaconda2/envs/tflearn/lib/python3.5/site-packages/syft-0.1.0-py3.5.egg/syft/tensor.py\", line 544, in __del__\n",
      "  File \"/Users/yanndupis/anaconda2/envs/tflearn/lib/python3.5/site-packages/syft-0.1.0-py3.5.egg/syft/tensor.py\", line 1516, in delete_tensor\n",
      "  File \"/Users/yanndupis/anaconda2/envs/tflearn/lib/python3.5/site-packages/syft-0.1.0-py3.5.egg/syft/tensor.py\", line 1504, in no_params_func\n",
      "  File \"/Users/yanndupis/anaconda2/envs/tflearn/lib/python3.5/site-packages/syft-0.1.0-py3.5.egg/syft/tensor.py\", line 1486, in params_func\n",
      "  File \"/Users/yanndupis/anaconda2/envs/tflearn/lib/python3.5/site-packages/syft-0.1.0-py3.5.egg/syft/controller.py\", line 143, in send_json\n",
      "Exception: Unity Error: System.Collections.Generic.KeyNotFoundException: The given key was not present in the dictionary.\n",
      "  at System.ThrowHelper.ThrowKeyNotFoundException () [0x00000] in /Users/builduser/buildslave/mono/build/mcs/class/referencesource/mscorlib/system/throwhelper.cs:68 \n",
      "  at System.Collections.Generic.Dictionary`2[TKey,TValue].get_Item (TKey key) [0x0001e] in /Users/builduser/buildslave/mono/build/mcs/class/referencesource/mscorlib/system/collections/generic/dictionary.cs:183 \n",
      "  at OpenMined.Syft.Tensor.Factories.FloatTensorFactory.Get (System.Int32 id) [0x00008] in /Users/yanndupis/Documents/Data_Science/Encrypted_DL/OpenMined/UnityProject/Assets/OpenMined/Syft/Tensor/Factories/FloatTensorFactory.cs:24 \n",
      "  at OpenMined.Syft.Tensor.FloatTensor.Delete () [0x00048] in /Users/yanndupis/Documents/Data_Science/Encrypted_DL/OpenMined/UnityProject/Assets/OpenMined/Syft/Tensor/FloatTensor.Ops.cs:558 \n",
      "  at OpenMined.Syft.Tensor.FloatTensor.ProcessMessage (OpenMined.Network.Utils.Command msgObj, OpenMined.Network.Controllers.SyftController ctrl) [0x00e4c] in /Users/yanndupis/Documents/Data_Science/Encrypted_DL/OpenMined/UnityProject/Assets/OpenMined/Syft/Tensor/FloatTensor.cs:365 \n",
      "  at OpenMined.Network.Controllers.SyftController.processMessage (System.String json_message, UnityEngine.MonoBehaviour owner) [0x002dd] in /Users/yanndupis/Documents/Data_Science/Encrypted_DL/OpenMined/UnityProject/Assets/OpenMined/Network/Controllers/SyftController.cs:231 \n",
      "Exception ignored in: <object repr() failed>\n",
      "Traceback (most recent call last):\n",
      "  File \"/Users/yanndupis/anaconda2/envs/tflearn/lib/python3.5/site-packages/syft-0.1.0-py3.5.egg/syft/tensor.py\", line 544, in __del__\n",
      "  File \"/Users/yanndupis/anaconda2/envs/tflearn/lib/python3.5/site-packages/syft-0.1.0-py3.5.egg/syft/tensor.py\", line 1516, in delete_tensor\n",
      "  File \"/Users/yanndupis/anaconda2/envs/tflearn/lib/python3.5/site-packages/syft-0.1.0-py3.5.egg/syft/tensor.py\", line 1504, in no_params_func\n",
      "  File \"/Users/yanndupis/anaconda2/envs/tflearn/lib/python3.5/site-packages/syft-0.1.0-py3.5.egg/syft/tensor.py\", line 1486, in params_func\n",
      "  File \"/Users/yanndupis/anaconda2/envs/tflearn/lib/python3.5/site-packages/syft-0.1.0-py3.5.egg/syft/controller.py\", line 143, in send_json\n",
      "Exception: Unity Error: System.Collections.Generic.KeyNotFoundException: The given key was not present in the dictionary.\n",
      "  at System.ThrowHelper.ThrowKeyNotFoundException () [0x00000] in /Users/builduser/buildslave/mono/build/mcs/class/referencesource/mscorlib/system/throwhelper.cs:68 \n",
      "  at System.Collections.Generic.Dictionary`2[TKey,TValue].get_Item (TKey key) [0x0001e] in /Users/builduser/buildslave/mono/build/mcs/class/referencesource/mscorlib/system/collections/generic/dictionary.cs:183 \n",
      "  at OpenMined.Syft.Tensor.Factories.FloatTensorFactory.Get (System.Int32 id) [0x00008] in /Users/yanndupis/Documents/Data_Science/Encrypted_DL/OpenMined/UnityProject/Assets/OpenMined/Syft/Tensor/Factories/FloatTensorFactory.cs:24 \n",
      "  at OpenMined.Syft.Tensor.FloatTensor.Delete () [0x00048] in /Users/yanndupis/Documents/Data_Science/Encrypted_DL/OpenMined/UnityProject/Assets/OpenMined/Syft/Tensor/FloatTensor.Ops.cs:558 \n",
      "  at OpenMined.Syft.Tensor.FloatTensor.ProcessMessage (OpenMined.Network.Utils.Command msgObj, OpenMined.Network.Controllers.SyftController ctrl) [0x00e4c] in /Users/yanndupis/Documents/Data_Science/Encrypted_DL/OpenMined/UnityProject/Assets/OpenMined/Syft/Tensor/FloatTensor.cs:365 \n",
      "  at OpenMined.Network.Controllers.SyftController.processMessage (System.String json_message, UnityEngine.MonoBehaviour owner) [0x002dd] in /Users/yanndupis/Documents/Data_Science/Encrypted_DL/OpenMined/UnityProject/Assets/OpenMined/Network/Controllers/SyftController.cs:231 \n",
      "Exception ignored in: <object repr() failed>\n",
      "Traceback (most recent call last):\n",
      "  File \"/Users/yanndupis/anaconda2/envs/tflearn/lib/python3.5/site-packages/syft-0.1.0-py3.5.egg/syft/tensor.py\", line 544, in __del__\n",
      "  File \"/Users/yanndupis/anaconda2/envs/tflearn/lib/python3.5/site-packages/syft-0.1.0-py3.5.egg/syft/tensor.py\", line 1516, in delete_tensor\n",
      "  File \"/Users/yanndupis/anaconda2/envs/tflearn/lib/python3.5/site-packages/syft-0.1.0-py3.5.egg/syft/tensor.py\", line 1504, in no_params_func\n",
      "  File \"/Users/yanndupis/anaconda2/envs/tflearn/lib/python3.5/site-packages/syft-0.1.0-py3.5.egg/syft/tensor.py\", line 1486, in params_func\n",
      "  File \"/Users/yanndupis/anaconda2/envs/tflearn/lib/python3.5/site-packages/syft-0.1.0-py3.5.egg/syft/controller.py\", line 143, in send_json\n",
      "Exception: Unity Error: System.Collections.Generic.KeyNotFoundException: The given key was not present in the dictionary.\n",
      "  at System.ThrowHelper.ThrowKeyNotFoundException () [0x00000] in /Users/builduser/buildslave/mono/build/mcs/class/referencesource/mscorlib/system/throwhelper.cs:68 \n",
      "  at System.Collections.Generic.Dictionary`2[TKey,TValue].get_Item (TKey key) [0x0001e] in /Users/builduser/buildslave/mono/build/mcs/class/referencesource/mscorlib/system/collections/generic/dictionary.cs:183 \n",
      "  at OpenMined.Syft.Tensor.Factories.FloatTensorFactory.Get (System.Int32 id) [0x00008] in /Users/yanndupis/Documents/Data_Science/Encrypted_DL/OpenMined/UnityProject/Assets/OpenMined/Syft/Tensor/Factories/FloatTensorFactory.cs:24 \n",
      "  at OpenMined.Syft.Tensor.FloatTensor.Delete () [0x00048] in /Users/yanndupis/Documents/Data_Science/Encrypted_DL/OpenMined/UnityProject/Assets/OpenMined/Syft/Tensor/FloatTensor.Ops.cs:558 \n",
      "  at OpenMined.Syft.Tensor.FloatTensor.ProcessMessage (OpenMined.Network.Utils.Command msgObj, OpenMined.Network.Controllers.SyftController ctrl) [0x00e4c] in /Users/yanndupis/Documents/Data_Science/Encrypted_DL/OpenMined/UnityProject/Assets/OpenMined/Syft/Tensor/FloatTensor.cs:365 \n",
      "  at OpenMined.Network.Controllers.SyftController.processMessage (System.String json_message, UnityEngine.MonoBehaviour owner) [0x002dd] in /Users/yanndupis/Documents/Data_Science/Encrypted_DL/OpenMined/UnityProject/Assets/OpenMined/Network/Controllers/SyftController.cs:231 \n",
      "Exception ignored in: <object repr() failed>\n",
      "Traceback (most recent call last):\n",
      "  File \"/Users/yanndupis/anaconda2/envs/tflearn/lib/python3.5/site-packages/syft-0.1.0-py3.5.egg/syft/tensor.py\", line 544, in __del__\n",
      "  File \"/Users/yanndupis/anaconda2/envs/tflearn/lib/python3.5/site-packages/syft-0.1.0-py3.5.egg/syft/tensor.py\", line 1516, in delete_tensor\n",
      "  File \"/Users/yanndupis/anaconda2/envs/tflearn/lib/python3.5/site-packages/syft-0.1.0-py3.5.egg/syft/tensor.py\", line 1504, in no_params_func\n",
      "  File \"/Users/yanndupis/anaconda2/envs/tflearn/lib/python3.5/site-packages/syft-0.1.0-py3.5.egg/syft/tensor.py\", line 1486, in params_func\n",
      "  File \"/Users/yanndupis/anaconda2/envs/tflearn/lib/python3.5/site-packages/syft-0.1.0-py3.5.egg/syft/controller.py\", line 143, in send_json\n",
      "Exception: Unity Error: System.Collections.Generic.KeyNotFoundException: The given key was not present in the dictionary.\n",
      "  at System.ThrowHelper.ThrowKeyNotFoundException () [0x00000] in /Users/builduser/buildslave/mono/build/mcs/class/referencesource/mscorlib/system/throwhelper.cs:68 \n",
      "  at System.Collections.Generic.Dictionary`2[TKey,TValue].get_Item (TKey key) [0x0001e] in /Users/builduser/buildslave/mono/build/mcs/class/referencesource/mscorlib/system/collections/generic/dictionary.cs:183 \n",
      "  at OpenMined.Syft.Tensor.Factories.FloatTensorFactory.Get (System.Int32 id) [0x00008] in /Users/yanndupis/Documents/Data_Science/Encrypted_DL/OpenMined/UnityProject/Assets/OpenMined/Syft/Tensor/Factories/FloatTensorFactory.cs:24 \n",
      "  at OpenMined.Syft.Tensor.FloatTensor.Delete () [0x00048] in /Users/yanndupis/Documents/Data_Science/Encrypted_DL/OpenMined/UnityProject/Assets/OpenMined/Syft/Tensor/FloatTensor.Ops.cs:558 \n",
      "  at OpenMined.Syft.Tensor.FloatTensor.ProcessMessage (OpenMined.Network.Utils.Command msgObj, OpenMined.Network.Controllers.SyftController ctrl) [0x00e4c] in /Users/yanndupis/Documents/Data_Science/Encrypted_DL/OpenMined/UnityProject/Assets/OpenMined/Syft/Tensor/FloatTensor.cs:365 \n",
      "  at OpenMined.Network.Controllers.SyftController.processMessage (System.String json_message, UnityEngine.MonoBehaviour owner) [0x002dd] in /Users/yanndupis/Documents/Data_Science/Encrypted_DL/OpenMined/UnityProject/Assets/OpenMined/Network/Controllers/SyftController.cs:231 \n"
     ]
    },
    {
     "name": "stderr",
     "output_type": "stream",
     "text": [
      "Exception ignored in: <object repr() failed>\n",
      "Traceback (most recent call last):\n",
      "  File \"/Users/yanndupis/anaconda2/envs/tflearn/lib/python3.5/site-packages/syft-0.1.0-py3.5.egg/syft/tensor.py\", line 544, in __del__\n",
      "  File \"/Users/yanndupis/anaconda2/envs/tflearn/lib/python3.5/site-packages/syft-0.1.0-py3.5.egg/syft/tensor.py\", line 1516, in delete_tensor\n",
      "  File \"/Users/yanndupis/anaconda2/envs/tflearn/lib/python3.5/site-packages/syft-0.1.0-py3.5.egg/syft/tensor.py\", line 1504, in no_params_func\n",
      "  File \"/Users/yanndupis/anaconda2/envs/tflearn/lib/python3.5/site-packages/syft-0.1.0-py3.5.egg/syft/tensor.py\", line 1486, in params_func\n",
      "  File \"/Users/yanndupis/anaconda2/envs/tflearn/lib/python3.5/site-packages/syft-0.1.0-py3.5.egg/syft/controller.py\", line 143, in send_json\n",
      "Exception: Unity Error: System.Collections.Generic.KeyNotFoundException: The given key was not present in the dictionary.\n",
      "  at System.ThrowHelper.ThrowKeyNotFoundException () [0x00000] in /Users/builduser/buildslave/mono/build/mcs/class/referencesource/mscorlib/system/throwhelper.cs:68 \n",
      "  at System.Collections.Generic.Dictionary`2[TKey,TValue].get_Item (TKey key) [0x0001e] in /Users/builduser/buildslave/mono/build/mcs/class/referencesource/mscorlib/system/collections/generic/dictionary.cs:183 \n",
      "  at OpenMined.Syft.Tensor.Factories.FloatTensorFactory.Get (System.Int32 id) [0x00008] in /Users/yanndupis/Documents/Data_Science/Encrypted_DL/OpenMined/UnityProject/Assets/OpenMined/Syft/Tensor/Factories/FloatTensorFactory.cs:24 \n",
      "  at OpenMined.Syft.Tensor.FloatTensor.Delete () [0x00048] in /Users/yanndupis/Documents/Data_Science/Encrypted_DL/OpenMined/UnityProject/Assets/OpenMined/Syft/Tensor/FloatTensor.Ops.cs:558 \n",
      "  at OpenMined.Syft.Tensor.FloatTensor.ProcessMessage (OpenMined.Network.Utils.Command msgObj, OpenMined.Network.Controllers.SyftController ctrl) [0x00e4c] in /Users/yanndupis/Documents/Data_Science/Encrypted_DL/OpenMined/UnityProject/Assets/OpenMined/Syft/Tensor/FloatTensor.cs:365 \n",
      "  at OpenMined.Network.Controllers.SyftController.processMessage (System.String json_message, UnityEngine.MonoBehaviour owner) [0x002dd] in /Users/yanndupis/Documents/Data_Science/Encrypted_DL/OpenMined/UnityProject/Assets/OpenMined/Network/Controllers/SyftController.cs:231 \n",
      "Exception ignored in: <object repr() failed>\n",
      "Traceback (most recent call last):\n",
      "  File \"/Users/yanndupis/anaconda2/envs/tflearn/lib/python3.5/site-packages/syft-0.1.0-py3.5.egg/syft/tensor.py\", line 544, in __del__\n",
      "  File \"/Users/yanndupis/anaconda2/envs/tflearn/lib/python3.5/site-packages/syft-0.1.0-py3.5.egg/syft/tensor.py\", line 1516, in delete_tensor\n",
      "  File \"/Users/yanndupis/anaconda2/envs/tflearn/lib/python3.5/site-packages/syft-0.1.0-py3.5.egg/syft/tensor.py\", line 1504, in no_params_func\n",
      "  File \"/Users/yanndupis/anaconda2/envs/tflearn/lib/python3.5/site-packages/syft-0.1.0-py3.5.egg/syft/tensor.py\", line 1486, in params_func\n",
      "  File \"/Users/yanndupis/anaconda2/envs/tflearn/lib/python3.5/site-packages/syft-0.1.0-py3.5.egg/syft/controller.py\", line 143, in send_json\n",
      "Exception: Unity Error: System.Collections.Generic.KeyNotFoundException: The given key was not present in the dictionary.\n",
      "  at System.ThrowHelper.ThrowKeyNotFoundException () [0x00000] in /Users/builduser/buildslave/mono/build/mcs/class/referencesource/mscorlib/system/throwhelper.cs:68 \n",
      "  at System.Collections.Generic.Dictionary`2[TKey,TValue].get_Item (TKey key) [0x0001e] in /Users/builduser/buildslave/mono/build/mcs/class/referencesource/mscorlib/system/collections/generic/dictionary.cs:183 \n",
      "  at OpenMined.Syft.Tensor.Factories.FloatTensorFactory.Get (System.Int32 id) [0x00008] in /Users/yanndupis/Documents/Data_Science/Encrypted_DL/OpenMined/UnityProject/Assets/OpenMined/Syft/Tensor/Factories/FloatTensorFactory.cs:24 \n",
      "  at OpenMined.Syft.Tensor.FloatTensor.Delete () [0x00048] in /Users/yanndupis/Documents/Data_Science/Encrypted_DL/OpenMined/UnityProject/Assets/OpenMined/Syft/Tensor/FloatTensor.Ops.cs:558 \n",
      "  at OpenMined.Syft.Tensor.FloatTensor.ProcessMessage (OpenMined.Network.Utils.Command msgObj, OpenMined.Network.Controllers.SyftController ctrl) [0x00e4c] in /Users/yanndupis/Documents/Data_Science/Encrypted_DL/OpenMined/UnityProject/Assets/OpenMined/Syft/Tensor/FloatTensor.cs:365 \n",
      "  at OpenMined.Network.Controllers.SyftController.processMessage (System.String json_message, UnityEngine.MonoBehaviour owner) [0x002dd] in /Users/yanndupis/Documents/Data_Science/Encrypted_DL/OpenMined/UnityProject/Assets/OpenMined/Network/Controllers/SyftController.cs:231 \n",
      "Exception ignored in: <object repr() failed>\n",
      "Traceback (most recent call last):\n",
      "  File \"/Users/yanndupis/anaconda2/envs/tflearn/lib/python3.5/site-packages/syft-0.1.0-py3.5.egg/syft/tensor.py\", line 544, in __del__\n",
      "  File \"/Users/yanndupis/anaconda2/envs/tflearn/lib/python3.5/site-packages/syft-0.1.0-py3.5.egg/syft/tensor.py\", line 1516, in delete_tensor\n",
      "  File \"/Users/yanndupis/anaconda2/envs/tflearn/lib/python3.5/site-packages/syft-0.1.0-py3.5.egg/syft/tensor.py\", line 1504, in no_params_func\n",
      "  File \"/Users/yanndupis/anaconda2/envs/tflearn/lib/python3.5/site-packages/syft-0.1.0-py3.5.egg/syft/tensor.py\", line 1486, in params_func\n",
      "  File \"/Users/yanndupis/anaconda2/envs/tflearn/lib/python3.5/site-packages/syft-0.1.0-py3.5.egg/syft/controller.py\", line 143, in send_json\n",
      "Exception: Unity Error: System.Collections.Generic.KeyNotFoundException: The given key was not present in the dictionary.\n",
      "  at System.ThrowHelper.ThrowKeyNotFoundException () [0x00000] in /Users/builduser/buildslave/mono/build/mcs/class/referencesource/mscorlib/system/throwhelper.cs:68 \n",
      "  at System.Collections.Generic.Dictionary`2[TKey,TValue].get_Item (TKey key) [0x0001e] in /Users/builduser/buildslave/mono/build/mcs/class/referencesource/mscorlib/system/collections/generic/dictionary.cs:183 \n",
      "  at OpenMined.Syft.Tensor.Factories.FloatTensorFactory.Get (System.Int32 id) [0x00008] in /Users/yanndupis/Documents/Data_Science/Encrypted_DL/OpenMined/UnityProject/Assets/OpenMined/Syft/Tensor/Factories/FloatTensorFactory.cs:24 \n",
      "  at OpenMined.Syft.Tensor.FloatTensor.Delete () [0x00048] in /Users/yanndupis/Documents/Data_Science/Encrypted_DL/OpenMined/UnityProject/Assets/OpenMined/Syft/Tensor/FloatTensor.Ops.cs:558 \n",
      "  at OpenMined.Syft.Tensor.FloatTensor.ProcessMessage (OpenMined.Network.Utils.Command msgObj, OpenMined.Network.Controllers.SyftController ctrl) [0x00e4c] in /Users/yanndupis/Documents/Data_Science/Encrypted_DL/OpenMined/UnityProject/Assets/OpenMined/Syft/Tensor/FloatTensor.cs:365 \n",
      "  at OpenMined.Network.Controllers.SyftController.processMessage (System.String json_message, UnityEngine.MonoBehaviour owner) [0x002dd] in /Users/yanndupis/Documents/Data_Science/Encrypted_DL/OpenMined/UnityProject/Assets/OpenMined/Network/Controllers/SyftController.cs:231 \n",
      "Exception ignored in: <object repr() failed>\n",
      "Traceback (most recent call last):\n",
      "  File \"/Users/yanndupis/anaconda2/envs/tflearn/lib/python3.5/site-packages/syft-0.1.0-py3.5.egg/syft/tensor.py\", line 544, in __del__\n",
      "  File \"/Users/yanndupis/anaconda2/envs/tflearn/lib/python3.5/site-packages/syft-0.1.0-py3.5.egg/syft/tensor.py\", line 1516, in delete_tensor\n",
      "  File \"/Users/yanndupis/anaconda2/envs/tflearn/lib/python3.5/site-packages/syft-0.1.0-py3.5.egg/syft/tensor.py\", line 1504, in no_params_func\n",
      "  File \"/Users/yanndupis/anaconda2/envs/tflearn/lib/python3.5/site-packages/syft-0.1.0-py3.5.egg/syft/tensor.py\", line 1486, in params_func\n",
      "  File \"/Users/yanndupis/anaconda2/envs/tflearn/lib/python3.5/site-packages/syft-0.1.0-py3.5.egg/syft/controller.py\", line 143, in send_json\n",
      "Exception: Unity Error: System.Collections.Generic.KeyNotFoundException: The given key was not present in the dictionary.\n",
      "  at System.ThrowHelper.ThrowKeyNotFoundException () [0x00000] in /Users/builduser/buildslave/mono/build/mcs/class/referencesource/mscorlib/system/throwhelper.cs:68 \n",
      "  at System.Collections.Generic.Dictionary`2[TKey,TValue].get_Item (TKey key) [0x0001e] in /Users/builduser/buildslave/mono/build/mcs/class/referencesource/mscorlib/system/collections/generic/dictionary.cs:183 \n",
      "  at OpenMined.Syft.Tensor.Factories.FloatTensorFactory.Get (System.Int32 id) [0x00008] in /Users/yanndupis/Documents/Data_Science/Encrypted_DL/OpenMined/UnityProject/Assets/OpenMined/Syft/Tensor/Factories/FloatTensorFactory.cs:24 \n",
      "  at OpenMined.Syft.Tensor.FloatTensor.Delete () [0x00048] in /Users/yanndupis/Documents/Data_Science/Encrypted_DL/OpenMined/UnityProject/Assets/OpenMined/Syft/Tensor/FloatTensor.Ops.cs:558 \n",
      "  at OpenMined.Syft.Tensor.FloatTensor.ProcessMessage (OpenMined.Network.Utils.Command msgObj, OpenMined.Network.Controllers.SyftController ctrl) [0x00e4c] in /Users/yanndupis/Documents/Data_Science/Encrypted_DL/OpenMined/UnityProject/Assets/OpenMined/Syft/Tensor/FloatTensor.cs:365 \n",
      "  at OpenMined.Network.Controllers.SyftController.processMessage (System.String json_message, UnityEngine.MonoBehaviour owner) [0x002dd] in /Users/yanndupis/Documents/Data_Science/Encrypted_DL/OpenMined/UnityProject/Assets/OpenMined/Network/Controllers/SyftController.cs:231 \n"
     ]
    },
    {
     "name": "stderr",
     "output_type": "stream",
     "text": [
      "Exception ignored in: <object repr() failed>\n",
      "Traceback (most recent call last):\n",
      "  File \"/Users/yanndupis/anaconda2/envs/tflearn/lib/python3.5/site-packages/syft-0.1.0-py3.5.egg/syft/tensor.py\", line 544, in __del__\n",
      "  File \"/Users/yanndupis/anaconda2/envs/tflearn/lib/python3.5/site-packages/syft-0.1.0-py3.5.egg/syft/tensor.py\", line 1516, in delete_tensor\n",
      "  File \"/Users/yanndupis/anaconda2/envs/tflearn/lib/python3.5/site-packages/syft-0.1.0-py3.5.egg/syft/tensor.py\", line 1504, in no_params_func\n",
      "  File \"/Users/yanndupis/anaconda2/envs/tflearn/lib/python3.5/site-packages/syft-0.1.0-py3.5.egg/syft/tensor.py\", line 1486, in params_func\n",
      "  File \"/Users/yanndupis/anaconda2/envs/tflearn/lib/python3.5/site-packages/syft-0.1.0-py3.5.egg/syft/controller.py\", line 143, in send_json\n",
      "Exception: Unity Error: System.Collections.Generic.KeyNotFoundException: The given key was not present in the dictionary.\n",
      "  at System.ThrowHelper.ThrowKeyNotFoundException () [0x00000] in /Users/builduser/buildslave/mono/build/mcs/class/referencesource/mscorlib/system/throwhelper.cs:68 \n",
      "  at System.Collections.Generic.Dictionary`2[TKey,TValue].get_Item (TKey key) [0x0001e] in /Users/builduser/buildslave/mono/build/mcs/class/referencesource/mscorlib/system/collections/generic/dictionary.cs:183 \n",
      "  at OpenMined.Syft.Tensor.Factories.FloatTensorFactory.Get (System.Int32 id) [0x00008] in /Users/yanndupis/Documents/Data_Science/Encrypted_DL/OpenMined/UnityProject/Assets/OpenMined/Syft/Tensor/Factories/FloatTensorFactory.cs:24 \n",
      "  at OpenMined.Syft.Tensor.FloatTensor.Delete () [0x00048] in /Users/yanndupis/Documents/Data_Science/Encrypted_DL/OpenMined/UnityProject/Assets/OpenMined/Syft/Tensor/FloatTensor.Ops.cs:558 \n",
      "  at OpenMined.Syft.Tensor.FloatTensor.ProcessMessage (OpenMined.Network.Utils.Command msgObj, OpenMined.Network.Controllers.SyftController ctrl) [0x00e4c] in /Users/yanndupis/Documents/Data_Science/Encrypted_DL/OpenMined/UnityProject/Assets/OpenMined/Syft/Tensor/FloatTensor.cs:365 \n",
      "  at OpenMined.Network.Controllers.SyftController.processMessage (System.String json_message, UnityEngine.MonoBehaviour owner) [0x002dd] in /Users/yanndupis/Documents/Data_Science/Encrypted_DL/OpenMined/UnityProject/Assets/OpenMined/Network/Controllers/SyftController.cs:231 \n"
     ]
    },
    {
     "name": "stdout",
     "output_type": "stream",
     "text": [
      "Number of Batches:1\n"
     ]
    },
    {
     "data": {
      "application/vnd.jupyter.widget-view+json": {
       "model_id": "91a747385f4b4e20844b68c5ed22ac76"
      }
     },
     "metadata": {},
     "output_type": "display_data"
    },
    {
     "data": {
      "application/vnd.jupyter.widget-view+json": {
       "model_id": "d5dd33782b4a4339809421ca4baa090a"
      }
     },
     "metadata": {},
     "output_type": "display_data"
    },
    {
     "name": "stderr",
     "output_type": "stream",
     "text": [
      "Exception ignored in: <bound method FloatTensor.__del__ of [ 0.01475058]\n",
      "[syft.FloatTensor:251 grad:None size:1 c:[] p:[221] init:max_-1_False]\n",
      "\n",
      "\t-----------creators-----------\n",
      "\t[syft.FloatTensor:221 grad:None size:1x3 c:[251] p:[218, 220] init:add_elem]\n",
      "\t------------------------------\n",
      "\n",
      "\n",
      ">\n",
      "Traceback (most recent call last):\n",
      "  File \"/Users/yanndupis/anaconda2/envs/tflearn/lib/python3.5/site-packages/syft-0.1.0-py3.5.egg/syft/tensor.py\", line 544, in __del__\n",
      "TypeError: 'bool' object is not callable\n",
      "Exception ignored in: "
     ]
    },
    {
     "name": "stdout",
     "output_type": "stream",
     "text": [
      "Number of Batches:1\n"
     ]
    },
    {
     "name": "stderr",
     "output_type": "stream",
     "text": [
      "<object repr() failed>\n",
      "Traceback (most recent call last):\n",
      "  File \"/Users/yanndupis/anaconda2/envs/tflearn/lib/python3.5/site-packages/syft-0.1.0-py3.5.egg/syft/tensor.py\", line 544, in __del__\n",
      "  File \"/Users/yanndupis/anaconda2/envs/tflearn/lib/python3.5/site-packages/syft-0.1.0-py3.5.egg/syft/tensor.py\", line 1516, in delete_tensor\n",
      "  File \"/Users/yanndupis/anaconda2/envs/tflearn/lib/python3.5/site-packages/syft-0.1.0-py3.5.egg/syft/tensor.py\", line 1504, in no_params_func\n",
      "  File \"/Users/yanndupis/anaconda2/envs/tflearn/lib/python3.5/site-packages/syft-0.1.0-py3.5.egg/syft/tensor.py\", line 1486, in params_func\n",
      "  File \"/Users/yanndupis/anaconda2/envs/tflearn/lib/python3.5/site-packages/syft-0.1.0-py3.5.egg/syft/controller.py\", line 143, in send_json\n",
      "Exception: Unity Error: System.Collections.Generic.KeyNotFoundException: The given key was not present in the dictionary.\n",
      "  at System.ThrowHelper.ThrowKeyNotFoundException () [0x00000] in /Users/builduser/buildslave/mono/build/mcs/class/referencesource/mscorlib/system/throwhelper.cs:68 \n",
      "  at System.Collections.Generic.Dictionary`2[TKey,TValue].get_Item (TKey key) [0x0001e] in /Users/builduser/buildslave/mono/build/mcs/class/referencesource/mscorlib/system/collections/generic/dictionary.cs:183 \n",
      "  at OpenMined.Syft.Tensor.Factories.FloatTensorFactory.Get (System.Int32 id) [0x00008] in /Users/yanndupis/Documents/Data_Science/Encrypted_DL/OpenMined/UnityProject/Assets/OpenMined/Syft/Tensor/Factories/FloatTensorFactory.cs:24 \n",
      "  at OpenMined.Syft.Tensor.FloatTensor.Delete () [0x00048] in /Users/yanndupis/Documents/Data_Science/Encrypted_DL/OpenMined/UnityProject/Assets/OpenMined/Syft/Tensor/FloatTensor.Ops.cs:558 \n",
      "  at OpenMined.Syft.Tensor.FloatTensor.ProcessMessage (OpenMined.Network.Utils.Command msgObj, OpenMined.Network.Controllers.SyftController ctrl) [0x00e4c] in /Users/yanndupis/Documents/Data_Science/Encrypted_DL/OpenMined/UnityProject/Assets/OpenMined/Syft/Tensor/FloatTensor.cs:365 \n",
      "  at OpenMined.Network.Controllers.SyftController.processMessage (System.String json_message, UnityEngine.MonoBehaviour owner) [0x002dd] in /Users/yanndupis/Documents/Data_Science/Encrypted_DL/OpenMined/UnityProject/Assets/OpenMined/Network/Controllers/SyftController.cs:231 \n"
     ]
    },
    {
     "data": {
      "application/vnd.jupyter.widget-view+json": {
       "model_id": "881b8b728d8d416a99811be15ecca149"
      }
     },
     "metadata": {},
     "output_type": "display_data"
    },
    {
     "data": {
      "application/vnd.jupyter.widget-view+json": {
       "model_id": "16772d972b034214bf23ed112e6b6965"
      }
     },
     "metadata": {},
     "output_type": "display_data"
    },
    {
     "name": "stderr",
     "output_type": "stream",
     "text": [
      "Exception ignored in: <bound method FloatTensor.__del__ of [ 0.01596209]\n",
      "[syft.FloatTensor:476 grad:None size:1 c:[] p:[475] init:max_-1_False]\n",
      "\n",
      "\t-----------creators-----------\n",
      "\t[syft.FloatTensor:475 grad:None size:1x3 c:[476] p:[474, 220] init:add_elem]\n",
      "\t------------------------------\n",
      "\n",
      "\n",
      ">\n",
      "Traceback (most recent call last):\n",
      "  File \"/Users/yanndupis/anaconda2/envs/tflearn/lib/python3.5/site-packages/syft-0.1.0-py3.5.egg/syft/tensor.py\", line 544, in __del__\n",
      "TypeError: 'bool' object is not callable\n",
      "Exception ignored in: "
     ]
    },
    {
     "name": "stdout",
     "output_type": "stream",
     "text": [
      "Number of Batches:1\n"
     ]
    },
    {
     "name": "stderr",
     "output_type": "stream",
     "text": [
      "<object repr() failed>\n",
      "Traceback (most recent call last):\n",
      "  File \"/Users/yanndupis/anaconda2/envs/tflearn/lib/python3.5/site-packages/syft-0.1.0-py3.5.egg/syft/tensor.py\", line 544, in __del__\n",
      "  File \"/Users/yanndupis/anaconda2/envs/tflearn/lib/python3.5/site-packages/syft-0.1.0-py3.5.egg/syft/tensor.py\", line 1516, in delete_tensor\n",
      "  File \"/Users/yanndupis/anaconda2/envs/tflearn/lib/python3.5/site-packages/syft-0.1.0-py3.5.egg/syft/tensor.py\", line 1504, in no_params_func\n",
      "  File \"/Users/yanndupis/anaconda2/envs/tflearn/lib/python3.5/site-packages/syft-0.1.0-py3.5.egg/syft/tensor.py\", line 1486, in params_func\n",
      "  File \"/Users/yanndupis/anaconda2/envs/tflearn/lib/python3.5/site-packages/syft-0.1.0-py3.5.egg/syft/controller.py\", line 143, in send_json\n",
      "Exception: Unity Error: System.Collections.Generic.KeyNotFoundException: The given key was not present in the dictionary.\n",
      "  at System.ThrowHelper.ThrowKeyNotFoundException () [0x00000] in /Users/builduser/buildslave/mono/build/mcs/class/referencesource/mscorlib/system/throwhelper.cs:68 \n",
      "  at System.Collections.Generic.Dictionary`2[TKey,TValue].get_Item (TKey key) [0x0001e] in /Users/builduser/buildslave/mono/build/mcs/class/referencesource/mscorlib/system/collections/generic/dictionary.cs:183 \n",
      "  at OpenMined.Syft.Tensor.Factories.FloatTensorFactory.Get (System.Int32 id) [0x00008] in /Users/yanndupis/Documents/Data_Science/Encrypted_DL/OpenMined/UnityProject/Assets/OpenMined/Syft/Tensor/Factories/FloatTensorFactory.cs:24 \n",
      "  at OpenMined.Syft.Tensor.FloatTensor.Delete () [0x00048] in /Users/yanndupis/Documents/Data_Science/Encrypted_DL/OpenMined/UnityProject/Assets/OpenMined/Syft/Tensor/FloatTensor.Ops.cs:558 \n",
      "  at OpenMined.Syft.Tensor.FloatTensor.ProcessMessage (OpenMined.Network.Utils.Command msgObj, OpenMined.Network.Controllers.SyftController ctrl) [0x00e4c] in /Users/yanndupis/Documents/Data_Science/Encrypted_DL/OpenMined/UnityProject/Assets/OpenMined/Syft/Tensor/FloatTensor.cs:365 \n",
      "  at OpenMined.Network.Controllers.SyftController.processMessage (System.String json_message, UnityEngine.MonoBehaviour owner) [0x002dd] in /Users/yanndupis/Documents/Data_Science/Encrypted_DL/OpenMined/UnityProject/Assets/OpenMined/Network/Controllers/SyftController.cs:231 \n"
     ]
    },
    {
     "data": {
      "application/vnd.jupyter.widget-view+json": {
       "model_id": "6a6e57e1986c44f2accb24ca7ad83477"
      }
     },
     "metadata": {},
     "output_type": "display_data"
    },
    {
     "data": {
      "application/vnd.jupyter.widget-view+json": {
       "model_id": "e7cadb1862b44323979be3d6a848db1b"
      }
     },
     "metadata": {},
     "output_type": "display_data"
    },
    {
     "name": "stderr",
     "output_type": "stream",
     "text": [
      "Exception ignored in: <bound method FloatTensor.__del__ of [ 0.0144137]\n",
      "[syft.FloatTensor:802 grad:None size:1 c:[] p:[801] init:max_-1_False]\n",
      "\n",
      "\t-----------creators-----------\n",
      "\t[syft.FloatTensor:801 grad:None size:1x3 c:[802] p:[800, 220] init:add_elem]\n",
      "\t------------------------------\n",
      "\n",
      "\n",
      ">\n",
      "Traceback (most recent call last):\n",
      "  File \"/Users/yanndupis/anaconda2/envs/tflearn/lib/python3.5/site-packages/syft-0.1.0-py3.5.egg/syft/tensor.py\", line 544, in __del__\n",
      "TypeError: 'bool' object is not callable\n",
      "Exception ignored in: "
     ]
    },
    {
     "name": "stdout",
     "output_type": "stream",
     "text": [
      "Number of Batches:1\n"
     ]
    },
    {
     "name": "stderr",
     "output_type": "stream",
     "text": [
      "<object repr() failed>\n",
      "Traceback (most recent call last):\n",
      "  File \"/Users/yanndupis/anaconda2/envs/tflearn/lib/python3.5/site-packages/syft-0.1.0-py3.5.egg/syft/tensor.py\", line 544, in __del__\n",
      "  File \"/Users/yanndupis/anaconda2/envs/tflearn/lib/python3.5/site-packages/syft-0.1.0-py3.5.egg/syft/tensor.py\", line 1516, in delete_tensor\n",
      "  File \"/Users/yanndupis/anaconda2/envs/tflearn/lib/python3.5/site-packages/syft-0.1.0-py3.5.egg/syft/tensor.py\", line 1504, in no_params_func\n",
      "  File \"/Users/yanndupis/anaconda2/envs/tflearn/lib/python3.5/site-packages/syft-0.1.0-py3.5.egg/syft/tensor.py\", line 1486, in params_func\n",
      "  File \"/Users/yanndupis/anaconda2/envs/tflearn/lib/python3.5/site-packages/syft-0.1.0-py3.5.egg/syft/controller.py\", line 143, in send_json\n",
      "Exception: Unity Error: System.Collections.Generic.KeyNotFoundException: The given key was not present in the dictionary.\n",
      "  at System.ThrowHelper.ThrowKeyNotFoundException () [0x00000] in /Users/builduser/buildslave/mono/build/mcs/class/referencesource/mscorlib/system/throwhelper.cs:68 \n",
      "  at System.Collections.Generic.Dictionary`2[TKey,TValue].get_Item (TKey key) [0x0001e] in /Users/builduser/buildslave/mono/build/mcs/class/referencesource/mscorlib/system/collections/generic/dictionary.cs:183 \n",
      "  at OpenMined.Syft.Tensor.Factories.FloatTensorFactory.Get (System.Int32 id) [0x00008] in /Users/yanndupis/Documents/Data_Science/Encrypted_DL/OpenMined/UnityProject/Assets/OpenMined/Syft/Tensor/Factories/FloatTensorFactory.cs:24 \n",
      "  at OpenMined.Syft.Tensor.FloatTensor.Delete () [0x00048] in /Users/yanndupis/Documents/Data_Science/Encrypted_DL/OpenMined/UnityProject/Assets/OpenMined/Syft/Tensor/FloatTensor.Ops.cs:558 \n",
      "  at OpenMined.Syft.Tensor.FloatTensor.ProcessMessage (OpenMined.Network.Utils.Command msgObj, OpenMined.Network.Controllers.SyftController ctrl) [0x00e4c] in /Users/yanndupis/Documents/Data_Science/Encrypted_DL/OpenMined/UnityProject/Assets/OpenMined/Syft/Tensor/FloatTensor.cs:365 \n",
      "  at OpenMined.Network.Controllers.SyftController.processMessage (System.String json_message, UnityEngine.MonoBehaviour owner) [0x002dd] in /Users/yanndupis/Documents/Data_Science/Encrypted_DL/OpenMined/UnityProject/Assets/OpenMined/Network/Controllers/SyftController.cs:231 \n"
     ]
    },
    {
     "data": {
      "application/vnd.jupyter.widget-view+json": {
       "model_id": "60afc5643b48404e820d4c3201a8ec4e"
      }
     },
     "metadata": {},
     "output_type": "display_data"
    },
    {
     "data": {
      "application/vnd.jupyter.widget-view+json": {
       "model_id": "e6442b0e984d4ab1b762e2d58561b587"
      }
     },
     "metadata": {},
     "output_type": "display_data"
    },
    {
     "name": "stderr",
     "output_type": "stream",
     "text": [
      "Exception ignored in: <bound method FloatTensor.__del__ of [ 0.01456962]\n",
      "[syft.FloatTensor:820 grad:None size:1 c:[] p:[819] init:max_-1_False]\n",
      "\n",
      "\t-----------creators-----------\n",
      "\t[syft.FloatTensor:819 grad:None size:1x3 c:[820] p:[818, 220] init:add_elem]\n",
      "\t------------------------------\n",
      "\n",
      "\n",
      ">\n",
      "Traceback (most recent call last):\n",
      "  File \"/Users/yanndupis/anaconda2/envs/tflearn/lib/python3.5/site-packages/syft-0.1.0-py3.5.egg/syft/tensor.py\", line 544, in __del__\n",
      "TypeError: 'bool' object is not callable\n",
      "Exception ignored in: "
     ]
    },
    {
     "name": "stdout",
     "output_type": "stream",
     "text": [
      "Number of Batches:1\n"
     ]
    },
    {
     "name": "stderr",
     "output_type": "stream",
     "text": [
      "<object repr() failed>\n",
      "Traceback (most recent call last):\n",
      "  File \"/Users/yanndupis/anaconda2/envs/tflearn/lib/python3.5/site-packages/syft-0.1.0-py3.5.egg/syft/tensor.py\", line 544, in __del__\n",
      "  File \"/Users/yanndupis/anaconda2/envs/tflearn/lib/python3.5/site-packages/syft-0.1.0-py3.5.egg/syft/tensor.py\", line 1516, in delete_tensor\n",
      "  File \"/Users/yanndupis/anaconda2/envs/tflearn/lib/python3.5/site-packages/syft-0.1.0-py3.5.egg/syft/tensor.py\", line 1504, in no_params_func\n",
      "  File \"/Users/yanndupis/anaconda2/envs/tflearn/lib/python3.5/site-packages/syft-0.1.0-py3.5.egg/syft/tensor.py\", line 1486, in params_func\n",
      "  File \"/Users/yanndupis/anaconda2/envs/tflearn/lib/python3.5/site-packages/syft-0.1.0-py3.5.egg/syft/controller.py\", line 143, in send_json\n",
      "Exception: Unity Error: System.Collections.Generic.KeyNotFoundException: The given key was not present in the dictionary.\n",
      "  at System.ThrowHelper.ThrowKeyNotFoundException () [0x00000] in /Users/builduser/buildslave/mono/build/mcs/class/referencesource/mscorlib/system/throwhelper.cs:68 \n",
      "  at System.Collections.Generic.Dictionary`2[TKey,TValue].get_Item (TKey key) [0x0001e] in /Users/builduser/buildslave/mono/build/mcs/class/referencesource/mscorlib/system/collections/generic/dictionary.cs:183 \n",
      "  at OpenMined.Syft.Tensor.Factories.FloatTensorFactory.Get (System.Int32 id) [0x00008] in /Users/yanndupis/Documents/Data_Science/Encrypted_DL/OpenMined/UnityProject/Assets/OpenMined/Syft/Tensor/Factories/FloatTensorFactory.cs:24 \n",
      "  at OpenMined.Syft.Tensor.FloatTensor.Delete () [0x00048] in /Users/yanndupis/Documents/Data_Science/Encrypted_DL/OpenMined/UnityProject/Assets/OpenMined/Syft/Tensor/FloatTensor.Ops.cs:558 \n",
      "  at OpenMined.Syft.Tensor.FloatTensor.ProcessMessage (OpenMined.Network.Utils.Command msgObj, OpenMined.Network.Controllers.SyftController ctrl) [0x00e4c] in /Users/yanndupis/Documents/Data_Science/Encrypted_DL/OpenMined/UnityProject/Assets/OpenMined/Syft/Tensor/FloatTensor.cs:365 \n",
      "  at OpenMined.Network.Controllers.SyftController.processMessage (System.String json_message, UnityEngine.MonoBehaviour owner) [0x002dd] in /Users/yanndupis/Documents/Data_Science/Encrypted_DL/OpenMined/UnityProject/Assets/OpenMined/Network/Controllers/SyftController.cs:231 \n"
     ]
    },
    {
     "data": {
      "application/vnd.jupyter.widget-view+json": {
       "model_id": "4caa42685d6e453ca52f003252b057d9"
      }
     },
     "metadata": {},
     "output_type": "display_data"
    },
    {
     "data": {
      "application/vnd.jupyter.widget-view+json": {
       "model_id": "38da325cb8db45b8b688b24d3a137fb8"
      }
     },
     "metadata": {},
     "output_type": "display_data"
    },
    {
     "name": "stderr",
     "output_type": "stream",
     "text": [
      "Exception ignored in: <bound method FloatTensor.__del__ of [ 0.01588036]\n",
      "[syft.FloatTensor:731 grad:None size:1 c:[] p:[730] init:max_-1_False]\n",
      "\n",
      "\t-----------creators-----------\n",
      "\t[syft.FloatTensor:730 grad:None size:1x3 c:[731] p:[729, 220] init:add_elem]\n",
      "\t------------------------------\n",
      "\n",
      "\n",
      ">\n",
      "Traceback (most recent call last):\n",
      "  File \"/Users/yanndupis/anaconda2/envs/tflearn/lib/python3.5/site-packages/syft-0.1.0-py3.5.egg/syft/tensor.py\", line 544, in __del__\n",
      "TypeError: 'bool' object is not callable\n",
      "Exception ignored in: <object repr() failed>\n",
      "Traceback (most recent call last):\n",
      "  File \"/Users/yanndupis/anaconda2/envs/tflearn/lib/python3.5/site-packages/syft-0.1.0-py3.5.egg/syft/tensor.py\", line 544, in __del__\n",
      "  File \"/Users/yanndupis/anaconda2/envs/tflearn/lib/python3.5/site-packages/syft-0.1.0-py3.5.egg/syft/tensor.py\", line 1516, in delete_tensor\n",
      "  File \"/Users/yanndupis/anaconda2/envs/tflearn/lib/python3.5/site-packages/syft-0.1.0-py3.5.egg/syft/tensor.py\", line 1504, in no_params_func\n",
      "  File \"/Users/yanndupis/anaconda2/envs/tflearn/lib/python3.5/site-packages/syft-0.1.0-py3.5.egg/syft/tensor.py\", line 1486, in params_func\n",
      "  File \"/Users/yanndupis/anaconda2/envs/tflearn/lib/python3.5/site-packages/syft-0.1.0-py3.5.egg/syft/controller.py\", line 143, in send_json\n",
      "Exception: Unity Error: System.Collections.Generic.KeyNotFoundException: The given key was not present in the dictionary.\n",
      "  at System.ThrowHelper.ThrowKeyNotFoundException () [0x00000] in /Users/builduser/buildslave/mono/build/mcs/class/referencesource/mscorlib/system/throwhelper.cs:68 \n",
      "  at System.Collections.Generic.Dictionary`2[TKey,TValue].get_Item (TKey key) [0x0001e] in /Users/builduser/buildslave/mono/build/mcs/class/referencesource/mscorlib/system/collections/generic/dictionary.cs:183 \n",
      "  at OpenMined.Syft.Tensor.Factories.FloatTensorFactory.Get (System.Int32 id) [0x00008] in /Users/yanndupis/Documents/Data_Science/Encrypted_DL/OpenMined/UnityProject/Assets/OpenMined/Syft/Tensor/Factories/FloatTensorFactory.cs:24 \n",
      "  at OpenMined.Syft.Tensor.FloatTensor.Delete () [0x00048] in /Users/yanndupis/Documents/Data_Science/Encrypted_DL/OpenMined/UnityProject/Assets/OpenMined/Syft/Tensor/FloatTensor.Ops.cs:558 \n",
      "  at OpenMined.Syft.Tensor.FloatTensor.ProcessMessage (OpenMined.Network.Utils.Command msgObj, OpenMined.Network.Controllers.SyftController ctrl) [0x00e4c] in /Users/yanndupis/Documents/Data_Science/Encrypted_DL/OpenMined/UnityProject/Assets/OpenMined/Syft/Tensor/FloatTensor.cs:365 \n",
      "  at OpenMined.Network.Controllers.SyftController.processMessage (System.String json_message, UnityEngine.MonoBehaviour owner) [0x002dd] in /Users/yanndupis/Documents/Data_Science/Encrypted_DL/OpenMined/UnityProject/Assets/OpenMined/Network/Controllers/SyftController.cs:231 \n",
      "Exception ignored in: <object repr() failed>\n",
      "Traceback (most recent call last):\n",
      "  File \"/Users/yanndupis/anaconda2/envs/tflearn/lib/python3.5/site-packages/syft-0.1.0-py3.5.egg/syft/tensor.py\", line 544, in __del__\n",
      "  File \"/Users/yanndupis/anaconda2/envs/tflearn/lib/python3.5/site-packages/syft-0.1.0-py3.5.egg/syft/tensor.py\", line 1516, in delete_tensor\n",
      "  File \"/Users/yanndupis/anaconda2/envs/tflearn/lib/python3.5/site-packages/syft-0.1.0-py3.5.egg/syft/tensor.py\", line 1504, in no_params_func\n",
      "  File \"/Users/yanndupis/anaconda2/envs/tflearn/lib/python3.5/site-packages/syft-0.1.0-py3.5.egg/syft/tensor.py\", line 1486, in params_func\n",
      "  File \"/Users/yanndupis/anaconda2/envs/tflearn/lib/python3.5/site-packages/syft-0.1.0-py3.5.egg/syft/controller.py\", line 143, in send_json\n",
      "Exception: Unity Error: System.Collections.Generic.KeyNotFoundException: The given key was not present in the dictionary.\n",
      "  at System.ThrowHelper.ThrowKeyNotFoundException () [0x00000] in /Users/builduser/buildslave/mono/build/mcs/class/referencesource/mscorlib/system/throwhelper.cs:68 \n",
      "  at System.Collections.Generic.Dictionary`2[TKey,TValue].get_Item (TKey key) [0x0001e] in /Users/builduser/buildslave/mono/build/mcs/class/referencesource/mscorlib/system/collections/generic/dictionary.cs:183 \n",
      "  at OpenMined.Syft.Tensor.Factories.FloatTensorFactory.Get (System.Int32 id) [0x00008] in /Users/yanndupis/Documents/Data_Science/Encrypted_DL/OpenMined/UnityProject/Assets/OpenMined/Syft/Tensor/Factories/FloatTensorFactory.cs:24 \n",
      "  at OpenMined.Syft.Tensor.FloatTensor.Delete () [0x00048] in /Users/yanndupis/Documents/Data_Science/Encrypted_DL/OpenMined/UnityProject/Assets/OpenMined/Syft/Tensor/FloatTensor.Ops.cs:558 \n",
      "  at OpenMined.Syft.Tensor.FloatTensor.ProcessMessage (OpenMined.Network.Utils.Command msgObj, OpenMined.Network.Controllers.SyftController ctrl) [0x00e4c] in /Users/yanndupis/Documents/Data_Science/Encrypted_DL/OpenMined/UnityProject/Assets/OpenMined/Syft/Tensor/FloatTensor.cs:365 \n",
      "  at OpenMined.Network.Controllers.SyftController.processMessage (System.String json_message, UnityEngine.MonoBehaviour owner) [0x002dd] in /Users/yanndupis/Documents/Data_Science/Encrypted_DL/OpenMined/UnityProject/Assets/OpenMined/Network/Controllers/SyftController.cs:231 \n",
      "Exception ignored in: <object repr() failed>\n",
      "Traceback (most recent call last):\n",
      "  File \"/Users/yanndupis/anaconda2/envs/tflearn/lib/python3.5/site-packages/syft-0.1.0-py3.5.egg/syft/tensor.py\", line 544, in __del__\n",
      "  File \"/Users/yanndupis/anaconda2/envs/tflearn/lib/python3.5/site-packages/syft-0.1.0-py3.5.egg/syft/tensor.py\", line 1516, in delete_tensor\n",
      "  File \"/Users/yanndupis/anaconda2/envs/tflearn/lib/python3.5/site-packages/syft-0.1.0-py3.5.egg/syft/tensor.py\", line 1504, in no_params_func\n",
      "  File \"/Users/yanndupis/anaconda2/envs/tflearn/lib/python3.5/site-packages/syft-0.1.0-py3.5.egg/syft/tensor.py\", line 1486, in params_func\n",
      "  File \"/Users/yanndupis/anaconda2/envs/tflearn/lib/python3.5/site-packages/syft-0.1.0-py3.5.egg/syft/controller.py\", line 143, in send_json\n",
      "Exception: Unity Error: System.Collections.Generic.KeyNotFoundException: The given key was not present in the dictionary.\n",
      "  at System.ThrowHelper.ThrowKeyNotFoundException () [0x00000] in /Users/builduser/buildslave/mono/build/mcs/class/referencesource/mscorlib/system/throwhelper.cs:68 \n",
      "  at System.Collections.Generic.Dictionary`2[TKey,TValue].get_Item (TKey key) [0x0001e] in /Users/builduser/buildslave/mono/build/mcs/class/referencesource/mscorlib/system/collections/generic/dictionary.cs:183 \n",
      "  at OpenMined.Syft.Tensor.Factories.FloatTensorFactory.Get (System.Int32 id) [0x00008] in /Users/yanndupis/Documents/Data_Science/Encrypted_DL/OpenMined/UnityProject/Assets/OpenMined/Syft/Tensor/Factories/FloatTensorFactory.cs:24 \n",
      "  at OpenMined.Syft.Tensor.FloatTensor.Delete () [0x00048] in /Users/yanndupis/Documents/Data_Science/Encrypted_DL/OpenMined/UnityProject/Assets/OpenMined/Syft/Tensor/FloatTensor.Ops.cs:558 \n",
      "  at OpenMined.Syft.Tensor.FloatTensor.ProcessMessage (OpenMined.Network.Utils.Command msgObj, OpenMined.Network.Controllers.SyftController ctrl) [0x00e4c] in /Users/yanndupis/Documents/Data_Science/Encrypted_DL/OpenMined/UnityProject/Assets/OpenMined/Syft/Tensor/FloatTensor.cs:365 \n",
      "  at OpenMined.Network.Controllers.SyftController.processMessage (System.String json_message, UnityEngine.MonoBehaviour owner) [0x002dd] in /Users/yanndupis/Documents/Data_Science/Encrypted_DL/OpenMined/UnityProject/Assets/OpenMined/Network/Controllers/SyftController.cs:231 \n",
      "Exception ignored in: <object repr() failed>\n",
      "Traceback (most recent call last):\n",
      "  File \"/Users/yanndupis/anaconda2/envs/tflearn/lib/python3.5/site-packages/syft-0.1.0-py3.5.egg/syft/tensor.py\", line 544, in __del__\n",
      "  File \"/Users/yanndupis/anaconda2/envs/tflearn/lib/python3.5/site-packages/syft-0.1.0-py3.5.egg/syft/tensor.py\", line 1516, in delete_tensor\n",
      "  File \"/Users/yanndupis/anaconda2/envs/tflearn/lib/python3.5/site-packages/syft-0.1.0-py3.5.egg/syft/tensor.py\", line 1504, in no_params_func\n",
      "  File \"/Users/yanndupis/anaconda2/envs/tflearn/lib/python3.5/site-packages/syft-0.1.0-py3.5.egg/syft/tensor.py\", line 1486, in params_func\n",
      "  File \"/Users/yanndupis/anaconda2/envs/tflearn/lib/python3.5/site-packages/syft-0.1.0-py3.5.egg/syft/controller.py\", line 143, in send_json\n",
      "Exception: Unity Error: System.Collections.Generic.KeyNotFoundException: The given key was not present in the dictionary.\n",
      "  at System.ThrowHelper.ThrowKeyNotFoundException () [0x00000] in /Users/builduser/buildslave/mono/build/mcs/class/referencesource/mscorlib/system/throwhelper.cs:68 \n",
      "  at System.Collections.Generic.Dictionary`2[TKey,TValue].get_Item (TKey key) [0x0001e] in /Users/builduser/buildslave/mono/build/mcs/class/referencesource/mscorlib/system/collections/generic/dictionary.cs:183 \n",
      "  at OpenMined.Syft.Tensor.Factories.FloatTensorFactory.Get (System.Int32 id) [0x00008] in /Users/yanndupis/Documents/Data_Science/Encrypted_DL/OpenMined/UnityProject/Assets/OpenMined/Syft/Tensor/Factories/FloatTensorFactory.cs:24 \n",
      "  at OpenMined.Syft.Tensor.FloatTensor.Delete () [0x00048] in /Users/yanndupis/Documents/Data_Science/Encrypted_DL/OpenMined/UnityProject/Assets/OpenMined/Syft/Tensor/FloatTensor.Ops.cs:558 \n",
      "  at OpenMined.Syft.Tensor.FloatTensor.ProcessMessage (OpenMined.Network.Utils.Command msgObj, OpenMined.Network.Controllers.SyftController ctrl) [0x00e4c] in /Users/yanndupis/Documents/Data_Science/Encrypted_DL/OpenMined/UnityProject/Assets/OpenMined/Syft/Tensor/FloatTensor.cs:365 \n",
      "  at OpenMined.Network.Controllers.SyftController.processMessage (System.String json_message, UnityEngine.MonoBehaviour owner) [0x002dd] in /Users/yanndupis/Documents/Data_Science/Encrypted_DL/OpenMined/UnityProject/Assets/OpenMined/Network/Controllers/SyftController.cs:231 \n",
      "Exception ignored in: <object repr() failed>\n",
      "Traceback (most recent call last):\n",
      "  File \"/Users/yanndupis/anaconda2/envs/tflearn/lib/python3.5/site-packages/syft-0.1.0-py3.5.egg/syft/tensor.py\", line 544, in __del__\n",
      "  File \"/Users/yanndupis/anaconda2/envs/tflearn/lib/python3.5/site-packages/syft-0.1.0-py3.5.egg/syft/tensor.py\", line 1516, in delete_tensor\n",
      "  File \"/Users/yanndupis/anaconda2/envs/tflearn/lib/python3.5/site-packages/syft-0.1.0-py3.5.egg/syft/tensor.py\", line 1504, in no_params_func\n",
      "  File \"/Users/yanndupis/anaconda2/envs/tflearn/lib/python3.5/site-packages/syft-0.1.0-py3.5.egg/syft/tensor.py\", line 1486, in params_func\n",
      "  File \"/Users/yanndupis/anaconda2/envs/tflearn/lib/python3.5/site-packages/syft-0.1.0-py3.5.egg/syft/controller.py\", line 143, in send_json\n",
      "Exception: Unity Error: System.Collections.Generic.KeyNotFoundException: The given key was not present in the dictionary.\n",
      "  at System.ThrowHelper.ThrowKeyNotFoundException () [0x00000] in /Users/builduser/buildslave/mono/build/mcs/class/referencesource/mscorlib/system/throwhelper.cs:68 \n",
      "  at System.Collections.Generic.Dictionary`2[TKey,TValue].get_Item (TKey key) [0x0001e] in /Users/builduser/buildslave/mono/build/mcs/class/referencesource/mscorlib/system/collections/generic/dictionary.cs:183 \n",
      "  at OpenMined.Syft.Tensor.Factories.FloatTensorFactory.Get (System.Int32 id) [0x00008] in /Users/yanndupis/Documents/Data_Science/Encrypted_DL/OpenMined/UnityProject/Assets/OpenMined/Syft/Tensor/Factories/FloatTensorFactory.cs:24 \n",
      "  at OpenMined.Syft.Tensor.FloatTensor.Delete () [0x00048] in /Users/yanndupis/Documents/Data_Science/Encrypted_DL/OpenMined/UnityProject/Assets/OpenMined/Syft/Tensor/FloatTensor.Ops.cs:558 \n",
      "  at OpenMined.Syft.Tensor.FloatTensor.ProcessMessage (OpenMined.Network.Utils.Command msgObj, OpenMined.Network.Controllers.SyftController ctrl) [0x00e4c] in /Users/yanndupis/Documents/Data_Science/Encrypted_DL/OpenMined/UnityProject/Assets/OpenMined/Syft/Tensor/FloatTensor.cs:365 \n",
      "  at OpenMined.Network.Controllers.SyftController.processMessage (System.String json_message, UnityEngine.MonoBehaviour owner) [0x002dd] in /Users/yanndupis/Documents/Data_Science/Encrypted_DL/OpenMined/UnityProject/Assets/OpenMined/Network/Controllers/SyftController.cs:231 \n"
     ]
    },
    {
     "name": "stderr",
     "output_type": "stream",
     "text": [
      "Exception ignored in: <object repr() failed>\n",
      "Traceback (most recent call last):\n",
      "  File \"/Users/yanndupis/anaconda2/envs/tflearn/lib/python3.5/site-packages/syft-0.1.0-py3.5.egg/syft/tensor.py\", line 544, in __del__\n",
      "  File \"/Users/yanndupis/anaconda2/envs/tflearn/lib/python3.5/site-packages/syft-0.1.0-py3.5.egg/syft/tensor.py\", line 1516, in delete_tensor\n",
      "  File \"/Users/yanndupis/anaconda2/envs/tflearn/lib/python3.5/site-packages/syft-0.1.0-py3.5.egg/syft/tensor.py\", line 1504, in no_params_func\n",
      "  File \"/Users/yanndupis/anaconda2/envs/tflearn/lib/python3.5/site-packages/syft-0.1.0-py3.5.egg/syft/tensor.py\", line 1486, in params_func\n",
      "  File \"/Users/yanndupis/anaconda2/envs/tflearn/lib/python3.5/site-packages/syft-0.1.0-py3.5.egg/syft/controller.py\", line 143, in send_json\n",
      "Exception: Unity Error: System.Collections.Generic.KeyNotFoundException: The given key was not present in the dictionary.\n",
      "  at System.ThrowHelper.ThrowKeyNotFoundException () [0x00000] in /Users/builduser/buildslave/mono/build/mcs/class/referencesource/mscorlib/system/throwhelper.cs:68 \n",
      "  at System.Collections.Generic.Dictionary`2[TKey,TValue].get_Item (TKey key) [0x0001e] in /Users/builduser/buildslave/mono/build/mcs/class/referencesource/mscorlib/system/collections/generic/dictionary.cs:183 \n",
      "  at OpenMined.Syft.Tensor.Factories.FloatTensorFactory.Get (System.Int32 id) [0x00008] in /Users/yanndupis/Documents/Data_Science/Encrypted_DL/OpenMined/UnityProject/Assets/OpenMined/Syft/Tensor/Factories/FloatTensorFactory.cs:24 \n",
      "  at OpenMined.Syft.Tensor.FloatTensor.Delete () [0x00048] in /Users/yanndupis/Documents/Data_Science/Encrypted_DL/OpenMined/UnityProject/Assets/OpenMined/Syft/Tensor/FloatTensor.Ops.cs:558 \n",
      "  at OpenMined.Syft.Tensor.FloatTensor.ProcessMessage (OpenMined.Network.Utils.Command msgObj, OpenMined.Network.Controllers.SyftController ctrl) [0x00e4c] in /Users/yanndupis/Documents/Data_Science/Encrypted_DL/OpenMined/UnityProject/Assets/OpenMined/Syft/Tensor/FloatTensor.cs:365 \n",
      "  at OpenMined.Network.Controllers.SyftController.processMessage (System.String json_message, UnityEngine.MonoBehaviour owner) [0x002dd] in /Users/yanndupis/Documents/Data_Science/Encrypted_DL/OpenMined/UnityProject/Assets/OpenMined/Network/Controllers/SyftController.cs:231 \n",
      "Exception ignored in: <object repr() failed>\n",
      "Traceback (most recent call last):\n",
      "  File \"/Users/yanndupis/anaconda2/envs/tflearn/lib/python3.5/site-packages/syft-0.1.0-py3.5.egg/syft/tensor.py\", line 544, in __del__\n",
      "  File \"/Users/yanndupis/anaconda2/envs/tflearn/lib/python3.5/site-packages/syft-0.1.0-py3.5.egg/syft/tensor.py\", line 1516, in delete_tensor\n",
      "  File \"/Users/yanndupis/anaconda2/envs/tflearn/lib/python3.5/site-packages/syft-0.1.0-py3.5.egg/syft/tensor.py\", line 1504, in no_params_func\n",
      "  File \"/Users/yanndupis/anaconda2/envs/tflearn/lib/python3.5/site-packages/syft-0.1.0-py3.5.egg/syft/tensor.py\", line 1486, in params_func\n",
      "  File \"/Users/yanndupis/anaconda2/envs/tflearn/lib/python3.5/site-packages/syft-0.1.0-py3.5.egg/syft/controller.py\", line 143, in send_json\n",
      "Exception: Unity Error: System.Collections.Generic.KeyNotFoundException: The given key was not present in the dictionary.\n",
      "  at System.ThrowHelper.ThrowKeyNotFoundException () [0x00000] in /Users/builduser/buildslave/mono/build/mcs/class/referencesource/mscorlib/system/throwhelper.cs:68 \n",
      "  at System.Collections.Generic.Dictionary`2[TKey,TValue].get_Item (TKey key) [0x0001e] in /Users/builduser/buildslave/mono/build/mcs/class/referencesource/mscorlib/system/collections/generic/dictionary.cs:183 \n",
      "  at OpenMined.Syft.Tensor.Factories.FloatTensorFactory.Get (System.Int32 id) [0x00008] in /Users/yanndupis/Documents/Data_Science/Encrypted_DL/OpenMined/UnityProject/Assets/OpenMined/Syft/Tensor/Factories/FloatTensorFactory.cs:24 \n",
      "  at OpenMined.Syft.Tensor.FloatTensor.Delete () [0x00048] in /Users/yanndupis/Documents/Data_Science/Encrypted_DL/OpenMined/UnityProject/Assets/OpenMined/Syft/Tensor/FloatTensor.Ops.cs:558 \n",
      "  at OpenMined.Syft.Tensor.FloatTensor.ProcessMessage (OpenMined.Network.Utils.Command msgObj, OpenMined.Network.Controllers.SyftController ctrl) [0x00e4c] in /Users/yanndupis/Documents/Data_Science/Encrypted_DL/OpenMined/UnityProject/Assets/OpenMined/Syft/Tensor/FloatTensor.cs:365 \n",
      "  at OpenMined.Network.Controllers.SyftController.processMessage (System.String json_message, UnityEngine.MonoBehaviour owner) [0x002dd] in /Users/yanndupis/Documents/Data_Science/Encrypted_DL/OpenMined/UnityProject/Assets/OpenMined/Network/Controllers/SyftController.cs:231 \n",
      "Exception ignored in: <object repr() failed>\n",
      "Traceback (most recent call last):\n",
      "  File \"/Users/yanndupis/anaconda2/envs/tflearn/lib/python3.5/site-packages/syft-0.1.0-py3.5.egg/syft/tensor.py\", line 544, in __del__\n",
      "  File \"/Users/yanndupis/anaconda2/envs/tflearn/lib/python3.5/site-packages/syft-0.1.0-py3.5.egg/syft/tensor.py\", line 1516, in delete_tensor\n",
      "  File \"/Users/yanndupis/anaconda2/envs/tflearn/lib/python3.5/site-packages/syft-0.1.0-py3.5.egg/syft/tensor.py\", line 1504, in no_params_func\n",
      "  File \"/Users/yanndupis/anaconda2/envs/tflearn/lib/python3.5/site-packages/syft-0.1.0-py3.5.egg/syft/tensor.py\", line 1486, in params_func\n",
      "  File \"/Users/yanndupis/anaconda2/envs/tflearn/lib/python3.5/site-packages/syft-0.1.0-py3.5.egg/syft/controller.py\", line 143, in send_json\n",
      "Exception: Unity Error: System.Collections.Generic.KeyNotFoundException: The given key was not present in the dictionary.\n",
      "  at System.ThrowHelper.ThrowKeyNotFoundException () [0x00000] in /Users/builduser/buildslave/mono/build/mcs/class/referencesource/mscorlib/system/throwhelper.cs:68 \n",
      "  at System.Collections.Generic.Dictionary`2[TKey,TValue].get_Item (TKey key) [0x0001e] in /Users/builduser/buildslave/mono/build/mcs/class/referencesource/mscorlib/system/collections/generic/dictionary.cs:183 \n",
      "  at OpenMined.Syft.Tensor.Factories.FloatTensorFactory.Get (System.Int32 id) [0x00008] in /Users/yanndupis/Documents/Data_Science/Encrypted_DL/OpenMined/UnityProject/Assets/OpenMined/Syft/Tensor/Factories/FloatTensorFactory.cs:24 \n",
      "  at OpenMined.Syft.Tensor.FloatTensor.Delete () [0x00048] in /Users/yanndupis/Documents/Data_Science/Encrypted_DL/OpenMined/UnityProject/Assets/OpenMined/Syft/Tensor/FloatTensor.Ops.cs:558 \n",
      "  at OpenMined.Syft.Tensor.FloatTensor.ProcessMessage (OpenMined.Network.Utils.Command msgObj, OpenMined.Network.Controllers.SyftController ctrl) [0x00e4c] in /Users/yanndupis/Documents/Data_Science/Encrypted_DL/OpenMined/UnityProject/Assets/OpenMined/Syft/Tensor/FloatTensor.cs:365 \n",
      "  at OpenMined.Network.Controllers.SyftController.processMessage (System.String json_message, UnityEngine.MonoBehaviour owner) [0x002dd] in /Users/yanndupis/Documents/Data_Science/Encrypted_DL/OpenMined/UnityProject/Assets/OpenMined/Network/Controllers/SyftController.cs:231 \n",
      "Exception ignored in: <object repr() failed>\n",
      "Traceback (most recent call last):\n",
      "  File \"/Users/yanndupis/anaconda2/envs/tflearn/lib/python3.5/site-packages/syft-0.1.0-py3.5.egg/syft/tensor.py\", line 544, in __del__\n",
      "  File \"/Users/yanndupis/anaconda2/envs/tflearn/lib/python3.5/site-packages/syft-0.1.0-py3.5.egg/syft/tensor.py\", line 1516, in delete_tensor\n",
      "  File \"/Users/yanndupis/anaconda2/envs/tflearn/lib/python3.5/site-packages/syft-0.1.0-py3.5.egg/syft/tensor.py\", line 1504, in no_params_func\n",
      "  File \"/Users/yanndupis/anaconda2/envs/tflearn/lib/python3.5/site-packages/syft-0.1.0-py3.5.egg/syft/tensor.py\", line 1486, in params_func\n",
      "  File \"/Users/yanndupis/anaconda2/envs/tflearn/lib/python3.5/site-packages/syft-0.1.0-py3.5.egg/syft/controller.py\", line 143, in send_json\n",
      "Exception: Unity Error: System.Collections.Generic.KeyNotFoundException: The given key was not present in the dictionary.\n",
      "  at System.ThrowHelper.ThrowKeyNotFoundException () [0x00000] in /Users/builduser/buildslave/mono/build/mcs/class/referencesource/mscorlib/system/throwhelper.cs:68 \n",
      "  at System.Collections.Generic.Dictionary`2[TKey,TValue].get_Item (TKey key) [0x0001e] in /Users/builduser/buildslave/mono/build/mcs/class/referencesource/mscorlib/system/collections/generic/dictionary.cs:183 \n",
      "  at OpenMined.Syft.Tensor.Factories.FloatTensorFactory.Get (System.Int32 id) [0x00008] in /Users/yanndupis/Documents/Data_Science/Encrypted_DL/OpenMined/UnityProject/Assets/OpenMined/Syft/Tensor/Factories/FloatTensorFactory.cs:24 \n",
      "  at OpenMined.Syft.Tensor.FloatTensor.Delete () [0x00048] in /Users/yanndupis/Documents/Data_Science/Encrypted_DL/OpenMined/UnityProject/Assets/OpenMined/Syft/Tensor/FloatTensor.Ops.cs:558 \n",
      "  at OpenMined.Syft.Tensor.FloatTensor.ProcessMessage (OpenMined.Network.Utils.Command msgObj, OpenMined.Network.Controllers.SyftController ctrl) [0x00e4c] in /Users/yanndupis/Documents/Data_Science/Encrypted_DL/OpenMined/UnityProject/Assets/OpenMined/Syft/Tensor/FloatTensor.cs:365 \n",
      "  at OpenMined.Network.Controllers.SyftController.processMessage (System.String json_message, UnityEngine.MonoBehaviour owner) [0x002dd] in /Users/yanndupis/Documents/Data_Science/Encrypted_DL/OpenMined/UnityProject/Assets/OpenMined/Network/Controllers/SyftController.cs:231 \n"
     ]
    },
    {
     "name": "stdout",
     "output_type": "stream",
     "text": [
      "Number of Batches:1\n"
     ]
    },
    {
     "data": {
      "application/vnd.jupyter.widget-view+json": {
       "model_id": "eb4612dbe24346089feed10656f31889"
      }
     },
     "metadata": {},
     "output_type": "display_data"
    },
    {
     "data": {
      "application/vnd.jupyter.widget-view+json": {
       "model_id": "e99d36ee381846da8fca6ed0e2804ad4"
      }
     },
     "metadata": {},
     "output_type": "display_data"
    },
    {
     "name": "stderr",
     "output_type": "stream",
     "text": [
      "Exception ignored in: <bound method FloatTensor.__del__ of [ 0.01456962]\n",
      "[syft.FloatTensor:820 grad:None size:1 c:[] p:[819] init:max_-1_False]\n",
      "\n",
      "\t-----------creators-----------\n",
      "\t[syft.FloatTensor:819 grad:None size:1x3 c:[820] p:[818, 220] init:add_elem]\n",
      "\t------------------------------\n",
      "\n",
      "\n",
      ">\n",
      "Traceback (most recent call last):\n",
      "  File \"/Users/yanndupis/anaconda2/envs/tflearn/lib/python3.5/site-packages/syft-0.1.0-py3.5.egg/syft/tensor.py\", line 544, in __del__\n",
      "TypeError: 'bool' object is not callable\n",
      "Exception ignored in: "
     ]
    },
    {
     "name": "stdout",
     "output_type": "stream",
     "text": [
      "Number of Batches:1\n"
     ]
    },
    {
     "name": "stderr",
     "output_type": "stream",
     "text": [
      "<object repr() failed>\n",
      "Traceback (most recent call last):\n",
      "  File \"/Users/yanndupis/anaconda2/envs/tflearn/lib/python3.5/site-packages/syft-0.1.0-py3.5.egg/syft/tensor.py\", line 544, in __del__\n",
      "  File \"/Users/yanndupis/anaconda2/envs/tflearn/lib/python3.5/site-packages/syft-0.1.0-py3.5.egg/syft/tensor.py\", line 1516, in delete_tensor\n",
      "  File \"/Users/yanndupis/anaconda2/envs/tflearn/lib/python3.5/site-packages/syft-0.1.0-py3.5.egg/syft/tensor.py\", line 1504, in no_params_func\n",
      "  File \"/Users/yanndupis/anaconda2/envs/tflearn/lib/python3.5/site-packages/syft-0.1.0-py3.5.egg/syft/tensor.py\", line 1486, in params_func\n",
      "  File \"/Users/yanndupis/anaconda2/envs/tflearn/lib/python3.5/site-packages/syft-0.1.0-py3.5.egg/syft/controller.py\", line 143, in send_json\n",
      "Exception: Unity Error: System.Collections.Generic.KeyNotFoundException: The given key was not present in the dictionary.\n",
      "  at System.ThrowHelper.ThrowKeyNotFoundException () [0x00000] in /Users/builduser/buildslave/mono/build/mcs/class/referencesource/mscorlib/system/throwhelper.cs:68 \n",
      "  at System.Collections.Generic.Dictionary`2[TKey,TValue].get_Item (TKey key) [0x0001e] in /Users/builduser/buildslave/mono/build/mcs/class/referencesource/mscorlib/system/collections/generic/dictionary.cs:183 \n",
      "  at OpenMined.Syft.Tensor.Factories.FloatTensorFactory.Get (System.Int32 id) [0x00008] in /Users/yanndupis/Documents/Data_Science/Encrypted_DL/OpenMined/UnityProject/Assets/OpenMined/Syft/Tensor/Factories/FloatTensorFactory.cs:24 \n",
      "  at OpenMined.Syft.Tensor.FloatTensor.Delete () [0x00048] in /Users/yanndupis/Documents/Data_Science/Encrypted_DL/OpenMined/UnityProject/Assets/OpenMined/Syft/Tensor/FloatTensor.Ops.cs:558 \n",
      "  at OpenMined.Syft.Tensor.FloatTensor.ProcessMessage (OpenMined.Network.Utils.Command msgObj, OpenMined.Network.Controllers.SyftController ctrl) [0x00e4c] in /Users/yanndupis/Documents/Data_Science/Encrypted_DL/OpenMined/UnityProject/Assets/OpenMined/Syft/Tensor/FloatTensor.cs:365 \n",
      "  at OpenMined.Network.Controllers.SyftController.processMessage (System.String json_message, UnityEngine.MonoBehaviour owner) [0x002dd] in /Users/yanndupis/Documents/Data_Science/Encrypted_DL/OpenMined/UnityProject/Assets/OpenMined/Network/Controllers/SyftController.cs:231 \n"
     ]
    },
    {
     "data": {
      "application/vnd.jupyter.widget-view+json": {
       "model_id": "16a75ff2b22d4dc2987a469446dc89cf"
      }
     },
     "metadata": {},
     "output_type": "display_data"
    },
    {
     "data": {
      "application/vnd.jupyter.widget-view+json": {
       "model_id": "a9a0ea03b417483b9796a78522ff3340"
      }
     },
     "metadata": {},
     "output_type": "display_data"
    },
    {
     "name": "stderr",
     "output_type": "stream",
     "text": [
      "Exception ignored in: <bound method FloatTensor.__del__ of [ 0.01588036]\n",
      "[syft.FloatTensor:731 grad:None size:1 c:[] p:[730] init:max_-1_False]\n",
      "\n",
      "\t-----------creators-----------\n",
      "\t[syft.FloatTensor:730 grad:None size:1x3 c:[731] p:[729, 220] init:add_elem]\n",
      "\t------------------------------\n",
      "\n",
      "\n",
      ">\n",
      "Traceback (most recent call last):\n",
      "  File \"/Users/yanndupis/anaconda2/envs/tflearn/lib/python3.5/site-packages/syft-0.1.0-py3.5.egg/syft/tensor.py\", line 544, in __del__\n",
      "TypeError: 'bool' object is not callable\n",
      "Exception ignored in: "
     ]
    },
    {
     "name": "stdout",
     "output_type": "stream",
     "text": [
      "Number of Batches:1\n"
     ]
    },
    {
     "name": "stderr",
     "output_type": "stream",
     "text": [
      "<object repr() failed>\n",
      "Traceback (most recent call last):\n",
      "  File \"/Users/yanndupis/anaconda2/envs/tflearn/lib/python3.5/site-packages/syft-0.1.0-py3.5.egg/syft/tensor.py\", line 544, in __del__\n",
      "  File \"/Users/yanndupis/anaconda2/envs/tflearn/lib/python3.5/site-packages/syft-0.1.0-py3.5.egg/syft/tensor.py\", line 1516, in delete_tensor\n",
      "  File \"/Users/yanndupis/anaconda2/envs/tflearn/lib/python3.5/site-packages/syft-0.1.0-py3.5.egg/syft/tensor.py\", line 1504, in no_params_func\n",
      "  File \"/Users/yanndupis/anaconda2/envs/tflearn/lib/python3.5/site-packages/syft-0.1.0-py3.5.egg/syft/tensor.py\", line 1486, in params_func\n",
      "  File \"/Users/yanndupis/anaconda2/envs/tflearn/lib/python3.5/site-packages/syft-0.1.0-py3.5.egg/syft/controller.py\", line 143, in send_json\n",
      "Exception: Unity Error: System.Collections.Generic.KeyNotFoundException: The given key was not present in the dictionary.\n",
      "  at System.ThrowHelper.ThrowKeyNotFoundException () [0x00000] in /Users/builduser/buildslave/mono/build/mcs/class/referencesource/mscorlib/system/throwhelper.cs:68 \n",
      "  at System.Collections.Generic.Dictionary`2[TKey,TValue].get_Item (TKey key) [0x0001e] in /Users/builduser/buildslave/mono/build/mcs/class/referencesource/mscorlib/system/collections/generic/dictionary.cs:183 \n",
      "  at OpenMined.Syft.Tensor.Factories.FloatTensorFactory.Get (System.Int32 id) [0x00008] in /Users/yanndupis/Documents/Data_Science/Encrypted_DL/OpenMined/UnityProject/Assets/OpenMined/Syft/Tensor/Factories/FloatTensorFactory.cs:24 \n",
      "  at OpenMined.Syft.Tensor.FloatTensor.Delete () [0x00048] in /Users/yanndupis/Documents/Data_Science/Encrypted_DL/OpenMined/UnityProject/Assets/OpenMined/Syft/Tensor/FloatTensor.Ops.cs:558 \n",
      "  at OpenMined.Syft.Tensor.FloatTensor.ProcessMessage (OpenMined.Network.Utils.Command msgObj, OpenMined.Network.Controllers.SyftController ctrl) [0x00e4c] in /Users/yanndupis/Documents/Data_Science/Encrypted_DL/OpenMined/UnityProject/Assets/OpenMined/Syft/Tensor/FloatTensor.cs:365 \n",
      "  at OpenMined.Network.Controllers.SyftController.processMessage (System.String json_message, UnityEngine.MonoBehaviour owner) [0x002dd] in /Users/yanndupis/Documents/Data_Science/Encrypted_DL/OpenMined/UnityProject/Assets/OpenMined/Network/Controllers/SyftController.cs:231 \n"
     ]
    },
    {
     "data": {
      "application/vnd.jupyter.widget-view+json": {
       "model_id": "ad70b82663004b34b0a2f70e9beb86a2"
      }
     },
     "metadata": {},
     "output_type": "display_data"
    },
    {
     "data": {
      "application/vnd.jupyter.widget-view+json": {
       "model_id": "57fab4f281bd409faaae6217d6c7063b"
      }
     },
     "metadata": {},
     "output_type": "display_data"
    },
    {
     "name": "stderr",
     "output_type": "stream",
     "text": [
      "Exception ignored in: <bound method FloatTensor.__del__ of [ 0.01475058]\n",
      "[syft.FloatTensor:251 grad:None size:1 c:[] p:[221] init:max_-1_False]\n",
      "\n",
      "\t-----------creators-----------\n",
      "\t[syft.FloatTensor:221 grad:None size:1x3 c:[251] p:[218, 220] init:add_elem]\n",
      "\t------------------------------\n",
      "\n",
      "\n",
      ">\n",
      "Traceback (most recent call last):\n",
      "  File \"/Users/yanndupis/anaconda2/envs/tflearn/lib/python3.5/site-packages/syft-0.1.0-py3.5.egg/syft/tensor.py\", line 544, in __del__\n",
      "TypeError: 'bool' object is not callable\n",
      "Exception ignored in: "
     ]
    },
    {
     "name": "stdout",
     "output_type": "stream",
     "text": [
      "Number of Batches:1\n"
     ]
    },
    {
     "name": "stderr",
     "output_type": "stream",
     "text": [
      "<object repr() failed>\n",
      "Traceback (most recent call last):\n",
      "  File \"/Users/yanndupis/anaconda2/envs/tflearn/lib/python3.5/site-packages/syft-0.1.0-py3.5.egg/syft/tensor.py\", line 544, in __del__\n",
      "  File \"/Users/yanndupis/anaconda2/envs/tflearn/lib/python3.5/site-packages/syft-0.1.0-py3.5.egg/syft/tensor.py\", line 1516, in delete_tensor\n",
      "  File \"/Users/yanndupis/anaconda2/envs/tflearn/lib/python3.5/site-packages/syft-0.1.0-py3.5.egg/syft/tensor.py\", line 1504, in no_params_func\n",
      "  File \"/Users/yanndupis/anaconda2/envs/tflearn/lib/python3.5/site-packages/syft-0.1.0-py3.5.egg/syft/tensor.py\", line 1486, in params_func\n",
      "  File \"/Users/yanndupis/anaconda2/envs/tflearn/lib/python3.5/site-packages/syft-0.1.0-py3.5.egg/syft/controller.py\", line 143, in send_json\n",
      "Exception: Unity Error: System.Collections.Generic.KeyNotFoundException: The given key was not present in the dictionary.\n",
      "  at System.ThrowHelper.ThrowKeyNotFoundException () [0x00000] in /Users/builduser/buildslave/mono/build/mcs/class/referencesource/mscorlib/system/throwhelper.cs:68 \n",
      "  at System.Collections.Generic.Dictionary`2[TKey,TValue].get_Item (TKey key) [0x0001e] in /Users/builduser/buildslave/mono/build/mcs/class/referencesource/mscorlib/system/collections/generic/dictionary.cs:183 \n",
      "  at OpenMined.Syft.Tensor.Factories.FloatTensorFactory.Get (System.Int32 id) [0x00008] in /Users/yanndupis/Documents/Data_Science/Encrypted_DL/OpenMined/UnityProject/Assets/OpenMined/Syft/Tensor/Factories/FloatTensorFactory.cs:24 \n",
      "  at OpenMined.Syft.Tensor.FloatTensor.Delete () [0x00048] in /Users/yanndupis/Documents/Data_Science/Encrypted_DL/OpenMined/UnityProject/Assets/OpenMined/Syft/Tensor/FloatTensor.Ops.cs:558 \n",
      "  at OpenMined.Syft.Tensor.FloatTensor.ProcessMessage (OpenMined.Network.Utils.Command msgObj, OpenMined.Network.Controllers.SyftController ctrl) [0x00e4c] in /Users/yanndupis/Documents/Data_Science/Encrypted_DL/OpenMined/UnityProject/Assets/OpenMined/Syft/Tensor/FloatTensor.cs:365 \n",
      "  at OpenMined.Network.Controllers.SyftController.processMessage (System.String json_message, UnityEngine.MonoBehaviour owner) [0x002dd] in /Users/yanndupis/Documents/Data_Science/Encrypted_DL/OpenMined/UnityProject/Assets/OpenMined/Network/Controllers/SyftController.cs:231 \n"
     ]
    },
    {
     "data": {
      "application/vnd.jupyter.widget-view+json": {
       "model_id": "482fb64b88fb48ac80eb0eeacc7d9581"
      }
     },
     "metadata": {},
     "output_type": "display_data"
    },
    {
     "data": {
      "application/vnd.jupyter.widget-view+json": {
       "model_id": "d9db7917676a447898ca1ab72f91ee84"
      }
     },
     "metadata": {},
     "output_type": "display_data"
    },
    {
     "name": "stderr",
     "output_type": "stream",
     "text": [
      "Exception ignored in: <bound method FloatTensor.__del__ of [ 0.01596209]\n",
      "[syft.FloatTensor:476 grad:None size:1 c:[] p:[475] init:max_-1_False]\n",
      "\n",
      "\t-----------creators-----------\n",
      "\t[syft.FloatTensor:475 grad:None size:1x3 c:[476] p:[474, 220] init:add_elem]\n",
      "\t------------------------------\n",
      "\n",
      "\n",
      ">\n",
      "Traceback (most recent call last):\n",
      "  File \"/Users/yanndupis/anaconda2/envs/tflearn/lib/python3.5/site-packages/syft-0.1.0-py3.5.egg/syft/tensor.py\", line 544, in __del__\n",
      "TypeError: 'bool' object is not callable\n",
      "Exception ignored in: "
     ]
    },
    {
     "name": "stdout",
     "output_type": "stream",
     "text": [
      "Number of Batches:1\n"
     ]
    },
    {
     "name": "stderr",
     "output_type": "stream",
     "text": [
      "<object repr() failed>\n",
      "Traceback (most recent call last):\n",
      "  File \"/Users/yanndupis/anaconda2/envs/tflearn/lib/python3.5/site-packages/syft-0.1.0-py3.5.egg/syft/tensor.py\", line 544, in __del__\n",
      "  File \"/Users/yanndupis/anaconda2/envs/tflearn/lib/python3.5/site-packages/syft-0.1.0-py3.5.egg/syft/tensor.py\", line 1516, in delete_tensor\n",
      "  File \"/Users/yanndupis/anaconda2/envs/tflearn/lib/python3.5/site-packages/syft-0.1.0-py3.5.egg/syft/tensor.py\", line 1504, in no_params_func\n",
      "  File \"/Users/yanndupis/anaconda2/envs/tflearn/lib/python3.5/site-packages/syft-0.1.0-py3.5.egg/syft/tensor.py\", line 1486, in params_func\n",
      "  File \"/Users/yanndupis/anaconda2/envs/tflearn/lib/python3.5/site-packages/syft-0.1.0-py3.5.egg/syft/controller.py\", line 143, in send_json\n",
      "Exception: Unity Error: System.Collections.Generic.KeyNotFoundException: The given key was not present in the dictionary.\n",
      "  at System.ThrowHelper.ThrowKeyNotFoundException () [0x00000] in /Users/builduser/buildslave/mono/build/mcs/class/referencesource/mscorlib/system/throwhelper.cs:68 \n",
      "  at System.Collections.Generic.Dictionary`2[TKey,TValue].get_Item (TKey key) [0x0001e] in /Users/builduser/buildslave/mono/build/mcs/class/referencesource/mscorlib/system/collections/generic/dictionary.cs:183 \n",
      "  at OpenMined.Syft.Tensor.Factories.FloatTensorFactory.Get (System.Int32 id) [0x00008] in /Users/yanndupis/Documents/Data_Science/Encrypted_DL/OpenMined/UnityProject/Assets/OpenMined/Syft/Tensor/Factories/FloatTensorFactory.cs:24 \n",
      "  at OpenMined.Syft.Tensor.FloatTensor.Delete () [0x00048] in /Users/yanndupis/Documents/Data_Science/Encrypted_DL/OpenMined/UnityProject/Assets/OpenMined/Syft/Tensor/FloatTensor.Ops.cs:558 \n",
      "  at OpenMined.Syft.Tensor.FloatTensor.ProcessMessage (OpenMined.Network.Utils.Command msgObj, OpenMined.Network.Controllers.SyftController ctrl) [0x00e4c] in /Users/yanndupis/Documents/Data_Science/Encrypted_DL/OpenMined/UnityProject/Assets/OpenMined/Syft/Tensor/FloatTensor.cs:365 \n",
      "  at OpenMined.Network.Controllers.SyftController.processMessage (System.String json_message, UnityEngine.MonoBehaviour owner) [0x002dd] in /Users/yanndupis/Documents/Data_Science/Encrypted_DL/OpenMined/UnityProject/Assets/OpenMined/Network/Controllers/SyftController.cs:231 \n"
     ]
    },
    {
     "data": {
      "application/vnd.jupyter.widget-view+json": {
       "model_id": "b684a296f439417aa67c5f0f3b70aae6"
      }
     },
     "metadata": {},
     "output_type": "display_data"
    },
    {
     "data": {
      "application/vnd.jupyter.widget-view+json": {
       "model_id": "4e5c0092e55b4b4ba42bf376658e681d"
      }
     },
     "metadata": {},
     "output_type": "display_data"
    },
    {
     "name": "stderr",
     "output_type": "stream",
     "text": [
      "Exception ignored in: <bound method FloatTensor.__del__ of [ 0.0144137]\n",
      "[syft.FloatTensor:802 grad:None size:1 c:[] p:[801] init:max_-1_False]\n",
      "\n",
      "\t-----------creators-----------\n",
      "\t[syft.FloatTensor:801 grad:None size:1x3 c:[802] p:[800, 220] init:add_elem]\n",
      "\t------------------------------\n",
      "\n",
      "\n",
      ">\n",
      "Traceback (most recent call last):\n",
      "  File \"/Users/yanndupis/anaconda2/envs/tflearn/lib/python3.5/site-packages/syft-0.1.0-py3.5.egg/syft/tensor.py\", line 544, in __del__\n",
      "TypeError: 'bool' object is not callable\n",
      "Exception ignored in: <object repr() failed>\n",
      "Traceback (most recent call last):\n",
      "  File \"/Users/yanndupis/anaconda2/envs/tflearn/lib/python3.5/site-packages/syft-0.1.0-py3.5.egg/syft/tensor.py\", line 544, in __del__\n",
      "  File \"/Users/yanndupis/anaconda2/envs/tflearn/lib/python3.5/site-packages/syft-0.1.0-py3.5.egg/syft/tensor.py\", line 1516, in delete_tensor\n",
      "  File \"/Users/yanndupis/anaconda2/envs/tflearn/lib/python3.5/site-packages/syft-0.1.0-py3.5.egg/syft/tensor.py\", line 1504, in no_params_func\n",
      "  File \"/Users/yanndupis/anaconda2/envs/tflearn/lib/python3.5/site-packages/syft-0.1.0-py3.5.egg/syft/tensor.py\", line 1486, in params_func\n",
      "  File \"/Users/yanndupis/anaconda2/envs/tflearn/lib/python3.5/site-packages/syft-0.1.0-py3.5.egg/syft/controller.py\", line 143, in send_json\n",
      "Exception: Unity Error: System.Collections.Generic.KeyNotFoundException: The given key was not present in the dictionary.\n",
      "  at System.ThrowHelper.ThrowKeyNotFoundException () [0x00000] in /Users/builduser/buildslave/mono/build/mcs/class/referencesource/mscorlib/system/throwhelper.cs:68 \n",
      "  at System.Collections.Generic.Dictionary`2[TKey,TValue].get_Item (TKey key) [0x0001e] in /Users/builduser/buildslave/mono/build/mcs/class/referencesource/mscorlib/system/collections/generic/dictionary.cs:183 \n",
      "  at OpenMined.Syft.Tensor.Factories.FloatTensorFactory.Get (System.Int32 id) [0x00008] in /Users/yanndupis/Documents/Data_Science/Encrypted_DL/OpenMined/UnityProject/Assets/OpenMined/Syft/Tensor/Factories/FloatTensorFactory.cs:24 \n",
      "  at OpenMined.Syft.Tensor.FloatTensor.Delete () [0x00048] in /Users/yanndupis/Documents/Data_Science/Encrypted_DL/OpenMined/UnityProject/Assets/OpenMined/Syft/Tensor/FloatTensor.Ops.cs:558 \n",
      "  at OpenMined.Syft.Tensor.FloatTensor.ProcessMessage (OpenMined.Network.Utils.Command msgObj, OpenMined.Network.Controllers.SyftController ctrl) [0x00e4c] in /Users/yanndupis/Documents/Data_Science/Encrypted_DL/OpenMined/UnityProject/Assets/OpenMined/Syft/Tensor/FloatTensor.cs:365 \n",
      "  at OpenMined.Network.Controllers.SyftController.processMessage (System.String json_message, UnityEngine.MonoBehaviour owner) [0x002dd] in /Users/yanndupis/Documents/Data_Science/Encrypted_DL/OpenMined/UnityProject/Assets/OpenMined/Network/Controllers/SyftController.cs:231 \n",
      "Exception ignored in: <object repr() failed>\n",
      "Traceback (most recent call last):\n",
      "  File \"/Users/yanndupis/anaconda2/envs/tflearn/lib/python3.5/site-packages/syft-0.1.0-py3.5.egg/syft/tensor.py\", line 544, in __del__\n",
      "  File \"/Users/yanndupis/anaconda2/envs/tflearn/lib/python3.5/site-packages/syft-0.1.0-py3.5.egg/syft/tensor.py\", line 1516, in delete_tensor\n",
      "  File \"/Users/yanndupis/anaconda2/envs/tflearn/lib/python3.5/site-packages/syft-0.1.0-py3.5.egg/syft/tensor.py\", line 1504, in no_params_func\n",
      "  File \"/Users/yanndupis/anaconda2/envs/tflearn/lib/python3.5/site-packages/syft-0.1.0-py3.5.egg/syft/tensor.py\", line 1486, in params_func\n",
      "  File \"/Users/yanndupis/anaconda2/envs/tflearn/lib/python3.5/site-packages/syft-0.1.0-py3.5.egg/syft/controller.py\", line 143, in send_json\n",
      "Exception: Unity Error: System.Collections.Generic.KeyNotFoundException: The given key was not present in the dictionary.\n",
      "  at System.ThrowHelper.ThrowKeyNotFoundException () [0x00000] in /Users/builduser/buildslave/mono/build/mcs/class/referencesource/mscorlib/system/throwhelper.cs:68 \n",
      "  at System.Collections.Generic.Dictionary`2[TKey,TValue].get_Item (TKey key) [0x0001e] in /Users/builduser/buildslave/mono/build/mcs/class/referencesource/mscorlib/system/collections/generic/dictionary.cs:183 \n",
      "  at OpenMined.Syft.Tensor.Factories.FloatTensorFactory.Get (System.Int32 id) [0x00008] in /Users/yanndupis/Documents/Data_Science/Encrypted_DL/OpenMined/UnityProject/Assets/OpenMined/Syft/Tensor/Factories/FloatTensorFactory.cs:24 \n",
      "  at OpenMined.Syft.Tensor.FloatTensor.Delete () [0x00048] in /Users/yanndupis/Documents/Data_Science/Encrypted_DL/OpenMined/UnityProject/Assets/OpenMined/Syft/Tensor/FloatTensor.Ops.cs:558 \n",
      "  at OpenMined.Syft.Tensor.FloatTensor.ProcessMessage (OpenMined.Network.Utils.Command msgObj, OpenMined.Network.Controllers.SyftController ctrl) [0x00e4c] in /Users/yanndupis/Documents/Data_Science/Encrypted_DL/OpenMined/UnityProject/Assets/OpenMined/Syft/Tensor/FloatTensor.cs:365 \n",
      "  at OpenMined.Network.Controllers.SyftController.processMessage (System.String json_message, UnityEngine.MonoBehaviour owner) [0x002dd] in /Users/yanndupis/Documents/Data_Science/Encrypted_DL/OpenMined/UnityProject/Assets/OpenMined/Network/Controllers/SyftController.cs:231 \n",
      "Exception ignored in: <object repr() failed>\n",
      "Traceback (most recent call last):\n",
      "  File \"/Users/yanndupis/anaconda2/envs/tflearn/lib/python3.5/site-packages/syft-0.1.0-py3.5.egg/syft/tensor.py\", line 544, in __del__\n",
      "  File \"/Users/yanndupis/anaconda2/envs/tflearn/lib/python3.5/site-packages/syft-0.1.0-py3.5.egg/syft/tensor.py\", line 1516, in delete_tensor\n",
      "  File \"/Users/yanndupis/anaconda2/envs/tflearn/lib/python3.5/site-packages/syft-0.1.0-py3.5.egg/syft/tensor.py\", line 1504, in no_params_func\n",
      "  File \"/Users/yanndupis/anaconda2/envs/tflearn/lib/python3.5/site-packages/syft-0.1.0-py3.5.egg/syft/tensor.py\", line 1486, in params_func\n",
      "  File \"/Users/yanndupis/anaconda2/envs/tflearn/lib/python3.5/site-packages/syft-0.1.0-py3.5.egg/syft/controller.py\", line 143, in send_json\n",
      "Exception: Unity Error: System.Collections.Generic.KeyNotFoundException: The given key was not present in the dictionary.\n",
      "  at System.ThrowHelper.ThrowKeyNotFoundException () [0x00000] in /Users/builduser/buildslave/mono/build/mcs/class/referencesource/mscorlib/system/throwhelper.cs:68 \n",
      "  at System.Collections.Generic.Dictionary`2[TKey,TValue].get_Item (TKey key) [0x0001e] in /Users/builduser/buildslave/mono/build/mcs/class/referencesource/mscorlib/system/collections/generic/dictionary.cs:183 \n",
      "  at OpenMined.Syft.Tensor.Factories.FloatTensorFactory.Get (System.Int32 id) [0x00008] in /Users/yanndupis/Documents/Data_Science/Encrypted_DL/OpenMined/UnityProject/Assets/OpenMined/Syft/Tensor/Factories/FloatTensorFactory.cs:24 \n",
      "  at OpenMined.Syft.Tensor.FloatTensor.Delete () [0x00048] in /Users/yanndupis/Documents/Data_Science/Encrypted_DL/OpenMined/UnityProject/Assets/OpenMined/Syft/Tensor/FloatTensor.Ops.cs:558 \n",
      "  at OpenMined.Syft.Tensor.FloatTensor.ProcessMessage (OpenMined.Network.Utils.Command msgObj, OpenMined.Network.Controllers.SyftController ctrl) [0x00e4c] in /Users/yanndupis/Documents/Data_Science/Encrypted_DL/OpenMined/UnityProject/Assets/OpenMined/Syft/Tensor/FloatTensor.cs:365 \n",
      "  at OpenMined.Network.Controllers.SyftController.processMessage (System.String json_message, UnityEngine.MonoBehaviour owner) [0x002dd] in /Users/yanndupis/Documents/Data_Science/Encrypted_DL/OpenMined/UnityProject/Assets/OpenMined/Network/Controllers/SyftController.cs:231 \n",
      "Exception ignored in: <object repr() failed>\n",
      "Traceback (most recent call last):\n",
      "  File \"/Users/yanndupis/anaconda2/envs/tflearn/lib/python3.5/site-packages/syft-0.1.0-py3.5.egg/syft/tensor.py\", line 544, in __del__\n",
      "  File \"/Users/yanndupis/anaconda2/envs/tflearn/lib/python3.5/site-packages/syft-0.1.0-py3.5.egg/syft/tensor.py\", line 1516, in delete_tensor\n",
      "  File \"/Users/yanndupis/anaconda2/envs/tflearn/lib/python3.5/site-packages/syft-0.1.0-py3.5.egg/syft/tensor.py\", line 1504, in no_params_func\n",
      "  File \"/Users/yanndupis/anaconda2/envs/tflearn/lib/python3.5/site-packages/syft-0.1.0-py3.5.egg/syft/tensor.py\", line 1486, in params_func\n",
      "  File \"/Users/yanndupis/anaconda2/envs/tflearn/lib/python3.5/site-packages/syft-0.1.0-py3.5.egg/syft/controller.py\", line 143, in send_json\n",
      "Exception: Unity Error: System.Collections.Generic.KeyNotFoundException: The given key was not present in the dictionary.\n",
      "  at System.ThrowHelper.ThrowKeyNotFoundException () [0x00000] in /Users/builduser/buildslave/mono/build/mcs/class/referencesource/mscorlib/system/throwhelper.cs:68 \n",
      "  at System.Collections.Generic.Dictionary`2[TKey,TValue].get_Item (TKey key) [0x0001e] in /Users/builduser/buildslave/mono/build/mcs/class/referencesource/mscorlib/system/collections/generic/dictionary.cs:183 \n",
      "  at OpenMined.Syft.Tensor.Factories.FloatTensorFactory.Get (System.Int32 id) [0x00008] in /Users/yanndupis/Documents/Data_Science/Encrypted_DL/OpenMined/UnityProject/Assets/OpenMined/Syft/Tensor/Factories/FloatTensorFactory.cs:24 \n",
      "  at OpenMined.Syft.Tensor.FloatTensor.Delete () [0x00048] in /Users/yanndupis/Documents/Data_Science/Encrypted_DL/OpenMined/UnityProject/Assets/OpenMined/Syft/Tensor/FloatTensor.Ops.cs:558 \n",
      "  at OpenMined.Syft.Tensor.FloatTensor.ProcessMessage (OpenMined.Network.Utils.Command msgObj, OpenMined.Network.Controllers.SyftController ctrl) [0x00e4c] in /Users/yanndupis/Documents/Data_Science/Encrypted_DL/OpenMined/UnityProject/Assets/OpenMined/Syft/Tensor/FloatTensor.cs:365 \n",
      "  at OpenMined.Network.Controllers.SyftController.processMessage (System.String json_message, UnityEngine.MonoBehaviour owner) [0x002dd] in /Users/yanndupis/Documents/Data_Science/Encrypted_DL/OpenMined/UnityProject/Assets/OpenMined/Network/Controllers/SyftController.cs:231 \n",
      "Exception ignored in: <object repr() failed>\n",
      "Traceback (most recent call last):\n",
      "  File \"/Users/yanndupis/anaconda2/envs/tflearn/lib/python3.5/site-packages/syft-0.1.0-py3.5.egg/syft/tensor.py\", line 544, in __del__\n",
      "  File \"/Users/yanndupis/anaconda2/envs/tflearn/lib/python3.5/site-packages/syft-0.1.0-py3.5.egg/syft/tensor.py\", line 1516, in delete_tensor\n",
      "  File \"/Users/yanndupis/anaconda2/envs/tflearn/lib/python3.5/site-packages/syft-0.1.0-py3.5.egg/syft/tensor.py\", line 1504, in no_params_func\n",
      "  File \"/Users/yanndupis/anaconda2/envs/tflearn/lib/python3.5/site-packages/syft-0.1.0-py3.5.egg/syft/tensor.py\", line 1486, in params_func\n",
      "  File \"/Users/yanndupis/anaconda2/envs/tflearn/lib/python3.5/site-packages/syft-0.1.0-py3.5.egg/syft/controller.py\", line 143, in send_json\n",
      "Exception: Unity Error: System.Collections.Generic.KeyNotFoundException: The given key was not present in the dictionary.\n",
      "  at System.ThrowHelper.ThrowKeyNotFoundException () [0x00000] in /Users/builduser/buildslave/mono/build/mcs/class/referencesource/mscorlib/system/throwhelper.cs:68 \n",
      "  at System.Collections.Generic.Dictionary`2[TKey,TValue].get_Item (TKey key) [0x0001e] in /Users/builduser/buildslave/mono/build/mcs/class/referencesource/mscorlib/system/collections/generic/dictionary.cs:183 \n",
      "  at OpenMined.Syft.Tensor.Factories.FloatTensorFactory.Get (System.Int32 id) [0x00008] in /Users/yanndupis/Documents/Data_Science/Encrypted_DL/OpenMined/UnityProject/Assets/OpenMined/Syft/Tensor/Factories/FloatTensorFactory.cs:24 \n",
      "  at OpenMined.Syft.Tensor.FloatTensor.Delete () [0x00048] in /Users/yanndupis/Documents/Data_Science/Encrypted_DL/OpenMined/UnityProject/Assets/OpenMined/Syft/Tensor/FloatTensor.Ops.cs:558 \n",
      "  at OpenMined.Syft.Tensor.FloatTensor.ProcessMessage (OpenMined.Network.Utils.Command msgObj, OpenMined.Network.Controllers.SyftController ctrl) [0x00e4c] in /Users/yanndupis/Documents/Data_Science/Encrypted_DL/OpenMined/UnityProject/Assets/OpenMined/Syft/Tensor/FloatTensor.cs:365 \n",
      "  at OpenMined.Network.Controllers.SyftController.processMessage (System.String json_message, UnityEngine.MonoBehaviour owner) [0x002dd] in /Users/yanndupis/Documents/Data_Science/Encrypted_DL/OpenMined/UnityProject/Assets/OpenMined/Network/Controllers/SyftController.cs:231 \n"
     ]
    },
    {
     "name": "stderr",
     "output_type": "stream",
     "text": [
      "Exception ignored in: <object repr() failed>\n",
      "Traceback (most recent call last):\n",
      "  File \"/Users/yanndupis/anaconda2/envs/tflearn/lib/python3.5/site-packages/syft-0.1.0-py3.5.egg/syft/tensor.py\", line 544, in __del__\n",
      "  File \"/Users/yanndupis/anaconda2/envs/tflearn/lib/python3.5/site-packages/syft-0.1.0-py3.5.egg/syft/tensor.py\", line 1516, in delete_tensor\n",
      "  File \"/Users/yanndupis/anaconda2/envs/tflearn/lib/python3.5/site-packages/syft-0.1.0-py3.5.egg/syft/tensor.py\", line 1504, in no_params_func\n",
      "  File \"/Users/yanndupis/anaconda2/envs/tflearn/lib/python3.5/site-packages/syft-0.1.0-py3.5.egg/syft/tensor.py\", line 1486, in params_func\n",
      "  File \"/Users/yanndupis/anaconda2/envs/tflearn/lib/python3.5/site-packages/syft-0.1.0-py3.5.egg/syft/controller.py\", line 143, in send_json\n",
      "Exception: Unity Error: System.Collections.Generic.KeyNotFoundException: The given key was not present in the dictionary.\n",
      "  at System.ThrowHelper.ThrowKeyNotFoundException () [0x00000] in /Users/builduser/buildslave/mono/build/mcs/class/referencesource/mscorlib/system/throwhelper.cs:68 \n",
      "  at System.Collections.Generic.Dictionary`2[TKey,TValue].get_Item (TKey key) [0x0001e] in /Users/builduser/buildslave/mono/build/mcs/class/referencesource/mscorlib/system/collections/generic/dictionary.cs:183 \n",
      "  at OpenMined.Syft.Tensor.Factories.FloatTensorFactory.Get (System.Int32 id) [0x00008] in /Users/yanndupis/Documents/Data_Science/Encrypted_DL/OpenMined/UnityProject/Assets/OpenMined/Syft/Tensor/Factories/FloatTensorFactory.cs:24 \n",
      "  at OpenMined.Syft.Tensor.FloatTensor.Delete () [0x00048] in /Users/yanndupis/Documents/Data_Science/Encrypted_DL/OpenMined/UnityProject/Assets/OpenMined/Syft/Tensor/FloatTensor.Ops.cs:558 \n",
      "  at OpenMined.Syft.Tensor.FloatTensor.ProcessMessage (OpenMined.Network.Utils.Command msgObj, OpenMined.Network.Controllers.SyftController ctrl) [0x00e4c] in /Users/yanndupis/Documents/Data_Science/Encrypted_DL/OpenMined/UnityProject/Assets/OpenMined/Syft/Tensor/FloatTensor.cs:365 \n",
      "  at OpenMined.Network.Controllers.SyftController.processMessage (System.String json_message, UnityEngine.MonoBehaviour owner) [0x002dd] in /Users/yanndupis/Documents/Data_Science/Encrypted_DL/OpenMined/UnityProject/Assets/OpenMined/Network/Controllers/SyftController.cs:231 \n",
      "Exception ignored in: <object repr() failed>\n",
      "Traceback (most recent call last):\n",
      "  File \"/Users/yanndupis/anaconda2/envs/tflearn/lib/python3.5/site-packages/syft-0.1.0-py3.5.egg/syft/tensor.py\", line 544, in __del__\n",
      "  File \"/Users/yanndupis/anaconda2/envs/tflearn/lib/python3.5/site-packages/syft-0.1.0-py3.5.egg/syft/tensor.py\", line 1516, in delete_tensor\n",
      "  File \"/Users/yanndupis/anaconda2/envs/tflearn/lib/python3.5/site-packages/syft-0.1.0-py3.5.egg/syft/tensor.py\", line 1504, in no_params_func\n",
      "  File \"/Users/yanndupis/anaconda2/envs/tflearn/lib/python3.5/site-packages/syft-0.1.0-py3.5.egg/syft/tensor.py\", line 1486, in params_func\n",
      "  File \"/Users/yanndupis/anaconda2/envs/tflearn/lib/python3.5/site-packages/syft-0.1.0-py3.5.egg/syft/controller.py\", line 143, in send_json\n",
      "Exception: Unity Error: System.Collections.Generic.KeyNotFoundException: The given key was not present in the dictionary.\n",
      "  at System.ThrowHelper.ThrowKeyNotFoundException () [0x00000] in /Users/builduser/buildslave/mono/build/mcs/class/referencesource/mscorlib/system/throwhelper.cs:68 \n",
      "  at System.Collections.Generic.Dictionary`2[TKey,TValue].get_Item (TKey key) [0x0001e] in /Users/builduser/buildslave/mono/build/mcs/class/referencesource/mscorlib/system/collections/generic/dictionary.cs:183 \n",
      "  at OpenMined.Syft.Tensor.Factories.FloatTensorFactory.Get (System.Int32 id) [0x00008] in /Users/yanndupis/Documents/Data_Science/Encrypted_DL/OpenMined/UnityProject/Assets/OpenMined/Syft/Tensor/Factories/FloatTensorFactory.cs:24 \n",
      "  at OpenMined.Syft.Tensor.FloatTensor.Delete () [0x00048] in /Users/yanndupis/Documents/Data_Science/Encrypted_DL/OpenMined/UnityProject/Assets/OpenMined/Syft/Tensor/FloatTensor.Ops.cs:558 \n",
      "  at OpenMined.Syft.Tensor.FloatTensor.ProcessMessage (OpenMined.Network.Utils.Command msgObj, OpenMined.Network.Controllers.SyftController ctrl) [0x00e4c] in /Users/yanndupis/Documents/Data_Science/Encrypted_DL/OpenMined/UnityProject/Assets/OpenMined/Syft/Tensor/FloatTensor.cs:365 \n",
      "  at OpenMined.Network.Controllers.SyftController.processMessage (System.String json_message, UnityEngine.MonoBehaviour owner) [0x002dd] in /Users/yanndupis/Documents/Data_Science/Encrypted_DL/OpenMined/UnityProject/Assets/OpenMined/Network/Controllers/SyftController.cs:231 \n",
      "Exception ignored in: <object repr() failed>\n",
      "Traceback (most recent call last):\n",
      "  File \"/Users/yanndupis/anaconda2/envs/tflearn/lib/python3.5/site-packages/syft-0.1.0-py3.5.egg/syft/tensor.py\", line 544, in __del__\n",
      "  File \"/Users/yanndupis/anaconda2/envs/tflearn/lib/python3.5/site-packages/syft-0.1.0-py3.5.egg/syft/tensor.py\", line 1516, in delete_tensor\n",
      "  File \"/Users/yanndupis/anaconda2/envs/tflearn/lib/python3.5/site-packages/syft-0.1.0-py3.5.egg/syft/tensor.py\", line 1504, in no_params_func\n",
      "  File \"/Users/yanndupis/anaconda2/envs/tflearn/lib/python3.5/site-packages/syft-0.1.0-py3.5.egg/syft/tensor.py\", line 1486, in params_func\n",
      "  File \"/Users/yanndupis/anaconda2/envs/tflearn/lib/python3.5/site-packages/syft-0.1.0-py3.5.egg/syft/controller.py\", line 143, in send_json\n",
      "Exception: Unity Error: System.Collections.Generic.KeyNotFoundException: The given key was not present in the dictionary.\n",
      "  at System.ThrowHelper.ThrowKeyNotFoundException () [0x00000] in /Users/builduser/buildslave/mono/build/mcs/class/referencesource/mscorlib/system/throwhelper.cs:68 \n",
      "  at System.Collections.Generic.Dictionary`2[TKey,TValue].get_Item (TKey key) [0x0001e] in /Users/builduser/buildslave/mono/build/mcs/class/referencesource/mscorlib/system/collections/generic/dictionary.cs:183 \n",
      "  at OpenMined.Syft.Tensor.Factories.FloatTensorFactory.Get (System.Int32 id) [0x00008] in /Users/yanndupis/Documents/Data_Science/Encrypted_DL/OpenMined/UnityProject/Assets/OpenMined/Syft/Tensor/Factories/FloatTensorFactory.cs:24 \n",
      "  at OpenMined.Syft.Tensor.FloatTensor.Delete () [0x00048] in /Users/yanndupis/Documents/Data_Science/Encrypted_DL/OpenMined/UnityProject/Assets/OpenMined/Syft/Tensor/FloatTensor.Ops.cs:558 \n",
      "  at OpenMined.Syft.Tensor.FloatTensor.ProcessMessage (OpenMined.Network.Utils.Command msgObj, OpenMined.Network.Controllers.SyftController ctrl) [0x00e4c] in /Users/yanndupis/Documents/Data_Science/Encrypted_DL/OpenMined/UnityProject/Assets/OpenMined/Syft/Tensor/FloatTensor.cs:365 \n",
      "  at OpenMined.Network.Controllers.SyftController.processMessage (System.String json_message, UnityEngine.MonoBehaviour owner) [0x002dd] in /Users/yanndupis/Documents/Data_Science/Encrypted_DL/OpenMined/UnityProject/Assets/OpenMined/Network/Controllers/SyftController.cs:231 \n"
     ]
    },
    {
     "name": "stdout",
     "output_type": "stream",
     "text": [
      "Failed to complete in trial 2\n"
     ]
    }
   ],
   "source": [
    "class DQN:\n",
    "    def __init__(self, env):\n",
    "        self.env     = env\n",
    "        self.memory  = deque(maxlen=2000)\n",
    "        \n",
    "        self.gamma = 0.85\n",
    "        self.epsilon = 1.0\n",
    "        self.epsilon_min = 0.01\n",
    "        self.epsilon_decay = 0.995\n",
    "        self.learning_rate = 0.005\n",
    "        self.tau = .125\n",
    "\n",
    "        self.model        = self.create_model()\n",
    "        self.target_model = self.create_model()\n",
    "\n",
    "    def create_model(self):\n",
    "        model   = Sequential()\n",
    "        state_shape  = self.env.observation_space.shape\n",
    "        model.add(Dense(24, input_shape=state_shape[0], activation=\"relu\"))\n",
    "        model.add(Dense(48, activation=\"relu\"))\n",
    "        model.add(Dense(24, activation=\"relu\"))\n",
    "        model.add(Dense(self.env.action_space.n))\n",
    "        model.compile(loss='mean_squared_error',\n",
    "                      optimizer=SGD(lr=0.01), metrics =[])\n",
    "        return model\n",
    "\n",
    "    def act(self, state):\n",
    "        self.epsilon *= self.epsilon_decay\n",
    "        self.epsilon = max(self.epsilon_min, self.epsilon)\n",
    "        if np.random.random() < self.epsilon:\n",
    "            return self.env.action_space.sample()\n",
    "        return np.argmax(self.model.predict(state).to_numpy())\n",
    "\n",
    "    def remember(self, state, action, reward, new_state, done):\n",
    "        self.memory.append([state, action, reward, new_state, done])\n",
    "\n",
    "    def replay(self):\n",
    "        batch_size = 5\n",
    "        if len(self.memory) < batch_size: \n",
    "            return\n",
    "        samples = random.sample(self.memory, batch_size)\n",
    "        for sample in samples:\n",
    "            state, action, reward, new_state, done = sample\n",
    "            target = self.target_model.predict(state).to_numpy()\n",
    "            if done:\n",
    "                target.data[0][action] = reward\n",
    "            else:\n",
    "                Q_future = self.target_model.predict(new_state).max()\n",
    "                target[0][action] = (Q_future * self.gamma + reward).to_numpy()[0]\n",
    "                Q_future.delete_tensor = True\n",
    "            self.model.fit(state, target, batch_size=1,epochs=1,verbose=True,validation_data=None)\n",
    "\n",
    "\n",
    "    def target_train(self):\n",
    "        weights = self.model.get_weights()\n",
    "        target_weights = self.target_model.get_weights()\n",
    "        for i in range(len(target_weights)):\n",
    "            target_weights[i] = weights[i] * self.tau + target_weights[i] * (1 - self.tau)\n",
    "\n",
    "    #def save_model(self, fn):\n",
    "    #    self.model.save(fn)\n",
    "\n",
    "def main():\n",
    "    env     = gym.make(\"MountainCar-v0\")\n",
    "    gamma   = 0.9\n",
    "    epsilon = .95\n",
    "\n",
    "    trials  = 3\n",
    "    trial_len = 4\n",
    "\n",
    "    # updateTargetNetwork = 1000\n",
    "    dqn_agent = DQN(env=env)\n",
    "    steps = []\n",
    "    for trial in range(trials):\n",
    "        cur_state = FloatTensor(env.reset().reshape(1,2),autograd=True)\n",
    "        for step in range(trial_len):\n",
    "            action = dqn_agent.act(cur_state)\n",
    "            new_state, reward, done, _ = env.step(action)\n",
    "\n",
    "            # reward = reward if not done else -20\n",
    "            # MOD - convert new_state to FloatTensor\n",
    "            new_state = FloatTensor(new_state.reshape(1,2),autograd = True)\n",
    "            dqn_agent.remember(cur_state, action, reward, new_state, done)\n",
    "            \n",
    "            dqn_agent.replay()       # internally iterates default (prediction) model\n",
    "            dqn_agent.target_train() # iterates target model\n",
    "\n",
    "            cur_state = new_state\n",
    "            if done:\n",
    "                break\n",
    "        if step >= 2:\n",
    "            print(\"Failed to complete in trial {}\".format(trial))\n",
    "            #if step % 10 == 0:\n",
    "            #    dqn_agent.save_model(\"trial-{}.model\".format(trial))\n",
    "        else:\n",
    "            print(\"Completed in {} trials\".format(trial))\n",
    "            #dqn_agent.save_model(\"success.model\")\n",
    "            break\n",
    "\n",
    "if __name__ == \"__main__\":\n",
    "    main()\n"
   ]
  },
  {
   "cell_type": "code",
   "execution_count": null,
   "metadata": {
    "collapsed": true
   },
   "outputs": [],
   "source": []
  }
 ],
 "metadata": {
  "kernelspec": {
   "display_name": "Python 3",
   "language": "python",
   "name": "python3"
  },
  "language_info": {
   "codemirror_mode": {
    "name": "ipython",
    "version": 3
   },
   "file_extension": ".py",
   "mimetype": "text/x-python",
   "name": "python",
   "nbconvert_exporter": "python",
   "pygments_lexer": "ipython3",
   "version": "3.5.3"
  }
 },
 "nbformat": 4,
 "nbformat_minor": 2
}

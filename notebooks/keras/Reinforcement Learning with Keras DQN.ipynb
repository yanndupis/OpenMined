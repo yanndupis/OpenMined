{
 "cells": [
  {
   "cell_type": "markdown",
   "metadata": {},
   "source": [
    "# Reinforcement Learning with Keras interface: DQN"
   ]
  },
  {
   "cell_type": "markdown",
   "metadata": {},
   "source": [
    "The goal of this notebook is to demonstrate how easy it is to do reinforcement learning with OpenMined and PySyft using the Keras interface. We will apply DQN to the game MountainCar-V0 from gym. The original code was written by Yash Patel. The original code can be found [here](https://towardsdatascience.com/reinforcement-learning-w-keras-openai-dqns-1eed3a5338c)."
   ]
  },
  {
   "cell_type": "code",
   "execution_count": 14,
   "metadata": {},
   "outputs": [],
   "source": [
    "import syft\n",
    "from syft import FloatTensor"
   ]
  },
  {
   "cell_type": "code",
   "execution_count": 15,
   "metadata": {},
   "outputs": [],
   "source": [
    "import gym\n",
    "import numpy as np\n",
    "import random\n",
    "\n",
    "from syft.interfaces.keras.models import Sequential\n",
    "from syft.interfaces.keras.layers import Dense, Dropout\n",
    "from syft.interfaces.keras.optimizers import SGD\n",
    "\n",
    "from collections import deque\n",
    "from syft import FloatTensor"
   ]
  },
  {
   "cell_type": "code",
   "execution_count": 16,
   "metadata": {},
   "outputs": [
    {
     "name": "stderr",
     "output_type": "stream",
     "text": [
      "Exception ignored in: <object repr() failed>\n",
      "Traceback (most recent call last):\n",
      "  File \"/Users/yanndupis/anaconda2/envs/tflearn/lib/python3.5/site-packages/syft-0.1.0-py3.5.egg/syft/tensor.py\", line 532, in __del__\n",
      "  File \"/Users/yanndupis/anaconda2/envs/tflearn/lib/python3.5/site-packages/syft-0.1.0-py3.5.egg/syft/tensor.py\", line 1504, in delete_tensor\n",
      "  File \"/Users/yanndupis/anaconda2/envs/tflearn/lib/python3.5/site-packages/syft-0.1.0-py3.5.egg/syft/tensor.py\", line 1492, in no_params_func\n",
      "  File \"/Users/yanndupis/anaconda2/envs/tflearn/lib/python3.5/site-packages/syft-0.1.0-py3.5.egg/syft/tensor.py\", line 1474, in params_func\n",
      "  File \"/Users/yanndupis/anaconda2/envs/tflearn/lib/python3.5/site-packages/syft-0.1.0-py3.5.egg/syft/controller.py\", line 143, in send_json\n",
      "Exception: Unity Error: System.Collections.Generic.KeyNotFoundException: The given key was not present in the dictionary.\n",
      "  at System.ThrowHelper.ThrowKeyNotFoundException () [0x00000] in /Users/builduser/buildslave/mono/build/mcs/class/referencesource/mscorlib/system/throwhelper.cs:68 \n",
      "  at System.Collections.Generic.Dictionary`2[TKey,TValue].get_Item (TKey key) [0x0001e] in /Users/builduser/buildslave/mono/build/mcs/class/referencesource/mscorlib/system/collections/generic/dictionary.cs:183 \n",
      "  at OpenMined.Syft.Tensor.Factories.FloatTensorFactory.Get (System.Int32 id) [0x00008] in /Users/yanndupis/Documents/Data_Science/Encrypted_DL/OpenMined/UnityProject/Assets/OpenMined/Syft/Tensor/Factories/FloatTensorFactory.cs:24 \n",
      "  at OpenMined.Network.Controllers.SyftController.processMessage (System.String json_message, UnityEngine.MonoBehaviour owner) [0x002d2] in /Users/yanndupis/Documents/Data_Science/Encrypted_DL/OpenMined/UnityProject/Assets/OpenMined/Network/Controllers/SyftController.cs:226 \n",
      "Exception ignored in: <object repr() failed>\n",
      "Traceback (most recent call last):\n",
      "  File \"/Users/yanndupis/anaconda2/envs/tflearn/lib/python3.5/site-packages/syft-0.1.0-py3.5.egg/syft/tensor.py\", line 532, in __del__\n",
      "  File \"/Users/yanndupis/anaconda2/envs/tflearn/lib/python3.5/site-packages/syft-0.1.0-py3.5.egg/syft/tensor.py\", line 1504, in delete_tensor\n",
      "  File \"/Users/yanndupis/anaconda2/envs/tflearn/lib/python3.5/site-packages/syft-0.1.0-py3.5.egg/syft/tensor.py\", line 1492, in no_params_func\n",
      "  File \"/Users/yanndupis/anaconda2/envs/tflearn/lib/python3.5/site-packages/syft-0.1.0-py3.5.egg/syft/tensor.py\", line 1474, in params_func\n",
      "  File \"/Users/yanndupis/anaconda2/envs/tflearn/lib/python3.5/site-packages/syft-0.1.0-py3.5.egg/syft/controller.py\", line 143, in send_json\n",
      "Exception: Unity Error: System.Collections.Generic.KeyNotFoundException: The given key was not present in the dictionary.\n",
      "  at System.ThrowHelper.ThrowKeyNotFoundException () [0x00000] in /Users/builduser/buildslave/mono/build/mcs/class/referencesource/mscorlib/system/throwhelper.cs:68 \n",
      "  at System.Collections.Generic.Dictionary`2[TKey,TValue].get_Item (TKey key) [0x0001e] in /Users/builduser/buildslave/mono/build/mcs/class/referencesource/mscorlib/system/collections/generic/dictionary.cs:183 \n",
      "  at OpenMined.Syft.Tensor.Factories.FloatTensorFactory.Get (System.Int32 id) [0x00008] in /Users/yanndupis/Documents/Data_Science/Encrypted_DL/OpenMined/UnityProject/Assets/OpenMined/Syft/Tensor/Factories/FloatTensorFactory.cs:24 \n",
      "  at OpenMined.Network.Controllers.SyftController.processMessage (System.String json_message, UnityEngine.MonoBehaviour owner) [0x002d2] in /Users/yanndupis/Documents/Data_Science/Encrypted_DL/OpenMined/UnityProject/Assets/OpenMined/Network/Controllers/SyftController.cs:226 \n",
      "[2018-01-16 23:12:36,734] Making new env: MountainCar-v0\n"
     ]
    },
    {
     "ename": "Exception",
     "evalue": "Unity Error: System.Collections.Generic.KeyNotFoundException: The given key was not present in the dictionary.\n  at System.ThrowHelper.ThrowKeyNotFoundException () [0x00000] in /Users/builduser/buildslave/mono/build/mcs/class/referencesource/mscorlib/system/throwhelper.cs:68 \n  at System.Collections.Generic.Dictionary`2[TKey,TValue].get_Item (TKey key) [0x0001e] in /Users/builduser/buildslave/mono/build/mcs/class/referencesource/mscorlib/system/collections/generic/dictionary.cs:183 \n  at OpenMined.Syft.Tensor.Factories.FloatTensorFactory.Get (System.Int32 id) [0x00008] in /Users/yanndupis/Documents/Data_Science/Encrypted_DL/OpenMined/UnityProject/Assets/OpenMined/Syft/Tensor/Factories/FloatTensorFactory.cs:24 \n  at OpenMined.Syft.Tensor.FloatTensor.HookGraph (OpenMined.Syft.Tensor.FloatTensor& result, System.String creation_op, System.Boolean inline, System.Single scalar_input, OpenMined.Syft.Tensor.FloatTensor[] tensor_inputs, System.Int32[] resultShape, System.Single[] resultData, OpenMined.Syft.Tensor.IntTensor[] indices) [0x00038] in /Users/yanndupis/Documents/Data_Science/Encrypted_DL/OpenMined/UnityProject/Assets/OpenMined/Syft/Tensor/FloatTensor.Graph.cs:73 \n  at OpenMined.Syft.Tensor.FloatTensor.Mul (System.Single value, System.Boolean inline, OpenMined.Syft.Tensor.FloatTensor result) [0x00021] in /Users/yanndupis/Documents/Data_Science/Encrypted_DL/OpenMined/UnityProject/Assets/OpenMined/Syft/Tensor/FloatTensor.Ops.cs:1164 \n  at OpenMined.Syft.Tensor.FloatTensor.ProcessMessage (OpenMined.Network.Utils.Command msgObj, OpenMined.Network.Controllers.SyftController ctrl) [0x01157] in /Users/yanndupis/Documents/Data_Science/Encrypted_DL/OpenMined/UnityProject/Assets/OpenMined/Syft/Tensor/FloatTensor.cs:435 \n  at OpenMined.Network.Controllers.SyftController.processMessage (System.String json_message, UnityEngine.MonoBehaviour owner) [0x002dd] in /Users/yanndupis/Documents/Data_Science/Encrypted_DL/OpenMined/UnityProject/Assets/OpenMined/Network/Controllers/SyftController.cs:228 ",
     "output_type": "error",
     "traceback": [
      "\u001b[0;31m---------------------------------------------------------------------------\u001b[0m",
      "\u001b[0;31mException\u001b[0m                                 Traceback (most recent call last)",
      "\u001b[0;32m<ipython-input-16-c4e87e5a8dd0>\u001b[0m in \u001b[0;36m<module>\u001b[0;34m()\u001b[0m\n\u001b[1;32m     99\u001b[0m \u001b[0;34m\u001b[0m\u001b[0m\n\u001b[1;32m    100\u001b[0m \u001b[0;32mif\u001b[0m \u001b[0m__name__\u001b[0m \u001b[0;34m==\u001b[0m \u001b[0;34m\"__main__\"\u001b[0m\u001b[0;34m:\u001b[0m\u001b[0;34m\u001b[0m\u001b[0m\n\u001b[0;32m--> 101\u001b[0;31m     \u001b[0mmain\u001b[0m\u001b[0;34m(\u001b[0m\u001b[0;34m)\u001b[0m\u001b[0;34m\u001b[0m\u001b[0m\n\u001b[0m",
      "\u001b[0;32m<ipython-input-16-c4e87e5a8dd0>\u001b[0m in \u001b[0;36mmain\u001b[0;34m()\u001b[0m\n\u001b[1;32m     84\u001b[0m \u001b[0;34m\u001b[0m\u001b[0m\n\u001b[1;32m     85\u001b[0m             \u001b[0mdqn_agent\u001b[0m\u001b[0;34m.\u001b[0m\u001b[0mreplay\u001b[0m\u001b[0;34m(\u001b[0m\u001b[0;34m)\u001b[0m       \u001b[0;31m# internally iterates default (prediction) model\u001b[0m\u001b[0;34m\u001b[0m\u001b[0m\n\u001b[0;32m---> 86\u001b[0;31m             \u001b[0mdqn_agent\u001b[0m\u001b[0;34m.\u001b[0m\u001b[0mtarget_train\u001b[0m\u001b[0;34m(\u001b[0m\u001b[0;34m)\u001b[0m \u001b[0;31m# iterates target model\u001b[0m\u001b[0;34m\u001b[0m\u001b[0m\n\u001b[0m\u001b[1;32m     87\u001b[0m \u001b[0;34m\u001b[0m\u001b[0m\n\u001b[1;32m     88\u001b[0m             \u001b[0mcur_state\u001b[0m \u001b[0;34m=\u001b[0m \u001b[0mnew_state\u001b[0m\u001b[0;34m\u001b[0m\u001b[0m\n",
      "\u001b[0;32m<ipython-input-16-c4e87e5a8dd0>\u001b[0m in \u001b[0;36mtarget_train\u001b[0;34m(self)\u001b[0m\n\u001b[1;32m     56\u001b[0m         \u001b[0mtarget_weights\u001b[0m \u001b[0;34m=\u001b[0m \u001b[0mself\u001b[0m\u001b[0;34m.\u001b[0m\u001b[0mtarget_model\u001b[0m\u001b[0;34m.\u001b[0m\u001b[0mget_weights\u001b[0m\u001b[0;34m(\u001b[0m\u001b[0;34m)\u001b[0m\u001b[0;34m\u001b[0m\u001b[0m\n\u001b[1;32m     57\u001b[0m         \u001b[0;32mfor\u001b[0m \u001b[0mi\u001b[0m \u001b[0;32min\u001b[0m \u001b[0mrange\u001b[0m\u001b[0;34m(\u001b[0m\u001b[0mlen\u001b[0m\u001b[0;34m(\u001b[0m\u001b[0mtarget_weights\u001b[0m\u001b[0;34m)\u001b[0m\u001b[0;34m)\u001b[0m\u001b[0;34m:\u001b[0m\u001b[0;34m\u001b[0m\u001b[0m\n\u001b[0;32m---> 58\u001b[0;31m             \u001b[0mtarget_weights\u001b[0m\u001b[0;34m[\u001b[0m\u001b[0mi\u001b[0m\u001b[0;34m]\u001b[0m \u001b[0;34m=\u001b[0m \u001b[0mweights\u001b[0m\u001b[0;34m[\u001b[0m\u001b[0mi\u001b[0m\u001b[0;34m]\u001b[0m \u001b[0;34m*\u001b[0m \u001b[0mself\u001b[0m\u001b[0;34m.\u001b[0m\u001b[0mtau\u001b[0m \u001b[0;34m+\u001b[0m \u001b[0mtarget_weights\u001b[0m\u001b[0;34m[\u001b[0m\u001b[0mi\u001b[0m\u001b[0;34m]\u001b[0m \u001b[0;34m*\u001b[0m \u001b[0;34m(\u001b[0m\u001b[0;36m1\u001b[0m \u001b[0;34m-\u001b[0m \u001b[0mself\u001b[0m\u001b[0;34m.\u001b[0m\u001b[0mtau\u001b[0m\u001b[0;34m)\u001b[0m\u001b[0;34m\u001b[0m\u001b[0m\n\u001b[0m\u001b[1;32m     59\u001b[0m \u001b[0;34m\u001b[0m\u001b[0m\n\u001b[1;32m     60\u001b[0m     \u001b[0;31m#def save_model(self, fn):\u001b[0m\u001b[0;34m\u001b[0m\u001b[0;34m\u001b[0m\u001b[0m\n",
      "\u001b[0;32m/Users/yanndupis/anaconda2/envs/tflearn/lib/python3.5/site-packages/syft-0.1.0-py3.5.egg/syft/tensor.py\u001b[0m in \u001b[0;36m__mul__\u001b[0;34m(self, x)\u001b[0m\n\u001b[1;32m    179\u001b[0m             \u001b[0mOutput\u001b[0m \u001b[0mtensor\u001b[0m\u001b[0;34m\u001b[0m\u001b[0m\n\u001b[1;32m    180\u001b[0m         \"\"\"\n\u001b[0;32m--> 181\u001b[0;31m         \u001b[0;32mreturn\u001b[0m \u001b[0mself\u001b[0m\u001b[0;34m.\u001b[0m\u001b[0marithmetic_operation\u001b[0m\u001b[0;34m(\u001b[0m\u001b[0mx\u001b[0m\u001b[0;34m,\u001b[0m \u001b[0;34m\"mul\"\u001b[0m\u001b[0;34m,\u001b[0m \u001b[0;32mFalse\u001b[0m\u001b[0;34m)\u001b[0m\u001b[0;34m\u001b[0m\u001b[0m\n\u001b[0m\u001b[1;32m    182\u001b[0m \u001b[0;34m\u001b[0m\u001b[0m\n\u001b[1;32m    183\u001b[0m     \u001b[0;32mdef\u001b[0m \u001b[0m__imul__\u001b[0m\u001b[0;34m(\u001b[0m\u001b[0mself\u001b[0m\u001b[0;34m,\u001b[0m \u001b[0mx\u001b[0m\u001b[0;34m)\u001b[0m\u001b[0;34m:\u001b[0m\u001b[0;34m\u001b[0m\u001b[0m\n",
      "\u001b[0;32m/Users/yanndupis/anaconda2/envs/tflearn/lib/python3.5/site-packages/syft-0.1.0-py3.5.egg/syft/tensor.py\u001b[0m in \u001b[0;36marithmetic_operation\u001b[0;34m(self, x, name, inline)\u001b[0m\n\u001b[1;32m     19\u001b[0m \u001b[0;34m\u001b[0m\u001b[0m\n\u001b[1;32m     20\u001b[0m         response = self.controller.send_json(\n\u001b[0;32m---> 21\u001b[0;31m             self.cmd(operation_cmd, [parameter]))  # sends the command\n\u001b[0m\u001b[1;32m     22\u001b[0m         \u001b[0;32mif\u001b[0m \u001b[0mint\u001b[0m\u001b[0;34m(\u001b[0m\u001b[0mresponse\u001b[0m\u001b[0;34m)\u001b[0m \u001b[0;34m==\u001b[0m \u001b[0mself\u001b[0m\u001b[0;34m.\u001b[0m\u001b[0mid\u001b[0m\u001b[0;34m:\u001b[0m\u001b[0;34m\u001b[0m\u001b[0m\n\u001b[1;32m     23\u001b[0m             \u001b[0;32mreturn\u001b[0m \u001b[0mself\u001b[0m\u001b[0;34m\u001b[0m\u001b[0m\n",
      "\u001b[0;32m/Users/yanndupis/anaconda2/envs/tflearn/lib/python3.5/site-packages/syft-0.1.0-py3.5.egg/syft/controller.py\u001b[0m in \u001b[0;36msend_json\u001b[0;34m(message, response)\u001b[0m\n\u001b[1;32m    141\u001b[0m \u001b[0;34m\u001b[0m\u001b[0m\n\u001b[1;32m    142\u001b[0m         \u001b[0;32mif\u001b[0m\u001b[0;34m(\u001b[0m\u001b[0;34m\"Unity Error:\"\u001b[0m \u001b[0;34m==\u001b[0m \u001b[0mres\u001b[0m\u001b[0;34m[\u001b[0m\u001b[0;36m0\u001b[0m\u001b[0;34m:\u001b[0m\u001b[0;36m12\u001b[0m\u001b[0;34m]\u001b[0m\u001b[0;34m)\u001b[0m\u001b[0;34m:\u001b[0m\u001b[0;34m\u001b[0m\u001b[0m\n\u001b[0;32m--> 143\u001b[0;31m             \u001b[0;32mraise\u001b[0m \u001b[0mException\u001b[0m\u001b[0;34m(\u001b[0m\u001b[0mres\u001b[0m\u001b[0;34m)\u001b[0m\u001b[0;34m\u001b[0m\u001b[0m\n\u001b[0m\u001b[1;32m    144\u001b[0m         \u001b[0;32mreturn\u001b[0m \u001b[0mres\u001b[0m\u001b[0;34m\u001b[0m\u001b[0m\n\u001b[1;32m    145\u001b[0m \u001b[0;34m\u001b[0m\u001b[0m\n",
      "\u001b[0;31mException\u001b[0m: Unity Error: System.Collections.Generic.KeyNotFoundException: The given key was not present in the dictionary.\n  at System.ThrowHelper.ThrowKeyNotFoundException () [0x00000] in /Users/builduser/buildslave/mono/build/mcs/class/referencesource/mscorlib/system/throwhelper.cs:68 \n  at System.Collections.Generic.Dictionary`2[TKey,TValue].get_Item (TKey key) [0x0001e] in /Users/builduser/buildslave/mono/build/mcs/class/referencesource/mscorlib/system/collections/generic/dictionary.cs:183 \n  at OpenMined.Syft.Tensor.Factories.FloatTensorFactory.Get (System.Int32 id) [0x00008] in /Users/yanndupis/Documents/Data_Science/Encrypted_DL/OpenMined/UnityProject/Assets/OpenMined/Syft/Tensor/Factories/FloatTensorFactory.cs:24 \n  at OpenMined.Syft.Tensor.FloatTensor.HookGraph (OpenMined.Syft.Tensor.FloatTensor& result, System.String creation_op, System.Boolean inline, System.Single scalar_input, OpenMined.Syft.Tensor.FloatTensor[] tensor_inputs, System.Int32[] resultShape, System.Single[] resultData, OpenMined.Syft.Tensor.IntTensor[] indices) [0x00038] in /Users/yanndupis/Documents/Data_Science/Encrypted_DL/OpenMined/UnityProject/Assets/OpenMined/Syft/Tensor/FloatTensor.Graph.cs:73 \n  at OpenMined.Syft.Tensor.FloatTensor.Mul (System.Single value, System.Boolean inline, OpenMined.Syft.Tensor.FloatTensor result) [0x00021] in /Users/yanndupis/Documents/Data_Science/Encrypted_DL/OpenMined/UnityProject/Assets/OpenMined/Syft/Tensor/FloatTensor.Ops.cs:1164 \n  at OpenMined.Syft.Tensor.FloatTensor.ProcessMessage (OpenMined.Network.Utils.Command msgObj, OpenMined.Network.Controllers.SyftController ctrl) [0x01157] in /Users/yanndupis/Documents/Data_Science/Encrypted_DL/OpenMined/UnityProject/Assets/OpenMined/Syft/Tensor/FloatTensor.cs:435 \n  at OpenMined.Network.Controllers.SyftController.processMessage (System.String json_message, UnityEngine.MonoBehaviour owner) [0x002dd] in /Users/yanndupis/Documents/Data_Science/Encrypted_DL/OpenMined/UnityProject/Assets/OpenMined/Network/Controllers/SyftController.cs:228 "
     ]
    }
   ],
   "source": [
    "class DQN:\n",
    "    def __init__(self, env):\n",
    "        self.env     = env\n",
    "        self.memory  = deque(maxlen=2000)\n",
    "        \n",
    "        self.gamma = 0.85\n",
    "        self.epsilon = 1.0\n",
    "        self.epsilon_min = 0.01\n",
    "        self.epsilon_decay = 0.995\n",
    "        self.learning_rate = 0.005\n",
    "        self.tau = .125\n",
    "\n",
    "        self.model        = self.create_model()\n",
    "        self.target_model = self.create_model()\n",
    "\n",
    "    def create_model(self):\n",
    "        model   = Sequential()\n",
    "        state_shape  = self.env.observation_space.shape\n",
    "        model.add(Dense(24, input_shape=state_shape[0], activation=\"relu\"))\n",
    "        model.add(Dense(48, activation=\"relu\"))\n",
    "        model.add(Dense(24, activation=\"relu\"))\n",
    "        model.add(Dense(self.env.action_space.n))\n",
    "        model.compile(loss='mean_squared_error',\n",
    "                      optimizer=SGD(lr=0.01), metrics =[])\n",
    "        return model\n",
    "\n",
    "    def act(self, state):\n",
    "        self.epsilon *= self.epsilon_decay\n",
    "        self.epsilon = max(self.epsilon_min, self.epsilon)\n",
    "        if np.random.random() < self.epsilon:\n",
    "            return self.env.action_space.sample()\n",
    "        return np.argmax(self.model.predict(state).to_numpy())\n",
    "\n",
    "    def remember(self, state, action, reward, new_state, done):\n",
    "        self.memory.append([state, action, reward, new_state, done])\n",
    "\n",
    "    def replay(self):\n",
    "        batch_size = 5\n",
    "        if len(self.memory) < batch_size: \n",
    "            return\n",
    "        samples = random.sample(self.memory, batch_size)\n",
    "        for sample in samples:\n",
    "            state, action, reward, new_state, done = sample\n",
    "            target = self.target_model.predict(state).to_numpy()\n",
    "            if done:\n",
    "                target.data[0][action] = reward\n",
    "            else:\n",
    "                Q_future = self.target_model.predict(new_state).max()\n",
    "                target[0][action] = (Q_future * self.gamma + reward).to_numpy()[0]\n",
    "                Q_future.delete_tensor = True\n",
    "            self.model.fit(state, target, batch_size=1,epochs=1,verbose=True,validation_data=None)\n",
    "\n",
    "\n",
    "    def target_train(self):\n",
    "        weights = self.model.get_weights()\n",
    "        target_weights = self.target_model.get_weights()\n",
    "        for i in range(len(target_weights)):\n",
    "            target_weights[i] = weights[i] * self.tau + target_weights[i] * (1 - self.tau)\n",
    "\n",
    "    #def save_model(self, fn):\n",
    "    #    self.model.save(fn)\n",
    "\n",
    "def main():\n",
    "    env     = gym.make(\"MountainCar-v0\")\n",
    "    gamma   = 0.9\n",
    "    epsilon = .95\n",
    "\n",
    "    trials  = 3\n",
    "    trial_len = 4\n",
    "\n",
    "    # updateTargetNetwork = 1000\n",
    "    dqn_agent = DQN(env=env)\n",
    "    steps = []\n",
    "    for trial in range(trials):\n",
    "        cur_state = FloatTensor(env.reset().reshape(1,2),autograd=True)\n",
    "        for step in range(trial_len):\n",
    "            action = dqn_agent.act(cur_state)\n",
    "            new_state, reward, done, _ = env.step(action)\n",
    "\n",
    "            # reward = reward if not done else -20\n",
    "            # MOD - convert new_state to FloatTensor\n",
    "            new_state = FloatTensor(new_state.reshape(1,2),autograd = True)\n",
    "            dqn_agent.remember(cur_state, action, reward, new_state, done)\n",
    "            \n",
    "            dqn_agent.replay()       # internally iterates default (prediction) model\n",
    "            dqn_agent.target_train() # iterates target model\n",
    "\n",
    "            cur_state = new_state\n",
    "            if done:\n",
    "                break\n",
    "        if step >= 2:\n",
    "            print(\"Failed to complete in trial {}\".format(trial))\n",
    "            #if step % 10 == 0:\n",
    "            #    dqn_agent.save_model(\"trial-{}.model\".format(trial))\n",
    "        else:\n",
    "            print(\"Completed in {} trials\".format(trial))\n",
    "            #dqn_agent.save_model(\"success.model\")\n",
    "            break\n",
    "\n",
    "if __name__ == \"__main__\":\n",
    "    main()\n"
   ]
  },
  {
   "cell_type": "code",
   "execution_count": 17,
   "metadata": {},
   "outputs": [],
   "source": [
    "a = FloatTensor(np.array([3,5,2]))"
   ]
  },
  {
   "cell_type": "code",
   "execution_count": 18,
   "metadata": {},
   "outputs": [
    {
     "ename": "Exception",
     "evalue": "Unity Error: System.Collections.Generic.KeyNotFoundException: The given key was not present in the dictionary.\n  at System.ThrowHelper.ThrowKeyNotFoundException () [0x00000] in /Users/builduser/buildslave/mono/build/mcs/class/referencesource/mscorlib/system/throwhelper.cs:68 \n  at System.Collections.Generic.Dictionary`2[TKey,TValue].get_Item (TKey key) [0x0001e] in /Users/builduser/buildslave/mono/build/mcs/class/referencesource/mscorlib/system/collections/generic/dictionary.cs:183 \n  at OpenMined.Syft.Tensor.Factories.FloatTensorFactory.Get (System.Int32 id) [0x00008] in /Users/yanndupis/Documents/Data_Science/Encrypted_DL/OpenMined/UnityProject/Assets/OpenMined/Syft/Tensor/Factories/FloatTensorFactory.cs:24 \n  at OpenMined.Syft.Tensor.FloatTensor.HookGraph (OpenMined.Syft.Tensor.FloatTensor& result, System.String creation_op, System.Boolean inline, System.Single scalar_input, OpenMined.Syft.Tensor.FloatTensor[] tensor_inputs, System.Int32[] resultShape, System.Single[] resultData, OpenMined.Syft.Tensor.IntTensor[] indices) [0x00038] in /Users/yanndupis/Documents/Data_Science/Encrypted_DL/OpenMined/UnityProject/Assets/OpenMined/Syft/Tensor/FloatTensor.Graph.cs:73 \n  at OpenMined.Syft.Tensor.FloatTensor.Reduce (System.Func`5[T1,T2,T3,T4,TResult] reducer, System.Func`3[T1,T2,TResult] mapper, System.String creation_op, OpenMined.Syft.Tensor.FloatTensor result) [0x0002d] in /Users/yanndupis/Documents/Data_Science/Encrypted_DL/OpenMined/UnityProject/Assets/OpenMined/Syft/Tensor/FloatTensor.Ops.cs:1310 \n  at OpenMined.Syft.Tensor.FloatTensor.Reduce (System.Int32 dim, System.Boolean keepdim, System.Func`5[T1,T2,T3,T4,TResult] reducer, System.Func`3[T1,T2,TResult] mapper, System.String creation_op, OpenMined.Syft.Tensor.FloatTensor result) [0x0003f] in /Users/yanndupis/Documents/Data_Science/Encrypted_DL/OpenMined/UnityProject/Assets/OpenMined/Syft/Tensor/FloatTensor.Ops.cs:1330 \n  at OpenMined.Syft.Tensor.FloatTensor.Max (System.Int32 dim, System.Boolean keepdim) [0x00083] in /Users/yanndupis/Documents/Data_Science/Encrypted_DL/OpenMined/UnityProject/Assets/OpenMined/Syft/Tensor/FloatTensor.Ops.cs:1063 \n  at OpenMined.Syft.Tensor.FloatTensor.ProcessMessage (OpenMined.Network.Utils.Command msgObj, OpenMined.Network.Controllers.SyftController ctrl) [0x02797] in /Users/yanndupis/Documents/Data_Science/Encrypted_DL/OpenMined/UnityProject/Assets/OpenMined/Syft/Tensor/FloatTensor.cs:1123 \n  at OpenMined.Network.Controllers.SyftController.processMessage (System.String json_message, UnityEngine.MonoBehaviour owner) [0x002dd] in /Users/yanndupis/Documents/Data_Science/Encrypted_DL/OpenMined/UnityProject/Assets/OpenMined/Network/Controllers/SyftController.cs:228 ",
     "output_type": "error",
     "traceback": [
      "\u001b[0;31m---------------------------------------------------------------------------\u001b[0m",
      "\u001b[0;31mException\u001b[0m                                 Traceback (most recent call last)",
      "\u001b[0;32m<ipython-input-18-4a859f28c7d1>\u001b[0m in \u001b[0;36m<module>\u001b[0;34m()\u001b[0m\n\u001b[1;32m      1\u001b[0m \u001b[0ma\u001b[0m\u001b[0;34m.\u001b[0m\u001b[0mmax\u001b[0m\u001b[0;34m(\u001b[0m\u001b[0;34m)\u001b[0m\u001b[0;34m\u001b[0m\u001b[0m\n\u001b[0;32m----> 2\u001b[0;31m \u001b[0ma\u001b[0m\u001b[0;34m.\u001b[0m\u001b[0mmax\u001b[0m\u001b[0;34m(\u001b[0m\u001b[0;34m)\u001b[0m\u001b[0;34m\u001b[0m\u001b[0m\n\u001b[0m\u001b[1;32m      3\u001b[0m \u001b[0;31m#a.max()\u001b[0m\u001b[0;34m\u001b[0m\u001b[0;34m\u001b[0m\u001b[0m\n",
      "\u001b[0;32m/Users/yanndupis/anaconda2/envs/tflearn/lib/python3.5/site-packages/syft-0.1.0-py3.5.egg/syft/tensor.py\u001b[0m in \u001b[0;36mmax\u001b[0;34m(self, dim, keepdim)\u001b[0m\n\u001b[1;32m   1768\u001b[0m             \u001b[0mOutput\u001b[0m \u001b[0mtensor\u001b[0m\u001b[0;34m\u001b[0m\u001b[0m\n\u001b[1;32m   1769\u001b[0m         \"\"\"\n\u001b[0;32m-> 1770\u001b[0;31m         \u001b[0;32mreturn\u001b[0m \u001b[0mself\u001b[0m\u001b[0;34m.\u001b[0m\u001b[0mparams_func\u001b[0m\u001b[0;34m(\u001b[0m\u001b[0;34m\"max\"\u001b[0m\u001b[0;34m,\u001b[0m \u001b[0;34m[\u001b[0m\u001b[0mdim\u001b[0m\u001b[0;34m,\u001b[0m \u001b[0mkeepdim\u001b[0m\u001b[0;34m]\u001b[0m\u001b[0;34m,\u001b[0m \u001b[0mreturn_response\u001b[0m\u001b[0;34m=\u001b[0m\u001b[0;32mTrue\u001b[0m\u001b[0;34m)\u001b[0m\u001b[0;34m\u001b[0m\u001b[0m\n\u001b[0m\u001b[1;32m   1771\u001b[0m \u001b[0;34m\u001b[0m\u001b[0m\n\u001b[1;32m   1772\u001b[0m     \u001b[0;32mdef\u001b[0m \u001b[0msum\u001b[0m\u001b[0;34m(\u001b[0m\u001b[0mself\u001b[0m\u001b[0;34m,\u001b[0m \u001b[0mdim\u001b[0m\u001b[0;34m=\u001b[0m\u001b[0;34m-\u001b[0m\u001b[0;36m1\u001b[0m\u001b[0;34m,\u001b[0m \u001b[0mkeepdim\u001b[0m\u001b[0;34m=\u001b[0m\u001b[0;32mFalse\u001b[0m\u001b[0;34m)\u001b[0m\u001b[0;34m:\u001b[0m\u001b[0;34m\u001b[0m\u001b[0m\n",
      "\u001b[0;32m/Users/yanndupis/anaconda2/envs/tflearn/lib/python3.5/site-packages/syft-0.1.0-py3.5.egg/syft/tensor.py\u001b[0m in \u001b[0;36mparams_func\u001b[0;34m(self, name, params, return_response, return_type, data_is_pointer, delete_after_use)\u001b[0m\n\u001b[1;32m   1472\u001b[0m         \u001b[0;31m# send the command\u001b[0m\u001b[0;34m\u001b[0m\u001b[0;34m\u001b[0m\u001b[0m\n\u001b[1;32m   1473\u001b[0m         res = self.controller.send_json(\n\u001b[0;32m-> 1474\u001b[0;31m             self.cmd(name, params=params))\n\u001b[0m\u001b[1;32m   1475\u001b[0m \u001b[0;34m\u001b[0m\u001b[0m\n\u001b[1;32m   1476\u001b[0m         \u001b[0mself\u001b[0m\u001b[0;34m.\u001b[0m\u001b[0mcontroller\u001b[0m\u001b[0;34m.\u001b[0m\u001b[0mlog\u001b[0m\u001b[0;34m(\u001b[0m\u001b[0mres\u001b[0m\u001b[0;34m)\u001b[0m\u001b[0;34m\u001b[0m\u001b[0m\n",
      "\u001b[0;32m/Users/yanndupis/anaconda2/envs/tflearn/lib/python3.5/site-packages/syft-0.1.0-py3.5.egg/syft/controller.py\u001b[0m in \u001b[0;36msend_json\u001b[0;34m(message, response)\u001b[0m\n\u001b[1;32m    141\u001b[0m \u001b[0;34m\u001b[0m\u001b[0m\n\u001b[1;32m    142\u001b[0m         \u001b[0;32mif\u001b[0m\u001b[0;34m(\u001b[0m\u001b[0;34m\"Unity Error:\"\u001b[0m \u001b[0;34m==\u001b[0m \u001b[0mres\u001b[0m\u001b[0;34m[\u001b[0m\u001b[0;36m0\u001b[0m\u001b[0;34m:\u001b[0m\u001b[0;36m12\u001b[0m\u001b[0;34m]\u001b[0m\u001b[0;34m)\u001b[0m\u001b[0;34m:\u001b[0m\u001b[0;34m\u001b[0m\u001b[0m\n\u001b[0;32m--> 143\u001b[0;31m             \u001b[0;32mraise\u001b[0m \u001b[0mException\u001b[0m\u001b[0;34m(\u001b[0m\u001b[0mres\u001b[0m\u001b[0;34m)\u001b[0m\u001b[0;34m\u001b[0m\u001b[0m\n\u001b[0m\u001b[1;32m    144\u001b[0m         \u001b[0;32mreturn\u001b[0m \u001b[0mres\u001b[0m\u001b[0;34m\u001b[0m\u001b[0m\n\u001b[1;32m    145\u001b[0m \u001b[0;34m\u001b[0m\u001b[0m\n",
      "\u001b[0;31mException\u001b[0m: Unity Error: System.Collections.Generic.KeyNotFoundException: The given key was not present in the dictionary.\n  at System.ThrowHelper.ThrowKeyNotFoundException () [0x00000] in /Users/builduser/buildslave/mono/build/mcs/class/referencesource/mscorlib/system/throwhelper.cs:68 \n  at System.Collections.Generic.Dictionary`2[TKey,TValue].get_Item (TKey key) [0x0001e] in /Users/builduser/buildslave/mono/build/mcs/class/referencesource/mscorlib/system/collections/generic/dictionary.cs:183 \n  at OpenMined.Syft.Tensor.Factories.FloatTensorFactory.Get (System.Int32 id) [0x00008] in /Users/yanndupis/Documents/Data_Science/Encrypted_DL/OpenMined/UnityProject/Assets/OpenMined/Syft/Tensor/Factories/FloatTensorFactory.cs:24 \n  at OpenMined.Syft.Tensor.FloatTensor.HookGraph (OpenMined.Syft.Tensor.FloatTensor& result, System.String creation_op, System.Boolean inline, System.Single scalar_input, OpenMined.Syft.Tensor.FloatTensor[] tensor_inputs, System.Int32[] resultShape, System.Single[] resultData, OpenMined.Syft.Tensor.IntTensor[] indices) [0x00038] in /Users/yanndupis/Documents/Data_Science/Encrypted_DL/OpenMined/UnityProject/Assets/OpenMined/Syft/Tensor/FloatTensor.Graph.cs:73 \n  at OpenMined.Syft.Tensor.FloatTensor.Reduce (System.Func`5[T1,T2,T3,T4,TResult] reducer, System.Func`3[T1,T2,TResult] mapper, System.String creation_op, OpenMined.Syft.Tensor.FloatTensor result) [0x0002d] in /Users/yanndupis/Documents/Data_Science/Encrypted_DL/OpenMined/UnityProject/Assets/OpenMined/Syft/Tensor/FloatTensor.Ops.cs:1310 \n  at OpenMined.Syft.Tensor.FloatTensor.Reduce (System.Int32 dim, System.Boolean keepdim, System.Func`5[T1,T2,T3,T4,TResult] reducer, System.Func`3[T1,T2,TResult] mapper, System.String creation_op, OpenMined.Syft.Tensor.FloatTensor result) [0x0003f] in /Users/yanndupis/Documents/Data_Science/Encrypted_DL/OpenMined/UnityProject/Assets/OpenMined/Syft/Tensor/FloatTensor.Ops.cs:1330 \n  at OpenMined.Syft.Tensor.FloatTensor.Max (System.Int32 dim, System.Boolean keepdim) [0x00083] in /Users/yanndupis/Documents/Data_Science/Encrypted_DL/OpenMined/UnityProject/Assets/OpenMined/Syft/Tensor/FloatTensor.Ops.cs:1063 \n  at OpenMined.Syft.Tensor.FloatTensor.ProcessMessage (OpenMined.Network.Utils.Command msgObj, OpenMined.Network.Controllers.SyftController ctrl) [0x02797] in /Users/yanndupis/Documents/Data_Science/Encrypted_DL/OpenMined/UnityProject/Assets/OpenMined/Syft/Tensor/FloatTensor.cs:1123 \n  at OpenMined.Network.Controllers.SyftController.processMessage (System.String json_message, UnityEngine.MonoBehaviour owner) [0x002dd] in /Users/yanndupis/Documents/Data_Science/Encrypted_DL/OpenMined/UnityProject/Assets/OpenMined/Network/Controllers/SyftController.cs:228 "
     ]
    }
   ],
   "source": [
    "a.max()\n",
    "a.max()\n",
    "#a.max()"
   ]
  },
  {
   "cell_type": "code",
   "execution_count": null,
   "metadata": {
    "collapsed": true
   },
   "outputs": [],
   "source": []
  }
 ],
 "metadata": {
  "kernelspec": {
   "display_name": "Python 3",
   "language": "python",
   "name": "python3"
  },
  "language_info": {
   "codemirror_mode": {
    "name": "ipython",
    "version": 3
   },
   "file_extension": ".py",
   "mimetype": "text/x-python",
   "name": "python",
   "nbconvert_exporter": "python",
   "pygments_lexer": "ipython3",
   "version": "3.5.3"
  }
 },
 "nbformat": 4,
 "nbformat_minor": 2
}

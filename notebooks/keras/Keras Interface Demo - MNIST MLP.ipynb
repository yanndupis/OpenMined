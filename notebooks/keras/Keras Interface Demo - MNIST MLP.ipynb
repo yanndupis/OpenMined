{
 "cells": [
  {
   "cell_type": "code",
   "execution_count": 45,
   "metadata": {},
   "outputs": [
    {
     "name": "stdout",
     "output_type": "stream",
     "text": [
      "60000 train samples\n",
      "10000 test samples\n"
     ]
    }
   ],
   "source": [
    "'''Trains a simple deep NN on the MNIST dataset.\n",
    "Gets to 98.40% test accuracy after 20 epochs\n",
    "(there is *a lot* of margin for parameter tuning).\n",
    "2 seconds per epoch on a K520 GPU.\n",
    "'''\n",
    "\n",
    "# Original Demo: https://github.com/keras-team/keras/blob/master/examples/mnist_mlp.py\n",
    "\n",
    "from __future__ import print_function\n",
    "\n",
    "import keras\n",
    "from keras.datasets import mnist\n",
    "from keras.models import Sequential\n",
    "from keras.layers import Dense, Dropout\n",
    "from keras.optimizers import SGD\n",
    "\n",
    "# import syft.interfaces.keras as keras\n",
    "# from syft.interfaces.keras.datasets import mnist\n",
    "# from syft.interfaces.keras.models import Sequential\n",
    "# from syft.interfaces.keras.layers import Dense, Dropout\n",
    "# from syft.interfaces.keras.optimizers import SGD\n",
    "\n",
    "batch_size = 128\n",
    "num_classes = 10\n",
    "epochs = 20\n",
    "\n",
    "# the data, shuffled and split between train and test sets\n",
    "(x_train, y_train), (x_test, y_test) = mnist.load_data()\n",
    "\n",
    "x_train = x_train.reshape(60000, 784)\n",
    "x_test = x_test.reshape(10000, 784)\n",
    "x_train = x_train.astype('float32')\n",
    "x_test = x_test.astype('float32')\n",
    "x_train /= 255\n",
    "x_test /= 255\n",
    "print(x_train.shape[0], 'train samples')\n",
    "print(x_test.shape[0], 'test samples')\n",
    "\n",
    "# convert class vectors to binary class matrices\n",
    "y_train = keras.utils.to_categorical(y_train, num_classes)\n",
    "y_test = keras.utils.to_categorical(y_test, num_classes)\n",
    "\n",
    "model = Sequential()\n",
    "# model.add(Dense(512, activation='relu', input_shape=(784,)))\n",
    "# model.add(Dropout(0.2))\n",
    "# model.add(Dense(512, activation='relu'))\n",
    "# model.add(Dropout(0.2))\n",
    "model.add(Dense(num_classes, activation='softmax',input_shape=(784,)))"
   ]
  },
  {
   "cell_type": "code",
   "execution_count": 46,
   "metadata": {
    "collapsed": true
   },
   "outputs": [],
   "source": [
    "model.compile(loss='categorical_crossentropy',\n",
    "              optimizer=SGD(),\n",
    "              metrics=['accuracy'])"
   ]
  },
  {
   "cell_type": "code",
   "execution_count": 47,
   "metadata": {},
   "outputs": [
    {
     "name": "stdout",
     "output_type": "stream",
     "text": [
      "_________________________________________________________________\n",
      "Layer (type)                 Output Shape              Param #   \n",
      "=================================================================\n",
      "dense_8 (Dense)              (None, 10)                7850      \n",
      "=================================================================\n",
      "Total params: 7,850\n",
      "Trainable params: 7,850\n",
      "Non-trainable params: 0\n",
      "_________________________________________________________________\n"
     ]
    }
   ],
   "source": [
    "model.summary()"
   ]
  },
  {
   "cell_type": "code",
   "execution_count": 49,
   "metadata": {
    "scrolled": false
   },
   "outputs": [
    {
     "name": "stdout",
     "output_type": "stream",
     "text": [
      "Train on 60000 samples, validate on 10000 samples\n",
      "Epoch 1/20\n",
      "60000/60000 [==============================] - 1s - loss: 0.3414 - acc: 0.9054 - val_loss: 0.3248 - val_acc: 0.9113\n",
      "Epoch 2/20\n",
      "60000/60000 [==============================] - 1s - loss: 0.3393 - acc: 0.9059 - val_loss: 0.3231 - val_acc: 0.9121\n",
      "Epoch 3/20\n",
      "60000/60000 [==============================] - 1s - loss: 0.3372 - acc: 0.9067 - val_loss: 0.3217 - val_acc: 0.9126\n",
      "Epoch 4/20\n",
      "60000/60000 [==============================] - 1s - loss: 0.3354 - acc: 0.9070 - val_loss: 0.3199 - val_acc: 0.9128\n",
      "Epoch 5/20\n",
      "60000/60000 [==============================] - 1s - loss: 0.3335 - acc: 0.9074 - val_loss: 0.3183 - val_acc: 0.9130\n",
      "Epoch 6/20\n",
      "60000/60000 [==============================] - 1s - loss: 0.3319 - acc: 0.9076 - val_loss: 0.3170 - val_acc: 0.9138\n",
      "Epoch 7/20\n",
      "60000/60000 [==============================] - 1s - loss: 0.3302 - acc: 0.9085 - val_loss: 0.3157 - val_acc: 0.9137\n",
      "Epoch 8/20\n",
      "60000/60000 [==============================] - 1s - loss: 0.3287 - acc: 0.9087 - val_loss: 0.3142 - val_acc: 0.9142\n",
      "Epoch 9/20\n",
      "60000/60000 [==============================] - 1s - loss: 0.3273 - acc: 0.9089 - val_loss: 0.3130 - val_acc: 0.9144\n",
      "Epoch 10/20\n",
      "60000/60000 [==============================] - 1s - loss: 0.3259 - acc: 0.9095 - val_loss: 0.3119 - val_acc: 0.9147\n",
      "Epoch 11/20\n",
      "60000/60000 [==============================] - 1s - loss: 0.3245 - acc: 0.9100 - val_loss: 0.3106 - val_acc: 0.9154\n",
      "Epoch 12/20\n",
      "60000/60000 [==============================] - 1s - loss: 0.3232 - acc: 0.9102 - val_loss: 0.3096 - val_acc: 0.9155\n",
      "Epoch 13/20\n",
      "60000/60000 [==============================] - 1s - loss: 0.3220 - acc: 0.9102 - val_loss: 0.3089 - val_acc: 0.9153\n",
      "Epoch 14/20\n",
      "60000/60000 [==============================] - 1s - loss: 0.3208 - acc: 0.9109 - val_loss: 0.3077 - val_acc: 0.9157\n",
      "Epoch 15/20\n",
      "60000/60000 [==============================] - 1s - loss: 0.3197 - acc: 0.9110 - val_loss: 0.3067 - val_acc: 0.9155\n",
      "Epoch 16/20\n",
      "60000/60000 [==============================] - 1s - loss: 0.3186 - acc: 0.9114 - val_loss: 0.3057 - val_acc: 0.9158\n",
      "Epoch 17/20\n",
      "60000/60000 [==============================] - 1s - loss: 0.3176 - acc: 0.9115 - val_loss: 0.3048 - val_acc: 0.9163\n",
      "Epoch 18/20\n",
      "60000/60000 [==============================] - 1s - loss: 0.3165 - acc: 0.9119 - val_loss: 0.3043 - val_acc: 0.9162\n",
      "Epoch 19/20\n",
      "60000/60000 [==============================] - 1s - loss: 0.3156 - acc: 0.9124 - val_loss: 0.3035 - val_acc: 0.9159\n",
      "Epoch 20/20\n",
      "60000/60000 [==============================] - 1s - loss: 0.3146 - acc: 0.9126 - val_loss: 0.3025 - val_acc: 0.9172\n"
     ]
    }
   ],
   "source": [
    "history = model.fit(x_train, y_train,\n",
    "                    batch_size=128,\n",
    "                    epochs=epochs,\n",
    "                    verbose=1,\n",
    "                    validation_data=(x_test, y_test))"
   ]
  },
  {
   "cell_type": "code",
   "execution_count": 5,
   "metadata": {},
   "outputs": [
    {
     "ename": "AttributeError",
     "evalue": "'Sequential' object has no attribute 'evaluate'",
     "output_type": "error",
     "traceback": [
      "\u001b[0;31m---------------------------------------------------------------------------\u001b[0m",
      "\u001b[0;31mAttributeError\u001b[0m                            Traceback (most recent call last)",
      "\u001b[0;32m<ipython-input-5-cc742971e56d>\u001b[0m in \u001b[0;36m<module>\u001b[0;34m()\u001b[0m\n\u001b[0;32m----> 1\u001b[0;31m \u001b[0mscore\u001b[0m \u001b[0;34m=\u001b[0m \u001b[0mmodel\u001b[0m\u001b[0;34m.\u001b[0m\u001b[0mevaluate\u001b[0m\u001b[0;34m(\u001b[0m\u001b[0mx_test\u001b[0m\u001b[0;34m,\u001b[0m \u001b[0my_test\u001b[0m\u001b[0;34m,\u001b[0m \u001b[0mverbose\u001b[0m\u001b[0;34m=\u001b[0m\u001b[0;36m0\u001b[0m\u001b[0;34m)\u001b[0m\u001b[0;34m\u001b[0m\u001b[0m\n\u001b[0m\u001b[1;32m      2\u001b[0m \u001b[0mprint\u001b[0m\u001b[0;34m(\u001b[0m\u001b[0;34m'Test loss:'\u001b[0m\u001b[0;34m,\u001b[0m \u001b[0mscore\u001b[0m\u001b[0;34m[\u001b[0m\u001b[0;36m0\u001b[0m\u001b[0;34m]\u001b[0m\u001b[0;34m)\u001b[0m\u001b[0;34m\u001b[0m\u001b[0m\n\u001b[1;32m      3\u001b[0m \u001b[0mprint\u001b[0m\u001b[0;34m(\u001b[0m\u001b[0;34m'Test accuracy:'\u001b[0m\u001b[0;34m,\u001b[0m \u001b[0mscore\u001b[0m\u001b[0;34m[\u001b[0m\u001b[0;36m1\u001b[0m\u001b[0;34m]\u001b[0m\u001b[0;34m)\u001b[0m\u001b[0;34m\u001b[0m\u001b[0m\n",
      "\u001b[0;31mAttributeError\u001b[0m: 'Sequential' object has no attribute 'evaluate'"
     ]
    }
   ],
   "source": [
    "score = model.evaluate(x_test, y_test, verbose=0)\n",
    "print('Test loss:', score[0])\n",
    "print('Test accuracy:', score[1])"
   ]
  },
  {
   "cell_type": "code",
   "execution_count": null,
   "metadata": {
    "collapsed": true
   },
   "outputs": [],
   "source": []
  }
 ],
 "metadata": {
  "kernelspec": {
   "display_name": "Python 3",
   "language": "python",
   "name": "python3"
  },
  "language_info": {
   "codemirror_mode": {
    "name": "ipython",
    "version": 3
   },
   "file_extension": ".py",
   "mimetype": "text/x-python",
   "name": "python",
   "nbconvert_exporter": "python",
   "pygments_lexer": "ipython3",
   "version": "3.6.1"
  }
 },
 "nbformat": 4,
 "nbformat_minor": 2
}

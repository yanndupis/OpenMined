{
 "cells": [
  {
   "cell_type": "code",
   "execution_count": 1,
   "metadata": {},
   "outputs": [
    {
     "name": "stderr",
     "output_type": "stream",
     "text": [
      "/home/david/code/OpenMined/openmined_env/lib/python3.5/site-packages/IPython/html.py:14: ShimWarning: The `IPython.html` package has been deprecated since IPython 4.0. You should import from `notebook` instead. `IPython.html.widgets` has moved to `ipywidgets`.\n",
      "  \"`IPython.html.widgets` has moved to `ipywidgets`.\", ShimWarning)\n"
     ]
    }
   ],
   "source": [
    "import syft\n",
    "import syft.nn as nn\n",
    "\n",
    "import imp\n",
    "imp.reload(syft)\n",
    "imp.reload(syft.nn)\n",
    "\n",
    "import numpy as np\n",
    "from syft import FloatTensor"
   ]
  },
  {
   "cell_type": "code",
   "execution_count": 2,
   "metadata": {},
   "outputs": [
    {
     "name": "stdout",
     "output_type": "stream",
     "text": [
      "Sum of absolute difference per parameter\n",
      "1057.78273364\n",
      "332.753012518\n",
      "238.117063261\n",
      "931.93597974\n",
      "Average absolute difference using syft.random() 0.33985596813589997\n",
      "Average absolute difference using syft.randn() 1.15106533576001\n"
     ]
    }
   ],
   "source": [
    "syft.set_seed(0) # Setting seed to 0 turns off any previously activated random seed\n",
    "model = nn.Sequential([\n",
    "    nn.Linear(250,100, initializer=\"Xavier\"),\n",
    "    nn.Tanh(),\n",
    "    nn.Linear(100,50, initializer=\"Xavier\"),\n",
    "    nn.Tanh(),\n",
    "    nn.Linear(50,50, initializer=\"Xavier\"),\n",
    "    nn.Tanh(),\n",
    "    nn.Linear(50,200, initializer=\"Xavier\"),\n",
    "    nn.Sigmoid()\n",
    "])\n",
    "parameters = []\n",
    "for parameter in model.parameters():\n",
    "    if parameter.shape()[0] != 1:\n",
    "        parameters.append(parameter.to_numpy())\n",
    "model = nn.Sequential([\n",
    "    nn.Linear(250,100, initializer=\"Xavier\"),\n",
    "    nn.Tanh(),\n",
    "    nn.Linear(100,50, initializer=\"Xavier\"),\n",
    "    nn.Tanh(),\n",
    "    nn.Linear(50,50, initializer=\"Xavier\"),\n",
    "    nn.Tanh(),\n",
    "    nn.Linear(50,200, initializer=\"Xavier\"),\n",
    "    nn.Sigmoid()\n",
    "])\n",
    "parameters2 = []\n",
    "for parameter in model.parameters():\n",
    "    if parameter.shape()[0] !=1:\n",
    "        parameters2.append(parameter.to_numpy())\n",
    "        \n",
    "print(\"Sum of absolute difference per parameter\")\n",
    "for p1, p2 in zip(parameters, parameters2):\n",
    "    print(np.sum(np.abs(p1 - p2)))\n",
    "print(\"Average absolute difference using syft.random() {}\"\\\n",
    "      .format(np.sum(np.abs(syft.random(100,10).to_numpy() - syft.random(100,10).to_numpy()))/1000.0))\n",
    "print(\"Average absolute difference using syft.randn() {}\"\\\n",
    "      .format(np.sum(np.abs(syft.randn(100,10).to_numpy() - syft.randn(100,10).to_numpy()))/1000.0))"
   ]
  },
  {
   "cell_type": "code",
   "execution_count": 4,
   "metadata": {},
   "outputs": [
    {
     "name": "stdout",
     "output_type": "stream",
     "text": [
      "Parameters model 1\n",
      "[[-0.03263339 -0.04554856 -0.05024899]\n",
      " [ 0.04565185 -0.04313135 -0.03211186]\n",
      " [ 0.05663639 -0.00955244 -0.0624229 ]]\n",
      "Parameters model 2\n",
      "[[-0.00256749 -0.06185    -0.03395993]\n",
      " [ 0.03186226 -0.01380227  0.0389542 ]\n",
      " [-0.03664888  0.02250374  0.06318238]]\n",
      "\n",
      "random generated numbers\n",
      "[[ 0.4536183  0.3163836  0.3438403]\n",
      " [ 0.3064705  0.2716374  0.511596 ]\n",
      " [ 0.1366993  0.9746667  0.9886935]]\n",
      "random generated numbers\n",
      "[[ 0.5323028  0.7524583  0.3155937]\n",
      " [ 0.2183477  0.2264375  0.5325262]\n",
      " [ 0.0138793  0.9350786  0.3100049]]\n"
     ]
    }
   ],
   "source": [
    "print(\"Parameters model 1\")\n",
    "print(parameters[0][0:3,0:3])\n",
    "\n",
    "print(\"Parameters model 2\")\n",
    "print(parameters2[0][0:3,0:3])\n",
    "\n",
    "print(\"\\nrandom generated numbers\")\n",
    "print(syft.random(3,3).to_numpy())\n",
    "print(\"random generated numbers\")\n",
    "print(syft.random(3,3).to_numpy())"
   ]
  },
  {
   "cell_type": "markdown",
   "metadata": {},
   "source": [
    "# Now setting the random seed to 123"
   ]
  },
  {
   "cell_type": "code",
   "execution_count": 5,
   "metadata": {},
   "outputs": [
    {
     "name": "stdout",
     "output_type": "stream",
     "text": [
      "Sum of absolute difference per parameter\n",
      "0.0\n",
      "0.0\n",
      "0.0\n",
      "0.0\n",
      "Average absolute difference using syft.random() 0.0\n",
      "Average absolute difference using syft.randn() 0.0\n"
     ]
    }
   ],
   "source": [
    "syft.set_seed(123)\n",
    "model = nn.Sequential([\n",
    "    nn.Linear(250,100, initializer=\"Xavier\"),\n",
    "    nn.Tanh(),\n",
    "    nn.Linear(100,50, initializer=\"Xavier\"),\n",
    "    nn.Tanh(),\n",
    "    nn.Linear(50,50, initializer=\"Xavier\"),\n",
    "    nn.Tanh(),\n",
    "    nn.Linear(50,200, initializer=\"Xavier\"),\n",
    "    nn.Sigmoid()\n",
    "])\n",
    "parameters = []\n",
    "for parameter in model.parameters():\n",
    "    if parameter.shape()[0] != 1:\n",
    "        parameters.append(parameter.to_numpy())\n",
    "model = nn.Sequential([\n",
    "    nn.Linear(250,100, initializer=\"Xavier\"),\n",
    "    nn.Tanh(),\n",
    "    nn.Linear(100,50, initializer=\"Xavier\"),\n",
    "    nn.Tanh(),\n",
    "    nn.Linear(50,50, initializer=\"Xavier\"),\n",
    "    nn.Tanh(),\n",
    "    nn.Linear(50,200, initializer=\"Xavier\"),\n",
    "    nn.Sigmoid()\n",
    "])\n",
    "parameters2 = []\n",
    "for parameter in model.parameters():\n",
    "    if parameter.shape()[0] !=1:\n",
    "        parameters2.append(parameter.to_numpy())\n",
    "        \n",
    "print(\"Sum of absolute difference per parameter\")\n",
    "for p1, p2 in zip(parameters, parameters2):\n",
    "    print(np.sum(np.abs(p1 - p2)))\n",
    "print(\"Average absolute difference using syft.random() {}\"\\\n",
    "      .format(np.sum(np.abs(syft.random(100,10).to_numpy() - syft.random(100,10).to_numpy()))/1000.0))\n",
    "print(\"Average absolute difference using syft.randn() {}\"\\\n",
    "      .format(np.sum(np.abs(syft.randn(100,10).to_numpy() - syft.randn(100,10).to_numpy()))/1000.0))"
   ]
  },
  {
   "cell_type": "code",
   "execution_count": 6,
   "metadata": {},
   "outputs": [
    {
     "name": "stdout",
     "output_type": "stream",
     "text": [
      "Parameters model 1\n",
      "[[-0.01261038 -0.01589158 -0.03097501]\n",
      " [ 0.0461694   0.00037401  0.01462568]\n",
      " [-0.05269117  0.04107428 -0.0498594 ]]\n",
      "Parameters model 2\n",
      "[[-0.01261038 -0.01589158 -0.03097501]\n",
      " [ 0.0461694   0.00037401  0.01462568]\n",
      " [-0.05269117  0.04107428 -0.0498594 ]]\n",
      "\n",
      "random generated numbers\n",
      "[[ 0.5996938   0.625634    0.7448789 ]\n",
      " [ 0.2736391   0.3258087   0.9293917 ]\n",
      " [ 0.07169164  0.656182    0.1452859 ]]\n",
      "random generated numbers\n",
      "[[ 0.5996938   0.625634    0.7448789 ]\n",
      " [ 0.2736391   0.3258087   0.9293917 ]\n",
      " [ 0.07169164  0.656182    0.1452859 ]]\n"
     ]
    }
   ],
   "source": [
    "print(\"Parameters model 1\")\n",
    "print(parameters[0][0:3,0:3])\n",
    "\n",
    "print(\"Parameters model 2\")\n",
    "print(parameters2[0][0:3,0:3])\n",
    "\n",
    "print(\"\\nrandom generated numbers\")\n",
    "print(syft.random(3,3).to_numpy())\n",
    "print(\"random generated numbers\")\n",
    "print(syft.random(3,3).to_numpy())"
   ]
  },
  {
   "cell_type": "code",
   "execution_count": null,
   "metadata": {},
   "outputs": [],
   "source": []
  }
 ],
 "metadata": {
  "kernelspec": {
   "display_name": "Python 3",
   "language": "python",
   "name": "python3"
  },
  "language_info": {
   "codemirror_mode": {
    "name": "ipython",
    "version": 3
   },
   "file_extension": ".py",
   "mimetype": "text/x-python",
   "name": "python",
   "nbconvert_exporter": "python",
   "pygments_lexer": "ipython3",
   "version": "3.5.2"
  }
 },
 "nbformat": 4,
 "nbformat_minor": 2
}

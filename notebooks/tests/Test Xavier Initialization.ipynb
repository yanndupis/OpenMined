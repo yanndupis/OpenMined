{
 "cells": [
  {
   "cell_type": "markdown",
   "metadata": {},
   "source": [
    "# Test Xavier Weight Initialization\n",
    "First try to solve the model using Xavier weight initialization, then using random weight initialization. This shows using Xavier initialization gives better convergence."
   ]
  },
  {
   "cell_type": "code",
   "execution_count": 32,
   "metadata": {},
   "outputs": [],
   "source": [
    "import syft\n",
    "import syft.nn as nn\n",
    "\n",
    "import imp\n",
    "imp.reload(syft)\n",
    "imp.reload(syft.nn)\n",
    "\n",
    "import numpy as np\n",
    "from syft import FloatTensor"
   ]
  },
  {
   "cell_type": "code",
   "execution_count": 33,
   "metadata": {},
   "outputs": [],
   "source": [
    "lin = nn.Linear(250,100, initializer=\"Xavier\")\n",
    "\n",
    "model = nn.Sequential([\n",
    "    lin,\n",
    "    nn.Tanh(),\n",
    "    nn.Linear(100,50, initializer=\"Xavier\"),\n",
    "    nn.Tanh(),\n",
    "    nn.Linear(50,50, initializer=\"Xavier\"),\n",
    "    nn.Tanh(),\n",
    "    nn.Linear(50,200, initializer=\"Xavier\"),\n",
    "    nn.Sigmoid()\n",
    "])\n",
    "np.random.seed(123)\n",
    "input = FloatTensor(np.random.rand(100,250), autograd=True)\n",
    "np.random.seed(123)\n",
    "target = FloatTensor(np.random.randint(0, 1, (100,200)), autograd=True)\n",
    "np.random.seed(123)\n",
    "grad = FloatTensor(0.01*np.ones((100,200)), autograd=False)"
   ]
  },
  {
   "cell_type": "code",
   "execution_count": 34,
   "metadata": {},
   "outputs": [
    {
     "name": "stdout",
     "output_type": "stream",
     "text": [
      "Shape of weights (250, 100) - Sqrt of 1/(# inputs) 0.063246\n",
      "Mean value 0.000010 max value 0.063240 min value -0.063228 \n",
      "\n",
      "Shape of weights (100, 50) - Sqrt of 1/(# inputs) 0.100000\n",
      "Mean value -0.000313 max value 0.099975 min value -0.099972 \n",
      "\n",
      "Shape of weights (50, 50) - Sqrt of 1/(# inputs) 0.141421\n",
      "Mean value -0.001772 max value 0.141386 min value -0.141382 \n",
      "\n",
      "Shape of weights (50, 200) - Sqrt of 1/(# inputs) 0.141421\n",
      "Mean value 0.000441 max value 0.141386 min value -0.141382 \n",
      "\n"
     ]
    }
   ],
   "source": [
    "for param in model.parameters():\n",
    "    param_np = param.to_numpy()\n",
    "    if param_np.shape[0] != 1: # Skip bias weights\n",
    "        print(\"Shape of weights {} - Sqrt of 1/(# inputs) {:4f}\".format(param_np.shape, np.sqrt(1.0/param_np.shape[0])))\n",
    "        print(\"Mean value {:2f} max value {:4f} min value {:4f} \\n\".format(np.mean(param_np), np.max(param_np), np.min(param_np)))"
   ]
  },
  {
   "cell_type": "code",
   "execution_count": 35,
   "metadata": {},
   "outputs": [
    {
     "name": "stdout",
     "output_type": "stream",
     "text": [
      "4975.3066489\n",
      "2817.99148144\n",
      "24.6610177812\n",
      "9.70027632113\n",
      "7.98010182634\n",
      "6.89689011504\n",
      "6.12607268282\n",
      "5.53921544536\n",
      "5.07230684267\n",
      "4.68899085584\n",
      "4.36674678708\n",
      "4.09072019851\n",
      "3.85062905697\n",
      "3.63908115758\n",
      "3.45059191323\n"
     ]
    }
   ],
   "source": [
    "for i in range(15):\n",
    "    pred = model(input)\n",
    "    loss = (pred - target) ** 2\n",
    "    loss.backward(grad)\n",
    "    # note: zeroing out gradients has to happen by hand\n",
    "    for p in model.parameters():\n",
    "        p -= p.grad()\n",
    "    print(loss.to_numpy().sum())"
   ]
  },
  {
   "cell_type": "markdown",
   "metadata": {},
   "source": [
    "** Without using Xavier Initialization **"
   ]
  },
  {
   "cell_type": "code",
   "execution_count": 39,
   "metadata": {},
   "outputs": [],
   "source": [
    "lin = nn.Linear(250,100, initializer=\"x\")\n",
    "\n",
    "model = nn.Sequential([\n",
    "    lin,\n",
    "    nn.Tanh(),\n",
    "    nn.Linear(100,50, initializer=\"x\"),\n",
    "    nn.Tanh(),\n",
    "    nn.Linear(50,50, initializer=\"x\"),\n",
    "    nn.Tanh(),\n",
    "    nn.Linear(50,200, initializer=\"x\"),\n",
    "    nn.Sigmoid()\n",
    "])\n",
    "np.random.seed(123)\n",
    "input = FloatTensor(np.random.rand(100,250), autograd=True)\n",
    "np.random.seed(123)\n",
    "target = FloatTensor(np.random.randint(0, 1, (100,200)), autograd=True)\n",
    "np.random.seed(123)\n",
    "grad = FloatTensor(0.01*np.ones((100,200)), autograd=False)"
   ]
  },
  {
   "cell_type": "code",
   "execution_count": 40,
   "metadata": {},
   "outputs": [
    {
     "name": "stdout",
     "output_type": "stream",
     "text": [
      "Shape of weights (250, 100) - Sqrt of 1/(# inputs) 0.063246\n",
      "Mean value -0.000155 max value 0.999725 min value -0.999917 \n",
      "\n",
      "Shape of weights (100, 50) - Sqrt of 1/(# inputs) 0.100000\n",
      "Mean value 0.003130 max value 0.999725 min value -0.999748 \n",
      "\n",
      "Shape of weights (50, 50) - Sqrt of 1/(# inputs) 0.141421\n",
      "Mean value 0.012528 max value 0.999725 min value -0.999748 \n",
      "\n",
      "Shape of weights (50, 200) - Sqrt of 1/(# inputs) 0.141421\n",
      "Mean value -0.003119 max value 0.999725 min value -0.999748 \n",
      "\n"
     ]
    }
   ],
   "source": [
    "for param in model.parameters():\n",
    "    param_np = param.to_numpy()\n",
    "    if param_np.shape[0] != 1: # Skip bias weights\n",
    "        print(\"Shape of weights {} - Sqrt of 1/(# inputs) {:4f}\".format(param_np.shape, np.sqrt(1.0/param_np.shape[0])))\n",
    "        print(\"Mean value {:2f} max value {:4f} min value {:4f} \\n\".format(np.mean(param_np), np.max(param_np), np.min(param_np)))"
   ]
  },
  {
   "cell_type": "code",
   "execution_count": 41,
   "metadata": {},
   "outputs": [
    {
     "name": "stdout",
     "output_type": "stream",
     "text": [
      "7532.93115248\n",
      "4328.6242998\n",
      "1247.12350158\n",
      "527.160001765\n",
      "305.659551966\n",
      "301.321585643\n",
      "298.716477336\n",
      "283.256217185\n",
      "201.75580824\n",
      "201.581933988\n",
      "201.448387705\n",
      "201.341319961\n",
      "201.252886501\n",
      "201.178198584\n",
      "201.114011104\n"
     ]
    }
   ],
   "source": [
    "for i in range(15):\n",
    "    pred = model(input)\n",
    "    loss = (pred - target) ** 2\n",
    "    loss.backward(grad)\n",
    "    # note: zeroing out gradients has to happen by hand\n",
    "    for p in model.parameters():\n",
    "        p -= p.grad()\n",
    "    print(loss.to_numpy().sum())"
   ]
  },
  {
   "cell_type": "code",
   "execution_count": null,
   "metadata": {},
   "outputs": [],
   "source": []
  }
 ],
 "metadata": {
  "kernelspec": {
   "display_name": "Python 3",
   "language": "python",
   "name": "python3"
  },
  "language_info": {
   "codemirror_mode": {
    "name": "ipython",
    "version": 3
   },
   "file_extension": ".py",
   "mimetype": "text/x-python",
   "name": "python",
   "nbconvert_exporter": "python",
   "pygments_lexer": "ipython3",
   "version": "3.5.2"
  }
 },
 "nbformat": 4,
 "nbformat_minor": 2
}

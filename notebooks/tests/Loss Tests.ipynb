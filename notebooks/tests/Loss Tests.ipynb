{
 "cells": [
  {
   "cell_type": "code",
   "execution_count": 1,
   "metadata": {
    "collapsed": true
   },
   "outputs": [],
   "source": [
    "import syft\n",
    "import syft.nn as nn\n",
    "from syft.controller import tensors, models\n",
    "import imp\n",
    "imp.reload(syft.controller)\n",
    "imp.reload(syft.nn)\n",
    "imp.reload(syft)\n",
    "\n",
    "import numpy as np\n",
    "from syft import FloatTensor"
   ]
  },
  {
   "cell_type": "code",
   "execution_count": 2,
   "metadata": {
    "collapsed": true
   },
   "outputs": [],
   "source": [
    "model = nn.Sequential([\n",
    "    nn.Linear(3,4),\n",
    "    nn.Sigmoid(),\n",
    "    nn.Linear(4,1),\n",
    "    nn.Sigmoid()\n",
    "])"
   ]
  },
  {
   "cell_type": "code",
   "execution_count": 3,
   "metadata": {
    "collapsed": true
   },
   "outputs": [],
   "source": [
    "input_data = np.array([[0,0,1],[0,1.0,1],[1,0,1],[1,1,1]])\n",
    "target_data = np.array([[0],[0],[1],[1]])\n",
    "input = FloatTensor([[0,0,1],[0,1.0,1],[1,0,1],[1,1,1]], autograd=True)\n",
    "target = FloatTensor([[0],[0],[1],[1]], autograd=True)"
   ]
  },
  {
   "cell_type": "code",
   "execution_count": 4,
   "metadata": {
    "collapsed": true
   },
   "outputs": [],
   "source": [
    "pred = model(input)\n",
    "#loss = (pred - target) ** 2\n",
    "#loss.backward()"
   ]
  },
  {
   "cell_type": "code",
   "execution_count": 5,
   "metadata": {},
   "outputs": [
    {
     "data": {
      "text/plain": [
       "[[ 0.7043499]\n",
       " [ 0.7426865]\n",
       " [ 0.7711535]\n",
       " [ 0.7993531]]\n",
       "[syft.FloatTensor:10 grad:None size:4x1]\n",
       "\n",
       "\t-----------creators-----------\n",
       "\t[syft.FloatTensor:9 grad:None size:4x1]\n",
       "\t------------------------------\n",
       "\n"
      ]
     },
     "execution_count": 5,
     "metadata": {},
     "output_type": "execute_result"
    }
   ],
   "source": [
    "pred"
   ]
  },
  {
   "cell_type": "code",
   "execution_count": 6,
   "metadata": {},
   "outputs": [
    {
     "name": "stdout",
     "output_type": "stream",
     "text": [
      "  1.140322 \n",
      "\n",
      "  1.140322 \n",
      "\n"
     ]
    }
   ],
   "source": [
    "# Testing MSELoss: \n",
    "loss = (nn.MSELoss()).forward(pred,target)\n",
    "print(loss)\n",
    "print(((pred-target)**2).sum())"
   ]
  },
  {
   "cell_type": "code",
   "execution_count": 6,
   "metadata": {},
   "outputs": [
    {
     "name": "stdout",
     "output_type": "stream",
     "text": [
      "[[ 0.7043499]\n",
      " [ 0.7426865]\n",
      " [ 0.7711535]\n",
      " [ 0.7993531]]\n",
      "[[ 0.23765225]\n",
      " [ 0.24693993]\n",
      " [ 0.25407058]\n",
      " [ 0.26133724]]\n"
     ]
    },
    {
     "data": {
      "text/plain": [
       "-0.45856718401967267"
      ]
     },
     "execution_count": 6,
     "metadata": {},
     "output_type": "execute_result"
    }
   ],
   "source": [
    "#Manual Cross Entropy Calc: \n",
    "def softmax(x):\n",
    "    \"\"\"Compute softmax values for each sets of scores in x.\"\"\"\n",
    "    return np.exp(x) / np.sum(np.exp(x), axis=0)\n",
    "print(pred.to_numpy())\n",
    "print(softmax(pred.to_numpy()))\n",
    "-1*np.sum(target_data*np.log1p(softmax(pred.to_numpy())))"
   ]
  },
  {
   "cell_type": "code",
   "execution_count": 7,
   "metadata": {},
   "outputs": [
    {
     "name": "stdout",
     "output_type": "stream",
     "text": [
      " -1.386294 \n",
      "\n",
      "   0.7043499 \n",
      "   0.7426865 \n",
      "   0.7711535 \n",
      "   0.7993531  \n",
      "\n"
     ]
    }
   ],
   "source": [
    "# Testing Cross Entropy Loss\n",
    "loss = (nn.CrossEntropyLoss()).forward(pred,target)\n",
    "print(loss)"
   ]
  },
  {
   "cell_type": "markdown",
   "metadata": {},
   "source": [
    "Just testing the printing works: "
   ]
  },
  {
   "cell_type": "code",
   "execution_count": 8,
   "metadata": {},
   "outputs": [
    {
     "data": {
      "text/plain": [
       "<syft.nn.linear at 1>\n",
       "\t W:[syft.FloatTensor:1 grad:None size:3x4]\n",
       "\t A:[syft.FloatTensor:7 grad:None size:4x4]\n",
       "\n",
       "<syft.nn.sigmoid at 2>\n",
       "\t A:[syft.FloatTensor:8 grad:None size:4x4]\n",
       "\n",
       "<syft.nn.linear at 3>\n",
       "\t W:[syft.FloatTensor:3 grad:None size:4x1]\n",
       "\t A:[syft.FloatTensor:9 grad:None size:4x1]\n",
       "\n",
       "<syft.nn.sigmoid at 4>\n",
       "\t A:[syft.FloatTensor:10 grad:None size:4x1]\n"
      ]
     },
     "execution_count": 8,
     "metadata": {},
     "output_type": "execute_result"
    }
   ],
   "source": [
    "model"
   ]
  },
  {
   "cell_type": "code",
   "execution_count": null,
   "metadata": {
    "collapsed": true
   },
   "outputs": [],
   "source": []
  }
 ],
 "metadata": {
  "kernelspec": {
   "display_name": "Python 3",
   "language": "python",
   "name": "python3"
  },
  "language_info": {
   "codemirror_mode": {
    "name": "ipython",
    "version": 3
   },
   "file_extension": ".py",
   "mimetype": "text/x-python",
   "name": "python",
   "nbconvert_exporter": "python",
   "pygments_lexer": "ipython3",
   "version": "3.6.1"
  }
 },
 "nbformat": 4,
 "nbformat_minor": 2
}

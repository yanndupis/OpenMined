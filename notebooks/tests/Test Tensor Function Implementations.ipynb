{
 "cells": [
  {
   "cell_type": "markdown",
   "metadata": {},
   "source": [
    "This is not a robust testing suite, but simply verifies which functions have been implemented and are working.\n",
    "\n",
    "I use this notebook to generate the expected values when adding to `integration/tests.py`. \n",
    "\n",
    "Following [Torch math operations](http://pytorch.org/docs/master/torch.html#math-operations).\n",
    "\n",
    "Completed abs() through fmod(), feel free to continue building tests! \n",
    "\n",
    "Skipped:\n",
    "\n",
    "- add()\n",
    "- atan2(input1, input2, out=None)\n",
    "- div()\n",
    "\n",
    "Remaining:\n",
    "\n",
    "- The three above\n",
    "- Everything below fmod() in the link provided above\n",
    "\n",
    "Want to pick up where I left off? Start [here](http://pytorch.org/docs/master/torch.html#torch.frac).\n",
    "\n",
    "In general, I'll build both a PySyft tensor and a PyTorch tensor, perform the same operation and ensure the result is the same."
   ]
  },
  {
   "cell_type": "code",
   "execution_count": null,
   "metadata": {
    "collapsed": true
   },
   "outputs": [],
   "source": [
    "import syft\n",
    "import syft.nn as nn\n",
    "import syft.controller\n",
    "import imp\n",
    "imp.reload(syft.controller)\n",
    "imp.reload(syft.nn)\n",
    "imp.reload(syft)\n",
    "\n",
    "import numpy as np\n",
    "from syft import FloatTensor"
   ]
  },
  {
   "cell_type": "code",
   "execution_count": null,
   "metadata": {
    "collapsed": true
   },
   "outputs": [],
   "source": [
    "import torch"
   ]
  },
  {
   "cell_type": "markdown",
   "metadata": {},
   "source": [
    "## Comparing PySyft operations to PyTorch operations"
   ]
  },
  {
   "cell_type": "markdown",
   "metadata": {},
   "source": [
    "#### abs()"
   ]
  },
  {
   "cell_type": "code",
   "execution_count": null,
   "metadata": {
    "collapsed": true
   },
   "outputs": [],
   "source": [
    "data = np.array([-1,-2,3,4,5,-6]).astype('float')\n",
    "a = FloatTensor(data)\n",
    "b = torch.FloatTensor(data)"
   ]
  },
  {
   "cell_type": "code",
   "execution_count": null,
   "metadata": {
    "collapsed": true
   },
   "outputs": [],
   "source": [
    "a.abs()"
   ]
  },
  {
   "cell_type": "code",
   "execution_count": null,
   "metadata": {
    "collapsed": true
   },
   "outputs": [],
   "source": [
    "b.abs()"
   ]
  },
  {
   "cell_type": "code",
   "execution_count": null,
   "metadata": {
    "collapsed": true
   },
   "outputs": [],
   "source": [
    "np.testing.assert_almost_equal(a.abs().to_numpy(), b.abs().numpy(), decimal=4)"
   ]
  },
  {
   "cell_type": "markdown",
   "metadata": {},
   "source": [
    "#### acos()"
   ]
  },
  {
   "cell_type": "code",
   "execution_count": null,
   "metadata": {
    "collapsed": true
   },
   "outputs": [],
   "source": [
    "data = np.array([-0.6366, 0.2718, 0.4469, 1.3122]).astype('float')\n",
    "a = FloatTensor(data)\n",
    "b = torch.FloatTensor(data)"
   ]
  },
  {
   "cell_type": "code",
   "execution_count": null,
   "metadata": {
    "collapsed": true
   },
   "outputs": [],
   "source": [
    "a.acos().to_numpy()"
   ]
  },
  {
   "cell_type": "code",
   "execution_count": null,
   "metadata": {
    "collapsed": true
   },
   "outputs": [],
   "source": [
    "b.acos().numpy()"
   ]
  },
  {
   "cell_type": "code",
   "execution_count": null,
   "metadata": {
    "collapsed": true
   },
   "outputs": [],
   "source": [
    "np.testing.assert_almost_equal(a.acos().to_numpy(), b.acos().numpy(), decimal=4)"
   ]
  },
  {
   "cell_type": "markdown",
   "metadata": {},
   "source": [
    "#### add()"
   ]
  },
  {
   "cell_type": "code",
   "execution_count": null,
   "metadata": {
    "collapsed": true
   },
   "outputs": [],
   "source": []
  },
  {
   "cell_type": "code",
   "execution_count": null,
   "metadata": {
    "collapsed": true
   },
   "outputs": [],
   "source": []
  },
  {
   "cell_type": "markdown",
   "metadata": {},
   "source": [
    "#### addcdiv()"
   ]
  },
  {
   "cell_type": "code",
   "execution_count": 63,
   "metadata": {
    "collapsed": true
   },
   "outputs": [],
   "source": [
    "t = torch.randn(2, 3)\n",
    "t1 = torch.randn(1, 6)\n",
    "t2 = torch.randn(6, 1)"
   ]
  },
  {
   "cell_type": "code",
   "execution_count": 64,
   "metadata": {},
   "outputs": [
    {
     "data": {
      "text/plain": [
       "array([[-0.39069918,  0.18299954,  0.31636572],\n",
       "       [ 1.13772225, -0.3253836 , -0.88367993]], dtype=float32)"
      ]
     },
     "execution_count": 64,
     "metadata": {},
     "output_type": "execute_result"
    }
   ],
   "source": [
    "t.numpy()"
   ]
  },
  {
   "cell_type": "code",
   "execution_count": 65,
   "metadata": {},
   "outputs": [
    {
     "data": {
      "text/plain": [
       "array([[-0.59233409,  0.05522861, -2.57116127,  1.35875595, -0.87830114,\n",
       "         0.53922689]], dtype=float32)"
      ]
     },
     "execution_count": 65,
     "metadata": {},
     "output_type": "execute_result"
    }
   ],
   "source": [
    "t1.numpy()"
   ]
  },
  {
   "cell_type": "code",
   "execution_count": 66,
   "metadata": {},
   "outputs": [
    {
     "data": {
      "text/plain": [
       "array([[ 0.30240816],\n",
       "       [ 0.48581797],\n",
       "       [-0.61623448],\n",
       "       [-1.08655083],\n",
       "       [-0.45116752],\n",
       "       [-0.72556847]], dtype=float32)"
      ]
     },
     "execution_count": 66,
     "metadata": {},
     "output_type": "execute_result"
    }
   ],
   "source": [
    "t2.numpy()"
   ]
  },
  {
   "cell_type": "code",
   "execution_count": 71,
   "metadata": {},
   "outputs": [
    {
     "name": "stdout",
     "output_type": "stream",
     "text": [
      "FloatTensor.__init__: 471\n",
      "SyftController.processMessage: Command not found.\n",
      "FloatTensor.__init__: 472\n",
      "FloatTensor.__init__: 473\n"
     ]
    }
   ],
   "source": [
    "data = np.array([[-0.39069918,  0.18299954,  0.31636572],\n",
    "                 [ 1.13772225, -0.3253836 , -0.88367993]]).astype('float')\n",
    "t1 = np.array([[-0.59233409,  0.05522861, -2.57116127,  \n",
    "                1.35875595, -0.87830114, 0.53922689]]).astype('float')\n",
    "t2 = np.array([[ 0.30240816], [ 0.48581797], [-0.61623448], \n",
    "               [-1.08655083], [-0.45116752], [-0.72556847]]).astype('float')\n",
    "\n",
    "a = FloatTensor(data)\n",
    "numerator_a = FloatTensor(t1)\n",
    "denominator_a = FloatTensor(t2)\n",
    "\n",
    "b = torch.FloatTensor(data)\n",
    "numerator_b = torch.FloatTensor(t1)\n",
    "denominator_b = torch.FloatTensor(t2)\n",
    "\n",
    "value = 0.1"
   ]
  },
  {
   "cell_type": "code",
   "execution_count": null,
   "metadata": {
    "collapsed": true
   },
   "outputs": [],
   "source": [
    "a.addcdiv(value, numerator_a, denominator_a).to_numpy()"
   ]
  },
  {
   "cell_type": "code",
   "execution_count": 74,
   "metadata": {},
   "outputs": [
    {
     "name": "stderr",
     "output_type": "stream",
     "text": [
      "/Library/Frameworks/Python.framework/Versions/3.5/lib/python3.5/site-packages/ipykernel_launcher.py:1: UserWarning: self, tensor1, and tensor2 not broadcastable, but have the same number of elements.  Falling back to deprecated pointwise behavior.\n",
      "  \"\"\"Entry point for launching an IPython kernel.\n"
     ]
    },
    {
     "data": {
      "text/plain": [
       "array([[-0.58657157,  0.19436771,  0.73360324],\n",
       "       [ 1.01267004, -0.13071065, -0.9579978 ]], dtype=float32)"
      ]
     },
     "execution_count": 74,
     "metadata": {},
     "output_type": "execute_result"
    }
   ],
   "source": [
    "b.addcdiv(value, numerator_b, denominator_b).numpy()"
   ]
  },
  {
   "cell_type": "code",
   "execution_count": 75,
   "metadata": {},
   "outputs": [
    {
     "ename": "AttributeError",
     "evalue": "'FloatTensor' object has no attribute 'addcdiv'",
     "output_type": "error",
     "traceback": [
      "\u001b[0;31m---------------------------------------------------------------------------\u001b[0m",
      "\u001b[0;31mAttributeError\u001b[0m                            Traceback (most recent call last)",
      "\u001b[0;32m<ipython-input-75-77ae80035d7f>\u001b[0m in \u001b[0;36m<module>\u001b[0;34m()\u001b[0m\n\u001b[0;32m----> 1\u001b[0;31m np.testing.assert_almost_equal(a.addcdiv(value, numerator_a, denominator_a).to_numpy(), \n\u001b[0m\u001b[1;32m      2\u001b[0m                                b.addcdiv(value, numerator_b, denominator_b).numpy(), decimal=4)\n",
      "\u001b[0;31mAttributeError\u001b[0m: 'FloatTensor' object has no attribute 'addcdiv'"
     ]
    }
   ],
   "source": [
    "np.testing.assert_almost_equal(a.addcdiv(value, numerator_a, denominator_a).to_numpy(), \n",
    "                               b.addcdiv(value, numerator_b, denominator_b).numpy(), decimal=4)"
   ]
  },
  {
   "cell_type": "markdown",
   "metadata": {},
   "source": [
    "#### addcmul()"
   ]
  },
  {
   "cell_type": "code",
   "execution_count": 4,
   "metadata": {
    "collapsed": true
   },
   "outputs": [],
   "source": [
    "data = np.array([[-0.39069918,  0.18299954,  0.31636572],\n",
    "                 [ 1.13772225, -0.3253836 , -0.88367993]]).astype('float')\n",
    "t1 = np.array([[-0.59233409,  0.05522861, -2.57116127,  \n",
    "                1.35875595, -0.87830114, 0.53922689]]).astype('float')\n",
    "t2 = np.array([[ 0.30240816], [ 0.48581797], [-0.61623448], \n",
    "               [-1.08655083], [-0.45116752], [-0.72556847]]).astype('float')\n",
    "\n",
    "a = FloatTensor(data)\n",
    "t1_a = FloatTensor(t1)\n",
    "t2_a = FloatTensor(t2)\n",
    "\n",
    "b = torch.FloatTensor(data)\n",
    "t1_b = torch.FloatTensor(t1)\n",
    "t2_b = torch.FloatTensor(t2)\n",
    "\n",
    "value = 0.1"
   ]
  },
  {
   "cell_type": "code",
   "execution_count": null,
   "metadata": {
    "collapsed": true
   },
   "outputs": [],
   "source": [
    "a.addcmul(value, t1_a, t2_a).to_numpy()"
   ]
  },
  {
   "cell_type": "code",
   "execution_count": 78,
   "metadata": {},
   "outputs": [
    {
     "name": "stderr",
     "output_type": "stream",
     "text": [
      "/Library/Frameworks/Python.framework/Versions/3.5/lib/python3.5/site-packages/ipykernel_launcher.py:1: UserWarning: self, tensor1, and tensor2 not broadcastable, but have the same number of elements.  Falling back to deprecated pointwise behavior.\n",
      "  \"\"\"Entry point for launching an IPython kernel.\n"
     ]
    },
    {
     "data": {
      "text/plain": [
       "array([[-0.40861183,  0.18568264,  0.47480953],\n",
       "       [ 0.9900865 , -0.28575751, -0.92280453]], dtype=float32)"
      ]
     },
     "execution_count": 78,
     "metadata": {},
     "output_type": "execute_result"
    }
   ],
   "source": [
    "b.addcmul(value, t1_b, t2_b).numpy()"
   ]
  },
  {
   "cell_type": "code",
   "execution_count": null,
   "metadata": {
    "collapsed": true
   },
   "outputs": [],
   "source": [
    "np.testing.assert_almost_equal(a.addcmul(value, t1_a, t2_a).to_numpy(), \n",
    "                               b.addcmul(value, t1_b, t2_b).numpy(), decimal=4)"
   ]
  },
  {
   "cell_type": "code",
   "execution_count": null,
   "metadata": {
    "collapsed": true
   },
   "outputs": [],
   "source": [
    "np.array([[-0.40861183,  0.18568264,  0.47480953],\n",
    "          [ 0.9900865 , -0.28575751, -0.92280453]]).astype('float')"
   ]
  },
  {
   "cell_type": "markdown",
   "metadata": {},
   "source": [
    "#### asin()"
   ]
  },
  {
   "cell_type": "code",
   "execution_count": 3,
   "metadata": {},
   "outputs": [
    {
     "name": "stdout",
     "output_type": "stream",
     "text": [
      "FloatTensor.__init__: 189\n"
     ]
    }
   ],
   "source": [
    "data = np.array([-0.6366, 0.2718, 0.4469, 1.3122]).astype('float')\n",
    "a = FloatTensor(data)\n",
    "b = torch.FloatTensor(data)"
   ]
  },
  {
   "cell_type": "code",
   "execution_count": 4,
   "metadata": {},
   "outputs": [
    {
     "name": "stdout",
     "output_type": "stream",
     "text": [
      "190\n",
      "FloatTensor.__init__: 190\n"
     ]
    },
    {
     "data": {
      "text/plain": [
       "array([-0.6900815,  0.275263 ,  0.463297 ,        nan])"
      ]
     },
     "execution_count": 4,
     "metadata": {},
     "output_type": "execute_result"
    }
   ],
   "source": [
    "a.asin().to_numpy()"
   ]
  },
  {
   "cell_type": "code",
   "execution_count": 5,
   "metadata": {},
   "outputs": [
    {
     "data": {
      "text/plain": [
       "array([-0.69008148,  0.27526295,  0.46329704,         nan], dtype=float32)"
      ]
     },
     "execution_count": 5,
     "metadata": {},
     "output_type": "execute_result"
    }
   ],
   "source": [
    "b.asin().numpy()"
   ]
  },
  {
   "cell_type": "code",
   "execution_count": 6,
   "metadata": {},
   "outputs": [
    {
     "name": "stdout",
     "output_type": "stream",
     "text": [
      "192\n",
      "FloatTensor.__init__: 192\n"
     ]
    }
   ],
   "source": [
    "np.testing.assert_almost_equal(a.asin().to_numpy(), b.asin().numpy(), decimal=4)"
   ]
  },
  {
   "cell_type": "markdown",
   "metadata": {},
   "source": [
    "#### atan()"
   ]
  },
  {
   "cell_type": "code",
   "execution_count": 7,
   "metadata": {},
   "outputs": [
    {
     "name": "stdout",
     "output_type": "stream",
     "text": [
      "FloatTensor.__init__: 215\n",
      "SyftController.processMessage: Command not found.\n"
     ]
    }
   ],
   "source": [
    "data = np.array([-0.6366, 0.2718, 0.4469, 1.3122]).astype('float')\n",
    "a = FloatTensor(data)\n",
    "b = torch.FloatTensor(data)"
   ]
  },
  {
   "cell_type": "code",
   "execution_count": 9,
   "metadata": {
    "scrolled": false
   },
   "outputs": [
    {
     "name": "stdout",
     "output_type": "stream",
     "text": [
      "218\n",
      "FloatTensor.__init__: 218\n"
     ]
    },
    {
     "data": {
      "text/plain": [
       "array([-0.5668975,  0.2653888,  0.420273 ,  0.9196094])"
      ]
     },
     "execution_count": 9,
     "metadata": {},
     "output_type": "execute_result"
    }
   ],
   "source": [
    "a.atan().to_numpy()"
   ]
  },
  {
   "cell_type": "code",
   "execution_count": 10,
   "metadata": {},
   "outputs": [
    {
     "data": {
      "text/plain": [
       "array([-0.56689745,  0.26538879,  0.42027298,  0.91960937], dtype=float32)"
      ]
     },
     "execution_count": 10,
     "metadata": {},
     "output_type": "execute_result"
    }
   ],
   "source": [
    "b.atan().numpy()"
   ]
  },
  {
   "cell_type": "code",
   "execution_count": 11,
   "metadata": {},
   "outputs": [
    {
     "name": "stdout",
     "output_type": "stream",
     "text": [
      "220\n",
      "FloatTensor.__init__: 220\n"
     ]
    }
   ],
   "source": [
    "np.testing.assert_almost_equal(a.atan().to_numpy(), b.atan().numpy(), decimal=4)"
   ]
  },
  {
   "cell_type": "markdown",
   "metadata": {},
   "source": [
    "#### atan2()"
   ]
  },
  {
   "cell_type": "code",
   "execution_count": null,
   "metadata": {
    "collapsed": true
   },
   "outputs": [],
   "source": []
  },
  {
   "cell_type": "code",
   "execution_count": null,
   "metadata": {
    "collapsed": true
   },
   "outputs": [],
   "source": []
  },
  {
   "cell_type": "code",
   "execution_count": null,
   "metadata": {
    "collapsed": true
   },
   "outputs": [],
   "source": []
  },
  {
   "cell_type": "code",
   "execution_count": null,
   "metadata": {
    "collapsed": true
   },
   "outputs": [],
   "source": []
  },
  {
   "cell_type": "markdown",
   "metadata": {},
   "source": [
    "#### ceil()"
   ]
  },
  {
   "cell_type": "code",
   "execution_count": 12,
   "metadata": {},
   "outputs": [
    {
     "name": "stdout",
     "output_type": "stream",
     "text": [
      "FloatTensor.__init__: 249\n"
     ]
    }
   ],
   "source": [
    "data = np.array([1.3869, 0.3912, -0.8634, -0.5468]).astype('float')\n",
    "a = FloatTensor(data)\n",
    "b = torch.FloatTensor(data)"
   ]
  },
  {
   "cell_type": "code",
   "execution_count": 13,
   "metadata": {},
   "outputs": [
    {
     "name": "stdout",
     "output_type": "stream",
     "text": [
      "250\n",
      "FloatTensor.__init__: 250\n"
     ]
    },
    {
     "data": {
      "text/plain": [
       "array([ 2.,  1.,  0.,  0.])"
      ]
     },
     "execution_count": 13,
     "metadata": {},
     "output_type": "execute_result"
    }
   ],
   "source": [
    "a.ceil().to_numpy()"
   ]
  },
  {
   "cell_type": "code",
   "execution_count": 14,
   "metadata": {},
   "outputs": [
    {
     "data": {
      "text/plain": [
       "array([ 2.,  1., -0., -0.], dtype=float32)"
      ]
     },
     "execution_count": 14,
     "metadata": {},
     "output_type": "execute_result"
    }
   ],
   "source": [
    "b.ceil().numpy()"
   ]
  },
  {
   "cell_type": "code",
   "execution_count": 15,
   "metadata": {},
   "outputs": [
    {
     "name": "stdout",
     "output_type": "stream",
     "text": [
      "252\n",
      "FloatTensor.__init__: 252\n"
     ]
    }
   ],
   "source": [
    "np.testing.assert_almost_equal(a.ceil().to_numpy(), b.ceil().numpy(), decimal=4)"
   ]
  },
  {
   "cell_type": "markdown",
   "metadata": {},
   "source": [
    "#### clamp()"
   ]
  },
  {
   "cell_type": "code",
   "execution_count": 79,
   "metadata": {},
   "outputs": [
    {
     "name": "stdout",
     "output_type": "stream",
     "text": [
      "FloatTensor.__init__: 477\n",
      "SyftController.processMessage: Command not found.\n"
     ]
    }
   ],
   "source": [
    "data = np.array([1.3869, 0.3912, -0.8634, -0.5468]).astype('float')\n",
    "a = FloatTensor(data)\n",
    "b = torch.FloatTensor(data)"
   ]
  },
  {
   "cell_type": "code",
   "execution_count": null,
   "metadata": {
    "collapsed": true
   },
   "outputs": [],
   "source": [
    "a.clamp(min=-0.5, max=0.5).to_numpy()"
   ]
  },
  {
   "cell_type": "code",
   "execution_count": 80,
   "metadata": {},
   "outputs": [
    {
     "data": {
      "text/plain": [
       "array([ 0.5       ,  0.39120001, -0.5       , -0.5       ], dtype=float32)"
      ]
     },
     "execution_count": 80,
     "metadata": {},
     "output_type": "execute_result"
    }
   ],
   "source": [
    "b.clamp(min=-0.5, max=0.5).numpy()"
   ]
  },
  {
   "cell_type": "code",
   "execution_count": null,
   "metadata": {
    "collapsed": true
   },
   "outputs": [],
   "source": [
    "np.testing.assert_almost_equal(a.clamp(min=-0.5, max=0.5).to_numpy(), b.clamp(min=-0.5, max=0.5).numpy(), decimal=4)"
   ]
  },
  {
   "cell_type": "markdown",
   "metadata": {},
   "source": [
    "#### cos()"
   ]
  },
  {
   "cell_type": "code",
   "execution_count": 26,
   "metadata": {},
   "outputs": [
    {
     "name": "stdout",
     "output_type": "stream",
     "text": [
      "FloatTensor.__init__: 295\n",
      "SyftController.processMessage: Command not found.\n"
     ]
    }
   ],
   "source": [
    "data = np.array([-0.6366, 0.2718, 0.4469, 1.3122]).astype('float')\n",
    "a = FloatTensor(data)\n",
    "b = torch.FloatTensor(data)"
   ]
  },
  {
   "cell_type": "code",
   "execution_count": 23,
   "metadata": {},
   "outputs": [
    {
     "name": "stdout",
     "output_type": "stream",
     "text": [
      "292\n",
      "FloatTensor.__init__: 292\n"
     ]
    },
    {
     "data": {
      "text/plain": [
       "array([ 0.8041216,  0.9632892,  0.9017912,  0.2557239])"
      ]
     },
     "execution_count": 23,
     "metadata": {},
     "output_type": "execute_result"
    }
   ],
   "source": [
    "a.cos().to_numpy()"
   ]
  },
  {
   "cell_type": "code",
   "execution_count": 24,
   "metadata": {},
   "outputs": [
    {
     "data": {
      "text/plain": [
       "array([ 0.80412155,  0.9632892 ,  0.90179116,  0.25572386], dtype=float32)"
      ]
     },
     "execution_count": 24,
     "metadata": {},
     "output_type": "execute_result"
    }
   ],
   "source": [
    "b.cos().numpy()"
   ]
  },
  {
   "cell_type": "code",
   "execution_count": 27,
   "metadata": {},
   "outputs": [
    {
     "name": "stdout",
     "output_type": "stream",
     "text": [
      "295\n",
      "FloatTensor.__init__: 295\n"
     ]
    }
   ],
   "source": [
    "np.testing.assert_almost_equal(a.cos().to_numpy(), b.cos().numpy(), decimal=4)"
   ]
  },
  {
   "cell_type": "markdown",
   "metadata": {},
   "source": [
    "#### cosh()"
   ]
  },
  {
   "cell_type": "code",
   "execution_count": 5,
   "metadata": {
    "collapsed": true
   },
   "outputs": [],
   "source": [
    "data = np.array([-0.6366, 0.2718, 0.4469, 1.3122]).astype('float')\n",
    "a = FloatTensor(data)\n",
    "b = torch.FloatTensor(data)"
   ]
  },
  {
   "cell_type": "code",
   "execution_count": 6,
   "metadata": {},
   "outputs": [
    {
     "data": {
      "text/plain": [
       "array([ 1.209566,  1.037166,  1.101533,  1.991782])"
      ]
     },
     "execution_count": 6,
     "metadata": {},
     "output_type": "execute_result"
    }
   ],
   "source": [
    "a.cosh().to_numpy()"
   ]
  },
  {
   "cell_type": "code",
   "execution_count": 33,
   "metadata": {},
   "outputs": [
    {
     "data": {
      "text/plain": [
       "array([ 1.209566  ,  1.03716552,  1.10153294,  1.99178159], dtype=float32)"
      ]
     },
     "execution_count": 33,
     "metadata": {},
     "output_type": "execute_result"
    }
   ],
   "source": [
    "b.cosh().numpy()"
   ]
  },
  {
   "cell_type": "code",
   "execution_count": 31,
   "metadata": {},
   "outputs": [
    {
     "name": "stdout",
     "output_type": "stream",
     "text": [
      "300\n",
      "FloatTensor.__init__: 300\n"
     ]
    }
   ],
   "source": [
    "np.testing.assert_almost_equal(a.cosh().to_numpy(), b.cosh().numpy(), decimal=4)"
   ]
  },
  {
   "cell_type": "markdown",
   "metadata": {},
   "source": [
    "#### erf()"
   ]
  },
  {
   "cell_type": "code",
   "execution_count": 34,
   "metadata": {},
   "outputs": [
    {
     "name": "stdout",
     "output_type": "stream",
     "text": [
      "FloatTensor.__init__: 347\n",
      "SyftController.processMessage: Command not found.\n"
     ]
    }
   ],
   "source": [
    "data = np.array([0, -1., 10.]).astype('float')\n",
    "a = FloatTensor(data)\n",
    "b = torch.FloatTensor(data)"
   ]
  },
  {
   "cell_type": "code",
   "execution_count": 38,
   "metadata": {},
   "outputs": [
    {
     "ename": "AttributeError",
     "evalue": "'FloatTensor' object has no attribute 'erf'",
     "output_type": "error",
     "traceback": [
      "\u001b[0;31m---------------------------------------------------------------------------\u001b[0m",
      "\u001b[0;31mAttributeError\u001b[0m                            Traceback (most recent call last)",
      "\u001b[0;32m<ipython-input-38-f9d4b965b19a>\u001b[0m in \u001b[0;36m<module>\u001b[0;34m()\u001b[0m\n\u001b[0;32m----> 1\u001b[0;31m \u001b[0ma\u001b[0m\u001b[0;34m.\u001b[0m\u001b[0merf\u001b[0m\u001b[0;34m(\u001b[0m\u001b[0;34m)\u001b[0m\u001b[0;34m.\u001b[0m\u001b[0mto_numpy\u001b[0m\u001b[0;34m(\u001b[0m\u001b[0;34m)\u001b[0m\u001b[0;34m\u001b[0m\u001b[0m\n\u001b[0m",
      "\u001b[0;31mAttributeError\u001b[0m: 'FloatTensor' object has no attribute 'erf'"
     ]
    }
   ],
   "source": [
    "a.erf().to_numpy()"
   ]
  },
  {
   "cell_type": "code",
   "execution_count": 39,
   "metadata": {},
   "outputs": [
    {
     "data": {
      "text/plain": [
       "array([ 0.        , -0.84270078,  1.        ], dtype=float32)"
      ]
     },
     "execution_count": 39,
     "metadata": {},
     "output_type": "execute_result"
    }
   ],
   "source": [
    "b.erf().numpy()"
   ]
  },
  {
   "cell_type": "code",
   "execution_count": 37,
   "metadata": {},
   "outputs": [
    {
     "ename": "AttributeError",
     "evalue": "'FloatTensor' object has no attribute 'erf'",
     "output_type": "error",
     "traceback": [
      "\u001b[0;31m---------------------------------------------------------------------------\u001b[0m",
      "\u001b[0;31mAttributeError\u001b[0m                            Traceback (most recent call last)",
      "\u001b[0;32m<ipython-input-37-3cbb3c3a587b>\u001b[0m in \u001b[0;36m<module>\u001b[0;34m()\u001b[0m\n\u001b[0;32m----> 1\u001b[0;31m \u001b[0mnp\u001b[0m\u001b[0;34m.\u001b[0m\u001b[0mtesting\u001b[0m\u001b[0;34m.\u001b[0m\u001b[0massert_almost_equal\u001b[0m\u001b[0;34m(\u001b[0m\u001b[0ma\u001b[0m\u001b[0;34m.\u001b[0m\u001b[0merf\u001b[0m\u001b[0;34m(\u001b[0m\u001b[0;34m)\u001b[0m\u001b[0;34m.\u001b[0m\u001b[0mto_numpy\u001b[0m\u001b[0;34m(\u001b[0m\u001b[0;34m)\u001b[0m\u001b[0;34m,\u001b[0m \u001b[0mb\u001b[0m\u001b[0;34m.\u001b[0m\u001b[0merf\u001b[0m\u001b[0;34m(\u001b[0m\u001b[0;34m)\u001b[0m\u001b[0;34m.\u001b[0m\u001b[0mnumpy\u001b[0m\u001b[0;34m(\u001b[0m\u001b[0;34m)\u001b[0m\u001b[0;34m,\u001b[0m \u001b[0mdecimal\u001b[0m\u001b[0;34m=\u001b[0m\u001b[0;36m4\u001b[0m\u001b[0;34m)\u001b[0m\u001b[0;34m\u001b[0m\u001b[0m\n\u001b[0m",
      "\u001b[0;31mAttributeError\u001b[0m: 'FloatTensor' object has no attribute 'erf'"
     ]
    }
   ],
   "source": [
    "np.testing.assert_almost_equal(a.erf().to_numpy(), b.erf().numpy(), decimal=4)"
   ]
  },
  {
   "cell_type": "markdown",
   "metadata": {},
   "source": [
    "#### erfinv()"
   ]
  },
  {
   "cell_type": "code",
   "execution_count": 41,
   "metadata": {},
   "outputs": [
    {
     "name": "stdout",
     "output_type": "stream",
     "text": [
      "FloatTensor.__init__: 395\n",
      "SyftController.processMessage: Command not found.\n"
     ]
    }
   ],
   "source": [
    "data = np.array([0, 0.5, -1.]).astype('float')\n",
    "a = FloatTensor(data)\n",
    "b = torch.FloatTensor(data)"
   ]
  },
  {
   "cell_type": "code",
   "execution_count": 44,
   "metadata": {},
   "outputs": [
    {
     "ename": "AttributeError",
     "evalue": "'FloatTensor' object has no attribute 'erfinv'",
     "output_type": "error",
     "traceback": [
      "\u001b[0;31m---------------------------------------------------------------------------\u001b[0m",
      "\u001b[0;31mAttributeError\u001b[0m                            Traceback (most recent call last)",
      "\u001b[0;32m<ipython-input-44-fe4ea175856d>\u001b[0m in \u001b[0;36m<module>\u001b[0;34m()\u001b[0m\n\u001b[0;32m----> 1\u001b[0;31m \u001b[0ma\u001b[0m\u001b[0;34m.\u001b[0m\u001b[0merfinv\u001b[0m\u001b[0;34m.\u001b[0m\u001b[0mto_numpy\u001b[0m\u001b[0;34m(\u001b[0m\u001b[0;34m)\u001b[0m\u001b[0;34m\u001b[0m\u001b[0m\n\u001b[0m",
      "\u001b[0;31mAttributeError\u001b[0m: 'FloatTensor' object has no attribute 'erfinv'"
     ]
    }
   ],
   "source": [
    "a.erfinv.to_numpy()"
   ]
  },
  {
   "cell_type": "code",
   "execution_count": 42,
   "metadata": {},
   "outputs": [
    {
     "data": {
      "text/plain": [
       "array([ 0.        ,  0.47693628,        -inf], dtype=float32)"
      ]
     },
     "execution_count": 42,
     "metadata": {},
     "output_type": "execute_result"
    }
   ],
   "source": [
    "b.erfinv().numpy()"
   ]
  },
  {
   "cell_type": "code",
   "execution_count": 45,
   "metadata": {},
   "outputs": [
    {
     "ename": "AttributeError",
     "evalue": "'FloatTensor' object has no attribute 'erfinv'",
     "output_type": "error",
     "traceback": [
      "\u001b[0;31m---------------------------------------------------------------------------\u001b[0m",
      "\u001b[0;31mAttributeError\u001b[0m                            Traceback (most recent call last)",
      "\u001b[0;32m<ipython-input-45-85f7c2197ad8>\u001b[0m in \u001b[0;36m<module>\u001b[0;34m()\u001b[0m\n\u001b[0;32m----> 1\u001b[0;31m \u001b[0mnp\u001b[0m\u001b[0;34m.\u001b[0m\u001b[0mtesting\u001b[0m\u001b[0;34m.\u001b[0m\u001b[0massert_almost_equal\u001b[0m\u001b[0;34m(\u001b[0m\u001b[0ma\u001b[0m\u001b[0;34m.\u001b[0m\u001b[0merfinv\u001b[0m\u001b[0;34m(\u001b[0m\u001b[0;34m)\u001b[0m\u001b[0;34m.\u001b[0m\u001b[0mto_numpy\u001b[0m\u001b[0;34m(\u001b[0m\u001b[0;34m)\u001b[0m\u001b[0;34m,\u001b[0m \u001b[0mb\u001b[0m\u001b[0;34m.\u001b[0m\u001b[0merfinv\u001b[0m\u001b[0;34m(\u001b[0m\u001b[0;34m)\u001b[0m\u001b[0;34m.\u001b[0m\u001b[0mnumpy\u001b[0m\u001b[0;34m(\u001b[0m\u001b[0;34m)\u001b[0m\u001b[0;34m,\u001b[0m \u001b[0mdecimal\u001b[0m\u001b[0;34m=\u001b[0m\u001b[0;36m4\u001b[0m\u001b[0;34m)\u001b[0m\u001b[0;34m\u001b[0m\u001b[0m\n\u001b[0m",
      "\u001b[0;31mAttributeError\u001b[0m: 'FloatTensor' object has no attribute 'erfinv'"
     ]
    }
   ],
   "source": [
    "np.testing.assert_almost_equal(a.erfinv().to_numpy(), b.erfinv().numpy(), decimal=4)"
   ]
  },
  {
   "cell_type": "markdown",
   "metadata": {},
   "source": [
    "#### exp()"
   ]
  },
  {
   "cell_type": "code",
   "execution_count": 48,
   "metadata": {},
   "outputs": [
    {
     "name": "stdout",
     "output_type": "stream",
     "text": [
      "FloatTensor.__init__: 396\n",
      "SyftController.processMessage: Command not found.\n"
     ]
    }
   ],
   "source": [
    "data = np.array([0, np.log(2)]).astype('float')\n",
    "a = FloatTensor(data)\n",
    "b = torch.FloatTensor(data)"
   ]
  },
  {
   "cell_type": "code",
   "execution_count": 49,
   "metadata": {},
   "outputs": [
    {
     "name": "stdout",
     "output_type": "stream",
     "text": [
      "397\n",
      "FloatTensor.__init__: 397\n"
     ]
    },
    {
     "data": {
      "text/plain": [
       "array([ 1.,  2.])"
      ]
     },
     "execution_count": 49,
     "metadata": {},
     "output_type": "execute_result"
    }
   ],
   "source": [
    "a.exp().to_numpy()"
   ]
  },
  {
   "cell_type": "code",
   "execution_count": 50,
   "metadata": {},
   "outputs": [
    {
     "data": {
      "text/plain": [
       "array([ 1.,  2.], dtype=float32)"
      ]
     },
     "execution_count": 50,
     "metadata": {},
     "output_type": "execute_result"
    }
   ],
   "source": [
    "b.exp().numpy()"
   ]
  },
  {
   "cell_type": "code",
   "execution_count": 51,
   "metadata": {},
   "outputs": [
    {
     "name": "stdout",
     "output_type": "stream",
     "text": [
      "399\n",
      "FloatTensor.__init__: 399\n"
     ]
    }
   ],
   "source": [
    "np.testing.assert_almost_equal(a.exp().to_numpy(), b.exp().numpy(), decimal=4)"
   ]
  },
  {
   "cell_type": "markdown",
   "metadata": {},
   "source": [
    "#### floor()"
   ]
  },
  {
   "cell_type": "code",
   "execution_count": 52,
   "metadata": {},
   "outputs": [
    {
     "name": "stdout",
     "output_type": "stream",
     "text": [
      "FloatTensor.__init__: 401\n",
      "SyftController.processMessage: Command not found.\n"
     ]
    }
   ],
   "source": [
    "data = np.array([1.3869, 0.3912, -0.8634, -0.5468]).astype('float')\n",
    "a = FloatTensor(data)\n",
    "b = torch.FloatTensor(data)"
   ]
  },
  {
   "cell_type": "code",
   "execution_count": 53,
   "metadata": {},
   "outputs": [
    {
     "name": "stdout",
     "output_type": "stream",
     "text": [
      "402\n",
      "FloatTensor.__init__: 402\n"
     ]
    },
    {
     "data": {
      "text/plain": [
       "array([ 1.,  0., -1., -1.])"
      ]
     },
     "execution_count": 53,
     "metadata": {},
     "output_type": "execute_result"
    }
   ],
   "source": [
    "a.floor().to_numpy()"
   ]
  },
  {
   "cell_type": "code",
   "execution_count": 54,
   "metadata": {},
   "outputs": [
    {
     "data": {
      "text/plain": [
       "array([ 1.,  0., -1., -1.], dtype=float32)"
      ]
     },
     "execution_count": 54,
     "metadata": {},
     "output_type": "execute_result"
    }
   ],
   "source": [
    "b.floor().numpy()"
   ]
  },
  {
   "cell_type": "code",
   "execution_count": 55,
   "metadata": {},
   "outputs": [
    {
     "name": "stdout",
     "output_type": "stream",
     "text": [
      "404\n",
      "FloatTensor.__init__: 404\n"
     ]
    }
   ],
   "source": [
    "np.testing.assert_almost_equal(a.floor().to_numpy(), b.floor().numpy(), decimal=4)"
   ]
  },
  {
   "cell_type": "markdown",
   "metadata": {},
   "source": [
    "#### fmod()"
   ]
  },
  {
   "cell_type": "code",
   "execution_count": 58,
   "metadata": {},
   "outputs": [
    {
     "name": "stdout",
     "output_type": "stream",
     "text": [
      "FloatTensor.__init__: 438\n",
      "SyftController.processMessage: Command not found.\n"
     ]
    }
   ],
   "source": [
    "data = np.array([-3, -2, -1, 1, 2, 3]).astype('float')\n",
    "a = FloatTensor(data)\n",
    "b = torch.FloatTensor(data)"
   ]
  },
  {
   "cell_type": "code",
   "execution_count": null,
   "metadata": {
    "collapsed": true
   },
   "outputs": [],
   "source": [
    "a.fmod(2).to_numpy()"
   ]
  },
  {
   "cell_type": "code",
   "execution_count": 59,
   "metadata": {},
   "outputs": [
    {
     "data": {
      "text/plain": [
       "array([-1., -0., -1.,  1.,  0.,  1.], dtype=float32)"
      ]
     },
     "execution_count": 59,
     "metadata": {},
     "output_type": "execute_result"
    }
   ],
   "source": [
    "b.fmod(2).numpy()"
   ]
  },
  {
   "cell_type": "code",
   "execution_count": null,
   "metadata": {
    "collapsed": true
   },
   "outputs": [],
   "source": [
    "np.testing.assert_almost_equal(a.fmod(2).to_numpy(), b.fmod(2).numpy(), decimal=4)"
   ]
  },
  {
   "cell_type": "code",
   "execution_count": null,
   "metadata": {
    "collapsed": true
   },
   "outputs": [],
   "source": []
  },
  {
   "cell_type": "code",
   "execution_count": null,
   "metadata": {
    "collapsed": true
   },
   "outputs": [],
   "source": []
  }
 ],
 "metadata": {
  "kernelspec": {
   "display_name": "Python 3",
   "language": "python",
   "name": "python3"
  },
  "language_info": {
   "codemirror_mode": {
    "name": "ipython",
    "version": 3
   },
   "file_extension": ".py",
   "mimetype": "text/x-python",
   "name": "python",
   "nbconvert_exporter": "python",
   "pygments_lexer": "ipython3",
   "version": "3.6.3"
  }
 },
 "nbformat": 4,
 "nbformat_minor": 1
}

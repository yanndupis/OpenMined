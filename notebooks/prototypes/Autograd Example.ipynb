{
 "cells": [
  {
   "cell_type": "code",
   "execution_count": 5,
   "metadata": {
    "collapsed": true
   },
   "outputs": [],
   "source": [
    "import numpy as np"
   ]
  },
  {
   "cell_type": "code",
   "execution_count": 55,
   "metadata": {},
   "outputs": [],
   "source": [
    "class FloatTensor(object):\n",
    "    \n",
    "    def __init__(self,data,autograd=False,keepgrads=False,creators=None, creation_op=None, id=None):\n",
    "        \n",
    "        self.data = data\n",
    "        self.autograd = autograd\n",
    "        self.keepgrads = keepgrads\n",
    "        self.grad = None\n",
    "        if(id is None):\n",
    "            self.id = np.random.randint(0,100000)\n",
    "        else:\n",
    "            self.id = id\n",
    "        \n",
    "        self.creators = creators\n",
    "        self.creation_op = creation_op\n",
    "        self.children = {}\n",
    "    \n",
    "    def __add__(self,other):\n",
    "        if(self.autograd):\n",
    "            out = FloatTensor(self.data + other.data, autograd=True, creators=[self,other], creation_op=\"add\")\n",
    "            self.children[out.id] = 0\n",
    "            other.children[out.id] = 0\n",
    "            return out\n",
    "        else:\n",
    "            return FloatTensor(self.data + other.data)\n",
    "        \n",
    "    \n",
    "    def __mul__(self,other):\n",
    "        if(self.autograd):\n",
    "            out = FloatTensor(self.data * other.data, autograd=True, creators=[self,other], creation_op=\"mul\")\n",
    "            self.children[out.id] = 0\n",
    "            other.children[out.id] = 0\n",
    "            \n",
    "            return out\n",
    "        else:\n",
    "            return FloatTensor(self.data * other.data)\n",
    "\n",
    "    def __truediv__(self,other):\n",
    "        if(self.autograd):\n",
    "            out = FloatTensor(self.data / other.data, autograd=True, creators=[self,other], creation_op=\"div\")\n",
    "            self.children[out.id] = 0\n",
    "            other.children[out.id] = 0\n",
    "            \n",
    "        return FloatTensor(self.data / other.data)    \n",
    "    \n",
    "    def __sub__(self,other):\n",
    "        if(self.autograd):\n",
    "            out = FloatTensor(self.data - other.data, autograd=True, creators=[self,other], creation_op=\"sub\")\n",
    "            self.children[out.id] = 0\n",
    "            other.children[out.id] = 0\n",
    "            \n",
    "            return out\n",
    "\n",
    "        return FloatTensor(self.data - other.data)   \n",
    "    \n",
    "    def __repr__(self):\n",
    "        return self.data.__repr__()\n",
    "    \n",
    "    def __neg__(self):\n",
    "        if(self.autograd):\n",
    "            out = FloatTensor(-self.data, autograd=True, creators=[self], creation_op=\"neg\")\n",
    "            self.children[out.id] = 0\n",
    "        return FloatTensor(-self.data)   \n",
    "    \n",
    "    def mm(self, x):\n",
    "        if(self.autograd):\n",
    "            out = FloatTensor(self.data.dot(x.data), autograd=True, creators=[self,x], creation_op=\"mm\")\n",
    "            self.children[out.id] = 0\n",
    "            x.children[out.id] = 0\n",
    "            return out\n",
    "        return FloatTensor(self.data.dot(x.data))\n",
    "    \n",
    "    def transpose(self):\n",
    "        return FloatTensor(self.data.transpose())\n",
    "    \n",
    "    def all_children_grads_accounted_for(self):\n",
    "        for id,cnt in self.children.items():\n",
    "            if(cnt == 0):\n",
    "                return False\n",
    "        return True\n",
    "    \n",
    "    def backward(self,grad=None, grad_origin=None):\n",
    "        if(self.autograd):\n",
    "            if(grad is None):\n",
    "                grad = FloatTensor(np.ones_like(self.data))\n",
    "            \n",
    "            if(grad_origin is not None):\n",
    "                if(self.children[grad_origin.id] > 0):\n",
    "                    raise Exception(\"cannot backprop more than once\")\n",
    "                else:\n",
    "                    self.children[grad_origin.id] += 1\n",
    "            \n",
    "            if(self.grad is None):\n",
    "                self.grad = grad\n",
    "            else:\n",
    "                self.grad += grad\n",
    "            \n",
    "            # grads must not have grads of their own\n",
    "            assert grad.autograd == False\n",
    "            \n",
    "            # only continue backpropping if there's something to backprop into\n",
    "            # only continue backpropping if all gradients (from children) are accounted for\n",
    "            # override waiting for children if \"backprop\" was called on this variable directly\n",
    "            if(self.creators is not None and (self.all_children_grads_accounted_for() or grad_origin is None)):\n",
    "\n",
    "                if(self.creation_op == \"add\"):\n",
    "                    self.creators[0].backward(grad, self)\n",
    "                    self.creators[1].backward(grad, self)\n",
    "\n",
    "                if(self.creation_op == \"mul\"):\n",
    "                    self.creators[0].backward(self.grad * self.creators[1], self)\n",
    "                    self.creators[1].backward(self.grad * self.creators[0], self)\n",
    "\n",
    "                if(self.creation_op == \"div\"):\n",
    "                    self.creators[0].backward(self.grad / self.creators[1], self)\n",
    "                    self.creators[1].backward(self.grad / self.creators[0], self)\n",
    "\n",
    "                if(self.creation_op == \"sub\"):\n",
    "                    self.creators[0].backward(self.grad, self)\n",
    "                    self.creators[1].backward(-self.grad, self)\n",
    "\n",
    "                if(self.creation_op == \"neg\"):\n",
    "                    self.creators[0].backward(-self.grad,self)\n",
    "                    \n",
    "                if(self.creation_op == \"mm\"):\n",
    "                    self.creators[0].backward(self.grad.mm(self.creators[1].transpose()))\n",
    "                    self.creators[1].backward(self.grad.transpose().mm(self.creators[0]))\n",
    "                    \n",
    "                if(not self.keepgrads):\n",
    "                    self.grad = None\n",
    "\n",
    "        \n",
    "    "
   ]
  },
  {
   "cell_type": "code",
   "execution_count": 61,
   "metadata": {},
   "outputs": [],
   "source": [
    "a = FloatTensor(np.array([[1,2,3,4,5],[2,3,4,5,6]]).astype('float'),autograd=True,keepgrads=True)\n",
    "b = FloatTensor(np.array([[6,7,8,9,10],[11,12,13,14,15]]).astype('float').transpose(),autograd=True,keepgrads=True)\n",
    "d = FloatTensor(np.ones((2,4)).astype('float'),autograd=True, keepgrads=True)"
   ]
  },
  {
   "cell_type": "code",
   "execution_count": 62,
   "metadata": {},
   "outputs": [],
   "source": [
    "c = a.mm(b)\n",
    "e = c.mm(d)"
   ]
  },
  {
   "cell_type": "code",
   "execution_count": 63,
   "metadata": {},
   "outputs": [
    {
     "data": {
      "text/plain": [
       "array([[ 130.,  205.],\n",
       "       [ 170.,  270.]])"
      ]
     },
     "execution_count": 63,
     "metadata": {},
     "output_type": "execute_result"
    }
   ],
   "source": [
    "c"
   ]
  },
  {
   "cell_type": "code",
   "execution_count": 64,
   "metadata": {},
   "outputs": [
    {
     "data": {
      "text/plain": [
       "array([[ 335.,  335.,  335.,  335.],\n",
       "       [ 440.,  440.,  440.,  440.]])"
      ]
     },
     "execution_count": 64,
     "metadata": {},
     "output_type": "execute_result"
    }
   ],
   "source": [
    "e"
   ]
  },
  {
   "cell_type": "code",
   "execution_count": 65,
   "metadata": {},
   "outputs": [],
   "source": [
    "c.backward(FloatTensor(np.ones((2,2))))"
   ]
  },
  {
   "cell_type": "code",
   "execution_count": null,
   "metadata": {
    "collapsed": true
   },
   "outputs": [],
   "source": []
  },
  {
   "cell_type": "code",
   "execution_count": null,
   "metadata": {
    "collapsed": true
   },
   "outputs": [],
   "source": []
  },
  {
   "cell_type": "code",
   "execution_count": null,
   "metadata": {
    "collapsed": true
   },
   "outputs": [],
   "source": []
  },
  {
   "cell_type": "code",
   "execution_count": 143,
   "metadata": {},
   "outputs": [
    {
     "data": {
      "text/plain": [
       "array([[ 17.,  19.,  21.,  23.,  25.],\n",
       "       [ 17.,  19.,  21.,  23.,  25.]])"
      ]
     },
     "execution_count": 143,
     "metadata": {},
     "output_type": "execute_result"
    }
   ],
   "source": [
    "a.grad"
   ]
  },
  {
   "cell_type": "code",
   "execution_count": 144,
   "metadata": {},
   "outputs": [
    {
     "data": {
      "text/plain": [
       "array([[  3.,   5.,   7.,   9.,  11.],\n",
       "       [  3.,   5.,   7.,   9.,  11.]])"
      ]
     },
     "execution_count": 144,
     "metadata": {},
     "output_type": "execute_result"
    }
   ],
   "source": [
    "b.grad"
   ]
  },
  {
   "cell_type": "code",
   "execution_count": 131,
   "metadata": {},
   "outputs": [
    {
     "data": {
      "text/plain": [
       "array([[ 17.,  19.,  21.,  23.,  25.],\n",
       "       [ 17.,  19.,  21.,  23.,  25.]])"
      ]
     },
     "execution_count": 131,
     "metadata": {},
     "output_type": "execute_result"
    }
   ],
   "source": [
    "c.grad.mm(b.data.transpose())"
   ]
  },
  {
   "cell_type": "code",
   "execution_count": 134,
   "metadata": {},
   "outputs": [
    {
     "data": {
      "text/plain": [
       "array([[  3.,   5.,   7.,   9.,  11.],\n",
       "       [  3.,   5.,   7.,   9.,  11.]])"
      ]
     },
     "execution_count": 134,
     "metadata": {},
     "output_type": "execute_result"
    }
   ],
   "source": [
    "c.grad.mm(a.data)"
   ]
  },
  {
   "cell_type": "code",
   "execution_count": null,
   "metadata": {
    "collapsed": true
   },
   "outputs": [],
   "source": []
  },
  {
   "cell_type": "code",
   "execution_count": null,
   "metadata": {
    "collapsed": true
   },
   "outputs": [],
   "source": []
  },
  {
   "cell_type": "code",
   "execution_count": 79,
   "metadata": {
    "collapsed": true
   },
   "outputs": [],
   "source": [
    "import torch\n",
    "from torch.autograd import Variable"
   ]
  },
  {
   "cell_type": "code",
   "execution_count": 92,
   "metadata": {},
   "outputs": [],
   "source": [
    "a = Variable(torch.FloatTensor(a.data),requires_grad=True)\n",
    "b = Variable(torch.FloatTensor(b.data),requires_grad=True)"
   ]
  },
  {
   "cell_type": "code",
   "execution_count": 93,
   "metadata": {
    "collapsed": true
   },
   "outputs": [],
   "source": [
    "c = a.mm(b)"
   ]
  },
  {
   "cell_type": "code",
   "execution_count": 94,
   "metadata": {},
   "outputs": [],
   "source": [
    "c.backward(torch.FloatTensor(np.ones((2,2))))"
   ]
  },
  {
   "cell_type": "code",
   "execution_count": 95,
   "metadata": {},
   "outputs": [
    {
     "data": {
      "text/plain": [
       "Variable containing:\n",
       " 17  19  21  23  25\n",
       " 17  19  21  23  25\n",
       "[torch.FloatTensor of size 2x5]"
      ]
     },
     "execution_count": 95,
     "metadata": {},
     "output_type": "execute_result"
    }
   ],
   "source": [
    "a.grad"
   ]
  },
  {
   "cell_type": "code",
   "execution_count": 96,
   "metadata": {},
   "outputs": [
    {
     "data": {
      "text/plain": [
       "Variable containing:\n",
       "  3   3\n",
       "  5   5\n",
       "  7   7\n",
       "  9   9\n",
       " 11  11\n",
       "[torch.FloatTensor of size 5x2]"
      ]
     },
     "execution_count": 96,
     "metadata": {},
     "output_type": "execute_result"
    }
   ],
   "source": [
    "b.grad"
   ]
  },
  {
   "cell_type": "code",
   "execution_count": null,
   "metadata": {
    "collapsed": true
   },
   "outputs": [],
   "source": []
  }
 ],
 "metadata": {
  "kernelspec": {
   "display_name": "Python 3",
   "language": "python",
   "name": "python3"
  },
  "language_info": {
   "codemirror_mode": {
    "name": "ipython",
    "version": 3
   },
   "file_extension": ".py",
   "mimetype": "text/x-python",
   "name": "python",
   "nbconvert_exporter": "python",
   "pygments_lexer": "ipython3",
   "version": "3.6.1"
  }
 },
 "nbformat": 4,
 "nbformat_minor": 2
}

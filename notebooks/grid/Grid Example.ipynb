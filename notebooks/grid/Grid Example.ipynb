{
 "cells": [
  {
   "cell_type": "code",
   "execution_count": 81,
   "metadata": {},
   "outputs": [
    {
     "name": "stdout",
     "output_type": "stream",
     "text": [
      "The autoreload extension is already loaded. To reload it, use:\n",
      "  %reload_ext autoreload\n"
     ]
    }
   ],
   "source": [
    "%load_ext autoreload\n",
    "%autoreload 2\n",
    "\n",
    "import syft\n",
    "import syft.nn as nn\n",
    "import syft.grid.grid as grid\n",
    "import imp\n",
    "imp.reload(syft)\n",
    "imp.reload(syft.nn)\n",
    "imp.reload(syft.grid)\n",
    "\n",
    "import numpy as np\n",
    "from syft import FloatTensor\n",
    "from syft import IntTensor"
   ]
  },
  {
   "cell_type": "code",
   "execution_count": 73,
   "metadata": {
    "collapsed": true
   },
   "outputs": [],
   "source": [
    "highDropout = nn.Sequential([\n",
    "    nn.Linear(3,4),\n",
    "    nn.ReLU(),\n",
    "    nn.Dropout(0.10),\n",
    "    nn.Linear(4,1),\n",
    "    nn.Softmax(1),\n",
    "    nn.Log()\n",
    "])\n",
    "\n",
    "input = FloatTensor([[0,0,1],[0,1.0,1],[1,0,1],[1,1,1]], autograd=True)"
   ]
  },
  {
   "cell_type": "code",
   "execution_count": 74,
   "metadata": {},
   "outputs": [
    {
     "data": {
      "text/plain": [
       "[[  0.00000000e+00]\n",
       " [ -5.96046400e-08]\n",
       " [  0.00000000e+00]\n",
       " [  0.00000000e+00]]\n",
       "[syft.FloatTensor:35 grad:None size:4x1 c:[] p:[34] init:log]\n",
       "\n",
       "\t-----------creators-----------\n",
       "\t[syft.FloatTensor:34 grad:None size:4x1 c:[35] p:[33] init:softmax-1]\n",
       "\t------------------------------\n",
       "\n"
      ]
     },
     "execution_count": 74,
     "metadata": {},
     "output_type": "execute_result"
    }
   ],
   "source": [
    "highDropout.forward(input)"
   ]
  },
  {
   "cell_type": "code",
   "execution_count": 82,
   "metadata": {
    "collapsed": true
   },
   "outputs": [],
   "source": [
    "highDropout = nn.Sequential([\n",
    "    nn.Linear(3,4),\n",
    "    nn.ReLU(),\n",
    "    nn.Dropout(0.10),\n",
    "    nn.Linear(4,1),\n",
    "    nn.Softmax(1),\n",
    "    nn.Log()\n",
    "])\n",
    "\n",
    "lowDropout = nn.Sequential([\n",
    "    nn.Linear(3,4),\n",
    "    nn.ReLU(),\n",
    "    nn.Dropout(0.1),\n",
    "    nn.Linear(4,1),\n",
    "    nn.Softmax(1),\n",
    "    nn.Log()\n",
    "])\n",
    "\n",
    "g = grid.Grid()\n",
    "\n",
    "config1 = g.configuration(\n",
    "    model=highDropout,\n",
    "    lr=0.01\n",
    ")\n",
    "\n",
    "config2 = g.configuration(\n",
    "    model=highDropout,\n",
    "    lr=0.1\n",
    ")\n",
    "\n",
    "config3 = g.configuration(\n",
    "  model=lowDropout,\n",
    "  lr=0.1\n",
    ")"
   ]
  },
  {
   "cell_type": "code",
   "execution_count": 80,
   "metadata": {},
   "outputs": [
    {
     "name": "stderr",
     "output_type": "stream",
     "text": [
      "Exception ignored in: <object repr() failed>\n",
      "Traceback (most recent call last):\n",
      "  File \"/Users/bendecoste/anaconda3/lib/python3.6/site-packages/syft-0.1.0-py3.6.egg/syft/tensor.py\", line 124, in __del__\n",
      "  File \"/Users/bendecoste/anaconda3/lib/python3.6/site-packages/syft-0.1.0-py3.6.egg/syft/tensor.py\", line 1315, in delete_tensor\n",
      "  File \"/Users/bendecoste/anaconda3/lib/python3.6/site-packages/syft-0.1.0-py3.6.egg/syft/tensor.py\", line 1282, in no_params_func\n",
      "  File \"/Users/bendecoste/anaconda3/lib/python3.6/site-packages/syft-0.1.0-py3.6.egg/syft/tensor.py\", line 1264, in params_func\n",
      "  File \"/Users/bendecoste/anaconda3/lib/python3.6/site-packages/syft-0.1.0-py3.6.egg/syft/controller.py\", line 143, in send_json\n",
      "Exception: Unity Error: System.Collections.Generic.KeyNotFoundException: The given key was not present in the dictionary.\n",
      "  at System.ThrowHelper.ThrowKeyNotFoundException () [0x00000] in /Users/builduser/buildslave/mono/build/mcs/class/referencesource/mscorlib/system/throwhelper.cs:68 \n",
      "  at System.Collections.Generic.Dictionary`2[TKey,TValue].get_Item (TKey key) [0x0001e] in /Users/builduser/buildslave/mono/build/mcs/class/referencesource/mscorlib/system/collections/generic/dictionary.cs:183 \n",
      "  at OpenMined.Syft.Tensor.Factories.FloatTensorFactory.Get (System.Int32 id) [0x00008] in /Users/bendecoste/code/OpenMined/UnityProject/Assets/OpenMined/Syft/Tensor/Factories/FloatTensorFactory.cs:24 \n",
      "  at OpenMined.Network.Controllers.SyftController.processMessage (System.String json_message, UnityEngine.MonoBehaviour owner) [0x002d2] in /Users/bendecoste/code/OpenMined/UnityProject/Assets/OpenMined/Network/Controllers/SyftController.cs:226 \n",
      "Exception ignored in: <object repr() failed>\n",
      "Traceback (most recent call last):\n",
      "  File \"/Users/bendecoste/anaconda3/lib/python3.6/site-packages/syft-0.1.0-py3.6.egg/syft/tensor.py\", line 124, in __del__\n",
      "  File \"/Users/bendecoste/anaconda3/lib/python3.6/site-packages/syft-0.1.0-py3.6.egg/syft/tensor.py\", line 1315, in delete_tensor\n",
      "  File \"/Users/bendecoste/anaconda3/lib/python3.6/site-packages/syft-0.1.0-py3.6.egg/syft/tensor.py\", line 1282, in no_params_func\n",
      "  File \"/Users/bendecoste/anaconda3/lib/python3.6/site-packages/syft-0.1.0-py3.6.egg/syft/tensor.py\", line 1264, in params_func\n",
      "  File \"/Users/bendecoste/anaconda3/lib/python3.6/site-packages/syft-0.1.0-py3.6.egg/syft/controller.py\", line 143, in send_json\n",
      "Exception: Unity Error: System.Collections.Generic.KeyNotFoundException: The given key was not present in the dictionary.\n",
      "  at System.ThrowHelper.ThrowKeyNotFoundException () [0x00000] in /Users/builduser/buildslave/mono/build/mcs/class/referencesource/mscorlib/system/throwhelper.cs:68 \n",
      "  at System.Collections.Generic.Dictionary`2[TKey,TValue].get_Item (TKey key) [0x0001e] in /Users/builduser/buildslave/mono/build/mcs/class/referencesource/mscorlib/system/collections/generic/dictionary.cs:183 \n",
      "  at OpenMined.Syft.Tensor.Factories.FloatTensorFactory.Get (System.Int32 id) [0x00008] in /Users/bendecoste/code/OpenMined/UnityProject/Assets/OpenMined/Syft/Tensor/Factories/FloatTensorFactory.cs:24 \n",
      "  at OpenMined.Network.Controllers.SyftController.processMessage (System.String json_message, UnityEngine.MonoBehaviour owner) [0x002d2] in /Users/bendecoste/code/OpenMined/UnityProject/Assets/OpenMined/Network/Controllers/SyftController.cs:226 \n"
     ]
    }
   ],
   "source": [
    "input = FloatTensor([[0,0,1],[0,1.0,1],[1,0,1],[1,1,1]], autograd=True)\n",
    "target = FloatTensor([[0],[0],[1],[1]], autograd=True)\n",
    "\n",
    "g.learn(\n",
    "  input = input,\n",
    "  target = target,\n",
    "  configurations = [config1, config2, config3]\n",
    ")"
   ]
  },
  {
   "cell_type": "code",
   "execution_count": null,
   "metadata": {
    "collapsed": true
   },
   "outputs": [],
   "source": []
  }
 ],
 "metadata": {
  "kernelspec": {
   "display_name": "Python 3",
   "language": "python",
   "name": "python3"
  },
  "language_info": {
   "codemirror_mode": {
    "name": "ipython",
    "version": 3
   },
   "file_extension": ".py",
   "mimetype": "text/x-python",
   "name": "python",
   "nbconvert_exporter": "python",
   "pygments_lexer": "ipython3",
   "version": "3.6.3"
  }
 },
 "nbformat": 4,
 "nbformat_minor": 2
}

{
 "cells": [
  {
   "cell_type": "code",
   "execution_count": 1,
   "metadata": {},
   "outputs": [
    {
     "name": "stderr",
     "output_type": "stream",
     "text": [
      "/anaconda3/lib/python3.6/site-packages/IPython/html.py:14: ShimWarning: The `IPython.html` package has been deprecated since IPython 4.0. You should import from `notebook` instead. `IPython.html.widgets` has moved to `ipywidgets`.\n",
      "  \"`IPython.html.widgets` has moved to `ipywidgets`.\", ShimWarning)\n"
     ]
    }
   ],
   "source": [
    "%load_ext autoreload\n",
    "%autoreload 2\n",
    "\n",
    "import syft\n",
    "import syft.nn as nn\n",
    "import syft.grid.grid as grid\n",
    "import imp\n",
    "imp.reload(syft)\n",
    "imp.reload(syft.nn)\n",
    "imp.reload(syft.grid)\n",
    "\n",
    "import numpy as np\n",
    "from syft import FloatTensor\n",
    "from syft import IntTensor"
   ]
  },
  {
   "cell_type": "code",
   "execution_count": 2,
   "metadata": {
    "collapsed": true
   },
   "outputs": [],
   "source": [
    "highDropout = nn.Sequential([\n",
    "    nn.Linear(3,4),\n",
    "    nn.ReLU(),\n",
    "    nn.Dropout(0.10),\n",
    "    nn.Linear(4,1),\n",
    "    nn.Softmax(1),\n",
    "    nn.Log()\n",
    "])\n",
    "\n",
    "lowDropout = nn.Sequential([\n",
    "    nn.Linear(3,4),\n",
    "    nn.ReLU(),\n",
    "    nn.Dropout(0.1),\n",
    "    nn.Linear(4,1),\n",
    "    nn.Softmax(1),\n",
    "    nn.Log()\n",
    "])\n",
    "\n",
    "g = grid.Grid()\n",
    "\n",
    "config3 = g.configuration(\n",
    "  model=lowDropout,\n",
    "  lr=0.1\n",
    ")"
   ]
  },
  {
   "cell_type": "code",
   "execution_count": null,
   "metadata": {
    "collapsed": true
   },
   "outputs": [],
   "source": []
  },
  {
   "cell_type": "code",
   "execution_count": 3,
   "metadata": {
    "collapsed": true
   },
   "outputs": [],
   "source": [
    "input = FloatTensor([[0,0,1],[0,1.0,1],[1,0,1],[1,1,1]], autograd=True)\n",
    "target = FloatTensor([[0],[0],[1],[1]], autograd=True)\n",
    "\n",
    "g.learn(\n",
    "  input = input,\n",
    "  target = target,\n",
    "  configurations = [config3]\n",
    ")"
   ]
  },
  {
   "cell_type": "code",
   "execution_count": null,
   "metadata": {
    "collapsed": true
   },
   "outputs": [],
   "source": []
  }
 ],
 "metadata": {
  "kernelspec": {
   "display_name": "Python 3",
   "language": "python",
   "name": "python3"
  },
  "language_info": {
   "codemirror_mode": {
    "name": "ipython",
    "version": 3
   },
   "file_extension": ".py",
   "mimetype": "text/x-python",
   "name": "python",
   "nbconvert_exporter": "python",
   "pygments_lexer": "ipython3",
   "version": "3.6.3"
  }
 },
 "nbformat": 4,
 "nbformat_minor": 2
}

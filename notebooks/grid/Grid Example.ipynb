{
 "cells": [
  {
   "cell_type": "markdown",
   "metadata": {},
   "source": [
    "# Grid Example notebook\n",
    "The following notebook will give an example on how to use Grid. Before starting this notebook make sure you setup a Bygone server that connects with Unity, following this tutorial: https://github.com/OpenMined/tutorials/blob/master/installation/Bygone/installation.md\n"
   ]
  },
  {
   "cell_type": "code",
   "execution_count": 1,
   "metadata": {},
   "outputs": [
    {
     "name": "stderr",
     "output_type": "stream",
     "text": [
      "/usr/local/lib/python3.6/site-packages/IPython/html.py:14: ShimWarning: The `IPython.html` package has been deprecated since IPython 4.0. You should import from `notebook` instead. `IPython.html.widgets` has moved to `ipywidgets`.\n",
      "  \"`IPython.html.widgets` has moved to `ipywidgets`.\", ShimWarning)\n",
      "Import warning: PyTorch capabilities not available due to torch module not found on your system\n",
      "How to install PyTorch: http://pytorch.org/"
     ]
    }
   ],
   "source": [
    "%load_ext autoreload\n",
    "%autoreload 2\n",
    "\n",
    "import syft\n",
    "import syft.nn as nn\n",
    "import syft.grid.grid as grid\n",
    "import imp\n",
    "imp.reload(syft)\n",
    "imp.reload(syft.nn)\n",
    "imp.reload(syft.grid)\n",
    "\n",
    "import numpy as np\n",
    "from syft import FloatTensor\n",
    "from syft import IntTensor"
   ]
  },
  {
   "cell_type": "markdown",
   "metadata": {},
   "source": [
    "# Create model\n",
    "Create a model with different configurations that you want to train on the grid."
   ]
  },
  {
   "cell_type": "code",
   "execution_count": 2,
   "metadata": {
    "collapsed": true
   },
   "outputs": [],
   "source": [
    "model = nn.Sequential([\n",
    "    nn.Linear(3,1),\n",
    "    nn.Sigmoid()\n",
    "])\n",
    "\n",
    "g = grid.Grid()\n",
    "\n",
    "config1 = g.configuration(\n",
    "    model=model,\n",
    "    lr=0.01,\n",
    "    criterion='mseloss',\n",
    "    iters=200\n",
    ")\n",
    "\n",
    "config2 = g.configuration(\n",
    "    model=model,\n",
    "    lr=0.1,\n",
    "    criterion='cross_entropy_loss',\n",
    "    iters=500\n",
    ")\n",
    "\n",
    "config3 = g.configuration(\n",
    "    model=model,\n",
    "    lr=0.1,\n",
    "    criterion='mseloss',\n",
    "    iters=200\n",
    ")"
   ]
  },
  {
   "cell_type": "markdown",
   "metadata": {},
   "source": [
    "# Train the model on the grid"
   ]
  },
  {
   "cell_type": "code",
   "execution_count": 3,
   "metadata": {
    "collapsed": true
   },
   "outputs": [],
   "source": [
    "input = FloatTensor([[0,0,1],[0,1,1],[1,0,1],[1,1,1]], autograd=True)\n",
    "target = FloatTensor([[0],[0],[1],[1]], autograd=True)\n",
    "\n",
    "g.learn(\n",
    "  input = input,\n",
    "  target = target,\n",
    "  configurations = [config1, config2, config3],\n",
    "  name='test_experiment'\n",
    ")"
   ]
  },
  {
   "cell_type": "markdown",
   "metadata": {},
   "source": [
    "# Show the experiments\n",
    "Show the experiments on the grid and their status."
   ]
  },
  {
   "cell_type": "code",
   "execution_count": 4,
   "metadata": {},
   "outputs": [
    {
     "name": "stdout",
     "output_type": "stream",
     "text": [
      "\u001b[40m\u001b[37m ALL EXPERIMENTS \u001b[0m\n"
     ]
    },
    {
     "data": {
      "application/vnd.jupyter.widget-view+json": {
       "model_id": "460ee15d76b94229b977e4b6dc51066f",
       "version_major": 2,
       "version_minor": 0
      },
      "text/html": [
       "<p>Failed to display Jupyter Widget of type <code>HBox</code>.</p>\n",
       "<p>\n",
       "  If you're reading this message in the Jupyter Notebook or JupyterLab Notebook, it may mean\n",
       "  that the widgets JavaScript is still loading. If this message persists, it\n",
       "  likely means that the widgets JavaScript library is either not installed or\n",
       "  not enabled. See the <a href=\"https://ipywidgets.readthedocs.io/en/stable/user_install.html\">Jupyter\n",
       "  Widgets Documentation</a> for setup instructions.\n",
       "</p>\n",
       "<p>\n",
       "  If you're reading this message in another frontend (for example, a static\n",
       "  rendering on GitHub or <a href=\"https://nbviewer.jupyter.org/\">NBViewer</a>),\n",
       "  it may mean that your frontend doesn't currently support widgets.\n",
       "</p>\n"
      ],
      "text/plain": [
       "HBox(children=(VBox(children=(Label(value='test_experiment'),)), VBox(children=(Label(value='caed4f97-ce01-4c3e-83fa-df26dad69bba'),)), VBox(children=(Label(value='Checking...'),))))"
      ]
     },
     "metadata": {},
     "output_type": "display_data"
    }
   ],
   "source": [
    "g.get_experiments()"
   ]
  },
  {
   "cell_type": "markdown",
   "metadata": {},
   "source": [
    "# Retrieve results\n",
    "Retrieve the resulting models from a certain experiment. You can either use the experiment name or the number to retrieve the address. Using g['experiment_name'] or g[0]."
   ]
  },
  {
   "cell_type": "code",
   "execution_count": 5,
   "metadata": {
    "collapsed": true
   },
   "outputs": [],
   "source": [
    "r = g.get_results(g['test_experiment'])"
   ]
  },
  {
   "cell_type": "code",
   "execution_count": 7,
   "metadata": {},
   "outputs": [
    {
     "name": "stdout",
     "output_type": "stream",
     "text": [
      "Index:0 Alpha:0.01\n",
      "  0.5592535 \n",
      "  0.5645577 \n",
      "  0.6716104 \n",
      "  0.6763451  \n",
      "Index:1 Alpha:0.1\n",
      "  0.5962501 \n",
      "  0.6205054 \n",
      "  0.6747339 \n",
      "  0.6966729  \n",
      "Index:2 Alpha:0.1\n",
      "  0.3148724 \n",
      "  0.2250991 \n",
      "  0.7332692 \n",
      "  0.6347192  \n"
     ]
    }
   ],
   "source": [
    "configs =  [config1, config2, config3]\n",
    "for model_i, trained_model in enumerate(r.results):\n",
    "    print(\"Index:\" + str(model_i) + \" Alpha:\" + str(configs[model_i].lr))\n",
    "    print(trained_model.forward(input))"
   ]
  },
  {
   "cell_type": "code",
   "execution_count": null,
   "metadata": {
    "collapsed": true
   },
   "outputs": [],
   "source": []
  }
 ],
 "metadata": {
  "kernelspec": {
   "display_name": "Python 3",
   "language": "python",
   "name": "python3"
  },
  "language_info": {
   "codemirror_mode": {
    "name": "ipython",
    "version": 3
   },
   "file_extension": ".py",
   "mimetype": "text/x-python",
   "name": "python",
   "nbconvert_exporter": "python",
   "pygments_lexer": "ipython3",
   "version": "3.6.3"
  }
 },
 "nbformat": 4,
 "nbformat_minor": 2
}

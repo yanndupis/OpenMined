{
 "cells": [
  {
   "cell_type": "code",
   "execution_count": 1,
   "metadata": {},
   "outputs": [
    {
     "name": "stderr",
     "output_type": "stream",
     "text": [
      "/Users/morgangiraud/.virtualenvs/openmined/lib/python3.6/site-packages/IPython/html.py:14: ShimWarning: The `IPython.html` package has been deprecated since IPython 4.0. You should import from `notebook` instead. `IPython.html.widgets` has moved to `ipywidgets`.\n",
      "  \"`IPython.html.widgets` has moved to `ipywidgets`.\", ShimWarning)\n"
     ]
    }
   ],
   "source": [
    "import os\n",
    "\n",
    "import onnx\n",
    "from google.protobuf import json_format\n",
    "\n",
    "import syft\n",
    "import syft.nn\n",
    "import syft.onnx\n",
    "import imp\n",
    "imp.reload(syft)\n",
    "imp.reload(syft.nn)\n",
    "\n",
    "import numpy as np\n",
    "from syft import FloatTensor\n",
    "\n",
    "import torch\n",
    "from torch.autograd import Variable\n",
    "import torch.nn as nn\n",
    "import torch.onnx\n",
    "\n",
    "torch_dummy_input = Variable(torch.randn(2, 5))\n",
    "dummy_input = FloatTensor([[1,2,3,4,5],[5,4,3,2,1]], autograd=True)"
   ]
  },
  {
   "cell_type": "code",
   "execution_count": 2,
   "metadata": {},
   "outputs": [
    {
     "name": "stdout",
     "output_type": "stream",
     "text": [
      "graph(%1 : Float(2, 5)) {\n",
      "  %2 : Float(2, 5) = Softmax[axis=1](%1), uses = [%0.i0];\n",
      "  return (%2);\n",
      "}\n",
      "\n"
     ]
    },
    {
     "name": "stderr",
     "output_type": "stream",
     "text": [
      "/Users/morgangiraud/.virtualenvs/openmined/lib/python3.6/site-packages/torch/jit/__init__.py:236: UserWarning: Implicit dimension choice for softmax has been deprecated. Change the call to include dim=X as an argument.\n",
      "  return _flatten(self.inner(*args, **kwargs))\n"
     ]
    }
   ],
   "source": [
    "\n",
    "torch_model = torch.nn.Softmax()\n",
    "torch_proto_path = os.path.join(\"/tmp\", \"torch_model.proto\")\n",
    "torch.onnx.export(torch_model, torch_dummy_input, torch_proto_path, verbose=True)\n",
    "torch_model = onnx.load(torch_proto_path)\n",
    "onnx.checker.check_model(torch_model)\n",
    "onnx.helper.strip_doc_string(torch_model) # Cleaning\n",
    "# print(model)"
   ]
  },
  {
   "cell_type": "code",
   "execution_count": 3,
   "metadata": {},
   "outputs": [
    {
     "name": "stdout",
     "output_type": "stream",
     "text": [
      "Linear OK!\n"
     ]
    }
   ],
   "source": [
    "# Testing Linear\n",
    "model = syft.nn.Linear(5,3)\n",
    "\n",
    "syft_model_as_json = syft.onnx.export_as_json(model, dummy_input, verbose=True)\n",
    "model_from_syft = onnx.onnx_pb.ModelProto()\n",
    "json_format.Parse(syft_model_as_json, model_from_syft)\n",
    "if(onnx.checker.check_model(model_from_syft) == None):\n",
    "    print(\"Linear OK!\")\n",
    "else:\n",
    "    print(model_from_syft)"
   ]
  },
  {
   "cell_type": "code",
   "execution_count": 4,
   "metadata": {},
   "outputs": [
    {
     "name": "stdout",
     "output_type": "stream",
     "text": [
      "Softmax OK!\n"
     ]
    }
   ],
   "source": [
    "# Testing Softmax\n",
    "model = syft.nn.Softmax()\n",
    "\n",
    "syft_model_as_json = syft.onnx.export_as_json(model, dummy_input, verbose=True)\n",
    "model_from_syft = onnx.onnx_pb.ModelProto()\n",
    "json_format.Parse(syft_model_as_json, model_from_syft)\n",
    "onnx.checker.check_model(model_from_syft)\n",
    "if(onnx.checker.check_model(model_from_syft) == None):\n",
    "    print(\"Softmax OK!\")\n",
    "else:\n",
    "    print(model_from_syft)"
   ]
  },
  {
   "cell_type": "code",
   "execution_count": 5,
   "metadata": {},
   "outputs": [
    {
     "name": "stdout",
     "output_type": "stream",
     "text": [
      "Log OK!\n"
     ]
    }
   ],
   "source": [
    "# Testing Log\n",
    "model = syft.nn.Log()\n",
    "\n",
    "syft_model_as_json = syft.onnx.export_as_json(model, dummy_input, verbose=True)\n",
    "model_from_syft = onnx.onnx_pb.ModelProto()\n",
    "json_format.Parse(syft_model_as_json, model_from_syft)\n",
    "onnx.checker.check_model(model_from_syft)\n",
    "if(onnx.checker.check_model(model_from_syft) == None):\n",
    "    print(\"Log OK!\")\n",
    "else:\n",
    "    print(model_from_syft)"
   ]
  },
  {
   "cell_type": "code",
   "execution_count": 6,
   "metadata": {},
   "outputs": [
    {
     "name": "stdout",
     "output_type": "stream",
     "text": [
      "LogSoftmax OK!\n"
     ]
    }
   ],
   "source": [
    "# Testing LogSoftmax\n",
    "model = syft.nn.LogSoftmax()\n",
    "\n",
    "syft_model_as_json = syft.onnx.export_as_json(model, dummy_input, verbose=True)\n",
    "model_from_syft = onnx.onnx_pb.ModelProto()\n",
    "json_format.Parse(syft_model_as_json, model_from_syft)\n",
    "onnx.checker.check_model(model_from_syft)\n",
    "if(onnx.checker.check_model(model_from_syft) == None):\n",
    "    print(\"LogSoftmax OK!\")\n",
    "else:\n",
    "    print(model_from_syft)"
   ]
  },
  {
   "cell_type": "code",
   "execution_count": 7,
   "metadata": {},
   "outputs": [
    {
     "name": "stdout",
     "output_type": "stream",
     "text": [
      "Tanh OK!\n"
     ]
    }
   ],
   "source": [
    "# Testing Tanh\n",
    "model = syft.nn.Tanh()\n",
    "\n",
    "syft_model_as_json = syft.onnx.export_as_json(model, dummy_input, verbose=True)\n",
    "model_from_syft = onnx.onnx_pb.ModelProto()\n",
    "json_format.Parse(syft_model_as_json, model_from_syft)\n",
    "onnx.checker.check_model(model_from_syft)\n",
    "if(onnx.checker.check_model(model_from_syft) == None):\n",
    "    print(\"Tanh OK!\")\n",
    "else:\n",
    "    print(model_from_syft)"
   ]
  },
  {
   "cell_type": "code",
   "execution_count": 8,
   "metadata": {},
   "outputs": [
    {
     "name": "stdout",
     "output_type": "stream",
     "text": [
      "Sigmoid OK!\n"
     ]
    }
   ],
   "source": [
    "# Testing Sigmoid\n",
    "model = syft.nn.Sigmoid()\n",
    "\n",
    "syft_model_as_json = syft.onnx.export_as_json(model, dummy_input, verbose=True)\n",
    "model_from_syft = onnx.onnx_pb.ModelProto()\n",
    "json_format.Parse(syft_model_as_json, model_from_syft)\n",
    "onnx.checker.check_model(model_from_syft)\n",
    "if(onnx.checker.check_model(model_from_syft) == None):\n",
    "    print(\"Sigmoid OK!\")\n",
    "else:\n",
    "    print(model_from_syft)"
   ]
  },
  {
   "cell_type": "code",
   "execution_count": 9,
   "metadata": {},
   "outputs": [
    {
     "name": "stdout",
     "output_type": "stream",
     "text": [
      "ReLU OK!\n"
     ]
    }
   ],
   "source": [
    "# Testing ReLU\n",
    "model = syft.nn.ReLU()\n",
    "\n",
    "syft_model_as_json = syft.onnx.export_as_json(model, dummy_input, verbose=True)\n",
    "model_from_syft = onnx.onnx_pb.ModelProto()\n",
    "json_format.Parse(syft_model_as_json, model_from_syft)\n",
    "onnx.checker.check_model(model_from_syft)\n",
    "if(onnx.checker.check_model(model_from_syft) == None):\n",
    "    print(\"ReLU OK!\")\n",
    "else:\n",
    "    print(model_from_syft)"
   ]
  },
  {
   "cell_type": "code",
   "execution_count": 10,
   "metadata": {},
   "outputs": [
    {
     "name": "stdout",
     "output_type": "stream",
     "text": [
      "Dropout OK!\n"
     ]
    }
   ],
   "source": [
    "# Testing Dropout\n",
    "model = syft.nn.Dropout()\n",
    "\n",
    "syft_model_as_json = syft.onnx.export_as_json(model, dummy_input, verbose=True)\n",
    "model_from_syft = onnx.onnx_pb.ModelProto()\n",
    "json_format.Parse(syft_model_as_json, model_from_syft)\n",
    "onnx.checker.check_model(model_from_syft)\n",
    "if(onnx.checker.check_model(model_from_syft) == None):\n",
    "    print(\"Dropout OK!\")\n",
    "else:\n",
    "    print(model_from_syft)"
   ]
  },
  {
   "cell_type": "code",
   "execution_count": 11,
   "metadata": {},
   "outputs": [
    {
     "name": "stdout",
     "output_type": "stream",
     "text": [
      "Sequential OK!\n"
     ]
    }
   ],
   "source": [
    "# Testing Sequential\n",
    "model = syft.nn.Sequential([\n",
    "    syft.nn.Linear(5,3),\n",
    "])\n",
    "\n",
    "syft_model_as_json = syft.onnx.export_as_json(model, dummy_input, verbose=True)\n",
    "model_from_syft = onnx.onnx_pb.ModelProto()\n",
    "json_format.Parse(syft_model_as_json, model_from_syft)\n",
    "onnx.checker.check_model(model_from_syft)\n",
    "if(onnx.checker.check_model(model_from_syft) == None):\n",
    "    print(\"Sequential OK!\")\n",
    "else:\n",
    "    print(model_from_syft)"
   ]
  },
  {
   "cell_type": "code",
   "execution_count": null,
   "metadata": {},
   "outputs": [],
   "source": []
  }
 ],
 "metadata": {
  "kernelspec": {
   "display_name": "Python 3",
   "language": "python",
   "name": "python3"
  },
  "language_info": {
   "codemirror_mode": {
    "name": "ipython",
    "version": 3
   },
   "file_extension": ".py",
   "mimetype": "text/x-python",
   "name": "python",
   "nbconvert_exporter": "python",
   "pygments_lexer": "ipython3",
   "version": "3.6.3"
  }
 },
 "nbformat": 4,
 "nbformat_minor": 2
}

{
 "cells": [
  {
   "cell_type": "code",
   "execution_count": 1,
   "metadata": {},
   "outputs": [
    {
     "name": "stdout",
     "output_type": "stream",
     "text": [
      "\n",
      " 0.0163 -0.1790 -0.4116  0.3248 -0.0546\n",
      "-0.0376  0.2728  0.1537 -0.0951 -0.2583\n",
      "[torch.FloatTensor of size 2x5]\n",
      "\n",
      "\n",
      " 0.2224\n",
      " 0.4053\n",
      "[torch.FloatTensor of size 2]\n",
      "\n",
      "Sequential(\n",
      "  (0): Linear(in_features=5, out_features=2)\n",
      "  (1): Softmax()\n",
      ") \n",
      "\n",
      "model saved at: /tmp/model.proto\n"
     ]
    }
   ],
   "source": [
    "import os\n",
    "import torch\n",
    "from torch.autograd import Variable\n",
    "import torch.nn as nn\n",
    "import torch.onnx\n",
    "import onnx\n",
    "\n",
    "from google.protobuf import json_format\n",
    "\n",
    "# First we export a PyTorch model\n",
    "filename = \"model.proto\"\n",
    "fullpath = os.path.join(\"/tmp\", filename)\n",
    "\n",
    "dummy_input = Variable(torch.FloatTensor([[1,2,3,4,5], [-5,-4,-3, 2, 1]]))\n",
    "model = torch.nn.Sequential(\n",
    "          torch.nn.Linear(5, 2),\n",
    "#           torch.nn.Dropout(p=0.9),\n",
    "#           torch.nn.ReLU(),\n",
    "#           torch.nn.Linear(4, 3),\n",
    "#           torch.nn.Dropout(p=0.9),\n",
    "#           torch.nn.ReLU(),\n",
    "#           torch.nn.Linear(3, 2),\n",
    "          torch.nn.Softmax(dim=1),\n",
    "        )\n",
    "for param in model.parameters():\n",
    "    print(param.data)\n",
    "print(model, \"\\n\")\n",
    "torch.onnx.export(model, dummy_input, fullpath)\n",
    "print(\"model saved at: %s\" % fullpath)\n"
   ]
  },
  {
   "cell_type": "code",
   "execution_count": 2,
   "metadata": {},
   "outputs": [
    {
     "name": "stderr",
     "output_type": "stream",
     "text": [
      "/Users/morgangiraud/.virtualenvs/openmined/lib/python3.6/site-packages/IPython/html.py:14: ShimWarning: The `IPython.html` package has been deprecated since IPython 4.0. You should import from `notebook` instead. `IPython.html.widgets` has moved to `ipywidgets`.\n",
      "  \"`IPython.html.widgets` has moved to `ipywidgets`.\", ShimWarning)\n"
     ]
    }
   ],
   "source": [
    "import syft\n",
    "import syft.nn\n",
    "import syft.onnx\n",
    "from syft import FloatTensor"
   ]
  },
  {
   "cell_type": "code",
   "execution_count": 3,
   "metadata": {
    "scrolled": true
   },
   "outputs": [
    {
     "name": "stdout",
     "output_type": "stream",
     "text": [
      "_________________________________________________________________\n",
      "Layer (type)                 Output Shape              Param #   \n",
      "=================================================================\n",
      "linear_2 (Linear)            (None, 2)                 12\n",
      "_________________________________________________________________\n",
      "softmax_3 (Softmax)          (dynamic)                 0\n",
      "=================================================================\n",
      "Total params: 12\n",
      "Trainable params: 12\n",
      "Non-trainable params: 0\n",
      "_________________________________________________________________\n",
      "\n",
      "[[[ 0.0162746  -0.03755596]\n",
      " [-0.1789756   0.2728011 ]\n",
      " [-0.4116018   0.1536942 ]\n",
      " [ 0.3247608  -0.09514675]\n",
      " [-0.05463052 -0.2583194 ]]\n",
      "[syft.FloatTensor:3 grad:None size:5x2 c:[] p:[2] init:transpose]\n",
      "\n",
      "\t-----------creators-----------\n",
      "\t[syft.FloatTensor:2 grad:None size:2x5 c:[3] p:[] init:]\n",
      "\t------------------------------\n",
      "\n",
      "\n",
      ", [[ 0.2223567  0.4053208]]\n",
      "[syft.FloatTensor:4 grad:None size:1x2 c:[] p:[] init:]\n",
      "] \n",
      "\n"
     ]
    }
   ],
   "source": [
    "# Load the PyTorch model\n",
    "syft_dummy_input = FloatTensor([[1,2,3,4,5],[-5,-4,-3,2,1]], autograd=True)\n",
    "syft_model = syft.onnx.load(fullpath)\n",
    "\n",
    "syft_model.summary()\n",
    "print(syft_model.parameters(), \"\\n\")"
   ]
  },
  {
   "cell_type": "code",
   "execution_count": 4,
   "metadata": {},
   "outputs": [
    {
     "name": "stdout",
     "output_type": "stream",
     "text": [
      "Variable containing:\n",
      " 1  2  3  4  5\n",
      "-5 -4 -3  2  1\n",
      "[torch.FloatTensor of size 2x5]\n",
      " Variable containing:\n",
      " 0.4924  0.5076\n",
      " 0.9836  0.0164\n",
      "[torch.FloatTensor of size 2x2]\n",
      "\n",
      "   1.  2.  3.  4.  5. \n",
      "  -5. -4. -3.  2.  1.  \n",
      "   0.4923756   0.5076244  \n",
      "   0.9836072   0.01639285  \n"
     ]
    }
   ],
   "source": [
    "# Execute models\n",
    "pytorch_output = model(dummy_input)\n",
    "syft_output = syft_model(syft_dummy_input)\n",
    "print(dummy_input, pytorch_output)\n",
    "print(syft_dummy_input)\n",
    "print(syft_output)"
   ]
  },
  {
   "cell_type": "code",
   "execution_count": 5,
   "metadata": {},
   "outputs": [
    {
     "name": "stdout",
     "output_type": "stream",
     "text": [
      "   0.4923756   0.5076244  \n",
      "   0.9836072   0.01639285  \n",
      "   0.4923756   0.5076244  \n",
      "   0.9836072   0.01639285  \n"
     ]
    }
   ],
   "source": [
    "# Testing consistency between serialization and deserialization in OpenMined\n",
    "syft.onnx.export(syft_model, syft_dummy_input, fullpath)\n",
    "new_syft_model = syft.onnx.load(fullpath)\n",
    "\n",
    "syft_output = syft_model(syft_dummy_input)\n",
    "new_syft_output = new_syft_model(syft_dummy_input)\n",
    "\n",
    "print(syft_output)\n",
    "print(new_syft_output)"
   ]
  },
  {
   "cell_type": "code",
   "execution_count": null,
   "metadata": {},
   "outputs": [],
   "source": []
  }
 ],
 "metadata": {
  "kernelspec": {
   "display_name": "Python 3",
   "language": "python",
   "name": "python3"
  },
  "language_info": {
   "codemirror_mode": {
    "name": "ipython",
    "version": 3
   },
   "file_extension": ".py",
   "mimetype": "text/x-python",
   "name": "python",
   "nbconvert_exporter": "python",
   "pygments_lexer": "ipython3",
   "version": "3.6.3"
  }
 },
 "nbformat": 4,
 "nbformat_minor": 2
}

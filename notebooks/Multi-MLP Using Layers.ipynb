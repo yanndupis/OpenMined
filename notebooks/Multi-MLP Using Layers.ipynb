{
 "cells": [
  {
   "cell_type": "markdown",
   "metadata": {},
   "source": [
    "The purpose of this notebook is to demonstrate how you can sum individual forward propagation losses together and autograd will still backprop into the different forward propagations. This is a leadin to Reinforcement Learning using Policy Gradients."
   ]
  },
  {
   "cell_type": "code",
   "execution_count": 5,
   "metadata": {},
   "outputs": [],
   "source": [
    "import syft\n",
    "import syft.nn as nn\n",
    "import imp\n",
    "imp.reload(syft)\n",
    "imp.reload(syft.nn)\n",
    "from syft.controller import tensors, models\n",
    "import numpy as np\n",
    "from syft import FloatTensor\n",
    "from functools import reduce"
   ]
  },
  {
   "cell_type": "code",
   "execution_count": 2,
   "metadata": {},
   "outputs": [],
   "source": [
    "model = nn.Sequential([\n",
    "    nn.Linear(3,4),\n",
    "    nn.Tanh(),\n",
    "    nn.Linear(4,1),\n",
    "    nn.Sigmoid()\n",
    "])\n",
    "\n",
    "inputs = list()\n",
    "targets = list()\n",
    "\n",
    "inputs.append(FloatTensor([[0,0,1]], autograd=True))\n",
    "inputs.append(FloatTensor([[0,1,1]], autograd=True))\n",
    "inputs.append(FloatTensor([[1,0,1]], autograd=True))\n",
    "inputs.append(FloatTensor([[1,1,1]], autograd=True))\n",
    "\n",
    "targets.append(FloatTensor([[0]], autograd=True))\n",
    "targets.append(FloatTensor([[0]], autograd=True))\n",
    "targets.append(FloatTensor([[1]], autograd=True))\n",
    "targets.append(FloatTensor([[1]], autograd=True))"
   ]
  },
  {
   "cell_type": "code",
   "execution_count": 6,
   "metadata": {},
   "outputs": [
    {
     "name": "stdout",
     "output_type": "stream",
     "text": [
      "[[ 0.6698646]]\n",
      "[[ 0.4378981]]\n",
      "[[ 0.2144637]]\n",
      "[[ 0.03272579]]\n",
      "[[ 0.00753361]]\n",
      "[[ 0.00204249]]\n",
      "[[ 0.0006409]]\n",
      "[[ 0.00024182]]\n",
      "[[ 0.00011226]]\n",
      "[[  6.47131500e-05]]\n"
     ]
    }
   ],
   "source": [
    "for iter in range(10):\n",
    "    preds = list()\n",
    "\n",
    "    for i in range(len(inputs)):\n",
    "        preds.append(model(inputs[i]))\n",
    "\n",
    "    losses = list()\n",
    "    for i in range(len(preds)):\n",
    "        losses.append((preds[i] - targets[i]) ** 2)\n",
    "\n",
    "    loss = reduce(lambda x,y:x+y,losses)\n",
    "\n",
    "    loss.backward()\n",
    "\n",
    "    for p in model.parameters():\n",
    "        p -= p.grad()\n",
    "        \n",
    "    print(loss.to_numpy())"
   ]
  },
  {
   "cell_type": "code",
   "execution_count": null,
   "metadata": {
    "collapsed": true
   },
   "outputs": [],
   "source": []
  }
 ],
 "metadata": {
  "kernelspec": {
   "display_name": "Python 3",
   "language": "python",
   "name": "python3"
  },
  "language_info": {
   "codemirror_mode": {
    "name": "ipython",
    "version": 3
   },
   "file_extension": ".py",
   "mimetype": "text/x-python",
   "name": "python",
   "nbconvert_exporter": "python",
   "pygments_lexer": "ipython3",
   "version": "3.6.1"
  }
 },
 "nbformat": 4,
 "nbformat_minor": 2
}

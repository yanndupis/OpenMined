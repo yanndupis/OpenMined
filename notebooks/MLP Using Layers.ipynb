{
 "cells": [
  {
   "cell_type": "code",
   "execution_count": 8,
   "metadata": {
    "collapsed": true
   },
   "outputs": [],
   "source": [
    "import syft\n",
    "import syft.nn as nn\n",
    "import imp\n",
    "imp.reload(syft)\n",
    "imp.reload(syft.nn)\n",
    "\n",
    "import numpy as np\n",
    "from syft import FloatTensor"
   ]
  },
  {
   "cell_type": "code",
   "execution_count": 9,
   "metadata": {
    "collapsed": true
   },
   "outputs": [],
   "source": [
    "model = nn.Sequential([\n",
    "    nn.Linear(3,4),\n",
    "    nn.Tanh(),\n",
    "    nn.Linear(4,1),\n",
    "    nn.Sigmoid()\n",
    "])\n",
    "\n",
    "input = FloatTensor([[0,0,1],[0,1.0,1],[1,0,1],[1,1,1]], autograd=True)\n",
    "target = FloatTensor([[0],[0],[1],[1]], autograd=True)"
   ]
  },
  {
   "cell_type": "code",
   "execution_count": 6,
   "metadata": {
    "collapsed": true
   },
   "outputs": [],
   "source": [
    "pred = model(input)\n",
    "\n",
    "loss = (pred - target) ** 2\n",
    "\n",
    "loss.backward()"
   ]
  },
  {
   "cell_type": "code",
   "execution_count": 7,
   "metadata": {},
   "outputs": [
    {
     "data": {
      "text/plain": [
       "[[ 0.2074827 ]\n",
       " [ 0.3638175 ]\n",
       " [ 0.06378939]\n",
       " [ 0.0347751 ]]\n",
       "[syft.FloatTensor:3471 grad:3473 size:4x1 c:[] p:[3470, 3472] init:pow_scalar]\n",
       "\n",
       "\t-----------creators-----------\n",
       "\t[syft.FloatTensor:3470 grad:3476 size:4x1 c:[3471, 3474] p:[3469, 3465] init:sub_elem]\n",
       "\t[syft.FloatTensor:3472 grad:None size:1 c:[] p:[] init:pow_scalar]\n",
       "\t------------------------------\n",
       "\n"
      ]
     },
     "execution_count": 7,
     "metadata": {},
     "output_type": "execute_result"
    }
   ],
   "source": [
    "loss"
   ]
  },
  {
   "cell_type": "code",
   "execution_count": null,
   "metadata": {
    "collapsed": true
   },
   "outputs": [],
   "source": []
  },
  {
   "cell_type": "code",
   "execution_count": 10,
   "metadata": {},
   "outputs": [
    {
     "name": "stdout",
     "output_type": "stream",
     "text": [
      "0.66986469\n",
      "0.43789802\n",
      "0.29123289\n",
      "0.17897547\n",
      "0.1187741\n",
      "0.08650904\n",
      "0.06791474\n",
      "0.05527423\n",
      "0.046243944\n",
      "0.039532873\n",
      "0.034382926\n",
      "0.030325583\n",
      "0.027058454\n",
      "0.024378822\n",
      "0.022146405\n"
     ]
    }
   ],
   "source": [
    "for i in range(15):\n",
    "    \n",
    "    pred = model(input)\n",
    "    \n",
    "    loss = (pred - target) ** 2\n",
    "    \n",
    "    loss.backward()\n",
    "    \n",
    "    # note: zeroing out gradients has to happen by hand\n",
    "    for p in model.parameters():\n",
    "        p -= p.grad()\n",
    "        \n",
    "    print(loss.to_numpy().sum())"
   ]
  },
  {
   "cell_type": "code",
   "execution_count": null,
   "metadata": {
    "collapsed": true
   },
   "outputs": [],
   "source": []
  }
 ],
 "metadata": {
  "kernelspec": {
   "display_name": "Python 3",
   "language": "python",
   "name": "python3"
  },
  "language_info": {
   "codemirror_mode": {
    "name": "ipython",
    "version": 3
   },
   "file_extension": ".py",
   "mimetype": "text/x-python",
   "name": "python",
   "nbconvert_exporter": "python",
   "pygments_lexer": "ipython3",
   "version": "3.6.1"
  }
 },
 "nbformat": 4,
 "nbformat_minor": 2
}
